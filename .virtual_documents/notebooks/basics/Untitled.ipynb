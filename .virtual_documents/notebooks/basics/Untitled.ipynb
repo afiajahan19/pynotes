import os
from constants import OPENAI_API_KEY
os.environ["OPENAI_API_KEY"] = OPENAI_API_KEY




