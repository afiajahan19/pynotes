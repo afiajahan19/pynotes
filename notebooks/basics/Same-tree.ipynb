{
 "cells": [
  {
   "cell_type": "code",
   "execution_count": 1,
   "id": "b47691cc-6ea1-4b84-a8dd-db8ede075e66",
   "metadata": {},
   "outputs": [
    {
     "name": "stdout",
     "output_type": "stream",
     "text": [
      "Trees are the same: True\n"
     ]
    }
   ],
   "source": [
    "# Problem: 100. Same Tree\n",
    "# Checks whether two binary trees are the same\n",
    "\n",
    "class TreeNode:\n",
    "    def __init__(self, val=0, left=None, right=None):\n",
    "        self.val = val\n",
    "        self.left = left\n",
    "        self.right = right\n",
    "\n",
    "def isSameTree(p: TreeNode, q: TreeNode) -> bool:\n",
    "    if not p and not q:\n",
    "        return True\n",
    "    if not p or not q:\n",
    "        return False\n",
    "    if p.val != q.val:\n",
    "        return False\n",
    "    return isSameTree(p.left, q.left) and isSameTree(p.right, q.right)\n",
    "\n",
    "# Helper function to build a binary tree from a list\n",
    "def build_tree(nodes):\n",
    "    if not nodes:\n",
    "        return None\n",
    "    root = TreeNode(nodes[0])\n",
    "    queue = [root]\n",
    "    front = 0\n",
    "    index = 1\n",
    "    while index < len(nodes):\n",
    "        node = queue[front]\n",
    "        front += 1\n",
    "        if index < len(nodes) and nodes[index] is not None:\n",
    "            node.left = TreeNode(nodes[index])\n",
    "            queue.append(node.left)\n",
    "        index += 1\n",
    "        if index < len(nodes) and nodes[index] is not None:\n",
    "            node.right = TreeNode(nodes[index])\n",
    "            queue.append(node.right)\n",
    "        index += 1\n",
    "    return root\n",
    "\n",
    "# Sample trees\n",
    "tree1 = build_tree([1, 2, 3])\n",
    "tree2 = build_tree([1, 2, 3])\n",
    "\n",
    "# Check if both trees are the same\n",
    "print(\"Trees are the same:\", isSameTree(tree1, tree2))  # Output: True\n"
   ]
  },
  {
   "cell_type": "code",
   "execution_count": null,
   "id": "ec05cae0-5d11-4859-88df-fafe291a9790",
   "metadata": {},
   "outputs": [],
   "source": []
  }
 ],
 "metadata": {
  "kernelspec": {
   "display_name": "Python 3 (ipykernel)",
   "language": "python",
   "name": "python3"
  },
  "language_info": {
   "codemirror_mode": {
    "name": "ipython",
    "version": 3
   },
   "file_extension": ".py",
   "mimetype": "text/x-python",
   "name": "python",
   "nbconvert_exporter": "python",
   "pygments_lexer": "ipython3",
   "version": "3.12.11"
  }
 },
 "nbformat": 4,
 "nbformat_minor": 5
}
