{
 "cells": [
  {
   "cell_type": "code",
   "execution_count": 6,
   "id": "c1685244-8284-4a8f-9050-2de767a8a01d",
   "metadata": {},
   "outputs": [],
   "source": [
    "import pandas as pd"
   ]
  },
  {
   "cell_type": "code",
   "execution_count": 7,
   "id": "dc500eee-7d21-4d63-a043-af9321489a94",
   "metadata": {},
   "outputs": [],
   "source": [
    "data = {\n",
    "    'Month' : [1, 2, 3],\n",
    "    'Temp' : [7, -18, -20]\n",
    "}"
   ]
  },
  {
   "cell_type": "code",
   "execution_count": 8,
   "id": "7a8c243a-72a2-4a11-b631-e2ddf3890a62",
   "metadata": {},
   "outputs": [
    {
     "data": {
      "text/plain": [
       "{'Month': [1, 2, 3], 'Temp': [7, -18, -20]}"
      ]
     },
     "execution_count": 8,
     "metadata": {},
     "output_type": "execute_result"
    }
   ],
   "source": [
    "data"
   ]
  },
  {
   "cell_type": "code",
   "execution_count": 9,
   "id": "58c30552-8c2b-4f86-9d66-cd47e73f692f",
   "metadata": {},
   "outputs": [
    {
     "data": {
      "text/plain": [
       "dict"
      ]
     },
     "execution_count": 9,
     "metadata": {},
     "output_type": "execute_result"
    }
   ],
   "source": [
    "type(data)"
   ]
  },
  {
   "cell_type": "code",
   "execution_count": 10,
   "id": "61e652b8-7008-47dc-bc1c-a44bbd400ec1",
   "metadata": {},
   "outputs": [],
   "source": [
    "df = pd.DataFrame(data)"
   ]
  },
  {
   "cell_type": "code",
   "execution_count": 11,
   "id": "74b7a3f3-1842-4503-905f-a9dbc0eb15fa",
   "metadata": {},
   "outputs": [
    {
     "data": {
      "text/html": [
       "<div>\n",
       "<style scoped>\n",
       "    .dataframe tbody tr th:only-of-type {\n",
       "        vertical-align: middle;\n",
       "    }\n",
       "\n",
       "    .dataframe tbody tr th {\n",
       "        vertical-align: top;\n",
       "    }\n",
       "\n",
       "    .dataframe thead th {\n",
       "        text-align: right;\n",
       "    }\n",
       "</style>\n",
       "<table border=\"1\" class=\"dataframe\">\n",
       "  <thead>\n",
       "    <tr style=\"text-align: right;\">\n",
       "      <th></th>\n",
       "      <th>Month</th>\n",
       "      <th>Temp</th>\n",
       "    </tr>\n",
       "  </thead>\n",
       "  <tbody>\n",
       "    <tr>\n",
       "      <th>0</th>\n",
       "      <td>1</td>\n",
       "      <td>7</td>\n",
       "    </tr>\n",
       "    <tr>\n",
       "      <th>1</th>\n",
       "      <td>2</td>\n",
       "      <td>-18</td>\n",
       "    </tr>\n",
       "    <tr>\n",
       "      <th>2</th>\n",
       "      <td>3</td>\n",
       "      <td>-20</td>\n",
       "    </tr>\n",
       "  </tbody>\n",
       "</table>\n",
       "</div>"
      ],
      "text/plain": [
       "   Month  Temp\n",
       "0      1     7\n",
       "1      2   -18\n",
       "2      3   -20"
      ]
     },
     "execution_count": 11,
     "metadata": {},
     "output_type": "execute_result"
    }
   ],
   "source": [
    "df"
   ]
  },
  {
   "cell_type": "code",
   "execution_count": 12,
   "id": "9956a63c-d651-4f5f-81a6-bf47e63efddb",
   "metadata": {},
   "outputs": [
    {
     "name": "stderr",
     "output_type": "stream",
     "text": [
      "C:\\Users\\Afia Jahan\\AppData\\Local\\Temp\\ipykernel_83692\\2120804568.py:9: FutureWarning: Styler.applymap has been deprecated. Use Styler.map instead.\n",
      "  df.style.applymap(color_negative_red)\n"
     ]
    },
    {
     "data": {
      "text/html": [
       "<style type=\"text/css\">\n",
       "#T_15e5e_row0_col0, #T_15e5e_row0_col1, #T_15e5e_row1_col0, #T_15e5e_row2_col0 {\n",
       "  color: black;\n",
       "}\n",
       "#T_15e5e_row1_col1, #T_15e5e_row2_col1 {\n",
       "  color: red;\n",
       "}\n",
       "</style>\n",
       "<table id=\"T_15e5e\">\n",
       "  <thead>\n",
       "    <tr>\n",
       "      <th class=\"blank level0\" >&nbsp;</th>\n",
       "      <th id=\"T_15e5e_level0_col0\" class=\"col_heading level0 col0\" >Month</th>\n",
       "      <th id=\"T_15e5e_level0_col1\" class=\"col_heading level0 col1\" >Temp</th>\n",
       "    </tr>\n",
       "  </thead>\n",
       "  <tbody>\n",
       "    <tr>\n",
       "      <th id=\"T_15e5e_level0_row0\" class=\"row_heading level0 row0\" >0</th>\n",
       "      <td id=\"T_15e5e_row0_col0\" class=\"data row0 col0\" >1</td>\n",
       "      <td id=\"T_15e5e_row0_col1\" class=\"data row0 col1\" >7</td>\n",
       "    </tr>\n",
       "    <tr>\n",
       "      <th id=\"T_15e5e_level0_row1\" class=\"row_heading level0 row1\" >1</th>\n",
       "      <td id=\"T_15e5e_row1_col0\" class=\"data row1 col0\" >2</td>\n",
       "      <td id=\"T_15e5e_row1_col1\" class=\"data row1 col1\" >-18</td>\n",
       "    </tr>\n",
       "    <tr>\n",
       "      <th id=\"T_15e5e_level0_row2\" class=\"row_heading level0 row2\" >2</th>\n",
       "      <td id=\"T_15e5e_row2_col0\" class=\"data row2 col0\" >3</td>\n",
       "      <td id=\"T_15e5e_row2_col1\" class=\"data row2 col1\" >-20</td>\n",
       "    </tr>\n",
       "  </tbody>\n",
       "</table>\n"
      ],
      "text/plain": [
       "<pandas.io.formats.style.Styler at 0x1f50dbfeb70>"
      ]
     },
     "execution_count": 12,
     "metadata": {},
     "output_type": "execute_result"
    }
   ],
   "source": [
    "def color_negative_red(val):\n",
    "    \"\"\"\n",
    "    Takes a scalar and returns a string with\n",
    "    the css property `'color: red'` for negative\n",
    "    strings, black otherwise.\n",
    "    \"\"\"\n",
    "    color = 'red' if val < 0 else 'black'\n",
    "    return 'color: %s' % color\n",
    "df.style.applymap(color_negative_red)"
   ]
  },
  {
   "cell_type": "code",
   "execution_count": 13,
   "id": "395f8ba8-5dd7-41b0-9f1b-d7b00e58f4ca",
   "metadata": {},
   "outputs": [
    {
     "data": {
      "text/html": [
       "<div>\n",
       "<style scoped>\n",
       "    .dataframe tbody tr th:only-of-type {\n",
       "        vertical-align: middle;\n",
       "    }\n",
       "\n",
       "    .dataframe tbody tr th {\n",
       "        vertical-align: top;\n",
       "    }\n",
       "\n",
       "    .dataframe thead th {\n",
       "        text-align: right;\n",
       "    }\n",
       "</style>\n",
       "<table border=\"1\" class=\"dataframe\">\n",
       "  <thead>\n",
       "    <tr style=\"text-align: right;\">\n",
       "      <th></th>\n",
       "      <th>Month</th>\n",
       "      <th>Temp</th>\n",
       "    </tr>\n",
       "  </thead>\n",
       "  <tbody>\n",
       "    <tr>\n",
       "      <th>0</th>\n",
       "      <td>1</td>\n",
       "      <td>7</td>\n",
       "    </tr>\n",
       "    <tr>\n",
       "      <th>1</th>\n",
       "      <td>2</td>\n",
       "      <td>-18</td>\n",
       "    </tr>\n",
       "    <tr>\n",
       "      <th>2</th>\n",
       "      <td>3</td>\n",
       "      <td>-20</td>\n",
       "    </tr>\n",
       "  </tbody>\n",
       "</table>\n",
       "</div>"
      ],
      "text/plain": [
       "   Month  Temp\n",
       "0      1     7\n",
       "1      2   -18\n",
       "2      3   -20"
      ]
     },
     "execution_count": 13,
     "metadata": {},
     "output_type": "execute_result"
    }
   ],
   "source": [
    "df"
   ]
  },
  {
   "cell_type": "code",
   "execution_count": 14,
   "id": "130d1344-0a7d-451b-9f76-f7b0928ceb6d",
   "metadata": {},
   "outputs": [
    {
     "data": {
      "text/html": [
       "<style type=\"text/css\">\n",
       "#T_c2d1b_row0_col1, #T_c2d1b_row2_col0 {\n",
       "  background-color: yellow;\n",
       "}\n",
       "</style>\n",
       "<table id=\"T_c2d1b\">\n",
       "  <thead>\n",
       "    <tr>\n",
       "      <th class=\"blank level0\" >&nbsp;</th>\n",
       "      <th id=\"T_c2d1b_level0_col0\" class=\"col_heading level0 col0\" >Month</th>\n",
       "      <th id=\"T_c2d1b_level0_col1\" class=\"col_heading level0 col1\" >Temp</th>\n",
       "    </tr>\n",
       "  </thead>\n",
       "  <tbody>\n",
       "    <tr>\n",
       "      <th id=\"T_c2d1b_level0_row0\" class=\"row_heading level0 row0\" >0</th>\n",
       "      <td id=\"T_c2d1b_row0_col0\" class=\"data row0 col0\" >1</td>\n",
       "      <td id=\"T_c2d1b_row0_col1\" class=\"data row0 col1\" >7</td>\n",
       "    </tr>\n",
       "    <tr>\n",
       "      <th id=\"T_c2d1b_level0_row1\" class=\"row_heading level0 row1\" >1</th>\n",
       "      <td id=\"T_c2d1b_row1_col0\" class=\"data row1 col0\" >2</td>\n",
       "      <td id=\"T_c2d1b_row1_col1\" class=\"data row1 col1\" >-18</td>\n",
       "    </tr>\n",
       "    <tr>\n",
       "      <th id=\"T_c2d1b_level0_row2\" class=\"row_heading level0 row2\" >2</th>\n",
       "      <td id=\"T_c2d1b_row2_col0\" class=\"data row2 col0\" >3</td>\n",
       "      <td id=\"T_c2d1b_row2_col1\" class=\"data row2 col1\" >-20</td>\n",
       "    </tr>\n",
       "  </tbody>\n",
       "</table>\n"
      ],
      "text/plain": [
       "<pandas.io.formats.style.Styler at 0x1f50d616270>"
      ]
     },
     "execution_count": 14,
     "metadata": {},
     "output_type": "execute_result"
    }
   ],
   "source": [
    "# Highlight max (axis = 0)\n",
    "# https://pandas.pydata.org/pandas-docs/stable/user_guide/style.html\n",
    "\n",
    "df.style.highlight_max(axis = 0)"
   ]
  },
  {
   "cell_type": "code",
   "execution_count": 15,
   "id": "a648b10b-0142-4095-bbfc-cc26548ecbed",
   "metadata": {},
   "outputs": [],
   "source": [
    "def highlight_max_rj(s, color = 'lightgreen'):\n",
    "    '''\n",
    "    highlight the maximum in a Series yellow.\n",
    "    '''\n",
    "    is_max = s == s.max()\n",
    "    return ['background-color: '+color if v else '' for v in is_max]"
   ]
  },
  {
   "cell_type": "code",
   "execution_count": 16,
   "id": "a47ea4a0-81d0-4ee0-a92e-47708f68925c",
   "metadata": {},
   "outputs": [
    {
     "data": {
      "text/html": [
       "<style type=\"text/css\">\n",
       "#T_315c6_row0_col1 {\n",
       "  background-color: lightblue;\n",
       "}\n",
       "</style>\n",
       "<table id=\"T_315c6\">\n",
       "  <thead>\n",
       "    <tr>\n",
       "      <th class=\"blank level0\" >&nbsp;</th>\n",
       "      <th id=\"T_315c6_level0_col0\" class=\"col_heading level0 col0\" >Month</th>\n",
       "      <th id=\"T_315c6_level0_col1\" class=\"col_heading level0 col1\" >Temp</th>\n",
       "    </tr>\n",
       "  </thead>\n",
       "  <tbody>\n",
       "    <tr>\n",
       "      <th id=\"T_315c6_level0_row0\" class=\"row_heading level0 row0\" >0</th>\n",
       "      <td id=\"T_315c6_row0_col0\" class=\"data row0 col0\" >1</td>\n",
       "      <td id=\"T_315c6_row0_col1\" class=\"data row0 col1\" >7</td>\n",
       "    </tr>\n",
       "    <tr>\n",
       "      <th id=\"T_315c6_level0_row1\" class=\"row_heading level0 row1\" >1</th>\n",
       "      <td id=\"T_315c6_row1_col0\" class=\"data row1 col0\" >2</td>\n",
       "      <td id=\"T_315c6_row1_col1\" class=\"data row1 col1\" >-18</td>\n",
       "    </tr>\n",
       "    <tr>\n",
       "      <th id=\"T_315c6_level0_row2\" class=\"row_heading level0 row2\" >2</th>\n",
       "      <td id=\"T_315c6_row2_col0\" class=\"data row2 col0\" >3</td>\n",
       "      <td id=\"T_315c6_row2_col1\" class=\"data row2 col1\" >-20</td>\n",
       "    </tr>\n",
       "  </tbody>\n",
       "</table>\n"
      ],
      "text/plain": [
       "<pandas.io.formats.style.Styler at 0x1f50dc10c20>"
      ]
     },
     "execution_count": 16,
     "metadata": {},
     "output_type": "execute_result"
    }
   ],
   "source": [
    "df.style.apply(highlight_max_rj, color = 'lightblue',  axis = 0, subset=['Temp'])"
   ]
  },
  {
   "cell_type": "code",
   "execution_count": 17,
   "id": "5846bc50-7269-40ab-b77c-e846a428bd2d",
   "metadata": {},
   "outputs": [
    {
     "data": {
      "text/html": [
       "<style type=\"text/css\">\n",
       "#T_c6d6c_row0_col1, #T_c6d6c_row1_col1, #T_c6d6c_row2_col1 {\n",
       "  background-color: lightgreen;\n",
       "}\n",
       "</style>\n",
       "<table id=\"T_c6d6c\">\n",
       "  <thead>\n",
       "    <tr>\n",
       "      <th class=\"blank level0\" >&nbsp;</th>\n",
       "      <th id=\"T_c6d6c_level0_col0\" class=\"col_heading level0 col0\" >Month</th>\n",
       "      <th id=\"T_c6d6c_level0_col1\" class=\"col_heading level0 col1\" >Temp</th>\n",
       "    </tr>\n",
       "  </thead>\n",
       "  <tbody>\n",
       "    <tr>\n",
       "      <th id=\"T_c6d6c_level0_row0\" class=\"row_heading level0 row0\" >0</th>\n",
       "      <td id=\"T_c6d6c_row0_col0\" class=\"data row0 col0\" >1</td>\n",
       "      <td id=\"T_c6d6c_row0_col1\" class=\"data row0 col1\" >7</td>\n",
       "    </tr>\n",
       "    <tr>\n",
       "      <th id=\"T_c6d6c_level0_row1\" class=\"row_heading level0 row1\" >1</th>\n",
       "      <td id=\"T_c6d6c_row1_col0\" class=\"data row1 col0\" >2</td>\n",
       "      <td id=\"T_c6d6c_row1_col1\" class=\"data row1 col1\" >-18</td>\n",
       "    </tr>\n",
       "    <tr>\n",
       "      <th id=\"T_c6d6c_level0_row2\" class=\"row_heading level0 row2\" >2</th>\n",
       "      <td id=\"T_c6d6c_row2_col0\" class=\"data row2 col0\" >3</td>\n",
       "      <td id=\"T_c6d6c_row2_col1\" class=\"data row2 col1\" >-20</td>\n",
       "    </tr>\n",
       "  </tbody>\n",
       "</table>\n"
      ],
      "text/plain": [
       "<pandas.io.formats.style.Styler at 0x1f50dc10620>"
      ]
     },
     "execution_count": 17,
     "metadata": {},
     "output_type": "execute_result"
    }
   ],
   "source": [
    "df.style.apply(highlight_max_rj, axis = 1, subset = ['Temp'])"
   ]
  },
  {
   "cell_type": "code",
   "execution_count": null,
   "id": "cf0dd600-fa1b-471c-9333-49c4458c4d1c",
   "metadata": {},
   "outputs": [],
   "source": []
  }
 ],
 "metadata": {
  "kernelspec": {
   "display_name": "Python 3 (ipykernel)",
   "language": "python",
   "name": "python3"
  },
  "language_info": {
   "codemirror_mode": {
    "name": "ipython",
    "version": 3
   },
   "file_extension": ".py",
   "mimetype": "text/x-python",
   "name": "python",
   "nbconvert_exporter": "python",
   "pygments_lexer": "ipython3",
   "version": "3.12.11"
  }
 },
 "nbformat": 4,
 "nbformat_minor": 5
}
