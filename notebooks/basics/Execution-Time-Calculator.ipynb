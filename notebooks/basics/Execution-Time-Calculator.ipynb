{
 "cells": [
  {
   "cell_type": "code",
   "execution_count": 1,
   "id": "9ceccaf6-c641-4dac-897e-40d28f4bc0c4",
   "metadata": {},
   "outputs": [],
   "source": [
    "import random\n",
    "import time"
   ]
  },
  {
   "cell_type": "code",
   "execution_count": 2,
   "id": "71415514-247c-470c-86e5-4de8281dc406",
   "metadata": {},
   "outputs": [],
   "source": [
    "# PythonDecorators/entry_exit_class.py\n",
    "class execution_time_calculator(object):\n",
    "\n",
    "    def __init__(self, f):\n",
    "        self.f = f\n",
    "\n",
    "    def __call__(self):\n",
    "        start = int(round(time.time() * 1000))\n",
    "        print(\"Entering\", self.f.__name__)\n",
    "        self.f()\n",
    "        end = int(round(time.time() * 1000))\n",
    "        #print(\"Exited\", self.f.__name__)\n",
    "        print(\"Time taken : \"+str((end-start)) + ' milli seconds')"
   ]
  },
  {
   "cell_type": "code",
   "execution_count": 3,
   "id": "86ee55d9-0a41-40c5-8355-e54d4c0930d9",
   "metadata": {},
   "outputs": [],
   "source": [
    "@execution_time_calculator\n",
    "def func1():\n",
    "    seconds = random.randint(5, 15)    \n",
    "    print(\"inside func2() sleeping for \"+str(seconds) + \" seconds\")\n",
    "    time.sleep(seconds)"
   ]
  },
  {
   "cell_type": "code",
   "execution_count": 4,
   "id": "cfe12ba6-b52a-4989-a316-7ae52eefcbd6",
   "metadata": {},
   "outputs": [
    {
     "name": "stdout",
     "output_type": "stream",
     "text": [
      "Entering func1\n",
      "inside func2() sleeping for 15 seconds\n",
      "Time taken : 15004 milli seconds\n"
     ]
    }
   ],
   "source": [
    "func1()"
   ]
  },
  {
   "cell_type": "code",
   "execution_count": null,
   "id": "68a954a7-e744-4e03-a33a-54865f255231",
   "metadata": {},
   "outputs": [],
   "source": []
  }
 ],
 "metadata": {
  "kernelspec": {
   "display_name": "Python 3 (ipykernel)",
   "language": "python",
   "name": "python3"
  },
  "language_info": {
   "codemirror_mode": {
    "name": "ipython",
    "version": 3
   },
   "file_extension": ".py",
   "mimetype": "text/x-python",
   "name": "python",
   "nbconvert_exporter": "python",
   "pygments_lexer": "ipython3",
   "version": "3.12.11"
  }
 },
 "nbformat": 4,
 "nbformat_minor": 5
}
