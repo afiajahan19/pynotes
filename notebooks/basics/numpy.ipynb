{
 "cells": [
  {
   "cell_type": "code",
   "execution_count": 5,
   "id": "1fc519dc-5dd9-4aef-83d6-8bc493237bb5",
   "metadata": {},
   "outputs": [
    {
     "name": "stdout",
     "output_type": "stream",
     "text": [
      "[1 2 3]\n"
     ]
    }
   ],
   "source": [
    "import numpy as np\n",
    "a = np.array([1, 2, 3])\n",
    "print(a)"
   ]
  },
  {
   "cell_type": "code",
   "execution_count": 6,
   "id": "b2354138-d000-40de-a62f-dbb899c91e13",
   "metadata": {},
   "outputs": [
    {
     "name": "stdout",
     "output_type": "stream",
     "text": [
      "[[1 2]\n",
      " [3 4]]\n"
     ]
    }
   ],
   "source": [
    "b = np.array([[1, 2], [3, 4]])\n",
    "print(b)"
   ]
  },
  {
   "cell_type": "code",
   "execution_count": 7,
   "id": "e064d09e-aef6-47bc-a528-750f209271b7",
   "metadata": {},
   "outputs": [
    {
     "name": "stdout",
     "output_type": "stream",
     "text": [
      "[[0. 0. 0.]\n",
      " [0. 0. 0.]]\n"
     ]
    }
   ],
   "source": [
    "c = np.zeros((2, 3))\n",
    "print(c)"
   ]
  },
  {
   "cell_type": "code",
   "execution_count": 8,
   "id": "8ba59241-42cd-48e5-9da3-cc04bd3b7f23",
   "metadata": {},
   "outputs": [
    {
     "name": "stdout",
     "output_type": "stream",
     "text": [
      "[[1. 1. 1.]\n",
      " [1. 1. 1.]\n",
      " [1. 1. 1.]]\n"
     ]
    }
   ],
   "source": [
    "d = np.ones((3, 3))\n",
    "print(d)"
   ]
  },
  {
   "cell_type": "code",
   "execution_count": 9,
   "id": "c1d3ecb3-6bef-4467-b2fd-5e686f83f71e",
   "metadata": {},
   "outputs": [
    {
     "name": "stdout",
     "output_type": "stream",
     "text": [
      "[[7 7]\n",
      " [7 7]]\n"
     ]
    }
   ],
   "source": [
    "e = np.full((2, 2), 7)\n",
    "print(e)"
   ]
  },
  {
   "cell_type": "code",
   "execution_count": 10,
   "id": "48bf9aea-047d-4033-a89d-cedf5f2a5249",
   "metadata": {},
   "outputs": [
    {
     "name": "stdout",
     "output_type": "stream",
     "text": [
      "[[1. 0. 0. 0.]\n",
      " [0. 1. 0. 0.]\n",
      " [0. 0. 1. 0.]\n",
      " [0. 0. 0. 1.]]\n"
     ]
    }
   ],
   "source": [
    "f = np.eye(4)\n",
    "print(f)"
   ]
  },
  {
   "cell_type": "code",
   "execution_count": 11,
   "id": "a6ceb8a1-fa42-4375-9d0d-f5a89da860a6",
   "metadata": {},
   "outputs": [
    {
     "name": "stdout",
     "output_type": "stream",
     "text": [
      "[[0.04927822 0.11759621 0.49047753]\n",
      " [0.90124012 0.36407857 0.2998955 ]]\n"
     ]
    }
   ],
   "source": [
    "g = np.random.rand(2, 3)\n",
    "print(g)"
   ]
  },
  {
   "cell_type": "code",
   "execution_count": 12,
   "id": "9df8c84b-6c44-4bad-aca5-b38a952e76a6",
   "metadata": {},
   "outputs": [
    {
     "name": "stdout",
     "output_type": "stream",
     "text": [
      "[[6 4 2]\n",
      " [1 6 0]\n",
      " [2 8 6]]\n"
     ]
    }
   ],
   "source": [
    "h = np.random.randint(0, 10, (3, 3))\n",
    "print(h)"
   ]
  },
  {
   "cell_type": "code",
   "execution_count": 13,
   "id": "0b1d733e-128a-4dc1-a357-275afe413138",
   "metadata": {},
   "outputs": [
    {
     "name": "stdout",
     "output_type": "stream",
     "text": [
      "[0 2 4 6 8]\n"
     ]
    }
   ],
   "source": [
    "i = np.arange(0, 10, 2)\n",
    "print(i)"
   ]
  },
  {
   "cell_type": "code",
   "execution_count": 14,
   "id": "545c258a-0975-4ad4-a7b1-1768f2d0d102",
   "metadata": {},
   "outputs": [
    {
     "name": "stdout",
     "output_type": "stream",
     "text": [
      "[0.   0.25 0.5  0.75 1.  ]\n"
     ]
    }
   ],
   "source": [
    "j = np.linspace(0, 1, 5)\n",
    "print(j)"
   ]
  },
  {
   "cell_type": "code",
   "execution_count": 15,
   "id": "77f93cb8-9361-4f0c-bea1-5d4590b9b77f",
   "metadata": {},
   "outputs": [
    {
     "name": "stdout",
     "output_type": "stream",
     "text": [
      "(3,)\n"
     ]
    }
   ],
   "source": [
    "print(a.shape)"
   ]
  },
  {
   "cell_type": "code",
   "execution_count": 16,
   "id": "9d4555b4-fc94-46a4-bdc0-30996d5b6bf4",
   "metadata": {},
   "outputs": [
    {
     "name": "stdout",
     "output_type": "stream",
     "text": [
      "2\n"
     ]
    }
   ],
   "source": [
    "print(b.ndim)\n"
   ]
  },
  {
   "cell_type": "code",
   "execution_count": 17,
   "id": "34fc0a06-f6ff-4246-9ed2-a0cf460a200f",
   "metadata": {},
   "outputs": [
    {
     "name": "stdout",
     "output_type": "stream",
     "text": [
      "6\n"
     ]
    }
   ],
   "source": [
    "print(c.size)\n"
   ]
  },
  {
   "cell_type": "code",
   "execution_count": 18,
   "id": "2ae0ca3b-fd6a-4156-ade0-dd3c475135ef",
   "metadata": {},
   "outputs": [
    {
     "name": "stdout",
     "output_type": "stream",
     "text": [
      "float64\n"
     ]
    }
   ],
   "source": [
    "print(d.dtype)"
   ]
  },
  {
   "cell_type": "code",
   "execution_count": 19,
   "id": "bb41a1bb-487b-4cda-9aad-b71fccdc34a5",
   "metadata": {},
   "outputs": [
    {
     "name": "stdout",
     "output_type": "stream",
     "text": [
      "[[6 4 2 1 6 0 2 8 6]]\n"
     ]
    }
   ],
   "source": [
    "reshaped = np.reshape(h, (1, 9))\n",
    "print(reshaped)"
   ]
  },
  {
   "cell_type": "code",
   "execution_count": 20,
   "id": "cc8fe7d1-685e-4b54-98ad-62862c290e9b",
   "metadata": {},
   "outputs": [
    {
     "name": "stdout",
     "output_type": "stream",
     "text": [
      "[6 4 2 1 6 0 2 8 6]\n"
     ]
    }
   ],
   "source": [
    "print(h.flatten())\n"
   ]
  },
  {
   "cell_type": "code",
   "execution_count": 21,
   "id": "6dc58cc9-6688-43a0-9ffc-0fed85a70f24",
   "metadata": {},
   "outputs": [
    {
     "name": "stdout",
     "output_type": "stream",
     "text": [
      "[6 4 2 1 6 0 2 8 6]\n"
     ]
    }
   ],
   "source": [
    "print(h.flatten())\n"
   ]
  },
  {
   "cell_type": "code",
   "execution_count": 22,
   "id": "23a7b040-226c-4b17-822e-bc8274d8b2c3",
   "metadata": {},
   "outputs": [
    {
     "name": "stdout",
     "output_type": "stream",
     "text": [
      "[1. 2. 3.]\n"
     ]
    }
   ],
   "source": [
    "float_arr = a.astype(float)\n",
    "print(float_arr)"
   ]
  },
  {
   "cell_type": "code",
   "execution_count": 23,
   "id": "798828d7-a47a-4f84-be8c-71387e24b07e",
   "metadata": {},
   "outputs": [
    {
     "name": "stdout",
     "output_type": "stream",
     "text": [
      "24\n"
     ]
    }
   ],
   "source": [
    "print(a.nbytes)\n"
   ]
  },
  {
   "cell_type": "code",
   "execution_count": 24,
   "id": "3c78e2e0-c855-4471-8142-c9db6f10a88f",
   "metadata": {},
   "outputs": [
    {
     "name": "stdout",
     "output_type": "stream",
     "text": [
      "[[6 4 2]\n",
      " [1 6 0]\n",
      " [2 8 6]]\n"
     ]
    }
   ],
   "source": [
    "view = h.view()\n",
    "print(view)"
   ]
  },
  {
   "cell_type": "code",
   "execution_count": 25,
   "id": "b29db456-2e1c-4fd4-aa45-3febfbdaa302",
   "metadata": {},
   "outputs": [
    {
     "name": "stdout",
     "output_type": "stream",
     "text": [
      "2\n"
     ]
    }
   ],
   "source": [
    "print(a[1])"
   ]
  },
  {
   "cell_type": "code",
   "execution_count": 26,
   "id": "3e54eb68-cbeb-4300-9b76-0ed08d73a857",
   "metadata": {},
   "outputs": [
    {
     "name": "stdout",
     "output_type": "stream",
     "text": [
      "[2 3]\n"
     ]
    }
   ],
   "source": [
    "print(a[1:3])\n"
   ]
  },
  {
   "cell_type": "code",
   "execution_count": 27,
   "id": "529089d7-0834-4195-b5bb-1c6acdbd51f2",
   "metadata": {},
   "outputs": [
    {
     "name": "stdout",
     "output_type": "stream",
     "text": [
      "[2 4]\n"
     ]
    }
   ],
   "source": [
    "print(b[0:2, 1])"
   ]
  },
  {
   "cell_type": "code",
   "execution_count": 28,
   "id": "f8d8bc25-18b6-4459-b65a-7381d0c231cf",
   "metadata": {},
   "outputs": [
    {
     "name": "stdout",
     "output_type": "stream",
     "text": [
      "[2 3]\n"
     ]
    }
   ],
   "source": [
    "print(a[a > 1])"
   ]
  },
  {
   "cell_type": "code",
   "execution_count": 29,
   "id": "57ffc275-9bee-49eb-94d9-93e41b2bed77",
   "metadata": {},
   "outputs": [
    {
     "name": "stdout",
     "output_type": "stream",
     "text": [
      "[1 3]\n"
     ]
    }
   ],
   "source": [
    "print(a[[0, 2]])\n"
   ]
  },
  {
   "cell_type": "code",
   "execution_count": 30,
   "id": "ab8a3871-f261-421b-8a77-7182bb4386e4",
   "metadata": {},
   "outputs": [
    {
     "name": "stdout",
     "output_type": "stream",
     "text": [
      "[10  2  3]\n"
     ]
    }
   ],
   "source": [
    "a[0] = 10\n",
    "print(a)"
   ]
  },
  {
   "cell_type": "code",
   "execution_count": 31,
   "id": "e2de5fb7-631b-459b-921b-2329fc2f0952",
   "metadata": {},
   "outputs": [
    {
     "name": "stdout",
     "output_type": "stream",
     "text": [
      "[0 2 3]\n"
     ]
    }
   ],
   "source": [
    "a[a > 5] = 0\n",
    "print(a)"
   ]
  },
  {
   "cell_type": "code",
   "execution_count": 32,
   "id": "0be1502b-8a84-44b3-8162-74a52ebbeb6d",
   "metadata": {},
   "outputs": [
    {
     "name": "stdout",
     "output_type": "stream",
     "text": [
      "[3 4]\n"
     ]
    }
   ],
   "source": [
    "print(b[1])\n"
   ]
  },
  {
   "cell_type": "code",
   "execution_count": 33,
   "id": "b706d9bc-ce52-40de-8e7b-81230ae5f9a9",
   "metadata": {},
   "outputs": [
    {
     "name": "stdout",
     "output_type": "stream",
     "text": [
      "[1 3]\n"
     ]
    }
   ],
   "source": [
    "print(b[:, 0])"
   ]
  },
  {
   "cell_type": "code",
   "execution_count": 34,
   "id": "f14073d6-5598-423b-8849-c9a14b503755",
   "metadata": {},
   "outputs": [
    {
     "name": "stdout",
     "output_type": "stream",
     "text": [
      "[0 2 4 6 8]\n"
     ]
    }
   ],
   "source": [
    "print(np.arange(10)[::2])"
   ]
  },
  {
   "cell_type": "code",
   "execution_count": 35,
   "id": "63e0d654-c96f-4c83-97c7-0ac7f28a512b",
   "metadata": {},
   "outputs": [
    {
     "name": "stdout",
     "output_type": "stream",
     "text": [
      "[5 7 9]\n"
     ]
    }
   ],
   "source": [
    "x = np.array([1, 2, 3])\n",
    "y = np.array([4, 5, 6])\n",
    "print(x + y)"
   ]
  },
  {
   "cell_type": "code",
   "execution_count": 36,
   "id": "8a76369d-aa6c-4c26-b690-47862730add0",
   "metadata": {},
   "outputs": [
    {
     "name": "stdout",
     "output_type": "stream",
     "text": [
      "[-3 -3 -3]\n"
     ]
    }
   ],
   "source": [
    "print(x - y)\n"
   ]
  },
  {
   "cell_type": "code",
   "execution_count": 37,
   "id": "1ddbe9b8-e88c-4425-92e5-510c537d8fe2",
   "metadata": {},
   "outputs": [
    {
     "name": "stdout",
     "output_type": "stream",
     "text": [
      "[ 4 10 18]\n"
     ]
    }
   ],
   "source": [
    "print(x * y)"
   ]
  },
  {
   "cell_type": "code",
   "execution_count": 38,
   "id": "939ef5b6-b685-4d8f-9fb5-f2cbdcc89c48",
   "metadata": {},
   "outputs": [
    {
     "name": "stdout",
     "output_type": "stream",
     "text": [
      "[4.  2.5 2. ]\n"
     ]
    }
   ],
   "source": [
    "print(y / x)"
   ]
  },
  {
   "cell_type": "code",
   "execution_count": 39,
   "id": "0e2d8008-b4aa-48b8-85b8-657867862f90",
   "metadata": {},
   "outputs": [
    {
     "name": "stdout",
     "output_type": "stream",
     "text": [
      "[1 4 9]\n"
     ]
    }
   ],
   "source": [
    "print(x ** 2)\n"
   ]
  },
  {
   "cell_type": "code",
   "execution_count": 40,
   "id": "4e3ee9da-fae3-4327-8251-456531df8a1e",
   "metadata": {},
   "outputs": [
    {
     "name": "stdout",
     "output_type": "stream",
     "text": [
      "32\n"
     ]
    }
   ],
   "source": [
    "print(np.dot(x, y))"
   ]
  },
  {
   "cell_type": "code",
   "execution_count": 41,
   "id": "3b2a4ab3-9f24-4813-9947-4e7af39a1ec4",
   "metadata": {},
   "outputs": [
    {
     "name": "stdout",
     "output_type": "stream",
     "text": [
      "[[ 4  4]\n",
      " [10  8]]\n"
     ]
    }
   ],
   "source": [
    "mat1 = np.array([[1, 2], [3, 4]])\n",
    "mat2 = np.array([[2, 0], [1, 2]])\n",
    "print(np.matmul(mat1, mat2))"
   ]
  },
  {
   "cell_type": "code",
   "execution_count": 42,
   "id": "3fc30872-8b2d-419d-91a4-9679d2770b81",
   "metadata": {},
   "outputs": [
    {
     "name": "stdout",
     "output_type": "stream",
     "text": [
      "10\n"
     ]
    }
   ],
   "source": [
    "print(np.sum(mat1))"
   ]
  },
  {
   "cell_type": "code",
   "execution_count": 43,
   "id": "43fb2b1e-5225-4145-8ca1-8c31c56fb23d",
   "metadata": {},
   "outputs": [
    {
     "name": "stdout",
     "output_type": "stream",
     "text": [
      "2.0\n"
     ]
    }
   ],
   "source": [
    "print(np.mean(x))"
   ]
  },
  {
   "cell_type": "code",
   "execution_count": 44,
   "id": "f9777adf-bc56-4128-8f04-f605658a9bd4",
   "metadata": {},
   "outputs": [
    {
     "name": "stdout",
     "output_type": "stream",
     "text": [
      "0.816496580927726\n"
     ]
    }
   ],
   "source": [
    "print(np.std(x))"
   ]
  },
  {
   "cell_type": "code",
   "execution_count": 45,
   "id": "01124a7b-231a-42f0-9e79-0cbacdc57f3e",
   "metadata": {},
   "outputs": [
    {
     "name": "stdout",
     "output_type": "stream",
     "text": [
      "[6 7 8]\n"
     ]
    }
   ],
   "source": [
    "arr = np.array([1, 2, 3])\n",
    "print(arr + 5)\n"
   ]
  },
  {
   "cell_type": "code",
   "execution_count": 46,
   "id": "bc680825-40d4-478c-a74a-2f1c554ce40a",
   "metadata": {},
   "outputs": [
    {
     "name": "stdout",
     "output_type": "stream",
     "text": [
      "[3 6 9]\n"
     ]
    }
   ],
   "source": [
    "print(arr * 3)\n",
    "\n"
   ]
  },
  {
   "cell_type": "code",
   "execution_count": 47,
   "id": "9e87d4e5-c58e-4779-ac31-b8873d16e0e9",
   "metadata": {},
   "outputs": [
    {
     "name": "stdout",
     "output_type": "stream",
     "text": [
      "[[2 4 6]\n",
      " [5 7 9]]\n"
     ]
    }
   ],
   "source": [
    "mat = np.array([[1, 2, 3], [4, 5, 6]])\n",
    "print(mat + arr)"
   ]
  },
  {
   "cell_type": "code",
   "execution_count": 48,
   "id": "b54dbe00-7863-449c-bbf3-d3a3b518f69d",
   "metadata": {},
   "outputs": [
    {
     "name": "stdout",
     "output_type": "stream",
     "text": [
      "[1.         1.41421356 1.73205081]\n"
     ]
    }
   ],
   "source": [
    "print(np.sqrt(arr))"
   ]
  },
  {
   "cell_type": "code",
   "execution_count": 49,
   "id": "fccfde8e-2ddc-46fe-9b46-c0fa68376dfc",
   "metadata": {},
   "outputs": [
    {
     "name": "stdout",
     "output_type": "stream",
     "text": [
      "[ 2.71828183  7.3890561  20.08553692]\n"
     ]
    }
   ],
   "source": [
    "print(np.exp(arr))"
   ]
  },
  {
   "cell_type": "code",
   "execution_count": 50,
   "id": "7703450f-98a9-47a4-bd9d-7f95c8f265f2",
   "metadata": {},
   "outputs": [
    {
     "name": "stdout",
     "output_type": "stream",
     "text": [
      "[0.69314718 1.09861229 1.38629436]\n"
     ]
    }
   ],
   "source": [
    "print(np.log(arr + 1))  "
   ]
  },
  {
   "cell_type": "code",
   "execution_count": 51,
   "id": "988adf1d-0a61-4a17-9f74-79a6a14becaf",
   "metadata": {},
   "outputs": [
    {
     "name": "stdout",
     "output_type": "stream",
     "text": [
      "[0.84147098 0.90929743 0.14112001]\n"
     ]
    }
   ],
   "source": [
    "print(np.sin(arr))"
   ]
  },
  {
   "cell_type": "code",
   "execution_count": 52,
   "id": "0ec017fd-fd01-46b0-8573-c8e9910e9e59",
   "metadata": {},
   "outputs": [
    {
     "name": "stdout",
     "output_type": "stream",
     "text": [
      "[ 0.54030231 -0.41614684 -0.9899925 ]\n"
     ]
    }
   ],
   "source": [
    "print(np.cos(arr))"
   ]
  },
  {
   "cell_type": "code",
   "execution_count": 53,
   "id": "e92f9e52-6b48-4b3f-8946-ebc94449eb4c",
   "metadata": {},
   "outputs": [
    {
     "name": "stdout",
     "output_type": "stream",
     "text": [
      "[1 2 3]\n"
     ]
    }
   ],
   "source": [
    "print(np.abs([-1, -2, 3]))"
   ]
  },
  {
   "cell_type": "code",
   "execution_count": 54,
   "id": "dcef52f1-170f-4392-abe5-37574926ee65",
   "metadata": {},
   "outputs": [
    {
     "name": "stdout",
     "output_type": "stream",
     "text": [
      "[1. 3. 3.]\n"
     ]
    }
   ],
   "source": [
    "print(np.round([1.4, 2.6, 3.1]))"
   ]
  },
  {
   "cell_type": "code",
   "execution_count": 55,
   "id": "389147f4-abe6-4d93-9b4e-6a0fd9962940",
   "metadata": {},
   "outputs": [
    {
     "name": "stdout",
     "output_type": "stream",
     "text": [
      "1\n"
     ]
    }
   ],
   "source": [
    "print(np.min(mat))\n"
   ]
  },
  {
   "cell_type": "code",
   "execution_count": 56,
   "id": "c55305c1-706a-4c1c-a9f7-099959cb44f0",
   "metadata": {},
   "outputs": [
    {
     "name": "stdout",
     "output_type": "stream",
     "text": [
      "6\n"
     ]
    }
   ],
   "source": [
    "print(np.max(mat))\n"
   ]
  },
  {
   "cell_type": "code",
   "execution_count": 57,
   "id": "3615d1d6-f573-4b49-9013-e856a72165be",
   "metadata": {},
   "outputs": [
    {
     "name": "stdout",
     "output_type": "stream",
     "text": [
      "0\n"
     ]
    }
   ],
   "source": [
    "print(np.argmin(mat))"
   ]
  },
  {
   "cell_type": "code",
   "execution_count": 58,
   "id": "fd5b8119-bce9-410c-83f3-04353c9db28a",
   "metadata": {},
   "outputs": [
    {
     "name": "stdout",
     "output_type": "stream",
     "text": [
      "5\n"
     ]
    }
   ],
   "source": [
    "print(np.argmax(mat))"
   ]
  },
  {
   "cell_type": "code",
   "execution_count": 59,
   "id": "c5b13ffe-f8b2-40ce-98b7-ced08d071184",
   "metadata": {},
   "outputs": [
    {
     "name": "stdout",
     "output_type": "stream",
     "text": [
      "[5 7 9]\n"
     ]
    }
   ],
   "source": [
    "print(np.sum(mat, axis=0))"
   ]
  },
  {
   "cell_type": "code",
   "execution_count": 60,
   "id": "e9f12b46-4c40-4c61-8bd0-7fd8d5b86c1a",
   "metadata": {},
   "outputs": [
    {
     "name": "stdout",
     "output_type": "stream",
     "text": [
      "[5 7 9]\n"
     ]
    }
   ],
   "source": [
    "print(np.sum(mat, axis=0))"
   ]
  },
  {
   "cell_type": "code",
   "execution_count": 61,
   "id": "cacec13a-ef50-4763-9c81-b0da02d8081d",
   "metadata": {},
   "outputs": [
    {
     "name": "stdout",
     "output_type": "stream",
     "text": [
      "[2. 5.]\n"
     ]
    }
   ],
   "source": [
    "print(np.mean(mat, axis=1))\n"
   ]
  },
  {
   "cell_type": "code",
   "execution_count": 62,
   "id": "29a269a6-7c23-484e-9344-c69ffd0062f9",
   "metadata": {},
   "outputs": [
    {
     "name": "stdout",
     "output_type": "stream",
     "text": [
      "[1 3 6]\n"
     ]
    }
   ],
   "source": [
    "print(np.cumsum(arr))"
   ]
  },
  {
   "cell_type": "code",
   "execution_count": 63,
   "id": "16a39bf9-bdb4-44cb-b5c1-1cf4fd5242ec",
   "metadata": {},
   "outputs": [
    {
     "name": "stdout",
     "output_type": "stream",
     "text": [
      "[1 2 6]\n"
     ]
    }
   ],
   "source": [
    "print(np.cumprod(arr))\n"
   ]
  },
  {
   "cell_type": "code",
   "execution_count": 64,
   "id": "27b31dd3-9e8b-4562-ae47-9ef1ee614481",
   "metadata": {},
   "outputs": [
    {
     "name": "stdout",
     "output_type": "stream",
     "text": [
      "3.5\n"
     ]
    }
   ],
   "source": [
    "print(np.median(mat))"
   ]
  },
  {
   "cell_type": "code",
   "execution_count": 65,
   "id": "f1616aff-9535-47e0-97d0-9d445e197b92",
   "metadata": {},
   "outputs": [
    {
     "name": "stdout",
     "output_type": "stream",
     "text": [
      "-2.0000000000000004\n"
     ]
    }
   ],
   "source": [
    "square = np.array([[1, 2], [3, 4]])\n",
    "print(np.linalg.det(square))"
   ]
  },
  {
   "cell_type": "code",
   "execution_count": 66,
   "id": "bbe7b39a-2c33-4626-a373-d4c09d3e4661",
   "metadata": {},
   "outputs": [
    {
     "name": "stdout",
     "output_type": "stream",
     "text": [
      "[[-2.   1. ]\n",
      " [ 1.5 -0.5]]\n"
     ]
    }
   ],
   "source": [
    "print(np.linalg.inv(square))"
   ]
  },
  {
   "cell_type": "code",
   "execution_count": 67,
   "id": "7272a354-8da3-4c06-ab46-729245f479a0",
   "metadata": {},
   "outputs": [
    {
     "name": "stdout",
     "output_type": "stream",
     "text": [
      "2\n"
     ]
    }
   ],
   "source": [
    "print(np.linalg.matrix_rank(square))"
   ]
  },
  {
   "cell_type": "code",
   "execution_count": 68,
   "id": "bbaee198-b154-464e-830b-aea6548bb3f8",
   "metadata": {},
   "outputs": [
    {
     "name": "stdout",
     "output_type": "stream",
     "text": [
      "[-0.37228132  5.37228132]\n"
     ]
    }
   ],
   "source": [
    "eig_vals, eig_vecs = np.linalg.eig(square)\n",
    "print(eig_vals)\n"
   ]
  },
  {
   "cell_type": "code",
   "execution_count": 69,
   "id": "fcda2bb7-3916-46a3-8edb-7bd55a558b00",
   "metadata": {},
   "outputs": [
    {
     "name": "stdout",
     "output_type": "stream",
     "text": [
      "[[-0.82456484 -0.41597356]\n",
      " [ 0.56576746 -0.90937671]]\n"
     ]
    }
   ],
   "source": [
    "print(eig_vecs)"
   ]
  },
  {
   "cell_type": "code",
   "execution_count": 70,
   "id": "0f1f094c-b905-4369-9cc6-eadc6366641c",
   "metadata": {},
   "outputs": [
    {
     "name": "stdout",
     "output_type": "stream",
     "text": [
      "[2. 3.]\n"
     ]
    }
   ],
   "source": [
    "A = np.array([[3, 1], [1, 2]])\n",
    "b = np.array([9, 8])\n",
    "x = np.linalg.solve(A, b)\n",
    "print(x)\n"
   ]
  },
  {
   "cell_type": "code",
   "execution_count": 71,
   "id": "2758ab84-30c8-43ef-9e4c-5ae3c814321f",
   "metadata": {},
   "outputs": [
    {
     "name": "stdout",
     "output_type": "stream",
     "text": [
      "5.0\n"
     ]
    }
   ],
   "source": [
    "v = np.array([3, 4])\n",
    "print(np.linalg.norm(v))"
   ]
  },
  {
   "cell_type": "code",
   "execution_count": 72,
   "id": "eb9fa19a-1a5b-4299-b07d-0c62d743672e",
   "metadata": {},
   "outputs": [
    {
     "name": "stdout",
     "output_type": "stream",
     "text": [
      "5\n"
     ]
    }
   ],
   "source": [
    "print(np.trace(square))"
   ]
  },
  {
   "cell_type": "code",
   "execution_count": 73,
   "id": "8618b22a-38e5-4e7a-b90b-8db1eb901fc3",
   "metadata": {},
   "outputs": [
    {
     "name": "stdout",
     "output_type": "stream",
     "text": [
      "[[-0.31622777 -0.9486833 ]\n",
      " [-0.9486833   0.31622777]]\n"
     ]
    }
   ],
   "source": [
    "q, r = np.linalg.qr(square)\n",
    "print(q)\n"
   ]
  },
  {
   "cell_type": "code",
   "execution_count": 74,
   "id": "1b85de79-ecdc-4820-971b-7a305bf328cc",
   "metadata": {},
   "outputs": [
    {
     "name": "stdout",
     "output_type": "stream",
     "text": [
      "[5.4649857  0.36596619]\n"
     ]
    }
   ],
   "source": [
    "u, s, vh = np.linalg.svd(square)\n",
    "print(s)"
   ]
  },
  {
   "cell_type": "code",
   "execution_count": 75,
   "id": "a37d1733-5461-4fc3-a3a6-134a9aff7596",
   "metadata": {},
   "outputs": [
    {
     "name": "stdout",
     "output_type": "stream",
     "text": [
      "True\n"
     ]
    }
   ],
   "source": [
    "print(np.any(arr > 2))"
   ]
  },
  {
   "cell_type": "code",
   "execution_count": 76,
   "id": "5ed790d6-c5b7-4753-b539-89cc3db976e0",
   "metadata": {},
   "outputs": [
    {
     "name": "stdout",
     "output_type": "stream",
     "text": [
      "True\n"
     ]
    }
   ],
   "source": [
    "print(np.all(arr > 0))"
   ]
  },
  {
   "cell_type": "code",
   "execution_count": 77,
   "id": "fc05ce23-2e4b-4479-a0c0-50a5b4a56c4c",
   "metadata": {},
   "outputs": [
    {
     "name": "stdout",
     "output_type": "stream",
     "text": [
      "[False False  True]\n"
     ]
    }
   ],
   "source": [
    "x = np.array([True, False, True])\n",
    "y = np.array([False, False, True])\n",
    "print(np.logical_and(x, y))"
   ]
  },
  {
   "cell_type": "code",
   "execution_count": 78,
   "id": "24267084-c75a-4de4-b812-2c14b7108e5b",
   "metadata": {},
   "outputs": [
    {
     "name": "stdout",
     "output_type": "stream",
     "text": [
      "[ True False  True]\n"
     ]
    }
   ],
   "source": [
    "print(np.logical_or(x, y))\n"
   ]
  },
  {
   "cell_type": "code",
   "execution_count": 79,
   "id": "a25eb377-4fbd-48eb-9965-758d0c693487",
   "metadata": {},
   "outputs": [
    {
     "name": "stdout",
     "output_type": "stream",
     "text": [
      "[False  True False]\n"
     ]
    }
   ],
   "source": [
    "print(np.logical_not(x))"
   ]
  },
  {
   "cell_type": "code",
   "execution_count": 80,
   "id": "580658a0-2d08-4ee2-84cd-e05ea56e6341",
   "metadata": {},
   "outputs": [
    {
     "name": "stdout",
     "output_type": "stream",
     "text": [
      "['no' 'yes' 'yes']\n"
     ]
    }
   ],
   "source": [
    "z = np.array([1, 2, 3])\n",
    "print(np.where(z > 1, 'yes', 'no'))"
   ]
  },
  {
   "cell_type": "code",
   "execution_count": 81,
   "id": "ad5275fb-827c-45ed-9e0e-5ebf691a3208",
   "metadata": {},
   "outputs": [
    {
     "name": "stdout",
     "output_type": "stream",
     "text": [
      "2\n"
     ]
    }
   ],
   "source": [
    "print(np.count_nonzero([0, 1, 2, 0]))"
   ]
  },
  {
   "cell_type": "code",
   "execution_count": 82,
   "id": "492aa648-3681-4329-9795-421ed6f06244",
   "metadata": {},
   "outputs": [
    {
     "name": "stdout",
     "output_type": "stream",
     "text": [
      "[1 2 3]\n"
     ]
    }
   ],
   "source": [
    "a = np.array([1, 1, 2, 3, 3])\n",
    "print(np.unique(a))"
   ]
  },
  {
   "cell_type": "code",
   "execution_count": 83,
   "id": "641ddea5-b9b5-4725-a20c-68f36a88692b",
   "metadata": {},
   "outputs": [
    {
     "name": "stdout",
     "output_type": "stream",
     "text": [
      "True\n"
     ]
    }
   ],
   "source": [
    "print(np.array_equal([1, 2], [1, 2]))\n"
   ]
  },
  {
   "cell_type": "code",
   "execution_count": 84,
   "id": "690f04d8-8ee4-4200-a224-57bb45b60abb",
   "metadata": {},
   "outputs": [
    {
     "name": "stdout",
     "output_type": "stream",
     "text": [
      "[False False  True]\n"
     ]
    }
   ],
   "source": [
    "print(np.greater([1, 3, 5], [2, 3, 1]))"
   ]
  },
  {
   "cell_type": "code",
   "execution_count": 85,
   "id": "d441b8d7-bb55-4f91-81e6-e6739d4ef254",
   "metadata": {},
   "outputs": [
    {
     "name": "stdout",
     "output_type": "stream",
     "text": [
      "[1 2 3]\n"
     ]
    }
   ],
   "source": [
    "a = np.array([3, 1, 2])\n",
    "print(np.sort(a))\n"
   ]
  },
  {
   "cell_type": "code",
   "execution_count": 86,
   "id": "cb1a757b-f514-455f-b982-641efb4ab769",
   "metadata": {},
   "outputs": [
    {
     "name": "stdout",
     "output_type": "stream",
     "text": [
      "[[1 3]\n",
      " [2 4]]\n"
     ]
    }
   ],
   "source": [
    "b = np.array([[3, 1], [2, 4]])\n",
    "print(np.sort(b, axis=1))\n"
   ]
  },
  {
   "cell_type": "code",
   "execution_count": 87,
   "id": "f2fa15d2-2400-4e41-a7df-cd2e7f529a6c",
   "metadata": {},
   "outputs": [
    {
     "name": "stdout",
     "output_type": "stream",
     "text": [
      "[1 2 0]\n"
     ]
    }
   ],
   "source": [
    "print(np.argsort(a))"
   ]
  },
  {
   "cell_type": "code",
   "execution_count": 88,
   "id": "ce674f83-065e-4042-97e5-f27636a85275",
   "metadata": {},
   "outputs": [
    {
     "name": "stdout",
     "output_type": "stream",
     "text": [
      "2\n"
     ]
    }
   ],
   "source": [
    "c = np.array([1, 3, 5])\n",
    "print(np.searchsorted(c, 4))"
   ]
  },
  {
   "cell_type": "code",
   "execution_count": 89,
   "id": "0b124949-c667-4a8d-9dfe-958627b0530c",
   "metadata": {},
   "outputs": [
    {
     "name": "stdout",
     "output_type": "stream",
     "text": [
      "[1 2 3]\n"
     ]
    }
   ],
   "source": [
    "print(np.partition(a, 1))"
   ]
  },
  {
   "cell_type": "code",
   "execution_count": 90,
   "id": "aedbf697-a601-4ef3-a332-6eaf6cd79e95",
   "metadata": {},
   "outputs": [
    {
     "name": "stdout",
     "output_type": "stream",
     "text": [
      "[0 1]\n"
     ]
    }
   ],
   "source": [
    "print(np.argmax(b, axis=0))"
   ]
  },
  {
   "cell_type": "code",
   "execution_count": 91,
   "id": "000fff27-3a22-402f-bb4f-793a21919336",
   "metadata": {},
   "outputs": [
    {
     "name": "stdout",
     "output_type": "stream",
     "text": [
      "[1 0]\n"
     ]
    }
   ],
   "source": [
    "print(np.argmin(b, axis=1))\n"
   ]
  },
  {
   "cell_type": "code",
   "execution_count": 92,
   "id": "9b21e15e-0370-4320-972f-56bdd23a0a8b",
   "metadata": {},
   "outputs": [
    {
     "name": "stdout",
     "output_type": "stream",
     "text": [
      "[2 5 8]\n"
     ]
    }
   ],
   "source": [
    "arr = np.array([1, 5, 10])\n",
    "print(np.clip(arr, 2, 8))"
   ]
  },
  {
   "cell_type": "code",
   "execution_count": 93,
   "id": "6d488488-7be9-4745-92c5-0bb3a7230a2c",
   "metadata": {},
   "outputs": [
    {
     "name": "stdout",
     "output_type": "stream",
     "text": [
      "[1 2 0]\n"
     ]
    }
   ],
   "source": [
    "print(np.argsort([4, 1, 3]))"
   ]
  },
  {
   "cell_type": "code",
   "execution_count": 94,
   "id": "a9e3b4f4-ffc1-46bc-bb7d-c509827388aa",
   "metadata": {},
   "outputs": [
    {
     "name": "stdout",
     "output_type": "stream",
     "text": [
      "(array([2, 3]),)\n"
     ]
    }
   ],
   "source": [
    "x = np.array([1, 2, 3, 4])\n",
    "print(np.where(x > 2))"
   ]
  },
  {
   "cell_type": "code",
   "execution_count": 95,
   "id": "7062c407-56f3-4ea3-8f42-3d8e46f758c0",
   "metadata": {},
   "outputs": [],
   "source": [
    "np.save('array.npy', x)\n"
   ]
  },
  {
   "cell_type": "code",
   "execution_count": 96,
   "id": "8729aec9-d860-4a2c-86a2-f28bec1d7dde",
   "metadata": {},
   "outputs": [
    {
     "name": "stdout",
     "output_type": "stream",
     "text": [
      "[1 2 3 4]\n"
     ]
    }
   ],
   "source": [
    "loaded = np.load('array.npy')\n",
    "print(loaded)"
   ]
  },
  {
   "cell_type": "code",
   "execution_count": 97,
   "id": "008e586c-1dc7-4d47-8908-105ae6ccf60b",
   "metadata": {},
   "outputs": [],
   "source": [
    "np.savez('arrays.npz', a=x, b=arr)"
   ]
  },
  {
   "cell_type": "code",
   "execution_count": 98,
   "id": "d66dec31-8587-4f48-b2a0-0440992346ec",
   "metadata": {},
   "outputs": [
    {
     "name": "stdout",
     "output_type": "stream",
     "text": [
      "[1 2 3 4] [ 1  5 10]\n"
     ]
    }
   ],
   "source": [
    "data = np.load('arrays.npz')\n",
    "print(data['a'], data['b'])\n"
   ]
  },
  {
   "cell_type": "code",
   "execution_count": 99,
   "id": "8fb28db3-be14-4d4b-88e7-334487ce80b3",
   "metadata": {},
   "outputs": [],
   "source": [
    "np.savetxt('array.txt', x)"
   ]
  },
  {
   "cell_type": "code",
   "execution_count": 100,
   "id": "912c079a-5ec8-4c11-bdc8-89fd80d2632d",
   "metadata": {},
   "outputs": [
    {
     "name": "stdout",
     "output_type": "stream",
     "text": [
      "[1. 2. 3. 4.]\n"
     ]
    }
   ],
   "source": [
    "x2 = np.loadtxt('array.txt')\n",
    "print(x2)"
   ]
  },
  {
   "cell_type": "code",
   "execution_count": 101,
   "id": "ef271a69-156d-4664-822d-0180de6dfecd",
   "metadata": {},
   "outputs": [],
   "source": [
    "np.savetxt('custom.txt', x, delimiter=',')"
   ]
  },
  {
   "cell_type": "code",
   "execution_count": 102,
   "id": "fbb7a623-1190-4356-abd5-453b451f0d33",
   "metadata": {},
   "outputs": [
    {
     "name": "stdout",
     "output_type": "stream",
     "text": [
      "[1. 2. 3. 4.]\n"
     ]
    }
   ],
   "source": [
    "x3 = np.loadtxt('custom.txt', delimiter=',')\n",
    "print(x3)"
   ]
  },
  {
   "cell_type": "code",
   "execution_count": 103,
   "id": "90741379-9edf-492e-9842-0897f1fd3419",
   "metadata": {},
   "outputs": [],
   "source": [
    "np.savetxt('ints.csv', np.array([[1,2],[3,4]]), fmt='%d', delimiter=',')\n"
   ]
  },
  {
   "cell_type": "code",
   "execution_count": 104,
   "id": "5cd57e0a-3d59-4f34-a613-fd46feeb7350",
   "metadata": {},
   "outputs": [
    {
     "name": "stdout",
     "output_type": "stream",
     "text": [
      "[[1. 2.]\n",
      " [3. 4.]]\n"
     ]
    }
   ],
   "source": [
    "ints = np.loadtxt('ints.csv', delimiter=',')\n",
    "print(ints)"
   ]
  },
  {
   "cell_type": "code",
   "execution_count": 105,
   "id": "7fc99bf7-7b6b-4f60-a8b1-1daea4995d28",
   "metadata": {},
   "outputs": [
    {
     "name": "stdout",
     "output_type": "stream",
     "text": [
      "[[0 1 2]\n",
      " [3 4 5]]\n"
     ]
    }
   ],
   "source": [
    "arr = np.arange(6)\n",
    "print(arr.reshape(2, 3))"
   ]
  },
  {
   "cell_type": "code",
   "execution_count": 106,
   "id": "0b29678e-e4a3-4a39-8826-dc28abfa2da8",
   "metadata": {},
   "outputs": [
    {
     "name": "stdout",
     "output_type": "stream",
     "text": [
      "[[0 1 2 3 4 5]]\n"
     ]
    }
   ],
   "source": [
    "print(np.expand_dims(arr, axis=0))"
   ]
  },
  {
   "cell_type": "code",
   "execution_count": 107,
   "id": "4d328d8b-07e7-4fdd-bba5-663000dab7fe",
   "metadata": {},
   "outputs": [
    {
     "name": "stdout",
     "output_type": "stream",
     "text": [
      "[1 2 3]\n"
     ]
    }
   ],
   "source": [
    "a = np.array([[[1, 2, 3]]])\n",
    "print(np.squeeze(a))"
   ]
  },
  {
   "cell_type": "code",
   "execution_count": 108,
   "id": "1b44c759-518e-452a-ada3-a6eec2edb16b",
   "metadata": {},
   "outputs": [
    {
     "name": "stdout",
     "output_type": "stream",
     "text": [
      "[[1 2]\n",
      " [3 4]]\n"
     ]
    }
   ],
   "source": [
    "a = np.array([1, 2])\n",
    "b = np.array([3, 4])\n",
    "print(np.vstack((a, b)))\n"
   ]
  },
  {
   "cell_type": "code",
   "execution_count": 109,
   "id": "91217fff-b03c-4972-8a0a-4bc0445b4861",
   "metadata": {},
   "outputs": [
    {
     "name": "stdout",
     "output_type": "stream",
     "text": [
      "[1 2 3 4]\n"
     ]
    }
   ],
   "source": [
    "print(np.hstack((a, b)))"
   ]
  },
  {
   "cell_type": "code",
   "execution_count": 110,
   "id": "d0320d6a-61d3-4853-b52d-78f771d35374",
   "metadata": {},
   "outputs": [
    {
     "name": "stdout",
     "output_type": "stream",
     "text": [
      "[[[1 3]\n",
      "  [2 4]]]\n"
     ]
    }
   ],
   "source": [
    "print(np.dstack((a, b)))\n"
   ]
  },
  {
   "cell_type": "code",
   "execution_count": 111,
   "id": "98d6e8fc-f9a8-47f4-aa25-4c54e3e5ceff",
   "metadata": {},
   "outputs": [
    {
     "name": "stdout",
     "output_type": "stream",
     "text": [
      "[[1 2]\n",
      " [3 4]]\n"
     ]
    }
   ],
   "source": [
    "print(np.concatenate(([a], [b]), axis=0))"
   ]
  },
  {
   "cell_type": "code",
   "execution_count": 112,
   "id": "d6850903-3f2d-4e8b-b672-4ad33e9adfef",
   "metadata": {},
   "outputs": [
    {
     "name": "stdout",
     "output_type": "stream",
     "text": [
      "[array([1, 2]), array([3, 4])]\n"
     ]
    }
   ],
   "source": [
    "c = np.array([1, 2, 3, 4])\n",
    "print(np.split(c, 2))\n"
   ]
  },
  {
   "cell_type": "code",
   "execution_count": 113,
   "id": "5287b018-bd5c-4bed-b56b-69bc4a8b1242",
   "metadata": {},
   "outputs": [
    {
     "name": "stdout",
     "output_type": "stream",
     "text": [
      "[array([[1, 2]]), array([[3, 4]])]\n"
     ]
    }
   ],
   "source": [
    "d = np.array([[1, 2], [3, 4]])\n",
    "print(np.vsplit(d, 2))"
   ]
  },
  {
   "cell_type": "code",
   "execution_count": 114,
   "id": "813ede93-de43-4a73-a1f4-59b66d2b032d",
   "metadata": {},
   "outputs": [
    {
     "name": "stdout",
     "output_type": "stream",
     "text": [
      "[array([[1],\n",
      "       [3]]), array([[2],\n",
      "       [4]])]\n"
     ]
    }
   ],
   "source": [
    "print(np.hsplit(d, 2))"
   ]
  },
  {
   "cell_type": "code",
   "execution_count": 115,
   "id": "8d5af9a8-5fc8-4eb8-94f3-d624222dd815",
   "metadata": {},
   "outputs": [
    {
     "name": "stdout",
     "output_type": "stream",
     "text": [
      "[70 31 73 73  5]\n"
     ]
    }
   ],
   "source": [
    "print(np.random.randint(0, 100, 5))"
   ]
  },
  {
   "cell_type": "code",
   "execution_count": 116,
   "id": "3732dbf2-77da-4298-ae66-57c24c1e976d",
   "metadata": {},
   "outputs": [
    {
     "name": "stdout",
     "output_type": "stream",
     "text": [
      "[0.86299535 0.80227484 0.50713441 0.12514582 0.44064673]\n"
     ]
    }
   ],
   "source": [
    "print(np.random.random(5))"
   ]
  },
  {
   "cell_type": "code",
   "execution_count": 117,
   "id": "6b2c0e9c-128c-4fe4-bb6b-5c5da8d03d31",
   "metadata": {},
   "outputs": [
    {
     "name": "stdout",
     "output_type": "stream",
     "text": [
      "[-0.1728129  -0.46241549 -2.18942983  0.69364206  1.09130089]\n"
     ]
    }
   ],
   "source": [
    "print(np.random.normal(0, 1, 5))\n"
   ]
  },
  {
   "cell_type": "code",
   "execution_count": 118,
   "id": "381b3123-a12c-4fed-bf56-79b38a7d0872",
   "metadata": {},
   "outputs": [
    {
     "name": "stdout",
     "output_type": "stream",
     "text": [
      "20\n"
     ]
    }
   ],
   "source": [
    "print(np.random.choice([10, 20, 30]))"
   ]
  },
  {
   "cell_type": "code",
   "execution_count": 119,
   "id": "e8c1ae89-dff0-402d-ae95-9348ba912794",
   "metadata": {},
   "outputs": [
    {
     "name": "stdout",
     "output_type": "stream",
     "text": [
      "[1 2 3 4]\n"
     ]
    }
   ],
   "source": [
    "arr = np.array([1, 2, 3, 4])\n",
    "np.random.shuffle(arr)\n",
    "print(arr)"
   ]
  },
  {
   "cell_type": "code",
   "execution_count": 120,
   "id": "02b1cb37-381c-4de9-93a5-e695b35396ef",
   "metadata": {},
   "outputs": [
    {
     "name": "stdout",
     "output_type": "stream",
     "text": [
      "[4 2 1 3]\n"
     ]
    }
   ],
   "source": [
    "print(np.random.permutation([1, 2, 3, 4]))"
   ]
  },
  {
   "cell_type": "code",
   "execution_count": 121,
   "id": "9647c8af-76d6-48e0-95f2-942646634b2e",
   "metadata": {},
   "outputs": [
    {
     "name": "stdout",
     "output_type": "stream",
     "text": [
      "0.3745401188473625\n"
     ]
    }
   ],
   "source": [
    "np.random.seed(42)\n",
    "print(np.random.rand())"
   ]
  },
  {
   "cell_type": "code",
   "execution_count": 122,
   "id": "cce8dbb3-80d8-4fc9-b9a3-4f11b20ba67e",
   "metadata": {},
   "outputs": [
    {
     "name": "stdout",
     "output_type": "stream",
     "text": [
      "[[0.95071431 0.73199394 0.59865848]\n",
      " [0.15601864 0.15599452 0.05808361]]\n"
     ]
    }
   ],
   "source": [
    "print(np.random.rand(2, 3))\n"
   ]
  },
  {
   "cell_type": "code",
   "execution_count": 123,
   "id": "043dc745-d9c6-42b1-adf8-ea38be5959d0",
   "metadata": {},
   "outputs": [
    {
     "name": "stdout",
     "output_type": "stream",
     "text": [
      "[8.66176146 6.01115012 7.08072578 0.20584494 9.69909852]\n"
     ]
    }
   ],
   "source": [
    "print(np.random.uniform(low=0, high=10, size=5))"
   ]
  },
  {
   "cell_type": "code",
   "execution_count": 124,
   "id": "71bf7595-7790-4690-ad84-1817818f63fc",
   "metadata": {},
   "outputs": [
    {
     "name": "stdout",
     "output_type": "stream",
     "text": [
      "[7 4 4 4 4]\n"
     ]
    }
   ],
   "source": [
    "print(np.random.binomial(n=10, p=0.5, size=5))"
   ]
  },
  {
   "cell_type": "code",
   "execution_count": 125,
   "id": "a049e961-702b-416e-9384-daf9f2650711",
   "metadata": {},
   "outputs": [
    {
     "name": "stdout",
     "output_type": "stream",
     "text": [
      "[1. 2. 3.]\n"
     ]
    }
   ],
   "source": [
    "a = np.array([1.8, 2.5, 3.1])\n",
    "print(np.floor(a))"
   ]
  },
  {
   "cell_type": "code",
   "execution_count": 126,
   "id": "acfd8a6e-d69c-4d58-b828-d357e166ce51",
   "metadata": {},
   "outputs": [
    {
     "name": "stdout",
     "output_type": "stream",
     "text": [
      "[2. 3. 4.]\n"
     ]
    }
   ],
   "source": [
    "print(np.ceil(a))\n"
   ]
  },
  {
   "cell_type": "code",
   "execution_count": 127,
   "id": "6fa8823c-30be-4ffe-a5ac-e335bd10e405",
   "metadata": {},
   "outputs": [
    {
     "name": "stdout",
     "output_type": "stream",
     "text": [
      "[1. 2. 3.]\n"
     ]
    }
   ],
   "source": [
    "print(np.trunc(a))"
   ]
  },
  {
   "cell_type": "code",
   "execution_count": 128,
   "id": "9e9e01c9-9e4b-4629-8f0d-3657a4dbbcd6",
   "metadata": {},
   "outputs": [
    {
     "name": "stdout",
     "output_type": "stream",
     "text": [
      "[1 6 3]\n"
     ]
    }
   ],
   "source": [
    "x = np.array([10, 20, 30])\n",
    "y = np.array([3, 7, 9])\n",
    "print(np.mod(x, y))"
   ]
  },
  {
   "cell_type": "code",
   "execution_count": 129,
   "id": "8bf6dcc5-4c74-43c5-9c5c-5c8db7045b7c",
   "metadata": {},
   "outputs": [
    {
     "name": "stdout",
     "output_type": "stream",
     "text": [
      "[1 6 3]\n"
     ]
    }
   ],
   "source": [
    "print(np.remainder(x, y))\n"
   ]
  },
  {
   "cell_type": "code",
   "execution_count": 130,
   "id": "24df78fd-6647-4bb1-b222-fd7ce638ff79",
   "metadata": {},
   "outputs": [
    {
     "name": "stdout",
     "output_type": "stream",
     "text": [
      "6\n"
     ]
    }
   ],
   "source": [
    "print(np.gcd(12, 18))\n"
   ]
  },
  {
   "cell_type": "code",
   "execution_count": 131,
   "id": "47097b1e-bed6-4829-a062-23d961410af6",
   "metadata": {},
   "outputs": [
    {
     "name": "stdout",
     "output_type": "stream",
     "text": [
      "24\n"
     ]
    }
   ],
   "source": [
    "print(np.lcm(6, 8))"
   ]
  },
  {
   "cell_type": "code",
   "execution_count": 132,
   "id": "93f57bae-8a57-496a-8a11-3be1ac418048",
   "metadata": {},
   "outputs": [
    {
     "name": "stdout",
     "output_type": "stream",
     "text": [
      "8\n"
     ]
    }
   ],
   "source": [
    "print(np.power(2, 3))\n"
   ]
  },
  {
   "cell_type": "code",
   "execution_count": 133,
   "id": "ff842622-dbb8-4cf8-9ea1-37abf54a593e",
   "metadata": {},
   "outputs": [
    {
     "name": "stdout",
     "output_type": "stream",
     "text": [
      "[-1  0  1]\n"
     ]
    }
   ],
   "source": [
    "print(np.sign([-10, 0, 10]))"
   ]
  },
  {
   "cell_type": "code",
   "execution_count": 134,
   "id": "2e10e01a-8b2b-470b-8782-81c41fdc19cb",
   "metadata": {},
   "outputs": [
    {
     "name": "stdout",
     "output_type": "stream",
     "text": [
      "[1.  0.5 2. ]\n"
     ]
    }
   ],
   "source": [
    "print(np.reciprocal([1, 2, 0.5]))"
   ]
  },
  {
   "cell_type": "code",
   "execution_count": 135,
   "id": "bcf176fd-eb9b-4200-bdc2-60e88e847b4e",
   "metadata": {},
   "outputs": [
    {
     "name": "stdout",
     "output_type": "stream",
     "text": [
      "[False  True False]\n"
     ]
    }
   ],
   "source": [
    "arr = np.array([1, np.nan, 3])\n",
    "print(np.isnan(arr))"
   ]
  },
  {
   "cell_type": "code",
   "execution_count": 136,
   "id": "e4fb2654-db6e-4641-9e79-18bd22c59ebb",
   "metadata": {},
   "outputs": [
    {
     "name": "stdout",
     "output_type": "stream",
     "text": [
      "[False  True  True]\n"
     ]
    }
   ],
   "source": [
    "arr2 = np.array([1, np.inf, -np.inf])\n",
    "print(np.isinf(arr2))"
   ]
  },
  {
   "cell_type": "code",
   "execution_count": 137,
   "id": "5d488442-4f79-409f-9bd8-37a9b3ae4e44",
   "metadata": {},
   "outputs": [
    {
     "name": "stdout",
     "output_type": "stream",
     "text": [
      "[1. 0. 3.]\n"
     ]
    }
   ],
   "source": [
    "arr[np.isnan(arr)] = 0\n",
    "print(arr)"
   ]
  },
  {
   "cell_type": "code",
   "execution_count": 138,
   "id": "3d01e130-d06e-4a74-bbd2-eef5a11d2dbb",
   "metadata": {},
   "outputs": [
    {
     "name": "stdout",
     "output_type": "stream",
     "text": [
      "[1.000e+00 9.999e+03 9.999e+03]\n"
     ]
    }
   ],
   "source": [
    "arr2[np.isinf(arr2)] = 9999\n",
    "print(arr2)\n"
   ]
  },
  {
   "cell_type": "code",
   "execution_count": 139,
   "id": "81aa31f7-47aa-4f57-a57e-31b5a0d243e9",
   "metadata": {},
   "outputs": [
    {
     "name": "stdout",
     "output_type": "stream",
     "text": [
      "3.0\n"
     ]
    }
   ],
   "source": [
    "arr3 = np.array([1, 2, np.nan])\n",
    "print(np.nansum(arr3))"
   ]
  },
  {
   "cell_type": "code",
   "execution_count": 140,
   "id": "428fab05-e345-4f31-9cd7-4bf4f099a20f",
   "metadata": {},
   "outputs": [
    {
     "name": "stdout",
     "output_type": "stream",
     "text": [
      "1.5\n"
     ]
    }
   ],
   "source": [
    "print(np.nanmean(arr3))\n"
   ]
  },
  {
   "cell_type": "code",
   "execution_count": 141,
   "id": "87db3ff1-9a35-4b0d-a335-5a751bf209af",
   "metadata": {},
   "outputs": [
    {
     "name": "stdout",
     "output_type": "stream",
     "text": [
      "2.0\n"
     ]
    }
   ],
   "source": [
    "print(np.nanmax(arr3))"
   ]
  },
  {
   "cell_type": "code",
   "execution_count": 142,
   "id": "caf0d77f-8970-489b-af38-76a53df26b43",
   "metadata": {},
   "outputs": [
    {
     "name": "stdout",
     "output_type": "stream",
     "text": [
      "1.0\n"
     ]
    }
   ],
   "source": [
    "print(np.nanmin(arr3))"
   ]
  },
  {
   "cell_type": "code",
   "execution_count": 143,
   "id": "64bf1a2f-25b4-46e7-9016-7a53d2b1afb4",
   "metadata": {},
   "outputs": [
    {
     "name": "stdout",
     "output_type": "stream",
     "text": [
      "[[1. 4.]\n",
      " [3. 4.]]\n"
     ]
    }
   ],
   "source": [
    "m = np.array([[1, np.nan], [3, 4]])\n",
    "col_means = np.nanmean(m, axis=0)\n",
    "inds = np.where(np.isnan(m))\n",
    "m[inds] = np.take(col_means, inds[1])\n",
    "print(m)"
   ]
  },
  {
   "cell_type": "code",
   "execution_count": 144,
   "id": "50a22610-cc7f-423f-9e85-237db71ed3e6",
   "metadata": {},
   "outputs": [
    {
     "name": "stdout",
     "output_type": "stream",
     "text": [
      "2\n"
     ]
    }
   ],
   "source": [
    "arr = np.array([1, np.nan, 2, np.nan])\n",
    "print(np.isnan(arr).sum())"
   ]
  },
  {
   "cell_type": "code",
   "execution_count": 145,
   "id": "c49a99e8-a04e-4d65-8f90-05505cbd3cae",
   "metadata": {},
   "outputs": [
    {
     "name": "stdout",
     "output_type": "stream",
     "text": [
      "1\n"
     ]
    }
   ],
   "source": [
    "print(np.bitwise_and(5, 3)) "
   ]
  },
  {
   "cell_type": "code",
   "execution_count": 146,
   "id": "1b217e85-8473-440c-b0bb-257da413758a",
   "metadata": {},
   "outputs": [
    {
     "name": "stdout",
     "output_type": "stream",
     "text": [
      "7\n"
     ]
    }
   ],
   "source": [
    "print(np.bitwise_or(5, 3))"
   ]
  },
  {
   "cell_type": "code",
   "execution_count": 147,
   "id": "76bd8e84-1757-441c-b0df-05d5de1bdc95",
   "metadata": {},
   "outputs": [
    {
     "name": "stdout",
     "output_type": "stream",
     "text": [
      "6\n"
     ]
    }
   ],
   "source": [
    "print(np.bitwise_xor(5, 3))"
   ]
  },
  {
   "cell_type": "code",
   "execution_count": 148,
   "id": "b919a5e6-a12c-4e05-9aac-ff5664efebbd",
   "metadata": {},
   "outputs": [
    {
     "name": "stdout",
     "output_type": "stream",
     "text": [
      "[-1 -2 -3]\n"
     ]
    }
   ],
   "source": [
    "print(np.invert(np.array([0, 1, 2])))"
   ]
  },
  {
   "cell_type": "code",
   "execution_count": 149,
   "id": "10e594ee-b86c-49b8-adf3-03a434f5e242",
   "metadata": {},
   "outputs": [
    {
     "name": "stdout",
     "output_type": "stream",
     "text": [
      "4\n"
     ]
    }
   ],
   "source": [
    "print(np.left_shift(1, 2))"
   ]
  },
  {
   "cell_type": "code",
   "execution_count": 150,
   "id": "ededb9c7-f7b8-4be0-9346-8ed4641928a5",
   "metadata": {},
   "outputs": [
    {
     "name": "stdout",
     "output_type": "stream",
     "text": [
      "2\n"
     ]
    }
   ],
   "source": [
    "print(np.right_shift(4, 1)) "
   ]
  },
  {
   "cell_type": "code",
   "execution_count": 151,
   "id": "f641b24b-7b4a-4afe-947a-2a2867cf175b",
   "metadata": {},
   "outputs": [
    {
     "name": "stdout",
     "output_type": "stream",
     "text": [
      "00001010\n"
     ]
    }
   ],
   "source": [
    "print(np.binary_repr(10, width=8))"
   ]
  },
  {
   "cell_type": "code",
   "execution_count": 152,
   "id": "f1d71894-fd41-4fbf-8b1a-930c96dcc4b0",
   "metadata": {},
   "outputs": [
    {
     "name": "stdout",
     "output_type": "stream",
     "text": [
      "[ True  True]\n"
     ]
    }
   ],
   "source": [
    "x = np.array([True, False])\n",
    "y = np.array([False, True])\n",
    "print(np.logical_xor(x, y))"
   ]
  },
  {
   "cell_type": "code",
   "execution_count": 153,
   "id": "ded33fc8-0b6f-4c32-b4f2-0203bc333dcc",
   "metadata": {},
   "outputs": [
    {
     "name": "stdout",
     "output_type": "stream",
     "text": [
      "[1 0]\n"
     ]
    }
   ],
   "source": [
    "bools = np.array([True, False])\n",
    "print(bools.astype(int))\n"
   ]
  },
  {
   "cell_type": "code",
   "execution_count": 154,
   "id": "4e2428b8-f0f4-4749-b2ad-71605a763dd3",
   "metadata": {},
   "outputs": [
    {
     "name": "stdout",
     "output_type": "stream",
     "text": [
      "[False  True  True]\n"
     ]
    }
   ],
   "source": [
    "ints = np.array([0, 1, 2])\n",
    "print(ints.astype(bool))"
   ]
  },
  {
   "cell_type": "code",
   "execution_count": 155,
   "id": "21c9aaa8-86ad-417e-abc9-2cce3dbf19b3",
   "metadata": {},
   "outputs": [
    {
     "name": "stdout",
     "output_type": "stream",
     "text": [
      "[[1 3]\n",
      " [2 4]]\n"
     ]
    }
   ],
   "source": [
    "a = np.array([[1, 2], [3, 4]])\n",
    "print(a.T)"
   ]
  },
  {
   "cell_type": "code",
   "execution_count": 156,
   "id": "22648d66-ed82-4d84-b317-d0b842d575fb",
   "metadata": {},
   "outputs": [
    {
     "name": "stdout",
     "output_type": "stream",
     "text": [
      "[[ 7 10]\n",
      " [15 22]]\n"
     ]
    }
   ],
   "source": [
    "print(np.dot(a, a))\n"
   ]
  },
  {
   "cell_type": "code",
   "execution_count": 157,
   "id": "fa01b5c4-0390-40d0-84ae-4f6844e1388f",
   "metadata": {},
   "outputs": [
    {
     "name": "stdout",
     "output_type": "stream",
     "text": [
      "[[ 7 10]\n",
      " [15 22]]\n"
     ]
    }
   ],
   "source": [
    "print(np.linalg.matrix_power(a, 2))\n"
   ]
  },
  {
   "cell_type": "code",
   "execution_count": 158,
   "id": "ac7352ab-2c6b-49c0-be7b-60bf93ea1b43",
   "metadata": {},
   "outputs": [
    {
     "name": "stdout",
     "output_type": "stream",
     "text": [
      "[[1. 0. 0.]\n",
      " [0. 1. 0.]\n",
      " [0. 0. 1.]]\n"
     ]
    }
   ],
   "source": [
    "print(np.identity(3))"
   ]
  },
  {
   "cell_type": "code",
   "execution_count": 159,
   "id": "512e82b1-ee0f-4c96-8c94-53f3523b5289",
   "metadata": {},
   "outputs": [
    {
     "name": "stdout",
     "output_type": "stream",
     "text": [
      "[1 4]\n"
     ]
    }
   ],
   "source": [
    "print(np.diag(a))"
   ]
  },
  {
   "cell_type": "code",
   "execution_count": 160,
   "id": "b8b479e9-bf3b-4500-96d5-b9f8501e0fc0",
   "metadata": {},
   "outputs": [
    {
     "name": "stdout",
     "output_type": "stream",
     "text": [
      "[[1 0 0]\n",
      " [0 2 0]\n",
      " [0 0 3]]\n"
     ]
    }
   ],
   "source": [
    "d = np.array([1, 2, 3])\n",
    "print(np.diag(d))"
   ]
  },
  {
   "cell_type": "code",
   "execution_count": 161,
   "id": "e92736a3-20cf-4e7f-8899-abb8270d143c",
   "metadata": {},
   "outputs": [
    {
     "name": "stdout",
     "output_type": "stream",
     "text": [
      "[[1 2]\n",
      " [0 4]]\n"
     ]
    }
   ],
   "source": [
    "print(np.triu(a))"
   ]
  },
  {
   "cell_type": "code",
   "execution_count": 162,
   "id": "47771ef1-d600-4b8f-a5d2-61c52514d24b",
   "metadata": {},
   "outputs": [
    {
     "name": "stdout",
     "output_type": "stream",
     "text": [
      "[[1 0]\n",
      " [3 4]]\n"
     ]
    }
   ],
   "source": [
    "print(np.tril(a))"
   ]
  },
  {
   "cell_type": "code",
   "execution_count": 163,
   "id": "e63346c7-5bc5-4b6e-8f09-3fecb9728376",
   "metadata": {},
   "outputs": [
    {
     "name": "stdout",
     "output_type": "stream",
     "text": [
      "[[1. 0. 0.]\n",
      " [0. 1. 0.]\n",
      " [0. 0. 1.]]\n"
     ]
    }
   ],
   "source": [
    "b = np.zeros((3, 3))\n",
    "np.fill_diagonal(b, 1)\n",
    "print(b)"
   ]
  },
  {
   "cell_type": "code",
   "execution_count": 164,
   "id": "31ac94f6-e7ab-46c5-9234-3783105911ec",
   "metadata": {},
   "outputs": [
    {
     "name": "stdout",
     "output_type": "stream",
     "text": [
      "[2 6]\n"
     ]
    }
   ],
   "source": [
    "c = np.array([[1, 2, 3], [4, 5, 6], [7, 8, 9]])\n",
    "print(np.diag(c, k=1))"
   ]
  },
  {
   "cell_type": "code",
   "execution_count": 165,
   "id": "063ff461-f432-4748-83c0-7ac48d77d624",
   "metadata": {},
   "outputs": [
    {
     "name": "stdout",
     "output_type": "stream",
     "text": [
      "[10.+0.j -2.+2.j -2.+0.j -2.-2.j]\n"
     ]
    }
   ],
   "source": [
    "a = np.array([1, 2, 3, 4])\n",
    "print(np.fft.fft(a))\n"
   ]
  },
  {
   "cell_type": "code",
   "execution_count": 166,
   "id": "5481a0b1-1f9a-4495-9c26-2e81ffcdbae6",
   "metadata": {},
   "outputs": [
    {
     "name": "stdout",
     "output_type": "stream",
     "text": [
      "[1.+0.j 2.+0.j 3.+0.j 4.+0.j]\n"
     ]
    }
   ],
   "source": [
    "f = np.fft.fft(a)\n",
    "print(np.fft.ifft(f))\n"
   ]
  },
  {
   "cell_type": "code",
   "execution_count": 167,
   "id": "a8a5a60c-8c2d-44a7-88d7-8b06d5619184",
   "metadata": {},
   "outputs": [
    {
     "name": "stdout",
     "output_type": "stream",
     "text": [
      "[ 0.    0.25 -0.5  -0.25]\n"
     ]
    }
   ],
   "source": [
    "print(np.fft.fftfreq(4))\n"
   ]
  },
  {
   "cell_type": "code",
   "execution_count": 168,
   "id": "8a023237-5edf-44af-bd54-acc15c5a7607",
   "metadata": {},
   "outputs": [
    {
     "name": "stdout",
     "output_type": "stream",
     "text": [
      "[[10.+0.j -2.+0.j]\n",
      " [-4.+0.j  0.+0.j]]\n"
     ]
    }
   ],
   "source": [
    "img = np.array([[1, 2], [3, 4]])\n",
    "print(np.fft.fft2(img))\n"
   ]
  },
  {
   "cell_type": "code",
   "execution_count": 169,
   "id": "fa84bcb3-dc47-478e-8fae-294d076e4d07",
   "metadata": {},
   "outputs": [
    {
     "name": "stdout",
     "output_type": "stream",
     "text": [
      "[[1.+0.j 2.+0.j]\n",
      " [3.+0.j 4.+0.j]]\n"
     ]
    }
   ],
   "source": [
    "f2 = np.fft.fft2(img)\n",
    "print(np.fft.ifft2(f2))\n"
   ]
  },
  {
   "cell_type": "code",
   "execution_count": 170,
   "id": "5aa8aa19-2199-4b39-aafb-5feb138456fc",
   "metadata": {},
   "outputs": [
    {
     "name": "stdout",
     "output_type": "stream",
     "text": [
      "[[ 0.+0.j -4.+0.j]\n",
      " [-2.+0.j 10.+0.j]]\n"
     ]
    }
   ],
   "source": [
    "print(np.fft.fftshift(f2))"
   ]
  },
  {
   "cell_type": "code",
   "execution_count": 171,
   "id": "e8186f0a-1831-45bd-ac44-4ab9b61dea78",
   "metadata": {},
   "outputs": [
    {
     "name": "stdout",
     "output_type": "stream",
     "text": [
      "[[ 0.+0.j -4.+0.j]\n",
      " [-2.+0.j 10.+0.j]]\n"
     ]
    }
   ],
   "source": [
    "print(np.fft.ifftshift(f2))"
   ]
  },
  {
   "cell_type": "code",
   "execution_count": 172,
   "id": "a7e19983-edcc-4d15-ae5d-ac050ed023f8",
   "metadata": {},
   "outputs": [
    {
     "name": "stdout",
     "output_type": "stream",
     "text": [
      "[100.   8.   4.   8.]\n"
     ]
    }
   ],
   "source": [
    "f = np.fft.fft(a)\n",
    "power = np.abs(f)**2\n",
    "print(power)"
   ]
  },
  {
   "cell_type": "code",
   "execution_count": 173,
   "id": "27d2bd2c-8924-44c2-8a46-58db0f1738cd",
   "metadata": {},
   "outputs": [
    {
     "name": "stdout",
     "output_type": "stream",
     "text": [
      "[ 0.          2.35619449  3.14159265 -2.35619449]\n"
     ]
    }
   ],
   "source": [
    "phase = np.angle(f)\n",
    "print(phase)"
   ]
  },
  {
   "cell_type": "code",
   "execution_count": 174,
   "id": "03d98fe6-f33c-43a4-85c0-f640e47daf5d",
   "metadata": {},
   "outputs": [
    {
     "name": "stdout",
     "output_type": "stream",
     "text": [
      "[10.+0.j -2.+2.j -2.+0.j]\n"
     ]
    }
   ],
   "source": [
    "print(np.fft.rfft(a))"
   ]
  },
  {
   "cell_type": "code",
   "execution_count": 175,
   "id": "abaca923-df34-4872-a4d3-759e1f178bea",
   "metadata": {},
   "outputs": [
    {
     "name": "stdout",
     "output_type": "stream",
     "text": [
      "[1 2 3]\n"
     ]
    }
   ],
   "source": [
    "a = np.array([1, 2, 2, 3])\n",
    "print(np.unique(a))\n"
   ]
  },
  {
   "cell_type": "code",
   "execution_count": 176,
   "id": "3c243b68-7a8c-4330-9e87-d95d6358e686",
   "metadata": {},
   "outputs": [
    {
     "name": "stdout",
     "output_type": "stream",
     "text": [
      "[2 3]\n"
     ]
    }
   ],
   "source": [
    "b = np.array([2, 3, 4])\n",
    "print(np.intersect1d(a, b))"
   ]
  },
  {
   "cell_type": "code",
   "execution_count": 177,
   "id": "7448d38e-c3fe-4f6a-9323-05329ac91e52",
   "metadata": {},
   "outputs": [
    {
     "name": "stdout",
     "output_type": "stream",
     "text": [
      "[1 2 3 4]\n"
     ]
    }
   ],
   "source": [
    "print(np.union1d(a, b))"
   ]
  },
  {
   "cell_type": "code",
   "execution_count": 178,
   "id": "ee615ff3-4ed7-454d-a478-f6c5b4f3db0e",
   "metadata": {},
   "outputs": [
    {
     "name": "stdout",
     "output_type": "stream",
     "text": [
      "[1]\n"
     ]
    }
   ],
   "source": [
    "print(np.setdiff1d(a, b))\n"
   ]
  },
  {
   "cell_type": "code",
   "execution_count": 179,
   "id": "ca2b224f-e838-46fc-954f-f3aff69773f1",
   "metadata": {},
   "outputs": [
    {
     "name": "stdout",
     "output_type": "stream",
     "text": [
      "[1 4]\n"
     ]
    }
   ],
   "source": [
    "print(np.setxor1d(a, b))"
   ]
  },
  {
   "cell_type": "code",
   "execution_count": 181,
   "id": "48afc0d5-f072-4de1-8779-1122ecdbb8fb",
   "metadata": {},
   "outputs": [
    {
     "name": "stdout",
     "output_type": "stream",
     "text": [
      "{np.int64(1): np.int64(1), np.int64(2): np.int64(2), np.int64(3): np.int64(1)}\n"
     ]
    }
   ],
   "source": [
    "unique, counts = np.unique(a, return_counts=True)\n",
    "print(dict(zip(unique, counts)))"
   ]
  },
  {
   "cell_type": "code",
   "execution_count": 182,
   "id": "56f8f900-4064-4065-9eb7-19bd69c1bd7a",
   "metadata": {},
   "outputs": [
    {
     "name": "stdout",
     "output_type": "stream",
     "text": [
      "False\n"
     ]
    }
   ],
   "source": [
    "print(set(a) == set(b))"
   ]
  },
  {
   "cell_type": "code",
   "execution_count": 183,
   "id": "15981fb0-e8d3-4620-a8b7-69620b2fd28f",
   "metadata": {},
   "outputs": [
    {
     "name": "stdout",
     "output_type": "stream",
     "text": [
      "[1 2 3]\n"
     ]
    }
   ],
   "source": [
    "print(np.asarray(list(set(a))))"
   ]
  },
  {
   "cell_type": "code",
   "execution_count": 184,
   "id": "7449beb9-27dc-42e3-9c69-c4c9fd2b3ed5",
   "metadata": {},
   "outputs": [
    {
     "name": "stdout",
     "output_type": "stream",
     "text": [
      "[[1 2]\n",
      " [3 4]]\n"
     ]
    }
   ],
   "source": [
    "arr2d = np.array([[1, 2], [1, 2], [3, 4]])\n",
    "print(np.unique(arr2d, axis=0))"
   ]
  },
  {
   "cell_type": "code",
   "execution_count": 185,
   "id": "a151de35-1493-407d-9981-0cea44cc68a8",
   "metadata": {},
   "outputs": [
    {
     "name": "stdout",
     "output_type": "stream",
     "text": [
      "[18 19 14 24 25]\n",
      "[0.  1.8 3.6 5.4 7.2 9. ]\n"
     ]
    }
   ],
   "source": [
    "data = np.random.randint(0, 10, 100)\n",
    "hist, bins = np.histogram(data, bins=5)\n",
    "print(hist)\n",
    "print(bins)\n"
   ]
  },
  {
   "cell_type": "code",
   "execution_count": 186,
   "id": "25e7911d-2f48-455a-8253-ea1491acf7cb",
   "metadata": {},
   "outputs": [
    {
     "name": "stdout",
     "output_type": "stream",
     "text": [
      "[1 1 3]\n"
     ]
    }
   ],
   "source": [
    "print(np.digitize([1, 2, 6], bins=[0, 3, 6]))\n"
   ]
  },
  {
   "cell_type": "code",
   "execution_count": 187,
   "id": "d2d3ce59-4cd0-4899-aad9-570459da9833",
   "metadata": {},
   "outputs": [
    {
     "name": "stdout",
     "output_type": "stream",
     "text": [
      "(array([30, 21, 49]), array([ 0,  3,  6, 10]))\n"
     ]
    }
   ],
   "source": [
    "print(np.histogram(data, bins=[0, 3, 6, 10]))\n"
   ]
  },
  {
   "cell_type": "code",
   "execution_count": 188,
   "id": "13b189cd-61d4-4681-99d7-4970ab9fa0e3",
   "metadata": {},
   "outputs": [
    {
     "name": "stdout",
     "output_type": "stream",
     "text": [
      "[0.1        0.10555556 0.07777778 0.13333333 0.13888889]\n"
     ]
    }
   ],
   "source": [
    "hist, bins = np.histogram(data, bins=5, density=True)\n",
    "print(hist)"
   ]
  },
  {
   "cell_type": "code",
   "execution_count": 189,
   "id": "c01a584a-4820-4e03-a53d-1f7a45c660ff",
   "metadata": {},
   "outputs": [
    {
     "name": "stdout",
     "output_type": "stream",
     "text": [
      "[ 18  37  51  75 100]\n"
     ]
    }
   ],
   "source": [
    "hist, bins = np.histogram(data, bins=5)\n",
    "cumsum = np.cumsum(hist)\n",
    "print(cumsum)\n"
   ]
  },
  {
   "cell_type": "code",
   "execution_count": 190,
   "id": "c1199a40-dacb-4a8f-9966-9a25f762a03c",
   "metadata": {},
   "outputs": [
    {
     "name": "stdout",
     "output_type": "stream",
     "text": [
      "[[2. 3. 2. 4. 7.]\n",
      " [6. 3. 8. 5. 4.]\n",
      " [1. 5. 2. 1. 6.]\n",
      " [6. 1. 2. 4. 4.]\n",
      " [5. 7. 2. 7. 3.]]\n"
     ]
    }
   ],
   "source": [
    "x = np.random.rand(100)\n",
    "y = np.random.rand(100)\n",
    "H, xedges, yedges = np.histogram2d(x, y, bins=5)\n",
    "print(H)"
   ]
  },
  {
   "cell_type": "code",
   "execution_count": 191,
   "id": "5ed8311a-faeb-428f-aa2d-0953b62d6ffe",
   "metadata": {},
   "outputs": [
    {
     "name": "stdout",
     "output_type": "stream",
     "text": [
      "[18 19 14 24 25]\n"
     ]
    }
   ],
   "source": [
    "print(hist.flatten())"
   ]
  },
  {
   "cell_type": "code",
   "execution_count": 192,
   "id": "f8e4402b-f7c4-4e85-a98c-56b56ce5890d",
   "metadata": {},
   "outputs": [
    {
     "name": "stdout",
     "output_type": "stream",
     "text": [
      "[1 2 0 1 3]\n"
     ]
    }
   ],
   "source": [
    "values = np.array([0, 1, 1, 3, 4, 4, 4])\n",
    "print(np.bincount(values))"
   ]
  },
  {
   "cell_type": "code",
   "execution_count": 193,
   "id": "f531c0da-ce31-4f60-a465-5aae8543625f",
   "metadata": {},
   "outputs": [
    {
     "name": "stdout",
     "output_type": "stream",
     "text": [
      "[1. 2. 0. 1. 3.]\n"
     ]
    }
   ],
   "source": [
    "weights = np.ones_like(values)\n",
    "print(np.bincount(values, weights=weights))\n"
   ]
  },
  {
   "cell_type": "code",
   "execution_count": 194,
   "id": "8b0e849b-d67a-4df0-94e4-9d693141932b",
   "metadata": {},
   "outputs": [
    {
     "name": "stdout",
     "output_type": "stream",
     "text": [
      "[1 3 4]\n"
     ]
    }
   ],
   "source": [
    "bins = [0, 1, 2, 3, 4, 5]\n",
    "print(np.digitize([0.5, 2.2, 3.9], bins))"
   ]
  },
  {
   "cell_type": "code",
   "execution_count": 195,
   "id": "a00b876e-7f94-41a6-ac16-53ec27835baf",
   "metadata": {},
   "outputs": [
    {
     "name": "stdout",
     "output_type": "stream",
     "text": [
      "[[1 2 3]\n",
      " [1 2 3]]\n",
      "[[4 4 4]\n",
      " [5 5 5]]\n"
     ]
    }
   ],
   "source": [
    "x = np.array([1, 2, 3])\n",
    "y = np.array([4, 5])\n",
    "X, Y = np.meshgrid(x, y)\n",
    "print(X)\n",
    "print(Y)"
   ]
  },
  {
   "cell_type": "code",
   "execution_count": 196,
   "id": "ef5aa4e5-b770-405f-860d-48321bc22969",
   "metadata": {},
   "outputs": [
    {
     "name": "stdout",
     "output_type": "stream",
     "text": [
      "[[0 0 0]\n",
      " [1 1 1]]\n",
      "[[0 1 2]\n",
      " [0 1 2]]\n"
     ]
    }
   ],
   "source": [
    "i, j = np.indices((2, 3))\n",
    "print(i)\n",
    "print(j)\n"
   ]
  },
  {
   "cell_type": "code",
   "execution_count": 197,
   "id": "2f13d7d9-488e-4f29-a19c-71b20fa46af2",
   "metadata": {},
   "outputs": [
    {
     "name": "stdout",
     "output_type": "stream",
     "text": [
      "[[0]\n",
      " [1]\n",
      " [2]]\n",
      "[[0 1]]\n"
     ]
    }
   ],
   "source": [
    "og = np.ogrid[0:3, 0:2]\n",
    "print(og[0])\n",
    "print(og[1])"
   ]
  },
  {
   "cell_type": "code",
   "execution_count": 198,
   "id": "acc9ac0f-cbb6-4510-819f-1f0093db1eca",
   "metadata": {},
   "outputs": [
    {
     "name": "stdout",
     "output_type": "stream",
     "text": [
      "[[[0 0]\n",
      "  [1 1]\n",
      "  [2 2]]\n",
      "\n",
      " [[0 1]\n",
      "  [0 1]\n",
      "  [0 1]]]\n"
     ]
    }
   ],
   "source": [
    "mg = np.mgrid[0:3, 0:2]\n",
    "print(mg)"
   ]
  },
  {
   "cell_type": "code",
   "execution_count": 199,
   "id": "7d5a2774-0746-4db3-95bd-11636aab783e",
   "metadata": {},
   "outputs": [
    {
     "name": "stdout",
     "output_type": "stream",
     "text": [
      "[[2.   1.25 1.   1.25 2.  ]\n",
      " [1.25 0.5  0.25 0.5  1.25]\n",
      " [1.   0.25 0.   0.25 1.  ]\n",
      " [1.25 0.5  0.25 0.5  1.25]\n",
      " [2.   1.25 1.   1.25 2.  ]]\n"
     ]
    }
   ],
   "source": [
    "X, Y = np.meshgrid(np.linspace(-1, 1, 5), np.linspace(-1, 1, 5))\n",
    "Z = X**2 + Y**2\n",
    "print(Z)"
   ]
  },
  {
   "cell_type": "code",
   "execution_count": 200,
   "id": "36808cd3-0945-4e84-a156-f6413deb282c",
   "metadata": {},
   "outputs": [
    {
     "name": "stdout",
     "output_type": "stream",
     "text": [
      "(3, 3, 3)\n"
     ]
    }
   ],
   "source": [
    "x = np.linspace(0, 1, 3)\n",
    "y = np.linspace(0, 1, 3)\n",
    "z = np.linspace(0, 1, 3)\n",
    "X, Y, Z = np.meshgrid(x, y, z)\n",
    "print(X.shape)\n"
   ]
  },
  {
   "cell_type": "code",
   "execution_count": 201,
   "id": "120c2007-df77-4f89-a12c-194534c90607",
   "metadata": {},
   "outputs": [
    {
     "name": "stdout",
     "output_type": "stream",
     "text": [
      "[[1 1]\n",
      " [2 2]]\n",
      "[[3 4]\n",
      " [3 4]]\n"
     ]
    }
   ],
   "source": [
    "xi, yi = np.meshgrid([1, 2], [3, 4], indexing='ij')\n",
    "print(xi)\n",
    "print(yi)"
   ]
  },
  {
   "cell_type": "code",
   "execution_count": 202,
   "id": "7b8d7c11-6254-45e3-a281-28a123a0f93b",
   "metadata": {},
   "outputs": [
    {
     "name": "stdout",
     "output_type": "stream",
     "text": [
      "[[1 3]\n",
      " [2 3]\n",
      " [1 4]\n",
      " [2 4]]\n"
     ]
    }
   ],
   "source": [
    "x = [1, 2]\n",
    "y = [3, 4]\n",
    "X, Y = np.meshgrid(x, y)\n",
    "print(np.array([X.ravel(), Y.ravel()]).T)"
   ]
  },
  {
   "cell_type": "code",
   "execution_count": 203,
   "id": "e398bd62-bf3a-4031-9438-dd6639ada707",
   "metadata": {},
   "outputs": [
    {
     "name": "stdout",
     "output_type": "stream",
     "text": [
      "[[0.   0.25 0.5  0.75 1.  ]\n",
      " [0.   0.25 0.5  0.75 1.  ]\n",
      " [0.   0.25 0.5  0.75 1.  ]\n",
      " [0.   0.25 0.5  0.75 1.  ]\n",
      " [0.   0.25 0.5  0.75 1.  ]]\n",
      "[[0.         0.         0.         0.         0.        ]\n",
      " [1.57079633 1.57079633 1.57079633 1.57079633 1.57079633]\n",
      " [3.14159265 3.14159265 3.14159265 3.14159265 3.14159265]\n",
      " [4.71238898 4.71238898 4.71238898 4.71238898 4.71238898]\n",
      " [6.28318531 6.28318531 6.28318531 6.28318531 6.28318531]]\n"
     ]
    }
   ],
   "source": [
    "r = np.linspace(0, 1, 5)\n",
    "theta = np.linspace(0, 2 * np.pi, 5)\n",
    "R, T = np.meshgrid(r, theta)\n",
    "print(R)\n",
    "print(T)"
   ]
  },
  {
   "cell_type": "code",
   "execution_count": 204,
   "id": "6fc70e15-f0b3-4e12-9647-1af05b6f6e6d",
   "metadata": {},
   "outputs": [
    {
     "name": "stdout",
     "output_type": "stream",
     "text": [
      "[[0.         1.57079633 3.14159265]\n",
      " [0.         1.57079633 3.14159265]\n",
      " [0.         1.57079633 3.14159265]\n",
      " [0.         1.57079633 3.14159265]]\n",
      "[[0.         0.         0.        ]\n",
      " [2.0943951  2.0943951  2.0943951 ]\n",
      " [4.1887902  4.1887902  4.1887902 ]\n",
      " [6.28318531 6.28318531 6.28318531]]\n"
     ]
    }
   ],
   "source": [
    "phi = np.linspace(0, np.pi, 3)\n",
    "theta = np.linspace(0, 2 * np.pi, 4)\n",
    "PHI, THETA = np.meshgrid(phi, theta)\n",
    "print(PHI)\n",
    "print(THETA)"
   ]
  },
  {
   "cell_type": "code",
   "execution_count": 205,
   "id": "d82e9ca4-a7cd-4a32-b4a6-cf584f770df6",
   "metadata": {},
   "outputs": [
    {
     "name": "stdout",
     "output_type": "stream",
     "text": [
      "[('Alice', 25) ('Bob', 30)]\n"
     ]
    }
   ],
   "source": [
    "dt = np.dtype([('name', 'U10'), ('age', 'i4')])\n",
    "people = np.array([('Alice', 25), ('Bob', 30)], dtype=dt)\n",
    "print(people)"
   ]
  },
  {
   "cell_type": "code",
   "execution_count": 206,
   "id": "07ffc929-1188-4a7b-8580-c6193d22e6eb",
   "metadata": {},
   "outputs": [
    {
     "name": "stdout",
     "output_type": "stream",
     "text": [
      "['Alice' 'Bob']\n"
     ]
    }
   ],
   "source": [
    "print(people['name'])"
   ]
  },
  {
   "cell_type": "code",
   "execution_count": 207,
   "id": "11fad62d-e8ee-4f3e-8929-4d3205838c4a",
   "metadata": {},
   "outputs": [
    {
     "name": "stdout",
     "output_type": "stream",
     "text": [
      "[('Alice', 25) ('Bob', 30)]\n"
     ]
    }
   ],
   "source": [
    "sorted_people = np.sort(people, order='age')\n",
    "print(sorted_people)"
   ]
  },
  {
   "cell_type": "code",
   "execution_count": 208,
   "id": "e013d516-9159-44e4-a6e1-b18158cae09c",
   "metadata": {},
   "outputs": [
    {
     "name": "stdout",
     "output_type": "stream",
     "text": [
      "[('Bob', 30)]\n"
     ]
    }
   ],
   "source": [
    "print(people[people['age'] > 25])\n"
   ]
  },
  {
   "cell_type": "code",
   "execution_count": 209,
   "id": "ff43b7e8-b798-4e0e-a53d-4f8a8fb4dd50",
   "metadata": {},
   "outputs": [
    {
     "name": "stdout",
     "output_type": "stream",
     "text": [
      "[('Bob', 30)]\n"
     ]
    }
   ],
   "source": [
    "print(people[people['age'] > 25])\n"
   ]
  },
  {
   "cell_type": "code",
   "execution_count": 210,
   "id": "00977dc5-d33e-4ed5-a6b0-1af72cf8ef40",
   "metadata": {},
   "outputs": [
    {
     "name": "stdout",
     "output_type": "stream",
     "text": [
      "[('Alice', 25) ('Bob', 30) ('Charlie', 22)]\n"
     ]
    }
   ],
   "source": [
    "new = np.array([('Charlie', 22)], dtype=dt)\n",
    "people = np.concatenate((people, new))\n",
    "print(people)"
   ]
  },
  {
   "cell_type": "code",
   "execution_count": 211,
   "id": "58115692-c142-473a-8ab8-98035b0b5585",
   "metadata": {},
   "outputs": [
    {
     "name": "stdout",
     "output_type": "stream",
     "text": [
      "[((1., 2.), 10)]\n"
     ]
    }
   ],
   "source": [
    "dt_nested = np.dtype([('coords', [('x', 'f4'), ('y', 'f4')]), ('value', 'i4')])\n",
    "data = np.array([((1.0, 2.0), 10)], dtype=dt_nested)\n",
    "print(data)\n"
   ]
  },
  {
   "cell_type": "code",
   "execution_count": 212,
   "id": "b76ccc62-7fe7-4269-8d18-9a5b45f516c7",
   "metadata": {},
   "outputs": [
    {
     "name": "stdout",
     "output_type": "stream",
     "text": [
      "[('Alice', 25) ('Bob', 30) ('Charlie', 22)]\n"
     ]
    }
   ],
   "source": [
    "print(people[['name', 'age']])"
   ]
  },
  {
   "cell_type": "code",
   "execution_count": 215,
   "id": "5d42c67e-affa-477d-903c-a124e634aa3d",
   "metadata": {},
   "outputs": [
    {
     "name": "stdout",
     "output_type": "stream",
     "text": [
      "[1 -- 3]\n"
     ]
    }
   ],
   "source": [
    "import numpy.ma as ma\n",
    "data = ma.array([1, 2, 3], mask=[0, 1, 0])\n",
    "print(data)\n"
   ]
  },
  {
   "cell_type": "code",
   "execution_count": 214,
   "id": "e88531db-d6b9-43a9-a64c-ab838fec06f4",
   "metadata": {},
   "outputs": [
    {
     "name": "stdout",
     "output_type": "stream",
     "text": [
      "[False  True False]\n"
     ]
    }
   ],
   "source": [
    "print(data.mask)"
   ]
  },
  {
   "cell_type": "code",
   "execution_count": 216,
   "id": "934fdf19-7068-4283-82f3-01f26d1d5dbf",
   "metadata": {},
   "outputs": [
    {
     "name": "stdout",
     "output_type": "stream",
     "text": [
      "2.0\n"
     ]
    }
   ],
   "source": [
    "print(data.mean())"
   ]
  },
  {
   "cell_type": "code",
   "execution_count": 217,
   "id": "be2eed14-036b-4f5a-8ee4-991fdb2b5385",
   "metadata": {},
   "outputs": [
    {
     "name": "stdout",
     "output_type": "stream",
     "text": [
      "[ 1 -1  3]\n"
     ]
    }
   ],
   "source": [
    "print(data.filled(-1))"
   ]
  },
  {
   "cell_type": "code",
   "execution_count": 218,
   "id": "a16987c5-b293-4097-9425-5763ecd90590",
   "metadata": {},
   "outputs": [
    {
     "name": "stdout",
     "output_type": "stream",
     "text": [
      "[1 -- 3]\n"
     ]
    }
   ],
   "source": [
    "masked = ma.masked_equal([1, -99, 3], -99)\n",
    "print(masked)"
   ]
  },
  {
   "cell_type": "code",
   "execution_count": 219,
   "id": "bffcc9d8-5ec6-4145-9a81-9b83a12f83aa",
   "metadata": {},
   "outputs": [
    {
     "name": "stdout",
     "output_type": "stream",
     "text": [
      "[1 2 -- --]\n"
     ]
    }
   ],
   "source": [
    "x = np.array([1, 2, 3, 4])\n",
    "masked = ma.masked_where(x > 2, x)\n",
    "print(masked)"
   ]
  },
  {
   "cell_type": "code",
   "execution_count": 220,
   "id": "713bbd50-256e-463f-abc6-047a4c4ddaa8",
   "metadata": {},
   "outputs": [
    {
     "name": "stdout",
     "output_type": "stream",
     "text": [
      "[ True False  True]\n"
     ]
    }
   ],
   "source": [
    "a = ma.masked_less([1, 2, 3], 2)\n",
    "b = ma.masked_greater([1, 2, 3], 2)\n",
    "combined = ma.mask_or(a.mask, b.mask)\n",
    "print(combined)"
   ]
  },
  {
   "cell_type": "code",
   "execution_count": 221,
   "id": "39060696-bbc7-4a35-bedc-ea91fad43bf5",
   "metadata": {},
   "outputs": [
    {
     "name": "stdout",
     "output_type": "stream",
     "text": [
      "[1 3]\n"
     ]
    }
   ],
   "source": [
    "print(data.compressed())\n"
   ]
  },
  {
   "cell_type": "code",
   "execution_count": 222,
   "id": "691aa146-b18c-4daf-a9df-d2e9b5a54f4d",
   "metadata": {},
   "outputs": [
    {
     "name": "stdout",
     "output_type": "stream",
     "text": [
      "0.5\n"
     ]
    }
   ],
   "source": [
    "print(ma.std(masked))"
   ]
  },
  {
   "cell_type": "code",
   "execution_count": 223,
   "id": "28c5c9df-fe01-46e4-97f0-a501be63c33b",
   "metadata": {},
   "outputs": [
    {
     "name": "stdout",
     "output_type": "stream",
     "text": [
      "[[11 22]\n",
      " [13 24]]\n"
     ]
    }
   ],
   "source": [
    "matrix = np.array([[1, 2], [3, 4]])\n",
    "row = np.array([10, 20])\n",
    "print(matrix + row)\n"
   ]
  },
  {
   "cell_type": "code",
   "execution_count": 224,
   "id": "d1515ee0-fcbc-4003-9a78-6fb9872c7238",
   "metadata": {},
   "outputs": [
    {
     "name": "stdout",
     "output_type": "stream",
     "text": [
      "[[0 1]\n",
      " [1 2]]\n"
     ]
    }
   ],
   "source": [
    "col = np.array([[1], [2]])\n",
    "print(matrix - col)"
   ]
  },
  {
   "cell_type": "code",
   "execution_count": 225,
   "id": "30afa96b-874b-45de-b49b-825e749e1316",
   "metadata": {},
   "outputs": [
    {
     "name": "stdout",
     "output_type": "stream",
     "text": [
      "[[3 4]\n",
      " [6 8]]\n"
     ]
    }
   ],
   "source": [
    "a = np.array([1, 2])\n",
    "b = np.array([3, 4])\n",
    "print(np.outer(a, b))\n"
   ]
  },
  {
   "cell_type": "code",
   "execution_count": 226,
   "id": "30d2e646-2e2a-412a-9cec-7b7b6af0bc6b",
   "metadata": {},
   "outputs": [
    {
     "name": "stdout",
     "output_type": "stream",
     "text": [
      "[[2 3 4]\n",
      " [3 4 5]\n",
      " [4 5 6]]\n"
     ]
    }
   ],
   "source": [
    "arr = np.array([1, 2, 3])\n",
    "print(arr[:, None] + arr)"
   ]
  },
  {
   "cell_type": "code",
   "execution_count": 227,
   "id": "2b0c80b7-388e-48dc-87e1-408aa4200a40",
   "metadata": {},
   "outputs": [
    {
     "name": "stdout",
     "output_type": "stream",
     "text": [
      "[[0.4472136  0.89442719]\n",
      " [0.6        0.8       ]]\n"
     ]
    }
   ],
   "source": [
    "m = np.array([[1, 2], [3, 4]])\n",
    "norms = np.linalg.norm(m, axis=1, keepdims=True)\n",
    "print(m / norms)"
   ]
  },
  {
   "cell_type": "code",
   "execution_count": 228,
   "id": "a36daeaf-f565-4e8a-ac04-4073a776f661",
   "metadata": {},
   "outputs": [
    {
     "name": "stdout",
     "output_type": "stream",
     "text": [
      "[False  True False]\n"
     ]
    }
   ],
   "source": [
    "x = np.array([1, 2, 3])\n",
    "y = 2\n",
    "print(x == y)\n"
   ]
  },
  {
   "cell_type": "code",
   "execution_count": 229,
   "id": "e5bd9c35-d7d8-4c4b-9b55-695cfae60f34",
   "metadata": {},
   "outputs": [
    {
     "name": "stdout",
     "output_type": "stream",
     "text": [
      "[[1. 1. 1.]\n",
      " [2. 2. 2.]\n",
      " [3. 3. 3.]]\n"
     ]
    }
   ],
   "source": [
    "a = np.ones((3, 3))\n",
    "b = np.array([1, 2, 3])\n",
    "print(a * b[:, np.newaxis])"
   ]
  },
  {
   "cell_type": "code",
   "execution_count": 230,
   "id": "b6bb41c3-b9f4-4aee-8037-ba9cdbae4951",
   "metadata": {},
   "outputs": [
    {
     "name": "stdout",
     "output_type": "stream",
     "text": [
      "['2025-06-01' '2025-06-10']\n"
     ]
    }
   ],
   "source": [
    "dates = np.array(['2025-06-01', '2025-06-10'], dtype='datetime64[D]')\n",
    "print(dates)"
   ]
  },
  {
   "cell_type": "code",
   "execution_count": 231,
   "id": "8b654ac4-175e-430f-99c9-adc6262afa34",
   "metadata": {},
   "outputs": [
    {
     "name": "stdout",
     "output_type": "stream",
     "text": [
      "['2025-01' '2025-02' '2025-03']\n"
     ]
    }
   ],
   "source": [
    "print(np.arange('2025-01', '2025-04', dtype='datetime64[M]'))"
   ]
  },
  {
   "cell_type": "code",
   "execution_count": 232,
   "id": "48724ec6-26fb-46b8-956b-ebea75c297d7",
   "metadata": {},
   "outputs": [
    {
     "name": "stdout",
     "output_type": "stream",
     "text": [
      "['2025-06-06' '2025-06-15']\n"
     ]
    }
   ],
   "source": [
    "print(dates + np.timedelta64(5, 'D'))"
   ]
  },
  {
   "cell_type": "code",
   "execution_count": 233,
   "id": "6d7962f5-e991-4c10-96d3-9b08b3916709",
   "metadata": {},
   "outputs": [
    {
     "name": "stdout",
     "output_type": "stream",
     "text": [
      "9 days\n"
     ]
    }
   ],
   "source": [
    "print(dates[1] - dates[0])\n"
   ]
  },
  {
   "cell_type": "code",
   "execution_count": 235,
   "id": "3955b66d-14ca-49ac-9d4c-04379ebe6d73",
   "metadata": {},
   "outputs": [
    {
     "name": "stdout",
     "output_type": "stream",
     "text": [
      "[9]\n"
     ]
    }
   ],
   "source": [
    "delta = np.array(['2025-06-10'], dtype='datetime64[D]') - np.array(['2025-06-01'], dtype='datetime64[D]')\n",
    "print(delta.astype(int))"
   ]
  },
  {
   "cell_type": "code",
   "execution_count": 236,
   "id": "3924f52a-f0d6-4b34-8f14-946b9d5c3dad",
   "metadata": {},
   "outputs": [
    {
     "name": "stdout",
     "output_type": "stream",
     "text": [
      "2025-06-29\n"
     ]
    }
   ],
   "source": [
    "print(np.datetime64('today', 'D'))"
   ]
  },
  {
   "cell_type": "code",
   "execution_count": 237,
   "id": "75121856-c555-43bb-8667-8ab7cd2c5a0e",
   "metadata": {},
   "outputs": [
    {
     "name": "stdout",
     "output_type": "stream",
     "text": [
      "['2025-01' '2025-02' '2025-03' '2025-04' '2025-05' '2025-06' '2025-07'\n",
      " '2025-08' '2025-09' '2025-10' '2025-11' '2025-12']\n"
     ]
    }
   ],
   "source": [
    "print(np.arange('2025-01', '2026-01', dtype='datetime64[M]'))\n"
   ]
  },
  {
   "cell_type": "code",
   "execution_count": 238,
   "id": "0b565936-0d59-4bb7-93d9-29932bfd039f",
   "metadata": {},
   "outputs": [
    {
     "name": "stdout",
     "output_type": "stream",
     "text": [
      "[1 1]\n"
     ]
    }
   ],
   "source": [
    "months = np.arange('2025-01', '2025-04', dtype='datetime64[M]')\n",
    "print(np.diff(months))"
   ]
  },
  {
   "cell_type": "code",
   "execution_count": 239,
   "id": "6268d6b5-4d58-4169-a5bc-643b8e47dc7a",
   "metadata": {},
   "outputs": [
    {
     "name": "stdout",
     "output_type": "stream",
     "text": [
      "[      0       2       4 ... 1999994 1999996 1999998]\n"
     ]
    }
   ],
   "source": [
    "x = np.arange(1000000)\n",
    "print(x * 2)"
   ]
  },
  {
   "cell_type": "code",
   "execution_count": 240,
   "id": "1279b554-e567-4574-b4d6-d82f0af331e3",
   "metadata": {},
   "outputs": [
    {
     "name": "stdout",
     "output_type": "stream",
     "text": [
      "[  0   0 100]\n"
     ]
    }
   ],
   "source": [
    "arr = np.array([1, 2, 3])\n",
    "print(np.where(arr > 2, 100, 0))"
   ]
  },
  {
   "cell_type": "code",
   "execution_count": 241,
   "id": "80c1224e-a84e-4593-b9a7-14040a53862b",
   "metadata": {},
   "outputs": [
    {
     "name": "stdout",
     "output_type": "stream",
     "text": [
      "True\n"
     ]
    }
   ],
   "source": [
    "arr = np.arange(10)\n",
    "view = arr.view()\n",
    "print(view.base is arr) "
   ]
  },
  {
   "cell_type": "code",
   "execution_count": 242,
   "id": "013fd466-24e4-4c90-9109-90c910182f3f",
   "metadata": {},
   "outputs": [
    {
     "name": "stdout",
     "output_type": "stream",
     "text": [
      "[100   2   3]\n"
     ]
    }
   ],
   "source": [
    "a = np.array([1, 2, 3])\n",
    "b = a.view()\n",
    "b[0] = 100\n",
    "print(a)"
   ]
  },
  {
   "cell_type": "code",
   "execution_count": 243,
   "id": "252c771e-593c-4480-a491-9ee99c3cf928",
   "metadata": {},
   "outputs": [
    {
     "name": "stdout",
     "output_type": "stream",
     "text": [
      "[     0    100    200 ... 999700 999800 999900]\n"
     ]
    }
   ],
   "source": [
    "x = np.arange(1000000)\n",
    "print(x[::100])"
   ]
  },
  {
   "cell_type": "code",
   "execution_count": 244,
   "id": "b32d78ff-5ce4-4449-b0fc-ae2075be2b54",
   "metadata": {},
   "outputs": [
    {
     "name": "stdout",
     "output_type": "stream",
     "text": [
      "[2 4 6]\n"
     ]
    }
   ],
   "source": [
    "x = np.array([1, 2, 3])\n",
    "x *= 2\n",
    "print(x)"
   ]
  },
  {
   "cell_type": "code",
   "execution_count": 245,
   "id": "2a08fe91-4527-4c53-a8c6-a304298b7496",
   "metadata": {},
   "outputs": [
    {
     "name": "stdout",
     "output_type": "stream",
     "text": [
      "[2. 4. 6.]\n"
     ]
    }
   ],
   "source": [
    "x = np.array([1.0, 2.0, 3.0])\n",
    "y = np.empty_like(x)\n",
    "np.add(x, x, out=y)\n",
    "print(y)"
   ]
  },
  {
   "cell_type": "code",
   "execution_count": 246,
   "id": "ebcc5e18-880b-4fa2-87e5-e255c10fe185",
   "metadata": {},
   "outputs": [
    {
     "name": "stdout",
     "output_type": "stream",
     "text": [
      "True\n"
     ]
    }
   ],
   "source": [
    "a = np.array([1.00001, 1.00002])\n",
    "b = np.array([1.00002, 1.00001])\n",
    "print(np.allclose(a, b, atol=1e-4))"
   ]
  },
  {
   "cell_type": "code",
   "execution_count": null,
   "id": "f4bee7be-6812-491a-a3d8-c4a618e5576a",
   "metadata": {},
   "outputs": [],
   "source": []
  }
 ],
 "metadata": {
  "kernelspec": {
   "display_name": "Python 3 (ipykernel)",
   "language": "python",
   "name": "python3"
  },
  "language_info": {
   "codemirror_mode": {
    "name": "ipython",
    "version": 3
   },
   "file_extension": ".py",
   "mimetype": "text/x-python",
   "name": "python",
   "nbconvert_exporter": "python",
   "pygments_lexer": "ipython3",
   "version": "3.12.11"
  }
 },
 "nbformat": 4,
 "nbformat_minor": 5
}
