{
 "cells": [
  {
   "cell_type": "code",
   "execution_count": 1,
   "id": "32e26fbe-9f20-4dc3-ba96-6859311fa60a",
   "metadata": {},
   "outputs": [],
   "source": [
    "entries = ['one', 2, 'three', False]"
   ]
  },
  {
   "cell_type": "code",
   "execution_count": 2,
   "id": "fbb63290-3809-4d4a-8e21-547a4cf2c504",
   "metadata": {},
   "outputs": [
    {
     "name": "stdout",
     "output_type": "stream",
     "text": [
      "['one', 2, 'three', False]\n"
     ]
    }
   ],
   "source": [
    "print(entries)"
   ]
  },
  {
   "cell_type": "code",
   "execution_count": 3,
   "id": "d3212d9f-4c18-4728-8aba-3698c72564a6",
   "metadata": {},
   "outputs": [
    {
     "name": "stdout",
     "output_type": "stream",
     "text": [
      "['three', False]\n"
     ]
    }
   ],
   "source": [
    "print(entries[2:7])"
   ]
  },
  {
   "cell_type": "code",
   "execution_count": 4,
   "id": "dedf8d67-d61f-4cdc-83f4-30f88e6350c9",
   "metadata": {},
   "outputs": [
    {
     "name": "stdout",
     "output_type": "stream",
     "text": [
      "(100, 200, 'three', 'four')\n"
     ]
    }
   ],
   "source": [
    "entryTuple = (100, 200, 'three', 'four')\n",
    "print(entryTuple)"
   ]
  },
  {
   "cell_type": "code",
   "execution_count": 5,
   "id": "be7147f3-bd18-44dc-8373-4bb317902cc2",
   "metadata": {},
   "outputs": [
    {
     "name": "stdout",
     "output_type": "stream",
     "text": [
      "['Toronto', 'Monteal', 'Vancouver']\n"
     ]
    }
   ],
   "source": [
    "cities = ['Toronto', 'Monteal', 'Vancouver']\n",
    "print(cities)"
   ]
  },
  {
   "cell_type": "code",
   "execution_count": 6,
   "id": "2701f456-8534-46fa-917b-36b11fe7f713",
   "metadata": {},
   "outputs": [
    {
     "name": "stdout",
     "output_type": "stream",
     "text": [
      "[('Anders', 'A', 21), ('Balmer', 'B', 45), ('Stephe', 'S', 24)]\n"
     ]
    }
   ],
   "source": [
    "users = [\n",
    "    ('Anders', 'A', 21),\n",
    "    ('Balmer', 'B', 45),\n",
    "    ('Stephe', 'S', 24)\n",
    "]\n",
    "\n",
    "print(users)"
   ]
  },
  {
   "cell_type": "code",
   "execution_count": 7,
   "id": "6d50fd5c-5f28-49ce-b1a6-024c683b0a94",
   "metadata": {},
   "outputs": [
    {
     "data": {
      "text/plain": [
       "[('Anders', 'A', 21), ('Stephe', 'S', 24), ('Balmer', 'B', 45)]"
      ]
     },
     "execution_count": 7,
     "metadata": {},
     "output_type": "execute_result"
    }
   ],
   "source": [
    "sorted(users, key = lambda x: x[2])"
   ]
  },
  {
   "cell_type": "code",
   "execution_count": 8,
   "id": "58f186d4-5467-4bee-aba3-b081db41ea93",
   "metadata": {},
   "outputs": [
    {
     "data": {
      "text/plain": [
       "[('Balmer', 'B', 45), ('Stephe', 'S', 24), ('Anders', 'A', 21)]"
      ]
     },
     "execution_count": 8,
     "metadata": {},
     "output_type": "execute_result"
    }
   ],
   "source": [
    "sorted(users, key = lambda x: -x[2])"
   ]
  },
  {
   "cell_type": "code",
   "execution_count": null,
   "id": "c2abc2fd-25c5-4896-bb25-ad5b1d3abc29",
   "metadata": {},
   "outputs": [],
   "source": []
  }
 ],
 "metadata": {
  "kernelspec": {
   "display_name": "Python 3 (ipykernel)",
   "language": "python",
   "name": "python3"
  },
  "language_info": {
   "codemirror_mode": {
    "name": "ipython",
    "version": 3
   },
   "file_extension": ".py",
   "mimetype": "text/x-python",
   "name": "python",
   "nbconvert_exporter": "python",
   "pygments_lexer": "ipython3",
   "version": "3.12.11"
  }
 },
 "nbformat": 4,
 "nbformat_minor": 5
}
