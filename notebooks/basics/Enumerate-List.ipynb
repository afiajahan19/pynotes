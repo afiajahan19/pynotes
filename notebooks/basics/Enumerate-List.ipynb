{
 "cells": [
  {
   "cell_type": "code",
   "execution_count": 1,
   "id": "504e2939-6f9d-4ac1-a85a-58549556be53",
   "metadata": {},
   "outputs": [],
   "source": [
    "animals = ['cat', 'dog', 'monkey']"
   ]
  },
  {
   "cell_type": "code",
   "execution_count": 2,
   "id": "65e32d7f-434d-4ca1-a2fe-cfb966d71ffc",
   "metadata": {},
   "outputs": [
    {
     "name": "stdout",
     "output_type": "stream",
     "text": [
      "#0: cat\n",
      "#1: dog\n",
      "#2: monkey\n"
     ]
    }
   ],
   "source": [
    "for idx, animal in enumerate(animals):\n",
    "    print ('#%d: %s' % (idx , animal))"
   ]
  },
  {
   "cell_type": "code",
   "execution_count": null,
   "id": "0ae3dac5-828d-49b0-9f2a-aee09f5b2f0d",
   "metadata": {},
   "outputs": [],
   "source": []
  }
 ],
 "metadata": {
  "kernelspec": {
   "display_name": "Python 3 (ipykernel)",
   "language": "python",
   "name": "python3"
  },
  "language_info": {
   "codemirror_mode": {
    "name": "ipython",
    "version": 3
   },
   "file_extension": ".py",
   "mimetype": "text/x-python",
   "name": "python",
   "nbconvert_exporter": "python",
   "pygments_lexer": "ipython3",
   "version": "3.12.11"
  }
 },
 "nbformat": 4,
 "nbformat_minor": 5
}
