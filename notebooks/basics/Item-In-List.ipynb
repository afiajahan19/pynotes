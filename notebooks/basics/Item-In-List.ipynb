{
 "cells": [
  {
   "cell_type": "code",
   "execution_count": 4,
   "id": "9ec31491-17e1-4b69-9926-3751eee49110",
   "metadata": {},
   "outputs": [
    {
     "data": {
      "text/plain": [
       "'conda env: C:\\\\Users\\\\Afia Jahan\\\\anaconda3\\\\envs\\\\py312; pyv: 3.12.11 | packaged by Anaconda, Inc. | (main, Jun  5 2025, 12:58:53) [MSC v.1929 64 bit (AMD64)]'"
      ]
     },
     "execution_count": 4,
     "metadata": {},
     "output_type": "execute_result"
    }
   ],
   "source": [
    "import pyutil as pyu\n",
    "pyu.get_local_pyinfo()"
   ]
  },
  {
   "cell_type": "code",
   "execution_count": 5,
   "id": "320087da-666c-4a8f-8523-5d6e0d5c37ae",
   "metadata": {},
   "outputs": [
    {
     "name": "stdout",
     "output_type": "stream",
     "text": [
      "\n"
     ]
    }
   ],
   "source": [
    "print(pyu.ps2(\"haystack-ai ollama-haystack python-dotenv\"))"
   ]
  },
  {
   "cell_type": "code",
   "execution_count": 6,
   "id": "9090357a-1590-444b-8b19-765a44498676",
   "metadata": {},
   "outputs": [],
   "source": [
    "model_cache = {\n",
    "    \"test1.joblib\" : {\"one\" : \"two\"}\n",
    "}"
   ]
  },
  {
   "cell_type": "code",
   "execution_count": 7,
   "id": "aceced1b-7337-42ce-9b5e-bef9fd1be6c1",
   "metadata": {},
   "outputs": [],
   "source": [
    "cache_keys = list(model_cache.keys())"
   ]
  },
  {
   "cell_type": "code",
   "execution_count": 8,
   "id": "0b36795d-ff20-4c98-9893-2692ac7e6a43",
   "metadata": {},
   "outputs": [
    {
     "data": {
      "text/plain": [
       "['test1.joblib']"
      ]
     },
     "execution_count": 8,
     "metadata": {},
     "output_type": "execute_result"
    }
   ],
   "source": [
    "cache_keys"
   ]
  },
  {
   "cell_type": "code",
   "execution_count": 9,
   "id": "55521f05-298f-47e6-ae2f-dfb57af750c2",
   "metadata": {},
   "outputs": [],
   "source": [
    "joblib_path = 'test1.joblib'"
   ]
  },
  {
   "cell_type": "code",
   "execution_count": 10,
   "id": "4b9f5d4e-3888-4b8d-8fcf-84fe76da7f4d",
   "metadata": {},
   "outputs": [
    {
     "data": {
      "text/plain": [
       "False"
      ]
     },
     "execution_count": 10,
     "metadata": {},
     "output_type": "execute_result"
    }
   ],
   "source": [
    "joblib_path not in cache_keys"
   ]
  },
  {
   "cell_type": "code",
   "execution_count": 11,
   "id": "d9c0e747-1e43-4bc9-8fe5-851e45b4b700",
   "metadata": {},
   "outputs": [
    {
     "data": {
      "text/plain": [
       "True"
      ]
     },
     "execution_count": 11,
     "metadata": {},
     "output_type": "execute_result"
    }
   ],
   "source": [
    "joblib_path in cache_keys"
   ]
  },
  {
   "cell_type": "code",
   "execution_count": null,
   "id": "0ccb3b62-756f-4edf-9471-856dacb32dc7",
   "metadata": {},
   "outputs": [],
   "source": []
  }
 ],
 "metadata": {
  "kernelspec": {
   "display_name": "Python 3 (ipykernel)",
   "language": "python",
   "name": "python3"
  },
  "language_info": {
   "codemirror_mode": {
    "name": "ipython",
    "version": 3
   },
   "file_extension": ".py",
   "mimetype": "text/x-python",
   "name": "python",
   "nbconvert_exporter": "python",
   "pygments_lexer": "ipython3",
   "version": "3.12.11"
  }
 },
 "nbformat": 4,
 "nbformat_minor": 5
}
