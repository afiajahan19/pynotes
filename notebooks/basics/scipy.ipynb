{
 "cells": [
  {
   "cell_type": "code",
   "execution_count": 1,
   "id": "968de22f-5441-4e23-bdc1-d98e09c2f1f7",
   "metadata": {},
   "outputs": [
    {
     "name": "stdout",
     "output_type": "stream",
     "text": [
      "SciPy version: 1.13.1\n"
     ]
    }
   ],
   "source": [
    "# 1. Import scipy\n",
    "import scipy\n",
    "print(\"SciPy version:\", scipy.__version__)\n"
   ]
  },
  {
   "cell_type": "code",
   "execution_count": 2,
   "id": "fa69fc75-1eb2-4558-bb04-9eac1621cc09",
   "metadata": {},
   "outputs": [
    {
     "name": "stdout",
     "output_type": "stream",
     "text": [
      "Value of pi: 3.141592653589793\n"
     ]
    }
   ],
   "source": [
    "# 2. Use scipy.constants to get pi\n",
    "from scipy.constants import pi\n",
    "print(\"Value of pi:\", pi)\n"
   ]
  },
  {
   "cell_type": "code",
   "execution_count": 3,
   "id": "c07447b1-857c-4c40-a2ef-842d08ffe3f3",
   "metadata": {},
   "outputs": [
    {
     "name": "stdout",
     "output_type": "stream",
     "text": [
      "Speed of light (m/s): 299792458.0\n"
     ]
    }
   ],
   "source": [
    "# 3. Speed of light\n",
    "from scipy.constants import c\n",
    "print(\"Speed of light (m/s):\", c)\n"
   ]
  },
  {
   "cell_type": "code",
   "execution_count": 4,
   "id": "67d70995-e645-4dc8-9cf5-2c6ceed06fc5",
   "metadata": {},
   "outputs": [
    {
     "name": "stdout",
     "output_type": "stream",
     "text": [
      "Planck’s constant: 6.62607015e-34\n"
     ]
    }
   ],
   "source": [
    "# 4. Planck’s constant\n",
    "from scipy.constants import h\n",
    "print(\"Planck’s constant:\", h)\n"
   ]
  },
  {
   "cell_type": "code",
   "execution_count": 5,
   "id": "648c6934-c682-45a6-ac06-45cb5f21bd82",
   "metadata": {},
   "outputs": [
    {
     "name": "stdout",
     "output_type": "stream",
     "text": [
      "Gravitational constant: 6.6743e-11\n"
     ]
    }
   ],
   "source": [
    "# 5. Gravitational constant\n",
    "from scipy.constants import G\n",
    "print(\"Gravitational constant:\", G)\n"
   ]
  },
  {
   "cell_type": "code",
   "execution_count": 6,
   "id": "37980920-9fc5-414e-8b72-3d034a7aa30d",
   "metadata": {},
   "outputs": [
    {
     "name": "stdout",
     "output_type": "stream",
     "text": [
      "Boltzmann constant: 1.380649e-23\n"
     ]
    }
   ],
   "source": [
    "# 6. Boltzmann constant\n",
    "from scipy.constants import k\n",
    "print(\"Boltzmann constant:\", k)\n"
   ]
  },
  {
   "cell_type": "code",
   "execution_count": 7,
   "id": "ef124cc9-ff7c-40d5-aac5-b13859d9c829",
   "metadata": {},
   "outputs": [
    {
     "name": "stdout",
     "output_type": "stream",
     "text": [
      "Avogadro's number: 6.02214076e+23\n"
     ]
    }
   ],
   "source": [
    "# 7. Avogadro constant\n",
    "from scipy.constants import N_A\n",
    "print(\"Avogadro's number:\", N_A)\n"
   ]
  },
  {
   "cell_type": "code",
   "execution_count": 8,
   "id": "10f36f9d-da70-4be7-bd7e-40fa482d841c",
   "metadata": {},
   "outputs": [
    {
     "name": "stdout",
     "output_type": "stream",
     "text": [
      "Elementary charge: 1.602176634e-19\n"
     ]
    }
   ],
   "source": [
    "# 8. Electron charge\n",
    "from scipy.constants import e\n",
    "print(\"Elementary charge:\", e)\n"
   ]
  },
  {
   "cell_type": "code",
   "execution_count": 9,
   "id": "14c869ff-bff2-41ba-907b-4714c4aef42f",
   "metadata": {},
   "outputs": [
    {
     "name": "stdout",
     "output_type": "stream",
     "text": [
      "Vacuum permittivity: 8.8541878128e-12\n"
     ]
    }
   ],
   "source": [
    "# 9. Vacuum permittivity\n",
    "from scipy.constants import epsilon_0\n",
    "print(\"Vacuum permittivity:\", epsilon_0)\n"
   ]
  },
  {
   "cell_type": "code",
   "execution_count": 10,
   "id": "a4f86a56-8a21-417b-a116-60ee2ad49b78",
   "metadata": {},
   "outputs": [
    {
     "name": "stdout",
     "output_type": "stream",
     "text": [
      "1 calorie =  4.184 Joules\n"
     ]
    }
   ],
   "source": [
    "# 10. Convert calories to joules\n",
    "from scipy.constants import calorie\n",
    "print(\"1 calorie = \", calorie, \"Joules\")\n"
   ]
  },
  {
   "cell_type": "code",
   "execution_count": 11,
   "id": "534d271a-ff6e-4c12-a0e7-f1ba8771e0c9",
   "metadata": {},
   "outputs": [
    {
     "name": "stdout",
     "output_type": "stream",
     "text": [
      "1 hour = 3600.0 seconds\n"
     ]
    }
   ],
   "source": [
    "# 11. Convert hour to seconds\n",
    "from scipy.constants import hour\n",
    "print(\"1 hour =\", hour, \"seconds\")\n"
   ]
  },
  {
   "cell_type": "code",
   "execution_count": 12,
   "id": "186741b5-3c3f-41a4-a527-88bcce8306c3",
   "metadata": {},
   "outputs": [
    {
     "name": "stdout",
     "output_type": "stream",
     "text": [
      "1 inch = 0.0254 meters\n"
     ]
    }
   ],
   "source": [
    "# 12. Convert inches to meters\n",
    "from scipy.constants import inch\n",
    "print(\"1 inch =\", inch, \"meters\")\n"
   ]
  },
  {
   "cell_type": "code",
   "execution_count": 13,
   "id": "9cb52d10-5cf5-4872-a004-d6ced8b99e8c",
   "metadata": {},
   "outputs": [
    {
     "name": "stdout",
     "output_type": "stream",
     "text": [
      "1 mile = 1609.3439999999998 meters\n"
     ]
    }
   ],
   "source": [
    "# 13. Convert miles to meters\n",
    "from scipy.constants import mile\n",
    "print(\"1 mile =\", mile, \"meters\")\n"
   ]
  },
  {
   "cell_type": "code",
   "execution_count": 14,
   "id": "e44da01b-0de2-466b-bad8-4a09ab5df012",
   "metadata": {},
   "outputs": [
    {
     "name": "stdout",
     "output_type": "stream",
     "text": [
      "1 degree = 0.017453292519943295 radians\n"
     ]
    }
   ],
   "source": [
    "# 14. Convert degree to radians\n",
    "from scipy.constants import degree\n",
    "print(\"1 degree =\", degree, \"radians\")\n"
   ]
  },
  {
   "cell_type": "code",
   "execution_count": 15,
   "id": "6071dfaa-734d-43be-9b08-c1174d658cae",
   "metadata": {},
   "outputs": [
    {
     "name": "stdout",
     "output_type": "stream",
     "text": [
      "['Avogadro', 'Boltzmann', 'Btu', 'Btu_IT', 'Btu_th', 'ConstantWarning', 'G', 'Julian_year', 'N_A', 'Planck', 'R', 'Rydberg', 'Stefan_Boltzmann', 'Wien', '__all__', '__builtins__', '__cached__', '__doc__', '__file__', '__loader__', '__name__', '__package__', '__path__', '__spec__', '_codata', '_constants', '_obsolete_constants', 'acre', 'alpha', 'angstrom', 'arcmin', 'arcminute', 'arcsec', 'arcsecond', 'astronomical_unit', 'atm', 'atmosphere', 'atomic_mass', 'atto', 'au', 'bar', 'barrel', 'bbl', 'blob', 'c', 'calorie', 'calorie_IT', 'calorie_th', 'carat', 'centi', 'codata', 'constants', 'convert_temperature', 'day', 'deci', 'degree', 'degree_Fahrenheit', 'deka', 'dyn', 'dyne', 'e', 'eV', 'electron_mass', 'electron_volt', 'elementary_charge', 'epsilon_0', 'erg', 'exa', 'exbi', 'femto', 'fermi', 'find', 'fine_structure', 'fluid_ounce', 'fluid_ounce_US', 'fluid_ounce_imp', 'foot', 'g', 'gallon', 'gallon_US', 'gallon_imp', 'gas_constant', 'gibi', 'giga', 'golden', 'golden_ratio', 'grain', 'gram', 'gravitational_constant', 'h', 'hbar', 'hectare', 'hecto', 'horsepower', 'hour', 'hp', 'inch', 'k', 'kgf', 'kibi', 'kilo', 'kilogram_force', 'kmh', 'knot', 'lambda2nu', 'lb', 'lbf', 'light_year', 'liter', 'litre', 'long_ton', 'm_e', 'm_n', 'm_p', 'm_u', 'mach', 'mebi', 'mega', 'metric_ton', 'micro', 'micron', 'mil', 'mile', 'milli', 'minute', 'mmHg', 'mph', 'mu_0', 'nano', 'nautical_mile', 'neutron_mass', 'nu2lambda', 'ounce', 'oz', 'parsec', 'pebi', 'peta', 'physical_constants', 'pi', 'pico', 'point', 'pound', 'pound_force', 'precision', 'proton_mass', 'psi', 'pt', 'quecto', 'quetta', 'ronna', 'ronto', 'short_ton', 'sigma', 'slinch', 'slug', 'speed_of_light', 'speed_of_sound', 'stone', 'survey_foot', 'survey_mile', 'tebi', 'tera', 'test', 'ton_TNT', 'torr', 'troy_ounce', 'troy_pound', 'u', 'unit', 'value', 'week', 'yard', 'year', 'yobi', 'yocto', 'yotta', 'zebi', 'zepto', 'zero_Celsius', 'zetta']\n"
     ]
    }
   ],
   "source": [
    "# 15. List all available physical constants\n",
    "import scipy.constants\n",
    "print(dir(scipy.constants))\n"
   ]
  },
  {
   "cell_type": "code",
   "execution_count": 16,
   "id": "05bdec78-13af-4bcd-8f7d-a8cb05821c4b",
   "metadata": {},
   "outputs": [
    {
     "name": "stdout",
     "output_type": "stream",
     "text": [
      "Golden Ratio: 1.618033988749895\n"
     ]
    }
   ],
   "source": [
    "# 16. Find value of golden ratio\n",
    "from scipy.constants import golden\n",
    "print(\"Golden Ratio:\", golden)\n"
   ]
  },
  {
   "cell_type": "code",
   "execution_count": 17,
   "id": "dc032c4a-8018-42f7-be3d-e50c6a9e4030",
   "metadata": {},
   "outputs": [
    {
     "name": "stdout",
     "output_type": "stream",
     "text": [
      "Standard gravity: 9.80665\n"
     ]
    }
   ],
   "source": [
    "# 17. Find standard acceleration due to gravity\n",
    "from scipy.constants import g\n",
    "print(\"Standard gravity:\", g)\n"
   ]
  },
  {
   "cell_type": "code",
   "execution_count": 18,
   "id": "bfbdf5b2-dda2-4f94-a342-832d7925eacd",
   "metadata": {},
   "outputs": [
    {
     "name": "stdout",
     "output_type": "stream",
     "text": [
      "Molar gas constant: 8.314462618\n"
     ]
    }
   ],
   "source": [
    "# 18. Find molar gas constant\n",
    "from scipy.constants import R\n",
    "print(\"Molar gas constant:\", R)\n"
   ]
  },
  {
   "cell_type": "code",
   "execution_count": 19,
   "id": "b9bb5384-01d0-4470-857c-b93f2555ccd5",
   "metadata": {},
   "outputs": [
    {
     "name": "stdout",
     "output_type": "stream",
     "text": [
      "Stefan-Boltzmann constant: 5.670374419e-08\n"
     ]
    }
   ],
   "source": [
    "# 19. Find Stefan-Boltzmann constant\n",
    "from scipy.constants import sigma\n",
    "print(\"Stefan-Boltzmann constant:\", sigma)\n"
   ]
  },
  {
   "cell_type": "code",
   "execution_count": 20,
   "id": "d54589fe-9ebb-42fe-8370-b89884187ded",
   "metadata": {},
   "outputs": [
    {
     "name": "stdout",
     "output_type": "stream",
     "text": [
      "1 mmHg = 133.32236842105263 Pascal\n"
     ]
    }
   ],
   "source": [
    "# 20. Convert mmHg to Pascal\n",
    "from scipy.constants import mmHg\n",
    "print(\"1 mmHg =\", mmHg, \"Pascal\")\n"
   ]
  },
  {
   "cell_type": "code",
   "execution_count": 21,
   "id": "b9bcafe7-c7fa-43fe-b995-be68c0f11fa4",
   "metadata": {},
   "outputs": [
    {
     "name": "stdout",
     "output_type": "stream",
     "text": [
      "Gamma(5): 24.0\n"
     ]
    }
   ],
   "source": [
    "# 21. Gamma function\n",
    "from scipy.special import gamma\n",
    "print(\"Gamma(5):\", gamma(5))\n"
   ]
  },
  {
   "cell_type": "code",
   "execution_count": 22,
   "id": "1ac48f22-6d1a-4aef-947a-94c42903baad",
   "metadata": {},
   "outputs": [
    {
     "name": "stdout",
     "output_type": "stream",
     "text": [
      "Factorial(4): 24.0\n"
     ]
    }
   ],
   "source": [
    "# 22. Factorial using gamma\n",
    "print(\"Factorial(4):\", gamma(5))  # gamma(n+1) = n!\n"
   ]
  },
  {
   "cell_type": "code",
   "execution_count": 23,
   "id": "e67fdaae-ef8f-4d86-83f8-5745a6879259",
   "metadata": {},
   "outputs": [
    {
     "name": "stdout",
     "output_type": "stream",
     "text": [
      "Log Gamma(10): 12.801827480081469\n"
     ]
    }
   ],
   "source": [
    "# 23. Log gamma function\n",
    "from scipy.special import gammaln\n",
    "print(\"Log Gamma(10):\", gammaln(10))\n"
   ]
  },
  {
   "cell_type": "code",
   "execution_count": 24,
   "id": "0689e2ad-3aaa-4ca0-bef5-fa4323662c3d",
   "metadata": {},
   "outputs": [
    {
     "name": "stdout",
     "output_type": "stream",
     "text": [
      "Beta(2, 3): 0.08333333333333333\n"
     ]
    }
   ],
   "source": [
    "# 24. Beta function\n",
    "from scipy.special import beta\n",
    "print(\"Beta(2, 3):\", beta(2, 3))\n"
   ]
  },
  {
   "cell_type": "code",
   "execution_count": 25,
   "id": "689abe7c-fefb-4597-8ccf-71b94ab9b8ed",
   "metadata": {},
   "outputs": [
    {
     "name": "stdout",
     "output_type": "stream",
     "text": [
      "erf(1): 0.8427007929497148\n"
     ]
    }
   ],
   "source": [
    "from scipy.special import erf\n",
    "print(\"erf(1):\", erf(1))"
   ]
  },
  {
   "cell_type": "code",
   "execution_count": 26,
   "id": "b72077a5-f173-4fb2-8759-1c7ae9b310fe",
   "metadata": {},
   "outputs": [
    {
     "name": "stdout",
     "output_type": "stream",
     "text": [
      "erfc(1): 0.15729920705028516\n"
     ]
    }
   ],
   "source": [
    "# 26. Complementary error function\n",
    "from scipy.special import erfc\n",
    "print(\"erfc(1):\", erfc(1))\n"
   ]
  },
  {
   "cell_type": "code",
   "execution_count": 28,
   "id": "23e6c94d-5276-411f-aadf-7ae22207b991",
   "metadata": {},
   "outputs": [
    {
     "name": "stdout",
     "output_type": "stream",
     "text": [
      "Exponential integral of 1: 1.8951178163559368\n"
     ]
    }
   ],
   "source": [
    "# 27. Exponential integral\n",
    "from scipy.special import expi\n",
    "print(\"Exponential integral of 1:\", expi(1))\n"
   ]
  },
  {
   "cell_type": "code",
   "execution_count": 29,
   "id": "c13a8817-1090-4ffd-9305-ecc9bdccf81f",
   "metadata": {},
   "outputs": [
    {
     "name": "stdout",
     "output_type": "stream",
     "text": [
      "Bessel J0(1): 0.7651976865579665\n"
     ]
    }
   ],
   "source": [
    "# 28. Bessel function of first kind (J0)\n",
    "from scipy.special import j0\n",
    "print(\"Bessel J0(1):\", j0(1))\n",
    "\n"
   ]
  },
  {
   "cell_type": "code",
   "execution_count": 30,
   "id": "90017131-5649-44c9-8b69-e98a4e5fcc42",
   "metadata": {},
   "outputs": [
    {
     "name": "stdout",
     "output_type": "stream",
     "text": [
      "Bessel Y0(1): 0.08825696421567697\n"
     ]
    }
   ],
   "source": [
    "# 29. Bessel function of second kind (Y0)\n",
    "from scipy.special import y0\n",
    "print(\"Bessel Y0(1):\", y0(1))\n"
   ]
  },
  {
   "cell_type": "code",
   "execution_count": 31,
   "id": "bffeef55-e9cc-48e0-88ae-6f9f8a37452f",
   "metadata": {},
   "outputs": [
    {
     "name": "stdout",
     "output_type": "stream",
     "text": [
      "Modified Bessel I0(1): 1.2660658777520082\n"
     ]
    }
   ],
   "source": [
    "# 30. Modified Bessel function of first kind (I0)\n",
    "from scipy.special import i0\n",
    "print(\"Modified Bessel I0(1):\", i0(1))\n",
    "\n"
   ]
  },
  {
   "cell_type": "code",
   "execution_count": 32,
   "id": "8abb6223-5d33-41d0-bc7c-2c87555aead9",
   "metadata": {},
   "outputs": [
    {
     "name": "stdout",
     "output_type": "stream",
     "text": [
      "Modified Bessel K0(1): 0.42102443824070823\n"
     ]
    }
   ],
   "source": [
    "# 31. Modified Bessel function of second kind (K0)\n",
    "from scipy.special import k0\n",
    "print(\"Modified Bessel K0(1):\", k0(1))\n"
   ]
  },
  {
   "cell_type": "code",
   "execution_count": 35,
   "id": "854b041b-a6b6-4192-9662-4fd32fa7a201",
   "metadata": {},
   "outputs": [
    {
     "name": "stdout",
     "output_type": "stream",
     "text": [
      "spherical_jn(n=1, x=2): 0.43539777497999166\n"
     ]
    }
   ],
   "source": [
    "# 34. Spherical Bessel function of first kind\n",
    "from scipy.special import spherical_jn\n",
    "print(\"spherical_jn(n=1, x=2):\", spherical_jn(1, 2))\n",
    "\n"
   ]
  },
  {
   "cell_type": "code",
   "execution_count": 36,
   "id": "88261ab0-8e0b-4bdc-b9d1-6be68d8627bb",
   "metadata": {},
   "outputs": [
    {
     "name": "stdout",
     "output_type": "stream",
     "text": [
      "spherical_yn(n=1, x=2): -0.35061200427605527\n"
     ]
    }
   ],
   "source": [
    "# 35. Spherical Neumann function (second kind)\n",
    "from scipy.special import spherical_yn\n",
    "print(\"spherical_yn(n=1, x=2):\", spherical_yn(1, 2))\n"
   ]
  },
  {
   "cell_type": "code",
   "execution_count": 37,
   "id": "9dc89e12-ed1a-4bba-9565-c36943d83986",
   "metadata": {},
   "outputs": [
    {
     "name": "stdout",
     "output_type": "stream",
     "text": [
      "Legendre polynomial P3(x):      3\n",
      "2.5 x - 1.5 x\n"
     ]
    }
   ],
   "source": [
    "# 36. Legendre polynomial of degree 3\n",
    "from scipy.special import legendre\n",
    "print(\"Legendre polynomial P3(x):\", legendre(3))\n"
   ]
  },
  {
   "cell_type": "code",
   "execution_count": 38,
   "id": "b3898c84-b133-4667-98a2-6211e85b5967",
   "metadata": {},
   "outputs": [
    {
     "name": "stdout",
     "output_type": "stream",
     "text": [
      "Hermite polynomial H4(x):     4      2\n",
      "16 x - 48 x - 8.882e-16 x + 12\n"
     ]
    }
   ],
   "source": [
    "# 37. Hermite polynomial of degree 4\n",
    "from scipy.special import hermite\n",
    "print(\"Hermite polynomial H4(x):\", hermite(4))\n"
   ]
  },
  {
   "cell_type": "code",
   "execution_count": 39,
   "id": "2b60d8af-b697-4eba-8569-cd10d08c2317",
   "metadata": {},
   "outputs": [
    {
     "name": "stdout",
     "output_type": "stream",
     "text": [
      "Laguerre polynomial L2(x):      2\n",
      "0.5 x - 2 x + 1\n"
     ]
    }
   ],
   "source": [
    "# 38. Laguerre polynomial of degree 2\n",
    "from scipy.special import laguerre\n",
    "print(\"Laguerre polynomial L2(x):\", laguerre(2))\n"
   ]
  },
  {
   "cell_type": "code",
   "execution_count": 40,
   "id": "ccd6245e-4a84-4274-9253-5509031de49b",
   "metadata": {},
   "outputs": [
    {
     "name": "stdout",
     "output_type": "stream",
     "text": [
      "Chebyshev polynomial T3(x):    3\n",
      "4 x - 3 x\n"
     ]
    }
   ],
   "source": [
    "# 39. Chebyshev polynomial of first kind\n",
    "from scipy.special import chebyt\n",
    "print(\"Chebyshev polynomial T3(x):\", chebyt(3))\n"
   ]
  },
  {
   "cell_type": "code",
   "execution_count": 41,
   "id": "cb20dcd3-02eb-4801-b53e-41bd621be76c",
   "metadata": {},
   "outputs": [
    {
     "name": "stdout",
     "output_type": "stream",
     "text": [
      "Chebyshev polynomial U3(x):    3\n",
      "8 x - 4 x\n"
     ]
    }
   ],
   "source": [
    "# 40. Chebyshev polynomial of second kind\n",
    "from scipy.special import chebyu\n",
    "print(\"Chebyshev polynomial U3(x):\", chebyu(3))\n"
   ]
  },
  {
   "cell_type": "code",
   "execution_count": 42,
   "id": "c5c81455-90e5-4b86-a59d-b0dc1d289225",
   "metadata": {},
   "outputs": [
    {
     "name": "stdout",
     "output_type": "stream",
     "text": [
      "∫x^2 from 0 to 1 = 0.33333333333333337\n"
     ]
    }
   ],
   "source": [
    "# 41. Definite integral of a function using quad\n",
    "from scipy.integrate import quad\n",
    "result, error = quad(lambda x: x**2, 0, 1)\n",
    "print(\"∫x^2 from 0 to 1 =\", result)\n"
   ]
  },
  {
   "cell_type": "code",
   "execution_count": 43,
   "id": "30a3e7d2-4803-47c4-8799-a943b110ccbe",
   "metadata": {},
   "outputs": [
    {
     "name": "stdout",
     "output_type": "stream",
     "text": [
      "∫sin(x) from 0 to π = 2.0\n"
     ]
    }
   ],
   "source": [
    "# 42. Integrate sin(x) from 0 to pi\n",
    "import numpy as np\n",
    "result, _ = quad(np.sin, 0, np.pi)\n",
    "print(\"∫sin(x) from 0 to π =\", result)\n"
   ]
  },
  {
   "cell_type": "code",
   "execution_count": 44,
   "id": "e22b159a-db94-43bc-ba49-0668e034dbcd",
   "metadata": {},
   "outputs": [
    {
     "name": "stdout",
     "output_type": "stream",
     "text": [
      "∫1/x from 1 to 2 = 0.6931471805599454\n"
     ]
    }
   ],
   "source": [
    "# 44. Integrate 1/x from 1 to 2\n",
    "result, _ = quad(lambda x: 1/x, 1, 2)\n",
    "print(\"∫1/x from 1 to 2 =\", result)\n"
   ]
  },
  {
   "cell_type": "code",
   "execution_count": 45,
   "id": "21f875ce-ebab-432e-9846-a5376cfe9711",
   "metadata": {},
   "outputs": [
    {
     "name": "stdout",
     "output_type": "stream",
     "text": [
      "∫log(x) from 0 to 1 = -0.9998748707429328\n"
     ]
    }
   ],
   "source": [
    "# 45. Integrate a function with known singularity\n",
    "def f(x):\n",
    "    return np.log(x)\n",
    "result, _ = quad(f, 1e-5, 1)\n",
    "print(\"∫log(x) from 0 to 1 =\", result)\n"
   ]
  },
  {
   "cell_type": "code",
   "execution_count": 46,
   "id": "45fbd421-4b01-4f1a-a2fc-49aba7f46a36",
   "metadata": {},
   "outputs": [
    {
     "name": "stdout",
     "output_type": "stream",
     "text": [
      "∬xy dx dy over unit square = 0.24999999999999997\n"
     ]
    }
   ],
   "source": [
    "# 46. Multiple integrals using dblquad (double integral)\n",
    "from scipy.integrate import dblquad\n",
    "result, _ = dblquad(lambda x, y: x * y, 0, 1, lambda x: 0, lambda x: 1)\n",
    "print(\"∬xy dx dy over unit square =\", result)\n"
   ]
  },
  {
   "cell_type": "code",
   "execution_count": 47,
   "id": "1ac4a2d6-11dd-4fb0-8221-2a7c2747f93d",
   "metadata": {},
   "outputs": [
    {
     "name": "stdout",
     "output_type": "stream",
     "text": [
      "∭xyz over unit cube = 0.12499999999999999\n"
     ]
    }
   ],
   "source": [
    "# 47. Triple integral using tplquad\n",
    "from scipy.integrate import tplquad\n",
    "result, _ = tplquad(lambda x, y, z: x*y*z, 0, 1, lambda x: 0, lambda x: 1,\n",
    "                    lambda x, y: 0, lambda x, y: 1)\n",
    "print(\"∭xyz over unit cube =\", result)\n"
   ]
  },
  {
   "cell_type": "code",
   "execution_count": 48,
   "id": "ce8f3707-7103-48bd-b400-171325334b88",
   "metadata": {},
   "outputs": [
    {
     "name": "stdout",
     "output_type": "stream",
     "text": [
      "∫x^2 from 0 to 1 using fixed_quad = 0.33333333333333337\n"
     ]
    }
   ],
   "source": [
    "# 48. Integrate using fixed quadrature (quadrature points = 3)\n",
    "from scipy.integrate import fixed_quad\n",
    "result, _ = fixed_quad(lambda x: x**2, 0, 1, n=3)\n",
    "print(\"∫x^2 from 0 to 1 using fixed_quad =\", result)\n"
   ]
  },
  {
   "cell_type": "code",
   "execution_count": 49,
   "id": "60cbd6e1-2b32-4954-ac73-b59f219f383a",
   "metadata": {},
   "outputs": [
    {
     "name": "stdout",
     "output_type": "stream",
     "text": [
      "∫exp(-x^2) over all x = 1.7724538509055159\n"
     ]
    }
   ],
   "source": [
    "# 49. Integrate with infinite limits\n",
    "result, _ = quad(lambda x: np.exp(-x**2), -np.inf, np.inf)\n",
    "print(\"∫exp(-x^2) over all x =\", result)\n"
   ]
  },
  {
   "cell_type": "code",
   "execution_count": 50,
   "id": "f426b0bf-6267-4b11-b835-bd513139fc58",
   "metadata": {},
   "outputs": [
    {
     "name": "stdout",
     "output_type": "stream",
     "text": [
      "Integral: 2.0  Error estimate: 2.220446049250313e-14\n"
     ]
    }
   ],
   "source": [
    "# 50. Return error estimate with integration\n",
    "res, err = quad(np.sin, 0, np.pi)\n",
    "print(\"Integral:\", res, \" Error estimate:\", err)\n"
   ]
  },
  {
   "cell_type": "code",
   "execution_count": 54,
   "id": "037f7cdd-963f-43bf-a0c3-6ed9b364e85c",
   "metadata": {},
   "outputs": [
    {
     "name": "stdout",
     "output_type": "stream",
     "text": [
      "nquad ∫∫xy = 0.24999999999999997\n"
     ]
    }
   ],
   "source": [
    "# 54. Use nquad for n-dimensional integration\n",
    "from scipy.integrate import nquad\n",
    "result, _ = nquad(lambda x, y: x*y, [[0, 1], [0, 1]])\n",
    "print(\"nquad ∫∫xy =\", result)\n"
   ]
  },
  {
   "cell_type": "code",
   "execution_count": 55,
   "id": "a43bf80f-df7e-49f0-a0dd-d88ec9231358",
   "metadata": {},
   "outputs": [
    {
     "name": "stdout",
     "output_type": "stream",
     "text": [
      "Trapz ∫x² from 0 to 1 = 0.33335033840084355\n"
     ]
    },
    {
     "name": "stderr",
     "output_type": "stream",
     "text": [
      "C:\\Users\\Afia Jahan\\AppData\\Local\\Temp\\ipykernel_69668\\2335716571.py:5: DeprecationWarning: 'scipy.integrate.trapz' is deprecated in favour of 'scipy.integrate.trapezoid' and will be removed in SciPy 1.14.0\n",
      "  result = trapz(y, x)\n"
     ]
    }
   ],
   "source": [
    "# 55. Integrate x^2 from 0 to 1 using trapz\n",
    "from scipy.integrate import trapz\n",
    "x = np.linspace(0, 1, 100)\n",
    "y = x**2\n",
    "result = trapz(y, x)\n",
    "print(\"Trapz ∫x² from 0 to 1 =\", result)\n"
   ]
  },
  {
   "cell_type": "code",
   "execution_count": 56,
   "id": "f184485d-2af4-4e0e-be24-1d7cb80764a8",
   "metadata": {},
   "outputs": [
    {
     "name": "stdout",
     "output_type": "stream",
     "text": [
      "Simpson ∫x² from 0 to 1 = 0.3333333333333333\n"
     ]
    },
    {
     "name": "stderr",
     "output_type": "stream",
     "text": [
      "C:\\Users\\Afia Jahan\\AppData\\Local\\Temp\\ipykernel_69668\\1626733707.py:3: DeprecationWarning: You are passing x=[0.         0.01010101 0.02020202 0.03030303 0.04040404 0.05050505\n",
      " 0.06060606 0.07070707 0.08080808 0.09090909 0.1010101  0.11111111\n",
      " 0.12121212 0.13131313 0.14141414 0.15151515 0.16161616 0.17171717\n",
      " 0.18181818 0.19191919 0.2020202  0.21212121 0.22222222 0.23232323\n",
      " 0.24242424 0.25252525 0.26262626 0.27272727 0.28282828 0.29292929\n",
      " 0.3030303  0.31313131 0.32323232 0.33333333 0.34343434 0.35353535\n",
      " 0.36363636 0.37373737 0.38383838 0.39393939 0.4040404  0.41414141\n",
      " 0.42424242 0.43434343 0.44444444 0.45454545 0.46464646 0.47474747\n",
      " 0.48484848 0.49494949 0.50505051 0.51515152 0.52525253 0.53535354\n",
      " 0.54545455 0.55555556 0.56565657 0.57575758 0.58585859 0.5959596\n",
      " 0.60606061 0.61616162 0.62626263 0.63636364 0.64646465 0.65656566\n",
      " 0.66666667 0.67676768 0.68686869 0.6969697  0.70707071 0.71717172\n",
      " 0.72727273 0.73737374 0.74747475 0.75757576 0.76767677 0.77777778\n",
      " 0.78787879 0.7979798  0.80808081 0.81818182 0.82828283 0.83838384\n",
      " 0.84848485 0.85858586 0.86868687 0.87878788 0.88888889 0.8989899\n",
      " 0.90909091 0.91919192 0.92929293 0.93939394 0.94949495 0.95959596\n",
      " 0.96969697 0.97979798 0.98989899 1.        ] as a positional argument. Please change your invocation to use keyword arguments. From SciPy 1.14, passing these as positional arguments will result in an error.\n",
      "  result = simpson(y, x)\n"
     ]
    }
   ],
   "source": [
    "# 56. Simpson’s rule for integration\n",
    "from scipy.integrate import simpson\n",
    "result = simpson(y, x)\n",
    "print(\"Simpson ∫x² from 0 to 1 =\", result)\n"
   ]
  },
  {
   "cell_type": "code",
   "execution_count": 57,
   "id": "2439600d-6799-463e-bea3-e859a79574fd",
   "metadata": {},
   "outputs": [
    {
     "name": "stdout",
     "output_type": "stream",
     "text": [
      "Trapz: 0.33335033840084355\n",
      "Simpson: 0.3333333333333333\n"
     ]
    },
    {
     "name": "stderr",
     "output_type": "stream",
     "text": [
      "C:\\Users\\Afia Jahan\\AppData\\Local\\Temp\\ipykernel_69668\\3054771013.py:2: DeprecationWarning: 'scipy.integrate.trapz' is deprecated in favour of 'scipy.integrate.trapezoid' and will be removed in SciPy 1.14.0\n",
      "  print(\"Trapz:\", trapz(y, x))\n",
      "C:\\Users\\Afia Jahan\\AppData\\Local\\Temp\\ipykernel_69668\\3054771013.py:3: DeprecationWarning: You are passing x=[0.         0.01010101 0.02020202 0.03030303 0.04040404 0.05050505\n",
      " 0.06060606 0.07070707 0.08080808 0.09090909 0.1010101  0.11111111\n",
      " 0.12121212 0.13131313 0.14141414 0.15151515 0.16161616 0.17171717\n",
      " 0.18181818 0.19191919 0.2020202  0.21212121 0.22222222 0.23232323\n",
      " 0.24242424 0.25252525 0.26262626 0.27272727 0.28282828 0.29292929\n",
      " 0.3030303  0.31313131 0.32323232 0.33333333 0.34343434 0.35353535\n",
      " 0.36363636 0.37373737 0.38383838 0.39393939 0.4040404  0.41414141\n",
      " 0.42424242 0.43434343 0.44444444 0.45454545 0.46464646 0.47474747\n",
      " 0.48484848 0.49494949 0.50505051 0.51515152 0.52525253 0.53535354\n",
      " 0.54545455 0.55555556 0.56565657 0.57575758 0.58585859 0.5959596\n",
      " 0.60606061 0.61616162 0.62626263 0.63636364 0.64646465 0.65656566\n",
      " 0.66666667 0.67676768 0.68686869 0.6969697  0.70707071 0.71717172\n",
      " 0.72727273 0.73737374 0.74747475 0.75757576 0.76767677 0.77777778\n",
      " 0.78787879 0.7979798  0.80808081 0.81818182 0.82828283 0.83838384\n",
      " 0.84848485 0.85858586 0.86868687 0.87878788 0.88888889 0.8989899\n",
      " 0.90909091 0.91919192 0.92929293 0.93939394 0.94949495 0.95959596\n",
      " 0.96969697 0.97979798 0.98989899 1.        ] as a positional argument. Please change your invocation to use keyword arguments. From SciPy 1.14, passing these as positional arguments will result in an error.\n",
      "  print(\"Simpson:\", simpson(y, x))\n"
     ]
    }
   ],
   "source": [
    "# 57. Compare trapz vs simpson\n",
    "print(\"Trapz:\", trapz(y, x))\n",
    "print(\"Simpson:\", simpson(y, x))\n"
   ]
  },
  {
   "cell_type": "code",
   "execution_count": 58,
   "id": "b9b6f659-e42b-4cab-a778-1732ac177803",
   "metadata": {},
   "outputs": [
    {
     "name": "stdout",
     "output_type": "stream",
     "text": [
      "∬(x+y) with y from 0 to x, x from 0 to 2 = 4.0\n"
     ]
    }
   ],
   "source": [
    "# 58. Double integral with bounds depending on x\n",
    "result, _ = dblquad(lambda x, y: x + y, 0, 2, lambda x: 0, lambda x: x)\n",
    "print(\"∬(x+y) with y from 0 to x, x from 0 to 2 =\", result)\n"
   ]
  },
  {
   "cell_type": "code",
   "execution_count": 59,
   "id": "03e8af74-26ff-420a-ac5d-a407be8e9326",
   "metadata": {},
   "outputs": [
    {
     "name": "stdout",
     "output_type": "stream",
     "text": [
      "Triple integral of sin(x*y*z): 0.12243402879673786\n"
     ]
    }
   ],
   "source": [
    "# 59. Use tplquad with trigonometric function\n",
    "result, _ = tplquad(lambda x, y, z: np.sin(x*y*z), 0, 1, lambda x: 0, lambda x: 1, lambda x, y: 0, lambda x, y: 1)\n",
    "print(\"Triple integral of sin(x*y*z):\", result)\n"
   ]
  },
  {
   "cell_type": "code",
   "execution_count": 60,
   "id": "c010cd18-4f4f-4bae-9415-651eff8f21fd",
   "metadata": {},
   "outputs": [
    {
     "name": "stdout",
     "output_type": "stream",
     "text": [
      "∫piecewise function from 0 to 1: 1.5\n"
     ]
    }
   ],
   "source": [
    "# 60. Integrate function with discontinuity\n",
    "result, _ = quad(lambda x: np.piecewise(x, [x < 0.5, x >= 0.5], [1, 2]), 0, 1)\n",
    "print(\"∫piecewise function from 0 to 1:\", result)\n"
   ]
  },
  {
   "cell_type": "code",
   "execution_count": null,
   "id": "1fbdecbf-93c1-48eb-a565-0b57d7104395",
   "metadata": {},
   "outputs": [],
   "source": []
  }
 ],
 "metadata": {
  "kernelspec": {
   "display_name": "Python 3 (ipykernel)",
   "language": "python",
   "name": "python3"
  },
  "language_info": {
   "codemirror_mode": {
    "name": "ipython",
    "version": 3
   },
   "file_extension": ".py",
   "mimetype": "text/x-python",
   "name": "python",
   "nbconvert_exporter": "python",
   "pygments_lexer": "ipython3",
   "version": "3.12.11"
  }
 },
 "nbformat": 4,
 "nbformat_minor": 5
}
