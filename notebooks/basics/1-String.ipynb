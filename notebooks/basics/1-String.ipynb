{
 "cells": [
  {
   "cell_type": "code",
   "execution_count": 1,
   "id": "4356d7c4-33d4-4c07-a37a-e21dee3fbe94",
   "metadata": {},
   "outputs": [],
   "source": [
    "a, b = \"apple\", \"banana\""
   ]
  },
  {
   "cell_type": "code",
   "execution_count": 2,
   "id": "10d1a359-f395-489d-9cf7-c8eaf4a218c8",
   "metadata": {},
   "outputs": [
    {
     "name": "stdout",
     "output_type": "stream",
     "text": [
      "applebanana\n"
     ]
    }
   ],
   "source": [
    "print(a + b)"
   ]
  },
  {
   "cell_type": "code",
   "execution_count": 3,
   "id": "61710f28-d629-4772-8ab5-22f9a06a467e",
   "metadata": {},
   "outputs": [
    {
     "name": "stdout",
     "output_type": "stream",
     "text": [
      "appleapple\n"
     ]
    }
   ],
   "source": [
    "print(a * 2)"
   ]
  },
  {
   "cell_type": "code",
   "execution_count": 4,
   "id": "2165689e-be55-4c0d-ac01-ca2ebbda3253",
   "metadata": {},
   "outputs": [
    {
     "name": "stdout",
     "output_type": "stream",
     "text": [
      "5\n"
     ]
    }
   ],
   "source": [
    "print(len(a))"
   ]
  },
  {
   "cell_type": "code",
   "execution_count": 5,
   "id": "41b33dd6-60f5-4e22-8657-661867723616",
   "metadata": {},
   "outputs": [
    {
     "name": "stdout",
     "output_type": "stream",
     "text": [
      "a\n"
     ]
    }
   ],
   "source": [
    "print(a[0])"
   ]
  },
  {
   "cell_type": "code",
   "execution_count": 6,
   "id": "246a333a-8966-49fd-b774-5094adc5a0a6",
   "metadata": {},
   "outputs": [
    {
     "name": "stdout",
     "output_type": "stream",
     "text": [
      "e\n"
     ]
    }
   ],
   "source": [
    "print(a[-1])"
   ]
  },
  {
   "cell_type": "code",
   "execution_count": 7,
   "id": "beb1d6b7-bc2c-4f1e-abe6-281e664f1206",
   "metadata": {},
   "outputs": [
    {
     "name": "stdout",
     "output_type": "stream",
     "text": [
      "ppl\n"
     ]
    }
   ],
   "source": [
    "print(a[1:4])"
   ]
  },
  {
   "cell_type": "code",
   "execution_count": 8,
   "id": "359f55da-c57d-4ca1-b919-f3f0c5996a2c",
   "metadata": {},
   "outputs": [
    {
     "name": "stdout",
     "output_type": "stream",
     "text": [
      "app\n"
     ]
    }
   ],
   "source": [
    "print(a[:3])"
   ]
  },
  {
   "cell_type": "code",
   "execution_count": 9,
   "id": "1c337087-b9d8-4408-b96c-915b7e2cc619",
   "metadata": {},
   "outputs": [
    {
     "name": "stdout",
     "output_type": "stream",
     "text": [
      "ple\n"
     ]
    }
   ],
   "source": [
    "print(a[2:])"
   ]
  },
  {
   "cell_type": "code",
   "execution_count": 10,
   "id": "e61fb503-e31a-49e3-a365-a685b0d5cf45",
   "metadata": {},
   "outputs": [
    {
     "name": "stdout",
     "output_type": "stream",
     "text": [
      "APPLE\n"
     ]
    }
   ],
   "source": [
    "print(a.upper())"
   ]
  },
  {
   "cell_type": "code",
   "execution_count": 11,
   "id": "b23047c4-5011-43e2-9839-9b97b31138c5",
   "metadata": {},
   "outputs": [
    {
     "name": "stdout",
     "output_type": "stream",
     "text": [
      "apple\n"
     ]
    }
   ],
   "source": [
    "print(a.lower())"
   ]
  },
  {
   "cell_type": "code",
   "execution_count": 12,
   "id": "25566722-e8da-4f0b-94af-9110062ec611",
   "metadata": {},
   "outputs": [
    {
     "name": "stdout",
     "output_type": "stream",
     "text": [
      "Apple\n"
     ]
    }
   ],
   "source": [
    "print(a.capitalize())"
   ]
  },
  {
   "cell_type": "code",
   "execution_count": 13,
   "id": "ccc99746-876f-4d96-8915-2f8a05d6955d",
   "metadata": {},
   "outputs": [
    {
     "name": "stdout",
     "output_type": "stream",
     "text": [
      "hello\n"
     ]
    }
   ],
   "source": [
    "print(\"HELLO\".casefold())"
   ]
  },
  {
   "cell_type": "code",
   "execution_count": 14,
   "id": "4a6bfad0-147b-401f-b54f-64355e6a05db",
   "metadata": {},
   "outputs": [
    {
     "name": "stdout",
     "output_type": "stream",
     "text": [
      "APPLE\n"
     ]
    }
   ],
   "source": [
    "print(a.swapcase()) "
   ]
  },
  {
   "cell_type": "code",
   "execution_count": 15,
   "id": "243c7d8c-dcb9-40af-b427-a3db47fff57c",
   "metadata": {},
   "outputs": [
    {
     "name": "stdout",
     "output_type": "stream",
     "text": [
      "Hello World\n"
     ]
    }
   ],
   "source": [
    "print(\"Hello World\".title()) "
   ]
  },
  {
   "cell_type": "code",
   "execution_count": 16,
   "id": "647f298f-7291-498c-936c-74c97d48373f",
   "metadata": {},
   "outputs": [
    {
     "name": "stdout",
     "output_type": "stream",
     "text": [
      "spaced\n"
     ]
    }
   ],
   "source": [
    "print(\"   spaced   \".strip())"
   ]
  },
  {
   "cell_type": "code",
   "execution_count": 17,
   "id": "fd6b8a6e-287a-4378-a7c4-7653393d6aa8",
   "metadata": {},
   "outputs": [
    {
     "name": "stdout",
     "output_type": "stream",
     "text": [
      "spaced   \n"
     ]
    }
   ],
   "source": [
    "print(\"   spaced   \".lstrip())"
   ]
  },
  {
   "cell_type": "code",
   "execution_count": 18,
   "id": "9ebf8161-4254-45b3-a964-28c811c3f3c4",
   "metadata": {},
   "outputs": [
    {
     "name": "stdout",
     "output_type": "stream",
     "text": [
      "   spaced\n"
     ]
    }
   ],
   "source": [
    "print(\"   spaced   \".rstrip())"
   ]
  },
  {
   "cell_type": "code",
   "execution_count": 19,
   "id": "a9261aac-dca2-40b0-8e20-9732238e6acb",
   "metadata": {},
   "outputs": [
    {
     "name": "stdout",
     "output_type": "stream",
     "text": [
      "['east', 'west']\n"
     ]
    }
   ],
   "source": [
    "print(\"east-west\".split(\"-\"))"
   ]
  },
  {
   "cell_type": "code",
   "execution_count": 20,
   "id": "c280cf72-df22-4993-a17a-f53916bca1a8",
   "metadata": {},
   "outputs": [
    {
     "name": "stdout",
     "output_type": "stream",
     "text": [
      "['one', 'two', 'three']\n"
     ]
    }
   ],
   "source": [
    "print(\"one two three\".split())"
   ]
  },
  {
   "cell_type": "code",
   "execution_count": 21,
   "id": "54be409f-0975-4019-8518-15d13ef6679a",
   "metadata": {},
   "outputs": [
    {
     "name": "stdout",
     "output_type": "stream",
     "text": [
      "['a', 'b', 'c']\n"
     ]
    }
   ],
   "source": [
    "print(\"a,b,c\".split(\",\"))"
   ]
  },
  {
   "cell_type": "code",
   "execution_count": 22,
   "id": "1805bcec-03e6-4128-b702-3929af2cef9b",
   "metadata": {},
   "outputs": [
    {
     "name": "stdout",
     "output_type": "stream",
     "text": [
      "a,b,c\n"
     ]
    }
   ],
   "source": [
    "print(\",\".join([\"a\",\"b\",\"c\"]))"
   ]
  },
  {
   "cell_type": "code",
   "execution_count": 23,
   "id": "3624bc9a-7549-40a7-84a6-9774c22ddd1f",
   "metadata": {},
   "outputs": [
    {
     "name": "stdout",
     "output_type": "stream",
     "text": [
      "True\n"
     ]
    }
   ],
   "source": [
    "print(\"apple\".startswith(\"app\"))"
   ]
  },
  {
   "cell_type": "code",
   "execution_count": 24,
   "id": "d4a56f93-845d-471a-b00a-772f85b45fe3",
   "metadata": {},
   "outputs": [
    {
     "name": "stdout",
     "output_type": "stream",
     "text": [
      "True\n"
     ]
    }
   ],
   "source": [
    "print(\"apple\".endswith(\"ple\"))"
   ]
  },
  {
   "cell_type": "code",
   "execution_count": 25,
   "id": "f5ef127c-561c-420c-9287-d64acccc3037",
   "metadata": {},
   "outputs": [
    {
     "name": "stdout",
     "output_type": "stream",
     "text": [
      "1\n"
     ]
    }
   ],
   "source": [
    "print(\"apple\".find(\"p\")) "
   ]
  },
  {
   "cell_type": "code",
   "execution_count": 26,
   "id": "a14d94b3-cf2a-4851-8527-1311f8681e8d",
   "metadata": {},
   "outputs": [
    {
     "name": "stdout",
     "output_type": "stream",
     "text": [
      "-1\n"
     ]
    }
   ],
   "source": [
    "print(\"apple\".find(\"x\"))"
   ]
  },
  {
   "cell_type": "code",
   "execution_count": 27,
   "id": "d8bf3144-9670-499d-8da0-268f7e481534",
   "metadata": {},
   "outputs": [
    {
     "name": "stdout",
     "output_type": "stream",
     "text": [
      "1\n"
     ]
    }
   ],
   "source": [
    "print(\"apple\".index(\"p\")) "
   ]
  },
  {
   "cell_type": "code",
   "execution_count": 29,
   "id": "7555497b-5bf9-45ce-85a0-4773a319d2be",
   "metadata": {},
   "outputs": [
    {
     "name": "stdout",
     "output_type": "stream",
     "text": [
      "2\n"
     ]
    }
   ],
   "source": [
    "print(\"apple\".count(\"p\"))"
   ]
  },
  {
   "cell_type": "code",
   "execution_count": 30,
   "id": "2a215d43-c6c8-46f6-956a-5c3dbf43f412",
   "metadata": {},
   "outputs": [
    {
     "name": "stdout",
     "output_type": "stream",
     "text": [
      "abble\n"
     ]
    }
   ],
   "source": [
    "print(\"apple\".replace(\"p\", \"b\"))"
   ]
  },
  {
   "cell_type": "code",
   "execution_count": 31,
   "id": "cf22d9ab-a8b2-436a-af94-c53bd391484b",
   "metadata": {},
   "outputs": [
    {
     "name": "stdout",
     "output_type": "stream",
     "text": [
      "[' a ', ' b ', ' c ']\n"
     ]
    }
   ],
   "source": [
    "print(\" a | b | c \".split(\"|\"))"
   ]
  },
  {
   "cell_type": "code",
   "execution_count": 32,
   "id": "e1801b0c-0c7c-4c72-8277-f6acfd0b44cf",
   "metadata": {},
   "outputs": [
    {
     "name": "stdout",
     "output_type": "stream",
     "text": [
      "True\n"
     ]
    }
   ],
   "source": [
    "print(\"abc\".isalpha()) "
   ]
  },
  {
   "cell_type": "code",
   "execution_count": 33,
   "id": "e8a89d16-4700-4a60-80d2-6de59f5a40c4",
   "metadata": {},
   "outputs": [
    {
     "name": "stdout",
     "output_type": "stream",
     "text": [
      "True\n"
     ]
    }
   ],
   "source": [
    "print(\"abc123\".isalnum())"
   ]
  },
  {
   "cell_type": "code",
   "execution_count": 34,
   "id": "29a358b9-3fc0-44cb-9681-bf05884dde77",
   "metadata": {},
   "outputs": [
    {
     "name": "stdout",
     "output_type": "stream",
     "text": [
      "True\n"
     ]
    }
   ],
   "source": [
    "print(\"123\".isdigit())"
   ]
  },
  {
   "cell_type": "code",
   "execution_count": 35,
   "id": "4813c247-3c8e-4700-88c8-d65ceeb8fdeb",
   "metadata": {},
   "outputs": [
    {
     "name": "stdout",
     "output_type": "stream",
     "text": [
      "True\n"
     ]
    }
   ],
   "source": [
    "print(\"   \".isspace())"
   ]
  },
  {
   "cell_type": "code",
   "execution_count": 36,
   "id": "bfa40901-f12c-40a3-8c79-cd0c21b0a346",
   "metadata": {},
   "outputs": [
    {
     "name": "stdout",
     "output_type": "stream",
     "text": [
      "False\n"
     ]
    }
   ],
   "source": [
    "print(\"Hello\".islower()) "
   ]
  },
  {
   "cell_type": "code",
   "execution_count": 37,
   "id": "36983cf1-f9a7-4afa-8dba-dfd37a2e82f9",
   "metadata": {},
   "outputs": [
    {
     "name": "stdout",
     "output_type": "stream",
     "text": [
      "True\n"
     ]
    }
   ],
   "source": [
    "print(\"hello\".islower())"
   ]
  },
  {
   "cell_type": "code",
   "execution_count": 38,
   "id": "08caa36a-e864-409f-8a50-e7af1dc6294d",
   "metadata": {},
   "outputs": [
    {
     "name": "stdout",
     "output_type": "stream",
     "text": [
      "True\n"
     ]
    }
   ],
   "source": [
    "print(\"WORLD\".isupper())"
   ]
  },
  {
   "cell_type": "code",
   "execution_count": 39,
   "id": "52229ae1-2066-4b7d-add0-0e66cbf13823",
   "metadata": {},
   "outputs": [
    {
     "name": "stdout",
     "output_type": "stream",
     "text": [
      "True\n"
     ]
    }
   ],
   "source": [
    "print(\"Hello\".istitle())"
   ]
  },
  {
   "cell_type": "code",
   "execution_count": 40,
   "id": "a23ba056-1175-4768-aa8f-a74066cfd784",
   "metadata": {},
   "outputs": [
    {
     "name": "stdout",
     "output_type": "stream",
     "text": [
      "b'Hello'\n"
     ]
    }
   ],
   "source": [
    "print(\"Hello\".encode())"
   ]
  },
  {
   "cell_type": "code",
   "execution_count": 41,
   "id": "09e987d7-bc6e-4d39-abf1-355184a18e57",
   "metadata": {},
   "outputs": [
    {
     "name": "stdout",
     "output_type": "stream",
     "text": [
      "123\n"
     ]
    }
   ],
   "source": [
    "print(str(123)) "
   ]
  },
  {
   "cell_type": "code",
   "execution_count": 42,
   "id": "dbc47ce1-9c85-47c5-a1b9-a707842c084d",
   "metadata": {},
   "outputs": [
    {
     "name": "stdout",
     "output_type": "stream",
     "text": [
      "'123\\n'\n"
     ]
    }
   ],
   "source": [
    "print(repr(\"123\\n\"))"
   ]
  },
  {
   "cell_type": "code",
   "execution_count": 43,
   "id": "8a9c8524-4bef-4555-a927-f9d04306b245",
   "metadata": {},
   "outputs": [
    {
     "name": "stdout",
     "output_type": "stream",
     "text": [
      "True\n"
     ]
    }
   ],
   "source": [
    "print(a.endswith((\"le\",\"na\")))"
   ]
  },
  {
   "cell_type": "code",
   "execution_count": 44,
   "id": "4b226f8d-4c81-4a93-b8fa-1f5e64eacac6",
   "metadata": {},
   "outputs": [
    {
     "name": "stdout",
     "output_type": "stream",
     "text": [
      "abcdef\n"
     ]
    }
   ],
   "source": [
    "print(\"abcDEF\".upper().lower())"
   ]
  },
  {
   "cell_type": "code",
   "execution_count": 45,
   "id": "b64596fc-f7ad-40bd-975c-1e68b4b96311",
   "metadata": {},
   "outputs": [
    {
     "name": "stdout",
     "output_type": "stream",
     "text": [
      "abc\n"
     ]
    }
   ],
   "source": [
    "print(\"a b c\".replace(\" \", \"\")) "
   ]
  },
  {
   "cell_type": "code",
   "execution_count": 46,
   "id": "8aad4058-88d2-4f93-8292-a7cfc7dc7efb",
   "metadata": {},
   "outputs": [
    {
     "name": "stdout",
     "output_type": "stream",
     "text": [
      "00012345\n"
     ]
    }
   ],
   "source": [
    "print(\"12345\".zfill(8))"
   ]
  },
  {
   "cell_type": "code",
   "execution_count": 47,
   "id": "c6381377-9517-4f42-a055-b1f89c65812b",
   "metadata": {},
   "outputs": [
    {
     "name": "stdout",
     "output_type": "stream",
     "text": [
      "--x\n"
     ]
    }
   ],
   "source": [
    "print(\"x\".rjust(3, \"-\"))"
   ]
  },
  {
   "cell_type": "code",
   "execution_count": 48,
   "id": "43cf38cc-0ee0-432c-bc2c-3be4a19afe38",
   "metadata": {},
   "outputs": [
    {
     "name": "stdout",
     "output_type": "stream",
     "text": [
      "x++\n"
     ]
    }
   ],
   "source": [
    "print(\"x\".ljust(3, \"+\"))"
   ]
  },
  {
   "cell_type": "code",
   "execution_count": 49,
   "id": "6d7b7e1d-77b6-4b38-a654-7f623a9d6c7f",
   "metadata": {},
   "outputs": [
    {
     "name": "stdout",
     "output_type": "stream",
     "text": [
      "**hi**\n"
     ]
    }
   ],
   "source": [
    "print(\"hi\".center(6, \"*\"))"
   ]
  },
  {
   "cell_type": "code",
   "execution_count": 50,
   "id": "6335caf5-5834-42c7-aee9-599ca24cacbd",
   "metadata": {},
   "outputs": [
    {
     "name": "stdout",
     "output_type": "stream",
     "text": [
      " aBc \n"
     ]
    }
   ],
   "source": [
    "print(\"aBc\".center(5))"
   ]
  },
  {
   "cell_type": "code",
   "execution_count": 51,
   "id": "e815d40c-e784-4b20-911d-77fd02d5dc47",
   "metadata": {},
   "outputs": [
    {
     "name": "stdout",
     "output_type": "stream",
     "text": [
      "False\n"
     ]
    }
   ],
   "source": [
    "print(\"ABCD\".islower())"
   ]
  },
  {
   "cell_type": "code",
   "execution_count": 52,
   "id": "66293426-2551-4f58-ab2e-c25f7a04e320",
   "metadata": {},
   "outputs": [
    {
     "name": "stdout",
     "output_type": "stream",
     "text": [
      "True\n"
     ]
    }
   ],
   "source": [
    "print(\"abcd\".islower())"
   ]
  },
  {
   "cell_type": "code",
   "execution_count": 53,
   "id": "c6b007c2-906f-4758-8532-8703fab57564",
   "metadata": {},
   "outputs": [
    {
     "name": "stdout",
     "output_type": "stream",
     "text": [
      "True\n"
     ]
    }
   ],
   "source": [
    "print(\"ABCD\".isupper()) "
   ]
  },
  {
   "cell_type": "code",
   "execution_count": 54,
   "id": "28992cba-54e1-49f9-9291-2ac52b7dd197",
   "metadata": {},
   "outputs": [
    {
     "name": "stdout",
     "output_type": "stream",
     "text": [
      "True\n"
     ]
    }
   ],
   "source": [
    "print(\"abc123\".islower()) "
   ]
  },
  {
   "cell_type": "code",
   "execution_count": 55,
   "id": "e072c128-0a78-4b6a-b3d8-6a7991527597",
   "metadata": {},
   "outputs": [
    {
     "name": "stdout",
     "output_type": "stream",
     "text": [
      "False\n"
     ]
    }
   ],
   "source": [
    "print(\"abc123\".isalpha())"
   ]
  },
  {
   "cell_type": "code",
   "execution_count": 56,
   "id": "502318a4-4dfc-4abc-905e-44381465db34",
   "metadata": {},
   "outputs": [
    {
     "name": "stdout",
     "output_type": "stream",
     "text": [
      "False\n"
     ]
    }
   ],
   "source": [
    "print(\"abc\".isdigit())"
   ]
  },
  {
   "cell_type": "code",
   "execution_count": 57,
   "id": "6f90fc22-2a7f-4c80-9ac1-eebc9c5fe27f",
   "metadata": {},
   "outputs": [
    {
     "name": "stdout",
     "output_type": "stream",
     "text": [
      "True\n"
     ]
    }
   ],
   "source": [
    "print(\"123abc\".isalnum())"
   ]
  },
  {
   "cell_type": "code",
   "execution_count": 58,
   "id": "59d7189f-6d85-4535-b340-58224fc7cb1e",
   "metadata": {},
   "outputs": [
    {
     "name": "stdout",
     "output_type": "stream",
     "text": [
      "ss\n"
     ]
    }
   ],
   "source": [
    "print(\"ß\".casefold())"
   ]
  },
  {
   "cell_type": "code",
   "execution_count": 59,
   "id": "a32c0308-a73b-4794-ba15-70d21d9355bc",
   "metadata": {},
   "outputs": [
    {
     "name": "stdout",
     "output_type": "stream",
     "text": [
      "strasse\n"
     ]
    }
   ],
   "source": [
    "print(\"Straße\".casefold())"
   ]
  },
  {
   "cell_type": "code",
   "execution_count": 60,
   "id": "a8a92df8-d1e9-4183-b651-5301f323a495",
   "metadata": {},
   "outputs": [
    {
     "name": "stdout",
     "output_type": "stream",
     "text": [
      "HELLO\n"
     ]
    }
   ],
   "source": [
    "print(\"  Hello  \".strip().upper()) "
   ]
  },
  {
   "cell_type": "code",
   "execution_count": 61,
   "id": "0c0d3844-341b-4cdd-8800-6392156b1683",
   "metadata": {},
   "outputs": [
    {
     "name": "stdout",
     "output_type": "stream",
     "text": [
      "A-B-C\n"
     ]
    }
   ],
   "source": [
    "print(\"-\".join(\"ABC\")) "
   ]
  },
  {
   "cell_type": "code",
   "execution_count": 62,
   "id": "baf3630a-5078-4d9f-9719-5098ed299807",
   "metadata": {},
   "outputs": [
    {
     "name": "stdout",
     "output_type": "stream",
     "text": [
      "['A', 'B', 'C']\n"
     ]
    }
   ],
   "source": [
    "print(\"A-B-C\".split(\"-\"))"
   ]
  },
  {
   "cell_type": "code",
   "execution_count": 63,
   "id": "75a98e09-e0e5-4486-9efe-102798338f8d",
   "metadata": {},
   "outputs": [
    {
     "name": "stdout",
     "output_type": "stream",
     "text": [
      "  MIXEDcASE  \n"
     ]
    }
   ],
   "source": [
    "print(\"  mixedCase  \".swapcase())"
   ]
  },
  {
   "cell_type": "code",
   "execution_count": 64,
   "id": "b8414fce-c696-422d-8e74-7000fe7d15f5",
   "metadata": {},
   "outputs": [
    {
     "name": "stdout",
     "output_type": "stream",
     "text": [
      "('python3', '.', '9')\n"
     ]
    }
   ],
   "source": [
    "print(\"python3.9\".partition(\".\"))"
   ]
  },
  {
   "cell_type": "code",
   "execution_count": 65,
   "id": "5394a2ea-dc5f-492d-93c8-07512ef886a9",
   "metadata": {},
   "outputs": [
    {
     "name": "stdout",
     "output_type": "stream",
     "text": [
      "('nosplit', '', '')\n"
     ]
    }
   ],
   "source": [
    "print(\"nosplit\".partition(\".\"))"
   ]
  },
  {
   "cell_type": "code",
   "execution_count": 66,
   "id": "67908fa6-f116-4f3d-b319-c561b33d3efe",
   "metadata": {},
   "outputs": [
    {
     "name": "stdout",
     "output_type": "stream",
     "text": [
      "('a b', ' ', 'c')\n"
     ]
    }
   ],
   "source": [
    "print(\"a b c\".rpartition(\" \"))"
   ]
  },
  {
   "cell_type": "code",
   "execution_count": 67,
   "id": "8b4992c8-2e04-475c-a85d-c17874d8a009",
   "metadata": {},
   "outputs": [
    {
     "name": "stdout",
     "output_type": "stream",
     "text": [
      "['abc', 'xyz']\n"
     ]
    }
   ],
   "source": [
    "print(\"abc\\nxyz\".splitlines())"
   ]
  },
  {
   "cell_type": "code",
   "execution_count": 68,
   "id": "866965ac-2a54-4e0a-b6a1-efbdbe5370a1",
   "metadata": {},
   "outputs": [
    {
     "name": "stdout",
     "output_type": "stream",
     "text": [
      "['abc\\n', 'xyz\\n']\n"
     ]
    }
   ],
   "source": [
    "print(\"abc\\nxyz\\n\".splitlines(True))"
   ]
  },
  {
   "cell_type": "code",
   "execution_count": 69,
   "id": "5cda2b91-ce61-4c43-a2e8-33df103e1659",
   "metadata": {},
   "outputs": [
    {
     "name": "stdout",
     "output_type": "stream",
     "text": [
      "for j\n"
     ]
    }
   ],
   "source": [
    "print(\"for\\tj\".expandtabs(4))"
   ]
  },
  {
   "cell_type": "code",
   "execution_count": 70,
   "id": "448a56e6-e322-4be0-bdd2-6bb83ff0af5c",
   "metadata": {},
   "outputs": [
    {
     "name": "stdout",
     "output_type": "stream",
     "text": [
      "Test\n"
     ]
    }
   ],
   "source": [
    "print(\"teSt\".capitalize())"
   ]
  },
  {
   "cell_type": "code",
   "execution_count": 71,
   "id": "32f084f9-2fe0-4358-97f9-3c4c979657ea",
   "metadata": {},
   "outputs": [
    {
     "name": "stdout",
     "output_type": "stream",
     "text": [
      "b'\\xf0\\x9f\\x99\\x82\\xf0\\x9f\\x98\\x8a\\xf0\\x9f\\x99\\x83'\n"
     ]
    }
   ],
   "source": [
    "print(\"🙂😊🙃\".encode('utf-8'))"
   ]
  },
  {
   "cell_type": "code",
   "execution_count": 72,
   "id": "cf07b71a-58c5-48d8-a7a4-26df9fa4f5cd",
   "metadata": {},
   "outputs": [
    {
     "name": "stdout",
     "output_type": "stream",
     "text": [
      " trim \n"
     ]
    }
   ],
   "source": [
    "print(\" trim \".strip(\"*\"))"
   ]
  },
  {
   "cell_type": "code",
   "execution_count": 73,
   "id": "9c73aa10-8077-49c6-a921-a7cbf7aae011",
   "metadata": {},
   "outputs": [
    {
     "name": "stdout",
     "output_type": "stream",
     "text": [
      "trim\n"
     ]
    }
   ],
   "source": [
    "print(\"***trim***\".strip(\"*\"))"
   ]
  },
  {
   "cell_type": "code",
   "execution_count": 74,
   "id": "1bdac0c6-401a-4497-b902-13143a9e5616",
   "metadata": {},
   "outputs": [
    {
     "name": "stdout",
     "output_type": "stream",
     "text": [
      "True\n"
     ]
    }
   ],
   "source": [
    "print(\"abc\".startswith(\"\"))"
   ]
  },
  {
   "cell_type": "code",
   "execution_count": 77,
   "id": "a13023d2-991f-469a-9ebd-6cf28af9e809",
   "metadata": {},
   "outputs": [
    {
     "name": "stdout",
     "output_type": "stream",
     "text": [
      "\n"
     ]
    }
   ],
   "source": [
    "print(\"\".join([]))"
   ]
  },
  {
   "cell_type": "code",
   "execution_count": 78,
   "id": "ff8787a7-bb8a-4d6a-9468-31b1012fcfa4",
   "metadata": {},
   "outputs": [
    {
     "name": "stdout",
     "output_type": "stream",
     "text": [
      "a\n"
     ]
    }
   ],
   "source": [
    "print(\"\".join([\"a\"]))"
   ]
  },
  {
   "cell_type": "code",
   "execution_count": 79,
   "id": "f1878f15-eec1-4751-a836-64b07470183b",
   "metadata": {},
   "outputs": [
    {
     "name": "stdout",
     "output_type": "stream",
     "text": [
      "True\n"
     ]
    }
   ],
   "source": [
    "print(\"One\".lower().startswith(\"o\"))"
   ]
  },
  {
   "cell_type": "code",
   "execution_count": 80,
   "id": "e86fdd74-6e6c-48b0-901a-5a41c79b6abe",
   "metadata": {},
   "outputs": [
    {
     "name": "stdout",
     "output_type": "stream",
     "text": [
      "True\n"
     ]
    }
   ],
   "source": [
    "print(\"One\".upper().endswith(\"E\"))"
   ]
  },
  {
   "cell_type": "code",
   "execution_count": 81,
   "id": "8153453a-b539-489b-b944-202b21291e5b",
   "metadata": {},
   "outputs": [
    {
     "name": "stdout",
     "output_type": "stream",
     "text": [
      "spam ham\n"
     ]
    }
   ],
   "source": [
    "print(\"spam eggs\".replace(\"eggs\",\"ham\"))"
   ]
  },
  {
   "cell_type": "code",
   "execution_count": 82,
   "id": "c390ac0e-4abd-4e4f-9012-fe6f0b2c2f5e",
   "metadata": {},
   "outputs": [
    {
     "name": "stdout",
     "output_type": "stream",
     "text": [
      "000x\n"
     ]
    }
   ],
   "source": [
    "print(\" x \".strip().zfill(4))"
   ]
  },
  {
   "cell_type": "code",
   "execution_count": 83,
   "id": "8fdae40f-cc28-437e-8330-d371078c667a",
   "metadata": {},
   "outputs": [
    {
     "name": "stdout",
     "output_type": "stream",
     "text": [
      "000x\n"
     ]
    }
   ],
   "source": [
    "print(\" x \".strip().zfill(4))"
   ]
  },
  {
   "cell_type": "code",
   "execution_count": 84,
   "id": "5c3a1589-7324-4540-a044-3915ef1feb72",
   "metadata": {},
   "outputs": [
    {
     "name": "stdout",
     "output_type": "stream",
     "text": [
      "True\n"
     ]
    }
   ],
   "source": [
    "print(\"²³\".isnumeric())  "
   ]
  },
  {
   "cell_type": "code",
   "execution_count": 85,
   "id": "a28811af-bf1b-4243-8f35-aee0bae2956a",
   "metadata": {},
   "outputs": [
    {
     "name": "stdout",
     "output_type": "stream",
     "text": [
      "True\n"
     ]
    }
   ],
   "source": [
    "print(\"Ⅻ\".isnumeric())"
   ]
  },
  {
   "cell_type": "code",
   "execution_count": 86,
   "id": "08dfa90e-6718-425d-9ebb-a29e7cdb9daf",
   "metadata": {},
   "outputs": [
    {
     "name": "stdout",
     "output_type": "stream",
     "text": [
      "True\n"
     ]
    }
   ],
   "source": [
    "print(\"20\".isdecimal())"
   ]
  },
  {
   "cell_type": "code",
   "execution_count": 87,
   "id": "f99f546f-0941-4243-909b-82e6a3c9d80a",
   "metadata": {},
   "outputs": [
    {
     "name": "stdout",
     "output_type": "stream",
     "text": [
      "False\n"
     ]
    }
   ],
   "source": [
    "print(\"²\".isdecimal())"
   ]
  },
  {
   "cell_type": "code",
   "execution_count": 88,
   "id": "dc26a78c-80ba-4d0e-828a-8fa9e242c065",
   "metadata": {},
   "outputs": [
    {
     "name": "stdout",
     "output_type": "stream",
     "text": [
      "b'hello'\n"
     ]
    }
   ],
   "source": [
    "print(\"hello\".encode('ascii'))"
   ]
  },
  {
   "cell_type": "code",
   "execution_count": 90,
   "id": "82462ae9-addd-4fe0-83c6-41128829cb44",
   "metadata": {},
   "outputs": [
    {
     "name": "stdout",
     "output_type": "stream",
     "text": [
      "a-b-c\n"
     ]
    }
   ],
   "source": [
    "print(\"a b c\".replace(\" \", \"-\", 2))"
   ]
  },
  {
   "cell_type": "code",
   "execution_count": 91,
   "id": "efbd33f4-c055-4617-88d0-45ef4d81d469",
   "metadata": {},
   "outputs": [
    {
     "name": "stdout",
     "output_type": "stream",
     "text": [
      "['a', 'b--c']\n"
     ]
    }
   ],
   "source": [
    "print(\"a--b--c\".split(\"--\",1)) "
   ]
  },
  {
   "cell_type": "code",
   "execution_count": 92,
   "id": "928c23e5-9ab1-4531-b393-1d8ebd4eddc7",
   "metadata": {},
   "outputs": [
    {
     "name": "stdout",
     "output_type": "stream",
     "text": [
      "['A', 'B|C']\n"
     ]
    }
   ],
   "source": [
    "print(\"A|B|C\".split(\"|\", maxsplit=1))"
   ]
  },
  {
   "cell_type": "code",
   "execution_count": 93,
   "id": "6f7f1f6b-ecc4-4c23-8629-ed67e614c431",
   "metadata": {},
   "outputs": [
    {
     "name": "stdout",
     "output_type": "stream",
     "text": [
      "['A', 'B']\n"
     ]
    }
   ],
   "source": [
    "print(\"  A  B  \".split())"
   ]
  },
  {
   "cell_type": "code",
   "execution_count": 94,
   "id": "425ef623-068b-4ac1-a61f-7620b8871deb",
   "metadata": {},
   "outputs": [
    {
     "name": "stdout",
     "output_type": "stream",
     "text": [
      "word  \n"
     ]
    }
   ],
   "source": [
    "print(\"word\".ljust(6)) "
   ]
  },
  {
   "cell_type": "code",
   "execution_count": 95,
   "id": "3910cbd4-5338-4636-b398-8f67cbbbd3e6",
   "metadata": {},
   "outputs": [
    {
     "name": "stdout",
     "output_type": "stream",
     "text": [
      "  word\n"
     ]
    }
   ],
   "source": [
    "print(\"word\".rjust(6)) "
   ]
  },
  {
   "cell_type": "code",
   "execution_count": 96,
   "id": "e1e8bcff-5021-4a33-80ad-b38b2a0e2c5e",
   "metadata": {},
   "outputs": [
    {
     "name": "stdout",
     "output_type": "stream",
     "text": [
      "WORD\n"
     ]
    }
   ],
   "source": [
    "print(\"WORD\".lower().upper())"
   ]
  },
  {
   "cell_type": "code",
   "execution_count": 97,
   "id": "8bad9033-43d4-4290-abef-540c787ab3c0",
   "metadata": {},
   "outputs": [
    {
     "name": "stdout",
     "output_type": "stream",
     "text": [
      "['a', 'b', 'c']\n"
     ]
    }
   ],
   "source": [
    "print(\" a,b,c \".strip().split(\",\"))"
   ]
  },
  {
   "cell_type": "code",
   "execution_count": 98,
   "id": "82dc1afd-5f00-4c65-989d-f487437b27a6",
   "metadata": {},
   "outputs": [
    {
     "name": "stdout",
     "output_type": "stream",
     "text": [
      "1;2;3\n"
     ]
    }
   ],
   "source": [
    "print(\";\".join(\"123\"))"
   ]
  },
  {
   "cell_type": "code",
   "execution_count": 99,
   "id": "d7cd6370-577d-4a8f-b43e-c5ef336014fd",
   "metadata": {},
   "outputs": [
    {
     "name": "stdout",
     "output_type": "stream",
     "text": [
      "a123b123c\n"
     ]
    }
   ],
   "source": [
    "print(\"123\".join([\"a\",\"b\",\"c\"])) "
   ]
  },
  {
   "cell_type": "code",
   "execution_count": 100,
   "id": "83f6d581-0bae-47dc-b654-f887e3e72c4e",
   "metadata": {},
   "outputs": [
    {
     "name": "stdout",
     "output_type": "stream",
     "text": [
      " x \n"
     ]
    }
   ],
   "source": [
    "print(\"x\".center(3))"
   ]
  },
  {
   "cell_type": "code",
   "execution_count": 101,
   "id": "adcfce00-050a-4c3e-b72e-1fb0eb882289",
   "metadata": {},
   "outputs": [
    {
     "name": "stdout",
     "output_type": "stream",
     "text": [
      "-x--\n"
     ]
    }
   ],
   "source": [
    "print(\"x\".center(4,\"-\"))"
   ]
  },
  {
   "cell_type": "code",
   "execution_count": 102,
   "id": "43a3737c-9892-4721-93c7-6a5a11ec6f3e",
   "metadata": {},
   "outputs": [
    {
     "name": "stdout",
     "output_type": "stream",
     "text": [
      "False False True\n"
     ]
    }
   ],
   "source": [
    "print(\"Data\".islower(), \"Data\".isupper(), \"Data\".istitle())"
   ]
  },
  {
   "cell_type": "code",
   "execution_count": 103,
   "id": "c8216bd8-68ee-4b50-a3d0-ccc7da956a64",
   "metadata": {},
   "outputs": [
    {
     "name": "stdout",
     "output_type": "stream",
     "text": [
      "True\n"
     ]
    }
   ],
   "source": [
    "print(\"Data123\".isalnum())"
   ]
  },
  {
   "cell_type": "code",
   "execution_count": 104,
   "id": "7866b06a-117e-418f-885a-3e27d0f949c6",
   "metadata": {},
   "outputs": [
    {
     "name": "stdout",
     "output_type": "stream",
     "text": [
      "__\n"
     ]
    }
   ],
   "source": [
    "print(\"  \".replace(\" \",\"_\"))"
   ]
  },
  {
   "cell_type": "code",
   "execution_count": 105,
   "id": "f10b59df-9694-4a61-9f48-cbb67e06a2cc",
   "metadata": {},
   "outputs": [
    {
     "name": "stdout",
     "output_type": "stream",
     "text": [
      "['A', 'B', 'C']\n"
     ]
    }
   ],
   "source": [
    "print(\"A\\nB\\nC\".splitlines())"
   ]
  },
  {
   "cell_type": "code",
   "execution_count": 106,
   "id": "78bdc6e2-79dc-4bc9-8a43-3d36e21b7db9",
   "metadata": {},
   "outputs": [
    {
     "name": "stdout",
     "output_type": "stream",
     "text": [
      "A\n",
      "B\n",
      "C\n"
     ]
    }
   ],
   "source": [
    "print(\"\\n\".join([\"A\",\"B\",\"C\"]))"
   ]
  },
  {
   "cell_type": "code",
   "execution_count": 107,
   "id": "dcd281d1-2427-4e91-8924-fe5e7d88c4e1",
   "metadata": {},
   "outputs": [
    {
     "name": "stdout",
     "output_type": "stream",
     "text": [
      "trimme\n"
     ]
    }
   ],
   "source": [
    "print(\"trimmeR\".rstrip(\"Rr\"))"
   ]
  },
  {
   "cell_type": "code",
   "execution_count": 108,
   "id": "8ac65e48-bcf6-4a3b-89c6-4dcdec99a84c",
   "metadata": {},
   "outputs": [
    {
     "name": "stdout",
     "output_type": "stream",
     "text": [
      "immeR\n"
     ]
    }
   ],
   "source": [
    "print(\"trimmeR\".lstrip(\"tr\"))"
   ]
  },
  {
   "cell_type": "code",
   "execution_count": 109,
   "id": "543c3b98-69fc-4783-a009-b3aef6926900",
   "metadata": {},
   "outputs": [
    {
     "name": "stdout",
     "output_type": "stream",
     "text": [
      "('f', 'o', 'obar')\n"
     ]
    }
   ],
   "source": [
    "print(\"foobar\".partition(\"o\"))"
   ]
  },
  {
   "cell_type": "code",
   "execution_count": 110,
   "id": "5c0102a5-768c-4670-adb2-39d1ce6a2124",
   "metadata": {},
   "outputs": [
    {
     "name": "stdout",
     "output_type": "stream",
     "text": [
      "('fo', 'o', 'bar')\n"
     ]
    }
   ],
   "source": [
    "print(\"foobar\".rpartition(\"o\"))"
   ]
  },
  {
   "cell_type": "code",
   "execution_count": 111,
   "id": "4a61e6cb-29f5-49b5-8766-317cd5a09c05",
   "metadata": {},
   "outputs": [
    {
     "name": "stdout",
     "output_type": "stream",
     "text": [
      "repeat\n"
     ]
    }
   ],
   "source": [
    "print(\" repeat \".strip().replace(\" \",\"-\"))"
   ]
  },
  {
   "cell_type": "code",
   "execution_count": 112,
   "id": "26788094-5c90-4d2f-94bd-91a8623d2a30",
   "metadata": {},
   "outputs": [
    {
     "name": "stdout",
     "output_type": "stream",
     "text": [
      "repeat\n"
     ]
    }
   ],
   "source": [
    "print(\" repeat \".strip().replace(\" \", \"-\"))"
   ]
  },
  {
   "cell_type": "code",
   "execution_count": 113,
   "id": "0402a6e1-453a-4e38-9194-a6896f7de2fc",
   "metadata": {},
   "outputs": [
    {
     "name": "stdout",
     "output_type": "stream",
     "text": [
      "fEdCbA\n"
     ]
    }
   ],
   "source": [
    "print(\"aBcDeF\".swapcase()[::-1]) "
   ]
  },
  {
   "cell_type": "code",
   "execution_count": 114,
   "id": "70321336-d5ad-48ea-a511-d8ca8f06835d",
   "metadata": {},
   "outputs": [
    {
     "name": "stdout",
     "output_type": "stream",
     "text": [
      "A2C4E\n"
     ]
    }
   ],
   "source": [
    "print(\"12345\".translate(str.maketrans(\"135\",\"ACE\")))"
   ]
  },
  {
   "cell_type": "code",
   "execution_count": 115,
   "id": "7c0acca0-73bd-4359-af1e-bf24d3d8cbe4",
   "metadata": {},
   "outputs": [
    {
     "name": "stdout",
     "output_type": "stream",
     "text": [
      "hello😊\n"
     ]
    }
   ],
   "source": [
    "print(\"hello😊\".encode('utf-8').decode('utf-8'))"
   ]
  },
  {
   "cell_type": "code",
   "execution_count": 116,
   "id": "0e642f82-e40d-463f-aba8-6732c0ced350",
   "metadata": {},
   "outputs": [
    {
     "name": "stdout",
     "output_type": "stream",
     "text": [
      "test\n"
     ]
    }
   ],
   "source": [
    "print(\"test\".format())"
   ]
  },
  {
   "cell_type": "code",
   "execution_count": 117,
   "id": "84e16ea8-b629-4bca-b8dd-057bd44bf470",
   "metadata": {},
   "outputs": [
    {
     "name": "stdout",
     "output_type": "stream",
     "text": [
      "a + b\n"
     ]
    }
   ],
   "source": [
    "print(\"{0} + {1}\".format(\"a\",\"b\"))"
   ]
  },
  {
   "cell_type": "code",
   "execution_count": 118,
   "id": "ef24bbec-64b5-46f6-b84a-a22d7f453148",
   "metadata": {},
   "outputs": [
    {
     "name": "stdout",
     "output_type": "stream",
     "text": [
      "apple-banana\n"
     ]
    }
   ],
   "source": [
    "print(f\"{a}-{b}\") "
   ]
  },
  {
   "cell_type": "code",
   "execution_count": 119,
   "id": "d9743661-5bf4-4654-b494-3fe377fc227d",
   "metadata": {},
   "outputs": [
    {
     "name": "stdout",
     "output_type": "stream",
     "text": [
      "age:30\n"
     ]
    }
   ],
   "source": [
    "print(\"%s:%d\" % (\"age\", 30)) "
   ]
  },
  {
   "cell_type": "code",
   "execution_count": 120,
   "id": "3ccdcbdd-10d9-4da3-982d-7c7680723680",
   "metadata": {},
   "outputs": [
    {
     "name": "stdout",
     "output_type": "stream",
     "text": [
      "Abc\n"
     ]
    }
   ],
   "source": [
    "print(\" abc \".strip().title())"
   ]
  },
  {
   "cell_type": "code",
   "execution_count": 121,
   "id": "4fc552c2-c470-43ad-945c-0ba758c36d73",
   "metadata": {},
   "outputs": [
    {
     "name": "stdout",
     "output_type": "stream",
     "text": [
      "00MIX\n"
     ]
    }
   ],
   "source": [
    "print(\"mix\".zfill(5).upper())"
   ]
  },
  {
   "cell_type": "code",
   "execution_count": 122,
   "id": "5f598763-2acd-46e5-9e4b-925e2fcc5a48",
   "metadata": {},
   "outputs": [
    {
     "name": "stdout",
     "output_type": "stream",
     "text": [
      "..END..\n"
     ]
    }
   ],
   "source": [
    "print(\"END\".center(7, \".\"))"
   ]
  },
  {
   "cell_type": "code",
   "execution_count": null,
   "id": "40026a91-491e-46af-80bb-73854d6c8545",
   "metadata": {},
   "outputs": [],
   "source": [
    "print(\"wrap\".rjust(6,\"~\").ljust(8,\"_\"))"
   ]
  }
 ],
 "metadata": {
  "kernelspec": {
   "display_name": "Python 3 (ipykernel)",
   "language": "python",
   "name": "python3"
  },
  "language_info": {
   "codemirror_mode": {
    "name": "ipython",
    "version": 3
   },
   "file_extension": ".py",
   "mimetype": "text/x-python",
   "name": "python",
   "nbconvert_exporter": "python",
   "pygments_lexer": "ipython3",
   "version": "3.12.11"
  }
 },
 "nbformat": 4,
 "nbformat_minor": 5
}
