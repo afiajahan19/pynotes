{
 "cells": [
  {
   "cell_type": "code",
   "execution_count": 39,
   "id": "68b39193-1acc-4c33-9f61-0f598db514f1",
   "metadata": {},
   "outputs": [],
   "source": [
    "#Basic File Reading/Writing"
   ]
  },
  {
   "cell_type": "code",
   "execution_count": 7,
   "id": "2159e7cb-5a75-43b6-b4e3-c49a55f82fd6",
   "metadata": {},
   "outputs": [],
   "source": [
    "f = open(\"sample.txt\", \"w\")\n",
    "f.write(\"Hello\")\n",
    "f.close()"
   ]
  },
  {
   "cell_type": "code",
   "execution_count": 8,
   "id": "d96a4c50-d1f6-493e-b8b1-961fc9cf592a",
   "metadata": {},
   "outputs": [
    {
     "name": "stdout",
     "output_type": "stream",
     "text": [
      "Hello\n"
     ]
    }
   ],
   "source": [
    "f = open(\"sample.txt\", \"r\")\n",
    "print(f.read())\n",
    "f.close()"
   ]
  },
  {
   "cell_type": "code",
   "execution_count": 9,
   "id": "ecfb31af-7260-4d49-9708-e8183f571067",
   "metadata": {},
   "outputs": [
    {
     "name": "stdout",
     "output_type": "stream",
     "text": [
      "Hello\n"
     ]
    }
   ],
   "source": [
    "with open(\"sample.txt\", \"r\") as f:\n",
    "    print(f.read())"
   ]
  },
  {
   "cell_type": "code",
   "execution_count": 10,
   "id": "708710d7-bdf4-4092-a114-2e76dc516f59",
   "metadata": {},
   "outputs": [],
   "source": [
    "with open(\"sample.txt\", \"w\") as f:\n",
    "    f.write(\"New content\")\n"
   ]
  },
  {
   "cell_type": "code",
   "execution_count": 11,
   "id": "12a1d345-3ec9-49fc-9cd6-77b053eb0d1d",
   "metadata": {},
   "outputs": [],
   "source": [
    "with open(\"sample.txt\", \"a\") as f:\n",
    "    f.write(\"\\nAppended line\")"
   ]
  },
  {
   "cell_type": "code",
   "execution_count": 12,
   "id": "f29cf2b0-168e-40d2-bdaf-9b3061315e1e",
   "metadata": {},
   "outputs": [
    {
     "name": "stdout",
     "output_type": "stream",
     "text": [
      "New content\n",
      "\n"
     ]
    }
   ],
   "source": [
    "with open(\"sample.txt\", \"r\") as f:\n",
    "    print(f.readline())"
   ]
  },
  {
   "cell_type": "code",
   "execution_count": 13,
   "id": "63b7d1c8-556e-4182-a003-9920f691ecfc",
   "metadata": {},
   "outputs": [
    {
     "name": "stdout",
     "output_type": "stream",
     "text": [
      "['New content\\n', 'Appended line']\n"
     ]
    }
   ],
   "source": [
    "with open(\"sample.txt\", \"r\") as f:\n",
    "    print(f.readlines())"
   ]
  },
  {
   "cell_type": "code",
   "execution_count": 14,
   "id": "3b78ed72-6414-4ad6-979c-7c2bdc4d1e9b",
   "metadata": {},
   "outputs": [
    {
     "name": "stdout",
     "output_type": "stream",
     "text": [
      "New content\n",
      "Appended line\n"
     ]
    }
   ],
   "source": [
    "with open(\"sample.txt\", \"r\") as f:\n",
    "    for line in f:\n",
    "        print(line.strip())"
   ]
  },
  {
   "cell_type": "code",
   "execution_count": 15,
   "id": "ed7756fb-50cf-4783-ab1f-4399b294aefe",
   "metadata": {},
   "outputs": [
    {
     "name": "stdout",
     "output_type": "stream",
     "text": [
      "New c\n"
     ]
    }
   ],
   "source": [
    "with open(\"sample.txt\", \"r\") as f:\n",
    "    data = f.read(5)\n",
    "    print(data)\n"
   ]
  },
  {
   "cell_type": "code",
   "execution_count": 16,
   "id": "482ac9c1-ec54-4dd8-a0d0-88e673f0db9e",
   "metadata": {},
   "outputs": [
    {
     "name": "stdout",
     "output_type": "stream",
     "text": [
      "New \n"
     ]
    }
   ],
   "source": [
    "with open(\"sample.txt\", \"r\") as f:\n",
    "    f.seek(0)\n",
    "    print(f.read(4))"
   ]
  },
  {
   "cell_type": "code",
   "execution_count": 17,
   "id": "cea2dbdb-aa50-497a-82b0-81ff43d75453",
   "metadata": {},
   "outputs": [
    {
     "name": "stdout",
     "output_type": "stream",
     "text": [
      "0\n"
     ]
    }
   ],
   "source": [
    "with open(\"sample.txt\", \"r\") as f:\n",
    "    print(f.tell())  # cursor position"
   ]
  },
  {
   "cell_type": "code",
   "execution_count": 18,
   "id": "fc4dcf42-c727-4d80-aebe-51cf318a8423",
   "metadata": {},
   "outputs": [
    {
     "name": "stdout",
     "output_type": "stream",
     "text": [
      "w c\n"
     ]
    }
   ],
   "source": [
    "with open(\"sample.txt\", \"r\") as f:\n",
    "    f.seek(2)\n",
    "    print(f.read(3))\n",
    "    "
   ]
  },
  {
   "cell_type": "code",
   "execution_count": 19,
   "id": "638567e6-ff59-4fcb-8ceb-45722d9c64d2",
   "metadata": {},
   "outputs": [
    {
     "name": "stdout",
     "output_type": "stream",
     "text": [
      "0: New content\n",
      "1: Appended line\n"
     ]
    }
   ],
   "source": [
    "with open(\"sample.txt\", \"r\") as f:\n",
    "    for i, line in enumerate(f):\n",
    "        print(f\"{i}: {line.strip()}\")"
   ]
  },
  {
   "cell_type": "code",
   "execution_count": 20,
   "id": "2fc6e25c-81a6-4a22-98a2-50ce9416d7bc",
   "metadata": {},
   "outputs": [
    {
     "name": "stdout",
     "output_type": "stream",
     "text": [
      "File not found\n"
     ]
    }
   ],
   "source": [
    "try:\n",
    "    with open(\"not_exist.txt\", \"r\") as f:\n",
    "        print(f.read())\n",
    "except FileNotFoundError:\n",
    "    print(\"File not found\")\n"
   ]
  },
  {
   "cell_type": "code",
   "execution_count": 21,
   "id": "60f3c249-dd84-4fcc-b190-ae5f79aafd29",
   "metadata": {},
   "outputs": [
    {
     "name": "stdout",
     "output_type": "stream",
     "text": [
      "Test\n"
     ]
    }
   ],
   "source": [
    "with open(\"sample.txt\", \"w+\") as f:\n",
    "    f.write(\"Test\")\n",
    "    f.seek(0)\n",
    "    print(f.read())"
   ]
  },
  {
   "cell_type": "code",
   "execution_count": 22,
   "id": "a65f59e8-e7fa-41c4-9b28-12c8c4e00afb",
   "metadata": {},
   "outputs": [
    {
     "name": "stdout",
     "output_type": "stream",
     "text": [
      "Test\n",
      "Again\n"
     ]
    }
   ],
   "source": [
    "with open(\"sample.txt\", \"a+\") as f:\n",
    "    f.write(\"\\nAgain\")\n",
    "    f.seek(0)\n",
    "    print(f.read())"
   ]
  },
  {
   "cell_type": "code",
   "execution_count": 23,
   "id": "7396ca73-3c9d-4bd4-a64f-556198589ad0",
   "metadata": {},
   "outputs": [
    {
     "name": "stdout",
     "output_type": "stream",
     "text": [
      "['T', 'e', 's', 't', '\\n', 'A', 'g', 'a', 'i', 'n']\n"
     ]
    }
   ],
   "source": [
    "with open(\"sample.txt\", \"r\") as f:\n",
    "    chars = list(f.read())\n",
    "    print(chars)\n"
   ]
  },
  {
   "cell_type": "code",
   "execution_count": 24,
   "id": "ef5e49bf-277f-45eb-9003-0decb4fde44b",
   "metadata": {},
   "outputs": [
    {
     "name": "stdout",
     "output_type": "stream",
     "text": [
      "['Test', 'Again']\n"
     ]
    }
   ],
   "source": [
    "with open(\"sample.txt\", \"r\") as f:\n",
    "    words = f.read().split()\n",
    "    print(words)\n"
   ]
  },
  {
   "cell_type": "code",
   "execution_count": 25,
   "id": "a6d82a0e-5e43-4257-8350-2abede79ae4d",
   "metadata": {},
   "outputs": [],
   "source": [
    "lines = [\"Line1\\n\", \"Line2\\n\", \"Line3\\n\"]\n",
    "with open(\"sample.txt\", \"w\") as f:\n",
    "    f.writelines(lines)"
   ]
  },
  {
   "cell_type": "code",
   "execution_count": 26,
   "id": "2abbd979-b57e-4c84-8bd9-e1df017edc44",
   "metadata": {},
   "outputs": [
    {
     "name": "stdout",
     "output_type": "stream",
     "text": [
      "LINE1\n",
      "LINE2\n",
      "LINE3\n",
      "\n"
     ]
    }
   ],
   "source": [
    "with open(\"sample.txt\", \"r\") as f:\n",
    "    print(f.read().upper())"
   ]
  },
  {
   "cell_type": "code",
   "execution_count": 27,
   "id": "ebdf49fc-b82e-4969-b62f-d7dce116b970",
   "metadata": {},
   "outputs": [
    {
     "name": "stdout",
     "output_type": "stream",
     "text": [
      "line1\n",
      "line2\n",
      "line3\n",
      "\n"
     ]
    }
   ],
   "source": [
    "with open(\"sample.txt\", \"r\") as f:\n",
    "    print(f.read().lower())\n"
   ]
  },
  {
   "cell_type": "code",
   "execution_count": 28,
   "id": "9e729461-3af8-4f00-a7f1-303e94c70346",
   "metadata": {},
   "outputs": [
    {
     "name": "stdout",
     "output_type": "stream",
     "text": [
      "['Line1', 'Line2', 'Line3']\n"
     ]
    }
   ],
   "source": [
    "with open(\"sample.txt\", \"r\") as f:\n",
    "    print(f.read().splitlines())\n"
   ]
  },
  {
   "cell_type": "code",
   "execution_count": 29,
   "id": "02a958e8-7435-4078-9fae-1b792d3ad4a3",
   "metadata": {},
   "outputs": [
    {
     "name": "stdout",
     "output_type": "stream",
     "text": [
      "['Line3\\n', 'Line2\\n', 'Line1\\n']\n"
     ]
    }
   ],
   "source": [
    "with open(\"sample.txt\", \"r\") as f:\n",
    "    lines = f.readlines()\n",
    "    print(lines[::-1])  # reversed"
   ]
  },
  {
   "cell_type": "code",
   "execution_count": 30,
   "id": "f9d4a1d6-3f87-4547-8525-b63aa1cf8a3e",
   "metadata": {},
   "outputs": [
    {
     "name": "stdout",
     "output_type": "stream",
     "text": [
      "3\n"
     ]
    }
   ],
   "source": [
    "with open(\"sample.txt\", \"r\") as f:\n",
    "    print(sum(1 for _ in f))  # line count"
   ]
  },
  {
   "cell_type": "code",
   "execution_count": 31,
   "id": "b60952a2-8748-4878-b635-ac1cf25c93c3",
   "metadata": {},
   "outputs": [
    {
     "name": "stdout",
     "output_type": "stream",
     "text": [
      "3\n"
     ]
    }
   ],
   "source": [
    "with open(\"sample.txt\", \"r\") as f:\n",
    "    print(len(f.read().split()))  # word count\n"
   ]
  },
  {
   "cell_type": "code",
   "execution_count": 32,
   "id": "92fda219-af24-4516-bcbc-c251170b5357",
   "metadata": {},
   "outputs": [
    {
     "name": "stdout",
     "output_type": "stream",
     "text": [
      "18\n"
     ]
    }
   ],
   "source": [
    "with open(\"sample.txt\", \"r\") as f:\n",
    "    print(len(f.read()))  # char count\n",
    "\n"
   ]
  },
  {
   "cell_type": "code",
   "execution_count": 33,
   "id": "e55affd1-5c28-4387-8992-723d699cbdff",
   "metadata": {},
   "outputs": [
    {
     "name": "stdout",
     "output_type": "stream",
     "text": [
      "Line1\n"
     ]
    }
   ],
   "source": [
    "with open(\"sample.txt\", \"r\") as f:\n",
    "    longest = max(f, key=len)\n",
    "    print(longest.strip())"
   ]
  },
  {
   "cell_type": "code",
   "execution_count": 34,
   "id": "bbe008c3-5bb5-4035-a637-c470c0962cb8",
   "metadata": {},
   "outputs": [
    {
     "name": "stdout",
     "output_type": "stream",
     "text": [
      "Line1\n",
      "Line2\n",
      "Line3\n"
     ]
    }
   ],
   "source": [
    "with open(\"sample.txt\", \"r\") as f:\n",
    "    for line in f:\n",
    "        if \"Line\" in line:\n",
    "            print(line.strip())"
   ]
  },
  {
   "cell_type": "code",
   "execution_count": 35,
   "id": "9ac8d620-f391-453a-ab80-8738b573f646",
   "metadata": {},
   "outputs": [
    {
     "name": "stdout",
     "output_type": "stream",
     "text": [
      "True\n"
     ]
    }
   ],
   "source": [
    "with open(\"sample.txt\", \"r\") as f:\n",
    "    print(any(\"Line2\" in line for line in f))"
   ]
  },
  {
   "cell_type": "code",
   "execution_count": 36,
   "id": "51bbaf71-5f43-4607-b47d-d40baad77a8a",
   "metadata": {},
   "outputs": [
    {
     "name": "stdout",
     "output_type": "stream",
     "text": [
      "True\n"
     ]
    }
   ],
   "source": [
    "with open(\"sample.txt\", \"r\") as f:\n",
    "    print(all(\"Line\" in line for line in f))\n"
   ]
  },
  {
   "cell_type": "code",
   "execution_count": 37,
   "id": "34e81f5c-fe7e-407f-8bc1-00e70c47df4e",
   "metadata": {},
   "outputs": [],
   "source": [
    "#File Paths, Encodings, Errors"
   ]
  },
  {
   "cell_type": "code",
   "execution_count": 38,
   "id": "7eaa4c09-0c2b-4133-b381-b6b3c1b3760b",
   "metadata": {},
   "outputs": [
    {
     "name": "stdout",
     "output_type": "stream",
     "text": [
      "Line1\n",
      "Line2\n",
      "Line3\n",
      "\n"
     ]
    }
   ],
   "source": [
    "with open(\"sample.txt\", encoding=\"utf-8\") as f:\n",
    "    print(f.read())"
   ]
  },
  {
   "cell_type": "code",
   "execution_count": 41,
   "id": "15c247bc-68f4-45cd-940c-d3f4f6a2e708",
   "metadata": {},
   "outputs": [
    {
     "name": "stdout",
     "output_type": "stream",
     "text": [
      "Already exists\n"
     ]
    }
   ],
   "source": [
    "try:\n",
    "    with open(\"sample.txt\", \"x\") as f:\n",
    "        f.write(\"new file\")\n",
    "except FileExistsError:\n",
    "    print(\"Already exists\")"
   ]
  },
  {
   "cell_type": "code",
   "execution_count": 42,
   "id": "b993f745-84ad-431a-8483-0c63c161d41a",
   "metadata": {},
   "outputs": [
    {
     "name": "stdout",
     "output_type": "stream",
     "text": [
      "True\n"
     ]
    }
   ],
   "source": [
    "import os\n",
    "print(os.path.exists(\"sample.txt\"))"
   ]
  },
  {
   "cell_type": "code",
   "execution_count": 43,
   "id": "2c148cdf-623e-4fdd-ab60-76dcc01de4a5",
   "metadata": {},
   "outputs": [],
   "source": [
    "os.remove(\"sample.txt\")"
   ]
  },
  {
   "cell_type": "code",
   "execution_count": 44,
   "id": "9455c92f-cb9d-4f53-addf-6ff9de6262fe",
   "metadata": {},
   "outputs": [],
   "source": [
    "with open(\"newfile.txt\", \"w\") as f:\n",
    "    f.write(\"temporary\")\n",
    "os.rename(\"newfile.txt\", \"renamed.txt\")"
   ]
  },
  {
   "cell_type": "code",
   "execution_count": 45,
   "id": "d4ff38a7-2b28-4bae-aa02-2146020eac64",
   "metadata": {},
   "outputs": [],
   "source": [
    "os.mkdir(\"test_dir\")\n"
   ]
  },
  {
   "cell_type": "code",
   "execution_count": 46,
   "id": "4f23c9b2-77e0-4e1f-91a3-87bd32de875d",
   "metadata": {},
   "outputs": [],
   "source": [
    "os.rmdir(\"test_dir\")\n"
   ]
  },
  {
   "cell_type": "code",
   "execution_count": 48,
   "id": "56e82ba3-82e1-4779-b0e5-f42421cd2f9a",
   "metadata": {},
   "outputs": [
    {
     "name": "stdout",
     "output_type": "stream",
     "text": [
      "C:\\tact\\pynotes\\notebooks\\basics\n"
     ]
    }
   ],
   "source": [
    "print(os.getcwd())"
   ]
  },
  {
   "cell_type": "code",
   "execution_count": 49,
   "id": "b61f15d2-f7bd-4009-9f63-13e3b0bd2eb3",
   "metadata": {},
   "outputs": [],
   "source": [
    "os.chdir(\"..\")"
   ]
  },
  {
   "cell_type": "code",
   "execution_count": 50,
   "id": "e9274203-4520-4606-b162-98fbad28efa3",
   "metadata": {},
   "outputs": [
    {
     "name": "stdout",
     "output_type": "stream",
     "text": [
      "C:\\tact\\pynotes\\notebooks\n"
     ]
    }
   ],
   "source": [
    "print(os.getcwd())"
   ]
  },
  {
   "cell_type": "code",
   "execution_count": 51,
   "id": "cb2a9278-b209-411e-95ce-7bac5789bf24",
   "metadata": {},
   "outputs": [
    {
     "name": "stdout",
     "output_type": "stream",
     "text": [
      "False\n"
     ]
    }
   ],
   "source": [
    "from pathlib import Path\n",
    "print(Path(\"sample.txt\").exists())\n"
   ]
  },
  {
   "cell_type": "code",
   "execution_count": 53,
   "id": "9a8d28cc-53ff-4610-b5af-217319ff2841",
   "metadata": {},
   "outputs": [
    {
     "data": {
      "text/plain": [
       "18"
      ]
     },
     "execution_count": 53,
     "metadata": {},
     "output_type": "execute_result"
    }
   ],
   "source": [
    "Path(\"sample.txt\").write_text(\"Written by pathlib\")\n"
   ]
  },
  {
   "cell_type": "code",
   "execution_count": 54,
   "id": "8d92a7a7-af23-42bd-ac27-babae6f67c1a",
   "metadata": {},
   "outputs": [],
   "source": [
    "Path(\"sample.txt\").unlink()  # delete"
   ]
  },
  {
   "cell_type": "code",
   "execution_count": 55,
   "id": "56b3f0ab-3c15-4d2b-a572-2907cf24990a",
   "metadata": {},
   "outputs": [],
   "source": [
    "Path(\"folder\").mkdir(exist_ok=True)"
   ]
  },
  {
   "cell_type": "code",
   "execution_count": 56,
   "id": "8878f623-0bde-48a6-af07-9f0deb5cc705",
   "metadata": {},
   "outputs": [
    {
     "data": {
      "text/plain": [
       "9"
      ]
     },
     "execution_count": 56,
     "metadata": {},
     "output_type": "execute_result"
    }
   ],
   "source": [
    "Path(\"folder/sample.txt\").write_text(\"In folder\")"
   ]
  },
  {
   "cell_type": "code",
   "execution_count": 57,
   "id": "a738ec16-0efc-4ef5-bae4-eb070dcabda1",
   "metadata": {},
   "outputs": [],
   "source": [
    "p = Path(\"folder/sample.txt\")"
   ]
  },
  {
   "cell_type": "code",
   "execution_count": 58,
   "id": "659acbd7-8b32-430d-af1e-32b06efeb2a9",
   "metadata": {},
   "outputs": [
    {
     "name": "stdout",
     "output_type": "stream",
     "text": [
      "sample.txt .txt sample\n"
     ]
    }
   ],
   "source": [
    "print(p.name, p.suffix, p.stem)\n"
   ]
  },
  {
   "cell_type": "code",
   "execution_count": 59,
   "id": "48374c4e-43a4-44b3-acb3-7e0e2caef32d",
   "metadata": {},
   "outputs": [
    {
     "name": "stdout",
     "output_type": "stream",
     "text": [
      "folder\n"
     ]
    }
   ],
   "source": [
    "print(p.parent)"
   ]
  },
  {
   "cell_type": "code",
   "execution_count": 60,
   "id": "60f628b4-2ecb-4f9a-8106-c76160ff7b56",
   "metadata": {},
   "outputs": [
    {
     "name": "stdout",
     "output_type": "stream",
     "text": [
      "[]\n"
     ]
    }
   ],
   "source": [
    "print(list(Path(\".\").glob(\"*.txt\")))\n"
   ]
  },
  {
   "cell_type": "code",
   "execution_count": 61,
   "id": "ee5b908b-a778-41c1-accf-f48cd56dbeae",
   "metadata": {},
   "outputs": [
    {
     "name": "stdout",
     "output_type": "stream",
     "text": [
      "C:\\tact\\pynotes\\notebooks\\folder\\sample.txt\n"
     ]
    }
   ],
   "source": [
    "print(p.resolve())\n"
   ]
  },
  {
   "cell_type": "code",
   "execution_count": 62,
   "id": "6ed88530-d839-4c1c-bdc8-7761df516b88",
   "metadata": {},
   "outputs": [],
   "source": [
    "with open(\"binary.bin\", \"wb\") as f:\n",
    "    f.write(b\"binary data\")"
   ]
  },
  {
   "cell_type": "code",
   "execution_count": 63,
   "id": "1555e652-7eeb-4f73-8417-8033a0deea3e",
   "metadata": {},
   "outputs": [
    {
     "name": "stdout",
     "output_type": "stream",
     "text": [
      "b'binary data'\n"
     ]
    }
   ],
   "source": [
    "with open(\"binary.bin\", \"rb\") as f:\n",
    "    print(f.read())"
   ]
  },
  {
   "cell_type": "code",
   "execution_count": 64,
   "id": "b662bed3-c672-4939-9cc7-3e3f4c6ab4e5",
   "metadata": {},
   "outputs": [],
   "source": [
    "with open(\"sample.txt\", \"w\", errors=\"ignore\") as f:\n",
    "    f.write(\"ignored\")"
   ]
  },
  {
   "cell_type": "code",
   "execution_count": 65,
   "id": "1ee538a8-97c3-4c0f-95e1-c7272f69dcd8",
   "metadata": {},
   "outputs": [
    {
     "data": {
      "text/plain": [
       "6"
      ]
     },
     "execution_count": 65,
     "metadata": {},
     "output_type": "execute_result"
    }
   ],
   "source": [
    "Path(\"utf.txt\").write_text(\"नमस्ते\", encoding=\"utf-8\")"
   ]
  },
  {
   "cell_type": "code",
   "execution_count": 66,
   "id": "86a4b0b4-0fa3-4c85-a6a3-29009c52e1ad",
   "metadata": {},
   "outputs": [
    {
     "name": "stdout",
     "output_type": "stream",
     "text": [
      "नमस्ते\n"
     ]
    }
   ],
   "source": [
    "print(Path(\"utf.txt\").read_text(encoding=\"utf-8\"))"
   ]
  },
  {
   "cell_type": "code",
   "execution_count": 67,
   "id": "511b3faf-86a0-4722-ad4a-914898f36a7a",
   "metadata": {},
   "outputs": [
    {
     "name": "stdout",
     "output_type": "stream",
     "text": [
      "True\n"
     ]
    }
   ],
   "source": [
    "print(\"utf.txt\" in os.listdir())"
   ]
  },
  {
   "cell_type": "code",
   "execution_count": 68,
   "id": "95335ff7-2a24-4fdc-ada0-4f7e64cb5633",
   "metadata": {},
   "outputs": [
    {
     "name": "stdout",
     "output_type": "stream",
     "text": [
      "['basics', 'binary.bin', 'folder', 'pandas-work', 'sample.txt', 'utf.txt']\n"
     ]
    }
   ],
   "source": [
    "print(os.listdir(\".\"))\n"
   ]
  },
  {
   "cell_type": "code",
   "execution_count": 69,
   "id": "9f05d878-56da-455a-8f54-35d14a6a3d7d",
   "metadata": {},
   "outputs": [
    {
     "name": "stdout",
     "output_type": "stream",
     "text": [
      "['sample.txt', 'utf.txt']\n"
     ]
    }
   ],
   "source": [
    "print([f for f in os.listdir() if f.endswith(\".txt\")])\n"
   ]
  },
  {
   "cell_type": "code",
   "execution_count": 70,
   "id": "f5c50f2c-90ab-4c01-a64a-bce5bbea499f",
   "metadata": {},
   "outputs": [
    {
     "data": {
      "text/plain": [
       "7"
      ]
     },
     "execution_count": 70,
     "metadata": {},
     "output_type": "execute_result"
    }
   ],
   "source": [
    "Path(\"file_with_space.txt\").write_text(\"spacing\")\n"
   ]
  },
  {
   "cell_type": "code",
   "execution_count": 71,
   "id": "01adb727-8eeb-42cc-84b4-5829fca9f8b4",
   "metadata": {},
   "outputs": [
    {
     "name": "stdout",
     "output_type": "stream",
     "text": [
      "spacing\n"
     ]
    }
   ],
   "source": [
    "with open(\"file_with_space.txt\", \"r\") as f:\n",
    "    print(f.read().replace(\" \", \"_\"))\n"
   ]
  },
  {
   "cell_type": "code",
   "execution_count": 72,
   "id": "afb2a10e-3d44-4185-982b-7095037d1b03",
   "metadata": {},
   "outputs": [],
   "source": [
    "with open(\"sample.txt\", \"a\") as f:\n",
    "    f.write(\"\\nLast line\")"
   ]
  },
  {
   "cell_type": "code",
   "execution_count": 76,
   "id": "ee943105-bd68-444b-a186-45678895f8f5",
   "metadata": {},
   "outputs": [],
   "source": [
    "#CSV, JSON, Pickle"
   ]
  },
  {
   "cell_type": "code",
   "execution_count": 73,
   "id": "a657d197-676e-4275-b1bf-16a79ac698dc",
   "metadata": {},
   "outputs": [],
   "source": [
    "import csv\n",
    "with open(\"data.csv\", \"w\", newline=\"\") as f:\n",
    "    writer = csv.writer(f)\n",
    "    writer.writerow([\"Name\", \"Age\"])\n",
    "    writer.writerow([\"Alice\", 30])\n"
   ]
  },
  {
   "cell_type": "code",
   "execution_count": 74,
   "id": "753f8624-6203-4cf1-b30f-76177697d871",
   "metadata": {},
   "outputs": [
    {
     "name": "stdout",
     "output_type": "stream",
     "text": [
      "['Name', 'Age']\n",
      "['Alice', '30']\n"
     ]
    }
   ],
   "source": [
    "with open(\"data.csv\", \"r\") as f:\n",
    "    reader = csv.reader(f)\n",
    "    for row in reader:\n",
    "        print(row)"
   ]
  },
  {
   "cell_type": "code",
   "execution_count": 75,
   "id": "4e80a93e-8b20-493f-bd45-2af79ee88e90",
   "metadata": {},
   "outputs": [],
   "source": [
    "import json\n",
    "data = {\"name\": \"Alice\", \"age\": 30}\n",
    "with open(\"data.json\", \"w\") as f:\n",
    "    json.dump(data, f)"
   ]
  },
  {
   "cell_type": "code",
   "execution_count": 77,
   "id": "263d32d4-844b-42f1-9c70-edc6e0e29268",
   "metadata": {},
   "outputs": [
    {
     "name": "stdout",
     "output_type": "stream",
     "text": [
      "{'name': 'Alice', 'age': 30}\n"
     ]
    }
   ],
   "source": [
    "with open(\"data.json\", \"r\") as f:\n",
    "    print(json.load(f))\n"
   ]
  },
  {
   "cell_type": "code",
   "execution_count": 78,
   "id": "0b963a8b-493b-48a1-94a3-9af6d70f15fe",
   "metadata": {},
   "outputs": [
    {
     "name": "stdout",
     "output_type": "stream",
     "text": [
      "{\"name\": \"Alice\", \"age\": 30}\n"
     ]
    }
   ],
   "source": [
    "print(json.dumps(data)) "
   ]
  },
  {
   "cell_type": "code",
   "execution_count": 79,
   "id": "e9616e86-fd3c-4cbd-bef5-306a1dc4ca4b",
   "metadata": {},
   "outputs": [
    {
     "name": "stdout",
     "output_type": "stream",
     "text": [
      "{'key': 1}\n"
     ]
    }
   ],
   "source": [
    "print(json.loads('{\"key\": 1}'))"
   ]
  },
  {
   "cell_type": "code",
   "execution_count": 80,
   "id": "0e14f19d-3be0-4f4b-a300-fd0a90ffade4",
   "metadata": {},
   "outputs": [],
   "source": [
    "with open(\"data.json\", \"w\") as f:\n",
    "    json.dump(data, f, indent=4)\n"
   ]
  },
  {
   "cell_type": "code",
   "execution_count": 81,
   "id": "393c6798-db2e-4a34-8f33-db2120d83ba8",
   "metadata": {},
   "outputs": [],
   "source": [
    "import pickle\n",
    "with open(\"data.pkl\", \"wb\") as f:\n",
    "    pickle.dump(data, f)"
   ]
  },
  {
   "cell_type": "code",
   "execution_count": 82,
   "id": "bab9e1de-ada3-4093-879f-d28c7e47a3bc",
   "metadata": {},
   "outputs": [
    {
     "name": "stdout",
     "output_type": "stream",
     "text": [
      "{'name': 'Alice', 'age': 30}\n"
     ]
    }
   ],
   "source": [
    "with open(\"data.pkl\", \"rb\") as f:\n",
    "    print(pickle.load(f))"
   ]
  },
  {
   "cell_type": "code",
   "execution_count": 83,
   "id": "38d833f2-8718-46d5-9a26-1b3563e95c01",
   "metadata": {},
   "outputs": [
    {
     "name": "stdout",
     "output_type": "stream",
     "text": [
      "[Errno 2] No such file or directory: 'non_existing.txt'\n"
     ]
    }
   ],
   "source": [
    "try:\n",
    "    with open(\"non_existing.txt\", \"r\") as f:\n",
    "        pass\n",
    "except FileNotFoundError as e:\n",
    "    print(e)"
   ]
  },
  {
   "cell_type": "code",
   "execution_count": 84,
   "id": "f6236fe5-07e8-40dc-b60c-6bc55e609604",
   "metadata": {},
   "outputs": [],
   "source": [
    "#Advanced/Tricks/Useful Patterns"
   ]
  },
  {
   "cell_type": "code",
   "execution_count": 85,
   "id": "4680ceaf-5f9a-4ff0-829a-6433456e0da5",
   "metadata": {},
   "outputs": [],
   "source": [
    "with open(\"numbers.txt\", \"w\") as f:\n",
    "    f.write(\"\\n\".join(str(i) for i in range(10)))"
   ]
  },
  {
   "cell_type": "code",
   "execution_count": 86,
   "id": "6ac05976-24e4-43dd-ad4e-4c7b86de3fad",
   "metadata": {},
   "outputs": [
    {
     "name": "stdout",
     "output_type": "stream",
     "text": [
      "[0, 1, 2, 3, 4, 5, 6, 7, 8, 9]\n"
     ]
    }
   ],
   "source": [
    "with open(\"numbers.txt\", \"r\") as f:\n",
    "    print([int(line) for line in f])"
   ]
  },
  {
   "cell_type": "code",
   "execution_count": 87,
   "id": "98cd4132-ddc5-4929-8974-f5f890d41777",
   "metadata": {},
   "outputs": [],
   "source": [
    "with open(\"file.txt\", \"w\") as f:\n",
    "    pass  # creates empty file"
   ]
  },
  {
   "cell_type": "code",
   "execution_count": 88,
   "id": "6c5119e7-9120-4577-b27f-1a025f54f347",
   "metadata": {},
   "outputs": [
    {
     "name": "stdout",
     "output_type": "stream",
     "text": [
      "0\n"
     ]
    }
   ],
   "source": [
    "print(os.stat(\"file.txt\").st_size)  # file size"
   ]
  },
  {
   "cell_type": "code",
   "execution_count": 89,
   "id": "c121d9aa-9d06-4eac-9963-f9d2250e2b7e",
   "metadata": {},
   "outputs": [],
   "source": [
    "with open(\"log.txt\", \"a\") as f:\n",
    "    f.write(\"Log entry\\n\")"
   ]
  },
  {
   "cell_type": "code",
   "execution_count": 90,
   "id": "63979305-6856-44ac-9c0a-f1e1ff9b4ad0",
   "metadata": {},
   "outputs": [],
   "source": [
    "with open(\"multi.txt\", \"w\") as f:\n",
    "    f.write(\"Line1\\nLine2\\nLine3\\n\")\n"
   ]
  },
  {
   "cell_type": "code",
   "execution_count": 91,
   "id": "084c298b-b6fd-43ae-aa8d-b8c650bb52b4",
   "metadata": {},
   "outputs": [
    {
     "name": "stdout",
     "output_type": "stream",
     "text": [
      "Line2\n",
      "\n"
     ]
    }
   ],
   "source": [
    "with open(\"multi.txt\") as f:\n",
    "    print(f.readlines()[1])  # second line\n"
   ]
  },
  {
   "cell_type": "code",
   "execution_count": 92,
   "id": "52189ce7-105d-4def-bea4-a3a79880052e",
   "metadata": {},
   "outputs": [
    {
     "name": "stdout",
     "output_type": "stream",
     "text": [
      "Line3\n"
     ]
    }
   ],
   "source": [
    "lines = Path(\"multi.txt\").read_text().splitlines()\n",
    "print(lines[-1])  # last line"
   ]
  },
  {
   "cell_type": "code",
   "execution_count": 93,
   "id": "58968f88-a0a6-4e83-85c0-13d87e50327f",
   "metadata": {},
   "outputs": [
    {
     "data": {
      "text/plain": [
       "25"
      ]
     },
     "execution_count": 93,
     "metadata": {},
     "output_type": "execute_result"
    }
   ],
   "source": [
    "lines[1] = \"Updated line2\"\n",
    "Path(\"multi.txt\").write_text(\"\\n\".join(lines))"
   ]
  },
  {
   "cell_type": "code",
   "execution_count": 94,
   "id": "30e483d3-8501-438c-99db-e209f953c48c",
   "metadata": {},
   "outputs": [],
   "source": [
    "with open(\"read.txt\", \"w\") as f:\n",
    "    f.write(\"123abc456\")"
   ]
  },
  {
   "cell_type": "code",
   "execution_count": 95,
   "id": "11690cd4-671c-40fc-b33a-25cf91e70ba2",
   "metadata": {},
   "outputs": [
    {
     "name": "stdout",
     "output_type": "stream",
     "text": [
      "True\n"
     ]
    }
   ],
   "source": [
    "with open(\"read.txt\", \"r\") as f:\n",
    "    print(\"abc\" in f.read())"
   ]
  },
  {
   "cell_type": "code",
   "execution_count": 96,
   "id": "4ddc0299-c537-4e6a-a154-4827609677c4",
   "metadata": {},
   "outputs": [],
   "source": [
    "f = open(\"late.txt\", \"w\")\n",
    "f.write(\"oops\")\n",
    "f.close()"
   ]
  },
  {
   "cell_type": "code",
   "execution_count": 97,
   "id": "3d8d061c-1c47-4bb0-9079-6589ff987ae6",
   "metadata": {},
   "outputs": [],
   "source": [
    "with open(\"late.txt\", \"r+\") as f:\n",
    "    f.seek(0)\n",
    "    f.write(\"fixed\")\n"
   ]
  },
  {
   "cell_type": "code",
   "execution_count": 98,
   "id": "3f7ce4f9-5316-4320-b056-2bedda11cccc",
   "metadata": {},
   "outputs": [],
   "source": [
    "with open(\"space.txt\", \"w\") as f:\n",
    "    f.write(\"   line with space   \")"
   ]
  },
  {
   "cell_type": "code",
   "execution_count": 99,
   "id": "c29e3311-eb53-43b9-98f0-dbdc0d70e749",
   "metadata": {},
   "outputs": [
    {
     "name": "stdout",
     "output_type": "stream",
     "text": [
      "line with space\n"
     ]
    }
   ],
   "source": [
    "with open(\"space.txt\") as f:\n",
    "    print(f.read().strip())"
   ]
  },
  {
   "cell_type": "code",
   "execution_count": 100,
   "id": "b7e51cae-dd20-4e22-9c36-baff02b7e837",
   "metadata": {},
   "outputs": [],
   "source": [
    "with open(\"csv2.csv\", \"w\", newline=\"\") as f:\n",
    "    writer = csv.DictWriter(f, fieldnames=[\"id\", \"score\"])\n",
    "    writer.writeheader()\n",
    "    writer.writerow({\"id\": 1, \"score\": 90})"
   ]
  },
  {
   "cell_type": "code",
   "execution_count": 101,
   "id": "b42f8511-3d0c-418a-a405-21d157dcf749",
   "metadata": {},
   "outputs": [
    {
     "name": "stdout",
     "output_type": "stream",
     "text": [
      "90\n"
     ]
    }
   ],
   "source": [
    "with open(\"csv2.csv\") as f:\n",
    "    reader = csv.DictReader(f)\n",
    "    for row in reader:\n",
    "        print(row[\"score\"])\n"
   ]
  },
  {
   "cell_type": "code",
   "execution_count": 102,
   "id": "f9b28648-dabc-43ac-81fa-5da0460b5033",
   "metadata": {},
   "outputs": [],
   "source": [
    "with open(\"utf8.txt\", \"w\", encoding=\"utf-8\") as f:\n",
    "    f.write(\"¡Hola!\")"
   ]
  },
  {
   "cell_type": "code",
   "execution_count": 103,
   "id": "9d07cebd-c5d9-457f-95a7-61f536cc0349",
   "metadata": {},
   "outputs": [
    {
     "name": "stdout",
     "output_type": "stream",
     "text": [
      "¡Hola!\n"
     ]
    }
   ],
   "source": [
    "with open(\"utf8.txt\", encoding=\"utf-8\") as f:\n",
    "    print(f.read())\n"
   ]
  },
  {
   "cell_type": "code",
   "execution_count": 104,
   "id": "8d261604-e857-45b5-af29-da10990758b1",
   "metadata": {},
   "outputs": [],
   "source": [
    "Path(\"delete_me.txt\").write_text(\"bye\")\n",
    "Path(\"delete_me.txt\").unlink()"
   ]
  },
  {
   "cell_type": "code",
   "execution_count": 105,
   "id": "8bd564cd-95b7-4c66-8b2a-4fe6da4d114d",
   "metadata": {},
   "outputs": [
    {
     "name": "stdout",
     "output_type": "stream",
     "text": [
      "No such file\n"
     ]
    }
   ],
   "source": [
    "try:\n",
    "    Path(\"badfile.txt\").read_text()\n",
    "except FileNotFoundError:\n",
    "    print(\"No such file\")"
   ]
  },
  {
   "cell_type": "code",
   "execution_count": 106,
   "id": "fbb64cd7-5928-4690-a48e-7be9a81ec0a1",
   "metadata": {},
   "outputs": [],
   "source": [
    "with open(\"even.txt\", \"w\") as f:\n",
    "    f.writelines([f\"{i}\\n\" for i in range(0, 10, 2)])\n"
   ]
  },
  {
   "cell_type": "code",
   "execution_count": 107,
   "id": "ea22f2de-ffd7-443d-bfc0-d9743ccfa43f",
   "metadata": {},
   "outputs": [
    {
     "name": "stdout",
     "output_type": "stream",
     "text": [
      "[0, 2, 4, 6, 8]\n"
     ]
    }
   ],
   "source": [
    "with open(\"even.txt\") as f:\n",
    "    evens = [int(line) for line in f]\n",
    "    print(evens)"
   ]
  },
  {
   "cell_type": "code",
   "execution_count": 108,
   "id": "318d375b-dd47-4ae5-9020-d65415e8728e",
   "metadata": {},
   "outputs": [
    {
     "name": "stdout",
     "output_type": "stream",
     "text": [
      "C:\\tact\\pynotes\\notebooks\\sample.txt\n"
     ]
    }
   ],
   "source": [
    "print(os.path.abspath(\"sample.txt\"))"
   ]
  },
  {
   "cell_type": "code",
   "execution_count": 109,
   "id": "f583e1d6-ace6-4935-aa25-7a3accc82e6e",
   "metadata": {},
   "outputs": [
    {
     "name": "stdout",
     "output_type": "stream",
     "text": [
      "sample.txt\n"
     ]
    }
   ],
   "source": [
    "print(os.path.basename(\"folder/sample.txt\"))\n"
   ]
  },
  {
   "cell_type": "code",
   "execution_count": 110,
   "id": "eb579ffa-6af9-4e55-8404-8799772e70d8",
   "metadata": {},
   "outputs": [
    {
     "name": "stdout",
     "output_type": "stream",
     "text": [
      "folder\n"
     ]
    }
   ],
   "source": [
    "print(os.path.dirname(\"folder/sample.txt\"))"
   ]
  },
  {
   "cell_type": "code",
   "execution_count": 111,
   "id": "49d1647c-f62a-4871-ac75-5b7201f0fd54",
   "metadata": {},
   "outputs": [
    {
     "name": "stdout",
     "output_type": "stream",
     "text": [
      "('file', '.txt')\n"
     ]
    }
   ],
   "source": [
    "print(os.path.splitext(\"file.txt\"))  # ('file', '.txt')\n"
   ]
  },
  {
   "cell_type": "code",
   "execution_count": 112,
   "id": "b18b7dba-8e94-42fe-812a-3aa8e808e51f",
   "metadata": {},
   "outputs": [
    {
     "name": "stdout",
     "output_type": "stream",
     "text": [
      "folder\\file.bak\n"
     ]
    }
   ],
   "source": [
    "print(Path(\"folder/file.txt\").with_suffix(\".bak\"))\n"
   ]
  },
  {
   "cell_type": "code",
   "execution_count": 113,
   "id": "8fb6d35a-5864-4852-9d6e-dc6de750e06e",
   "metadata": {},
   "outputs": [],
   "source": [
    "with open(\"caps.txt\", \"w\") as f:\n",
    "    f.write(\"hello\\nworld\")\n"
   ]
  },
  {
   "cell_type": "code",
   "execution_count": 114,
   "id": "a24fb90a-caa9-44bb-a474-a7d456110915",
   "metadata": {},
   "outputs": [
    {
     "name": "stdout",
     "output_type": "stream",
     "text": [
      "['HELLO\\n', 'WORLD']\n"
     ]
    }
   ],
   "source": [
    "with open(\"caps.txt\") as f:\n",
    "    print([line.upper() for line in f])"
   ]
  },
  {
   "cell_type": "code",
   "execution_count": null,
   "id": "be654bfa-2b13-446a-b218-68c569935237",
   "metadata": {},
   "outputs": [],
   "source": []
  }
 ],
 "metadata": {
  "kernelspec": {
   "display_name": "Python 3 (ipykernel)",
   "language": "python",
   "name": "python3"
  },
  "language_info": {
   "codemirror_mode": {
    "name": "ipython",
    "version": 3
   },
   "file_extension": ".py",
   "mimetype": "text/x-python",
   "name": "python",
   "nbconvert_exporter": "python",
   "pygments_lexer": "ipython3",
   "version": "3.12.11"
  }
 },
 "nbformat": 4,
 "nbformat_minor": 5
}
