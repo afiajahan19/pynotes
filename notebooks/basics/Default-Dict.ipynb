{
 "cells": [
  {
   "cell_type": "code",
   "execution_count": 1,
   "id": "26b6374e-2f9b-4550-acde-2a19f5d1be1c",
   "metadata": {},
   "outputs": [],
   "source": [
    "from collections import defaultdict"
   ]
  },
  {
   "cell_type": "code",
   "execution_count": 2,
   "id": "1833584d-915a-4df6-9c2d-ea387a8a83c0",
   "metadata": {},
   "outputs": [],
   "source": [
    "user = defaultdict(lambda: 'Kevin')"
   ]
  },
  {
   "cell_type": "code",
   "execution_count": 3,
   "id": "2abf91e3-a657-4023-a8cd-83d8238563a7",
   "metadata": {},
   "outputs": [
    {
     "data": {
      "text/plain": [
       "defaultdict(<function __main__.<lambda>()>, {})"
      ]
     },
     "execution_count": 3,
     "metadata": {},
     "output_type": "execute_result"
    }
   ],
   "source": [
    "user"
   ]
  },
  {
   "cell_type": "code",
   "execution_count": 4,
   "id": "7695cfae-27ee-4252-8761-4ad20da5e11d",
   "metadata": {},
   "outputs": [
    {
     "data": {
      "text/plain": [
       "collections.defaultdict"
      ]
     },
     "execution_count": 4,
     "metadata": {},
     "output_type": "execute_result"
    }
   ],
   "source": [
    "type(user)"
   ]
  },
  {
   "cell_type": "code",
   "execution_count": 5,
   "id": "64c91ef9-a11e-4681-a043-f98faacb8340",
   "metadata": {},
   "outputs": [
    {
     "data": {
      "text/plain": [
       "'Kevin'"
      ]
     },
     "execution_count": 5,
     "metadata": {},
     "output_type": "execute_result"
    }
   ],
   "source": [
    "user['abc']"
   ]
  },
  {
   "cell_type": "code",
   "execution_count": 6,
   "id": "98c99acf-2620-4a90-a436-19192fde579a",
   "metadata": {},
   "outputs": [],
   "source": [
    "user['name'] = 'Peter'\n",
    "user['age'] = 21\n",
    "user['city'] = 'Toronto'"
   ]
  },
  {
   "cell_type": "code",
   "execution_count": 7,
   "id": "6333d7ff-e3be-4d0c-bd28-4c4e6ff4fc2d",
   "metadata": {},
   "outputs": [
    {
     "data": {
      "text/plain": [
       "defaultdict(<function __main__.<lambda>()>,\n",
       "            {'abc': 'Kevin', 'name': 'Peter', 'age': 21, 'city': 'Toronto'})"
      ]
     },
     "execution_count": 7,
     "metadata": {},
     "output_type": "execute_result"
    }
   ],
   "source": [
    "user"
   ]
  },
  {
   "cell_type": "code",
   "execution_count": 8,
   "id": "c6f37664-d288-4a1f-bca4-4ecbc63a7396",
   "metadata": {},
   "outputs": [
    {
     "ename": "SyntaxError",
     "evalue": "invalid syntax (4104606437.py, line 1)",
     "output_type": "error",
     "traceback": [
      "  \u001b[36mCell\u001b[39m\u001b[36m \u001b[39m\u001b[32mIn[8]\u001b[39m\u001b[32m, line 1\u001b[39m\n\u001b[31m    \u001b[39m\u001b[31mdefaultdict(<function __main__.<lambda>>,\u001b[39m\n                ^\n\u001b[31mSyntaxError\u001b[39m\u001b[31m:\u001b[39m invalid syntax\n"
     ]
    }
   ],
   "source": [
    "defaultdict(<function __main__.<lambda>>,\n",
    "            {'abc': 'Kevin',\n",
    "             'age': 21,\n",
    "             'city': 'Toronto',\n",
    "             'country': 'Kevin',\n",
    "             'name': 'Peter'})"
   ]
  },
  {
   "cell_type": "code",
   "execution_count": 9,
   "id": "843bc76b-b94f-4c73-a867-4b111e97e5b4",
   "metadata": {},
   "outputs": [],
   "source": [
    "from collections import defaultdict\n"
   ]
  },
  {
   "cell_type": "code",
   "execution_count": 14,
   "id": "58328f0d-95b9-4037-bca7-69e792298067",
   "metadata": {},
   "outputs": [],
   "source": [
    "d = defaultdict(lambda: 'default value', {\n",
    "    'abc': 'Kevin',\n",
    "    'age': 21,\n",
    "    'city': 'Toronto',\n",
    "    'country': 'Kevin',\n",
    "    'name': 'Peter'\n",
    "})"
   ]
  },
  {
   "cell_type": "code",
   "execution_count": 16,
   "id": "ee1aa1ef-1d53-404c-9b5c-f270b89c2d4a",
   "metadata": {},
   "outputs": [
    {
     "name": "stdout",
     "output_type": "stream",
     "text": [
      "abc ==> Kevin\n",
      "name ==> Peter\n",
      "age ==> 21\n",
      "city ==> Toronto\n"
     ]
    }
   ],
   "source": [
    "for k, v in user.items():\n",
    "    print(k, \"==>\", v)"
   ]
  },
  {
   "cell_type": "code",
   "execution_count": null,
   "id": "3eb2d4cd-e3ae-445e-97c1-cc374b4ccfcd",
   "metadata": {},
   "outputs": [],
   "source": []
  },
  {
   "cell_type": "code",
   "execution_count": null,
   "id": "b351774a-bba4-4123-a731-99faa7835d1a",
   "metadata": {},
   "outputs": [],
   "source": []
  }
 ],
 "metadata": {
  "kernelspec": {
   "display_name": "Python 3 (ipykernel)",
   "language": "python",
   "name": "python3"
  },
  "language_info": {
   "codemirror_mode": {
    "name": "ipython",
    "version": 3
   },
   "file_extension": ".py",
   "mimetype": "text/x-python",
   "name": "python",
   "nbconvert_exporter": "python",
   "pygments_lexer": "ipython3",
   "version": "3.12.11"
  }
 },
 "nbformat": 4,
 "nbformat_minor": 5
}
