{
 "cells": [
  {
   "cell_type": "code",
   "execution_count": 1,
   "id": "0ca3b9ab-6934-4ef1-a40e-79208477c491",
   "metadata": {},
   "outputs": [],
   "source": [
    "d = {\"a\": 1, \"b\": 2}"
   ]
  },
  {
   "cell_type": "code",
   "execution_count": 2,
   "id": "ad944c2a-0d05-496b-b95d-d3fcdc799b9b",
   "metadata": {},
   "outputs": [
    {
     "name": "stdout",
     "output_type": "stream",
     "text": [
      "{'a': 1, 'b': 2}\n"
     ]
    }
   ],
   "source": [
    "print(d)\n"
   ]
  },
  {
   "cell_type": "code",
   "execution_count": 3,
   "id": "b7f5fb96-c86e-4630-9597-8f4d39ea5502",
   "metadata": {},
   "outputs": [
    {
     "name": "stdout",
     "output_type": "stream",
     "text": [
      "2\n"
     ]
    }
   ],
   "source": [
    "print(len(d))"
   ]
  },
  {
   "cell_type": "code",
   "execution_count": 4,
   "id": "212a4e23-fe88-42b3-b723-219c56aac3ec",
   "metadata": {},
   "outputs": [
    {
     "name": "stdout",
     "output_type": "stream",
     "text": [
      "1\n"
     ]
    }
   ],
   "source": [
    "print(d[\"a\"])"
   ]
  },
  {
   "cell_type": "code",
   "execution_count": 5,
   "id": "8fe05b64-5776-47bf-a665-4036fa04a0ff",
   "metadata": {},
   "outputs": [],
   "source": [
    "d[\"c\"] = 3"
   ]
  },
  {
   "cell_type": "code",
   "execution_count": 6,
   "id": "ac91aedd-8fef-4a6e-acfc-b4cf436d2aa3",
   "metadata": {},
   "outputs": [
    {
     "name": "stdout",
     "output_type": "stream",
     "text": [
      "{'a': 1, 'b': 2, 'c': 3}\n"
     ]
    }
   ],
   "source": [
    "print(d)"
   ]
  },
  {
   "cell_type": "code",
   "execution_count": 7,
   "id": "1a04b9af-28af-42b2-9077-e4327a0d8ad8",
   "metadata": {},
   "outputs": [],
   "source": [
    "d[\"a\"] = 10"
   ]
  },
  {
   "cell_type": "code",
   "execution_count": 8,
   "id": "80987525-abc6-45d2-95b1-f5eab0796742",
   "metadata": {},
   "outputs": [
    {
     "name": "stdout",
     "output_type": "stream",
     "text": [
      "{'a': 10, 'b': 2, 'c': 3}\n"
     ]
    }
   ],
   "source": [
    "print(d)"
   ]
  },
  {
   "cell_type": "code",
   "execution_count": 9,
   "id": "4c7a266e-b06f-42be-a06e-15775c448ed5",
   "metadata": {},
   "outputs": [],
   "source": [
    "del d[\"b\"]"
   ]
  },
  {
   "cell_type": "code",
   "execution_count": 10,
   "id": "51764b9e-ffd9-4d8c-8727-56b24376acf2",
   "metadata": {},
   "outputs": [
    {
     "name": "stdout",
     "output_type": "stream",
     "text": [
      "{'a': 10, 'c': 3}\n"
     ]
    }
   ],
   "source": [
    "print(d)"
   ]
  },
  {
   "cell_type": "code",
   "execution_count": 11,
   "id": "bf949690-100d-4a65-b2ad-89bf29a4a2f4",
   "metadata": {},
   "outputs": [
    {
     "name": "stdout",
     "output_type": "stream",
     "text": [
      "True\n"
     ]
    }
   ],
   "source": [
    "print(\"a\" in d) "
   ]
  },
  {
   "cell_type": "code",
   "execution_count": 12,
   "id": "07889cf1-57f5-4bb1-98bd-a69cb58c2ec9",
   "metadata": {},
   "outputs": [
    {
     "name": "stdout",
     "output_type": "stream",
     "text": [
      "False\n"
     ]
    }
   ],
   "source": [
    "print(\"z\" in d) "
   ]
  },
  {
   "cell_type": "code",
   "execution_count": 13,
   "id": "11ee64de-5c7f-4eff-acc0-91d1b13f101e",
   "metadata": {},
   "outputs": [
    {
     "name": "stdout",
     "output_type": "stream",
     "text": [
      "10\n"
     ]
    }
   ],
   "source": [
    "print(d.get(\"a\"))  "
   ]
  },
  {
   "cell_type": "code",
   "execution_count": 14,
   "id": "0a1ea389-2a2a-4fa7-840d-8405ee1d1909",
   "metadata": {},
   "outputs": [
    {
     "name": "stdout",
     "output_type": "stream",
     "text": [
      "None\n"
     ]
    }
   ],
   "source": [
    "print(d.get(\"z\")) "
   ]
  },
  {
   "cell_type": "code",
   "execution_count": 15,
   "id": "e9f5c22b-06c8-45b3-94df-fabecae653e6",
   "metadata": {},
   "outputs": [
    {
     "name": "stdout",
     "output_type": "stream",
     "text": [
      "0\n"
     ]
    }
   ],
   "source": [
    "print(d.get(\"z\", 0))"
   ]
  },
  {
   "cell_type": "code",
   "execution_count": 16,
   "id": "5d72d59e-d003-426a-9525-c3ba791ed943",
   "metadata": {},
   "outputs": [
    {
     "name": "stdout",
     "output_type": "stream",
     "text": [
      "dict_keys(['a', 'c'])\n"
     ]
    }
   ],
   "source": [
    "print(d.keys())"
   ]
  },
  {
   "cell_type": "code",
   "execution_count": 17,
   "id": "01cf0a35-1167-482f-aeab-543c9f96ae43",
   "metadata": {},
   "outputs": [
    {
     "name": "stdout",
     "output_type": "stream",
     "text": [
      "dict_values([10, 3])\n"
     ]
    }
   ],
   "source": [
    "print(d.values())"
   ]
  },
  {
   "cell_type": "code",
   "execution_count": 18,
   "id": "60a35bf7-4b02-4ead-839f-bf3dc5b9158b",
   "metadata": {},
   "outputs": [
    {
     "name": "stdout",
     "output_type": "stream",
     "text": [
      "dict_items([('a', 10), ('c', 3)])\n"
     ]
    }
   ],
   "source": [
    "print(d.items())"
   ]
  },
  {
   "cell_type": "code",
   "execution_count": 19,
   "id": "95f3bd75-adc7-4671-b13d-dddc2c91651b",
   "metadata": {},
   "outputs": [
    {
     "name": "stdout",
     "output_type": "stream",
     "text": [
      "a\n",
      "c\n"
     ]
    }
   ],
   "source": [
    "for key in d:\n",
    "    print(key)"
   ]
  },
  {
   "cell_type": "code",
   "execution_count": 20,
   "id": "c6c2e042-5ae0-44c8-b49f-501fdc50b086",
   "metadata": {},
   "outputs": [
    {
     "name": "stdout",
     "output_type": "stream",
     "text": [
      "10\n",
      "3\n"
     ]
    }
   ],
   "source": [
    "for val in d.values():\n",
    "    print(val)"
   ]
  },
  {
   "cell_type": "code",
   "execution_count": 21,
   "id": "3408d69d-f052-472b-acfb-b0e9944f582a",
   "metadata": {},
   "outputs": [
    {
     "name": "stdout",
     "output_type": "stream",
     "text": [
      "a 10\n",
      "c 3\n"
     ]
    }
   ],
   "source": [
    "for k, v in d.items():\n",
    "    print(k, v)"
   ]
  },
  {
   "cell_type": "code",
   "execution_count": 66,
   "id": "966d4cfd-1558-47e7-af66-68b900c78d16",
   "metadata": {},
   "outputs": [],
   "source": [
    "d.clear()\n"
   ]
  },
  {
   "cell_type": "code",
   "execution_count": 67,
   "id": "b795f731-9774-4e55-9c43-0cc74c6a4e94",
   "metadata": {},
   "outputs": [
    {
     "name": "stdout",
     "output_type": "stream",
     "text": [
      "{}\n"
     ]
    }
   ],
   "source": [
    "print(d)"
   ]
  },
  {
   "cell_type": "code",
   "execution_count": 64,
   "id": "eb661d0d-d8d7-43b2-9c23-eeb820aa54cb",
   "metadata": {},
   "outputs": [],
   "source": [
    "d = dict(a=1, b=2)\n",
    "\n"
   ]
  },
  {
   "cell_type": "code",
   "execution_count": 65,
   "id": "7a263f39-9d71-4453-a3a7-62a668e1066f",
   "metadata": {},
   "outputs": [
    {
     "name": "stdout",
     "output_type": "stream",
     "text": [
      "{'a': 1, 'b': 2}\n"
     ]
    }
   ],
   "source": [
    "print(d)"
   ]
  },
  {
   "cell_type": "code",
   "execution_count": 60,
   "id": "178aba4c-eb44-4001-b8f7-79f7c4a78527",
   "metadata": {},
   "outputs": [],
   "source": [
    "d2 = dict([(\"x\", 9), (\"y\", 8)])\n"
   ]
  },
  {
   "cell_type": "code",
   "execution_count": 61,
   "id": "ca6c0322-3e26-46ca-b7e7-9076ec65ea11",
   "metadata": {},
   "outputs": [
    {
     "name": "stdout",
     "output_type": "stream",
     "text": [
      "{'x': 9, 'y': 8}\n"
     ]
    }
   ],
   "source": [
    "print(d2)"
   ]
  },
  {
   "cell_type": "code",
   "execution_count": 62,
   "id": "0ff70299-1c26-496d-937f-b5a71ca3bdc3",
   "metadata": {},
   "outputs": [],
   "source": [
    "d3 = {\"one\": 1, \"two\": 2}\n"
   ]
  },
  {
   "cell_type": "code",
   "execution_count": 63,
   "id": "22f92307-b120-4588-8ebf-b021909fa7f6",
   "metadata": {},
   "outputs": [
    {
     "name": "stdout",
     "output_type": "stream",
     "text": [
      "1\n"
     ]
    }
   ],
   "source": [
    "print(d3.pop(\"one\"))"
   ]
  },
  {
   "cell_type": "code",
   "execution_count": 26,
   "id": "df1e2fd5-8684-4bd0-a4c1-2b03d48fcf46",
   "metadata": {},
   "outputs": [
    {
     "name": "stdout",
     "output_type": "stream",
     "text": [
      "{'two': 2}\n"
     ]
    }
   ],
   "source": [
    "print(d3)"
   ]
  },
  {
   "cell_type": "code",
   "execution_count": 58,
   "id": "25f65ea6-fa04-4bb4-bed4-df28c0b6fa21",
   "metadata": {},
   "outputs": [],
   "source": [
    "d3[\"three\"] = 3\n"
   ]
  },
  {
   "cell_type": "code",
   "execution_count": 59,
   "id": "9f6a7bb7-a9e8-4c02-80f0-b4d1a9d8332f",
   "metadata": {},
   "outputs": [
    {
     "name": "stdout",
     "output_type": "stream",
     "text": [
      "('three', 3)\n"
     ]
    }
   ],
   "source": [
    "print(d3.popitem())"
   ]
  },
  {
   "cell_type": "code",
   "execution_count": 28,
   "id": "e84c0e4c-2284-41d7-8bd2-666c16e721d2",
   "metadata": {},
   "outputs": [],
   "source": [
    "d4 = {\"a\": 1}"
   ]
  },
  {
   "cell_type": "code",
   "execution_count": 29,
   "id": "415f623f-fcf1-441e-bc77-ea4679abcc8a",
   "metadata": {},
   "outputs": [],
   "source": [
    "d4.update({\"b\": 2})"
   ]
  },
  {
   "cell_type": "code",
   "execution_count": 30,
   "id": "a4ab7082-7e6c-4c1c-83cb-7718b8b47fca",
   "metadata": {},
   "outputs": [
    {
     "name": "stdout",
     "output_type": "stream",
     "text": [
      "{'a': 1, 'b': 2}\n"
     ]
    }
   ],
   "source": [
    "print(d4)"
   ]
  },
  {
   "cell_type": "code",
   "execution_count": 31,
   "id": "f9f8f35b-8d14-4b2e-81e1-f0cc7bb2e91e",
   "metadata": {},
   "outputs": [],
   "source": [
    "d4.update(c=3)"
   ]
  },
  {
   "cell_type": "code",
   "execution_count": 32,
   "id": "a26b5593-0c1a-430a-9abc-2e388e41bbb3",
   "metadata": {},
   "outputs": [
    {
     "name": "stdout",
     "output_type": "stream",
     "text": [
      "{'a': 1, 'b': 2, 'c': 3}\n"
     ]
    }
   ],
   "source": [
    "print(d4)\n"
   ]
  },
  {
   "cell_type": "code",
   "execution_count": 33,
   "id": "ff3f6bc6-5554-4861-8228-7f37f2f86138",
   "metadata": {},
   "outputs": [],
   "source": [
    "d4.update([(\"d\", 4)])"
   ]
  },
  {
   "cell_type": "code",
   "execution_count": 34,
   "id": "5c69baa9-bfa6-4225-8a47-fac3a1e6040b",
   "metadata": {},
   "outputs": [
    {
     "name": "stdout",
     "output_type": "stream",
     "text": [
      "{'a': 1, 'b': 2, 'c': 3, 'd': 4}\n"
     ]
    }
   ],
   "source": [
    "print(d4)"
   ]
  },
  {
   "cell_type": "code",
   "execution_count": 35,
   "id": "e9b85075-0e2e-40a8-84ef-ef59294bc09b",
   "metadata": {},
   "outputs": [],
   "source": [
    "d5 = d4.copy()"
   ]
  },
  {
   "cell_type": "code",
   "execution_count": 36,
   "id": "24fb709c-ec90-4d36-9de7-1c136eee72b5",
   "metadata": {},
   "outputs": [
    {
     "name": "stdout",
     "output_type": "stream",
     "text": [
      "{'a': 1, 'b': 2, 'c': 3, 'd': 4}\n"
     ]
    }
   ],
   "source": [
    "print(d5)"
   ]
  },
  {
   "cell_type": "code",
   "execution_count": 37,
   "id": "6be57803-6eca-4a22-9cde-7b4040b17441",
   "metadata": {},
   "outputs": [
    {
     "name": "stdout",
     "output_type": "stream",
     "text": [
      "False\n"
     ]
    }
   ],
   "source": [
    "print(d5 is d4)"
   ]
  },
  {
   "cell_type": "code",
   "execution_count": 38,
   "id": "aca4df16-ac18-4a90-bc6d-6b7944d418d2",
   "metadata": {},
   "outputs": [],
   "source": [
    "d5[\"a\"] = 100"
   ]
  },
  {
   "cell_type": "code",
   "execution_count": 39,
   "id": "24faa019-2cd3-4ab4-91c8-baeceb42f4c7",
   "metadata": {},
   "outputs": [
    {
     "name": "stdout",
     "output_type": "stream",
     "text": [
      "1\n"
     ]
    }
   ],
   "source": [
    "print(d4[\"a\"]) "
   ]
  },
  {
   "cell_type": "code",
   "execution_count": 40,
   "id": "d5d8de43-e654-4f77-a271-99e71fe7b607",
   "metadata": {},
   "outputs": [],
   "source": [
    "defaults = {\"x\": 0, \"y\": 0}"
   ]
  },
  {
   "cell_type": "code",
   "execution_count": 41,
   "id": "3bb064ba-e348-4170-8df4-ac10a5b88ef5",
   "metadata": {},
   "outputs": [
    {
     "name": "stdout",
     "output_type": "stream",
     "text": [
      "0\n"
     ]
    }
   ],
   "source": [
    "print(defaults.setdefault(\"x\", 5)) "
   ]
  },
  {
   "cell_type": "code",
   "execution_count": 42,
   "id": "a243f82e-1e6f-4d91-aa21-b290f3eb4000",
   "metadata": {},
   "outputs": [
    {
     "name": "stdout",
     "output_type": "stream",
     "text": [
      "9\n"
     ]
    }
   ],
   "source": [
    "print(defaults.setdefault(\"z\", 9))"
   ]
  },
  {
   "cell_type": "code",
   "execution_count": 43,
   "id": "c690de79-190e-417c-acdc-6f3ca2bf8b69",
   "metadata": {},
   "outputs": [
    {
     "name": "stdout",
     "output_type": "stream",
     "text": [
      "{'x': 0, 'y': 0, 'z': 9}\n"
     ]
    }
   ],
   "source": [
    "print(defaults)"
   ]
  },
  {
   "cell_type": "code",
   "execution_count": 44,
   "id": "f5dc4681-bd8c-4567-ab39-69852811f8ec",
   "metadata": {},
   "outputs": [
    {
     "name": "stdout",
     "output_type": "stream",
     "text": [
      "{0: 0, 1: 1, 2: 4}\n"
     ]
    }
   ],
   "source": [
    "print({x: x**2 for x in range(3)})"
   ]
  },
  {
   "cell_type": "code",
   "execution_count": 53,
   "id": "ff2daa6c-27c7-44e1-81f5-a570fc0a7f72",
   "metadata": {},
   "outputs": [],
   "source": [
    "names = [\"a\", \"b\"]\n",
    "\n"
   ]
  },
  {
   "cell_type": "code",
   "execution_count": 54,
   "id": "0661dc76-95a3-4407-afb6-26654568c4a7",
   "metadata": {},
   "outputs": [],
   "source": [
    "scores = [10, 20]"
   ]
  },
  {
   "cell_type": "code",
   "execution_count": 55,
   "id": "b3f48979-4deb-46b8-b8b4-d0fd1160a137",
   "metadata": {},
   "outputs": [
    {
     "name": "stdout",
     "output_type": "stream",
     "text": [
      "{'a': 10, 'b': 20}\n"
     ]
    }
   ],
   "source": [
    "print(dict(zip(names, scores)))"
   ]
  },
  {
   "cell_type": "code",
   "execution_count": 46,
   "id": "a8a0ddd7-11f7-4804-849d-1a4e9168103a",
   "metadata": {},
   "outputs": [
    {
     "name": "stdout",
     "output_type": "stream",
     "text": [
      "{'a': 0, 'b': 0, 'c': 0}\n"
     ]
    }
   ],
   "source": [
    "print(dict.fromkeys([\"a\", \"b\", \"c\"], 0))"
   ]
  },
  {
   "cell_type": "code",
   "execution_count": 47,
   "id": "3cafa08f-bfa6-4ec3-b308-2ebc1914532a",
   "metadata": {},
   "outputs": [
    {
     "name": "stdout",
     "output_type": "stream",
     "text": [
      "a\n",
      "b\n",
      "c\n"
     ]
    }
   ],
   "source": [
    "for i in dict.fromkeys(\"abc\"):\n",
    "    print(i)"
   ]
  },
  {
   "cell_type": "code",
   "execution_count": 56,
   "id": "1421dba6-004f-43fa-a0b3-490f363f7409",
   "metadata": {},
   "outputs": [],
   "source": [
    "d = {\"a\": 1}\n",
    "\n"
   ]
  },
  {
   "cell_type": "code",
   "execution_count": 57,
   "id": "9d73d3f2-312a-45f1-ba06-918b40cd386b",
   "metadata": {},
   "outputs": [
    {
     "name": "stdout",
     "output_type": "stream",
     "text": [
      "True\n"
     ]
    }
   ],
   "source": [
    "print(\"a\" in d)"
   ]
  },
  {
   "cell_type": "code",
   "execution_count": 49,
   "id": "5072ba9c-4716-4fd5-865b-f981eec74866",
   "metadata": {},
   "outputs": [
    {
     "name": "stdout",
     "output_type": "stream",
     "text": [
      "True\n"
     ]
    }
   ],
   "source": [
    "print(\"z\" not in d)"
   ]
  },
  {
   "cell_type": "code",
   "execution_count": 50,
   "id": "3f3855b5-a412-4ceb-9119-dd862a1caa44",
   "metadata": {},
   "outputs": [],
   "source": [
    "d = {\"x\": 1}"
   ]
  },
  {
   "cell_type": "code",
   "execution_count": 51,
   "id": "c351adc4-797a-478a-9222-148a31706e51",
   "metadata": {},
   "outputs": [],
   "source": [
    "d[\"x\"] += 1"
   ]
  },
  {
   "cell_type": "code",
   "execution_count": 52,
   "id": "555dbb44-ffce-4db4-bb36-65ba56aaf19b",
   "metadata": {},
   "outputs": [
    {
     "name": "stdout",
     "output_type": "stream",
     "text": [
      "{'x': 2}\n"
     ]
    }
   ],
   "source": [
    "print(d)"
   ]
  },
  {
   "cell_type": "code",
   "execution_count": 68,
   "id": "5233c3ab-0b32-4655-9d40-672ef47cef8f",
   "metadata": {},
   "outputs": [
    {
     "name": "stdout",
     "output_type": "stream",
     "text": [
      "<class 'dict'>\n"
     ]
    }
   ],
   "source": [
    "print(type(d))"
   ]
  },
  {
   "cell_type": "code",
   "execution_count": 69,
   "id": "126a7c33-3615-410a-9991-3c1264176439",
   "metadata": {},
   "outputs": [
    {
     "name": "stdout",
     "output_type": "stream",
     "text": [
      "[]\n"
     ]
    }
   ],
   "source": [
    "print(list(d))"
   ]
  },
  {
   "cell_type": "code",
   "execution_count": 70,
   "id": "2acd0c6a-ed05-4dfc-9d77-35106ab14382",
   "metadata": {},
   "outputs": [
    {
     "name": "stdout",
     "output_type": "stream",
     "text": [
      "[]\n"
     ]
    }
   ],
   "source": [
    "print(list(d.items()))"
   ]
  },
  {
   "cell_type": "code",
   "execution_count": 71,
   "id": "20d3a3e3-1900-498d-93db-512465294f09",
   "metadata": {},
   "outputs": [
    {
     "name": "stdout",
     "output_type": "stream",
     "text": [
      "[]\n"
     ]
    }
   ],
   "source": [
    "print(sorted(d)) "
   ]
  },
  {
   "cell_type": "code",
   "execution_count": 72,
   "id": "adaf86d6-784f-4041-9bdf-4d005cec01a7",
   "metadata": {},
   "outputs": [],
   "source": [
    "d = {\"a\": 1, \"b\": {\"c\": 2}}"
   ]
  },
  {
   "cell_type": "code",
   "execution_count": 73,
   "id": "a9cdcb61-81bf-4a3c-98c9-4b7b2c306407",
   "metadata": {},
   "outputs": [
    {
     "name": "stdout",
     "output_type": "stream",
     "text": [
      "2\n"
     ]
    }
   ],
   "source": [
    "print(d[\"b\"][\"c\"])"
   ]
  },
  {
   "cell_type": "code",
   "execution_count": 74,
   "id": "9f27a723-0cb0-40c5-9157-5124efafb9ab",
   "metadata": {},
   "outputs": [],
   "source": [
    "d = {\"a\": 1, \"b\": 2}"
   ]
  },
  {
   "cell_type": "code",
   "execution_count": 75,
   "id": "fa8c9427-186c-4528-bd8b-a54a66bfdb2d",
   "metadata": {},
   "outputs": [],
   "source": [
    "d2 = {\"b\": 3, \"c\": 4}"
   ]
  },
  {
   "cell_type": "code",
   "execution_count": 76,
   "id": "fb5244a9-4582-41a1-aa67-e3693bdf8767",
   "metadata": {},
   "outputs": [],
   "source": [
    "d.update(d2)"
   ]
  },
  {
   "cell_type": "code",
   "execution_count": 77,
   "id": "173cff81-0896-4bf3-8419-35a56dc54bfa",
   "metadata": {},
   "outputs": [
    {
     "name": "stdout",
     "output_type": "stream",
     "text": [
      "{'a': 1, 'b': 3, 'c': 4}\n"
     ]
    }
   ],
   "source": [
    "print(d)"
   ]
  },
  {
   "cell_type": "code",
   "execution_count": 78,
   "id": "ddcbf494-e2cb-4cd2-ba4e-db01d4617e1b",
   "metadata": {},
   "outputs": [
    {
     "name": "stdout",
     "output_type": "stream",
     "text": [
      "{'b': 3, 'c': 4}\n"
     ]
    }
   ],
   "source": [
    "print({k:v for k,v in d.items() if v > 2})"
   ]
  },
  {
   "cell_type": "code",
   "execution_count": 79,
   "id": "50bd4f8b-ddfd-4b5a-b8d9-1b36ca3501ee",
   "metadata": {},
   "outputs": [
    {
     "name": "stdout",
     "output_type": "stream",
     "text": [
      "{1: 'a', 3: 'b', 4: 'c'}\n"
     ]
    }
   ],
   "source": [
    "print({v:k for k,v in d.items()})"
   ]
  },
  {
   "cell_type": "code",
   "execution_count": 80,
   "id": "5b37d52c-f232-456b-a7c7-2f241063b10b",
   "metadata": {},
   "outputs": [],
   "source": [
    "nested = {\"outer\": {\"inner\": 1}}"
   ]
  },
  {
   "cell_type": "code",
   "execution_count": 81,
   "id": "c6a61ac3-8102-49cd-baae-2f7e3a377969",
   "metadata": {},
   "outputs": [
    {
     "name": "stdout",
     "output_type": "stream",
     "text": [
      "1\n"
     ]
    }
   ],
   "source": [
    "print(nested[\"outer\"][\"inner\"])"
   ]
  },
  {
   "cell_type": "code",
   "execution_count": 82,
   "id": "9bff252d-cfeb-4493-b7b2-2b0809ba08fd",
   "metadata": {},
   "outputs": [],
   "source": [
    "d = {}"
   ]
  },
  {
   "cell_type": "code",
   "execution_count": 83,
   "id": "d66f6353-42cb-4dbe-858e-5518b9012671",
   "metadata": {},
   "outputs": [],
   "source": [
    "d[\"new\"] = d.get(\"new\", 0) + 1"
   ]
  },
  {
   "cell_type": "code",
   "execution_count": 84,
   "id": "3faaf02c-dc1c-4518-8044-99fc9335f1a4",
   "metadata": {},
   "outputs": [
    {
     "name": "stdout",
     "output_type": "stream",
     "text": [
      "{'new': 1}\n"
     ]
    }
   ],
   "source": [
    "print(d)"
   ]
  },
  {
   "cell_type": "code",
   "execution_count": 85,
   "id": "6c91f7c7-06c7-44d4-ac79-bd82d94c1f73",
   "metadata": {},
   "outputs": [],
   "source": [
    "freq = {}\n"
   ]
  },
  {
   "cell_type": "code",
   "execution_count": 86,
   "id": "de1acb69-1a72-49e7-8c4b-7cb6ca8785a5",
   "metadata": {},
   "outputs": [
    {
     "name": "stdout",
     "output_type": "stream",
     "text": [
      "{'b': 1, 'a': 3, 'n': 2}\n"
     ]
    }
   ],
   "source": [
    "for ch in \"banana\":\n",
    "    freq[ch] = freq.get(ch, 0) + 1\n",
    "print(freq)"
   ]
  },
  {
   "cell_type": "code",
   "execution_count": 87,
   "id": "16046840-2b0f-4b38-9275-0f06a718f634",
   "metadata": {},
   "outputs": [],
   "source": [
    "data = [(\"a\", 1), (\"b\", 2)]"
   ]
  },
  {
   "cell_type": "code",
   "execution_count": 88,
   "id": "9fb6d14d-dd30-4be7-8fe3-b6c551075757",
   "metadata": {},
   "outputs": [],
   "source": [
    "d = dict(data)"
   ]
  },
  {
   "cell_type": "code",
   "execution_count": 89,
   "id": "c1d0b939-c317-482d-b569-e6ba2b706c33",
   "metadata": {},
   "outputs": [
    {
     "name": "stdout",
     "output_type": "stream",
     "text": [
      "{'a': 1, 'b': 2}\n"
     ]
    }
   ],
   "source": [
    "print(d)"
   ]
  },
  {
   "cell_type": "code",
   "execution_count": 90,
   "id": "bc2ffb04-0a12-478d-8029-85cee8a9967f",
   "metadata": {},
   "outputs": [
    {
     "name": "stdout",
     "output_type": "stream",
     "text": [
      "{'apple': 5, 'banana': 6}\n"
     ]
    }
   ],
   "source": [
    "print({k:len(k) for k in [\"apple\", \"banana\"]})"
   ]
  },
  {
   "cell_type": "code",
   "execution_count": 91,
   "id": "81882722-f2c4-4b6f-ac74-35044e4d169a",
   "metadata": {},
   "outputs": [
    {
     "name": "stdout",
     "output_type": "stream",
     "text": [
      "{65: 'A', 66: 'B', 67: 'C', 68: 'D', 69: 'E'}\n"
     ]
    }
   ],
   "source": [
    "print({i:chr(i) for i in range(65, 70)})"
   ]
  },
  {
   "cell_type": "code",
   "execution_count": 92,
   "id": "5b1bd8b4-f08d-4628-b302-9407a277c66b",
   "metadata": {},
   "outputs": [
    {
     "name": "stdout",
     "output_type": "stream",
     "text": [
      "{'A': 65, 'B': 66, 'C': 67, 'D': 68, 'E': 69}\n"
     ]
    }
   ],
   "source": [
    "print({chr(i):i for i in range(65, 70)})"
   ]
  },
  {
   "cell_type": "code",
   "execution_count": 93,
   "id": "fc4fe1f3-c3e6-4d4b-a585-93840e8487f4",
   "metadata": {},
   "outputs": [],
   "source": [
    "pairs = [\"a=1\", \"b=2\"]\n"
   ]
  },
  {
   "cell_type": "code",
   "execution_count": 94,
   "id": "425493e3-ff49-42a6-ace4-9500927cdafe",
   "metadata": {},
   "outputs": [
    {
     "name": "stdout",
     "output_type": "stream",
     "text": [
      "{'a': 1, 'b': 2}\n"
     ]
    }
   ],
   "source": [
    "print({p.split(\"=\")[0]: int(p.split(\"=\")[1]) for p in pairs})"
   ]
  },
  {
   "cell_type": "code",
   "execution_count": 95,
   "id": "d9f7f153-8b12-4310-94d3-574d0bef80f2",
   "metadata": {},
   "outputs": [
    {
     "name": "stdout",
     "output_type": "stream",
     "text": [
      "True\n"
     ]
    }
   ],
   "source": [
    "print(all(k in d for k in [\"a\", \"b\"]))\n"
   ]
  },
  {
   "cell_type": "code",
   "execution_count": 96,
   "id": "05fca0bf-93cf-4554-8e5a-69442484bbc3",
   "metadata": {},
   "outputs": [
    {
     "name": "stdout",
     "output_type": "stream",
     "text": [
      "True\n"
     ]
    }
   ],
   "source": [
    "print(any(v == 2 for v in d.values()))\n"
   ]
  },
  {
   "cell_type": "code",
   "execution_count": 97,
   "id": "bf0ec0e3-5d33-4d16-ab18-19730d87b6b5",
   "metadata": {},
   "outputs": [
    {
     "name": "stdout",
     "output_type": "stream",
     "text": [
      "3\n"
     ]
    }
   ],
   "source": [
    "print(sum(d.values()))"
   ]
  },
  {
   "cell_type": "code",
   "execution_count": 98,
   "id": "89438ad1-1c71-4310-a869-d0cd213b3800",
   "metadata": {},
   "outputs": [
    {
     "name": "stdout",
     "output_type": "stream",
     "text": [
      "1\n"
     ]
    }
   ],
   "source": [
    "print(min(d.values()))"
   ]
  },
  {
   "cell_type": "code",
   "execution_count": 99,
   "id": "58200cfe-45da-4da4-ba9e-8d630da35298",
   "metadata": {},
   "outputs": [
    {
     "name": "stdout",
     "output_type": "stream",
     "text": [
      "2\n"
     ]
    }
   ],
   "source": [
    "print(max(d.values()))"
   ]
  },
  {
   "cell_type": "code",
   "execution_count": 100,
   "id": "c3c119b3-58c2-445d-a8da-f7ce8591a716",
   "metadata": {},
   "outputs": [
    {
     "name": "stdout",
     "output_type": "stream",
     "text": [
      "True\n"
     ]
    }
   ],
   "source": [
    "print(len(d.keys()) == len(set(d.keys())))\n"
   ]
  },
  {
   "cell_type": "code",
   "execution_count": 101,
   "id": "c982ca7a-b803-4943-9cb9-b28b1d629125",
   "metadata": {},
   "outputs": [],
   "source": [
    "data = {\"a\": 10, \"b\": 20}"
   ]
  },
  {
   "cell_type": "code",
   "execution_count": 102,
   "id": "649d238e-df37-40fd-9ca9-8ad7cea0d0e9",
   "metadata": {},
   "outputs": [
    {
     "name": "stdout",
     "output_type": "stream",
     "text": [
      "{'a': 20, 'b': 40}\n"
     ]
    }
   ],
   "source": [
    "print({k: v*2 for k, v in data.items()})"
   ]
  },
  {
   "cell_type": "code",
   "execution_count": 103,
   "id": "ce4e7f37-616f-454c-8451-cee2321a3b5b",
   "metadata": {},
   "outputs": [],
   "source": [
    "d = {\"x\": 10}"
   ]
  },
  {
   "cell_type": "code",
   "execution_count": 104,
   "id": "5fdde8c2-d336-40a9-ba1c-d6fa8863b7e1",
   "metadata": {},
   "outputs": [
    {
     "name": "stdout",
     "output_type": "stream",
     "text": [
      "not found\n"
     ]
    }
   ],
   "source": [
    "print(d.get(\"y\", \"not found\"))"
   ]
  },
  {
   "cell_type": "code",
   "execution_count": 105,
   "id": "75838f3a-80c9-40f5-9375-99526e7fa1da",
   "metadata": {},
   "outputs": [],
   "source": [
    "d = dict()"
   ]
  },
  {
   "cell_type": "code",
   "execution_count": 106,
   "id": "dfb5dbed-bd40-491a-be18-f00533e14fcf",
   "metadata": {},
   "outputs": [
    {
     "name": "stdout",
     "output_type": "stream",
     "text": [
      "False\n"
     ]
    }
   ],
   "source": [
    "print(bool(d)) "
   ]
  },
  {
   "cell_type": "code",
   "execution_count": 107,
   "id": "39c1f35b-1530-4c4b-ab0b-6c02dbf8afe8",
   "metadata": {},
   "outputs": [
    {
     "name": "stdout",
     "output_type": "stream",
     "text": [
      "True\n"
     ]
    }
   ],
   "source": [
    "print(dict(a=1, b=2) == {\"a\": 1, \"b\": 2})"
   ]
  },
  {
   "cell_type": "code",
   "execution_count": 108,
   "id": "7463acc7-2741-495d-a245-dc7f52a56e2e",
   "metadata": {},
   "outputs": [],
   "source": [
    "x = {\"a\": 1, \"b\": 2}"
   ]
  },
  {
   "cell_type": "code",
   "execution_count": 109,
   "id": "de99d0ff-7b25-4b5f-8ea2-be1d95b1f012",
   "metadata": {},
   "outputs": [],
   "source": [
    "y = {\"b\": 3, \"c\": 4}"
   ]
  },
  {
   "cell_type": "code",
   "execution_count": 110,
   "id": "ef2c01c6-f3f8-45ff-a7d0-4140630222d9",
   "metadata": {},
   "outputs": [],
   "source": [
    "z = {**x, **y}"
   ]
  },
  {
   "cell_type": "code",
   "execution_count": 111,
   "id": "526ab8e9-6baa-4cef-bb23-884f1450204b",
   "metadata": {},
   "outputs": [
    {
     "name": "stdout",
     "output_type": "stream",
     "text": [
      "{'a': 1, 'b': 3, 'c': 4}\n"
     ]
    }
   ],
   "source": [
    "print(z) "
   ]
  },
  {
   "cell_type": "code",
   "execution_count": 112,
   "id": "8dccb698-5c28-4df2-b074-6ec57bc8823e",
   "metadata": {},
   "outputs": [],
   "source": [
    "d = {\"a\": 1, \"b\": 2}"
   ]
  },
  {
   "cell_type": "code",
   "execution_count": 113,
   "id": "e4b39c73-cd0c-4dc8-b22e-6846fb5a73bf",
   "metadata": {},
   "outputs": [
    {
     "name": "stdout",
     "output_type": "stream",
     "text": [
      "-8457517723523400311\n"
     ]
    }
   ],
   "source": [
    "print(hash(frozenset(d.items())))"
   ]
  },
  {
   "cell_type": "code",
   "execution_count": 114,
   "id": "8439cb84-07a4-4100-a06a-248d01e1dd1d",
   "metadata": {},
   "outputs": [
    {
     "name": "stdout",
     "output_type": "stream",
     "text": [
      "['a', 'b']\n"
     ]
    }
   ],
   "source": [
    "print(list(d))"
   ]
  },
  {
   "cell_type": "code",
   "execution_count": 115,
   "id": "1eeec6f7-0b02-40bc-898d-ead0f2ae2296",
   "metadata": {},
   "outputs": [
    {
     "name": "stdout",
     "output_type": "stream",
     "text": [
      "[1, 2]\n"
     ]
    }
   ],
   "source": [
    "print(list(d.values()))\n"
   ]
  },
  {
   "cell_type": "code",
   "execution_count": 116,
   "id": "f941f9c7-af6c-4d02-848c-c43e2a66d115",
   "metadata": {},
   "outputs": [
    {
     "name": "stdout",
     "output_type": "stream",
     "text": [
      "{'a': 1}\n"
     ]
    }
   ],
   "source": [
    "print({k: v for k, v in d.items() if k != \"b\"})"
   ]
  },
  {
   "cell_type": "code",
   "execution_count": 117,
   "id": "bba4f98d-d62f-41b9-8c8a-3338b588faba",
   "metadata": {},
   "outputs": [
    {
     "name": "stdout",
     "output_type": "stream",
     "text": [
      "defaultdict(<class 'int'>, {'a': 1})\n"
     ]
    }
   ],
   "source": [
    "from collections import defaultdict\n",
    "dd = defaultdict(int)\n",
    "dd[\"a\"] += 1\n",
    "print(dd)"
   ]
  },
  {
   "cell_type": "code",
   "execution_count": 118,
   "id": "5d24d134-b93a-420d-aab7-7853c9a6b3e8",
   "metadata": {},
   "outputs": [
    {
     "name": "stdout",
     "output_type": "stream",
     "text": [
      "defaultdict(<class 'list'>, {'x': [10]})\n"
     ]
    }
   ],
   "source": [
    "dd = defaultdict(list)\n",
    "dd[\"x\"].append(10)\n",
    "print(dd)\n"
   ]
  },
  {
   "cell_type": "code",
   "execution_count": 119,
   "id": "b9fb4e4b-e2a2-424a-bcc9-5a77dc4a18b3",
   "metadata": {},
   "outputs": [
    {
     "name": "stdout",
     "output_type": "stream",
     "text": [
      "OrderedDict({'a': 1, 'b': 2})\n"
     ]
    }
   ],
   "source": [
    "from collections import OrderedDict\n",
    "od = OrderedDict()\n",
    "od[\"a\"] = 1\n",
    "od[\"b\"] = 2\n",
    "print(od)"
   ]
  },
  {
   "cell_type": "code",
   "execution_count": 120,
   "id": "1a75b8c2-c23a-4b8d-9939-c3824c034613",
   "metadata": {},
   "outputs": [
    {
     "name": "stdout",
     "output_type": "stream",
     "text": [
      "OrderedDict({'b': 2, 'a': 1})\n"
     ]
    }
   ],
   "source": [
    "od.move_to_end(\"a\")\n",
    "print(od)\n"
   ]
  },
  {
   "cell_type": "code",
   "execution_count": 121,
   "id": "4d0b2a52-314c-4b29-b9d2-a706d59832d1",
   "metadata": {},
   "outputs": [
    {
     "name": "stdout",
     "output_type": "stream",
     "text": [
      "Counter({'i': 4, 's': 4, 'p': 2, 'm': 1})\n"
     ]
    }
   ],
   "source": [
    "from collections import Counter\n",
    "c = Counter(\"mississippi\")\n",
    "print(c)"
   ]
  },
  {
   "cell_type": "code",
   "execution_count": 122,
   "id": "d51afb0c-c2cd-4073-bb09-3d208f6d0db3",
   "metadata": {},
   "outputs": [
    {
     "name": "stdout",
     "output_type": "stream",
     "text": [
      "[('i', 4), ('s', 4)]\n"
     ]
    }
   ],
   "source": [
    "print(c.most_common(2))"
   ]
  },
  {
   "cell_type": "code",
   "execution_count": 123,
   "id": "8fcb8608-4625-4cf7-92ae-decefb32e966",
   "metadata": {},
   "outputs": [
    {
     "name": "stdout",
     "output_type": "stream",
     "text": [
      "Counter({'i': 5, 's': 4, 'p': 2, 'm': 1})\n"
     ]
    }
   ],
   "source": [
    "c.update(\"i\")\n",
    "print(c)\n"
   ]
  },
  {
   "cell_type": "code",
   "execution_count": 124,
   "id": "f085727d-a692-4496-9579-0e8128a8dce1",
   "metadata": {},
   "outputs": [
    {
     "name": "stdout",
     "output_type": "stream",
     "text": [
      "Counter({'i': 6, 's': 4, 'p': 2, 'm': 1})\n"
     ]
    }
   ],
   "source": [
    "c.update(\"i\")\n",
    "print(c)\n"
   ]
  },
  {
   "cell_type": "code",
   "execution_count": 125,
   "id": "5769bee9-0fa3-4c56-8ce3-4bd91292e19c",
   "metadata": {},
   "outputs": [
    {
     "name": "stdout",
     "output_type": "stream",
     "text": [
      "4\n"
     ]
    }
   ],
   "source": [
    "print(c[\"s\"])"
   ]
  },
  {
   "cell_type": "code",
   "execution_count": 126,
   "id": "6eec9b3e-8e06-4d91-9f59-351560959fd4",
   "metadata": {},
   "outputs": [
    {
     "name": "stdout",
     "output_type": "stream",
     "text": [
      "dict_items([('m', 1), ('i', 6), ('s', 4), ('p', 2)])\n"
     ]
    }
   ],
   "source": [
    "print(c.items())"
   ]
  },
  {
   "cell_type": "code",
   "execution_count": 127,
   "id": "3628e511-d88b-41e3-86b2-13a252888bc5",
   "metadata": {},
   "outputs": [],
   "source": [
    "c2 = Counter(\"miss\")"
   ]
  },
  {
   "cell_type": "code",
   "execution_count": 128,
   "id": "2c4a8ae8-4643-4491-9367-63b360c2b4b7",
   "metadata": {},
   "outputs": [
    {
     "name": "stdout",
     "output_type": "stream",
     "text": [
      "Counter({'i': 7, 's': 6, 'm': 2, 'p': 2})\n"
     ]
    }
   ],
   "source": [
    "print(c + c2)"
   ]
  },
  {
   "cell_type": "code",
   "execution_count": 129,
   "id": "3b90f1a3-4551-4206-94b8-702c9fd98363",
   "metadata": {},
   "outputs": [
    {
     "name": "stdout",
     "output_type": "stream",
     "text": [
      "Counter({'i': 5, 's': 2, 'p': 2})\n"
     ]
    }
   ],
   "source": [
    "print(c - c2)"
   ]
  },
  {
   "cell_type": "code",
   "execution_count": 130,
   "id": "54dfb620-f765-4ff6-8549-3561fd69075e",
   "metadata": {},
   "outputs": [
    {
     "name": "stdout",
     "output_type": "stream",
     "text": [
      "Counter({'s': 2, 'm': 1, 'i': 1})\n"
     ]
    }
   ],
   "source": [
    "print(c & c2)"
   ]
  },
  {
   "cell_type": "code",
   "execution_count": 131,
   "id": "f16eddaf-0c57-4761-ad73-49dfe515eb1c",
   "metadata": {},
   "outputs": [
    {
     "name": "stdout",
     "output_type": "stream",
     "text": [
      "Counter({'i': 6, 's': 4, 'p': 2, 'm': 1})\n"
     ]
    }
   ],
   "source": [
    "print(c | c2)"
   ]
  },
  {
   "cell_type": "code",
   "execution_count": 132,
   "id": "5a1db77d-ebb9-4ace-b697-f7797e89f5c4",
   "metadata": {},
   "outputs": [
    {
     "name": "stdout",
     "output_type": "stream",
     "text": [
      "{'i': 6, 's': 4, 'p': 2, 'm': 1}\n"
     ]
    }
   ],
   "source": [
    "print(dict(sorted(c.items(), key=lambda x: -x[1])))"
   ]
  },
  {
   "cell_type": "code",
   "execution_count": 133,
   "id": "4bddab4a-1b69-491b-a522-bb2b00d621fd",
   "metadata": {},
   "outputs": [],
   "source": [
    "d = {\"x\": [1, 2], \"y\": [3]}"
   ]
  },
  {
   "cell_type": "code",
   "execution_count": 134,
   "id": "afb8c994-f9cd-4d76-af4a-7eb4f4eca23a",
   "metadata": {},
   "outputs": [
    {
     "name": "stdout",
     "output_type": "stream",
     "text": [
      "2\n"
     ]
    }
   ],
   "source": [
    "print(d[\"x\"][1])"
   ]
  },
  {
   "cell_type": "code",
   "execution_count": 135,
   "id": "b84ede88-79b5-4dc7-b82f-a7a66ca895bf",
   "metadata": {},
   "outputs": [],
   "source": [
    "d[\"z\"] = []"
   ]
  },
  {
   "cell_type": "code",
   "execution_count": 136,
   "id": "35ec27f5-b1d2-4e96-b8ff-c0fe31ba9b1a",
   "metadata": {},
   "outputs": [],
   "source": [
    "d[\"z\"].append(99)"
   ]
  },
  {
   "cell_type": "code",
   "execution_count": 137,
   "id": "143e9c9e-6afe-4a06-878a-e1da440a7278",
   "metadata": {},
   "outputs": [
    {
     "name": "stdout",
     "output_type": "stream",
     "text": [
      "{'x': [1, 2], 'y': [3], 'z': [99]}\n"
     ]
    }
   ],
   "source": [
    "print(d)"
   ]
  },
  {
   "cell_type": "code",
   "execution_count": 138,
   "id": "c1d3497c-6070-40d5-aa58-1c5f0f7c5391",
   "metadata": {},
   "outputs": [],
   "source": [
    "d.setdefault(\"k\", []).append(1)"
   ]
  },
  {
   "cell_type": "code",
   "execution_count": 139,
   "id": "88b0eae9-97fa-4092-8144-b3d1fa467c96",
   "metadata": {},
   "outputs": [
    {
     "name": "stdout",
     "output_type": "stream",
     "text": [
      "{'x': [1, 2], 'y': [3], 'z': [99], 'k': [1]}\n"
     ]
    }
   ],
   "source": [
    "print(d)"
   ]
  },
  {
   "cell_type": "code",
   "execution_count": 140,
   "id": "0aed7681-12f5-482b-b9c3-3ba97558a3ae",
   "metadata": {},
   "outputs": [
    {
     "name": "stdout",
     "output_type": "stream",
     "text": [
      "True\n"
     ]
    }
   ],
   "source": [
    "print(isinstance(d, dict))"
   ]
  },
  {
   "cell_type": "code",
   "execution_count": 141,
   "id": "6a20e528-e337-460a-85fb-f3477468db3d",
   "metadata": {},
   "outputs": [],
   "source": [
    "nested = {\"x\": {\"y\": {\"z\": 1}}}"
   ]
  },
  {
   "cell_type": "code",
   "execution_count": 142,
   "id": "1eece7ae-9776-4a30-bd70-66d8831e892d",
   "metadata": {},
   "outputs": [
    {
     "name": "stdout",
     "output_type": "stream",
     "text": [
      "1\n"
     ]
    }
   ],
   "source": [
    "print(nested[\"x\"][\"y\"][\"z\"])"
   ]
  },
  {
   "cell_type": "code",
   "execution_count": 143,
   "id": "26bafd39-a49b-4a5e-86ac-355739d7a52b",
   "metadata": {},
   "outputs": [],
   "source": [
    "flat = {f\"{k1}_{k2}\": v for k1, inner in nested.items() for k2, v in inner[\"y\"].items()}"
   ]
  },
  {
   "cell_type": "code",
   "execution_count": 144,
   "id": "bf8226dd-e618-4b46-9bed-c086d6392cfc",
   "metadata": {},
   "outputs": [
    {
     "name": "stdout",
     "output_type": "stream",
     "text": [
      "{'x_z': 1}\n"
     ]
    }
   ],
   "source": [
    "print(flat)"
   ]
  },
  {
   "cell_type": "code",
   "execution_count": 145,
   "id": "b6c62e64-210d-47d9-b021-5df4e95fdd99",
   "metadata": {},
   "outputs": [
    {
     "name": "stdout",
     "output_type": "stream",
     "text": [
      "{0: True, 1: False, 2: True, 3: False, 4: True}\n"
     ]
    }
   ],
   "source": [
    "print({x: x % 2 == 0 for x in range(5)})"
   ]
  },
  {
   "cell_type": "code",
   "execution_count": 146,
   "id": "ac78b88d-219e-4414-a7fd-00270f308c63",
   "metadata": {},
   "outputs": [],
   "source": [
    "d = {\"a\": None}"
   ]
  },
  {
   "cell_type": "code",
   "execution_count": 147,
   "id": "ca086184-ff41-4bd9-81b4-e1e96ab4aec2",
   "metadata": {},
   "outputs": [
    {
     "name": "stdout",
     "output_type": "stream",
     "text": [
      "True\n"
     ]
    }
   ],
   "source": [
    "print(d.get(\"a\") is None)"
   ]
  },
  {
   "cell_type": "code",
   "execution_count": 148,
   "id": "112882ce-1136-4d51-a8eb-40fcce6ab273",
   "metadata": {},
   "outputs": [
    {
     "name": "stdout",
     "output_type": "stream",
     "text": [
      "{1: 1.0, 2: 1.4142135623730951, 3: 1.7320508075688772, 4: 2.0, 5: 2.23606797749979}\n"
     ]
    }
   ],
   "source": [
    "print({i: i**0.5 for i in range(1, 6)})"
   ]
  },
  {
   "cell_type": "code",
   "execution_count": 149,
   "id": "40c344ac-dc23-4649-a192-8fcde1056eb0",
   "metadata": {},
   "outputs": [
    {
     "name": "stdout",
     "output_type": "stream",
     "text": [
      "{'a': 0, 'b': 1, 'c': 2}\n"
     ]
    }
   ],
   "source": [
    "print({k: v for k, v in zip(\"abc\", range(3))})"
   ]
  },
  {
   "cell_type": "code",
   "execution_count": 150,
   "id": "9bddb55a-e2d8-4859-bd03-7714e9061242",
   "metadata": {},
   "outputs": [],
   "source": [
    "data = [\"a\", \"b\", \"c\"]"
   ]
  },
  {
   "cell_type": "code",
   "execution_count": 151,
   "id": "d6371426-0573-40a5-be2b-4c9d96ec1a73",
   "metadata": {},
   "outputs": [
    {
     "name": "stdout",
     "output_type": "stream",
     "text": [
      "{'a': 0, 'b': 0, 'c': 0}\n"
     ]
    }
   ],
   "source": [
    "print(dict.fromkeys(data, 0))"
   ]
  },
  {
   "cell_type": "code",
   "execution_count": 152,
   "id": "e36e800b-9064-49a1-9092-6f7fe3cdc72c",
   "metadata": {},
   "outputs": [
    {
     "name": "stdout",
     "output_type": "stream",
     "text": [
      "{0: False, 1: True, 2: False, 3: True, 4: False, 5: True}\n"
     ]
    }
   ],
   "source": [
    "print({x: bool(x % 2) for x in range(6)})"
   ]
  },
  {
   "cell_type": "code",
   "execution_count": 153,
   "id": "1006d902-5967-4d17-a5aa-dda8bc3a0c9f",
   "metadata": {},
   "outputs": [],
   "source": [
    "a = {\"one\": 1}"
   ]
  },
  {
   "cell_type": "code",
   "execution_count": 154,
   "id": "e97c7e94-9d66-4419-ad58-485075a5fa0c",
   "metadata": {},
   "outputs": [],
   "source": [
    "b = {\"two\": 2}"
   ]
  },
  {
   "cell_type": "code",
   "execution_count": 155,
   "id": "5d582dc1-626d-4fcb-8989-b7beaebbb5cd",
   "metadata": {},
   "outputs": [],
   "source": [
    "merged = a | b"
   ]
  },
  {
   "cell_type": "code",
   "execution_count": 156,
   "id": "18f9b9dd-2925-4774-9581-fa00913f9530",
   "metadata": {},
   "outputs": [
    {
     "name": "stdout",
     "output_type": "stream",
     "text": [
      "{'one': 1, 'two': 2}\n"
     ]
    }
   ],
   "source": [
    "print(merged)"
   ]
  },
  {
   "cell_type": "code",
   "execution_count": 157,
   "id": "a950e738-f41b-4fdf-b399-071d7afa22ed",
   "metadata": {},
   "outputs": [],
   "source": [
    "a |= {\"three\": 3}"
   ]
  },
  {
   "cell_type": "code",
   "execution_count": 158,
   "id": "ca91f1b4-99bd-492a-a19d-73d207cd4409",
   "metadata": {},
   "outputs": [
    {
     "name": "stdout",
     "output_type": "stream",
     "text": [
      "{'one': 1, 'three': 3}\n"
     ]
    }
   ],
   "source": [
    "print(a)"
   ]
  },
  {
   "cell_type": "code",
   "execution_count": 159,
   "id": "6ae7a654-970f-48a3-9be1-5fa1e7db0b63",
   "metadata": {},
   "outputs": [],
   "source": [
    "a.update(four=4)"
   ]
  },
  {
   "cell_type": "code",
   "execution_count": 160,
   "id": "8d24b742-a3f0-4cf7-8d0e-770128f7ee6a",
   "metadata": {},
   "outputs": [
    {
     "name": "stdout",
     "output_type": "stream",
     "text": [
      "{'one': 1, 'three': 3, 'four': 4}\n"
     ]
    }
   ],
   "source": [
    "print(a)"
   ]
  },
  {
   "cell_type": "code",
   "execution_count": 161,
   "id": "35f668d0-4a8f-4711-b192-60855f34e557",
   "metadata": {},
   "outputs": [],
   "source": [
    "d = {\"x\": 1}"
   ]
  },
  {
   "cell_type": "code",
   "execution_count": 162,
   "id": "fb1d6459-a8a5-4304-b602-b578be7132f1",
   "metadata": {},
   "outputs": [
    {
     "name": "stdout",
     "output_type": "stream",
     "text": [
      "1\n"
     ]
    }
   ],
   "source": [
    "print(d.pop(\"x\", \"missing\"))"
   ]
  },
  {
   "cell_type": "code",
   "execution_count": 163,
   "id": "11fe0c4c-e73f-46f8-aca1-fa40be49a627",
   "metadata": {},
   "outputs": [
    {
     "name": "stdout",
     "output_type": "stream",
     "text": [
      "missing\n"
     ]
    }
   ],
   "source": [
    "print(d.pop(\"x\", \"missing\")) "
   ]
  },
  {
   "cell_type": "code",
   "execution_count": 164,
   "id": "5efadcab-0ba9-4a79-ae34-2a6868fb3f24",
   "metadata": {},
   "outputs": [],
   "source": [
    "d = {\"x\": 1, \"y\": 2}"
   ]
  },
  {
   "cell_type": "code",
   "execution_count": 165,
   "id": "2eabe7bd-e3b7-4ca4-85bd-3e2a752ec8fb",
   "metadata": {},
   "outputs": [
    {
     "name": "stdout",
     "output_type": "stream",
     "text": [
      "['x', 'y']\n"
     ]
    }
   ],
   "source": [
    "print([*d])"
   ]
  },
  {
   "cell_type": "code",
   "execution_count": 166,
   "id": "1bba6ee8-8957-40e9-95f0-0198acf4a4e7",
   "metadata": {},
   "outputs": [
    {
     "name": "stdout",
     "output_type": "stream",
     "text": [
      "{'a': 1, 'b': 2}\n"
     ]
    }
   ],
   "source": [
    "print({**{\"a\": 1}, **{\"b\": 2}})"
   ]
  },
  {
   "cell_type": "code",
   "execution_count": 167,
   "id": "d12e9c09-ba36-43f1-8d60-06d8dc104e47",
   "metadata": {},
   "outputs": [
    {
     "name": "stdout",
     "output_type": "stream",
     "text": [
      "2\n"
     ]
    }
   ],
   "source": [
    "from types import MappingProxyType\n",
    "read_only = MappingProxyType(d)\n",
    "print(read_only[\"y\"])"
   ]
  },
  {
   "cell_type": "code",
   "execution_count": 169,
   "id": "bd099d6b-0737-4f48-9fd4-e13988ea80da",
   "metadata": {},
   "outputs": [],
   "source": [
    "keys = \"abc\""
   ]
  },
  {
   "cell_type": "code",
   "execution_count": 170,
   "id": "63b7ad81-ba49-444d-af91-9a17c53f1169",
   "metadata": {},
   "outputs": [],
   "source": [
    "vals = range(3)"
   ]
  },
  {
   "cell_type": "code",
   "execution_count": 171,
   "id": "d4e5168c-69b5-4ccf-a909-e23cf67faf1c",
   "metadata": {},
   "outputs": [
    {
     "name": "stdout",
     "output_type": "stream",
     "text": [
      "{'a': 0, 'b': 1, 'c': 2}\n"
     ]
    }
   ],
   "source": [
    "print(dict(zip(keys, vals)))"
   ]
  },
  {
   "cell_type": "code",
   "execution_count": 172,
   "id": "c0b7c518-43ba-48a9-9cde-5a08486c5ad3",
   "metadata": {},
   "outputs": [],
   "source": [
    "k, v = list(d.items())[0]"
   ]
  },
  {
   "cell_type": "code",
   "execution_count": 173,
   "id": "6e65116d-addf-47a7-9dc8-21666e301e79",
   "metadata": {},
   "outputs": [
    {
     "name": "stdout",
     "output_type": "stream",
     "text": [
      "x 1\n"
     ]
    }
   ],
   "source": [
    "print(k, v)"
   ]
  },
  {
   "cell_type": "code",
   "execution_count": 174,
   "id": "644192fe-4980-4b35-a238-7fb4ed2ae138",
   "metadata": {},
   "outputs": [
    {
     "name": "stdout",
     "output_type": "stream",
     "text": [
      "1\n"
     ]
    }
   ],
   "source": [
    "print(list(d.values())[0])"
   ]
  },
  {
   "cell_type": "code",
   "execution_count": 175,
   "id": "bc6684b8-3a88-4aa2-8f89-118f102458d9",
   "metadata": {},
   "outputs": [
    {
     "name": "stdout",
     "output_type": "stream",
     "text": [
      "2\n"
     ]
    }
   ],
   "source": [
    "print(len(set(d.values())))"
   ]
  },
  {
   "cell_type": "code",
   "execution_count": 176,
   "id": "326539ed-87ca-404c-8aa4-f902221605c6",
   "metadata": {},
   "outputs": [
    {
     "name": "stdout",
     "output_type": "stream",
     "text": [
      "True\n"
     ]
    }
   ],
   "source": [
    "print(any(k.startswith(\"x\") for k in d))"
   ]
  },
  {
   "cell_type": "code",
   "execution_count": 177,
   "id": "9c3017bb-1d25-4133-96ee-9f7f388f811b",
   "metadata": {},
   "outputs": [
    {
     "name": "stdout",
     "output_type": "stream",
     "text": [
      "{'y': 2}\n"
     ]
    }
   ],
   "source": [
    "print({k: v for k, v in d.items() if k != \"x\"})"
   ]
  },
  {
   "cell_type": "code",
   "execution_count": 178,
   "id": "ebb0ba0c-73bc-4c73-a8df-1213982b5989",
   "metadata": {},
   "outputs": [
    {
     "name": "stdout",
     "output_type": "stream",
     "text": [
      "{'X': 1, 'Y': 2}\n"
     ]
    }
   ],
   "source": [
    "print({k.upper(): v for k, v in d.items()})"
   ]
  },
  {
   "cell_type": "code",
   "execution_count": 179,
   "id": "2eeaa503-0b3a-4369-b3ad-d2bb7d6ce39a",
   "metadata": {},
   "outputs": [
    {
     "name": "stdout",
     "output_type": "stream",
     "text": [
      "{'x': 1, 'y': 2}\n"
     ]
    }
   ],
   "source": [
    "print({k: v for k, v in d.items() if isinstance(v, int)})"
   ]
  },
  {
   "cell_type": "code",
   "execution_count": 180,
   "id": "29bbfaa5-4ad5-4377-9858-d64422c0ffc0",
   "metadata": {},
   "outputs": [
    {
     "name": "stdout",
     "output_type": "stream",
     "text": [
      "True\n"
     ]
    }
   ],
   "source": [
    "print(all(isinstance(k, str) for k in d))"
   ]
  },
  {
   "cell_type": "code",
   "execution_count": 181,
   "id": "5bcf0ab7-6710-4f94-b0d6-1ab97a6a1c30",
   "metadata": {},
   "outputs": [
    {
     "name": "stdout",
     "output_type": "stream",
     "text": [
      "{'a': 1, 'c': 3}\n"
     ]
    }
   ],
   "source": [
    "print({k: v for k, v in zip(\"abc\", [1, 2, 3]) if v % 2})"
   ]
  },
  {
   "cell_type": "code",
   "execution_count": 182,
   "id": "947decd8-8fc8-4385-9639-2922890376dc",
   "metadata": {},
   "outputs": [
    {
     "name": "stdout",
     "output_type": "stream",
     "text": [
      "{0: 'x', 1: 'y', 2: 'z'}\n"
     ]
    }
   ],
   "source": [
    "print({k: v for k, v in enumerate(\"xyz\")})"
   ]
  },
  {
   "cell_type": "code",
   "execution_count": 183,
   "id": "985ddf8d-6330-4074-9687-605d265b2817",
   "metadata": {},
   "outputs": [],
   "source": [
    "d = {\"a\": [1, 2], \"b\": [3, 4]}"
   ]
  },
  {
   "cell_type": "code",
   "execution_count": 184,
   "id": "643e5c1a-3c70-4d4b-8fbc-f3c5763ff7b1",
   "metadata": {},
   "outputs": [
    {
     "name": "stdout",
     "output_type": "stream",
     "text": [
      "10\n"
     ]
    }
   ],
   "source": [
    "print(sum(sum(v) for v in d.values()))"
   ]
  },
  {
   "cell_type": "code",
   "execution_count": 185,
   "id": "a0fb1f0b-9fdd-4453-8c37-f19670fd7a02",
   "metadata": {},
   "outputs": [
    {
     "name": "stdout",
     "output_type": "stream",
     "text": [
      "{'a': [2, 1], 'b': [4, 3]}\n"
     ]
    }
   ],
   "source": [
    "print({k: v[::-1] for k, v in d.items()})"
   ]
  },
  {
   "cell_type": "code",
   "execution_count": 186,
   "id": "38684d86-4ce9-4169-bfd9-460a3e0fd13c",
   "metadata": {},
   "outputs": [
    {
     "name": "stdout",
     "output_type": "stream",
     "text": [
      "{'a': 3, 'b': 7}\n"
     ]
    }
   ],
   "source": [
    "print({k: sum(v) for k, v in d.items()})"
   ]
  },
  {
   "cell_type": "code",
   "execution_count": null,
   "id": "5b24b3c2-a021-4bd0-81b5-5b1815e5d733",
   "metadata": {},
   "outputs": [],
   "source": []
  }
 ],
 "metadata": {
  "kernelspec": {
   "display_name": "Python 3 (ipykernel)",
   "language": "python",
   "name": "python3"
  },
  "language_info": {
   "codemirror_mode": {
    "name": "ipython",
    "version": 3
   },
   "file_extension": ".py",
   "mimetype": "text/x-python",
   "name": "python",
   "nbconvert_exporter": "python",
   "pygments_lexer": "ipython3",
   "version": "3.12.11"
  }
 },
 "nbformat": 4,
 "nbformat_minor": 5
}
