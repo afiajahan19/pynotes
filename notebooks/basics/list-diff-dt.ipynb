{
 "cells": [
  {
   "cell_type": "code",
   "execution_count": 1,
   "id": "53ceda30-23d0-48ba-8505-d224fd239bd6",
   "metadata": {},
   "outputs": [
    {
     "data": {
      "text/plain": [
       "'conda env: C:\\\\Users\\\\Afia Jahan\\\\anaconda3\\\\envs\\\\py312; pyv: 3.12.11 | packaged by Anaconda, Inc. | (main, Jun  5 2025, 12:58:53) [MSC v.1929 64 bit (AMD64)]'"
      ]
     },
     "execution_count": 1,
     "metadata": {},
     "output_type": "execute_result"
    }
   ],
   "source": [
    "import pyutil as pyu\n",
    "pyu.get_local_pyinfo()"
   ]
  },
  {
   "cell_type": "code",
   "execution_count": 2,
   "id": "de5f4b96-ec46-4536-8af5-eef46e136327",
   "metadata": {},
   "outputs": [
    {
     "name": "stdout",
     "output_type": "stream",
     "text": [
      "\n"
     ]
    }
   ],
   "source": [
    "print(pyu.ps2(\"haystack-ai ollama-haystack python-dotenv\"))\n"
   ]
  },
  {
   "cell_type": "code",
   "execution_count": 3,
   "id": "89bebeca-a439-4cec-8859-ddf478115a5f",
   "metadata": {},
   "outputs": [],
   "source": [
    "lista = [\"one\", 2, \"three\", 4]"
   ]
  },
  {
   "cell_type": "code",
   "execution_count": 4,
   "id": "a9051ab8-dcdb-48fe-9136-541638eaac14",
   "metadata": {},
   "outputs": [
    {
     "data": {
      "text/plain": [
       "list"
      ]
     },
     "execution_count": 4,
     "metadata": {},
     "output_type": "execute_result"
    }
   ],
   "source": [
    "type(lista)"
   ]
  },
  {
   "cell_type": "code",
   "execution_count": 5,
   "id": "ca07867c-174d-4a28-8b8c-bb534e332091",
   "metadata": {},
   "outputs": [
    {
     "name": "stdout",
     "output_type": "stream",
     "text": [
      "one, <class 'str'>\n",
      "2, <class 'int'>\n",
      "three, <class 'str'>\n",
      "4, <class 'int'>\n"
     ]
    }
   ],
   "source": [
    "for item in lista:\n",
    "    print(f\"{item}, {type(item)}\")"
   ]
  },
  {
   "cell_type": "code",
   "execution_count": null,
   "id": "c1cffdd6-7f1f-45b6-b335-72297821b3ab",
   "metadata": {},
   "outputs": [],
   "source": []
  }
 ],
 "metadata": {
  "kernelspec": {
   "display_name": "Python 3 (ipykernel)",
   "language": "python",
   "name": "python3"
  },
  "language_info": {
   "codemirror_mode": {
    "name": "ipython",
    "version": 3
   },
   "file_extension": ".py",
   "mimetype": "text/x-python",
   "name": "python",
   "nbconvert_exporter": "python",
   "pygments_lexer": "ipython3",
   "version": "3.12.11"
  }
 },
 "nbformat": 4,
 "nbformat_minor": 5
}
