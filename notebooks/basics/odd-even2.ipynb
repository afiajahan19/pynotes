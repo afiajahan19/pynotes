{
 "cells": [
  {
   "cell_type": "code",
   "execution_count": 1,
   "id": "23cc1bae-c3ea-4b7a-932c-d5d428871584",
   "metadata": {},
   "outputs": [],
   "source": [
    "def odd_even():\n",
    "    for i in range(10):      \n",
    "        if i % 2 == 0:\n",
    "              print(f\"The number {i} is even\")\n",
    "        else:\n",
    "            print(f\"The number {i} is odd\")"
   ]
  },
  {
   "cell_type": "code",
   "execution_count": 2,
   "id": "dbebc894-7c06-4495-8594-8b8694654c0c",
   "metadata": {},
   "outputs": [
    {
     "name": "stdout",
     "output_type": "stream",
     "text": [
      "The number 0 is even\n",
      "The number 1 is odd\n",
      "The number 2 is even\n",
      "The number 3 is odd\n",
      "The number 4 is even\n",
      "The number 5 is odd\n",
      "The number 6 is even\n",
      "The number 7 is odd\n",
      "The number 8 is even\n",
      "The number 9 is odd\n"
     ]
    }
   ],
   "source": [
    "odd_even()"
   ]
  },
  {
   "cell_type": "code",
   "execution_count": 3,
   "id": "3b676023-0f70-45c3-805f-efa43d6ed38a",
   "metadata": {},
   "outputs": [],
   "source": [
    "def odd_even(input_val):\n",
    "\n",
    "    if input_val %2 == 0:\n",
    "        return f\"The number {input_val} is even\"\n",
    "\n",
    "    return f\"The number {input_val} is odd\""
   ]
  },
  {
   "cell_type": "code",
   "execution_count": 4,
   "id": "b6d4f7bf-ddc1-456a-8d6b-6c2fd1322d4c",
   "metadata": {},
   "outputs": [
    {
     "name": "stdout",
     "output_type": "stream",
     "text": [
      "The number 0 is even\n",
      "The number 1 is odd\n",
      "The number 2 is even\n",
      "The number 3 is odd\n",
      "The number 4 is even\n",
      "The number 5 is odd\n",
      "The number 6 is even\n",
      "The number 7 is odd\n",
      "The number 8 is even\n",
      "The number 9 is odd\n"
     ]
    }
   ],
   "source": [
    "for i in range(10):   \n",
    "    print(odd_even(i))"
   ]
  },
  {
   "cell_type": "code",
   "execution_count": null,
   "id": "66903296-a8d8-41bd-bcbf-85a2feb8921d",
   "metadata": {},
   "outputs": [],
   "source": []
  }
 ],
 "metadata": {
  "kernelspec": {
   "display_name": "Python 3 (ipykernel)",
   "language": "python",
   "name": "python3"
  },
  "language_info": {
   "codemirror_mode": {
    "name": "ipython",
    "version": 3
   },
   "file_extension": ".py",
   "mimetype": "text/x-python",
   "name": "python",
   "nbconvert_exporter": "python",
   "pygments_lexer": "ipython3",
   "version": "3.12.11"
  }
 },
 "nbformat": 4,
 "nbformat_minor": 5
}
