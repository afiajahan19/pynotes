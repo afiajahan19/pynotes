{
 "cells": [
  {
   "cell_type": "code",
   "execution_count": 2,
   "id": "fab1a7c8-921c-4f89-9b6e-7d4ec4594948",
   "metadata": {},
   "outputs": [
    {
     "ename": "ModuleNotFoundError",
     "evalue": "No module named 'yfinance'",
     "output_type": "error",
     "traceback": [
      "\u001b[31m---------------------------------------------------------------------------\u001b[39m",
      "\u001b[31mModuleNotFoundError\u001b[39m                       Traceback (most recent call last)",
      "\u001b[36mCell\u001b[39m\u001b[36m \u001b[39m\u001b[32mIn[2]\u001b[39m\u001b[32m, line 1\u001b[39m\n\u001b[32m----> \u001b[39m\u001b[32m1\u001b[39m \u001b[38;5;28;01mimport\u001b[39;00m\u001b[38;5;250m \u001b[39m\u001b[34;01myfinance\u001b[39;00m\u001b[38;5;250m \u001b[39m\u001b[38;5;28;01mas\u001b[39;00m\u001b[38;5;250m \u001b[39m\u001b[34;01myf\u001b[39;00m\n\u001b[32m      2\u001b[39m \u001b[38;5;28;01mimport\u001b[39;00m\u001b[38;5;250m \u001b[39m\u001b[34;01mpandas\u001b[39;00m\u001b[38;5;250m \u001b[39m\u001b[38;5;28;01mas\u001b[39;00m\u001b[38;5;250m \u001b[39m\u001b[34;01mpd\u001b[39;00m\n\u001b[32m      3\u001b[39m \u001b[38;5;28;01mimport\u001b[39;00m\u001b[38;5;250m \u001b[39m\u001b[34;01mmatplotlib\u001b[39;00m\u001b[34;01m.\u001b[39;00m\u001b[34;01mpyplot\u001b[39;00m\u001b[38;5;250m \u001b[39m\u001b[38;5;28;01mas\u001b[39;00m\u001b[38;5;250m \u001b[39m\u001b[34;01mplt\u001b[39;00m\n",
      "\u001b[31mModuleNotFoundError\u001b[39m: No module named 'yfinance'"
     ]
    }
   ],
   "source": [
    "import yfinance as yf\n",
    "import pandas as pd\n",
    "import matplotlib.pyplot as plt\n",
    "\n",
    "# Step 1: Download stock data (e.g., TCS.NS)\n",
    "symbol = \"TCS.NS\"\n",
    "start_date = \"2020-01-01\"\n",
    "end_date = \"2023-01-01\"\n",
    "\n",
    "data = yf.download(symbol, start=start_date, end=end_date)\n",
    "\n",
    "# Step 2: Calculate Bollinger Bands\n",
    "window = 20  # 20-day moving average\n",
    "data['SMA'] = data['Close'].rolling(window=window).mean()\n",
    "data['STD'] = data['Close'].rolling(window=window).std()\n",
    "\n",
    "data['Upper Band'] = data['SMA'] + (2 * data['STD'])\n",
    "data['Lower Band'] = data['SMA'] - (2 * data['STD'])\n",
    "\n",
    "# Step 3: Plotting\n",
    "plt.figure(figsize=(14, 7))\n",
    "plt.plot(data['Close'], label='Closing Price', color='blue')\n",
    "plt.plot(data['SMA'], label='20-Day SMA', color='orange')\n",
    "plt.plot(data['Upper Band'], label='Upper Bollinger Band', color='green')\n",
    "plt.plot(data['Lower Band'], label='Lower Bollinger Band', color='red')\n",
    "\n",
    "plt.fill_between(data.index, data['Upper Band'], data['Lower Band'], color='gray', alpha=0.2)\n",
    "\n",
    "plt.title(f'Bollinger Bands for {symbol}')\n",
    "plt.xlabel('Date')\n",
    "plt.ylabel('Price')\n",
    "plt.legend(loc='upper left')\n",
    "plt.grid()\n",
    "plt.tight_layout()\n",
    "plt.show()\n"
   ]
  },
  {
   "cell_type": "code",
   "execution_count": null,
   "id": "fc60ef51-a0db-4f55-95a2-e4c180c9c55f",
   "metadata": {},
   "outputs": [],
   "source": []
  }
 ],
 "metadata": {
  "kernelspec": {
   "display_name": "Python 3 (ipykernel)",
   "language": "python",
   "name": "python3"
  },
  "language_info": {
   "codemirror_mode": {
    "name": "ipython",
    "version": 3
   },
   "file_extension": ".py",
   "mimetype": "text/x-python",
   "name": "python",
   "nbconvert_exporter": "python",
   "pygments_lexer": "ipython3",
   "version": "3.12.11"
  }
 },
 "nbformat": 4,
 "nbformat_minor": 5
}
