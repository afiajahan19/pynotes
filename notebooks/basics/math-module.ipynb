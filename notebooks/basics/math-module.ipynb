{
 "cells": [
  {
   "cell_type": "code",
   "execution_count": 1,
   "id": "e5f554a3-2266-4de1-b34f-21df4d90afcb",
   "metadata": {},
   "outputs": [],
   "source": [
    "#Number Basics"
   ]
  },
  {
   "cell_type": "code",
   "execution_count": 4,
   "id": "1f42fa85-e63e-4c99-afae-05a426a0465b",
   "metadata": {},
   "outputs": [],
   "source": [
    "import math"
   ]
  },
  {
   "cell_type": "code",
   "execution_count": 5,
   "id": "f374927d-1974-4b11-999c-c639e190f744",
   "metadata": {},
   "outputs": [
    {
     "name": "stdout",
     "output_type": "stream",
     "text": [
      "5\n"
     ]
    }
   ],
   "source": [
    "print(math.ceil(4.3))"
   ]
  },
  {
   "cell_type": "code",
   "execution_count": 6,
   "id": "5fb260b3-4706-4ff6-8116-2d1fe26d0127",
   "metadata": {},
   "outputs": [
    {
     "name": "stdout",
     "output_type": "stream",
     "text": [
      "4\n"
     ]
    }
   ],
   "source": [
    "print(math.floor(4.8))"
   ]
  },
  {
   "cell_type": "code",
   "execution_count": 8,
   "id": "2873269c-9c33-4210-b13a-0590ff7b8988",
   "metadata": {},
   "outputs": [
    {
     "name": "stdout",
     "output_type": "stream",
     "text": [
      "-5\n"
     ]
    }
   ],
   "source": [
    "print(math.floor(-4.2))"
   ]
  },
  {
   "cell_type": "code",
   "execution_count": 9,
   "id": "1ea491fc-ce4f-4ae5-9416-328c08f2b5eb",
   "metadata": {},
   "outputs": [
    {
     "name": "stdout",
     "output_type": "stream",
     "text": [
      "3.7\n"
     ]
    }
   ],
   "source": [
    "print(math.fabs(-3.7))"
   ]
  },
  {
   "cell_type": "code",
   "execution_count": 10,
   "id": "79f6ef7a-c81e-4e4b-b70a-00c3bf7f697a",
   "metadata": {},
   "outputs": [
    {
     "name": "stdout",
     "output_type": "stream",
     "text": [
      "3.7\n"
     ]
    }
   ],
   "source": [
    "print(math.fabs(3.7))"
   ]
  },
  {
   "cell_type": "code",
   "execution_count": 11,
   "id": "cbe1c251-1009-4c10-8477-b34a8cf9f052",
   "metadata": {},
   "outputs": [
    {
     "name": "stdout",
     "output_type": "stream",
     "text": [
      "3\n"
     ]
    }
   ],
   "source": [
    "print(math.trunc(3.9)) "
   ]
  },
  {
   "cell_type": "code",
   "execution_count": 12,
   "id": "11370e22-5b41-4c78-8706-29351588d198",
   "metadata": {},
   "outputs": [
    {
     "name": "stdout",
     "output_type": "stream",
     "text": [
      "-3\n"
     ]
    }
   ],
   "source": [
    "print(math.trunc(-3.9))"
   ]
  },
  {
   "cell_type": "code",
   "execution_count": 13,
   "id": "f707ef0e-ab69-440b-b1bd-2d17b6716bc8",
   "metadata": {},
   "outputs": [
    {
     "name": "stdout",
     "output_type": "stream",
     "text": [
      "-10.0\n"
     ]
    }
   ],
   "source": [
    "print(math.copysign(10, -1))"
   ]
  },
  {
   "cell_type": "code",
   "execution_count": 14,
   "id": "598d9b2b-37e4-4492-967a-a5d1e340fa32",
   "metadata": {},
   "outputs": [
    {
     "name": "stdout",
     "output_type": "stream",
     "text": [
      "-0.0\n"
     ]
    }
   ],
   "source": [
    "print(math.copysign(0, -5))"
   ]
  },
  {
   "cell_type": "code",
   "execution_count": 15,
   "id": "6cb18644-6f58-4c0f-8021-225db067ebf8",
   "metadata": {},
   "outputs": [
    {
     "name": "stdout",
     "output_type": "stream",
     "text": [
      "2.0\n"
     ]
    }
   ],
   "source": [
    "print(math.fmod(20, 3))"
   ]
  },
  {
   "cell_type": "code",
   "execution_count": 16,
   "id": "bd110a08-65df-4118-a2c7-80ddd721190e",
   "metadata": {},
   "outputs": [
    {
     "name": "stdout",
     "output_type": "stream",
     "text": [
      "1.5\n"
     ]
    }
   ],
   "source": [
    "print(math.fmod(7.5, 2.0)) "
   ]
  },
  {
   "cell_type": "code",
   "execution_count": 17,
   "id": "a90a7bb0-7837-402c-9ecd-210b4e4679a5",
   "metadata": {},
   "outputs": [
    {
     "name": "stdout",
     "output_type": "stream",
     "text": [
      "True\n"
     ]
    }
   ],
   "source": [
    "print(math.isclose(0.1 + 0.2, 0.3)) "
   ]
  },
  {
   "cell_type": "code",
   "execution_count": 18,
   "id": "e147020b-ba9d-4089-adc2-62961feb6c1a",
   "metadata": {},
   "outputs": [
    {
     "name": "stdout",
     "output_type": "stream",
     "text": [
      "False\n"
     ]
    }
   ],
   "source": [
    "print(math.isclose(0.1 + 0.2, 0.3001))  # False\n"
   ]
  },
  {
   "cell_type": "code",
   "execution_count": 19,
   "id": "073c3c9c-61d4-4728-8c69-86969d986c3c",
   "metadata": {},
   "outputs": [
    {
     "name": "stdout",
     "output_type": "stream",
     "text": [
      "1.0\n"
     ]
    }
   ],
   "source": [
    "print(math.remainder(7, 3)) "
   ]
  },
  {
   "cell_type": "code",
   "execution_count": 20,
   "id": "54032387-a2b2-4b5c-b99c-b9efef0d1f85",
   "metadata": {},
   "outputs": [
    {
     "name": "stdout",
     "output_type": "stream",
     "text": [
      "-1.0\n"
     ]
    }
   ],
   "source": [
    "print(math.remainder(-7, 3))  # -1.0\n",
    "\n"
   ]
  },
  {
   "cell_type": "code",
   "execution_count": 21,
   "id": "11742115-33e9-4092-8b08-778bdadc1187",
   "metadata": {},
   "outputs": [
    {
     "name": "stdout",
     "output_type": "stream",
     "text": [
      "(0.75, 2.0)\n"
     ]
    }
   ],
   "source": [
    "print(math.modf(2.75))  # (0.75, 2.0)"
   ]
  },
  {
   "cell_type": "code",
   "execution_count": 22,
   "id": "5987927e-a877-4a22-b42c-53a1b5cd6ec7",
   "metadata": {},
   "outputs": [
    {
     "name": "stdout",
     "output_type": "stream",
     "text": [
      "True\n"
     ]
    }
   ],
   "source": [
    "print(math.isfinite(10))  # True"
   ]
  },
  {
   "cell_type": "code",
   "execution_count": 23,
   "id": "6d565416-cd9d-4903-befc-d5ae7cb9d896",
   "metadata": {},
   "outputs": [
    {
     "name": "stdout",
     "output_type": "stream",
     "text": [
      "False\n"
     ]
    }
   ],
   "source": [
    "print(math.isfinite(math.inf))"
   ]
  },
  {
   "cell_type": "code",
   "execution_count": 25,
   "id": "6b9d41fe-bb88-4151-ba43-e8898383150a",
   "metadata": {},
   "outputs": [
    {
     "name": "stdout",
     "output_type": "stream",
     "text": [
      "True\n"
     ]
    }
   ],
   "source": [
    "print(math.isnan(math.nan))"
   ]
  },
  {
   "cell_type": "code",
   "execution_count": 26,
   "id": "03a2c563-eb65-463f-bc5d-eb8e7e2461b8",
   "metadata": {},
   "outputs": [
    {
     "name": "stdout",
     "output_type": "stream",
     "text": [
      "False\n"
     ]
    }
   ],
   "source": [
    "print(math.isnan(5.0)) "
   ]
  },
  {
   "cell_type": "code",
   "execution_count": 27,
   "id": "a6a23325-17c1-4519-b221-dab9108c9566",
   "metadata": {},
   "outputs": [
    {
     "name": "stdout",
     "output_type": "stream",
     "text": [
      "True\n"
     ]
    }
   ],
   "source": [
    "print(math.isinf(math.inf)) "
   ]
  },
  {
   "cell_type": "code",
   "execution_count": 28,
   "id": "30dd795f-e42e-453d-bcc0-8a572f63965b",
   "metadata": {},
   "outputs": [
    {
     "name": "stdout",
     "output_type": "stream",
     "text": [
      "False\n"
     ]
    }
   ],
   "source": [
    "print(math.isinf(100))"
   ]
  },
  {
   "cell_type": "code",
   "execution_count": 29,
   "id": "5ad4f02f-7beb-4e87-96a7-b76acdebad6c",
   "metadata": {},
   "outputs": [
    {
     "name": "stdout",
     "output_type": "stream",
     "text": [
      "(0.5, 4)\n"
     ]
    }
   ],
   "source": [
    "print(math.frexp(8)) "
   ]
  },
  {
   "cell_type": "code",
   "execution_count": 30,
   "id": "9dd3fd72-ebd8-4176-ac94-5fcfd7d7c015",
   "metadata": {},
   "outputs": [
    {
     "name": "stdout",
     "output_type": "stream",
     "text": [
      "(0.65625, 4)\n"
     ]
    }
   ],
   "source": [
    "print(math.frexp(10.5)) "
   ]
  },
  {
   "cell_type": "code",
   "execution_count": 31,
   "id": "4e8e8d96-e74a-4e76-8c03-652670214415",
   "metadata": {},
   "outputs": [
    {
     "name": "stdout",
     "output_type": "stream",
     "text": [
      "4.0\n"
     ]
    }
   ],
   "source": [
    "print(math.ldexp(0.5, 3)) \n"
   ]
  },
  {
   "cell_type": "code",
   "execution_count": 32,
   "id": "1c362c91-37f2-480a-9d35-4dc667eeec0e",
   "metadata": {},
   "outputs": [
    {
     "name": "stdout",
     "output_type": "stream",
     "text": [
      "10.5\n"
     ]
    }
   ],
   "source": [
    "print(math.ldexp(0.65625, 4))"
   ]
  },
  {
   "cell_type": "code",
   "execution_count": 33,
   "id": "c560a6a9-897a-465b-a82c-199b54e5a378",
   "metadata": {},
   "outputs": [
    {
     "name": "stdout",
     "output_type": "stream",
     "text": [
      "-0.0\n"
     ]
    }
   ],
   "source": [
    "print(math.copysign(0.0, -0.0)) "
   ]
  },
  {
   "cell_type": "code",
   "execution_count": 34,
   "id": "24645d9f-5867-408c-963c-33f5e855937f",
   "metadata": {},
   "outputs": [
    {
     "name": "stdout",
     "output_type": "stream",
     "text": [
      "(0.0, 0.0)\n"
     ]
    }
   ],
   "source": [
    "print(math.modf(0))"
   ]
  },
  {
   "cell_type": "code",
   "execution_count": 35,
   "id": "d64cee45-55ab-4c54-81d7-5f889620094a",
   "metadata": {},
   "outputs": [],
   "source": [
    "#Power, Roots, and Logarithms "
   ]
  },
  {
   "cell_type": "code",
   "execution_count": 37,
   "id": "277dd835-3b12-42ca-97b0-b0d4f2afdb71",
   "metadata": {},
   "outputs": [
    {
     "name": "stdout",
     "output_type": "stream",
     "text": [
      "8.0\n"
     ]
    }
   ],
   "source": [
    "print(math.pow(2, 3))  "
   ]
  },
  {
   "cell_type": "code",
   "execution_count": 38,
   "id": "dbc65fa8-ee0b-404c-8cd3-02fcc61e42c8",
   "metadata": {},
   "outputs": [
    {
     "name": "stdout",
     "output_type": "stream",
     "text": [
      "20.25\n"
     ]
    }
   ],
   "source": [
    "print(math.pow(4.5, 2))"
   ]
  },
  {
   "cell_type": "code",
   "execution_count": 39,
   "id": "88a94bd8-22d3-42f1-a77f-336a60176795",
   "metadata": {},
   "outputs": [
    {
     "name": "stdout",
     "output_type": "stream",
     "text": [
      "4.0\n"
     ]
    }
   ],
   "source": [
    "print(math.sqrt(16)) "
   ]
  },
  {
   "cell_type": "code",
   "execution_count": 40,
   "id": "ea839553-4919-439f-a728-9c5e1d1acb51",
   "metadata": {},
   "outputs": [
    {
     "name": "stdout",
     "output_type": "stream",
     "text": [
      "1.5\n"
     ]
    }
   ],
   "source": [
    "print(math.sqrt(2.25))"
   ]
  },
  {
   "cell_type": "code",
   "execution_count": 41,
   "id": "30fc31e2-954c-480a-9b51-c5c2df4e2cbe",
   "metadata": {},
   "outputs": [
    {
     "name": "stdout",
     "output_type": "stream",
     "text": [
      "3\n"
     ]
    }
   ],
   "source": [
    "print(math.isqrt(10))"
   ]
  },
  {
   "cell_type": "code",
   "execution_count": 42,
   "id": "1f218636-fc1a-476b-bc94-0cd408d9fd8f",
   "metadata": {},
   "outputs": [
    {
     "name": "stdout",
     "output_type": "stream",
     "text": [
      "5\n"
     ]
    }
   ],
   "source": [
    "print(math.isqrt(25))"
   ]
  },
  {
   "cell_type": "code",
   "execution_count": 43,
   "id": "2028ed76-2a84-4ddb-bfed-8220258abd80",
   "metadata": {},
   "outputs": [
    {
     "name": "stdout",
     "output_type": "stream",
     "text": [
      "2.718281828459045\n"
     ]
    }
   ],
   "source": [
    "print(math.exp(1))"
   ]
  },
  {
   "cell_type": "code",
   "execution_count": 44,
   "id": "3c2a3d3d-1f25-4d70-a1b7-d7c7c488d7e3",
   "metadata": {},
   "outputs": [
    {
     "name": "stdout",
     "output_type": "stream",
     "text": [
      "0.36787944117144233\n"
     ]
    }
   ],
   "source": [
    "print(math.exp(-1)) "
   ]
  },
  {
   "cell_type": "code",
   "execution_count": 45,
   "id": "769b496d-8ee1-4c44-939b-604026abf040",
   "metadata": {},
   "outputs": [
    {
     "name": "stdout",
     "output_type": "stream",
     "text": [
      "0.010050167084168058\n"
     ]
    }
   ],
   "source": [
    "print(math.expm1(0.01))"
   ]
  },
  {
   "cell_type": "code",
   "execution_count": 46,
   "id": "b6a641e7-65e6-4e7d-af18-b849f70c5305",
   "metadata": {},
   "outputs": [
    {
     "name": "stdout",
     "output_type": "stream",
     "text": [
      "2.302585092994046\n"
     ]
    }
   ],
   "source": [
    "print(math.log(10))"
   ]
  },
  {
   "cell_type": "code",
   "execution_count": 47,
   "id": "5908b7aa-1593-4c60-b460-b3ed4779bc72",
   "metadata": {},
   "outputs": [
    {
     "name": "stdout",
     "output_type": "stream",
     "text": [
      "3.0\n"
     ]
    }
   ],
   "source": [
    "print(math.log10(1000)) "
   ]
  },
  {
   "cell_type": "code",
   "execution_count": 48,
   "id": "82e9657a-da0c-4c62-bce9-e1406f2a874f",
   "metadata": {},
   "outputs": [
    {
     "name": "stdout",
     "output_type": "stream",
     "text": [
      "5.0\n"
     ]
    }
   ],
   "source": [
    "print(math.log2(32))"
   ]
  },
  {
   "cell_type": "code",
   "execution_count": 49,
   "id": "4cd911ef-a8a3-4a83-99d1-cdea7025e923",
   "metadata": {},
   "outputs": [
    {
     "name": "stdout",
     "output_type": "stream",
     "text": [
      "9.99995000033333e-06\n"
     ]
    }
   ],
   "source": [
    "print(math.log1p(1e-5)) "
   ]
  },
  {
   "cell_type": "code",
   "execution_count": 50,
   "id": "981deb08-0f3d-4433-90ae-a801ecd15a68",
   "metadata": {},
   "outputs": [
    {
     "name": "stdout",
     "output_type": "stream",
     "text": [
      "2.0\n"
     ]
    }
   ],
   "source": [
    "print(math.log(25, 5))"
   ]
  },
  {
   "cell_type": "code",
   "execution_count": 51,
   "id": "66917c95-d32a-4c47-9558-54bb7acc21f4",
   "metadata": {},
   "outputs": [
    {
     "name": "stdout",
     "output_type": "stream",
     "text": [
      "3.0\n"
     ]
    }
   ],
   "source": [
    "print(math.pow(9, 0.5)) "
   ]
  },
  {
   "cell_type": "code",
   "execution_count": 52,
   "id": "f9afb6e6-6cee-47c1-947c-da0917dd5ee5",
   "metadata": {},
   "outputs": [
    {
     "name": "stdout",
     "output_type": "stream",
     "text": [
      "0.0\n"
     ]
    }
   ],
   "source": [
    "print(math.sqrt(0))"
   ]
  },
  {
   "cell_type": "code",
   "execution_count": 53,
   "id": "b8805d47-6eb0-4511-9ca8-7e6b1287713c",
   "metadata": {},
   "outputs": [
    {
     "name": "stdout",
     "output_type": "stream",
     "text": [
      "0\n"
     ]
    }
   ],
   "source": [
    "print(math.isqrt(0))"
   ]
  },
  {
   "cell_type": "code",
   "execution_count": 54,
   "id": "d208b499-f750-4c2b-a62b-1bd1ffd907fc",
   "metadata": {},
   "outputs": [
    {
     "name": "stdout",
     "output_type": "stream",
     "text": [
      "0.0\n"
     ]
    }
   ],
   "source": [
    "print(math.log1p(0))"
   ]
  },
  {
   "cell_type": "code",
   "execution_count": 55,
   "id": "5c6da439-9a76-4dee-b322-61dfb1346601",
   "metadata": {},
   "outputs": [
    {
     "name": "stdout",
     "output_type": "stream",
     "text": [
      "1.0\n"
     ]
    }
   ],
   "source": [
    "print(math.exp(0))"
   ]
  },
  {
   "cell_type": "code",
   "execution_count": 56,
   "id": "a27209e0-99fd-4397-8898-042b46258afa",
   "metadata": {},
   "outputs": [
    {
     "name": "stdout",
     "output_type": "stream",
     "text": [
      "0.0\n"
     ]
    }
   ],
   "source": [
    "print(math.expm1(0))"
   ]
  },
  {
   "cell_type": "code",
   "execution_count": 57,
   "id": "c25492db-57a8-4d3e-a0d2-1aadff06753e",
   "metadata": {},
   "outputs": [
    {
     "name": "stdout",
     "output_type": "stream",
     "text": [
      "0.0\n"
     ]
    }
   ],
   "source": [
    "print(math.log(1))"
   ]
  },
  {
   "cell_type": "code",
   "execution_count": 58,
   "id": "2e56bf05-dece-4849-8960-ebf17bc5eb44",
   "metadata": {},
   "outputs": [
    {
     "name": "stdout",
     "output_type": "stream",
     "text": [
      "0.0\n"
     ]
    }
   ],
   "source": [
    "print(math.log2(1))"
   ]
  },
  {
   "cell_type": "code",
   "execution_count": 59,
   "id": "2ddddeed-42ac-4f0f-9227-d8ca47b6572d",
   "metadata": {},
   "outputs": [
    {
     "name": "stdout",
     "output_type": "stream",
     "text": [
      "0.0\n"
     ]
    }
   ],
   "source": [
    "print(math.log10(1))"
   ]
  },
  {
   "cell_type": "code",
   "execution_count": 60,
   "id": "638ab940-dd83-4836-93b9-8c4af4b48c99",
   "metadata": {},
   "outputs": [
    {
     "name": "stdout",
     "output_type": "stream",
     "text": [
      "0.25\n"
     ]
    }
   ],
   "source": [
    "print(math.pow(2, -2)) "
   ]
  },
  {
   "cell_type": "code",
   "execution_count": 61,
   "id": "dacdf429-8c2c-44bb-91f2-25179f32b509",
   "metadata": {},
   "outputs": [
    {
     "name": "stdout",
     "output_type": "stream",
     "text": [
      "1.0\n"
     ]
    }
   ],
   "source": [
    "print(math.log(math.e)) "
   ]
  },
  {
   "cell_type": "code",
   "execution_count": 62,
   "id": "57e7932c-3419-4264-8154-77edef76e57e",
   "metadata": {},
   "outputs": [
    {
     "name": "stdout",
     "output_type": "stream",
     "text": [
      "148.41\n"
     ]
    }
   ],
   "source": [
    "print(round(math.exp(5), 2)) "
   ]
  },
  {
   "cell_type": "code",
   "execution_count": 63,
   "id": "3bcf4eee-70ce-4ef7-97e6-c533c913ce30",
   "metadata": {},
   "outputs": [
    {
     "name": "stdout",
     "output_type": "stream",
     "text": [
      "1000000.0\n"
     ]
    }
   ],
   "source": [
    "print(math.pow(10, 6)) "
   ]
  },
  {
   "cell_type": "code",
   "execution_count": 64,
   "id": "4d2955d8-8f30-40e0-854b-de2b9a8393cf",
   "metadata": {},
   "outputs": [
    {
     "name": "stdout",
     "output_type": "stream",
     "text": [
      "1000.0\n"
     ]
    }
   ],
   "source": [
    "print(math.sqrt(1000000)) "
   ]
  },
  {
   "cell_type": "code",
   "execution_count": 65,
   "id": "194338b5-dc0c-4826-aca6-1b77efc96797",
   "metadata": {},
   "outputs": [
    {
     "name": "stdout",
     "output_type": "stream",
     "text": [
      "Math domain error\n"
     ]
    }
   ],
   "source": [
    "try:\n",
    "    print(math.log(-1))  # Error\n",
    "except ValueError:\n",
    "    print(\"Math domain error\")"
   ]
  },
  {
   "cell_type": "code",
   "execution_count": 66,
   "id": "63b9f4bd-d084-4db5-a800-473eb6ad20bf",
   "metadata": {},
   "outputs": [
    {
     "name": "stdout",
     "output_type": "stream",
     "text": [
      "Math domain error\n"
     ]
    }
   ],
   "source": [
    "try:\n",
    "    print(math.sqrt(-9))  # Error\n",
    "except ValueError:\n",
    "    print(\"Math domain error\")"
   ]
  },
  {
   "cell_type": "code",
   "execution_count": 67,
   "id": "333f30d2-f767-43fc-90df-81e4eba813c8",
   "metadata": {},
   "outputs": [],
   "source": [
    "#Trigonometry Functions "
   ]
  },
  {
   "cell_type": "code",
   "execution_count": 68,
   "id": "c4513d64-251c-44a2-825d-05f1e19af033",
   "metadata": {},
   "outputs": [
    {
     "name": "stdout",
     "output_type": "stream",
     "text": [
      "0.0\n"
     ]
    }
   ],
   "source": [
    "print(math.sin(0))"
   ]
  },
  {
   "cell_type": "code",
   "execution_count": 69,
   "id": "e3f0ed78-e3be-4d3f-a3ff-52125512340c",
   "metadata": {},
   "outputs": [
    {
     "name": "stdout",
     "output_type": "stream",
     "text": [
      "1.0\n"
     ]
    }
   ],
   "source": [
    "print(math.sin(math.pi / 2))"
   ]
  },
  {
   "cell_type": "code",
   "execution_count": 70,
   "id": "fcdfd211-48d5-4656-9786-033e3f0c065a",
   "metadata": {},
   "outputs": [
    {
     "name": "stdout",
     "output_type": "stream",
     "text": [
      "1.2246467991473532e-16\n"
     ]
    }
   ],
   "source": [
    "print(math.sin(math.pi)) "
   ]
  },
  {
   "cell_type": "code",
   "execution_count": 71,
   "id": "5b710b93-1c74-4977-a275-cdc5a2558020",
   "metadata": {},
   "outputs": [
    {
     "name": "stdout",
     "output_type": "stream",
     "text": [
      "1.0\n"
     ]
    }
   ],
   "source": [
    "print(math.cos(0))"
   ]
  },
  {
   "cell_type": "code",
   "execution_count": 72,
   "id": "3c7b1fe5-171d-41a8-945b-f6f8bd223d1a",
   "metadata": {},
   "outputs": [
    {
     "name": "stdout",
     "output_type": "stream",
     "text": [
      "-1.0\n"
     ]
    }
   ],
   "source": [
    "print(math.cos(math.pi))"
   ]
  },
  {
   "cell_type": "code",
   "execution_count": 73,
   "id": "91cfad21-6c9c-4e49-a6ea-67560a727cd3",
   "metadata": {},
   "outputs": [
    {
     "name": "stdout",
     "output_type": "stream",
     "text": [
      "0.0\n"
     ]
    }
   ],
   "source": [
    "print(math.tan(0))"
   ]
  },
  {
   "cell_type": "code",
   "execution_count": 74,
   "id": "f3247c3b-3950-467c-baf9-db69f2cd7f62",
   "metadata": {},
   "outputs": [
    {
     "name": "stdout",
     "output_type": "stream",
     "text": [
      "0.9999999999999999\n"
     ]
    }
   ],
   "source": [
    "print(math.tan(math.pi / 4))"
   ]
  },
  {
   "cell_type": "code",
   "execution_count": 75,
   "id": "2a2e83d0-ed7e-4efb-b16b-a1dd022e8e2a",
   "metadata": {},
   "outputs": [
    {
     "name": "stdout",
     "output_type": "stream",
     "text": [
      "1.633123935319537e+16\n"
     ]
    }
   ],
   "source": [
    "try:\n",
    "    print(math.tan(math.pi / 2))  # very large\n",
    "except:\n",
    "    print(\"Undefined\")"
   ]
  },
  {
   "cell_type": "code",
   "execution_count": 76,
   "id": "e853ab05-c414-4076-abe6-26afa7abcca7",
   "metadata": {},
   "outputs": [
    {
     "name": "stdout",
     "output_type": "stream",
     "text": [
      "1.5707963267948966\n"
     ]
    }
   ],
   "source": [
    "print(math.asin(1)) \n"
   ]
  },
  {
   "cell_type": "code",
   "execution_count": 77,
   "id": "1a802055-a0c4-4e58-a758-570e815944b9",
   "metadata": {},
   "outputs": [
    {
     "name": "stdout",
     "output_type": "stream",
     "text": [
      "0.0\n"
     ]
    }
   ],
   "source": [
    "print(math.asin(0))"
   ]
  },
  {
   "cell_type": "code",
   "execution_count": 78,
   "id": "2fc298d7-7e8c-4247-94c9-a3a47e84f692",
   "metadata": {},
   "outputs": [
    {
     "name": "stdout",
     "output_type": "stream",
     "text": [
      "0.0\n"
     ]
    }
   ],
   "source": [
    "print(math.acos(1))"
   ]
  },
  {
   "cell_type": "code",
   "execution_count": 79,
   "id": "95ba1ca9-836d-41ef-8634-8b903b034850",
   "metadata": {},
   "outputs": [
    {
     "name": "stdout",
     "output_type": "stream",
     "text": [
      "1.5707963267948966\n"
     ]
    }
   ],
   "source": [
    "print(math.acos(0))  "
   ]
  },
  {
   "cell_type": "code",
   "execution_count": 80,
   "id": "95556de1-911a-4e44-80c3-e2301ab9b163",
   "metadata": {},
   "outputs": [
    {
     "name": "stdout",
     "output_type": "stream",
     "text": [
      "0.7853981633974483\n"
     ]
    }
   ],
   "source": [
    "print(math.atan(1))"
   ]
  },
  {
   "cell_type": "code",
   "execution_count": 81,
   "id": "ccaf78b9-bc94-4b5d-8b20-a415785f1b28",
   "metadata": {},
   "outputs": [
    {
     "name": "stdout",
     "output_type": "stream",
     "text": [
      "0.0\n"
     ]
    }
   ],
   "source": [
    "print(math.atan(0))"
   ]
  },
  {
   "cell_type": "code",
   "execution_count": 82,
   "id": "1179dd46-adef-48f5-ab5c-b72de411b64f",
   "metadata": {},
   "outputs": [
    {
     "name": "stdout",
     "output_type": "stream",
     "text": [
      "0.7853981633974483\n"
     ]
    }
   ],
   "source": [
    "print(math.atan2(1, 1)) "
   ]
  },
  {
   "cell_type": "code",
   "execution_count": 83,
   "id": "90f6218e-3897-476a-9b30-69fe3910ddad",
   "metadata": {},
   "outputs": [
    {
     "name": "stdout",
     "output_type": "stream",
     "text": [
      "-2.356194490192345\n"
     ]
    }
   ],
   "source": [
    "print(math.atan2(-1, -1)) "
   ]
  },
  {
   "cell_type": "code",
   "execution_count": 84,
   "id": "bae6e085-61a1-4682-8195-491c977bba04",
   "metadata": {},
   "outputs": [
    {
     "name": "stdout",
     "output_type": "stream",
     "text": [
      "-1.0\n"
     ]
    }
   ],
   "source": [
    "print(math.sin(-math.pi / 2)) "
   ]
  },
  {
   "cell_type": "code",
   "execution_count": 85,
   "id": "ccf4cdb0-740e-48cc-8343-064b98f24b19",
   "metadata": {},
   "outputs": [
    {
     "name": "stdout",
     "output_type": "stream",
     "text": [
      "-1.0\n"
     ]
    }
   ],
   "source": [
    "print(math.cos(-math.pi))"
   ]
  },
  {
   "cell_type": "code",
   "execution_count": 86,
   "id": "785f1ae0-4630-443d-b845-ff799a40bf75",
   "metadata": {},
   "outputs": [
    {
     "name": "stdout",
     "output_type": "stream",
     "text": [
      "-0.9999999999999999\n"
     ]
    }
   ],
   "source": [
    "print(math.tan(-math.pi / 4))"
   ]
  },
  {
   "cell_type": "code",
   "execution_count": 87,
   "id": "b8851a47-a0da-4c79-beeb-a4310f2ceb5b",
   "metadata": {},
   "outputs": [
    {
     "name": "stdout",
     "output_type": "stream",
     "text": [
      "Invalid domain\n"
     ]
    }
   ],
   "source": [
    "try:\n",
    "    print(math.asin(2))\n",
    "except ValueError:\n",
    "    print(\"Invalid domain\")"
   ]
  },
  {
   "cell_type": "code",
   "execution_count": 88,
   "id": "7c2d78be-310f-424d-ad92-9714f8bd13cb",
   "metadata": {},
   "outputs": [
    {
     "name": "stdout",
     "output_type": "stream",
     "text": [
      "Invalid domain\n"
     ]
    }
   ],
   "source": [
    "try:\n",
    "    print(math.acos(-2))\n",
    "except ValueError:\n",
    "    print(\"Invalid domain\")\n",
    "    "
   ]
  },
  {
   "cell_type": "code",
   "execution_count": 89,
   "id": "2b35e226-14ab-4d8f-ad8e-2f1a191fb722",
   "metadata": {},
   "outputs": [
    {
     "name": "stdout",
     "output_type": "stream",
     "text": [
      "-0.7853981633974483\n"
     ]
    }
   ],
   "source": [
    "print(math.atan(-1))"
   ]
  },
  {
   "cell_type": "code",
   "execution_count": 90,
   "id": "02f6cab7-7a97-4345-8053-30dccadb4c03",
   "metadata": {},
   "outputs": [
    {
     "name": "stdout",
     "output_type": "stream",
     "text": [
      "0.49999999999999994\n"
     ]
    }
   ],
   "source": [
    "print(math.sin(math.radians(30)))"
   ]
  },
  {
   "cell_type": "code",
   "execution_count": 91,
   "id": "d8c9be7e-c36c-4cdc-9866-f33b4e66fca4",
   "metadata": {},
   "outputs": [
    {
     "name": "stdout",
     "output_type": "stream",
     "text": [
      "0.5000000000000001\n"
     ]
    }
   ],
   "source": [
    "print(math.cos(math.radians(60))) "
   ]
  },
  {
   "cell_type": "code",
   "execution_count": 92,
   "id": "ad879992-eaf1-442a-b935-e1ef8468718e",
   "metadata": {},
   "outputs": [
    {
     "name": "stdout",
     "output_type": "stream",
     "text": [
      "0.9999999999999999\n"
     ]
    }
   ],
   "source": [
    "print(math.tan(math.radians(45)))"
   ]
  },
  {
   "cell_type": "code",
   "execution_count": 93,
   "id": "b268212e-a582-4a58-9b44-889ab1bbb24c",
   "metadata": {},
   "outputs": [
    {
     "name": "stdout",
     "output_type": "stream",
     "text": [
      "0.5235987755982988\n"
     ]
    }
   ],
   "source": [
    "x = math.pi / 6\n",
    "print(math.asin(math.sin(x))) "
   ]
  },
  {
   "cell_type": "code",
   "execution_count": 94,
   "id": "456029f3-71ff-46bc-82e9-ec2a9ef4d290",
   "metadata": {},
   "outputs": [
    {
     "name": "stdout",
     "output_type": "stream",
     "text": [
      "0.5235987755982987\n"
     ]
    }
   ],
   "source": [
    "print(math.acos(math.cos(x))) "
   ]
  },
  {
   "cell_type": "code",
   "execution_count": 95,
   "id": "7db208f5-bd76-4858-b7f2-18f13ba38154",
   "metadata": {},
   "outputs": [
    {
     "name": "stdout",
     "output_type": "stream",
     "text": [
      "0.5235987755982988\n"
     ]
    }
   ],
   "source": [
    "print(math.atan(math.tan(x)))"
   ]
  },
  {
   "cell_type": "code",
   "execution_count": 96,
   "id": "4052b568-0d77-4fc5-936c-07936f0fe334",
   "metadata": {},
   "outputs": [
    {
     "name": "stdout",
     "output_type": "stream",
     "text": [
      "0.0\n"
     ]
    }
   ],
   "source": [
    "print(math.atan2(0, 0))  "
   ]
  },
  {
   "cell_type": "code",
   "execution_count": 97,
   "id": "7153734c-3f4e-4c1e-a47d-e7a3a48213ce",
   "metadata": {},
   "outputs": [
    {
     "name": "stdout",
     "output_type": "stream",
     "text": [
      "2.356194490192345\n"
     ]
    }
   ],
   "source": [
    "print(math.atan2(1, -1))"
   ]
  },
  {
   "cell_type": "code",
   "execution_count": 98,
   "id": "dd32550d-6e9f-41b6-9432-5aefcd4fdeca",
   "metadata": {},
   "outputs": [],
   "source": [
    "#Angle Conversions & Constants "
   ]
  },
  {
   "cell_type": "code",
   "execution_count": 99,
   "id": "38e16679-7903-47e5-bee4-1e30a03f54c7",
   "metadata": {},
   "outputs": [
    {
     "name": "stdout",
     "output_type": "stream",
     "text": [
      "180.0\n"
     ]
    }
   ],
   "source": [
    "print(math.degrees(math.pi))  "
   ]
  },
  {
   "cell_type": "code",
   "execution_count": 100,
   "id": "c956e90b-5c88-4746-a012-b923ed643300",
   "metadata": {},
   "outputs": [
    {
     "name": "stdout",
     "output_type": "stream",
     "text": [
      "90.0\n"
     ]
    }
   ],
   "source": [
    "print(math.degrees(math.pi / 2)) "
   ]
  },
  {
   "cell_type": "code",
   "execution_count": 101,
   "id": "3980b0df-ceb4-40bb-a938-f60edd05fa59",
   "metadata": {},
   "outputs": [
    {
     "name": "stdout",
     "output_type": "stream",
     "text": [
      "360.0\n"
     ]
    }
   ],
   "source": [
    "print(math.degrees(2 * math.pi))"
   ]
  },
  {
   "cell_type": "code",
   "execution_count": 102,
   "id": "de188e39-aa23-4bde-9ab2-2467dcf3aa14",
   "metadata": {},
   "outputs": [
    {
     "name": "stdout",
     "output_type": "stream",
     "text": [
      "3.141592653589793\n"
     ]
    }
   ],
   "source": [
    "print(math.radians(180))"
   ]
  },
  {
   "cell_type": "code",
   "execution_count": 103,
   "id": "64a875d2-11b6-42c4-937c-c82f069b885f",
   "metadata": {},
   "outputs": [
    {
     "name": "stdout",
     "output_type": "stream",
     "text": [
      "1.5707963267948966\n"
     ]
    }
   ],
   "source": [
    "print(math.radians(90)) "
   ]
  },
  {
   "cell_type": "code",
   "execution_count": 104,
   "id": "74a054f1-aa3d-4540-bd18-907318cc7c48",
   "metadata": {},
   "outputs": [
    {
     "name": "stdout",
     "output_type": "stream",
     "text": [
      "6.283185307179586\n"
     ]
    }
   ],
   "source": [
    "print(math.radians(360))"
   ]
  },
  {
   "cell_type": "code",
   "execution_count": 105,
   "id": "bd5734ee-c117-4309-bf60-60a55509775b",
   "metadata": {},
   "outputs": [
    {
     "name": "stdout",
     "output_type": "stream",
     "text": [
      "5.0\n"
     ]
    }
   ],
   "source": [
    "print(math.hypot(3, 4)) "
   ]
  },
  {
   "cell_type": "code",
   "execution_count": 106,
   "id": "ac3dcb66-59ef-4f44-b6eb-587ff7917250",
   "metadata": {},
   "outputs": [
    {
     "name": "stdout",
     "output_type": "stream",
     "text": [
      "5.0\n"
     ]
    }
   ],
   "source": [
    "print(math.hypot(0, 5))"
   ]
  },
  {
   "cell_type": "code",
   "execution_count": 107,
   "id": "a87295ff-3307-4780-90ba-3c7ab5b35105",
   "metadata": {},
   "outputs": [
    {
     "name": "stdout",
     "output_type": "stream",
     "text": [
      "5.0\n"
     ]
    }
   ],
   "source": [
    "print(math.hypot(-3, 4))"
   ]
  },
  {
   "cell_type": "code",
   "execution_count": 108,
   "id": "bcdd8812-3632-4fb8-b3e6-b0aff2a7e93c",
   "metadata": {},
   "outputs": [
    {
     "name": "stdout",
     "output_type": "stream",
     "text": [
      "True\n"
     ]
    }
   ],
   "source": [
    "print(math.isclose(1.0001, 1.0002, rel_tol=1e-3)) "
   ]
  },
  {
   "cell_type": "code",
   "execution_count": 109,
   "id": "f67b467e-d359-46bc-b5ad-59df453f72a4",
   "metadata": {},
   "outputs": [
    {
     "name": "stdout",
     "output_type": "stream",
     "text": [
      "3.141592653589793\n"
     ]
    }
   ],
   "source": [
    "print(math.pi)  "
   ]
  },
  {
   "cell_type": "code",
   "execution_count": 110,
   "id": "553a8bb9-ab0a-4651-9db7-ff44272700ba",
   "metadata": {},
   "outputs": [
    {
     "name": "stdout",
     "output_type": "stream",
     "text": [
      "2.718281828459045\n"
     ]
    }
   ],
   "source": [
    "print(math.e)"
   ]
  },
  {
   "cell_type": "code",
   "execution_count": 111,
   "id": "178cd88f-25c9-4ad5-b30a-889964b9f19a",
   "metadata": {},
   "outputs": [
    {
     "name": "stdout",
     "output_type": "stream",
     "text": [
      "6.283185307179586\n"
     ]
    }
   ],
   "source": [
    "print(math.tau) "
   ]
  },
  {
   "cell_type": "code",
   "execution_count": 112,
   "id": "1ca99b34-f802-4a0e-bcd6-9f002e708dac",
   "metadata": {},
   "outputs": [
    {
     "name": "stdout",
     "output_type": "stream",
     "text": [
      "inf\n"
     ]
    }
   ],
   "source": [
    "print(math.inf) "
   ]
  },
  {
   "cell_type": "code",
   "execution_count": 113,
   "id": "29b3c70a-d73c-4096-a13b-4f66c61da977",
   "metadata": {},
   "outputs": [
    {
     "name": "stdout",
     "output_type": "stream",
     "text": [
      "nan\n"
     ]
    }
   ],
   "source": [
    "print(math.nan)"
   ]
  },
  {
   "cell_type": "code",
   "execution_count": 114,
   "id": "51fca5e4-17de-4c03-bac3-d23bdcd4db22",
   "metadata": {},
   "outputs": [
    {
     "name": "stdout",
     "output_type": "stream",
     "text": [
      "False\n"
     ]
    }
   ],
   "source": [
    "print(math.isfinite(math.nan)) "
   ]
  },
  {
   "cell_type": "code",
   "execution_count": 115,
   "id": "784d75f1-f205-449a-8437-7943669b4a6d",
   "metadata": {},
   "outputs": [
    {
     "name": "stdout",
     "output_type": "stream",
     "text": [
      "True\n"
     ]
    }
   ],
   "source": [
    "print(math.isinf(-math.inf)) "
   ]
  },
  {
   "cell_type": "code",
   "execution_count": 116,
   "id": "19805df1-3390-4c4d-a483-b5a354d464ae",
   "metadata": {},
   "outputs": [
    {
     "name": "stdout",
     "output_type": "stream",
     "text": [
      "False\n"
     ]
    }
   ],
   "source": [
    "print(math.isnan(0))"
   ]
  },
  {
   "cell_type": "code",
   "execution_count": 117,
   "id": "b2f8d51a-d719-477e-b081-13437f45cb94",
   "metadata": {},
   "outputs": [
    {
     "name": "stdout",
     "output_type": "stream",
     "text": [
      "28.274333882308138\n"
     ]
    }
   ],
   "source": [
    "r = 3\n",
    "print(math.pi * r**2)"
   ]
  },
  {
   "cell_type": "code",
   "execution_count": 118,
   "id": "e7d1979a-5c69-431e-9d31-b8c6e9cbf5c4",
   "metadata": {},
   "outputs": [
    {
     "name": "stdout",
     "output_type": "stream",
     "text": [
      "18.84955592153876\n"
     ]
    }
   ],
   "source": [
    "print(math.tau * r) "
   ]
  },
  {
   "cell_type": "code",
   "execution_count": 119,
   "id": "a4af1bb1-f8d2-42bb-aea7-62f1c72e52cf",
   "metadata": {},
   "outputs": [
    {
     "name": "stdout",
     "output_type": "stream",
     "text": [
      "59.99999999999999\n"
     ]
    }
   ],
   "source": [
    "deg = 60\n",
    "rad = math.radians(deg)\n",
    "print(math.degrees(rad))"
   ]
  },
  {
   "cell_type": "code",
   "execution_count": 120,
   "id": "470a0765-4740-4371-9548-09a7ed1d96b4",
   "metadata": {},
   "outputs": [
    {
     "name": "stdout",
     "output_type": "stream",
     "text": [
      "13.0\n"
     ]
    }
   ],
   "source": [
    "print(math.hypot(3, 4, 12))"
   ]
  },
  {
   "cell_type": "code",
   "execution_count": 121,
   "id": "b4549148-915e-4a55-a45d-862f64272909",
   "metadata": {},
   "outputs": [
    {
     "name": "stdout",
     "output_type": "stream",
     "text": [
      "1.5707963267948966\n"
     ]
    }
   ],
   "source": [
    "print(math.atan2(1, 0))"
   ]
  },
  {
   "cell_type": "code",
   "execution_count": 122,
   "id": "e9f3fe0e-b2d9-4825-adcf-5f285802c131",
   "metadata": {},
   "outputs": [
    {
     "name": "stdout",
     "output_type": "stream",
     "text": [
      "-1.5707963267948966\n"
     ]
    }
   ],
   "source": [
    "print(math.atan2(-1, 0))"
   ]
  },
  {
   "cell_type": "code",
   "execution_count": 123,
   "id": "70758242-8b57-4889-99e1-c1ecc5ada1e7",
   "metadata": {},
   "outputs": [
    {
     "name": "stdout",
     "output_type": "stream",
     "text": [
      "3.141592653589793\n"
     ]
    }
   ],
   "source": [
    "print(math.tau / 2)"
   ]
  },
  {
   "cell_type": "code",
   "execution_count": 124,
   "id": "0fd08deb-8dc1-49ad-b1ac-bb9675653b03",
   "metadata": {},
   "outputs": [
    {
     "name": "stdout",
     "output_type": "stream",
     "text": [
      "39.269908169872416\n"
     ]
    }
   ],
   "source": [
    "r = 5\n",
    "print((math.pi * r ** 2) / 2)"
   ]
  },
  {
   "cell_type": "code",
   "execution_count": 125,
   "id": "b6c1f3d5-d9cd-4274-a9c0-50ac5db4f0f9",
   "metadata": {},
   "outputs": [
    {
     "name": "stdout",
     "output_type": "stream",
     "text": [
      "True\n"
     ]
    }
   ],
   "source": [
    "print(math.isclose(1.001, 1.002, abs_tol=0.01)) "
   ]
  },
  {
   "cell_type": "code",
   "execution_count": 126,
   "id": "4ce073b4-d8eb-49e1-8e8b-64fd87799f91",
   "metadata": {},
   "outputs": [
    {
     "name": "stdout",
     "output_type": "stream",
     "text": [
      "7.3890560989306495\n"
     ]
    }
   ],
   "source": [
    "print(math.e ** 2)"
   ]
  },
  {
   "cell_type": "code",
   "execution_count": 127,
   "id": "9844cc86-7a02-4764-af67-7ccf4b8825e1",
   "metadata": {},
   "outputs": [
    {
     "name": "stdout",
     "output_type": "stream",
     "text": [
      "1.0\n"
     ]
    }
   ],
   "source": [
    "print(math.log(math.e))"
   ]
  },
  {
   "cell_type": "code",
   "execution_count": 128,
   "id": "b4b1d7d8-6e91-4392-ae4f-1dc206297cfa",
   "metadata": {},
   "outputs": [
    {
     "name": "stdout",
     "output_type": "stream",
     "text": [
      "0.0\n"
     ]
    }
   ],
   "source": [
    "print(math.radians(0))"
   ]
  },
  {
   "cell_type": "code",
   "execution_count": 129,
   "id": "6e9d45b6-d019-4b72-a1d8-24bd37ed7003",
   "metadata": {},
   "outputs": [
    {
     "name": "stdout",
     "output_type": "stream",
     "text": [
      "120\n"
     ]
    }
   ],
   "source": [
    "print(math.factorial(5)) "
   ]
  },
  {
   "cell_type": "code",
   "execution_count": 130,
   "id": "4cabb18a-dfe4-422b-b4dd-6b89dbd965ae",
   "metadata": {},
   "outputs": [
    {
     "name": "stdout",
     "output_type": "stream",
     "text": [
      "1\n"
     ]
    }
   ],
   "source": [
    "print(math.factorial(0))"
   ]
  },
  {
   "cell_type": "code",
   "execution_count": 131,
   "id": "595cef82-c2d1-4ae7-8207-80fac97bf607",
   "metadata": {},
   "outputs": [
    {
     "name": "stdout",
     "output_type": "stream",
     "text": [
      "1\n"
     ]
    }
   ],
   "source": [
    "print(math.factorial(1))"
   ]
  },
  {
   "cell_type": "code",
   "execution_count": 132,
   "id": "b20a0914-facd-4984-923a-73bd7d1352b0",
   "metadata": {},
   "outputs": [
    {
     "name": "stdout",
     "output_type": "stream",
     "text": [
      "10\n"
     ]
    }
   ],
   "source": [
    "print(math.comb(5, 2))"
   ]
  },
  {
   "cell_type": "code",
   "execution_count": 133,
   "id": "3bb7c517-ab68-41e7-abf2-ab9628bf15a2",
   "metadata": {},
   "outputs": [
    {
     "name": "stdout",
     "output_type": "stream",
     "text": [
      "1\n"
     ]
    }
   ],
   "source": [
    "print(math.comb(4, 4)) "
   ]
  },
  {
   "cell_type": "code",
   "execution_count": 134,
   "id": "9c4aa0b4-eb65-4575-8a83-cd2f222bc706",
   "metadata": {},
   "outputs": [
    {
     "name": "stdout",
     "output_type": "stream",
     "text": [
      "1\n"
     ]
    }
   ],
   "source": [
    "print(math.comb(6, 0))"
   ]
  },
  {
   "cell_type": "code",
   "execution_count": 135,
   "id": "6365c40a-d3ed-4dc5-835e-382284242f32",
   "metadata": {},
   "outputs": [
    {
     "name": "stdout",
     "output_type": "stream",
     "text": [
      "20\n"
     ]
    }
   ],
   "source": [
    "print(math.perm(5, 2)) "
   ]
  },
  {
   "cell_type": "code",
   "execution_count": 136,
   "id": "7052c562-0543-499b-8634-cd55a03262be",
   "metadata": {},
   "outputs": [
    {
     "name": "stdout",
     "output_type": "stream",
     "text": [
      "24\n"
     ]
    }
   ],
   "source": [
    "print(math.perm(4, 4)) "
   ]
  },
  {
   "cell_type": "code",
   "execution_count": 137,
   "id": "48a58dd1-4a02-4e27-bb29-7811d4bd9f64",
   "metadata": {},
   "outputs": [
    {
     "name": "stdout",
     "output_type": "stream",
     "text": [
      "1\n"
     ]
    }
   ],
   "source": [
    "print(math.perm(7, 0)) "
   ]
  },
  {
   "cell_type": "code",
   "execution_count": 138,
   "id": "ffdd9f6d-18eb-41d4-9869-c0e5e23ad31d",
   "metadata": {},
   "outputs": [
    {
     "name": "stdout",
     "output_type": "stream",
     "text": [
      "24.0\n"
     ]
    }
   ],
   "source": [
    "print(math.gamma(5))"
   ]
  },
  {
   "cell_type": "code",
   "execution_count": 139,
   "id": "8bbb59d7-a491-49e9-9139-ab231ebc683c",
   "metadata": {},
   "outputs": [
    {
     "name": "stdout",
     "output_type": "stream",
     "text": [
      "1.3293403881791372\n"
     ]
    }
   ],
   "source": [
    "\n",
    "print(math.gamma(2.5))"
   ]
  },
  {
   "cell_type": "code",
   "execution_count": 140,
   "id": "32e0fa0f-a589-4a3e-be94-d3530bea6fcf",
   "metadata": {},
   "outputs": [
    {
     "name": "stdout",
     "output_type": "stream",
     "text": [
      "3.178053830347945\n"
     ]
    }
   ],
   "source": [
    "print(math.lgamma(5))"
   ]
  },
  {
   "cell_type": "code",
   "execution_count": 141,
   "id": "6f137998-7d15-44c0-8b05-93e8177ebecc",
   "metadata": {},
   "outputs": [
    {
     "name": "stdout",
     "output_type": "stream",
     "text": [
      "0.0\n"
     ]
    }
   ],
   "source": [
    "print(math.lgamma(1)) "
   ]
  },
  {
   "cell_type": "code",
   "execution_count": 142,
   "id": "ccf08a18-8990-49e2-8163-0c65f37338c7",
   "metadata": {},
   "outputs": [
    {
     "name": "stdout",
     "output_type": "stream",
     "text": [
      "1.7724538509055159\n"
     ]
    }
   ],
   "source": [
    "print(math.gamma(0.5))\n"
   ]
  },
  {
   "cell_type": "code",
   "execution_count": 143,
   "id": "f84386e0-177a-4a9b-9a0d-10ba8b50396f",
   "metadata": {},
   "outputs": [
    {
     "name": "stdout",
     "output_type": "stream",
     "text": [
      "0.5723649429247004\n"
     ]
    }
   ],
   "source": [
    "print(math.lgamma(0.5))"
   ]
  },
  {
   "cell_type": "code",
   "execution_count": 144,
   "id": "37974f99-f6ef-47a0-acf6-3b64460fd9f4",
   "metadata": {},
   "outputs": [
    {
     "name": "stdout",
     "output_type": "stream",
     "text": [
      "3628800\n"
     ]
    }
   ],
   "source": [
    "print(math.factorial(10)) "
   ]
  },
  {
   "cell_type": "code",
   "execution_count": 145,
   "id": "6132b47a-b14d-40e7-bc74-2a2e786dfbb6",
   "metadata": {},
   "outputs": [
    {
     "name": "stdout",
     "output_type": "stream",
     "text": [
      "120\n"
     ]
    }
   ],
   "source": [
    "print(math.comb(10, 3))"
   ]
  },
  {
   "cell_type": "code",
   "execution_count": 146,
   "id": "bd88b17a-a3b6-41a0-871b-8e59031a815d",
   "metadata": {},
   "outputs": [
    {
     "name": "stdout",
     "output_type": "stream",
     "text": [
      "720\n"
     ]
    }
   ],
   "source": [
    "print(math.perm(10, 3))"
   ]
  },
  {
   "cell_type": "code",
   "execution_count": 147,
   "id": "3238bf3e-261b-4501-a8f7-f07304bce40c",
   "metadata": {},
   "outputs": [
    {
     "name": "stdout",
     "output_type": "stream",
     "text": [
      "1.0\n"
     ]
    }
   ],
   "source": [
    "print(math.gamma(1)) "
   ]
  },
  {
   "cell_type": "code",
   "execution_count": 148,
   "id": "c16635da-474a-42eb-bcb1-f4c5ab49bff6",
   "metadata": {},
   "outputs": [
    {
     "name": "stdout",
     "output_type": "stream",
     "text": [
      "1.0\n"
     ]
    }
   ],
   "source": [
    "print(math.gamma(2)) "
   ]
  },
  {
   "cell_type": "code",
   "execution_count": 149,
   "id": "c493a270-4a0b-4fbb-928f-c83a008cf687",
   "metadata": {},
   "outputs": [
    {
     "name": "stdout",
     "output_type": "stream",
     "text": [
      "2.0\n"
     ]
    }
   ],
   "source": [
    "print(math.gamma(3))"
   ]
  },
  {
   "cell_type": "code",
   "execution_count": 150,
   "id": "f993ed88-a6ee-43eb-bd3a-9896eea82820",
   "metadata": {},
   "outputs": [
    {
     "name": "stdout",
     "output_type": "stream",
     "text": [
      "6.0\n"
     ]
    }
   ],
   "source": [
    "print(math.gamma(4))"
   ]
  },
  {
   "cell_type": "code",
   "execution_count": 151,
   "id": "7a3ff97a-9b02-4899-bcc0-1ed7e6530fe7",
   "metadata": {},
   "outputs": [
    {
     "name": "stdout",
     "output_type": "stream",
     "text": [
      "0.0\n"
     ]
    }
   ],
   "source": [
    "print(math.lgamma(2)) "
   ]
  },
  {
   "cell_type": "code",
   "execution_count": 152,
   "id": "0b00807f-e055-42ae-a328-3b17f985983d",
   "metadata": {},
   "outputs": [
    {
     "name": "stdout",
     "output_type": "stream",
     "text": [
      "184756\n"
     ]
    }
   ],
   "source": [
    "print(math.comb(20, 10))  "
   ]
  },
  {
   "cell_type": "code",
   "execution_count": 153,
   "id": "9903a4b1-4a72-4441-b847-daffb4ad2d67",
   "metadata": {},
   "outputs": [
    {
     "name": "stdout",
     "output_type": "stream",
     "text": [
      "6720\n"
     ]
    }
   ],
   "source": [
    "print(math.perm(8, 5))"
   ]
  },
  {
   "cell_type": "code",
   "execution_count": 154,
   "id": "edd0a8ff-b0ab-4fd4-85ce-71e1554bdbed",
   "metadata": {},
   "outputs": [
    {
     "name": "stdout",
     "output_type": "stream",
     "text": [
      "11.63\n"
     ]
    }
   ],
   "source": [
    "print(round(math.gamma(4.5), 2)) "
   ]
  },
  {
   "cell_type": "code",
   "execution_count": 155,
   "id": "58521f74-7114-431e-be5d-ce5400a05f3e",
   "metadata": {},
   "outputs": [
    {
     "name": "stdout",
     "output_type": "stream",
     "text": [
      "2.45\n"
     ]
    }
   ],
   "source": [
    "print(round(math.lgamma(4.5), 2)) "
   ]
  },
  {
   "cell_type": "code",
   "execution_count": 156,
   "id": "da969d43-3453-4111-91d9-cefb7536a271",
   "metadata": {},
   "outputs": [
    {
     "name": "stdout",
     "output_type": "stream",
     "text": [
      "Negative factorial error\n"
     ]
    }
   ],
   "source": [
    "try:\n",
    "    print(math.factorial(-5))\n",
    "except ValueError:\n",
    "    print(\"Negative factorial error\")"
   ]
  },
  {
   "cell_type": "code",
   "execution_count": 157,
   "id": "1585ed8f-635a-4667-b14f-645d452adde1",
   "metadata": {},
   "outputs": [
    {
     "name": "stdout",
     "output_type": "stream",
     "text": [
      "0\n"
     ]
    }
   ],
   "source": [
    "try:\n",
    "    print(math.comb(4, 5))\n",
    "except ValueError:\n",
    "    print(\"k > n error\")\n"
   ]
  },
  {
   "cell_type": "code",
   "execution_count": 158,
   "id": "1291a9bc-7db3-4640-963f-a698c72f1261",
   "metadata": {},
   "outputs": [
    {
     "name": "stdout",
     "output_type": "stream",
     "text": [
      "0\n"
     ]
    }
   ],
   "source": [
    "try:\n",
    "    print(math.perm(4, 5))\n",
    "except ValueError:\n",
    "    print(\"k > n error\")\n"
   ]
  },
  {
   "cell_type": "code",
   "execution_count": 159,
   "id": "3b75eba1-792d-419a-905f-6d38cb55d114",
   "metadata": {},
   "outputs": [],
   "source": [
    "#Advanced, Nested, and Composed Usage "
   ]
  },
  {
   "cell_type": "code",
   "execution_count": 160,
   "id": "91e8a4c7-1db6-4fb7-8716-60d9ee5987ca",
   "metadata": {},
   "outputs": [
    {
     "name": "stdout",
     "output_type": "stream",
     "text": [
      "1.0\n"
     ]
    }
   ],
   "source": [
    "x = math.pi / 4\n",
    "print(round(math.sin(x)**2 + math.cos(x)**2, 5))  # 1.0\n"
   ]
  },
  {
   "cell_type": "code",
   "execution_count": 161,
   "id": "bfa1a2cb-fb48-43db-a4ef-bad0e1d42da2",
   "metadata": {},
   "outputs": [
    {
     "name": "stdout",
     "output_type": "stream",
     "text": [
      "2.0\n"
     ]
    }
   ],
   "source": [
    "a, b, c = 1, -3, 2\n",
    "root1 = (-b + math.sqrt(b**2 - 4*a*c)) / (2*a)\n",
    "print(root1)"
   ]
  },
  {
   "cell_type": "code",
   "execution_count": 162,
   "id": "aa6af22e-1d6c-4460-aff5-ef4ef4288ad1",
   "metadata": {},
   "outputs": [
    {
     "name": "stdout",
     "output_type": "stream",
     "text": [
      "5.0\n"
     ]
    }
   ],
   "source": [
    "v = (3, 4)\n",
    "print(math.hypot(*v))  # 5.0"
   ]
  },
  {
   "cell_type": "code",
   "execution_count": 163,
   "id": "5f07ff30-f89e-4657-a1fe-e91c6f645de4",
   "metadata": {},
   "outputs": [
    {
     "name": "stdout",
     "output_type": "stream",
     "text": [
      "75.0\n"
     ]
    }
   ],
   "source": [
    "deg = 75\n",
    "print(math.degrees(math.radians(deg)))  # 75.0"
   ]
  },
  {
   "cell_type": "code",
   "execution_count": 164,
   "id": "52164088-2f92-4092-bddf-bebdebf42a77",
   "metadata": {},
   "outputs": [
    {
     "name": "stdout",
     "output_type": "stream",
     "text": [
      "36.86989764584402\n"
     ]
    }
   ],
   "source": [
    "dx = 4\n",
    "dy = 3\n",
    "print(math.degrees(math.atan2(dy, dx)))  # 36.87..."
   ]
  },
  {
   "cell_type": "code",
   "execution_count": 165,
   "id": "983544a3-5b23-496b-bc0f-627b69801bbd",
   "metadata": {},
   "outputs": [
    {
     "name": "stdout",
     "output_type": "stream",
     "text": [
      "0.8175744761936437\n"
     ]
    }
   ],
   "source": [
    "x = 1.5\n",
    "print(1 / (1 + math.exp(-x)))"
   ]
  },
  {
   "cell_type": "code",
   "execution_count": 166,
   "id": "e3efdeec-7ed5-4163-a461-f5323f3ed571",
   "metadata": {},
   "outputs": [
    {
     "name": "stdout",
     "output_type": "stream",
     "text": [
      "2.0\n"
     ]
    }
   ],
   "source": [
    "a, b = 100, 10\n",
    "print(math.log(a) / math.log(b))  # log base 10"
   ]
  },
  {
   "cell_type": "code",
   "execution_count": 167,
   "id": "650b1712-2857-48b7-b80f-308827c0a33f",
   "metadata": {},
   "outputs": [
    {
     "name": "stdout",
     "output_type": "stream",
     "text": [
      "12.0\n"
     ]
    }
   ],
   "source": [
    "a, b, c = 5, 5, 6\n",
    "s = (a + b + c) / 2\n",
    "area = math.sqrt(s * (s - a) * (s - b) * (s - c))\n",
    "print(area)"
   ]
  },
  {
   "cell_type": "code",
   "execution_count": 168,
   "id": "7af39afc-f067-44e0-87d2-ffb275ff44c6",
   "metadata": {},
   "outputs": [
    {
     "name": "stdout",
     "output_type": "stream",
     "text": [
      "60.653065971263345\n"
     ]
    }
   ],
   "source": [
    "A0, k, t = 100, 0.1, 5\n",
    "print(A0 * math.exp(-k * t))"
   ]
  },
  {
   "cell_type": "code",
   "execution_count": 169,
   "id": "cfb35ed1-08dc-495a-b407-6c46f5b03de6",
   "metadata": {},
   "outputs": [
    {
     "name": "stdout",
     "output_type": "stream",
     "text": [
      "1647.00949769028\n"
     ]
    }
   ],
   "source": [
    "P, r, n, t = 1000, 0.05, 12, 10\n",
    "print(P * math.pow(1 + r/n, n*t))"
   ]
  },
  {
   "cell_type": "code",
   "execution_count": 170,
   "id": "05cb90bc-8ef1-4a46-9482-91b48eea56a7",
   "metadata": {},
   "outputs": [
    {
     "name": "stdout",
     "output_type": "stream",
     "text": [
      "0.49999999999999994\n"
     ]
    }
   ],
   "source": [
    "print(math.sin(math.radians(30)))  # 0.5"
   ]
  },
  {
   "cell_type": "code",
   "execution_count": 171,
   "id": "43b52692-8304-4b6f-9dff-8b53cd5c18fc",
   "metadata": {},
   "outputs": [
    {
     "name": "stdout",
     "output_type": "stream",
     "text": [
      "-2.356194490192345\n"
     ]
    }
   ],
   "source": [
    "print(math.atan2(-3, -3))"
   ]
  },
  {
   "cell_type": "code",
   "execution_count": 172,
   "id": "b6e13ecc-10cf-4de2-999b-845030aa1312",
   "metadata": {},
   "outputs": [
    {
     "name": "stdout",
     "output_type": "stream",
     "text": [
      "13.0\n"
     ]
    }
   ],
   "source": [
    "print(math.hypot(3, 4, 12)) "
   ]
  },
  {
   "cell_type": "code",
   "execution_count": 173,
   "id": "80d0f977-c7c3-48cd-820b-9afa21e90ebe",
   "metadata": {},
   "outputs": [
    {
     "name": "stdout",
     "output_type": "stream",
     "text": [
      "3.2831853071795862\n"
     ]
    }
   ],
   "source": [
    "angle = -3\n",
    "print((angle + 2 * math.pi) % (2 * math.pi))"
   ]
  },
  {
   "cell_type": "code",
   "execution_count": 174,
   "id": "013d5357-e1d7-47b4-a0bc-791f8e1a352c",
   "metadata": {},
   "outputs": [
    {
     "name": "stdout",
     "output_type": "stream",
     "text": [
      "0.49999999999999994\n"
     ]
    }
   ],
   "source": [
    "d = 30\n",
    "r = math.radians(d)\n",
    "s = math.sin(r)\n",
    "print(s)"
   ]
  },
  {
   "cell_type": "code",
   "execution_count": 175,
   "id": "62305aa6-e18c-4d96-a632-f3488a663e0c",
   "metadata": {},
   "outputs": [
    {
     "name": "stdout",
     "output_type": "stream",
     "text": [
      "0.6830127018922194\n"
     ]
    }
   ],
   "source": [
    "x = math.pi / 3\n",
    "print((math.sin(x) + math.cos(x)) / 2)\n"
   ]
  },
  {
   "cell_type": "code",
   "execution_count": 176,
   "id": "6963c4f0-4961-430a-8d96-1ba7dd46f181",
   "metadata": {},
   "outputs": [
    {
     "name": "stdout",
     "output_type": "stream",
     "text": [
      "3.0 0.75\n"
     ]
    }
   ],
   "source": [
    "decimal, whole = math.modf(3.75)\n",
    "print(whole, decimal)"
   ]
  },
  {
   "cell_type": "code",
   "execution_count": 177,
   "id": "77bbad52-e402-4c5d-9ac2-02a8bd9abfa8",
   "metadata": {},
   "outputs": [
    {
     "name": "stdout",
     "output_type": "stream",
     "text": [
      "9.999999999500001e-11\n"
     ]
    }
   ],
   "source": [
    "x = 1e-10\n",
    "print(math.log1p(x))"
   ]
  },
  {
   "cell_type": "code",
   "execution_count": 178,
   "id": "ec421709-d386-4e2f-a9cc-598557628de6",
   "metadata": {},
   "outputs": [
    {
     "name": "stdout",
     "output_type": "stream",
     "text": [
      "1.00000000005e-10\n"
     ]
    }
   ],
   "source": [
    "print(math.expm1(x))"
   ]
  },
  {
   "cell_type": "code",
   "execution_count": 179,
   "id": "5d6883ce-ab3e-41fb-9c5f-390ed01f4e19",
   "metadata": {},
   "outputs": [
    {
     "name": "stdout",
     "output_type": "stream",
     "text": [
      "4.8\n"
     ]
    }
   ],
   "source": [
    "a, b = 4, 6\n",
    "print(2 * a * b / (a + b))"
   ]
  },
  {
   "cell_type": "code",
   "execution_count": 180,
   "id": "e1c35114-c2d5-4691-a3bd-b5ffa94f20ef",
   "metadata": {},
   "outputs": [
    {
     "name": "stdout",
     "output_type": "stream",
     "text": [
      "6.0\n"
     ]
    }
   ],
   "source": [
    "a, b = 4, 9\n",
    "print(math.sqrt(a * b))"
   ]
  },
  {
   "cell_type": "code",
   "execution_count": 181,
   "id": "526cfe6d-d2f7-4960-a649-8c23123515b7",
   "metadata": {},
   "outputs": [
    {
     "name": "stdout",
     "output_type": "stream",
     "text": [
      "10.471975511965976\n"
     ]
    }
   ],
   "source": [
    "r = 10\n",
    "theta = math.radians(60)\n",
    "print(r * theta)"
   ]
  },
  {
   "cell_type": "code",
   "execution_count": 182,
   "id": "392c2514-36c2-4081-b2da-b2cf767d8cf0",
   "metadata": {},
   "outputs": [
    {
     "name": "stdout",
     "output_type": "stream",
     "text": [
      "52.35987755982988\n"
     ]
    }
   ],
   "source": [
    "print(0.5 * r**2 * theta)\n"
   ]
  },
  {
   "cell_type": "code",
   "execution_count": 183,
   "id": "93782b02-0092-4a02-9423-361a8e428394",
   "metadata": {},
   "outputs": [
    {
     "name": "stdout",
     "output_type": "stream",
     "text": [
      "-2.4492935982947064e-16\n",
      "1.0\n"
     ]
    }
   ],
   "source": [
    "print(math.sin(math.tau))  # ~0\n",
    "print(math.cos(math.tau))  # ~1"
   ]
  },
  {
   "cell_type": "code",
   "execution_count": 184,
   "id": "15c10516-f8aa-49bc-81ad-6343e8328a0c",
   "metadata": {},
   "outputs": [
    {
     "name": "stdout",
     "output_type": "stream",
     "text": [
      "Divide by zero!\n"
     ]
    }
   ],
   "source": [
    "a, b = 10, 0\n",
    "try:\n",
    "    result = a / b\n",
    "    print(math.isfinite(result))\n",
    "except ZeroDivisionError:\n",
    "    print(\"Divide by zero!\")"
   ]
  },
  {
   "cell_type": "code",
   "execution_count": 185,
   "id": "d89a9f8c-de48-4437-9738-d3657ec0ae05",
   "metadata": {},
   "outputs": [
    {
     "name": "stdout",
     "output_type": "stream",
     "text": [
      "0.2\n"
     ]
    }
   ],
   "source": [
    "x, min_x, max_x = 7, 5, 15\n",
    "print((x - min_x) / (max_x - min_x))\n"
   ]
  },
  {
   "cell_type": "code",
   "execution_count": 186,
   "id": "3aeec02f-42a5-4a06-9092-72e1af12df74",
   "metadata": {},
   "outputs": [
    {
     "name": "stdout",
     "output_type": "stream",
     "text": [
      "20.0\n"
     ]
    }
   ],
   "source": [
    "print(((x - min_x) / (max_x - min_x)) * 100)"
   ]
  },
  {
   "cell_type": "code",
   "execution_count": 187,
   "id": "f8066bc7-49dd-4063-9e2f-b8ed2ea89327",
   "metadata": {},
   "outputs": [
    {
     "name": "stdout",
     "output_type": "stream",
     "text": [
      "2.5000000000000004 4.330127018922193\n"
     ]
    }
   ],
   "source": [
    "r, theta = 5, math.radians(60)\n",
    "x = r * math.cos(theta)\n",
    "y = r * math.sin(theta)\n",
    "print(x, y)"
   ]
  },
  {
   "cell_type": "code",
   "execution_count": 188,
   "id": "8a3eb95a-2451-4e21-8139-d378d7e53471",
   "metadata": {},
   "outputs": [
    {
     "name": "stdout",
     "output_type": "stream",
     "text": [
      "5.0 59.99999999999999\n"
     ]
    }
   ],
   "source": [
    "r = math.hypot(x, y)\n",
    "theta = math.degrees(math.atan2(y, x))\n",
    "print(r, theta)\n"
   ]
  },
  {
   "cell_type": "code",
   "execution_count": 189,
   "id": "fff0d6c8-56a4-4816-93fc-4d516dd82fdb",
   "metadata": {},
   "outputs": [
    {
     "name": "stdout",
     "output_type": "stream",
     "text": [
      "5.0\n"
     ]
    }
   ],
   "source": [
    "a, b, angle = 3, 4, math.radians(90)\n",
    "c = math.sqrt(a**2 + b**2 - 2*a*b*math.cos(angle))\n",
    "print(c)  # Should be 5"
   ]
  },
  {
   "cell_type": "code",
   "execution_count": null,
   "id": "583f2de9-bf0d-45e1-8939-ee5b8c46fb47",
   "metadata": {},
   "outputs": [],
   "source": []
  }
 ],
 "metadata": {
  "kernelspec": {
   "display_name": "Python 3 (ipykernel)",
   "language": "python",
   "name": "python3"
  },
  "language_info": {
   "codemirror_mode": {
    "name": "ipython",
    "version": 3
   },
   "file_extension": ".py",
   "mimetype": "text/x-python",
   "name": "python",
   "nbconvert_exporter": "python",
   "pygments_lexer": "ipython3",
   "version": "3.12.11"
  }
 },
 "nbformat": 4,
 "nbformat_minor": 5
}
