{
 "cells": [
  {
   "cell_type": "code",
   "execution_count": 1,
   "id": "81d27aac-f547-4f1a-b83c-1d7fd2a67150",
   "metadata": {},
   "outputs": [],
   "source": [
    "def fib(n):\n",
    "    if n <= 1:\n",
    "        return n\n",
    "    else:\n",
    "        return fib(n - 1) + fib(n - 2)\n"
   ]
  },
  {
   "cell_type": "code",
   "execution_count": 2,
   "id": "f637489f-69cd-464d-a24f-87ee1586a4e7",
   "metadata": {},
   "outputs": [
    {
     "name": "stdout",
     "output_type": "stream",
     "text": [
      "0\n",
      "1\n"
     ]
    }
   ],
   "source": [
    "print(fib(0))  # Expected output: 0\n",
    "print(fib(1))  # Expected output: 1\n"
   ]
  },
  {
   "cell_type": "code",
   "execution_count": 3,
   "id": "d6e3b808-87dd-4aae-918c-91cde4dda6fe",
   "metadata": {},
   "outputs": [
    {
     "name": "stdout",
     "output_type": "stream",
     "text": [
      "21\n"
     ]
    }
   ],
   "source": [
    "print(fib(8))  # Expected output: 21\n"
   ]
  },
  {
   "cell_type": "code",
   "execution_count": 4,
   "id": "ca04801d-53d4-4050-8489-accb16313d80",
   "metadata": {},
   "outputs": [
    {
     "name": "stdout",
     "output_type": "stream",
     "text": [
      "[0, 1, 1, 2, 3, 5, 8, 13, 21]\n"
     ]
    }
   ],
   "source": [
    "def fib_list(n):\n",
    "    return [fib(i) for i in range(n + 1)]\n",
    "\n",
    "print(fib_list(8))  # Expected output: [0, 1, 1, 2, 3, 5, 8, 13, 21]\n"
   ]
  },
  {
   "cell_type": "code",
   "execution_count": 5,
   "id": "4b1935c7-c680-4b06-bd57-c0627481be33",
   "metadata": {},
   "outputs": [
    {
     "name": "stdout",
     "output_type": "stream",
     "text": [
      "[0, 1, 1, 2, 3, 5, 8, 13, 21]\n"
     ]
    }
   ],
   "source": [
    "def fib_iterative(n):\n",
    "    a, b = 0, 1\n",
    "    seq = []\n",
    "    for _ in range(n + 1):\n",
    "        seq.append(a)\n",
    "        a, b = b, a + b\n",
    "    return seq\n",
    "\n",
    "print(fib_iterative(8))  # [0, 1, 1, 2, 3, 5, 8, 13, 21]\n"
   ]
  },
  {
   "cell_type": "code",
   "execution_count": 6,
   "id": "85ce445f-c2e5-4d59-8427-d3e67f0c8928",
   "metadata": {},
   "outputs": [
    {
     "name": "stdout",
     "output_type": "stream",
     "text": [
      "Recursive fib(30) = 832040\n",
      "Time taken (recursive): 0.30800914764404297\n",
      "Iterative fib_list(30) = 832040\n",
      "Time taken (iterative): 0.0\n"
     ]
    }
   ],
   "source": [
    "import time\n",
    "\n",
    "n = 30\n",
    "\n",
    "start = time.time()\n",
    "print(f\"Recursive fib({n}) =\", fib(n))\n",
    "print(\"Time taken (recursive):\", time.time() - start)\n",
    "\n",
    "start = time.time()\n",
    "print(f\"Iterative fib_list({n}) =\", fib_iterative(n)[n])\n",
    "print(\"Time taken (iterative):\", time.time() - start)\n"
   ]
  },
  {
   "cell_type": "code",
   "execution_count": null,
   "id": "746af93f-87a8-4b78-bce0-539940c96691",
   "metadata": {},
   "outputs": [],
   "source": []
  }
 ],
 "metadata": {
  "kernelspec": {
   "display_name": "Python 3 (ipykernel)",
   "language": "python",
   "name": "python3"
  },
  "language_info": {
   "codemirror_mode": {
    "name": "ipython",
    "version": 3
   },
   "file_extension": ".py",
   "mimetype": "text/x-python",
   "name": "python",
   "nbconvert_exporter": "python",
   "pygments_lexer": "ipython3",
   "version": "3.12.11"
  }
 },
 "nbformat": 4,
 "nbformat_minor": 5
}
