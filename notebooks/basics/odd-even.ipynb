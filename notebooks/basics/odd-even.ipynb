{
 "cells": [
  {
   "cell_type": "code",
   "execution_count": 1,
   "id": "a19dbdb1-f1ab-4ab3-b125-24dc84aff5dc",
   "metadata": {},
   "outputs": [],
   "source": [
    "def check_odd_or_even(input_number):\n",
    "\n",
    "    if input_number % 2 == 0:\n",
    "        return f\"{input_number} is Even\"\n",
    "\n",
    "    return f\"{input_number} is Odd\""
   ]
  },
  {
   "cell_type": "code",
   "execution_count": 2,
   "id": "93e497f2-9997-4f43-a5cd-bd13c98a598e",
   "metadata": {},
   "outputs": [
    {
     "data": {
      "text/plain": [
       "'7 is Odd'"
      ]
     },
     "execution_count": 2,
     "metadata": {},
     "output_type": "execute_result"
    }
   ],
   "source": [
    "check_odd_or_even(7)"
   ]
  },
  {
   "cell_type": "code",
   "execution_count": 3,
   "id": "cb80476a-80bf-435f-898a-cedaeecde2a1",
   "metadata": {},
   "outputs": [
    {
     "data": {
      "text/plain": [
       "'8 is Even'"
      ]
     },
     "execution_count": 3,
     "metadata": {},
     "output_type": "execute_result"
    }
   ],
   "source": [
    "check_odd_or_even(8)"
   ]
  },
  {
   "cell_type": "code",
   "execution_count": 4,
   "id": "7b74b341-dde1-4f5c-8e56-9fdadd03efbe",
   "metadata": {},
   "outputs": [
    {
     "data": {
      "text/plain": [
       "'0 is Even'"
      ]
     },
     "execution_count": 4,
     "metadata": {},
     "output_type": "execute_result"
    }
   ],
   "source": [
    "check_odd_or_even(0)"
   ]
  },
  {
   "cell_type": "code",
   "execution_count": 6,
   "id": "efdb4ca8-4c89-4fc8-939e-648115474edf",
   "metadata": {},
   "outputs": [
    {
     "data": {
      "text/plain": [
       "'-1 is Odd'"
      ]
     },
     "execution_count": 6,
     "metadata": {},
     "output_type": "execute_result"
    }
   ],
   "source": [
    "check_odd_or_even(-1)"
   ]
  },
  {
   "cell_type": "code",
   "execution_count": null,
   "id": "cd7bc43d-d7ed-4835-8112-022a3f8e4a1b",
   "metadata": {},
   "outputs": [],
   "source": []
  }
 ],
 "metadata": {
  "kernelspec": {
   "display_name": "Python 3 (ipykernel)",
   "language": "python",
   "name": "python3"
  },
  "language_info": {
   "codemirror_mode": {
    "name": "ipython",
    "version": 3
   },
   "file_extension": ".py",
   "mimetype": "text/x-python",
   "name": "python",
   "nbconvert_exporter": "python",
   "pygments_lexer": "ipython3",
   "version": "3.12.11"
  }
 },
 "nbformat": 4,
 "nbformat_minor": 5
}
