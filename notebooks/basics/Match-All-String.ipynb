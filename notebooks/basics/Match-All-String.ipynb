{
 "cells": [
  {
   "cell_type": "code",
   "execution_count": 1,
   "id": "742f5ad3-a168-4bcd-a4ac-0e695024077c",
   "metadata": {},
   "outputs": [],
   "source": [
    "one = \"Toronto is nice\""
   ]
  },
  {
   "cell_type": "code",
   "execution_count": 2,
   "id": "aad88adb-fab1-4b5c-a68b-af88a218e1b8",
   "metadata": {},
   "outputs": [
    {
     "data": {
      "text/plain": [
       "'Toronto is nice'"
      ]
     },
     "execution_count": 2,
     "metadata": {},
     "output_type": "execute_result"
    }
   ],
   "source": [
    "one"
   ]
  },
  {
   "cell_type": "code",
   "execution_count": 3,
   "id": "708053b5-107d-4d08-a573-6447bb04c351",
   "metadata": {},
   "outputs": [],
   "source": [
    "one_array = one.split(\" \")"
   ]
  },
  {
   "cell_type": "code",
   "execution_count": 4,
   "id": "cdee8077-e3a2-4332-b21c-e4bc029a1cf9",
   "metadata": {},
   "outputs": [],
   "source": [
    "two = \"It is nice to be in Toronto\""
   ]
  },
  {
   "cell_type": "code",
   "execution_count": 5,
   "id": "ba29fc9f-54b8-411c-a0fd-0bdd0b963c42",
   "metadata": {},
   "outputs": [],
   "source": [
    "two_array = two.split(\" \")"
   ]
  },
  {
   "cell_type": "code",
   "execution_count": 6,
   "id": "ec68303a-9d8b-49b0-84a2-790c551c202a",
   "metadata": {},
   "outputs": [
    {
     "data": {
      "text/plain": [
       "['It', 'is', 'nice', 'to', 'be', 'in', 'Toronto']"
      ]
     },
     "execution_count": 6,
     "metadata": {},
     "output_type": "execute_result"
    }
   ],
   "source": [
    "two_array\n"
   ]
  },
  {
   "cell_type": "code",
   "execution_count": 7,
   "id": "ab277d4b-5a12-4122-bf0a-16bfc75e55d6",
   "metadata": {},
   "outputs": [
    {
     "data": {
      "text/plain": [
       "True"
      ]
     },
     "execution_count": 7,
     "metadata": {},
     "output_type": "execute_result"
    }
   ],
   "source": [
    "all(x in two for x in one_array)"
   ]
  },
  {
   "cell_type": "code",
   "execution_count": null,
   "id": "c7de2d94-d7ee-4140-855d-2cfacf4db4bd",
   "metadata": {},
   "outputs": [],
   "source": []
  }
 ],
 "metadata": {
  "kernelspec": {
   "display_name": "Python 3 (ipykernel)",
   "language": "python",
   "name": "python3"
  },
  "language_info": {
   "codemirror_mode": {
    "name": "ipython",
    "version": 3
   },
   "file_extension": ".py",
   "mimetype": "text/x-python",
   "name": "python",
   "nbconvert_exporter": "python",
   "pygments_lexer": "ipython3",
   "version": "3.12.11"
  }
 },
 "nbformat": 4,
 "nbformat_minor": 5
}
