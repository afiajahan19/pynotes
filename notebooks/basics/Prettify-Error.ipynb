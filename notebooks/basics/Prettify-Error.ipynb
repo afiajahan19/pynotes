{
 "cells": [
  {
   "cell_type": "code",
   "execution_count": 1,
   "id": "a8d4f0be-8f94-4bf0-b4d2-3e7dbe7fa9b3",
   "metadata": {},
   "outputs": [],
   "source": [
    "error_string = \"\"\"\n",
    "{\n",
    "    \"error\": {\n",
    "        \"error_code\": 1002,\n",
    "        \"error_message\": \"Unspecified Error\",\n",
    "        \"details\": \"Unexpected error: ['Traceback (most recent call last):', '  File \\\"/home/rajaraman/rprojects/ml-api-work/ml-api-raja/services/mlapi/app/main.py\\\", line 228, in post_predict_classic_joblib_api', '    result_obj = await label_generator.match_with_multi(', '                 ^^^^^^^^^^^^^^^^^^^^^^^^^^^^^^^^^^^^^^^', '  File \\\"/home/rajaraman/rprojects/ml-api-work/ml-api-raja/services/mlapi/app/label_generator.py\\\", line 770, in match_with_multi', '    feature_scores, overall_score = get_match_scores(', '                                    ^^^^^^^^^^^^^^^^^', '  File \\\"/home/rajaraman/rprojects/ml-api-work/ml-api-raja/services/mlapi/app/label_generator.py\\\", line 559, in get_match_scores', '    overall_score = get_average_feature_score(', '                    ^^^^^^^^^^^^^^^^^^^^^^^^^^', '  File \\\"/home/rajaraman/rprojects/ml-api-work/ml-api-raja/services/mlapi/app/label_generator.py\\\", line 332, in get_average_feature_score', '    weighted_scores = get_feature_name_score_pair(', '                      ^^^^^^^^^^^^^^^^^^^^^^^^^^^^', '  File \\\"/home/rajaraman/rprojects/ml-api-work/ml-api-raja/services/mlapi/app/label_generator.py\\\", line 292, in get_feature_name_score_pair', '    if feature_prefix in individual_algo_feature_score_map.keys():', '       ^^^^^^^^^^^^^^', \\\"UnboundLocalError: cannot access local variable 'feature_prefix' where it is not associated with a value\\\"]\"\n",
    "    }\n",
    "}\n",
    "\"\"\""
   ]
  },
  {
   "cell_type": "code",
   "execution_count": 2,
   "id": "54c59260-2a40-4dfd-95f9-5b5d708dcab3",
   "metadata": {},
   "outputs": [
    {
     "data": {
      "text/plain": [
       "'\\n{\\n    \"error\": {\\n        \"error_code\": 1002,\\n        \"error_message\": \"Unspecified Error\",\\n        \"details\": \"Unexpected error: [\\'Traceback (most recent call last):\\', \\'  File \"/home/rajaraman/rprojects/ml-api-work/ml-api-raja/services/mlapi/app/main.py\", line 228, in post_predict_classic_joblib_api\\', \\'    result_obj = await label_generator.match_with_multi(\\', \\'                 ^^^^^^^^^^^^^^^^^^^^^^^^^^^^^^^^^^^^^^^\\', \\'  File \"/home/rajaraman/rprojects/ml-api-work/ml-api-raja/services/mlapi/app/label_generator.py\", line 770, in match_with_multi\\', \\'    feature_scores, overall_score = get_match_scores(\\', \\'                                    ^^^^^^^^^^^^^^^^^\\', \\'  File \"/home/rajaraman/rprojects/ml-api-work/ml-api-raja/services/mlapi/app/label_generator.py\", line 559, in get_match_scores\\', \\'    overall_score = get_average_feature_score(\\', \\'                    ^^^^^^^^^^^^^^^^^^^^^^^^^^\\', \\'  File \"/home/rajaraman/rprojects/ml-api-work/ml-api-raja/services/mlapi/app/label_generator.py\", line 332, in get_average_feature_score\\', \\'    weighted_scores = get_feature_name_score_pair(\\', \\'                      ^^^^^^^^^^^^^^^^^^^^^^^^^^^^\\', \\'  File \"/home/rajaraman/rprojects/ml-api-work/ml-api-raja/services/mlapi/app/label_generator.py\", line 292, in get_feature_name_score_pair\\', \\'    if feature_prefix in individual_algo_feature_score_map.keys():\\', \\'       ^^^^^^^^^^^^^^\\', \"UnboundLocalError: cannot access local variable \\'feature_prefix\\' where it is not associated with a value\"]\"\\n    }\\n}\\n'"
      ]
     },
     "execution_count": 2,
     "metadata": {},
     "output_type": "execute_result"
    }
   ],
   "source": [
    "error_string"
   ]
  },
  {
   "cell_type": "code",
   "execution_count": 3,
   "id": "b674704d-afe0-4cbc-b97b-d70a7b352058",
   "metadata": {},
   "outputs": [],
   "source": [
    "import json\n",
    "\n",
    "def prettify_error(error):\n",
    "    \"\"\"\n",
    "    Prettify the given error dictionary for better readability.\n",
    "    \"\"\"\n",
    "    try:\n",
    "        # Extract error details\n",
    "        error_code = error.get(\"error\", {}).get(\"error_code\", \"N/A\")\n",
    "        error_message = error.get(\"error\", {}).get(\"error_message\", \"N/A\")\n",
    "        details = error.get(\"error\", {}).get(\"details\", \"N/A\")\n",
    "\n",
    "        # Format traceback details (if present) into a structured list\n",
    "        if isinstance(details, str):\n",
    "            traceback_details = details.split(\"\\n\")\n",
    "        else:\n",
    "            traceback_details = details\n",
    "\n",
    "        # Construct the prettified error message\n",
    "        prettified_error = {\n",
    "            \"Error Code\": error_code,\n",
    "            \"Error Message\": error_message,\n",
    "            \"Traceback Details\": traceback_details\n",
    "        }\n",
    "\n",
    "        # Return prettified JSON output\n",
    "        return json.dumps(prettified_error, indent=4)\n",
    "    except Exception as e:\n",
    "        return f\"An error occurred while prettifying: {str(e)}\""
   ]
  },
  {
   "cell_type": "code",
   "execution_count": 4,
   "id": "59bea7b3-d3d2-4b33-8a7c-9864ee3e782e",
   "metadata": {},
   "outputs": [
    {
     "name": "stdout",
     "output_type": "stream",
     "text": [
      "An error occurred while prettifying: 'str' object has no attribute 'get'\n"
     ]
    }
   ],
   "source": [
    "# Call the prettify function\n",
    "prettified_output = prettify_error(error_string)\n",
    "print(prettified_output)"
   ]
  },
  {
   "cell_type": "code",
   "execution_count": 5,
   "id": "3a080855-e27a-4c64-85cb-30f2eaa662d9",
   "metadata": {},
   "outputs": [],
   "source": [
    "import json\n",
    "\n",
    "def prettify_error_from_string(error_string):\n",
    "    \"\"\"\n",
    "    Prettify the error message from a JSON string.\n",
    "    \"\"\"\n",
    "    try:\n",
    "        # Parse the string into a dictionary\n",
    "        error_dict = json.loads(error_string)\n",
    "\n",
    "        # Extract error details\n",
    "        error_code = error_dict.get(\"error\", {}).get(\"error_code\", \"N/A\")\n",
    "        error_message = error_dict.get(\"error\", {}).get(\"error_message\", \"N/A\")\n",
    "        details = error_dict.get(\"error\", {}).get(\"details\", \"N/A\")\n",
    "\n",
    "        # Format traceback details (if present) into a structured list\n",
    "        if isinstance(details, str):\n",
    "            traceback_details = details.split(\"\\n\")\n",
    "        else:\n",
    "            traceback_details = details\n",
    "\n",
    "        # Construct the prettified error message\n",
    "        prettified_error = {\n",
    "            \"Error Code\": error_code,\n",
    "            \"Error Message\": error_message,\n",
    "            \"Traceback Details\": traceback_details\n",
    "        }\n",
    "\n",
    "        # Return prettified JSON output\n",
    "        return json.dumps(prettified_error, indent=4)\n",
    "    except json.JSONDecodeError as e:\n",
    "        return f\"Error decoding JSON: {str(e)}\"\n",
    "    except Exception as e:\n",
    "        return f\"An error occurred: {str(e)}\""
   ]
  },
  {
   "cell_type": "code",
   "execution_count": 6,
   "id": "3bc705c7-6e69-4c97-bfb7-aea5f0d23217",
   "metadata": {},
   "outputs": [
    {
     "name": "stdout",
     "output_type": "stream",
     "text": [
      "Error decoding JSON: Expecting ',' delimiter: line 6 column 87 (char 178)\n"
     ]
    }
   ],
   "source": [
    "# Call the prettify function with the error string\n",
    "prettified_output = prettify_error_from_string(error_string)\n",
    "print(prettified_output)"
   ]
  },
  {
   "cell_type": "code",
   "execution_count": 7,
   "id": "8d09df25-23e1-4e8e-88f2-8964bfb10367",
   "metadata": {},
   "outputs": [
    {
     "name": "stdout",
     "output_type": "stream",
     "text": [
      "Error decoding JSON: Expecting property name enclosed in double quotes: line 3 column 5 (char 7)\n"
     ]
    }
   ],
   "source": [
    "import json\n",
    "\n",
    "def fix_and_prettify_error(error_string):\n",
    "    \"\"\"\n",
    "    Fix the JSON string by escaping quotes and prettify the error message.\n",
    "    \"\"\"\n",
    "    try:\n",
    "        # Fix the error string by replacing unescaped quotes\n",
    "        fixed_error_string = error_string.replace('\"', '\\\\\"').replace('\\\\\"{', '{').replace('}\\\\\"', '}')\n",
    "\n",
    "        # Parse the fixed string into a Python dictionary\n",
    "        error_dict = json.loads(fixed_error_string)\n",
    "\n",
    "        # Extract error details\n",
    "        error_code = error_dict.get(\"error\", {}).get(\"error_code\", \"N/A\")\n",
    "        error_message = error_dict.get(\"error\", {}).get(\"error_message\", \"N/A\")\n",
    "        details = error_dict.get(\"error\", {}).get(\"details\", \"N/A\")\n",
    "\n",
    "        # Format traceback details (if present) into a structured list\n",
    "        if isinstance(details, str):\n",
    "            traceback_details = details.split(\"\\n\")\n",
    "        else:\n",
    "            traceback_details = details\n",
    "\n",
    "        # Construct the prettified error message\n",
    "        prettified_error = {\n",
    "            \"Error Code\": error_code,\n",
    "            \"Error Message\": error_message,\n",
    "            \"Traceback Details\": traceback_details\n",
    "        }\n",
    "\n",
    "        # Return prettified JSON output\n",
    "        return json.dumps(prettified_error, indent=4)\n",
    "    except json.JSONDecodeError as e:\n",
    "        return f\"Error decoding JSON: {str(e)}\"\n",
    "    except Exception as e:\n",
    "        return f\"An error occurred: {str(e)}\"\n",
    "\n",
    "# Fix and prettify the error string\n",
    "prettified_output = fix_and_prettify_error(error_string)\n",
    "print(prettified_output)"
   ]
  },
  {
   "cell_type": "code",
   "execution_count": 8,
   "id": "d2e1e8a3-94aa-4bf9-a54c-85689c9836d7",
   "metadata": {},
   "outputs": [
    {
     "name": "stdout",
     "output_type": "stream",
     "text": [
      "Error decoding JSON: Expecting ',' delimiter: line 6 column 87 (char 178)\n"
     ]
    }
   ],
   "source": [
    "import json\n",
    "\n",
    "def prettify_error(error_string):\n",
    "    try:\n",
    "        # Parse the string into a dictionary\n",
    "        error_dict = json.loads(error_string)\n",
    "\n",
    "        # Extract error details\n",
    "        error_code = error_dict.get(\"error\", {}).get(\"error_code\", \"N/A\")\n",
    "        error_message = error_dict.get(\"error\", {}).get(\"error_message\", \"N/A\")\n",
    "        details = error_dict.get(\"error\", {}).get(\"details\", \"N/A\")\n",
    "\n",
    "        # Format traceback details (if present) into a structured list\n",
    "        if isinstance(details, str):\n",
    "            traceback_details = details.split(\"\\n\")\n",
    "        else:\n",
    "            traceback_details = details\n",
    "\n",
    "        # Construct the prettified error message\n",
    "        prettified_error = {\n",
    "            \"Error Code\": error_code,\n",
    "            \"Error Message\": error_message,\n",
    "            \"Traceback Details\": traceback_details\n",
    "        }\n",
    "\n",
    "        # Return prettified JSON output\n",
    "        return json.dumps(prettified_error, indent=4)\n",
    "    except json.JSONDecodeError as e:\n",
    "        return f\"Error decoding JSON: {str(e)}\"\n",
    "    except Exception as e:\n",
    "        return f\"An error occurred: {str(e)}\"\n",
    "\n",
    "# Call the prettify function\n",
    "prettified_output = prettify_error(error_string)\n",
    "print(prettified_output)"
   ]
  },
  {
   "cell_type": "code",
   "execution_count": 9,
   "id": "2e40e219-4b7c-47c3-a048-0d7942217545",
   "metadata": {},
   "outputs": [
    {
     "name": "stdout",
     "output_type": "stream",
     "text": [
      "Error decoding JSON: Expecting ',' delimiter: line 6 column 41 (char 132)\n"
     ]
    }
   ],
   "source": [
    "import json\n",
    "import re\n",
    "\n",
    "def sanitize_and_prettify_error(error_string):\n",
    "    \"\"\"\n",
    "    Sanitize the input JSON string and prettify the error message.\n",
    "    \"\"\"\n",
    "    try:\n",
    "        # Use regex to replace single quotes inside the 'details' field with double quotes\n",
    "        sanitized_string = re.sub(\n",
    "            r\"(')(?:(?=(\\\\?))\\2.)*?\\1\",  # Match strings wrapped in single quotes\n",
    "            lambda match: f'\"{match.group(0)[1:-1]}\"',  # Replace single quotes with double quotes\n",
    "            error_string\n",
    "        )\n",
    "\n",
    "        # Parse the sanitized string into a Python dictionary\n",
    "        error_dict = json.loads(sanitized_string)\n",
    "\n",
    "        # Extract error details\n",
    "        error_code = error_dict[\"error\"].get(\"error_code\", \"N/A\")\n",
    "        error_message = error_dict[\"error\"].get(\"error_message\", \"N/A\")\n",
    "        details = error_dict[\"error\"].get(\"details\", \"N/A\")\n",
    "\n",
    "        # Split traceback details if it's a string\n",
    "        if isinstance(details, str):\n",
    "            traceback_details = details.split(\", \")\n",
    "        else:\n",
    "            traceback_details = details\n",
    "\n",
    "        # Construct prettified output\n",
    "        prettified_error = {\n",
    "            \"Error Code\": error_code,\n",
    "            \"Error Message\": error_message,\n",
    "            \"Traceback Details\": traceback_details\n",
    "        }\n",
    "\n",
    "        # Return the prettified JSON\n",
    "        return json.dumps(prettified_error, indent=4)\n",
    "    except json.JSONDecodeError as e:\n",
    "        return f\"Error decoding JSON: {str(e)}\"\n",
    "    except Exception as e:\n",
    "        return f\"An error occurred: {str(e)}\"\n",
    "\n",
    "# Call the function with the given error_string\n",
    "prettified_output = sanitize_and_prettify_error(error_string)\n",
    "print(prettified_output)"
   ]
  },
  {
   "cell_type": "code",
   "execution_count": 10,
   "id": "3fb694eb-2ee8-4b74-8406-5b81d1e8c54b",
   "metadata": {},
   "outputs": [
    {
     "name": "stdout",
     "output_type": "stream",
     "text": [
      "Error decoding JSON: Expecting ',' delimiter: line 6 column 41 (char 132)\n"
     ]
    }
   ],
   "source": [
    "import json\n",
    "import re\n",
    "\n",
    "def sanitize_and_prettify_error(error_string):\n",
    "    \"\"\"\n",
    "    Sanitize and parse a malformed JSON string, then prettify the output.\n",
    "    \"\"\"\n",
    "    try:\n",
    "        # Fix the single quotes in JSON-like fields with regex\n",
    "        sanitized_string = re.sub(\n",
    "            r\"(?<!\\\\)'\",  # Match single quotes not preceded by a backslash\n",
    "            '\"',  # Replace with double quotes\n",
    "            error_string\n",
    "        )\n",
    "\n",
    "        # Parse the fixed string into a Python dictionary\n",
    "        error_dict = json.loads(sanitized_string)\n",
    "\n",
    "        # Extract error details\n",
    "        error_code = error_dict.get(\"error\", {}).get(\"error_code\", \"N/A\")\n",
    "        error_message = error_dict.get(\"error\", {}).get(\"error_message\", \"N/A\")\n",
    "        details = error_dict.get(\"error\", {}).get(\"details\", \"N/A\")\n",
    "\n",
    "        # Split traceback details if it's a string\n",
    "        if isinstance(details, str):\n",
    "            traceback_details = details.split(\", \")\n",
    "        else:\n",
    "            traceback_details = details\n",
    "\n",
    "        # Construct a prettified dictionary\n",
    "        prettified_error = {\n",
    "            \"Error Code\": error_code,\n",
    "            \"Error Message\": error_message,\n",
    "            \"Traceback Details\": traceback_details\n",
    "        }\n",
    "\n",
    "        # Return prettified JSON\n",
    "        return json.dumps(prettified_error, indent=4)\n",
    "    except json.JSONDecodeError as e:\n",
    "        return f\"Error decoding JSON: {str(e)}\"\n",
    "    except Exception as e:\n",
    "        return f\"An error occurred: {str(e)}\"\n",
    "\n",
    "# Input string\n",
    "error_string = \"\"\"\n",
    "{\n",
    "    \"error\": {\n",
    "        \"error_code\": 1002,\n",
    "        \"error_message\": \"Unspecified Error\",\n",
    "        \"details\": \"Unexpected error: ['Traceback (most recent call last):', '  File \\\"/home/rajaraman/rprojects/ml-api-work/ml-api-raja/services/mlapi/app/main.py\\\", line 228, in post_predict_classic_joblib_api', '    result_obj = await label_generator.match_with_multi(', '                 ^^^^^^^^^^^^^^^^^^^^^^^^^^^^^^^^^^^^^^^', '  File \\\"/home/rajaraman/rprojects/ml-api-work/ml-api-raja/services/mlapi/app/label_generator.py\\\", line 770, in match_with_multi', '    feature_scores, overall_score = get_match_scores(', '                                    ^^^^^^^^^^^^^^^^^', '  File \\\"/home/rajaraman/rprojects/ml-api-work/ml-api-raja/services/mlapi/app/label_generator.py\\\", line 559, in get_match_scores', '    overall_score = get_average_feature_score(', '                    ^^^^^^^^^^^^^^^^^^^^^^^^^^', '  File \\\"/home/rajaraman/rprojects/ml-api-work/ml-api-raja/services/mlapi/app/label_generator.py\\\", line 332, in get_average_feature_score', '    weighted_scores = get_feature_name_score_pair(', '                      ^^^^^^^^^^^^^^^^^^^^^^^^^^^^', '  File \\\"/home/rajaraman/rprojects/ml-api-work/ml-api-raja/services/mlapi/app/label_generator.py\\\", line 292, in get_feature_name_score_pair', '    if feature_prefix in individual_algo_feature_score_map.keys():', '       ^^^^^^^^^^^^^^', \\\"UnboundLocalError: cannot access local variable 'feature_prefix' where it is not associated with a value\\\"]\"\n",
    "    }\n",
    "}\n",
    "\"\"\"\n",
    "\n",
    "# Prettify and sanitize the error string\n",
    "prettified_output = sanitize_and_prettify_error(error_string)\n",
    "print(prettified_output)"
   ]
  },
  {
   "cell_type": "code",
   "execution_count": null,
   "id": "96142c65-f6af-4066-b12d-efd0f272f9de",
   "metadata": {},
   "outputs": [],
   "source": []
  }
 ],
 "metadata": {
  "kernelspec": {
   "display_name": "Python 3 (ipykernel)",
   "language": "python",
   "name": "python3"
  },
  "language_info": {
   "codemirror_mode": {
    "name": "ipython",
    "version": 3
   },
   "file_extension": ".py",
   "mimetype": "text/x-python",
   "name": "python",
   "nbconvert_exporter": "python",
   "pygments_lexer": "ipython3",
   "version": "3.12.11"
  }
 },
 "nbformat": 4,
 "nbformat_minor": 5
}
