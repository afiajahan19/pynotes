{
 "cells": [
  {
   "cell_type": "code",
   "execution_count": 1,
   "id": "87fba019-4113-46b3-addf-6c9ba9539aa1",
   "metadata": {},
   "outputs": [],
   "source": [
    "def get_int(c):\n",
    "    if(c == 'a'):\n",
    "        return (200 + ord(c))\n",
    "\n",
    "    if(c == 'e'):\n",
    "        return (250 + ord(c))\n",
    "\n",
    "    if(c == 'i'):\n",
    "        return (300 + ord(c))\n",
    "\n",
    "    if(c == 'o'):\n",
    "        return (350 + ord(c))\n",
    "\n",
    "    if(c == 'u'):\n",
    "        return (400 + ord(c))\n",
    "\n",
    "    return ord(c)\n",
    "\n",
    "def get_name_meter(name,  cache={}):\n",
    "\n",
    "    if name in cache: \n",
    "        return cache[name]\n",
    "\n",
    "    print('getting from expensive calculation')\n",
    "\n",
    "    chars = list(name) # name.split won't return chars\n",
    "\n",
    "    meter = 0\n",
    "    for c in chars:\n",
    "\n",
    "        meter += get_int(c)\n",
    "\n",
    "    cache[name] = result = meter\n",
    "    return result"
   ]
  },
  {
   "cell_type": "code",
   "execution_count": 2,
   "id": "05d1bf76-14cd-4955-8716-e190272f2d9c",
   "metadata": {},
   "outputs": [
    {
     "name": "stdout",
     "output_type": "stream",
     "text": [
      "getting from expensive calculation\n"
     ]
    },
    {
     "data": {
      "text/plain": [
       "1807"
      ]
     },
     "execution_count": 2,
     "metadata": {},
     "output_type": "execute_result"
    }
   ],
   "source": [
    "get_name_meter('Toronto')"
   ]
  },
  {
   "cell_type": "code",
   "execution_count": 3,
   "id": "558c4ad4-71e9-4a56-83c3-4fcc24f62055",
   "metadata": {},
   "outputs": [
    {
     "name": "stdout",
     "output_type": "stream",
     "text": [
      "getting from expensive calculation\n"
     ]
    },
    {
     "data": {
      "text/plain": [
       "1168"
      ]
     },
     "execution_count": 3,
     "metadata": {},
     "output_type": "execute_result"
    }
   ],
   "source": [
    "get_name_meter('Canada')"
   ]
  },
  {
   "cell_type": "code",
   "execution_count": 4,
   "id": "95108c39-4b85-4a8c-b263-d2783d8f5081",
   "metadata": {},
   "outputs": [
    {
     "name": "stdout",
     "output_type": "stream",
     "text": [
      "getting from expensive calculation\n"
     ]
    },
    {
     "data": {
      "text/plain": [
       "1634"
      ]
     },
     "execution_count": 4,
     "metadata": {},
     "output_type": "execute_result"
    }
   ],
   "source": [
    "get_name_meter('Montreal')"
   ]
  },
  {
   "cell_type": "code",
   "execution_count": 5,
   "id": "fb6313d3-3335-43fe-bc11-34e3dd58ff1c",
   "metadata": {},
   "outputs": [
    {
     "data": {
      "text/plain": [
       "1634"
      ]
     },
     "execution_count": 5,
     "metadata": {},
     "output_type": "execute_result"
    }
   ],
   "source": [
    "get_name_meter('Montreal')"
   ]
  },
  {
   "cell_type": "code",
   "execution_count": null,
   "id": "aa0e3806-1923-48a9-90ef-45c75b655b34",
   "metadata": {},
   "outputs": [],
   "source": []
  }
 ],
 "metadata": {
  "kernelspec": {
   "display_name": "Python 3 (ipykernel)",
   "language": "python",
   "name": "python3"
  },
  "language_info": {
   "codemirror_mode": {
    "name": "ipython",
    "version": 3
   },
   "file_extension": ".py",
   "mimetype": "text/x-python",
   "name": "python",
   "nbconvert_exporter": "python",
   "pygments_lexer": "ipython3",
   "version": "3.12.11"
  }
 },
 "nbformat": 4,
 "nbformat_minor": 5
}
