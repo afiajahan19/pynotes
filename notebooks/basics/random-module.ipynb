{
 "cells": [
  {
   "cell_type": "code",
   "execution_count": 1,
   "id": "792a6f16-1604-481e-92f8-db165c972bbd",
   "metadata": {},
   "outputs": [],
   "source": [
    "import random"
   ]
  },
  {
   "cell_type": "code",
   "execution_count": 2,
   "id": "fa3481a0-b07c-43d5-ac5e-1401850b046f",
   "metadata": {},
   "outputs": [
    {
     "name": "stdout",
     "output_type": "stream",
     "text": [
      "0.487560015622336\n"
     ]
    }
   ],
   "source": [
    "print(random.random())"
   ]
  },
  {
   "cell_type": "code",
   "execution_count": 3,
   "id": "e9f9c911-c940-4e55-bf57-302d54c8ca15",
   "metadata": {},
   "outputs": [
    {
     "name": "stdout",
     "output_type": "stream",
     "text": [
      "6\n"
     ]
    }
   ],
   "source": [
    "print(random.randint(1, 10))\n"
   ]
  },
  {
   "cell_type": "code",
   "execution_count": 4,
   "id": "8d6259ca-279a-45f1-801e-ff5702594161",
   "metadata": {},
   "outputs": [
    {
     "name": "stdout",
     "output_type": "stream",
     "text": [
      "12\n"
     ]
    }
   ],
   "source": [
    "print(random.randrange(0, 20, 2))\n"
   ]
  },
  {
   "cell_type": "code",
   "execution_count": 5,
   "id": "38b94268-03cd-4c6a-99e5-e128b0465b45",
   "metadata": {},
   "outputs": [
    {
     "name": "stdout",
     "output_type": "stream",
     "text": [
      "red\n"
     ]
    }
   ],
   "source": [
    "print(random.choice(['red', 'green', 'blue']))"
   ]
  },
  {
   "cell_type": "code",
   "execution_count": 6,
   "id": "5877db06-9703-4ffa-ade4-8c504dbe9daa",
   "metadata": {},
   "outputs": [
    {
     "name": "stdout",
     "output_type": "stream",
     "text": [
      "['C', 'B', 'C', 'B', 'A']\n"
     ]
    }
   ],
   "source": [
    "print(random.choices(['A', 'B', 'C'], k=5))"
   ]
  },
  {
   "cell_type": "code",
   "execution_count": 7,
   "id": "56e4e735-6a6a-4e17-9e0a-92398fe7b3d1",
   "metadata": {},
   "outputs": [
    {
     "name": "stdout",
     "output_type": "stream",
     "text": [
      "['A', 'C', 'C', 'C', 'B']\n"
     ]
    }
   ],
   "source": [
    "print(random.choices(['A', 'B', 'C'], k=5))"
   ]
  },
  {
   "cell_type": "code",
   "execution_count": 8,
   "id": "4d437d5c-9dce-45af-91e3-57da22c5e40c",
   "metadata": {},
   "outputs": [
    {
     "name": "stdout",
     "output_type": "stream",
     "text": [
      "17.44199624104448\n"
     ]
    }
   ],
   "source": [
    "print(random.uniform(10, 20))"
   ]
  },
  {
   "cell_type": "code",
   "execution_count": 9,
   "id": "cbf88a5d-4616-4ea4-99f2-805db29e85ae",
   "metadata": {},
   "outputs": [
    {
     "name": "stdout",
     "output_type": "stream",
     "text": [
      "10\n"
     ]
    }
   ],
   "source": [
    "print(random.getrandbits(4))"
   ]
  },
  {
   "cell_type": "code",
   "execution_count": 10,
   "id": "c749dab1-76ba-4e0d-ba36-f4ea13759b78",
   "metadata": {},
   "outputs": [
    {
     "name": "stdout",
     "output_type": "stream",
     "text": [
      "20\n"
     ]
    }
   ],
   "source": [
    "print(random.choice((10, 20, 30)))"
   ]
  },
  {
   "cell_type": "code",
   "execution_count": 11,
   "id": "810ac47a-7f04-4f1d-9653-b394f8d7ae25",
   "metadata": {},
   "outputs": [
    {
     "name": "stdout",
     "output_type": "stream",
     "text": [
      "y\n"
     ]
    }
   ],
   "source": [
    "print(random.choice(\"Python\"))"
   ]
  },
  {
   "cell_type": "code",
   "execution_count": 12,
   "id": "5621d6fc-f64e-4a11-a0f9-19d2d819b863",
   "metadata": {},
   "outputs": [
    {
     "name": "stdout",
     "output_type": "stream",
     "text": [
      "helol\n"
     ]
    }
   ],
   "source": [
    "s = list(\"hello\")\n",
    "random.shuffle(s)\n",
    "print(\"\".join(s))"
   ]
  },
  {
   "cell_type": "code",
   "execution_count": 13,
   "id": "b5732b90-2111-4888-b527-c4bddc37052e",
   "metadata": {},
   "outputs": [
    {
     "name": "stdout",
     "output_type": "stream",
     "text": [
      "red\n"
     ]
    }
   ],
   "source": [
    "colors = ['red', 'blue', 'green']\n",
    "print(colors[random.randrange(len(colors))])"
   ]
  },
  {
   "cell_type": "code",
   "execution_count": 14,
   "id": "733b3017-5616-42a6-9f8e-d4369b5113fc",
   "metadata": {},
   "outputs": [
    {
     "name": "stdout",
     "output_type": "stream",
     "text": [
      "[3, 16, 6, 11, 13]\n"
     ]
    }
   ],
   "source": [
    "print(random.sample(range(1, 20), 5))"
   ]
  },
  {
   "cell_type": "code",
   "execution_count": 15,
   "id": "216409d6-c84b-4aa5-8e14-052f292dbc96",
   "metadata": {},
   "outputs": [
    {
     "name": "stdout",
     "output_type": "stream",
     "text": [
      "5\n"
     ]
    }
   ],
   "source": [
    "print(random.randint(1, 6))"
   ]
  },
  {
   "cell_type": "code",
   "execution_count": 16,
   "id": "5f7eb7f5-bc4d-4c20-931e-5aaa5000d42e",
   "metadata": {},
   "outputs": [
    {
     "name": "stdout",
     "output_type": "stream",
     "text": [
      "Heads\n"
     ]
    }
   ],
   "source": [
    "print(\"Heads\" if random.randint(0, 1) == 0 else \"Tails\")"
   ]
  },
  {
   "cell_type": "code",
   "execution_count": 17,
   "id": "81bdee53-006b-4c89-89aa-108076382b3b",
   "metadata": {},
   "outputs": [
    {
     "name": "stdout",
     "output_type": "stream",
     "text": [
      "23.06\n"
     ]
    }
   ],
   "source": [
    "print(round(random.uniform(0, 100), 2))"
   ]
  },
  {
   "cell_type": "code",
   "execution_count": 18,
   "id": "aec7f24f-38e9-44ae-af79-10fb211ab40c",
   "metadata": {},
   "outputs": [
    {
     "name": "stdout",
     "output_type": "stream",
     "text": [
      "True\n"
     ]
    }
   ],
   "source": [
    "print(random.choice([True, False]))"
   ]
  },
  {
   "cell_type": "code",
   "execution_count": 19,
   "id": "25ff6a94-e33b-4e4a-a7c5-d059bcf2e93d",
   "metadata": {},
   "outputs": [
    {
     "name": "stdout",
     "output_type": "stream",
     "text": [
      "[2, 4, 6]\n"
     ]
    }
   ],
   "source": [
    "print(random.choices(range(10), k=3))"
   ]
  },
  {
   "cell_type": "code",
   "execution_count": 20,
   "id": "d781e70a-a38a-4fec-b6b0-f87d5a12008a",
   "metadata": {},
   "outputs": [
    {
     "name": "stdout",
     "output_type": "stream",
     "text": [
      "['mid']\n"
     ]
    }
   ],
   "source": [
    "print(random.choices(['low', 'mid', 'high'], weights=[1, 3, 6], k=1))"
   ]
  },
  {
   "cell_type": "code",
   "execution_count": 21,
   "id": "44544102-40a9-4ee6-ac16-bf0f3ec621f1",
   "metadata": {},
   "outputs": [
    {
     "name": "stdout",
     "output_type": "stream",
     "text": [
      "['y', 'x', 'z']\n"
     ]
    }
   ],
   "source": [
    "print(random.choices(['x', 'y', 'z'], k=3))"
   ]
  },
  {
   "cell_type": "code",
   "execution_count": 22,
   "id": "614084c5-966c-46dc-941f-0938d5808713",
   "metadata": {},
   "outputs": [],
   "source": [
    "#Seeding"
   ]
  },
  {
   "cell_type": "code",
   "execution_count": 23,
   "id": "1c47d8f3-e2cc-4f12-a9a7-73b33c2ce8da",
   "metadata": {},
   "outputs": [
    {
     "name": "stdout",
     "output_type": "stream",
     "text": [
      "0.5714025946899135\n"
     ]
    }
   ],
   "source": [
    "random.seed(10)\n",
    "print(random.random())"
   ]
  },
  {
   "cell_type": "code",
   "execution_count": 24,
   "id": "de7773f5-ff41-41bb-b270-2f4dccfae926",
   "metadata": {},
   "outputs": [
    {
     "name": "stdout",
     "output_type": "stream",
     "text": [
      "7\n"
     ]
    }
   ],
   "source": [
    "random.seed(123)\n",
    "print(random.randint(1, 100))"
   ]
  },
  {
   "cell_type": "code",
   "execution_count": 25,
   "id": "39cd1c08-e8df-433d-8d94-7135deb7b321",
   "metadata": {},
   "outputs": [
    {
     "name": "stdout",
     "output_type": "stream",
     "text": [
      "True\n"
     ]
    }
   ],
   "source": [
    "random.seed(50)\n",
    "a = random.random()\n",
    "random.seed(50)\n",
    "b = random.random()\n",
    "print(a == b)  # True"
   ]
  },
  {
   "cell_type": "code",
   "execution_count": 27,
   "id": "dce3f019-fa0f-4ea9-9506-5b23405d0c22",
   "metadata": {},
   "outputs": [],
   "source": [
    "import time\n",
    "random.seed(time.time())\n"
   ]
  },
  {
   "cell_type": "code",
   "execution_count": 28,
   "id": "f2914857-2d04-4c3c-8b67-daf75be57bd8",
   "metadata": {},
   "outputs": [
    {
     "name": "stdout",
     "output_type": "stream",
     "text": [
      "0.3537754404730722\n"
     ]
    }
   ],
   "source": [
    "random.seed(\"hello\")\n",
    "print(random.random())"
   ]
  },
  {
   "cell_type": "code",
   "execution_count": 29,
   "id": "7a9fd2f1-6e39-48ad-9131-c62bea88a534",
   "metadata": {},
   "outputs": [
    {
     "name": "stdout",
     "output_type": "stream",
     "text": [
      "82\n"
     ]
    }
   ],
   "source": [
    "def get_random_with_seed(seed_val):\n",
    "    random.seed(seed_val)\n",
    "    return random.randint(1, 100)\n",
    "\n",
    "print(get_random_with_seed(42))"
   ]
  },
  {
   "cell_type": "code",
   "execution_count": 30,
   "id": "8a7ad588-5540-42e4-9428-5e82fe515ab2",
   "metadata": {},
   "outputs": [
    {
     "name": "stdout",
     "output_type": "stream",
     "text": [
      "[3, 2, 4, 5, 1]\n"
     ]
    }
   ],
   "source": [
    "lst = [1, 2, 3, 4, 5]\n",
    "random.seed(2)\n",
    "random.shuffle(lst)\n",
    "print(lst)"
   ]
  },
  {
   "cell_type": "code",
   "execution_count": 31,
   "id": "3ba8b04e-1a2c-44a2-8c47-df30206fba79",
   "metadata": {},
   "outputs": [
    {
     "name": "stdout",
     "output_type": "stream",
     "text": [
      "[31, 39, 14, 93, 51]\n"
     ]
    }
   ],
   "source": [
    "random.seed(4)\n",
    "print(random.sample(range(1, 100), 5))\n"
   ]
  },
  {
   "cell_type": "code",
   "execution_count": 32,
   "id": "8e8b9fdb-5dc3-4c16-a077-64345aaba591",
   "metadata": {},
   "outputs": [
    {
     "name": "stdout",
     "output_type": "stream",
     "text": [
      "0.7813468849570298\n"
     ]
    }
   ],
   "source": [
    "random.seed(999)\n",
    "print(random.random())"
   ]
  },
  {
   "cell_type": "code",
   "execution_count": 33,
   "id": "7f4daeef-1ce5-4d69-ae97-907b6f99534a",
   "metadata": {},
   "outputs": [
    {
     "name": "stdout",
     "output_type": "stream",
     "text": [
      "7\n",
      "3\n",
      "1\n",
      "4\n",
      "4\n"
     ]
    }
   ],
   "source": [
    "for i in range(5):\n",
    "    random.seed(i)\n",
    "    print(random.randint(1, 10))"
   ]
  },
  {
   "cell_type": "code",
   "execution_count": 34,
   "id": "f891f218-27e8-40d3-a9fc-d0e3bda19aaa",
   "metadata": {},
   "outputs": [],
   "source": [
    "#Statistical Distributions"
   ]
  },
  {
   "cell_type": "code",
   "execution_count": 35,
   "id": "dc048de9-4895-4920-ab56-dd2362ab1b03",
   "metadata": {},
   "outputs": [
    {
     "name": "stdout",
     "output_type": "stream",
     "text": [
      "3.7296872729695907\n"
     ]
    }
   ],
   "source": [
    "print(random.uniform(1, 10))"
   ]
  },
  {
   "cell_type": "code",
   "execution_count": 36,
   "id": "3fe74c47-ddbd-403d-b640-098fa2af6e20",
   "metadata": {},
   "outputs": [
    {
     "name": "stdout",
     "output_type": "stream",
     "text": [
      "-0.20535732231241616\n"
     ]
    }
   ],
   "source": [
    "print(random.gauss(0, 1))"
   ]
  },
  {
   "cell_type": "code",
   "execution_count": 37,
   "id": "82f1fb2d-c194-4972-ae8a-888a54ce1a5f",
   "metadata": {},
   "outputs": [
    {
     "name": "stdout",
     "output_type": "stream",
     "text": [
      "0.11926168260455533\n"
     ]
    }
   ],
   "source": [
    "print(random.normalvariate(0, 1))"
   ]
  },
  {
   "cell_type": "code",
   "execution_count": 38,
   "id": "c105dfe0-fe97-436a-8067-b73ffbd56593",
   "metadata": {},
   "outputs": [
    {
     "name": "stdout",
     "output_type": "stream",
     "text": [
      "92.97311499109534\n"
     ]
    }
   ],
   "source": [
    "print(random.triangular(1, 100, 50))\n"
   ]
  },
  {
   "cell_type": "code",
   "execution_count": 39,
   "id": "338bc82a-f2fa-4897-bb0d-f4d11e431c7f",
   "metadata": {},
   "outputs": [
    {
     "name": "stdout",
     "output_type": "stream",
     "text": [
      "0.08904379481080787\n"
     ]
    }
   ],
   "source": [
    "print(random.betavariate(2, 5))"
   ]
  },
  {
   "cell_type": "code",
   "execution_count": 40,
   "id": "a9172727-4cd9-4d93-bd11-55b7b163066a",
   "metadata": {},
   "outputs": [
    {
     "name": "stdout",
     "output_type": "stream",
     "text": [
      "1.1691481464621643\n"
     ]
    }
   ],
   "source": [
    "print(random.expovariate(1.5))"
   ]
  },
  {
   "cell_type": "code",
   "execution_count": 41,
   "id": "2603a756-e607-4942-bc7a-deeb4031e932",
   "metadata": {},
   "outputs": [
    {
     "name": "stdout",
     "output_type": "stream",
     "text": [
      "3.297017627578116\n"
     ]
    }
   ],
   "source": [
    "print(random.gammavariate(2, 3))"
   ]
  },
  {
   "cell_type": "code",
   "execution_count": 42,
   "id": "32331126-40e6-44ac-8cf7-37c61999cc3b",
   "metadata": {},
   "outputs": [
    {
     "name": "stdout",
     "output_type": "stream",
     "text": [
      "0.753985601257307\n"
     ]
    }
   ],
   "source": [
    "print(random.lognormvariate(0, 0.5))"
   ]
  },
  {
   "cell_type": "code",
   "execution_count": 43,
   "id": "1ae72bd7-5278-4320-81bb-913f9cb608d5",
   "metadata": {},
   "outputs": [
    {
     "name": "stdout",
     "output_type": "stream",
     "text": [
      "0.25594792444230136\n"
     ]
    }
   ],
   "source": [
    "print(random.vonmisesvariate(0, 1))\n"
   ]
  },
  {
   "cell_type": "code",
   "execution_count": 44,
   "id": "0831b8f5-1914-4f96-b1ff-530ccaba397c",
   "metadata": {},
   "outputs": [
    {
     "name": "stdout",
     "output_type": "stream",
     "text": [
      "3.6578959596970564\n"
     ]
    }
   ],
   "source": [
    "print(random.paretovariate(2.5))"
   ]
  },
  {
   "cell_type": "code",
   "execution_count": 45,
   "id": "8a468dac-0cc1-4de6-b2b7-fd5a988423d5",
   "metadata": {},
   "outputs": [
    {
     "name": "stdout",
     "output_type": "stream",
     "text": [
      "1.5272270713856133\n"
     ]
    }
   ],
   "source": [
    "print(random.weibullvariate(1, 1.5))"
   ]
  },
  {
   "cell_type": "code",
   "execution_count": 46,
   "id": "23d30a23-95f2-4c9b-8dab-11526179592c",
   "metadata": {},
   "outputs": [
    {
     "name": "stdout",
     "output_type": "stream",
     "text": [
      "[55.89574778343234, 65.44265505925276, 64.27624374716605, 57.90449889121083, 56.24625556120736]\n"
     ]
    }
   ],
   "source": [
    "scores = [random.normalvariate(70, 10) for _ in range(5)]\n",
    "print(scores)"
   ]
  },
  {
   "cell_type": "code",
   "execution_count": 47,
   "id": "5b415020-6289-429f-8948-db412460a8f7",
   "metadata": {},
   "outputs": [
    {
     "name": "stdout",
     "output_type": "stream",
     "text": [
      "[(58, 36), (46, 32), (43, 30), (47, 28), (53, 28)]\n"
     ]
    }
   ],
   "source": [
    "from collections import Counter\n",
    "values = [round(random.gauss(50, 15)) for _ in range(1000)]\n",
    "hist = Counter(values)\n",
    "print(hist.most_common(5))"
   ]
  },
  {
   "cell_type": "code",
   "execution_count": 48,
   "id": "535da132-90ab-487b-afa0-ec2023af583f",
   "metadata": {},
   "outputs": [
    {
     "name": "stdout",
     "output_type": "stream",
     "text": [
      "29.66666037117583 67.03237989352832\n"
     ]
    }
   ],
   "source": [
    "values = [random.gauss(50, 5) for _ in range(1000)]\n",
    "print(min(values), max(values))\n"
   ]
  },
  {
   "cell_type": "code",
   "execution_count": 49,
   "id": "98dca72a-4a69-4de2-968b-7656781cb0cd",
   "metadata": {},
   "outputs": [
    {
     "name": "stdout",
     "output_type": "stream",
     "text": [
      "100.99849912914817 21.406751963222828\n"
     ]
    }
   ],
   "source": [
    "import statistics\n",
    "data = [random.gauss(100, 20) for _ in range(1000)]\n",
    "print(statistics.mean(data), statistics.stdev(data))"
   ]
  },
  {
   "cell_type": "code",
   "execution_count": 50,
   "id": "8927bdfc-0647-4243-b30b-ab19ec503d12",
   "metadata": {},
   "outputs": [
    {
     "name": "stdout",
     "output_type": "stream",
     "text": [
      "4.979361550949488\n"
     ]
    }
   ],
   "source": [
    "print(random.triangular(0, 10, 8))"
   ]
  },
  {
   "cell_type": "code",
   "execution_count": 51,
   "id": "ca344a5d-2fc4-4f09-a2f8-8d62fff1cf45",
   "metadata": {},
   "outputs": [
    {
     "name": "stdout",
     "output_type": "stream",
     "text": [
      "162.17402561610336\n"
     ]
    }
   ],
   "source": [
    "print(random.normalvariate(170, 10))"
   ]
  },
  {
   "cell_type": "code",
   "execution_count": 52,
   "id": "8d3a049e-c58b-4ab2-bad7-f4ab4681080e",
   "metadata": {},
   "outputs": [
    {
     "name": "stdout",
     "output_type": "stream",
     "text": [
      "0.9653176706571646\n"
     ]
    }
   ],
   "source": [
    "print(random.lognormvariate(0.02, 0.05))"
   ]
  },
  {
   "cell_type": "code",
   "execution_count": 53,
   "id": "5ab4232a-58fb-4dde-9094-699e22d1ab76",
   "metadata": {},
   "outputs": [
    {
     "name": "stdout",
     "output_type": "stream",
     "text": [
      "1.043084668057772\n"
     ]
    }
   ],
   "source": [
    "print(random.weibullvariate(1, 1.5))"
   ]
  },
  {
   "cell_type": "code",
   "execution_count": 54,
   "id": "2e626c27-6ed2-4904-9ce6-a2dcdafa52c0",
   "metadata": {},
   "outputs": [
    {
     "name": "stdout",
     "output_type": "stream",
     "text": [
      "[0.93, 2.61, 2.97, 1.65, 3.69]\n"
     ]
    }
   ],
   "source": [
    "print([round(random.gammavariate(2, 1), 2) for _ in range(5)])\n"
   ]
  },
  {
   "cell_type": "code",
   "execution_count": 55,
   "id": "fe5fb6f4-63bb-4828-95bd-10632562f511",
   "metadata": {},
   "outputs": [
    {
     "name": "stdout",
     "output_type": "stream",
     "text": [
      "paper\n"
     ]
    }
   ],
   "source": [
    "print(random.choice([\"rock\", \"paper\", \"scissors\"]))"
   ]
  },
  {
   "cell_type": "code",
   "execution_count": 56,
   "id": "38d8dcd8-fef8-407d-b12b-6609453ead54",
   "metadata": {},
   "outputs": [
    {
     "name": "stdout",
     "output_type": "stream",
     "text": [
      "Tails\n",
      "Tails\n",
      "Heads\n",
      "Heads\n",
      "Heads\n",
      "Tails\n",
      "Heads\n",
      "Tails\n",
      "Heads\n",
      "Heads\n"
     ]
    }
   ],
   "source": [
    "for _ in range(10):\n",
    "    print(\"Heads\" if random.randint(0, 1) == 0 else \"Tails\")"
   ]
  },
  {
   "cell_type": "code",
   "execution_count": 57,
   "id": "a46c7ea9-0c02-49a1-81e3-20044cdd719a",
   "metadata": {},
   "outputs": [
    {
     "name": "stdout",
     "output_type": "stream",
     "text": [
      "[5, 5, 3, 4, 3]\n"
     ]
    }
   ],
   "source": [
    "print([random.randint(1, 6) for _ in range(5)])"
   ]
  },
  {
   "cell_type": "code",
   "execution_count": 58,
   "id": "ad7de89c-5f34-43f5-8da0-b81b326ee685",
   "metadata": {},
   "outputs": [
    {
     "name": "stdout",
     "output_type": "stream",
     "text": [
      "30\n"
     ]
    }
   ],
   "source": [
    "print(random.randint(0, 36))"
   ]
  },
  {
   "cell_type": "code",
   "execution_count": 59,
   "id": "deacdc71-5132-42e1-92ff-630e38ecdee8",
   "metadata": {},
   "outputs": [
    {
     "name": "stdout",
     "output_type": "stream",
     "text": [
      "7 of Hearts\n"
     ]
    }
   ],
   "source": [
    "suits = ['Hearts', 'Diamonds', 'Clubs', 'Spades']\n",
    "ranks = ['2', '3', '4', '5', '6', '7', '8', '9', '10', 'J', 'Q', 'K', 'A']\n",
    "deck = [f\"{r} of {s}\" for r in ranks for s in suits]\n",
    "print(random.choice(deck))\n"
   ]
  },
  {
   "cell_type": "code",
   "execution_count": 60,
   "id": "843809d2-7627-4b7c-abf7-82b78197a5be",
   "metadata": {},
   "outputs": [
    {
     "name": "stdout",
     "output_type": "stream",
     "text": [
      "['3 of Hearts', '6 of Hearts', '8 of Spades', '5 of Clubs', '5 of Diamonds']\n"
     ]
    }
   ],
   "source": [
    "random.shuffle(deck)\n",
    "print(deck[:5])\n"
   ]
  },
  {
   "cell_type": "code",
   "execution_count": 61,
   "id": "26bb146e-d926-4c87-b50b-7e549da7a578",
   "metadata": {},
   "outputs": [
    {
     "name": "stdout",
     "output_type": "stream",
     "text": [
      "8\n"
     ]
    }
   ],
   "source": [
    "print(sum([random.randint(1, 6) for _ in range(2)]))\n"
   ]
  },
  {
   "cell_type": "code",
   "execution_count": 62,
   "id": "9bdab252-8c06-4346-9179-1dd38f8419d2",
   "metadata": {},
   "outputs": [
    {
     "name": "stdout",
     "output_type": "stream",
     "text": [
      "4, 5\n"
     ]
    }
   ],
   "source": [
    "d1, d2 = random.randint(1, 6), random.randint(1, 6)\n",
    "print(\"Snake eyes!\" if d1 == d2 == 1 else f\"{d1}, {d2}\")"
   ]
  },
  {
   "cell_type": "code",
   "execution_count": 63,
   "id": "285e8d5b-ca31-4232-ade3-ef57990ca67d",
   "metadata": {},
   "outputs": [
    {
     "name": "stdout",
     "output_type": "stream",
     "text": [
      "[6, 12, 2, 35, 28, 18]\n"
     ]
    }
   ],
   "source": [
    "print(random.sample(range(1, 50), 6))"
   ]
  },
  {
   "cell_type": "code",
   "execution_count": 64,
   "id": "41b50e3f-9a59-4af4-8552-7da1e6c61ec2",
   "metadata": {},
   "outputs": [
    {
     "name": "stdout",
     "output_type": "stream",
     "text": [
      "Makes: 6\n"
     ]
    }
   ],
   "source": [
    "makes = sum(random.choices([1, 0], weights=[0.8, 0.2], k=10))\n",
    "print(f\"Makes: {makes}\")"
   ]
  },
  {
   "cell_type": "code",
   "execution_count": 65,
   "id": "8aa76b29-49e9-4539-bea9-b50c04cc3ea6",
   "metadata": {},
   "outputs": [
    {
     "name": "stdout",
     "output_type": "stream",
     "text": [
      "46\n"
     ]
    }
   ],
   "source": [
    "print([random.choice(['H', 'T']) for _ in range(100)].count('H'))"
   ]
  },
  {
   "cell_type": "code",
   "execution_count": 66,
   "id": "13be13d5-9a73-445f-bbfc-19eede8a409c",
   "metadata": {},
   "outputs": [
    {
     "name": "stdout",
     "output_type": "stream",
     "text": [
      "327.2638114387294\n"
     ]
    }
   ],
   "source": [
    "print(random.uniform(0, 360))"
   ]
  },
  {
   "cell_type": "code",
   "execution_count": 67,
   "id": "cd5d89a5-9bb0-450a-8afd-142f25637947",
   "metadata": {},
   "outputs": [
    {
     "name": "stdout",
     "output_type": "stream",
     "text": [
      "(166, 13, 129)\n"
     ]
    }
   ],
   "source": [
    "print((random.randint(0, 255), random.randint(0, 255), random.randint(0, 255)))"
   ]
  },
  {
   "cell_type": "code",
   "execution_count": 68,
   "id": "4052f0be-f353-4f4e-9665-1a69396781a9",
   "metadata": {},
   "outputs": [
    {
     "name": "stdout",
     "output_type": "stream",
     "text": [
      "paper\n"
     ]
    }
   ],
   "source": [
    "def play_rps():\n",
    "    return random.choice(['rock', 'paper', 'scissors'])\n",
    "print(play_rps())"
   ]
  },
  {
   "cell_type": "code",
   "execution_count": 69,
   "id": "9427f345-6d52-4301-a350-969eb01a7fd7",
   "metadata": {},
   "outputs": [
    {
     "name": "stdout",
     "output_type": "stream",
     "text": [
      "1991\n"
     ]
    }
   ],
   "source": [
    "print(random.randint(1990, 2025))"
   ]
  },
  {
   "cell_type": "code",
   "execution_count": 70,
   "id": "861e0dce-140f-47b0-a31f-b1206e00c6e8",
   "metadata": {},
   "outputs": [
    {
     "name": "stdout",
     "output_type": "stream",
     "text": [
      "True\n"
     ]
    }
   ],
   "source": [
    "print(random.random() < 0.5)"
   ]
  },
  {
   "cell_type": "code",
   "execution_count": 71,
   "id": "f8968e36-3ac3-4078-a034-03f6d255bfc3",
   "metadata": {},
   "outputs": [
    {
     "name": "stdout",
     "output_type": "stream",
     "text": [
      "right\n"
     ]
    }
   ],
   "source": [
    "print(random.choice(['up', 'down', 'left', 'right']))"
   ]
  },
  {
   "cell_type": "code",
   "execution_count": 72,
   "id": "7e9c7aac-7e82-4fff-8755-1d4787f0c780",
   "metadata": {},
   "outputs": [
    {
     "name": "stdout",
     "output_type": "stream",
     "text": [
      "3\n"
     ]
    }
   ],
   "source": [
    "print(random.randint(1, 8))"
   ]
  },
  {
   "cell_type": "code",
   "execution_count": 73,
   "id": "f3038d4c-5044-4ad5-9f9c-4405d3a33c97",
   "metadata": {},
   "outputs": [
    {
     "name": "stdout",
     "output_type": "stream",
     "text": [
      "[1, 3, 4]\n"
     ]
    }
   ],
   "source": [
    "print(sorted([random.randint(1, 6) for _ in range(3)]))"
   ]
  },
  {
   "cell_type": "code",
   "execution_count": 74,
   "id": "caf51c38-9d52-4d72-8eb8-c39bf96abf11",
   "metadata": {},
   "outputs": [
    {
     "name": "stdout",
     "output_type": "stream",
     "text": [
      "[6]\n"
     ]
    }
   ],
   "source": [
    "print(random.choices([1,2,3,4,5,6], weights=[1,1,1,1,1,5], k=1))"
   ]
  },
  {
   "cell_type": "code",
   "execution_count": 75,
   "id": "7077f192-2ff4-4516-a9c5-73499ef058eb",
   "metadata": {},
   "outputs": [
    {
     "name": "stdout",
     "output_type": "stream",
     "text": [
      "6\n"
     ]
    }
   ],
   "source": [
    "import string\n",
    "\n",
    "# 71. Random digit\n",
    "print(random.choice(string.digits))"
   ]
  },
  {
   "cell_type": "code",
   "execution_count": 76,
   "id": "f8ec38d8-e3bf-438e-b327-cfdd3b47ff3a",
   "metadata": {},
   "outputs": [
    {
     "name": "stdout",
     "output_type": "stream",
     "text": [
      "g\n"
     ]
    }
   ],
   "source": [
    "print(random.choice(string.ascii_lowercase))"
   ]
  },
  {
   "cell_type": "code",
   "execution_count": 77,
   "id": "c10a99a7-c6c2-4664-a496-7d5da2e3dd01",
   "metadata": {},
   "outputs": [
    {
     "name": "stdout",
     "output_type": "stream",
     "text": [
      "I\n"
     ]
    }
   ],
   "source": [
    "print(random.choice(string.ascii_uppercase))"
   ]
  },
  {
   "cell_type": "code",
   "execution_count": 78,
   "id": "688cc563-c89d-45bb-a5c3-4251c6519c1f",
   "metadata": {},
   "outputs": [
    {
     "name": "stdout",
     "output_type": "stream",
     "text": [
      "K\n"
     ]
    }
   ],
   "source": [
    "print(random.choice(string.ascii_uppercase))"
   ]
  },
  {
   "cell_type": "code",
   "execution_count": 79,
   "id": "0959670f-eb7e-4557-9356-2ffe8d5e4491",
   "metadata": {},
   "outputs": [
    {
     "name": "stdout",
     "output_type": "stream",
     "text": [
      "946030\n"
     ]
    }
   ],
   "source": [
    "print(''.join(random.choices(string.digits, k=6)))"
   ]
  },
  {
   "cell_type": "code",
   "execution_count": 80,
   "id": "b6917611-665e-49b1-8c0d-104163e8946d",
   "metadata": {},
   "outputs": [
    {
     "name": "stdout",
     "output_type": "stream",
     "text": [
      "P4PPbPxx\n"
     ]
    }
   ],
   "source": [
    "chars = string.ascii_letters + string.digits\n",
    "print(''.join(random.choices(chars, k=8)))"
   ]
  },
  {
   "cell_type": "code",
   "execution_count": 81,
   "id": "61993bbd-dcaf-4798-89dd-def6629a7a56",
   "metadata": {},
   "outputs": [
    {
     "name": "stdout",
     "output_type": "stream",
     "text": [
      "%u?q\"6SMhU\n"
     ]
    }
   ],
   "source": [
    "chars = string.ascii_letters + string.digits + string.punctuation\n",
    "print(''.join(random.choices(chars, k=10)))\n"
   ]
  },
  {
   "cell_type": "code",
   "execution_count": 82,
   "id": "76f46d48-8399-4da7-b30a-4ada57520e11",
   "metadata": {},
   "outputs": [
    {
     "name": "stdout",
     "output_type": "stream",
     "text": [
      "['KqbL3F>0', \"'8M(CuE!\", 'lm)Sy>@m', 'Q,.jFUd[', 'yGAE\"-Xv']\n"
     ]
    }
   ],
   "source": [
    "passwords = [''.join(random.choices(chars, k=8)) for _ in range(5)]\n",
    "print(passwords)\n"
   ]
  },
  {
   "cell_type": "code",
   "execution_count": 83,
   "id": "d7b8f7e7-ce82-44df-9b40-ed84ba98e551",
   "metadata": {},
   "outputs": [
    {
     "name": "stdout",
     "output_type": "stream",
     "text": [
      "`3afWfhy\n"
     ]
    }
   ],
   "source": [
    "pwd = random.choice(string.ascii_uppercase) + \\\n",
    "      random.choice(string.digits) + \\\n",
    "      random.choice(string.punctuation) + \\\n",
    "      ''.join(random.choices(string.ascii_lowercase, k=5))\n",
    "print(''.join(random.sample(pwd, len(pwd))))"
   ]
  },
  {
   "cell_type": "code",
   "execution_count": 84,
   "id": "61dd73dc-2e85-4e9b-8cce-e6aa100168b1",
   "metadata": {},
   "outputs": [
    {
     "name": "stdout",
     "output_type": "stream",
     "text": [
      "pFAS20nvJS9P5H9L9Wzkk8jkIpgGP89y\n"
     ]
    }
   ],
   "source": [
    "print(''.join(random.choices(string.ascii_letters + string.digits, k=32)))"
   ]
  },
  {
   "cell_type": "code",
   "execution_count": 85,
   "id": "50c35d86-2ed2-44ad-a728-fba992f4e63f",
   "metadata": {},
   "outputs": [
    {
     "name": "stdout",
     "output_type": "stream",
     "text": [
      "d4:07:fa:5f:8e:cf\n"
     ]
    }
   ],
   "source": [
    "mac = \":\".join(f\"{random.randint(0, 255):02x}\" for _ in range(6))\n",
    "print(mac)"
   ]
  },
  {
   "cell_type": "code",
   "execution_count": 86,
   "id": "e1c08bce-74bc-447a-94c6-e6637358eeb6",
   "metadata": {},
   "outputs": [
    {
     "name": "stdout",
     "output_type": "stream",
     "text": [
      "#4F5359\n"
     ]
    }
   ],
   "source": [
    "print('#' + ''.join(random.choices('0123456789ABCDEF', k=6)))"
   ]
  },
  {
   "cell_type": "code",
   "execution_count": 87,
   "id": "f17fc698-0cbe-4303-a195-ddd04c2aa3c1",
   "metadata": {},
   "outputs": [
    {
     "name": "stdout",
     "output_type": "stream",
     "text": [
      "JA-1239\n"
     ]
    }
   ],
   "source": [
    "print(''.join(random.choices(string.ascii_uppercase, k=2)) + '-' + ''.join(random.choices(string.digits, k=4)))"
   ]
  },
  {
   "cell_type": "code",
   "execution_count": 88,
   "id": "25d038a1-f8ed-499b-9589-0e6354892caa",
   "metadata": {},
   "outputs": [
    {
     "name": "stdout",
     "output_type": "stream",
     "text": [
      "user4541\n"
     ]
    }
   ],
   "source": [
    "print('user' + str(random.randint(1000, 9999)))"
   ]
  },
  {
   "cell_type": "code",
   "execution_count": 89,
   "id": "33c5ff96-313b-4bff-91d3-e2c8be0f09af",
   "metadata": {},
   "outputs": [
    {
     "name": "stdout",
     "output_type": "stream",
     "text": [
      "file_96398.txt\n"
     ]
    }
   ],
   "source": [
    "print('file_' + str(random.randint(10000, 99999)) + '.txt')"
   ]
  },
  {
   "cell_type": "code",
   "execution_count": 90,
   "id": "0cf7f97e-0e82-49ea-a172-bae4de3a9135",
   "metadata": {},
   "outputs": [
    {
     "name": "stdout",
     "output_type": "stream",
     "text": [
      ".json\n"
     ]
    }
   ],
   "source": [
    "print(random.choice(['.txt', '.csv', '.json', '.xml']))"
   ]
  },
  {
   "cell_type": "code",
   "execution_count": 91,
   "id": "64a0042e-a928-4153-a4bf-46b1ce60aaec",
   "metadata": {},
   "outputs": [
    {
     "name": "stdout",
     "output_type": "stream",
     "text": [
      "7188\n"
     ]
    }
   ],
   "source": [
    "print(''.join(random.choices('0123456789abcdef', k=4)))\n"
   ]
  },
  {
   "cell_type": "code",
   "execution_count": 92,
   "id": "86c94f71-baaa-471a-a41b-bd3368c80b64",
   "metadata": {},
   "outputs": [
    {
     "name": "stdout",
     "output_type": "stream",
     "text": [
      "user_4d1wmt\n"
     ]
    }
   ],
   "source": [
    "print('user_' + ''.join(random.choices(string.ascii_lowercase + string.digits, k=6)))"
   ]
  },
  {
   "cell_type": "code",
   "execution_count": 93,
   "id": "4b01955e-5d86-4bd9-a839-bcac792e76dc",
   "metadata": {},
   "outputs": [
    {
     "name": "stdout",
     "output_type": "stream",
     "text": [
      "7898\n"
     ]
    }
   ],
   "source": [
    "print(''.join(random.choices(string.digits, k=4)))"
   ]
  },
  {
   "cell_type": "code",
   "execution_count": 94,
   "id": "c688dff8-828f-4511-ace6-9b9e46016a32",
   "metadata": {},
   "outputs": [
    {
     "name": "stdout",
     "output_type": "stream",
     "text": [
      "YyyP<ze'>r>A\n"
     ]
    }
   ],
   "source": [
    "print(''.join(random.choices(string.ascii_letters + string.punctuation + string.digits, k=12)))"
   ]
  },
  {
   "cell_type": "code",
   "execution_count": 95,
   "id": "d9f40073-2c15-4246-a5ae-5bc74cb7cb7e",
   "metadata": {},
   "outputs": [],
   "source": [
    "#Custom Random Logic & Utilities "
   ]
  },
  {
   "cell_type": "code",
   "execution_count": 96,
   "id": "f753004f-3d54-45ec-91a7-645cc522495d",
   "metadata": {},
   "outputs": [
    {
     "name": "stdout",
     "output_type": "stream",
     "text": [
      "Heads\n"
     ]
    }
   ],
   "source": [
    "print('Heads' if random.random() < 0.7 else 'Tails')"
   ]
  },
  {
   "cell_type": "code",
   "execution_count": 97,
   "id": "e07ff9ce-6fa7-4ebf-82eb-b33faddf788d",
   "metadata": {},
   "outputs": [
    {
     "name": "stdout",
     "output_type": "stream",
     "text": [
      "Fri\n"
     ]
    }
   ],
   "source": [
    "print(random.choice(['Mon', 'Tue', 'Wed', 'Thu', 'Fri']))"
   ]
  },
  {
   "cell_type": "code",
   "execution_count": 98,
   "id": "236f41c7-5319-490b-a6d5-13819e54b984",
   "metadata": {},
   "outputs": [
    {
     "name": "stdout",
     "output_type": "stream",
     "text": [
      "True\n"
     ]
    }
   ],
   "source": [
    "def random_bool(p=0.5): return random.random() < p\n",
    "print(random_bool())"
   ]
  },
  {
   "cell_type": "code",
   "execution_count": 99,
   "id": "d4541655-3b1d-458a-aa86-4db60c2e4768",
   "metadata": {},
   "outputs": [
    {
     "name": "stdout",
     "output_type": "stream",
     "text": [
      "#669C11\n"
     ]
    }
   ],
   "source": [
    "def random_hex_color(): return '#{:02X}{:02X}{:02X}'.format(*[random.randint(0, 255) for _ in range(3)])\n",
    "print(random_hex_color())"
   ]
  },
  {
   "cell_type": "code",
   "execution_count": 100,
   "id": "16931dd1-ae2a-4d98-bd9b-d85741af27bd",
   "metadata": {},
   "outputs": [
    {
     "name": "stdout",
     "output_type": "stream",
     "text": [
      "(6.730485397285662, 1.5518531002953715)\n"
     ]
    }
   ],
   "source": [
    "print((random.uniform(-10, 10), random.uniform(-10, 10)))"
   ]
  },
  {
   "cell_type": "code",
   "execution_count": 101,
   "id": "5ab86610-ac09-4287-a91e-ff45ea1addde",
   "metadata": {},
   "outputs": [
    {
     "name": "stdout",
     "output_type": "stream",
     "text": [
      "(-0.6462767356050989, 0.7631031260685656)\n"
     ]
    }
   ],
   "source": [
    "import math\n",
    "theta = random.uniform(0, 2 * math.pi)\n",
    "print((math.cos(theta), math.sin(theta)))"
   ]
  },
  {
   "cell_type": "code",
   "execution_count": 103,
   "id": "de8f5e61-a17c-404d-89c7-e5e15ccd4023",
   "metadata": {},
   "outputs": [
    {
     "name": "stdout",
     "output_type": "stream",
     "text": [
      "beadfc\n"
     ]
    }
   ],
   "source": [
    "s = \"abcdef\"\n",
    "print(''.join(random.sample(s, len(s))))"
   ]
  },
  {
   "cell_type": "code",
   "execution_count": 104,
   "id": "fee46e9a-6ba4-4498-9e20-acbe80600502",
   "metadata": {},
   "outputs": [
    {
     "name": "stdout",
     "output_type": "stream",
     "text": [
      "No\n"
     ]
    }
   ],
   "source": [
    "print(random.choices(['Yes', 'No'], weights=[0.2, 0.8])[0])"
   ]
  },
  {
   "cell_type": "code",
   "execution_count": 105,
   "id": "40af647e-f2f2-479f-8c95-c64c0e4105f8",
   "metadata": {},
   "outputs": [
    {
     "name": "stdout",
     "output_type": "stream",
     "text": [
      "a\n"
     ]
    }
   ],
   "source": [
    "print(random.choice(list(d.keys())))"
   ]
  },
  {
   "cell_type": "code",
   "execution_count": 106,
   "id": "adf1f32e-6c02-4080-ac70-cd2c495225e3",
   "metadata": {},
   "outputs": [
    {
     "name": "stdout",
     "output_type": "stream",
     "text": [
      "2\n"
     ]
    }
   ],
   "source": [
    "print(random.choice(list(d.values())))"
   ]
  },
  {
   "cell_type": "code",
   "execution_count": 107,
   "id": "40cf00ac-8d83-470a-86e9-2385ccde0fb0",
   "metadata": {},
   "outputs": [
    {
     "name": "stdout",
     "output_type": "stream",
     "text": [
      "1\n"
     ]
    }
   ],
   "source": [
    "print(random.choice(list({1, 2, 3, 4, 5})))"
   ]
  },
  {
   "cell_type": "code",
   "execution_count": 108,
   "id": "b807cd5b-64f0-4b8e-8f88-0ccf4040b826",
   "metadata": {},
   "outputs": [
    {
     "name": "stdout",
     "output_type": "stream",
     "text": [
      "['b', 'c', 'a']\n"
     ]
    }
   ],
   "source": [
    "print(random.sample(['a', 'b', 'c', 'd', 'e'], 3))\n"
   ]
  },
  {
   "cell_type": "code",
   "execution_count": 109,
   "id": "25be5236-c074-4c1d-9539-7ba4ca79d892",
   "metadata": {},
   "outputs": [
    {
     "name": "stdout",
     "output_type": "stream",
     "text": [
      "[[1, 5, 2], [6, 2, 1], [5, 7, 5]]\n"
     ]
    }
   ],
   "source": [
    "matrix = [[random.randint(0, 9) for _ in range(3)] for _ in range(3)]\n",
    "print(matrix)\n"
   ]
  },
  {
   "cell_type": "code",
   "execution_count": 110,
   "id": "e09098a8-86e7-44f6-bfba-3d4a236c1efb",
   "metadata": {},
   "outputs": [
    {
     "name": "stdout",
     "output_type": "stream",
     "text": [
      "[[0.32336223690360333, 0.7452373502161956], [0.14864018081208896, 0.7484333575783582]]\n"
     ]
    }
   ],
   "source": [
    "print([[random.random() for _ in range(2)] for _ in range(2)])"
   ]
  },
  {
   "cell_type": "code",
   "execution_count": 111,
   "id": "1dcbc94e-ccd5-4736-a98f-846c2e8caca3",
   "metadata": {},
   "outputs": [
    {
     "name": "stdout",
     "output_type": "stream",
     "text": [
      "[0.5246443223938702, 0.4798894073886164, 0.6134321478562901, 0.6963209505143704, 0.8455446857221685]\n"
     ]
    }
   ],
   "source": [
    "print([random.uniform(0, 1) for _ in range(5)])"
   ]
  },
  {
   "cell_type": "code",
   "execution_count": 112,
   "id": "0921f13a-c53e-4a68-b0d7-8061add2baee",
   "metadata": {},
   "outputs": [
    {
     "name": "stdout",
     "output_type": "stream",
     "text": [
      "[0, 2, 4, 1, 3]\n"
     ]
    }
   ],
   "source": [
    "print(random.sample(range(5), 5))\n"
   ]
  },
  {
   "cell_type": "code",
   "execution_count": 113,
   "id": "c4b5fc28-1f27-499b-8fc0-a1c4bd160cad",
   "metadata": {},
   "outputs": [
    {
     "name": "stdout",
     "output_type": "stream",
     "text": [
      "('a', 1)\n"
     ]
    }
   ],
   "source": [
    "print(random.choice(list(d.items())))"
   ]
  },
  {
   "cell_type": "code",
   "execution_count": 114,
   "id": "a889ea54-bc29-46d1-afe9-9d801a399957",
   "metadata": {},
   "outputs": [
    {
     "name": "stdout",
     "output_type": "stream",
     "text": [
      "Sleeping 2.35s\n"
     ]
    }
   ],
   "source": [
    "import time; delay = random.uniform(1, 3); print(f\"Sleeping {delay:.2f}s\"); time.sleep(delay)"
   ]
  },
  {
   "cell_type": "code",
   "execution_count": 115,
   "id": "f3d81c83-b038-4d1a-9815-67a7da8b1cdb",
   "metadata": {},
   "outputs": [
    {
     "name": "stdout",
     "output_type": "stream",
     "text": [
      "2\n"
     ]
    }
   ],
   "source": [
    "position = 0\n",
    "for _ in range(10):\n",
    "    position += random.choice([-1, 1])\n",
    "print(position)"
   ]
  },
  {
   "cell_type": "code",
   "execution_count": 116,
   "id": "25674f3a-4668-4286-b350-7cdf5294c3ce",
   "metadata": {},
   "outputs": [
    {
     "name": "stdout",
     "output_type": "stream",
     "text": [
      "0 0\n"
     ]
    }
   ],
   "source": [
    "x = y = 0\n",
    "for _ in range(10):\n",
    "    dx, dy = random.choice([(1,0), (-1,0), (0,1), (0,-1)])\n",
    "    x += dx; y += dy\n",
    "print(x, y)\n"
   ]
  },
  {
   "cell_type": "code",
   "execution_count": 117,
   "id": "4d52db0e-33ed-4f66-beb9-bab46c79c560",
   "metadata": {},
   "outputs": [
    {
     "name": "stdout",
     "output_type": "stream",
     "text": [
      "3.1192\n"
     ]
    }
   ],
   "source": [
    "inside = 0\n",
    "for _ in range(10000):\n",
    "    x, y = random.random(), random.random()\n",
    "    if x**2 + y**2 < 1: inside += 1\n",
    "print(4 * inside / 10000)"
   ]
  },
  {
   "cell_type": "code",
   "execution_count": 118,
   "id": "c4691946-05fb-4d69-889b-ee772e75e3d5",
   "metadata": {},
   "outputs": [
    {
     "name": "stdout",
     "output_type": "stream",
     "text": [
      "[107, 724, 665, 158, 136, 116, 612, 664, 569, 330]\n"
     ]
    }
   ],
   "source": [
    "big_list = list(range(1000))\n",
    "random.shuffle(big_list)\n",
    "print(big_list[:10])\n"
   ]
  },
  {
   "cell_type": "code",
   "execution_count": 119,
   "id": "049eda59-4ae9-49b3-a12d-4367a8f9cf4f",
   "metadata": {},
   "outputs": [
    {
     "name": "stdout",
     "output_type": "stream",
     "text": [
      "['Yes', 'No', 'Yes', 'Yes', 'Yes', 'Yes', 'Yes', 'Yes', 'Yes', 'No', 'Yes', 'No', 'Yes', 'No', 'No', 'Yes', 'Yes', 'No', 'Yes', 'Yes']\n"
     ]
    }
   ],
   "source": [
    "print([random.choice(['Yes', 'No']) for _ in range(20)])"
   ]
  },
  {
   "cell_type": "code",
   "execution_count": 120,
   "id": "c23240a1-e3d0-4862-a265-652057b3ffc0",
   "metadata": {},
   "outputs": [
    {
     "name": "stdout",
     "output_type": "stream",
     "text": [
      "['e', 'c', 'a']\n"
     ]
    }
   ],
   "source": [
    "print(random.sample(\"abcdefg\", 3))\n"
   ]
  },
  {
   "cell_type": "code",
   "execution_count": 121,
   "id": "ff25836c-bf93-405e-92ea-1e8e44524fdd",
   "metadata": {},
   "outputs": [
    {
     "name": "stdout",
     "output_type": "stream",
     "text": [
      "{'y': 2}\n"
     ]
    }
   ],
   "source": [
    "nested = {'a': {'x': 1}, 'b': {'y': 2}}\n",
    "print(random.choice(list(nested.values())))"
   ]
  },
  {
   "cell_type": "code",
   "execution_count": 122,
   "id": "e16c35aa-0323-410e-8027-a23c13108d8a",
   "metadata": {},
   "outputs": [
    {
     "name": "stdout",
     "output_type": "stream",
     "text": [
      "08:25\n"
     ]
    }
   ],
   "source": [
    "print(f\"{random.randint(0,23):02}:{random.randint(0,59):02}\")"
   ]
  },
  {
   "cell_type": "code",
   "execution_count": 123,
   "id": "03c05cf1-45d1-4404-bffd-241cd333e1a9",
   "metadata": {},
   "outputs": [
    {
     "name": "stdout",
     "output_type": "stream",
     "text": [
      "log_851_1751208941.txt\n"
     ]
    }
   ],
   "source": [
    "print(f\"log_{random.randint(100,999)}_{int(time.time())}.txt\")"
   ]
  },
  {
   "cell_type": "code",
   "execution_count": 124,
   "id": "7f8249b4-83fd-4f3a-bc84-1f4eea2ebc61",
   "metadata": {},
   "outputs": [
    {
     "name": "stdout",
     "output_type": "stream",
     "text": [
      "first\n"
     ]
    }
   ],
   "source": [
    "lines = [\"first\", \"second\", \"third\"]\n",
    "print(random.choice(lines))"
   ]
  },
  {
   "cell_type": "code",
   "execution_count": 125,
   "id": "93ef5d08-57d7-4c92-8a51-dac57edee815",
   "metadata": {},
   "outputs": [
    {
     "name": "stdout",
     "output_type": "stream",
     "text": [
      "2\n"
     ]
    }
   ],
   "source": [
    "def get_random_index(data): return random.randrange(len(data))\n",
    "print(get_random_index([\"apple\", \"banana\", \"cherry\"]))"
   ]
  },
  {
   "cell_type": "code",
   "execution_count": 126,
   "id": "63c11a71-f2b2-47c0-bd94-4d83d36da1dc",
   "metadata": {},
   "outputs": [
    {
     "name": "stdout",
     "output_type": "stream",
     "text": [
      "[True, False, False, True, False, True, False, False, True, False]\n"
     ]
    }
   ],
   "source": [
    "print([random.choice([True, False]) for _ in range(10)])"
   ]
  },
  {
   "cell_type": "code",
   "execution_count": 127,
   "id": "f8b13e2c-07c4-44a1-824a-1e652e677bce",
   "metadata": {},
   "outputs": [
    {
     "name": "stdout",
     "output_type": "stream",
     "text": [
      "False\n"
     ]
    }
   ],
   "source": [
    "print(random.random() < 0.3)"
   ]
  },
  {
   "cell_type": "code",
   "execution_count": 128,
   "id": "a9094e4f-30cc-43a2-842b-a6683be2430a",
   "metadata": {},
   "outputs": [
    {
     "name": "stdout",
     "output_type": "stream",
     "text": [
      "['x', 'q', 'h', 'l', 'c']\n"
     ]
    }
   ],
   "source": [
    "print(random.choices(string.ascii_lowercase, k=5))"
   ]
  },
  {
   "cell_type": "code",
   "execution_count": 129,
   "id": "dd0943e9-3995-4795-9fcf-f0f08c3fa9f1",
   "metadata": {},
   "outputs": [
    {
     "name": "stdout",
     "output_type": "stream",
     "text": [
      "['1', '4', '6', '4']\n"
     ]
    }
   ],
   "source": [
    "print(random.choices(string.digits, k=4))"
   ]
  },
  {
   "cell_type": "code",
   "execution_count": 130,
   "id": "66b5e60e-b886-4da1-a2c7-12b303303a82",
   "metadata": {},
   "outputs": [
    {
     "name": "stdout",
     "output_type": "stream",
     "text": [
      "1751216346.3365538\n"
     ]
    }
   ],
   "source": [
    "print(time.time() + random.randint(1000, 10000))"
   ]
  },
  {
   "cell_type": "code",
   "execution_count": 131,
   "id": "c25e2542-6815-4118-8dcf-4c3bd76f0210",
   "metadata": {},
   "outputs": [
    {
     "name": "stdout",
     "output_type": "stream",
     "text": [
      "50.356717471190464\n"
     ]
    }
   ],
   "source": [
    "target = 50\n",
    "print(target + random.uniform(-5, 5))"
   ]
  },
  {
   "cell_type": "code",
   "execution_count": 132,
   "id": "9456bf30-e655-43c9-8301-0aff26419754",
   "metadata": {},
   "outputs": [
    {
     "name": "stdout",
     "output_type": "stream",
     "text": [
      "69.27%\n"
     ]
    }
   ],
   "source": [
    "print(f'{random.uniform(0, 100):.2f}%')"
   ]
  },
  {
   "cell_type": "code",
   "execution_count": 133,
   "id": "44509919-1c42-44f3-8602-2203d46a2c46",
   "metadata": {},
   "outputs": [
    {
     "name": "stdout",
     "output_type": "stream",
     "text": [
      "Delay: 2.5s\n"
     ]
    }
   ],
   "source": [
    "delay = random.uniform(1, 5)\n",
    "print(f'Delay: {delay:.1f}s')"
   ]
  },
  {
   "cell_type": "code",
   "execution_count": 134,
   "id": "167915b3-840e-421e-8625-da4ff5e1d014",
   "metadata": {},
   "outputs": [
    {
     "name": "stdout",
     "output_type": "stream",
     "text": [
      "Well done!\n"
     ]
    }
   ],
   "source": [
    "print(random.choice(['Keep going!', 'Try again.', 'Well done!']))"
   ]
  },
  {
   "cell_type": "code",
   "execution_count": 135,
   "id": "a06a2340-2881-4c47-8e9e-690622f70fa4",
   "metadata": {},
   "outputs": [
    {
     "name": "stdout",
     "output_type": "stream",
     "text": [
      "84\n"
     ]
    }
   ],
   "source": [
    "print(random.choice([x for x in range(3, 100, 3)]))"
   ]
  },
  {
   "cell_type": "code",
   "execution_count": 136,
   "id": "c9e24222-7c5c-46da-b1cb-3c873376624d",
   "metadata": {},
   "outputs": [],
   "source": [
    "#General Random Values"
   ]
  },
  {
   "cell_type": "code",
   "execution_count": 137,
   "id": "baba8dbd-1961-4926-ac72-87676cd265be",
   "metadata": {},
   "outputs": [
    {
     "name": "stdout",
     "output_type": "stream",
     "text": [
      "84 0.3767823050705269\n",
      "34 0.4996558877437687\n",
      "79 0.691240369351869\n",
      "99 0.26840410858727115\n",
      "7 0.7098460181243668\n",
      "5 0.8754797296152051\n",
      "9 0.09412814389266544\n",
      "78 0.9096059220019942\n",
      "5 0.8753188411501845\n",
      "77 0.5846329189786156\n",
      "28 0.30413800514907685\n",
      "43 0.33514783037780593\n",
      "97 0.009804734092744627\n",
      "85 0.39609040485009817\n",
      "43 0.34107999905789\n",
      "29 0.16559751163388514\n",
      "78 0.43778708133113475\n",
      "12 0.7431437237246094\n",
      "84 0.9447745286454454\n",
      "95 0.15925379390082173\n",
      "93 0.4953117694259682\n",
      "95 0.43577383206430387\n",
      "72 0.9096394203849415\n",
      "26 0.22632158475619757\n",
      "71 0.8691104439723106\n",
      "97 0.3810684423581878\n",
      "68 0.2778499542183084\n",
      "84 0.49898121680846474\n",
      "95 0.3955579548284107\n",
      "72 0.442355738396508\n"
     ]
    }
   ],
   "source": [
    "for _ in range(30):\n",
    "    print(random.randint(1, 100), random.uniform(0, 1))"
   ]
  },
  {
   "cell_type": "code",
   "execution_count": 138,
   "id": "1c2dfc76-8b41-472f-9ef9-ba4402c2ee73",
   "metadata": {},
   "outputs": [],
   "source": [
    "#Random Sampling & Generation"
   ]
  },
  {
   "cell_type": "code",
   "execution_count": 139,
   "id": "76bc2756-7fc0-410c-8dd6-dce61f726e11",
   "metadata": {},
   "outputs": [
    {
     "name": "stdout",
     "output_type": "stream",
     "text": [
      "52\n"
     ]
    }
   ],
   "source": [
    "print(random.choice(range(0, 100, 2)))"
   ]
  },
  {
   "cell_type": "code",
   "execution_count": 140,
   "id": "61ebba5b-6495-45f5-aca0-2947bda519fe",
   "metadata": {},
   "outputs": [
    {
     "name": "stdout",
     "output_type": "stream",
     "text": [
      "45\n"
     ]
    }
   ],
   "source": [
    "print(random.choice(range(1, 100, 2)))\n"
   ]
  },
  {
   "cell_type": "code",
   "execution_count": 141,
   "id": "cb1335d7-e7c0-43c7-a731-16ed6ae6772d",
   "metadata": {},
   "outputs": [
    {
     "name": "stdout",
     "output_type": "stream",
     "text": [
      "29\n"
     ]
    }
   ],
   "source": [
    "primes = [2, 3, 5, 7, 11, 13, 17, 19, 23, 29]\n",
    "print(random.choice(primes))\n"
   ]
  },
  {
   "cell_type": "code",
   "execution_count": 142,
   "id": "334a9007-3919-45b2-b106-179ce3c3e264",
   "metadata": {},
   "outputs": [
    {
     "name": "stdout",
     "output_type": "stream",
     "text": [
      "o\n"
     ]
    }
   ],
   "source": [
    "print(random.choice('aeiou'))"
   ]
  },
  {
   "cell_type": "code",
   "execution_count": 143,
   "id": "1e6bc5a0-5b0c-46a4-a2a3-86b93f14af7b",
   "metadata": {},
   "outputs": [
    {
     "name": "stdout",
     "output_type": "stream",
     "text": [
      "m\n"
     ]
    }
   ],
   "source": [
    "print(random.choice([c for c in string.ascii_lowercase if c not in 'aeiou']))"
   ]
  },
  {
   "cell_type": "code",
   "execution_count": 144,
   "id": "e6f14fa4-1eff-4d26-bc1f-936a46df98ea",
   "metadata": {},
   "outputs": [
    {
     "name": "stdout",
     "output_type": "stream",
     "text": [
      "cool beautiful life\n"
     ]
    }
   ],
   "source": [
    "words = ['life', 'is', 'beautiful', 'random', 'cool', 'great']\n",
    "print(' '.join(random.choices(words, k=3)))"
   ]
  },
  {
   "cell_type": "code",
   "execution_count": 145,
   "id": "8d21d054-d71e-433e-89af-9071ee655971",
   "metadata": {},
   "outputs": [
    {
     "name": "stdout",
     "output_type": "stream",
     "text": [
      "l\n"
     ]
    }
   ],
   "source": [
    "print(random.choice(string.printable))"
   ]
  },
  {
   "cell_type": "code",
   "execution_count": 146,
   "id": "84e7b98a-134c-47d2-bf0b-4d19eb95c947",
   "metadata": {},
   "outputs": [
    {
     "name": "stdout",
     "output_type": "stream",
     "text": [
      "0\n"
     ]
    }
   ],
   "source": [
    "print(random.choice(range(0, 101, 10)))"
   ]
  },
  {
   "cell_type": "code",
   "execution_count": 147,
   "id": "24e74f22-ae0c-4f77-86e2-b712687ca960",
   "metadata": {},
   "outputs": [
    {
     "name": "stdout",
     "output_type": "stream",
     "text": [
      "490960\n"
     ]
    }
   ],
   "source": [
    "print(random.randint(100000, 999999))"
   ]
  },
  {
   "cell_type": "code",
   "execution_count": 148,
   "id": "45dc690e-75c2-4d1b-a4c4-c774ef39c230",
   "metadata": {},
   "outputs": [
    {
     "name": "stdout",
     "output_type": "stream",
     "text": [
      "c8a45e7c\n"
     ]
    }
   ],
   "source": [
    "print(''.join(random.choices('0123456789abcdef', k=8)))\n"
   ]
  },
  {
   "cell_type": "code",
   "execution_count": 149,
   "id": "dd42d3d4-4fb6-45b7-a867-c8c7aaa7d17f",
   "metadata": {},
   "outputs": [
    {
     "name": "stdout",
     "output_type": "stream",
     "text": [
      "ZJ\n"
     ]
    }
   ],
   "source": [
    "print(''.join(random.choices(string.ascii_uppercase, k=2)))"
   ]
  },
  {
   "cell_type": "code",
   "execution_count": 150,
   "id": "a807d619-ec59-4d33-814f-995ebb5fc11e",
   "metadata": {},
   "outputs": [
    {
     "name": "stdout",
     "output_type": "stream",
     "text": [
      "great-cool-beautiful\n"
     ]
    }
   ],
   "source": [
    "print('-'.join(random.choices(words, k=3)))\n"
   ]
  },
  {
   "cell_type": "code",
   "execution_count": 151,
   "id": "5a1b1a6d-94b1-4fc6-ada7-5d33af80e503",
   "metadata": {},
   "outputs": [
    {
     "name": "stdout",
     "output_type": "stream",
     "text": [
      "$181.62\n"
     ]
    }
   ],
   "source": [
    "print(f\"${random.uniform(1, 500):.2f}\")"
   ]
  },
  {
   "cell_type": "code",
   "execution_count": 152,
   "id": "0ac19269-07c7-49fc-ae1a-190d2c837ec9",
   "metadata": {},
   "outputs": [
    {
     "name": "stdout",
     "output_type": "stream",
     "text": [
      "(1, 3, 4)\n"
     ]
    }
   ],
   "source": [
    "print(tuple(random.randint(1, 10) for _ in range(3)))\n"
   ]
  },
  {
   "cell_type": "code",
   "execution_count": 153,
   "id": "089adba4-057d-4bb6-9848-91311f03bcd0",
   "metadata": {},
   "outputs": [
    {
     "name": "stdout",
     "output_type": "stream",
     "text": [
      "Pass\n"
     ]
    }
   ],
   "source": [
    "print(random.choices(['Pass', 'Fail'], weights=[90, 10], k=1)[0])\n"
   ]
  },
  {
   "cell_type": "code",
   "execution_count": 154,
   "id": "f4649ac9-ed74-4d44-bfaf-0f201489cb12",
   "metadata": {},
   "outputs": [
    {
     "name": "stdout",
     "output_type": "stream",
     "text": [
      "ID-MVUSH\n"
     ]
    }
   ],
   "source": [
    "print('ID-' + ''.join(random.choices(string.ascii_uppercase, k=5)))"
   ]
  },
  {
   "cell_type": "code",
   "execution_count": 155,
   "id": "fa2fd0af-ffae-4f85-9526-1397f465f34c",
   "metadata": {},
   "outputs": [
    {
     "name": "stdout",
     "output_type": "stream",
     "text": [
      "11:08 PM\n"
     ]
    }
   ],
   "source": [
    "print(f\"{random.randint(1,12)}:{random.randint(0,59):02} {'AM' if random.random()<0.5 else 'PM'}\")"
   ]
  },
  {
   "cell_type": "code",
   "execution_count": 156,
   "id": "95c84f1c-3586-4cf2-b1fc-181123976c2a",
   "metadata": {},
   "outputs": [
    {
     "name": "stdout",
     "output_type": "stream",
     "text": [
      "01010000\n"
     ]
    }
   ],
   "source": [
    "print(''.join(random.choices('01', k=8)))"
   ]
  },
  {
   "cell_type": "code",
   "execution_count": 157,
   "id": "7d9a346e-13b8-4769-8020-117766f592e0",
   "metadata": {},
   "outputs": [
    {
     "name": "stdout",
     "output_type": "stream",
     "text": [
      "022102\n"
     ]
    }
   ],
   "source": [
    "print(''.join(random.choices('012', k=6)))"
   ]
  },
  {
   "cell_type": "code",
   "execution_count": 158,
   "id": "5c77cd3d-0ee7-4d05-87a6-dded83daecc2",
   "metadata": {},
   "outputs": [
    {
     "name": "stdout",
     "output_type": "stream",
     "text": [
      "[[7, 0], [0, 7]]\n"
     ]
    }
   ],
   "source": [
    "print([[random.randint(0,9) for _ in range(2)] for _ in range(2)])"
   ]
  },
  {
   "cell_type": "code",
   "execution_count": null,
   "id": "85f472f9-1ecd-4b73-951c-f098c23f6260",
   "metadata": {},
   "outputs": [],
   "source": []
  }
 ],
 "metadata": {
  "kernelspec": {
   "display_name": "Python 3 (ipykernel)",
   "language": "python",
   "name": "python3"
  },
  "language_info": {
   "codemirror_mode": {
    "name": "ipython",
    "version": 3
   },
   "file_extension": ".py",
   "mimetype": "text/x-python",
   "name": "python",
   "nbconvert_exporter": "python",
   "pygments_lexer": "ipython3",
   "version": "3.12.11"
  }
 },
 "nbformat": 4,
 "nbformat_minor": 5
}
