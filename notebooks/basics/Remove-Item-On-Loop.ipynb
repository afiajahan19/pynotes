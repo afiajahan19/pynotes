{
 "cells": [
  {
   "cell_type": "code",
   "execution_count": 1,
   "id": "4b90fe40-7aea-4c45-bc5c-9f8bddbcea76",
   "metadata": {},
   "outputs": [],
   "source": [
    "list = [\n",
    "    1, 2, 3, 4, 5, 6\n",
    "]"
   ]
  },
  {
   "cell_type": "code",
   "execution_count": 2,
   "id": "b43c6805-64b0-4e77-8dfc-89b25ce551fb",
   "metadata": {},
   "outputs": [
    {
     "name": "stdout",
     "output_type": "stream",
     "text": [
      "0 1\n",
      "1 2\n",
      "2 3\n",
      "3 4\n",
      "4 5\n",
      "5 6\n"
     ]
    }
   ],
   "source": [
    "for i, j in enumerate(list):\n",
    "    print(i, j)"
   ]
  },
  {
   "cell_type": "code",
   "execution_count": 3,
   "id": "32163741-6375-40c9-ad67-305ddb25f37e",
   "metadata": {},
   "outputs": [],
   "source": [
    "for i, j in enumerate(list):\n",
    "    if(j % 2 == 0):\n",
    "        del list[i]"
   ]
  },
  {
   "cell_type": "code",
   "execution_count": 4,
   "id": "6107e337-4127-4c0e-ab42-3e33caba14d6",
   "metadata": {},
   "outputs": [
    {
     "data": {
      "text/plain": [
       "[1, 3, 5]"
      ]
     },
     "execution_count": 4,
     "metadata": {},
     "output_type": "execute_result"
    }
   ],
   "source": [
    "list"
   ]
  },
  {
   "cell_type": "code",
   "execution_count": 5,
   "id": "1717f222-e4a1-4107-949a-929fba21e204",
   "metadata": {},
   "outputs": [],
   "source": [
    "# Short form\n",
    "new_list = [x for x in list if x % 2 == 1]"
   ]
  },
  {
   "cell_type": "code",
   "execution_count": 6,
   "id": "28893859-d680-4417-9bba-e770c9db7d46",
   "metadata": {},
   "outputs": [
    {
     "data": {
      "text/plain": [
       "[1, 3, 5]"
      ]
     },
     "execution_count": 6,
     "metadata": {},
     "output_type": "execute_result"
    }
   ],
   "source": [
    "new_list"
   ]
  },
  {
   "cell_type": "code",
   "execution_count": 7,
   "id": "8cf5796e-1778-4af4-8c3c-52884b90f82f",
   "metadata": {},
   "outputs": [],
   "source": [
    "list = [1, 2, 3, 4, 5, 6, 7, 8]"
   ]
  },
  {
   "cell_type": "code",
   "execution_count": 8,
   "id": "f262f14c-cfce-4a2c-ad55-d717c565fb7a",
   "metadata": {},
   "outputs": [],
   "source": [
    "from itertools import filterfalse\n",
    "\n",
    "list[:] = filterfalse((lambda x: x%3), list)"
   ]
  },
  {
   "cell_type": "code",
   "execution_count": 9,
   "id": "e0570186-2029-4455-a105-c094bc7e191e",
   "metadata": {},
   "outputs": [
    {
     "data": {
      "text/plain": [
       "[3, 6]"
      ]
     },
     "execution_count": 9,
     "metadata": {},
     "output_type": "execute_result"
    }
   ],
   "source": [
    "list"
   ]
  },
  {
   "cell_type": "code",
   "execution_count": null,
   "id": "5520c5fc-5c57-499b-be27-15422110f358",
   "metadata": {},
   "outputs": [],
   "source": []
  }
 ],
 "metadata": {
  "kernelspec": {
   "display_name": "Python 3 (ipykernel)",
   "language": "python",
   "name": "python3"
  },
  "language_info": {
   "codemirror_mode": {
    "name": "ipython",
    "version": 3
   },
   "file_extension": ".py",
   "mimetype": "text/x-python",
   "name": "python",
   "nbconvert_exporter": "python",
   "pygments_lexer": "ipython3",
   "version": "3.12.11"
  }
 },
 "nbformat": 4,
 "nbformat_minor": 5
}
