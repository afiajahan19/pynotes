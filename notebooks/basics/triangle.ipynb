{
 "cells": [
  {
   "cell_type": "code",
   "execution_count": 3,
   "id": "fab1a7c8-921c-4f89-9b6e-7d4ec4594948",
   "metadata": {},
   "outputs": [
    {
     "name": "stdout",
     "output_type": "stream",
     "text": [
      "Minimum path sum: 11\n"
     ]
    }
   ],
   "source": [
    "from typing import List\n",
    "\n",
    "class Solution:\n",
    "    def minimumTotal(self, triangle: List[List[int]]) -> int:\n",
    "        for i in reversed(range(len(triangle) - 1)):\n",
    "            for j in range(i + 1):\n",
    "                triangle[i][j] += min(triangle[i + 1][j],\n",
    "                                      triangle[i + 1][j + 1])\n",
    "        return triangle[0][0]\n",
    "\n",
    "# Example triangle input\n",
    "triangle = [\n",
    "    [2],\n",
    "    [3, 4],\n",
    "    [6, 5, 7],\n",
    "    [4, 1, 8, 3]\n",
    "]\n",
    "\n",
    "# Create an instance of Solution and call the method\n",
    "sol = Solution()\n",
    "result = sol.minimumTotal(triangle)\n",
    "print(\"Minimum path sum:\", result)\n",
    "\n"
   ]
  },
  {
   "cell_type": "code",
   "execution_count": null,
   "id": "fc60ef51-a0db-4f55-95a2-e4c180c9c55f",
   "metadata": {},
   "outputs": [],
   "source": []
  },
  {
   "cell_type": "code",
   "execution_count": null,
   "id": "22caf12b-13d5-413f-8539-281712c758a1",
   "metadata": {},
   "outputs": [],
   "source": []
  }
 ],
 "metadata": {
  "kernelspec": {
   "display_name": "Python 3 (ipykernel)",
   "language": "python",
   "name": "python3"
  },
  "language_info": {
   "codemirror_mode": {
    "name": "ipython",
    "version": 3
   },
   "file_extension": ".py",
   "mimetype": "text/x-python",
   "name": "python",
   "nbconvert_exporter": "python",
   "pygments_lexer": "ipython3",
   "version": "3.12.11"
  }
 },
 "nbformat": 4,
 "nbformat_minor": 5
}
