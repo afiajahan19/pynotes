{
 "cells": [
  {
   "cell_type": "code",
   "execution_count": 1,
   "id": "48d28e81-b3bb-4066-b609-312a80eb9e8b",
   "metadata": {},
   "outputs": [
    {
     "name": "stdout",
     "output_type": "stream",
     "text": [
      "Original Array:\n",
      "[[1 2 3]\n",
      " [4 5 6]\n",
      " [7 8 9]]\n",
      "\n",
      "First row:\n",
      "[1 2 3]\n",
      "\n",
      "Second column:\n",
      "[2 5 8]\n",
      "\n",
      "Sub-matrix (first two rows and columns):\n",
      "[[1 2]\n",
      " [4 5]]\n",
      "\n",
      "Reversed array (rows and columns):\n",
      "[[9 8 7]\n",
      " [6 5 4]\n",
      " [3 2 1]]\n"
     ]
    }
   ],
   "source": [
    "import numpy as np\n",
    "\n",
    "# Create a 2D array\n",
    "a = np.array([[1, 2, 3],\n",
    "              [4, 5, 6],\n",
    "              [7, 8, 9]])\n",
    "\n",
    "print(\"Original Array:\")\n",
    "print(a)\n",
    "\n",
    "# Slice a specific row\n",
    "print(\"\\nFirst row:\")\n",
    "print(a[0])\n",
    "\n",
    "# Slice a specific column\n",
    "print(\"\\nSecond column:\")\n",
    "print(a[:, 1])\n",
    "\n",
    "# Slice a sub-matrix\n",
    "print(\"\\nSub-matrix (first two rows and columns):\")\n",
    "print(a[0:2, 0:2])\n",
    "\n",
    "# Reverse the array\n",
    "print(\"\\nReversed array (rows and columns):\")\n",
    "print(a[::-1, ::-1])\n"
   ]
  },
  {
   "cell_type": "code",
   "execution_count": 1,
   "id": "3cbcc539-adb4-4cf0-af3f-063d2a770667",
   "metadata": {},
   "outputs": [
    {
     "data": {
      "text/plain": [
       "[10, 20, 30, 40, 50, 60, 70, 80, 90]"
      ]
     },
     "execution_count": 1,
     "metadata": {},
     "output_type": "execute_result"
    }
   ],
   "source": [
    "# Create a list of numbers\n",
    "a = [10, 20, 30, 40, 50, 60, 70, 80, 90]\n",
    "a"
   ]
  },
  {
   "cell_type": "code",
   "execution_count": 2,
   "id": "069981f3-97cd-4c67-bfe5-e3f51cf6d87c",
   "metadata": {},
   "outputs": [
    {
     "data": {
      "text/plain": [
       "list"
      ]
     },
     "execution_count": 2,
     "metadata": {},
     "output_type": "execute_result"
    }
   ],
   "source": [
    "# Check the type of 'a'\n",
    "type(a)\n"
   ]
  },
  {
   "cell_type": "code",
   "execution_count": 3,
   "id": "60c3b58c-2141-435f-b46a-ada6af3d6988",
   "metadata": {},
   "outputs": [
    {
     "data": {
      "text/plain": [
       "[50, 60, 70, 80]"
      ]
     },
     "execution_count": 3,
     "metadata": {},
     "output_type": "execute_result"
    }
   ],
   "source": [
    "# Get elements from index 4 to 7 (not including 8)\n",
    "a[4:8]\n",
    "# Output: [50, 60, 70, 80]\n"
   ]
  },
  {
   "cell_type": "code",
   "execution_count": 4,
   "id": "8948dd4f-5f0e-463a-b863-640d26f1afe3",
   "metadata": {},
   "outputs": [
    {
     "data": {
      "text/plain": [
       "[10, 20, 30, 40]"
      ]
     },
     "execution_count": 4,
     "metadata": {},
     "output_type": "execute_result"
    }
   ],
   "source": [
    "# Get first 4 items\n",
    "a[:4]\n",
    "# Output: [10, 20, 30, 40]\n"
   ]
  },
  {
   "cell_type": "code",
   "execution_count": 5,
   "id": "61e0d973-0655-457b-8304-42267678cebb",
   "metadata": {},
   "outputs": [
    {
     "data": {
      "text/plain": [
       "[50, 60, 70, 80, 90]"
      ]
     },
     "execution_count": 5,
     "metadata": {},
     "output_type": "execute_result"
    }
   ],
   "source": [
    "# Get all elements from index 4 to the end\n",
    "a[4:]\n",
    "# Output: [50, 60, 70, 80, 90]\n"
   ]
  },
  {
   "cell_type": "code",
   "execution_count": 6,
   "id": "63728e1f-ff7a-4908-b453-0b1ed4149a0d",
   "metadata": {},
   "outputs": [
    {
     "data": {
      "text/plain": [
       "[10, 20, 30, 40, 50, 60, 70, 80, 90]"
      ]
     },
     "execution_count": 6,
     "metadata": {},
     "output_type": "execute_result"
    }
   ],
   "source": [
    "# Get a full copy of the list\n",
    "a[:]\n",
    "# Output: [10, 20, 30, 40, 50, 60, 70, 80, 90]\n"
   ]
  },
  {
   "cell_type": "code",
   "execution_count": 7,
   "id": "37cfaaab-0320-486f-9841-955f126ca519",
   "metadata": {},
   "outputs": [
    {
     "data": {
      "text/plain": [
       "80"
      ]
     },
     "execution_count": 7,
     "metadata": {},
     "output_type": "execute_result"
    }
   ],
   "source": [
    "# Last item\n",
    "a[-1]\n",
    "# Output: 90\n",
    "\n",
    "# Second last item\n",
    "a[-2]\n",
    "# Output: 80\n"
   ]
  },
  {
   "cell_type": "code",
   "execution_count": 8,
   "id": "1fda6f0c-ab46-4cc6-87bd-bac0cc10738d",
   "metadata": {},
   "outputs": [
    {
     "data": {
      "text/plain": [
       "[10, 20, 30, 40, 50, 60, 70]"
      ]
     },
     "execution_count": 8,
     "metadata": {},
     "output_type": "execute_result"
    }
   ],
   "source": [
    "# Last 2 items\n",
    "a[-2:]\n",
    "# Output: [80, 90]\n",
    "\n",
    "# Everything except last 2 items\n",
    "a[:-2]\n",
    "# Output: [10, 20, 30, 40, 50, 60, 70]\n"
   ]
  },
  {
   "cell_type": "code",
   "execution_count": 9,
   "id": "d3f0c1e5-7f50-4eae-a401-717b51b31abd",
   "metadata": {},
   "outputs": [
    {
     "data": {
      "text/plain": [
       "[90, 80, 70, 60, 50, 40, 30, 20, 10]"
      ]
     },
     "execution_count": 9,
     "metadata": {},
     "output_type": "execute_result"
    }
   ],
   "source": [
    "# All items reversed\n",
    "a[::-1]\n",
    "# Output: [90, 80, 70, 60, 50, 40, 30, 20, 10]\n"
   ]
  },
  {
   "cell_type": "code",
   "execution_count": 10,
   "id": "69e00591-17b2-4e87-abaa-8f0d2c10bc01",
   "metadata": {},
   "outputs": [
    {
     "data": {
      "text/plain": [
       "[20]"
      ]
     },
     "execution_count": 10,
     "metadata": {},
     "output_type": "execute_result"
    }
   ],
   "source": [
    "# First two items in reverse\n",
    "a[1::-1]\n",
    "# Output: [20, 10]\n",
    "\n",
    "# First two items reversed with step -2\n",
    "a[1::-2]\n",
    "# Output: [20]\n"
   ]
  },
  {
   "cell_type": "code",
   "execution_count": 11,
   "id": "aaf4c2b9-43db-4317-b987-479bc010ac6f",
   "metadata": {},
   "outputs": [
    {
     "data": {
      "text/plain": [
       "[30, 20, 10]"
      ]
     },
     "execution_count": 11,
     "metadata": {},
     "output_type": "execute_result"
    }
   ],
   "source": [
    "# Get the first three items reversed\n",
    "a[2::-1]\n",
    "# Output: [30, 20, 10]\n"
   ]
  },
  {
   "cell_type": "code",
   "execution_count": 12,
   "id": "782f5648-ad22-461a-b5b8-7f8beae33386",
   "metadata": {},
   "outputs": [
    {
     "data": {
      "text/plain": [
       "[80, 70, 60, 50, 40, 30, 20, 10]"
      ]
     },
     "execution_count": 12,
     "metadata": {},
     "output_type": "execute_result"
    }
   ],
   "source": [
    "# All items reversed except last one\n",
    "a[-2::-1]\n",
    "# Output: [80, 70, 60, 50, 40, 30, 20, 10]\n"
   ]
  },
  {
   "cell_type": "code",
   "execution_count": 13,
   "id": "48c06a2e-c082-420c-b4c3-bb76e2dcf8b0",
   "metadata": {},
   "outputs": [
    {
     "data": {
      "text/plain": [
       "[70, 60, 50, 40, 30, 20, 10]"
      ]
     },
     "execution_count": 13,
     "metadata": {},
     "output_type": "execute_result"
    }
   ],
   "source": [
    "# Remove last 2 items and reverse the rest\n",
    "a[-3::-1]\n",
    "# Output: [70, 60, 50, 40, 30, 20, 10]\n"
   ]
  },
  {
   "cell_type": "code",
   "execution_count": 14,
   "id": "4d565a6f-0923-4ac5-8e7f-d48e170f9e04",
   "metadata": {},
   "outputs": [
    {
     "data": {
      "text/plain": [
       "[90, 80, 70]"
      ]
     },
     "execution_count": 14,
     "metadata": {},
     "output_type": "execute_result"
    }
   ],
   "source": [
    "# Last two items reversed\n",
    "a[:-3:-1]\n",
    "# Output: [90, 80]\n",
    "\n",
    "# Last three items reversed\n",
    "a[:-4:-1]\n",
    "# Output: [90, 80, 70]\n"
   ]
  },
  {
   "cell_type": "code",
   "execution_count": 15,
   "id": "c87b5a20-2eab-45c1-b0d5-f3a3d30a4ae3",
   "metadata": {},
   "outputs": [
    {
     "data": {
      "text/plain": [
       "[60, 50, 40, 30, 20, 10]"
      ]
     },
     "execution_count": 15,
     "metadata": {},
     "output_type": "execute_result"
    }
   ],
   "source": [
    "# Everything except the last 3 items, reversed\n",
    "a[-4::-1]\n",
    "# Output: [60, 50, 40, 30, 20, 10]\n"
   ]
  },
  {
   "cell_type": "code",
   "execution_count": null,
   "id": "6bfee997-8978-4d10-ae3a-12e47e11a5fd",
   "metadata": {},
   "outputs": [],
   "source": []
  }
 ],
 "metadata": {
  "kernelspec": {
   "display_name": "Python 3 (ipykernel)",
   "language": "python",
   "name": "python3"
  },
  "language_info": {
   "codemirror_mode": {
    "name": "ipython",
    "version": 3
   },
   "file_extension": ".py",
   "mimetype": "text/x-python",
   "name": "python",
   "nbconvert_exporter": "python",
   "pygments_lexer": "ipython3",
   "version": "3.12.11"
  }
 },
 "nbformat": 4,
 "nbformat_minor": 5
}
