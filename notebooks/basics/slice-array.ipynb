{
 "cells": [
  {
   "cell_type": "code",
   "execution_count": 1,
   "id": "48d28e81-b3bb-4066-b609-312a80eb9e8b",
   "metadata": {},
   "outputs": [
    {
     "name": "stdout",
     "output_type": "stream",
     "text": [
      "Original Array:\n",
      "[[1 2 3]\n",
      " [4 5 6]\n",
      " [7 8 9]]\n",
      "\n",
      "First row:\n",
      "[1 2 3]\n",
      "\n",
      "Second column:\n",
      "[2 5 8]\n",
      "\n",
      "Sub-matrix (first two rows and columns):\n",
      "[[1 2]\n",
      " [4 5]]\n",
      "\n",
      "Reversed array (rows and columns):\n",
      "[[9 8 7]\n",
      " [6 5 4]\n",
      " [3 2 1]]\n"
     ]
    }
   ],
   "source": [
    "import numpy as np\n",
    "\n",
    "# Create a 2D array\n",
    "a = np.array([[1, 2, 3],\n",
    "              [4, 5, 6],\n",
    "              [7, 8, 9]])\n",
    "\n",
    "print(\"Original Array:\")\n",
    "print(a)\n",
    "\n",
    "# Slice a specific row\n",
    "print(\"\\nFirst row:\")\n",
    "print(a[0])\n",
    "\n",
    "# Slice a specific column\n",
    "print(\"\\nSecond column:\")\n",
    "print(a[:, 1])\n",
    "\n",
    "# Slice a sub-matrix\n",
    "print(\"\\nSub-matrix (first two rows and columns):\")\n",
    "print(a[0:2, 0:2])\n",
    "\n",
    "# Reverse the array\n",
    "print(\"\\nReversed array (rows and columns):\")\n",
    "print(a[::-1, ::-1])\n"
   ]
  },
  {
   "cell_type": "code",
   "execution_count": null,
   "id": "3cbcc539-adb4-4cf0-af3f-063d2a770667",
   "metadata": {},
   "outputs": [],
   "source": []
  }
 ],
 "metadata": {
  "kernelspec": {
   "display_name": "Python 3 (ipykernel)",
   "language": "python",
   "name": "python3"
  },
  "language_info": {
   "codemirror_mode": {
    "name": "ipython",
    "version": 3
   },
   "file_extension": ".py",
   "mimetype": "text/x-python",
   "name": "python",
   "nbconvert_exporter": "python",
   "pygments_lexer": "ipython3",
   "version": "3.12.11"
  }
 },
 "nbformat": 4,
 "nbformat_minor": 5
}
