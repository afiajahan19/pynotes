{
 "cells": [
  {
   "cell_type": "code",
   "execution_count": 3,
   "id": "0a396634-0222-4b97-814c-6f243028700f",
   "metadata": {},
   "outputs": [],
   "source": [
    "import timeit"
   ]
  },
  {
   "cell_type": "code",
   "execution_count": 4,
   "id": "7b2b8866-bdfc-44fb-b92b-d64d95ed443f",
   "metadata": {},
   "outputs": [],
   "source": [
    "def linear_search(lys, element):  \n",
    "    for i in range (len(lys)):\n",
    "        if lys[i] == element:\n",
    "            return i\n",
    "    return -1"
   ]
  },
  {
   "cell_type": "code",
   "execution_count": 5,
   "id": "444fe74c-76b4-4b81-aec1-a0c57f8247d0",
   "metadata": {},
   "outputs": [],
   "source": [
    "def binary_search(lys, val):  \n",
    "    first = 0\n",
    "    last = len(lys)-1\n",
    "    index = -1\n",
    "    while (first <= last) and (index == -1):\n",
    "        mid = (first+last)//2\n",
    "        if lys[mid] == val:\n",
    "            index = mid\n",
    "        else:\n",
    "            if val<lys[mid]:\n",
    "                last = mid -1\n",
    "            else:\n",
    "                first = mid +1\n",
    "    return index"
   ]
  },
  {
   "cell_type": "code",
   "execution_count": 6,
   "id": "77c5b565-c1e7-4d0c-b67d-b5087899a215",
   "metadata": {},
   "outputs": [],
   "source": [
    "list = [1, 2, 5, 6]"
   ]
  },
  {
   "cell_type": "code",
   "execution_count": 9,
   "id": "49223d67-c115-4202-8b09-c4cb9d185d82",
   "metadata": {},
   "outputs": [
    {
     "name": "stdout",
     "output_type": "stream",
     "text": [
      "Linear search time: 12.38422070001252\n"
     ]
    }
   ],
   "source": [
    "SETUP_CODE = ''' \n",
    "from __main__ import linear_search, binary_search\n",
    "from random import randint'''\n",
    "\n",
    "TEST_CODE = ''' \n",
    "mylist = [x for x in range(10000)] \n",
    "find = randint(0, len(mylist)) \n",
    "linear_search(mylist, find) \n",
    "'''\n",
    "\n",
    "# timeit.repeat statement \n",
    "times = timeit.repeat(setup = SETUP_CODE, \n",
    "                      stmt = TEST_CODE, \n",
    "                      repeat = 3, \n",
    "                      number = 10000) \n",
    "\n",
    "# priniting minimum exec. time \n",
    "print('Linear search time: {}'.format(min(times))) \n",
    "\n",
    "TEST_CODE = ''' \n",
    "mylist = [x for x in range(10000)] \n",
    "find = randint(0, len(mylist)) \n",
    "binary_search(mylist, find) \n",
    "'''"
   ]
  },
  {
   "cell_type": "code",
   "execution_count": 10,
   "id": "21390201-bfcb-4dfb-b777-a3a14b49cd3c",
   "metadata": {},
   "outputs": [
    {
     "name": "stdout",
     "output_type": "stream",
     "text": [
      "Binary search time: 6.7221921000164\n"
     ]
    }
   ],
   "source": [
    "# timeit.repeat statement \n",
    "times = timeit.repeat(setup = SETUP_CODE, \n",
    "                      stmt = TEST_CODE, \n",
    "                      repeat = 3, \n",
    "                      number = 10000) \n",
    "\n",
    "# priniting minimum exec. time \n",
    "print('Binary search time: {}'.format(min(times)))"
   ]
  },
  {
   "cell_type": "code",
   "execution_count": null,
   "id": "f3a69d02-6936-41cb-b06f-72b7704bb124",
   "metadata": {},
   "outputs": [],
   "source": []
  }
 ],
 "metadata": {
  "kernelspec": {
   "display_name": "Python 3 (ipykernel)",
   "language": "python",
   "name": "python3"
  },
  "language_info": {
   "codemirror_mode": {
    "name": "ipython",
    "version": 3
   },
   "file_extension": ".py",
   "mimetype": "text/x-python",
   "name": "python",
   "nbconvert_exporter": "python",
   "pygments_lexer": "ipython3",
   "version": "3.12.11"
  }
 },
 "nbformat": 4,
 "nbformat_minor": 5
}
