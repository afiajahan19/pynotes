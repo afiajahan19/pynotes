{
 "cells": [
  {
   "cell_type": "code",
   "execution_count": 1,
   "id": "5f9f179a-cb04-4a25-8c08-7aac79016ec1",
   "metadata": {},
   "outputs": [
    {
     "data": {
      "text/html": [
       "<style type=\"text/css\">\n",
       "#T_7db2f_row0_col0, #T_7db2f_row0_col1, #T_7db2f_row0_col2, #T_7db2f_row1_col0, #T_7db2f_row1_col1, #T_7db2f_row1_col2, #T_7db2f_row2_col0, #T_7db2f_row2_col1, #T_7db2f_row2_col2 {\n",
       "  text-align: center;\n",
       "}\n",
       "</style>\n",
       "<table id=\"T_7db2f\">\n",
       "  <thead>\n",
       "    <tr>\n",
       "      <th class=\"blank level0\" >&nbsp;</th>\n",
       "      <th id=\"T_7db2f_level0_col0\" class=\"col_heading level0 col0\" >ID</th>\n",
       "      <th id=\"T_7db2f_level0_col1\" class=\"col_heading level0 col1\" >Name</th>\n",
       "      <th id=\"T_7db2f_level0_col2\" class=\"col_heading level0 col2\" >Age</th>\n",
       "    </tr>\n",
       "  </thead>\n",
       "  <tbody>\n",
       "    <tr>\n",
       "      <th id=\"T_7db2f_level0_row0\" class=\"row_heading level0 row0\" >0</th>\n",
       "      <td id=\"T_7db2f_row0_col0\" class=\"data row0 col0\" >1</td>\n",
       "      <td id=\"T_7db2f_row0_col1\" class=\"data row0 col1\" >Alice</td>\n",
       "      <td id=\"T_7db2f_row0_col2\" class=\"data row0 col2\" >25</td>\n",
       "    </tr>\n",
       "    <tr>\n",
       "      <th id=\"T_7db2f_level0_row1\" class=\"row_heading level0 row1\" >1</th>\n",
       "      <td id=\"T_7db2f_row1_col0\" class=\"data row1 col0\" >2</td>\n",
       "      <td id=\"T_7db2f_row1_col1\" class=\"data row1 col1\" >Bob</td>\n",
       "      <td id=\"T_7db2f_row1_col2\" class=\"data row1 col2\" >30</td>\n",
       "    </tr>\n",
       "    <tr>\n",
       "      <th id=\"T_7db2f_level0_row2\" class=\"row_heading level0 row2\" >2</th>\n",
       "      <td id=\"T_7db2f_row2_col0\" class=\"data row2 col0\" >3</td>\n",
       "      <td id=\"T_7db2f_row2_col1\" class=\"data row2 col1\" >Charlie</td>\n",
       "      <td id=\"T_7db2f_row2_col2\" class=\"data row2 col2\" >35</td>\n",
       "    </tr>\n",
       "  </tbody>\n",
       "</table>\n"
      ],
      "text/plain": [
       "<pandas.io.formats.style.Styler at 0x2b9e7e10b30>"
      ]
     },
     "metadata": {},
     "output_type": "display_data"
    }
   ],
   "source": [
    "import pandas as pd\n",
    "from IPython.display import display\n",
    "\n",
    "# Example list of tuples\n",
    "data = [\n",
    "    (1, 'Alice', 25),\n",
    "    (2, 'Bob', 30),\n",
    "    (3, 'Charlie', 35)\n",
    "]\n",
    "\n",
    "# Convert the list of tuples to a DataFrame\n",
    "df = pd.DataFrame(data, columns=['ID', 'Name', 'Age'])\n",
    "\n",
    "# Set display options\n",
    "pd.set_option('display.max_rows', 100)\n",
    "pd.set_option('display.max_columns', 100)\n",
    "\n",
    "# Apply custom styling\n",
    "styled_df = df.style.set_properties(**{'text-align': 'center'})\n",
    "\n",
    "# Display the DataFrame\n",
    "display(styled_df)"
   ]
  },
  {
   "cell_type": "code",
   "execution_count": 2,
   "id": "ee2f3142-cd10-43f5-a63b-e10dc479fb76",
   "metadata": {},
   "outputs": [],
   "source": [
    "import pandas as pd\n",
    "from IPython.display import display\n",
    "\n",
    "def list2table(cdata, col_list = None):\n",
    "\n",
    "    first_row = cdata[0]\n",
    "    cols_count = len(first_row)\n",
    "\n",
    "    if not col_list:\n",
    "        col_list = []\n",
    "        for idx in range(cols_count):\n",
    "            col_list.append(f'col_{idx}')\n",
    "\n",
    "    # Convert the list of tuples to a DataFrame\n",
    "    df1 = pd.DataFrame(cdata, columns = col_list)\n",
    "\n",
    "    # Set display options\n",
    "    pd.set_option('display.max_rows', 100)\n",
    "    pd.set_option('display.max_columns', 100)\n",
    "\n",
    "    # Apply custom styling\n",
    "    styled_df = df1.style.set_properties(**{'text-align': 'center'})\n",
    "\n",
    "    # Display the DataFrame\n",
    "    display(styled_df)"
   ]
  },
  {
   "cell_type": "code",
   "execution_count": 3,
   "id": "ce908690-bf00-4a4f-b627-c9b6156d58ea",
   "metadata": {},
   "outputs": [],
   "source": [
    "data1 = [\n",
    "    (1, 'Raja', 25),\n",
    "    (2, 'Bob', 30),\n",
    "    (3, 'Charlie', 35),\n",
    "    (3, 'Charlie', 35)\n",
    "]"
   ]
  },
  {
   "cell_type": "code",
   "execution_count": 4,
   "id": "be5874c5-c03d-4d1d-8c9b-c446b1982d96",
   "metadata": {},
   "outputs": [
    {
     "data": {
      "text/html": [
       "<style type=\"text/css\">\n",
       "#T_35deb_row0_col0, #T_35deb_row0_col1, #T_35deb_row0_col2, #T_35deb_row1_col0, #T_35deb_row1_col1, #T_35deb_row1_col2, #T_35deb_row2_col0, #T_35deb_row2_col1, #T_35deb_row2_col2, #T_35deb_row3_col0, #T_35deb_row3_col1, #T_35deb_row3_col2 {\n",
       "  text-align: center;\n",
       "}\n",
       "</style>\n",
       "<table id=\"T_35deb\">\n",
       "  <thead>\n",
       "    <tr>\n",
       "      <th class=\"blank level0\" >&nbsp;</th>\n",
       "      <th id=\"T_35deb_level0_col0\" class=\"col_heading level0 col0\" >id</th>\n",
       "      <th id=\"T_35deb_level0_col1\" class=\"col_heading level0 col1\" >name</th>\n",
       "      <th id=\"T_35deb_level0_col2\" class=\"col_heading level0 col2\" >age</th>\n",
       "    </tr>\n",
       "  </thead>\n",
       "  <tbody>\n",
       "    <tr>\n",
       "      <th id=\"T_35deb_level0_row0\" class=\"row_heading level0 row0\" >0</th>\n",
       "      <td id=\"T_35deb_row0_col0\" class=\"data row0 col0\" >1</td>\n",
       "      <td id=\"T_35deb_row0_col1\" class=\"data row0 col1\" >Raja</td>\n",
       "      <td id=\"T_35deb_row0_col2\" class=\"data row0 col2\" >25</td>\n",
       "    </tr>\n",
       "    <tr>\n",
       "      <th id=\"T_35deb_level0_row1\" class=\"row_heading level0 row1\" >1</th>\n",
       "      <td id=\"T_35deb_row1_col0\" class=\"data row1 col0\" >2</td>\n",
       "      <td id=\"T_35deb_row1_col1\" class=\"data row1 col1\" >Bob</td>\n",
       "      <td id=\"T_35deb_row1_col2\" class=\"data row1 col2\" >30</td>\n",
       "    </tr>\n",
       "    <tr>\n",
       "      <th id=\"T_35deb_level0_row2\" class=\"row_heading level0 row2\" >2</th>\n",
       "      <td id=\"T_35deb_row2_col0\" class=\"data row2 col0\" >3</td>\n",
       "      <td id=\"T_35deb_row2_col1\" class=\"data row2 col1\" >Charlie</td>\n",
       "      <td id=\"T_35deb_row2_col2\" class=\"data row2 col2\" >35</td>\n",
       "    </tr>\n",
       "    <tr>\n",
       "      <th id=\"T_35deb_level0_row3\" class=\"row_heading level0 row3\" >3</th>\n",
       "      <td id=\"T_35deb_row3_col0\" class=\"data row3 col0\" >3</td>\n",
       "      <td id=\"T_35deb_row3_col1\" class=\"data row3 col1\" >Charlie</td>\n",
       "      <td id=\"T_35deb_row3_col2\" class=\"data row3 col2\" >35</td>\n",
       "    </tr>\n",
       "  </tbody>\n",
       "</table>\n"
      ],
      "text/plain": [
       "<pandas.io.formats.style.Styler at 0x2b9e8e9d6d0>"
      ]
     },
     "metadata": {},
     "output_type": "display_data"
    }
   ],
   "source": [
    "list2table(data1, [\"id\", \"name\",  \"age\"])"
   ]
  },
  {
   "cell_type": "code",
   "execution_count": null,
   "id": "d86aa8e7-5e8b-4db4-8767-3af6755109ef",
   "metadata": {},
   "outputs": [],
   "source": []
  }
 ],
 "metadata": {
  "kernelspec": {
   "display_name": "Python 3 (ipykernel)",
   "language": "python",
   "name": "python3"
  },
  "language_info": {
   "codemirror_mode": {
    "name": "ipython",
    "version": 3
   },
   "file_extension": ".py",
   "mimetype": "text/x-python",
   "name": "python",
   "nbconvert_exporter": "python",
   "pygments_lexer": "ipython3",
   "version": "3.12.11"
  }
 },
 "nbformat": 4,
 "nbformat_minor": 5
}
