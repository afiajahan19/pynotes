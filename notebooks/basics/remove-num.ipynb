{
 "cells": [
  {
   "cell_type": "code",
   "execution_count": 1,
   "id": "016982db-d88d-4186-a125-d0e294a78f7f",
   "metadata": {},
   "outputs": [],
   "source": [
    "content = '15. TFRecord in Tensorflow'"
   ]
  },
  {
   "cell_type": "code",
   "execution_count": 2,
   "id": "19c37f6a-ff5d-458f-bff6-e24565cb78cd",
   "metadata": {},
   "outputs": [
    {
     "data": {
      "text/plain": [
       "'15. TFRecord in Tensorflow'"
      ]
     },
     "execution_count": 2,
     "metadata": {},
     "output_type": "execute_result"
    }
   ],
   "source": [
    "content\n"
   ]
  },
  {
   "cell_type": "code",
   "execution_count": 3,
   "id": "425a5c00-89ce-4bef-a9fa-214d73f1da8a",
   "metadata": {},
   "outputs": [],
   "source": [
    "import re"
   ]
  },
  {
   "cell_type": "code",
   "execution_count": 4,
   "id": "86a68460-9e20-4dd5-9864-d90a5d483076",
   "metadata": {},
   "outputs": [],
   "source": [
    "result = re.sub(r'\\d+\\.', '', content)"
   ]
  },
  {
   "cell_type": "code",
   "execution_count": 5,
   "id": "132e1252-5db9-44e5-98ff-818aea671787",
   "metadata": {},
   "outputs": [
    {
     "data": {
      "text/plain": [
       "'TFRecord in Tensorflow'"
      ]
     },
     "execution_count": 5,
     "metadata": {},
     "output_type": "execute_result"
    }
   ],
   "source": [
    "result.strip()"
   ]
  },
  {
   "cell_type": "code",
   "execution_count": 6,
   "id": "9f3a304c-30e7-457e-8ce6-f4570d025f8d",
   "metadata": {},
   "outputs": [],
   "source": [
    "content2 = \"\"\"1. Cross Entropy Loss Derivation\n",
    "\n",
    "2. How to split a tensorflow model into two parts?\n",
    "\n",
    "3. RNN Text Generation with Eager Execution\n",
    "\n",
    "4. Softmax activation in Tensor\"\"\""
   ]
  },
  {
   "cell_type": "code",
   "execution_count": 7,
   "id": "29da76b0-17af-47ef-a6cb-7858c42d904a",
   "metadata": {},
   "outputs": [
    {
     "data": {
      "text/plain": [
       "'1. Cross Entropy Loss Derivation\\n\\n2. How to split a tensorflow model into two parts?\\n\\n3. RNN Text Generation with Eager Execution\\n\\n4. Softmax activation in Tensor'"
      ]
     },
     "execution_count": 7,
     "metadata": {},
     "output_type": "execute_result"
    }
   ],
   "source": [
    "content2"
   ]
  },
  {
   "cell_type": "code",
   "execution_count": 8,
   "id": "01ed09a4-44e0-4530-a823-66edec7f9ba2",
   "metadata": {},
   "outputs": [],
   "source": [
    "result2 = re.sub(r'\\d+\\.', '', content2)"
   ]
  },
  {
   "cell_type": "code",
   "execution_count": 9,
   "id": "6ac263c6-40ca-44da-9ca0-ed5b2bba1f9a",
   "metadata": {},
   "outputs": [
    {
     "data": {
      "text/plain": [
       "'Cross Entropy Loss Derivation\\n\\n How to split a tensorflow model into two parts?\\n\\n RNN Text Generation with Eager Execution\\n\\n Softmax activation in Tensor'"
      ]
     },
     "execution_count": 9,
     "metadata": {},
     "output_type": "execute_result"
    }
   ],
   "source": [
    "result2.strip()"
   ]
  },
  {
   "cell_type": "code",
   "execution_count": 10,
   "id": "5b9c1b3a-4390-4ca0-a07b-3848866b7f06",
   "metadata": {},
   "outputs": [
    {
     "name": "stdout",
     "output_type": "stream",
     "text": [
      "Cross Entropy Loss Derivation\n",
      "\n",
      "How to split a tensorflow model into two parts?\n",
      "\n",
      "RNN Text Generation with Eager Execution\n",
      "\n",
      "Softmax activation in Tensor\n"
     ]
    }
   ],
   "source": [
    "for c in result2.strip().split('\\n'):\n",
    "    print(c.strip())"
   ]
  },
  {
   "cell_type": "code",
   "execution_count": null,
   "id": "e02f1b60-a86d-4262-b0bc-3bc023c8bad5",
   "metadata": {},
   "outputs": [],
   "source": []
  }
 ],
 "metadata": {
  "kernelspec": {
   "display_name": "Python 3 (ipykernel)",
   "language": "python",
   "name": "python3"
  },
  "language_info": {
   "codemirror_mode": {
    "name": "ipython",
    "version": 3
   },
   "file_extension": ".py",
   "mimetype": "text/x-python",
   "name": "python",
   "nbconvert_exporter": "python",
   "pygments_lexer": "ipython3",
   "version": "3.12.11"
  }
 },
 "nbformat": 4,
 "nbformat_minor": 5
}
