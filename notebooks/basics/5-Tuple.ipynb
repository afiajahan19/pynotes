{
 "cells": [
  {
   "cell_type": "code",
   "execution_count": 1,
   "id": "f0f2c5d8-3049-43ec-a4be-0da1a81bc896",
   "metadata": {},
   "outputs": [],
   "source": [
    "#Tuple Basics"
   ]
  },
  {
   "cell_type": "code",
   "execution_count": 2,
   "id": "b38688c7-860e-4ee8-b938-0e647e4d5e5b",
   "metadata": {},
   "outputs": [
    {
     "name": "stdout",
     "output_type": "stream",
     "text": [
      "(1, 2, 3)\n"
     ]
    }
   ],
   "source": [
    "t = (1, 2, 3)\n",
    "print(t)"
   ]
  },
  {
   "cell_type": "code",
   "execution_count": 3,
   "id": "65eae037-c1b3-42a2-b79d-33fd95d8656a",
   "metadata": {},
   "outputs": [
    {
     "name": "stdout",
     "output_type": "stream",
     "text": [
      "<class 'tuple'>\n"
     ]
    }
   ],
   "source": [
    "print(type(t))"
   ]
  },
  {
   "cell_type": "code",
   "execution_count": 4,
   "id": "80922ce5-0dd0-4719-a8af-59c4841b5dbf",
   "metadata": {},
   "outputs": [
    {
     "name": "stdout",
     "output_type": "stream",
     "text": [
      "(4, 5, 6)\n"
     ]
    }
   ],
   "source": [
    "t2 = tuple([4, 5, 6])\n",
    "print(t2)"
   ]
  },
  {
   "cell_type": "code",
   "execution_count": 5,
   "id": "89582843-2fd8-4baf-9e49-8f8a8dfbd607",
   "metadata": {},
   "outputs": [
    {
     "name": "stdout",
     "output_type": "stream",
     "text": [
      "(1, 2, 3)\n"
     ]
    }
   ],
   "source": [
    "t3 = 1, 2, 3\n",
    "print(t3)\n"
   ]
  },
  {
   "cell_type": "code",
   "execution_count": 6,
   "id": "15f00f45-0b08-4f1b-aa41-027cabf30247",
   "metadata": {},
   "outputs": [
    {
     "name": "stdout",
     "output_type": "stream",
     "text": [
      "(1,)\n"
     ]
    }
   ],
   "source": [
    "t4 = (1,)  # single element\n",
    "print(t4)"
   ]
  },
  {
   "cell_type": "code",
   "execution_count": 7,
   "id": "0ade0a77-91c6-46a3-be75-274677ccde9d",
   "metadata": {},
   "outputs": [
    {
     "name": "stdout",
     "output_type": "stream",
     "text": [
      "3\n"
     ]
    }
   ],
   "source": [
    "print(len(t))"
   ]
  },
  {
   "cell_type": "code",
   "execution_count": 8,
   "id": "04770a7d-b9af-441f-b7cc-93b96144b56a",
   "metadata": {},
   "outputs": [
    {
     "name": "stdout",
     "output_type": "stream",
     "text": [
      "1\n"
     ]
    }
   ],
   "source": [
    "print(t[0])"
   ]
  },
  {
   "cell_type": "code",
   "execution_count": 9,
   "id": "aa2f7dd4-def8-4041-a8bd-a17f8ab91cb2",
   "metadata": {},
   "outputs": [
    {
     "name": "stdout",
     "output_type": "stream",
     "text": [
      "3\n"
     ]
    }
   ],
   "source": [
    "print(t[-1])"
   ]
  },
  {
   "cell_type": "code",
   "execution_count": 10,
   "id": "e9fb67d1-d2a1-458f-89b5-a43cb1a07837",
   "metadata": {},
   "outputs": [
    {
     "name": "stdout",
     "output_type": "stream",
     "text": [
      "(2, 3)\n"
     ]
    }
   ],
   "source": [
    "print(t[1:3])\n"
   ]
  },
  {
   "cell_type": "code",
   "execution_count": 11,
   "id": "1aeb039f-f779-4085-a7d8-7f7c41d04d47",
   "metadata": {},
   "outputs": [
    {
     "name": "stdout",
     "output_type": "stream",
     "text": [
      "(1, 2)\n"
     ]
    }
   ],
   "source": [
    "print(t[:2])"
   ]
  },
  {
   "cell_type": "code",
   "execution_count": 12,
   "id": "c08f120a-8a55-4ac5-aa21-98646acd8a9d",
   "metadata": {},
   "outputs": [
    {
     "name": "stdout",
     "output_type": "stream",
     "text": [
      "(1, 3)\n"
     ]
    }
   ],
   "source": [
    "print(t[::2])"
   ]
  },
  {
   "cell_type": "code",
   "execution_count": 13,
   "id": "adab2225-cf22-4233-b6cf-7350f406178a",
   "metadata": {},
   "outputs": [
    {
     "name": "stdout",
     "output_type": "stream",
     "text": [
      "True\n"
     ]
    }
   ],
   "source": [
    "print(2 in t)"
   ]
  },
  {
   "cell_type": "code",
   "execution_count": 14,
   "id": "e77e6417-9fba-4e5c-9cb8-942680457a73",
   "metadata": {},
   "outputs": [
    {
     "name": "stdout",
     "output_type": "stream",
     "text": [
      "True\n"
     ]
    }
   ],
   "source": [
    "print(5 not in t)\n"
   ]
  },
  {
   "cell_type": "code",
   "execution_count": 15,
   "id": "85af9ea2-87a8-422c-be62-28004be3c293",
   "metadata": {},
   "outputs": [
    {
     "name": "stdout",
     "output_type": "stream",
     "text": [
      "(1, 2, 3, 4, 5)\n"
     ]
    }
   ],
   "source": [
    "print(t + (4, 5))"
   ]
  },
  {
   "cell_type": "code",
   "execution_count": 16,
   "id": "ce2a2de4-ca49-476b-a6c8-75c333256713",
   "metadata": {},
   "outputs": [
    {
     "name": "stdout",
     "output_type": "stream",
     "text": [
      "(1, 2, 3, 1, 2, 3)\n"
     ]
    }
   ],
   "source": [
    "print(t * 2)"
   ]
  },
  {
   "cell_type": "code",
   "execution_count": 17,
   "id": "c34783cc-d617-43d6-8aa7-d671ec842cff",
   "metadata": {},
   "outputs": [
    {
     "name": "stdout",
     "output_type": "stream",
     "text": [
      "2\n"
     ]
    }
   ],
   "source": [
    "t_nested = (1, (2, 3))\n",
    "print(t_nested[1][0])\n"
   ]
  },
  {
   "cell_type": "code",
   "execution_count": 18,
   "id": "60c630a9-3ea0-4d27-9386-77b64ad3e8fb",
   "metadata": {},
   "outputs": [
    {
     "name": "stdout",
     "output_type": "stream",
     "text": [
      "<class 'tuple'>\n"
     ]
    }
   ],
   "source": [
    "print(type(()))"
   ]
  },
  {
   "cell_type": "code",
   "execution_count": 19,
   "id": "75629168-ac81-4dd2-b360-4c442ab64823",
   "metadata": {},
   "outputs": [
    {
     "name": "stdout",
     "output_type": "stream",
     "text": [
      "('a', 'b', 'c')\n"
     ]
    }
   ],
   "source": [
    "print(tuple(\"abc\"))"
   ]
  },
  {
   "cell_type": "code",
   "execution_count": 20,
   "id": "3a3b8f9d-19bd-42a7-804d-b282627092af",
   "metadata": {},
   "outputs": [
    {
     "name": "stdout",
     "output_type": "stream",
     "text": [
      "(0, 1, 2)\n"
     ]
    }
   ],
   "source": [
    "print(tuple(range(3)))"
   ]
  },
  {
   "cell_type": "code",
   "execution_count": 21,
   "id": "768d416c-811c-48f2-80f5-1be3e8045422",
   "metadata": {},
   "outputs": [
    {
     "name": "stdout",
     "output_type": "stream",
     "text": [
      "[1, 2, 3]\n"
     ]
    }
   ],
   "source": [
    "print(sorted((3, 1, 2)))"
   ]
  },
  {
   "cell_type": "code",
   "execution_count": 22,
   "id": "55837808-bc36-4a7c-a2ef-32dc7217af64",
   "metadata": {},
   "outputs": [],
   "source": [
    "#Tuple Functions"
   ]
  },
  {
   "cell_type": "code",
   "execution_count": 23,
   "id": "fb00ee4d-54fc-4e55-abed-4ecd4a8d6c0c",
   "metadata": {},
   "outputs": [
    {
     "name": "stdout",
     "output_type": "stream",
     "text": [
      "6\n"
     ]
    }
   ],
   "source": [
    "print(sum((1, 2, 3)))"
   ]
  },
  {
   "cell_type": "code",
   "execution_count": 24,
   "id": "07938984-c71f-49a4-9a78-0f0bae9ee582",
   "metadata": {},
   "outputs": [
    {
     "name": "stdout",
     "output_type": "stream",
     "text": [
      "1\n"
     ]
    }
   ],
   "source": [
    "print(min((1, 2, 3)))"
   ]
  },
  {
   "cell_type": "code",
   "execution_count": 25,
   "id": "04bb9531-4795-40bd-9a0b-cd86f4d88408",
   "metadata": {},
   "outputs": [
    {
     "name": "stdout",
     "output_type": "stream",
     "text": [
      "3\n"
     ]
    }
   ],
   "source": [
    "print(max((1, 2, 3)))\n"
   ]
  },
  {
   "cell_type": "code",
   "execution_count": 26,
   "id": "2ae10240-4c8d-4372-8f15-970b7fa3a420",
   "metadata": {},
   "outputs": [
    {
     "name": "stdout",
     "output_type": "stream",
     "text": [
      "True\n"
     ]
    }
   ],
   "source": [
    "print(all((1, True, 3)))\n"
   ]
  },
  {
   "cell_type": "code",
   "execution_count": 27,
   "id": "a1f01b20-e623-4709-8254-2fa85610db62",
   "metadata": {},
   "outputs": [
    {
     "name": "stdout",
     "output_type": "stream",
     "text": [
      "True\n"
     ]
    }
   ],
   "source": [
    "print(any((0, 0, 1)))\n"
   ]
  },
  {
   "cell_type": "code",
   "execution_count": 28,
   "id": "38d1dd22-750b-4aff-9264-4f9b5df1e319",
   "metadata": {},
   "outputs": [
    {
     "name": "stdout",
     "output_type": "stream",
     "text": [
      "[1, 2, 3]\n"
     ]
    }
   ],
   "source": [
    "print(list((1, 2, 3)))"
   ]
  },
  {
   "cell_type": "code",
   "execution_count": 29,
   "id": "0a86b118-72e7-4323-82f4-2dbe67bb1090",
   "metadata": {},
   "outputs": [
    {
     "name": "stdout",
     "output_type": "stream",
     "text": [
      "(1, 2)\n"
     ]
    }
   ],
   "source": [
    "print(str((1, 2)))\n"
   ]
  },
  {
   "cell_type": "code",
   "execution_count": 30,
   "id": "0b2cfc17-73ce-441b-b969-d45d807df865",
   "metadata": {},
   "outputs": [
    {
     "name": "stdout",
     "output_type": "stream",
     "text": [
      "<reversed object at 0x0000021F7A08B910>\n"
     ]
    }
   ],
   "source": [
    "print(reversed((1, 2, 3)))\n"
   ]
  },
  {
   "cell_type": "code",
   "execution_count": 31,
   "id": "cbbf7851-b2cc-4f4d-adfb-5cdaac426e16",
   "metadata": {},
   "outputs": [
    {
     "name": "stdout",
     "output_type": "stream",
     "text": [
      "3\n",
      "2\n",
      "1\n"
     ]
    }
   ],
   "source": [
    "for i in reversed((1, 2, 3)):\n",
    "    print(i)"
   ]
  },
  {
   "cell_type": "code",
   "execution_count": 32,
   "id": "f40e11fe-6708-4fef-a47e-0a0a5410cffd",
   "metadata": {},
   "outputs": [
    {
     "name": "stdout",
     "output_type": "stream",
     "text": [
      "(3, 2, 1)\n"
     ]
    }
   ],
   "source": [
    "print(tuple(reversed((1, 2, 3))))"
   ]
  },
  {
   "cell_type": "code",
   "execution_count": 33,
   "id": "578e4ca5-0e54-43fc-935a-925e3e245ec1",
   "metadata": {},
   "outputs": [],
   "source": [
    "#Tuple Unpacking"
   ]
  },
  {
   "cell_type": "code",
   "execution_count": 34,
   "id": "3d10c1f7-ee4c-47c2-96e0-e29e55c0eeeb",
   "metadata": {},
   "outputs": [
    {
     "name": "stdout",
     "output_type": "stream",
     "text": [
      "10 20\n"
     ]
    }
   ],
   "source": [
    "a, b = (10, 20)\n",
    "print(a, b)"
   ]
  },
  {
   "cell_type": "code",
   "execution_count": 35,
   "id": "0302a2cc-71ea-46f4-942d-741bea7c36b4",
   "metadata": {},
   "outputs": [
    {
     "name": "stdout",
     "output_type": "stream",
     "text": [
      "3\n"
     ]
    }
   ],
   "source": [
    "a, b, c = (1, 2, 3)\n",
    "print(c)"
   ]
  },
  {
   "cell_type": "code",
   "execution_count": 36,
   "id": "d1369f5c-6515-4b42-a900-da7b8bf84a46",
   "metadata": {},
   "outputs": [
    {
     "name": "stdout",
     "output_type": "stream",
     "text": [
      "[2, 3, 4]\n"
     ]
    }
   ],
   "source": [
    "t = (1, 2, 3, 4)\n",
    "a, *b = t\n",
    "print(b)"
   ]
  },
  {
   "cell_type": "code",
   "execution_count": 37,
   "id": "712bbd75-bfe5-483a-be11-5293a6372b2b",
   "metadata": {},
   "outputs": [
    {
     "name": "stdout",
     "output_type": "stream",
     "text": [
      "[1, 2, 3] 4\n"
     ]
    }
   ],
   "source": [
    "*a, b = t\n",
    "print(a, b)"
   ]
  },
  {
   "cell_type": "code",
   "execution_count": 38,
   "id": "7f2cc57e-2dff-4a41-a999-00507bd37adf",
   "metadata": {},
   "outputs": [
    {
     "name": "stdout",
     "output_type": "stream",
     "text": [
      "[3, 4]\n"
     ]
    }
   ],
   "source": [
    "a, b, *c = t\n",
    "print(c)"
   ]
  },
  {
   "cell_type": "code",
   "execution_count": 39,
   "id": "b3722a01-2175-4e2d-98e9-20cb0bfa8d5a",
   "metadata": {},
   "outputs": [
    {
     "name": "stdout",
     "output_type": "stream",
     "text": [
      "a=10, b=20, c=30, d=40\n"
     ]
    }
   ],
   "source": [
    "a, b, c, d = (10, 20, 30, 40)\n",
    "print(f\"{a=}, {b=}, {c=}, {d=}\")"
   ]
  },
  {
   "cell_type": "code",
   "execution_count": 40,
   "id": "fa7516d9-2e3f-463c-bbc5-ab015c6b035e",
   "metadata": {},
   "outputs": [
    {
     "name": "stdout",
     "output_type": "stream",
     "text": [
      "5\n"
     ]
    }
   ],
   "source": [
    "t1 = (1, 2)\n",
    "t2 = (3, 4)\n",
    "a, b, c, d = (*t1, *t2)\n",
    "print(a + d)"
   ]
  },
  {
   "cell_type": "code",
   "execution_count": 41,
   "id": "b2bdfaab-b2ad-40d8-b660-6d60a17d2e30",
   "metadata": {},
   "outputs": [
    {
     "name": "stdout",
     "output_type": "stream",
     "text": [
      "3 1\n"
     ]
    }
   ],
   "source": [
    "x, y = divmod(10, 3)\n",
    "print(x, y)\n",
    "\n"
   ]
  },
  {
   "cell_type": "code",
   "execution_count": 42,
   "id": "ad79323e-108e-4bee-a86e-88306f5894ba",
   "metadata": {},
   "outputs": [
    {
     "name": "stdout",
     "output_type": "stream",
     "text": [
      "3\n",
      "7\n"
     ]
    }
   ],
   "source": [
    "data = [(1, 2), (3, 4)]\n",
    "for a, b in data:\n",
    "    print(a + b)"
   ]
  },
  {
   "cell_type": "code",
   "execution_count": 43,
   "id": "cbbc9604-5cec-4257-8d37-7e5d1bfe0064",
   "metadata": {},
   "outputs": [
    {
     "name": "stdout",
     "output_type": "stream",
     "text": [
      "0 10\n",
      "1 20\n",
      "2 30\n"
     ]
    }
   ],
   "source": [
    "for idx, val in enumerate((10, 20, 30)):\n",
    "    print(idx, val)\n"
   ]
  },
  {
   "cell_type": "code",
   "execution_count": 45,
   "id": "4f2e6176-079b-4a0c-9f69-cbddb8f39f71",
   "metadata": {},
   "outputs": [],
   "source": [
    "#Tuple Methods / Immutable Nature\n"
   ]
  },
  {
   "cell_type": "code",
   "execution_count": 46,
   "id": "7c815bc3-197b-4195-9dc0-a9e662fcca2e",
   "metadata": {},
   "outputs": [
    {
     "name": "stdout",
     "output_type": "stream",
     "text": [
      "2\n"
     ]
    }
   ],
   "source": [
    "t = (1, 2, 3, 2)\n",
    "print(t.count(2))"
   ]
  },
  {
   "cell_type": "code",
   "execution_count": 47,
   "id": "2768ff85-4ad1-4b5c-8fa3-ee896295d54b",
   "metadata": {},
   "outputs": [
    {
     "name": "stdout",
     "output_type": "stream",
     "text": [
      "2\n"
     ]
    }
   ],
   "source": [
    "print(t.index(3))"
   ]
  },
  {
   "cell_type": "code",
   "execution_count": 48,
   "id": "900cdb75-3d0d-4a6e-821a-409189e01493",
   "metadata": {},
   "outputs": [
    {
     "name": "stdout",
     "output_type": "stream",
     "text": [
      "'tuple' object does not support item assignment\n"
     ]
    }
   ],
   "source": [
    "try:\n",
    "    t[0] = 100\n",
    "except TypeError as e:\n",
    "    print(e)"
   ]
  },
  {
   "cell_type": "code",
   "execution_count": 49,
   "id": "7c2a742a-7ecf-4a1d-9453-8f1177fde76f",
   "metadata": {},
   "outputs": [
    {
     "name": "stdout",
     "output_type": "stream",
     "text": [
      "'tuple' object has no attribute 'append'\n"
     ]
    }
   ],
   "source": [
    "try:\n",
    "    t.append(4)\n",
    "except AttributeError as e:\n",
    "    print(e)"
   ]
  },
  {
   "cell_type": "code",
   "execution_count": 50,
   "id": "5e202ad9-a125-4603-bcfe-2ff3f8f860a3",
   "metadata": {},
   "outputs": [
    {
     "name": "stdout",
     "output_type": "stream",
     "text": [
      "2334221183360\n",
      "2334221131648\n"
     ]
    }
   ],
   "source": [
    "x = (1, 2, 3)\n",
    "print(id(x))\n",
    "x = x + (4,)\n",
    "print(id(x))  # different object\n"
   ]
  },
  {
   "cell_type": "code",
   "execution_count": 51,
   "id": "819bebb9-914a-406e-b38e-36d47d3f069d",
   "metadata": {},
   "outputs": [
    {
     "name": "stdout",
     "output_type": "stream",
     "text": [
      "(1, [99, 3])\n"
     ]
    }
   ],
   "source": [
    "t = (1, [2, 3])\n",
    "t[1][0] = 99  # mutable inside\n",
    "print(t)"
   ]
  },
  {
   "cell_type": "code",
   "execution_count": 52,
   "id": "2f3a08b6-e4c8-49eb-95be-8e2b8bbafae3",
   "metadata": {},
   "outputs": [
    {
     "name": "stdout",
     "output_type": "stream",
     "text": [
      "1\n"
     ]
    }
   ],
   "source": [
    "t = (1, 2, 3)\n",
    "print(t.index(2))"
   ]
  },
  {
   "cell_type": "code",
   "execution_count": 53,
   "id": "491786ac-e68a-4b2c-a898-5357b24382c3",
   "metadata": {},
   "outputs": [
    {
     "name": "stdout",
     "output_type": "stream",
     "text": [
      "True\n"
     ]
    }
   ],
   "source": [
    "print((1, 2) == (1, 2))\n"
   ]
  },
  {
   "cell_type": "code",
   "execution_count": 54,
   "id": "9f0b0289-a940-450d-899d-dacbf1a1d83f",
   "metadata": {},
   "outputs": [
    {
     "name": "stdout",
     "output_type": "stream",
     "text": [
      "True\n"
     ]
    }
   ],
   "source": [
    "print((1, 2) < (2, 1))"
   ]
  },
  {
   "cell_type": "code",
   "execution_count": 55,
   "id": "c799811f-3dc3-49e6-8b0e-9d968bf35300",
   "metadata": {},
   "outputs": [],
   "source": [
    "#Tuple with Other Data Types"
   ]
  },
  {
   "cell_type": "code",
   "execution_count": 56,
   "id": "72bab619-e760-4750-a1aa-8fc11ae71ce9",
   "metadata": {},
   "outputs": [
    {
     "name": "stdout",
     "output_type": "stream",
     "text": [
      "(1, 'two', 3.0)\n"
     ]
    }
   ],
   "source": [
    "mixed = (1, \"two\", 3.0)\n",
    "print(mixed)"
   ]
  },
  {
   "cell_type": "code",
   "execution_count": 57,
   "id": "0809dbb2-48d7-4833-9f7c-6741b2252d4e",
   "metadata": {},
   "outputs": [
    {
     "name": "stdout",
     "output_type": "stream",
     "text": [
      "True\n"
     ]
    }
   ],
   "source": [
    "print(isinstance((1, 2), tuple))"
   ]
  },
  {
   "cell_type": "code",
   "execution_count": 58,
   "id": "4032501e-3c41-45d2-b46e-1502eccac8b0",
   "metadata": {},
   "outputs": [
    {
     "name": "stdout",
     "output_type": "stream",
     "text": [
      "(('a', 1), ('b', 2))\n"
     ]
    }
   ],
   "source": [
    "d = {\"a\": 1, \"b\": 2}\n",
    "print(tuple(d.items()))"
   ]
  },
  {
   "cell_type": "code",
   "execution_count": 59,
   "id": "9e977623-bfd4-4b81-9717-ddcf045e726e",
   "metadata": {},
   "outputs": [
    {
     "name": "stdout",
     "output_type": "stream",
     "text": [
      "[('a', 1), ('b', 2)]\n"
     ]
    }
   ],
   "source": [
    "print(list(d.items()))"
   ]
  },
  {
   "cell_type": "code",
   "execution_count": 60,
   "id": "cf8d9f24-f04b-438f-b6f5-12d313e59671",
   "metadata": {},
   "outputs": [
    {
     "name": "stdout",
     "output_type": "stream",
     "text": [
      "('a', 'b')\n"
     ]
    }
   ],
   "source": [
    "print(tuple(d.keys()))"
   ]
  },
  {
   "cell_type": "code",
   "execution_count": 61,
   "id": "63cca621-7953-4ea0-9b5c-42c8354e67aa",
   "metadata": {},
   "outputs": [
    {
     "name": "stdout",
     "output_type": "stream",
     "text": [
      "(1, 2)\n"
     ]
    }
   ],
   "source": [
    "print(tuple(d.values()))"
   ]
  },
  {
   "cell_type": "code",
   "execution_count": 62,
   "id": "119c9b25-69f9-43ba-aa70-16cbe2b7500a",
   "metadata": {},
   "outputs": [
    {
     "name": "stdout",
     "output_type": "stream",
     "text": [
      "(('a', 10), ('b', 20))\n"
     ]
    }
   ],
   "source": [
    "names = [\"a\", \"b\"]\n",
    "scores = [10, 20]\n",
    "zipped = tuple(zip(names, scores))\n",
    "print(zipped)"
   ]
  },
  {
   "cell_type": "code",
   "execution_count": 63,
   "id": "7cc6610a-3b80-4030-8dab-1779f72e78f5",
   "metadata": {},
   "outputs": [
    {
     "name": "stdout",
     "output_type": "stream",
     "text": [
      "(('a', 'b'), (10, 20))\n"
     ]
    }
   ],
   "source": [
    "unzipped = zip(*zipped)\n",
    "print(tuple(unzipped))\n"
   ]
  },
  {
   "cell_type": "code",
   "execution_count": 64,
   "id": "52293d5d-f90d-405e-9084-bad8d48c881f",
   "metadata": {},
   "outputs": [
    {
     "name": "stdout",
     "output_type": "stream",
     "text": [
      "25\n"
     ]
    }
   ],
   "source": [
    "args = (5, 2)\n",
    "print(pow(*args))"
   ]
  },
  {
   "cell_type": "code",
   "execution_count": 65,
   "id": "0b3a1057-5623-4ff4-87bc-25972c1ad4a3",
   "metadata": {},
   "outputs": [
    {
     "name": "stdout",
     "output_type": "stream",
     "text": [
      "(1, 2)\n",
      "(3, 4)\n"
     ]
    }
   ],
   "source": [
    "matrix = ((1, 2), (3, 4))\n",
    "for row in matrix:\n",
    "    print(row)"
   ]
  },
  {
   "cell_type": "code",
   "execution_count": 67,
   "id": "f9725ca0-695d-4c72-9ba3-45d6a86a9c57",
   "metadata": {},
   "outputs": [],
   "source": [
    "#Advanced / Tricks / Tuple Use Cases"
   ]
  },
  {
   "cell_type": "code",
   "execution_count": 68,
   "id": "03139c22-d155-440b-bbf9-6ff8f83d2289",
   "metadata": {},
   "outputs": [
    {
     "name": "stdout",
     "output_type": "stream",
     "text": [
      "0\n",
      "2\n"
     ]
    }
   ],
   "source": [
    "coords = ((0, 0), (1, 1))\n",
    "for x, y in coords:\n",
    "    print(x + y)"
   ]
  },
  {
   "cell_type": "code",
   "execution_count": 69,
   "id": "88f72115-4f3f-4d5d-9843-e39b2b7c9482",
   "metadata": {},
   "outputs": [
    {
     "name": "stdout",
     "output_type": "stream",
     "text": [
      "3\n",
      "7\n"
     ]
    }
   ],
   "source": [
    "for pair in [(1, 2), (3, 4)]:\n",
    "    print(sum(pair))"
   ]
  },
  {
   "cell_type": "code",
   "execution_count": 70,
   "id": "6084bdc9-a6a4-4cf0-afb9-71f62152f2a7",
   "metadata": {},
   "outputs": [
    {
     "name": "stdout",
     "output_type": "stream",
     "text": [
      "3\n",
      "7\n"
     ]
    }
   ],
   "source": [
    "for pair in [(1, 2), (3, 4)]:\n",
    "    print(sum(pair))"
   ]
  },
  {
   "cell_type": "code",
   "execution_count": 71,
   "id": "95ab4cbd-3684-4b5f-a781-ef1648fa9cc6",
   "metadata": {},
   "outputs": [
    {
     "name": "stdout",
     "output_type": "stream",
     "text": [
      "3\n"
     ]
    }
   ],
   "source": [
    "def multi_return():\n",
    "    return 1, 2, 3\n",
    "x, y, z = multi_return()\n",
    "print(z)"
   ]
  },
  {
   "cell_type": "code",
   "execution_count": 72,
   "id": "9e8081d8-5117-4bce-9682-65f6fe2811f0",
   "metadata": {},
   "outputs": [
    {
     "name": "stdout",
     "output_type": "stream",
     "text": [
      "ID: 2334221288512\n"
     ]
    }
   ],
   "source": [
    "t = (4, 5, 6)\n",
    "print(\"ID:\", id(t))\n"
   ]
  },
  {
   "cell_type": "code",
   "execution_count": 73,
   "id": "4a2e2889-727a-40f5-a2e8-c08384f64db5",
   "metadata": {},
   "outputs": [
    {
     "name": "stdout",
     "output_type": "stream",
     "text": [
      "529344067295497451\n"
     ]
    }
   ],
   "source": [
    "print(hash((1, 2, 3)))"
   ]
  },
  {
   "cell_type": "code",
   "execution_count": 74,
   "id": "23102be0-b125-4527-b1f0-f86484d6230f",
   "metadata": {},
   "outputs": [
    {
     "name": "stdout",
     "output_type": "stream",
     "text": [
      "()\n",
      "True\n"
     ]
    }
   ],
   "source": [
    "print(tuple())\n",
    "print(() == ())"
   ]
  },
  {
   "cell_type": "code",
   "execution_count": 75,
   "id": "fa39bbb5-e3b4-4d60-89eb-995cdd138f25",
   "metadata": {},
   "outputs": [
    {
     "name": "stdout",
     "output_type": "stream",
     "text": [
      "(1, 1, 1)\n"
     ]
    }
   ],
   "source": [
    "print((1,) * 3)"
   ]
  },
  {
   "cell_type": "code",
   "execution_count": 76,
   "id": "79b0bf1b-2684-4fc7-922a-a6089217e74c",
   "metadata": {},
   "outputs": [
    {
     "name": "stdout",
     "output_type": "stream",
     "text": [
      "(0, 0, 0, 0, 0)\n"
     ]
    }
   ],
   "source": [
    "print((0,) * 5)"
   ]
  },
  {
   "cell_type": "code",
   "execution_count": 77,
   "id": "c4988c2a-f6a5-4a11-9bed-2fc4d2de63b0",
   "metadata": {},
   "outputs": [
    {
     "name": "stdout",
     "output_type": "stream",
     "text": [
      "6\n"
     ]
    }
   ],
   "source": [
    "nums = 1, 2, 3\n",
    "print(sum(nums))"
   ]
  },
  {
   "cell_type": "code",
   "execution_count": 78,
   "id": "eaa2fab5-32f4-4330-8cf3-e0e91e58bad7",
   "metadata": {},
   "outputs": [],
   "source": [
    "#Tuple Comprehension (via Generator)"
   ]
  },
  {
   "cell_type": "code",
   "execution_count": 79,
   "id": "e932aa0a-0764-4941-81b9-9f2ff2c0d911",
   "metadata": {},
   "outputs": [
    {
     "name": "stdout",
     "output_type": "stream",
     "text": [
      "(0, 1, 4)\n"
     ]
    }
   ],
   "source": [
    "gen = (x**2 for x in range(3))\n",
    "print(tuple(gen))\n"
   ]
  },
  {
   "cell_type": "code",
   "execution_count": 80,
   "id": "6fcfcc53-6573-47fc-88b6-dc82d6aa1c35",
   "metadata": {},
   "outputs": [
    {
     "name": "stdout",
     "output_type": "stream",
     "text": [
      "('1', '2', '3')\n"
     ]
    }
   ],
   "source": [
    "print(tuple(map(str, [1, 2, 3])))"
   ]
  },
  {
   "cell_type": "code",
   "execution_count": 81,
   "id": "fc70dee0-afd5-4617-bc1f-d2e9923aaa39",
   "metadata": {},
   "outputs": [
    {
     "name": "stdout",
     "output_type": "stream",
     "text": [
      "(2, 3)\n"
     ]
    }
   ],
   "source": [
    "print(tuple(filter(lambda x: x > 1, [1, 2, 3])))"
   ]
  },
  {
   "cell_type": "code",
   "execution_count": 82,
   "id": "c0657ed1-1642-4bc6-90d1-458b33d516f8",
   "metadata": {},
   "outputs": [
    {
     "name": "stdout",
     "output_type": "stream",
     "text": [
      "(0, 2, 4)\n"
     ]
    }
   ],
   "source": [
    "t = tuple(i for i in range(5) if i % 2 == 0)\n",
    "print(t)"
   ]
  },
  {
   "cell_type": "code",
   "execution_count": 83,
   "id": "337b6bad-628f-4be2-88c8-4db8bcb921a6",
   "metadata": {},
   "outputs": [
    {
     "name": "stdout",
     "output_type": "stream",
     "text": [
      "(3, 3)\n"
     ]
    }
   ],
   "source": [
    "names = [\"Tom\", \"Tim\"]\n",
    "lengths = tuple(len(n) for n in names)\n",
    "print(lengths)\n"
   ]
  },
  {
   "cell_type": "code",
   "execution_count": 84,
   "id": "e245ab47-78dc-466a-bdc8-b571c95efda3",
   "metadata": {},
   "outputs": [
    {
     "name": "stdout",
     "output_type": "stream",
     "text": [
      "((0, 'a'), (1, 'b'), (2, 'c'))\n"
     ]
    }
   ],
   "source": [
    "s = \"abc\"\n",
    "print(tuple(enumerate(s)))"
   ]
  },
  {
   "cell_type": "code",
   "execution_count": 85,
   "id": "c3573269-dc67-4b6c-9ac3-917d5311b5bf",
   "metadata": {},
   "outputs": [
    {
     "name": "stdout",
     "output_type": "stream",
     "text": [
      "0 h\n",
      "1 i\n"
     ]
    }
   ],
   "source": [
    "for i, c in enumerate(\"hi\"):\n",
    "    print(i, c)"
   ]
  },
  {
   "cell_type": "code",
   "execution_count": 86,
   "id": "916cde93-c0a8-4bb9-a50f-6d87f1328949",
   "metadata": {},
   "outputs": [
    {
     "name": "stdout",
     "output_type": "stream",
     "text": [
      "{'a': 1, 'b': 2}\n"
     ]
    }
   ],
   "source": [
    "pairs = [(\"a\", 1), (\"b\", 2)]\n",
    "print(dict(pairs))"
   ]
  },
  {
   "cell_type": "code",
   "execution_count": 87,
   "id": "b3a41ef9-c0f9-461c-b7d5-b696cc6a1c34",
   "metadata": {},
   "outputs": [
    {
     "name": "stdout",
     "output_type": "stream",
     "text": [
      "(('a', 1), ('b', 2))\n"
     ]
    }
   ],
   "source": [
    "print(tuple(dict(pairs).items()))"
   ]
  },
  {
   "cell_type": "code",
   "execution_count": 88,
   "id": "9513e292-6b9f-40ad-991c-033762e91531",
   "metadata": {},
   "outputs": [
    {
     "name": "stdout",
     "output_type": "stream",
     "text": [
      "(('a', 0), ('b', 1), ('c', 2))\n"
     ]
    }
   ],
   "source": [
    "t = tuple(zip(\"abc\", range(3)))\n",
    "print(t)"
   ]
  },
  {
   "cell_type": "code",
   "execution_count": 89,
   "id": "140a2cc6-bb67-4aff-a554-55f89080aa76",
   "metadata": {},
   "outputs": [
    {
     "name": "stdout",
     "output_type": "stream",
     "text": [
      "[(1, 'a'), (2, 'b'), (3, 'c')]\n"
     ]
    }
   ],
   "source": [
    "t = [(3, 'c'), (1, 'a'), (2, 'b')]\n",
    "print(sorted(t))  # by first"
   ]
  },
  {
   "cell_type": "code",
   "execution_count": 90,
   "id": "a307fba9-05f4-4dc6-8371-5149b93f5b33",
   "metadata": {},
   "outputs": [
    {
     "name": "stdout",
     "output_type": "stream",
     "text": [
      "[(1, 'a'), (2, 'b'), (3, 'c')]\n"
     ]
    }
   ],
   "source": [
    "print(sorted(t, key=lambda x: x[1]))  # by second\n"
   ]
  },
  {
   "cell_type": "code",
   "execution_count": 91,
   "id": "9aa8659c-558b-4782-9f40-c79d047f814c",
   "metadata": {},
   "outputs": [
    {
     "name": "stdout",
     "output_type": "stream",
     "text": [
      "('Alice', 95)\n"
     ]
    }
   ],
   "source": [
    "data = [(\"John\", 90), (\"Alice\", 95)]\n",
    "top = max(data, key=lambda x: x[1])\n",
    "print(top)"
   ]
  },
  {
   "cell_type": "code",
   "execution_count": 92,
   "id": "6b54e9b8-623d-4897-a16f-a836bd4bdcfb",
   "metadata": {},
   "outputs": [
    {
     "name": "stdout",
     "output_type": "stream",
     "text": [
      "[0, 1, 2]\n"
     ]
    }
   ],
   "source": [
    "points = [(0, 0), (1, 1), (2, 3)]\n",
    "print([x for x, y in points])"
   ]
  },
  {
   "cell_type": "code",
   "execution_count": 93,
   "id": "19cbd150-f84a-4fca-95ae-5d2f11367596",
   "metadata": {},
   "outputs": [
    {
     "name": "stdout",
     "output_type": "stream",
     "text": [
      "(1, 2, 3, 4)\n"
     ]
    }
   ],
   "source": [
    "flatten = ((1, 2), (3, 4))\n",
    "print(sum(flatten, ()))  # flattening\n"
   ]
  },
  {
   "cell_type": "code",
   "execution_count": 94,
   "id": "e36d88a2-fe63-47cd-9227-13eeb64a323c",
   "metadata": {},
   "outputs": [
    {
     "name": "stdout",
     "output_type": "stream",
     "text": [
      "1\n",
      "2\n",
      "1\n"
     ]
    }
   ],
   "source": [
    "nested = ((1,), (2, 3), (4,))\n",
    "for tup in nested:\n",
    "    print(len(tup))"
   ]
  },
  {
   "cell_type": "code",
   "execution_count": 95,
   "id": "23bb35a7-b5db-48d4-a175-bf47cc20b1de",
   "metadata": {},
   "outputs": [
    {
     "name": "stdout",
     "output_type": "stream",
     "text": [
      "(1, 2, 3)\n"
     ]
    }
   ],
   "source": [
    "t = tuple(sorted([3, 1, 2]))\n",
    "print(t)"
   ]
  },
  {
   "cell_type": "code",
   "execution_count": 96,
   "id": "05508d68-0882-4144-832a-b1d2de51c01e",
   "metadata": {},
   "outputs": [
    {
     "name": "stdout",
     "output_type": "stream",
     "text": [
      "(3, 2, 1)\n"
     ]
    }
   ],
   "source": [
    "print(tuple(reversed((1, 2, 3))))"
   ]
  },
  {
   "cell_type": "code",
   "execution_count": 97,
   "id": "5438b5b8-d81f-4e4b-a25c-0d4c02393129",
   "metadata": {},
   "outputs": [
    {
     "name": "stdout",
     "output_type": "stream",
     "text": [
      "(1, 2, 3, 4)\n"
     ]
    }
   ],
   "source": [
    "seq = ((1, 2), (3, 4))\n",
    "print(tuple(sum(seq, ())))\n"
   ]
  },
  {
   "cell_type": "code",
   "execution_count": 98,
   "id": "cd3b09ba-2a59-436b-bed6-f66fc37e925c",
   "metadata": {},
   "outputs": [
    {
     "name": "stdout",
     "output_type": "stream",
     "text": [
      "2\n"
     ]
    }
   ],
   "source": [
    "print(len(set([(1, 2), (1, 2), (2, 3)])))\n"
   ]
  },
  {
   "cell_type": "code",
   "execution_count": 100,
   "id": "e324af1a-238b-4cd3-b3a1-bc42ef1c472b",
   "metadata": {},
   "outputs": [],
   "source": [
    "#Tuple Tricks / Enumerate / Internals"
   ]
  },
  {
   "cell_type": "code",
   "execution_count": 101,
   "id": "466f8770-0175-4cb5-a84d-2a2dfb174152",
   "metadata": {},
   "outputs": [
    {
     "name": "stdout",
     "output_type": "stream",
     "text": [
      "True\n"
     ]
    }
   ],
   "source": [
    "print(any(isinstance(i, tuple) for i in [(1, 2), 3]))"
   ]
  },
  {
   "cell_type": "code",
   "execution_count": 102,
   "id": "294820a8-d275-418e-afa0-59bd1f1c534b",
   "metadata": {},
   "outputs": [
    {
     "name": "stdout",
     "output_type": "stream",
     "text": [
      "True\n"
     ]
    }
   ],
   "source": [
    "print(all(isinstance(i, tuple) for i in [(1, 2), (3, 4)]))\n"
   ]
  },
  {
   "cell_type": "code",
   "execution_count": 103,
   "id": "e61f4a3b-352d-49a1-9283-cc7d2cb8c65d",
   "metadata": {},
   "outputs": [
    {
     "name": "stdout",
     "output_type": "stream",
     "text": [
      "[1, 2, 3, 4]\n"
     ]
    }
   ],
   "source": [
    "seq = [(1, 2), (3, 4)]\n",
    "flat = [x for tup in seq for x in tup]\n",
    "print(flat)"
   ]
  },
  {
   "cell_type": "code",
   "execution_count": 104,
   "id": "76247895-d34e-4826-b7ad-5c412848571f",
   "metadata": {},
   "outputs": [
    {
     "name": "stdout",
     "output_type": "stream",
     "text": [
      "(None, None, None)\n"
     ]
    }
   ],
   "source": [
    "t = (None,) * 3\n",
    "print(t)"
   ]
  },
  {
   "cell_type": "code",
   "execution_count": 105,
   "id": "c383d686-4888-4aaa-b8eb-f35c0f76620c",
   "metadata": {},
   "outputs": [
    {
     "name": "stdout",
     "output_type": "stream",
     "text": [
      "1 2 3\n"
     ]
    }
   ],
   "source": [
    "data = (1, 2, 3)\n",
    "x, y, z = data\n",
    "print(x, y, z)"
   ]
  },
  {
   "cell_type": "code",
   "execution_count": 106,
   "id": "2aa1a5a9-8f20-4622-9aff-965b8d269ddf",
   "metadata": {},
   "outputs": [
    {
     "name": "stdout",
     "output_type": "stream",
     "text": [
      "3\n"
     ]
    }
   ],
   "source": [
    "x = (1, 2)\n",
    "a, b = x\n",
    "print(a + b)"
   ]
  },
  {
   "cell_type": "code",
   "execution_count": 107,
   "id": "a364f219-e03f-4b3e-b8a4-7a199e4b65b9",
   "metadata": {},
   "outputs": [
    {
     "name": "stdout",
     "output_type": "stream",
     "text": [
      "(1, 2, 3)\n"
     ]
    }
   ],
   "source": [
    "tuple_str = \"(1, 2, 3)\"\n",
    "print(eval(tuple_str))\n"
   ]
  },
  {
   "cell_type": "code",
   "execution_count": 108,
   "id": "493d8dbf-f6f5-4caf-a280-a78618187323",
   "metadata": {},
   "outputs": [
    {
     "name": "stdout",
     "output_type": "stream",
     "text": [
      "(0, 1, 2)\n"
     ]
    }
   ],
   "source": [
    "tpl = (i for i in range(3))\n",
    "print(tuple(tpl))\n"
   ]
  },
  {
   "cell_type": "code",
   "execution_count": 109,
   "id": "5142c16e-7955-44b8-84e2-c22f823ce3f0",
   "metadata": {},
   "outputs": [
    {
     "name": "stdout",
     "output_type": "stream",
     "text": [
      "4\n"
     ]
    }
   ],
   "source": [
    "tpl = (1, \"two\", [3, 4])\n",
    "print(tpl[2][1])  # 4"
   ]
  },
  {
   "cell_type": "code",
   "execution_count": 110,
   "id": "863ff3ef-3810-4792-8426-9301555fc88c",
   "metadata": {},
   "outputs": [
    {
     "name": "stdout",
     "output_type": "stream",
     "text": [
      "3\n"
     ]
    }
   ],
   "source": [
    "nested = ((1, 2), (3, 4), (5, 6))\n",
    "print(nested[1][0])  # Output: 3"
   ]
  },
  {
   "cell_type": "code",
   "execution_count": 111,
   "id": "72251db5-71b0-488a-ab64-7ed049199cc2",
   "metadata": {},
   "outputs": [
    {
     "name": "stdout",
     "output_type": "stream",
     "text": [
      "('a', 'a', 'a', 'a', 'a')\n"
     ]
    }
   ],
   "source": [
    "t = ('a',) * 5\n",
    "print(t)  # Output: ('a', 'a', 'a', 'a', 'a')"
   ]
  },
  {
   "cell_type": "code",
   "execution_count": 112,
   "id": "e27a29eb-4fed-4f34-b99a-f11cfed13ae0",
   "metadata": {},
   "outputs": [
    {
     "name": "stdout",
     "output_type": "stream",
     "text": [
      "(1, 2, 3, 4)\n"
     ]
    }
   ],
   "source": [
    "a = (1, 2)\n",
    "b = [3, 4]\n",
    "combined = (*a, *b)\n",
    "print(combined)  # Output: (1, 2, 3, 4)\n"
   ]
  },
  {
   "cell_type": "code",
   "execution_count": 113,
   "id": "4a9ccc95-8cdc-40e2-8b11-4e4a0bc73e43",
   "metadata": {},
   "outputs": [
    {
     "name": "stdout",
     "output_type": "stream",
     "text": [
      "(1, 'two', 3.0, [4, 5])\n"
     ]
    }
   ],
   "source": [
    "mixed = (1, 'two', 3.0, [4, 5])\n",
    "print(mixed)\n"
   ]
  },
  {
   "cell_type": "code",
   "execution_count": 114,
   "id": "dc4eec09-875b-4fd9-9671-340b3be66788",
   "metadata": {},
   "outputs": [
    {
     "name": "stdout",
     "output_type": "stream",
     "text": [
      "0 a\n",
      "1 b\n",
      "2 c\n"
     ]
    }
   ],
   "source": [
    "tup = ('a', 'b', 'c')\n",
    "for index, value in enumerate(tup):\n",
    "    print(index, value)\n"
   ]
  },
  {
   "cell_type": "code",
   "execution_count": 115,
   "id": "d32d3f44-d913-4e74-82bf-4f671a946e19",
   "metadata": {},
   "outputs": [
    {
     "name": "stdout",
     "output_type": "stream",
     "text": [
      "Hello World\n"
     ]
    }
   ],
   "source": [
    "words = ('Hello', 'World')\n",
    "sentence = ' '.join(words)\n",
    "print(sentence)  # Output: Hello World\n"
   ]
  },
  {
   "cell_type": "code",
   "execution_count": 116,
   "id": "c0864209-fd6e-4543-b20e-38dd80467071",
   "metadata": {},
   "outputs": [
    {
     "name": "stdout",
     "output_type": "stream",
     "text": [
      "(4, 3, 2, 1)\n"
     ]
    }
   ],
   "source": [
    "t = (1, 2, 3, 4)\n",
    "print(t[::-1])  # Output: (4, 3, 2, 1)\n"
   ]
  },
  {
   "cell_type": "code",
   "execution_count": 117,
   "id": "da9f9250-d6c5-49e1-86f6-30dfea25f541",
   "metadata": {},
   "outputs": [
    {
     "name": "stdout",
     "output_type": "stream",
     "text": [
      "(1, 2, 3, 4)\n"
     ]
    }
   ],
   "source": [
    "nested = ((1, 2), (3, 4))\n",
    "flat = tuple(i for t in nested for i in t)\n",
    "print(flat)  # Output: (1, 2, 3, 4)\n"
   ]
  },
  {
   "cell_type": "code",
   "execution_count": 118,
   "id": "d61b71d7-5123-4fb9-a70b-00b781b5d8cf",
   "metadata": {},
   "outputs": [
    {
     "name": "stdout",
     "output_type": "stream",
     "text": [
      "((1, 'a'), (2, 'b'), (3, 'c'))\n"
     ]
    }
   ],
   "source": [
    "a = (1, 2, 3)\n",
    "b = ('a', 'b', 'c')\n",
    "zipped = tuple(zip(a, b))\n",
    "print(zipped)  # Output: ((1, 'a'), (2, 'b'), (3, 'c'))\n"
   ]
  },
  {
   "cell_type": "code",
   "execution_count": 119,
   "id": "287242b1-38b7-409f-897d-3cf3a47ba4c7",
   "metadata": {},
   "outputs": [
    {
     "name": "stdout",
     "output_type": "stream",
     "text": [
      "1 one\n",
      "2 two\n"
     ]
    }
   ],
   "source": [
    "pairs = [(1, 'one'), (2, 'two')]\n",
    "for num, name in pairs:\n",
    "    print(num, name)\n"
   ]
  },
  {
   "cell_type": "code",
   "execution_count": 120,
   "id": "e35f8304-37d7-407e-8044-79211717c395",
   "metadata": {},
   "outputs": [
    {
     "name": "stdout",
     "output_type": "stream",
     "text": [
      "('a', 'b')\n"
     ]
    }
   ],
   "source": [
    "d = {'a': 1, 'b': 2}\n",
    "print(tuple(d))  # Output: ('a', 'b')\n"
   ]
  },
  {
   "cell_type": "code",
   "execution_count": 121,
   "id": "8e100f1c-a151-4005-ba79-bad668732f48",
   "metadata": {},
   "outputs": [
    {
     "name": "stdout",
     "output_type": "stream",
     "text": [
      "1 9\n"
     ]
    }
   ],
   "source": [
    "nums = (5, 2, 9, 1)\n",
    "print(min(nums), max(nums))  # Output: 1 9\n"
   ]
  },
  {
   "cell_type": "code",
   "execution_count": 122,
   "id": "5c3e470d-2ac0-4c04-92fe-675d8e40344a",
   "metadata": {},
   "outputs": [
    {
     "name": "stdout",
     "output_type": "stream",
     "text": [
      "{(2, 3), (1, 2)}\n"
     ]
    }
   ],
   "source": [
    "data = [(1, 2), (1, 2), (2, 3)]\n",
    "unique = set(data)\n",
    "print(unique)  # Output: {(1, 2), (2, 3)}\n"
   ]
  },
  {
   "cell_type": "code",
   "execution_count": 123,
   "id": "95b8bf1d-34c2-4c86-8b23-5c327e562215",
   "metadata": {},
   "outputs": [
    {
     "name": "stdout",
     "output_type": "stream",
     "text": [
      "True\n"
     ]
    }
   ],
   "source": [
    "colors = ('red', 'green', 'blue')\n",
    "print('green' in colors)  # Output: True\n"
   ]
  },
  {
   "cell_type": "code",
   "execution_count": 124,
   "id": "91a677af-d983-4cce-9906-eee88f9d6fc2",
   "metadata": {},
   "outputs": [
    {
     "name": "stdout",
     "output_type": "stream",
     "text": [
      "20 10\n"
     ]
    }
   ],
   "source": [
    "a, b = 10, 20\n",
    "a, b = b, a\n",
    "print(a, b)  # Output: 20 10\n"
   ]
  },
  {
   "cell_type": "code",
   "execution_count": 125,
   "id": "001cf62e-6d52-4702-b3f3-518f7c0b8413",
   "metadata": {},
   "outputs": [
    {
     "name": "stdout",
     "output_type": "stream",
     "text": [
      "value\n"
     ]
    }
   ],
   "source": [
    "my_dict = {('x', 1): 'value'}\n",
    "print(my_dict[('x', 1)])  # Output: value\n"
   ]
  },
  {
   "cell_type": "code",
   "execution_count": 126,
   "id": "da2cb9b9-69fd-4063-8092-241f92cbbda7",
   "metadata": {},
   "outputs": [
    {
     "name": "stdout",
     "output_type": "stream",
     "text": [
      "1 [2, 3, 4]\n"
     ]
    }
   ],
   "source": [
    "t = (1, 2, 3, 4)\n",
    "a, *b = t\n",
    "print(a, b)  # Output: 1 [2, 3, 4]\n"
   ]
  },
  {
   "cell_type": "code",
   "execution_count": 127,
   "id": "11d21682-5412-47ac-b29d-34be97ea9938",
   "metadata": {},
   "outputs": [
    {
     "name": "stdout",
     "output_type": "stream",
     "text": [
      "(0, 1, 4, 9, 16)\n"
     ]
    }
   ],
   "source": [
    "squares = tuple(x*x for x in range(5))\n",
    "print(squares)  # Output: (0, 1, 4, 9, 16)\n"
   ]
  },
  {
   "cell_type": "code",
   "execution_count": 128,
   "id": "49bab1e6-feeb-4e84-aa19-e51bd907b09a",
   "metadata": {},
   "outputs": [
    {
     "name": "stdout",
     "output_type": "stream",
     "text": [
      "Counter({'a': 2, 'b': 2, 'c': 1})\n"
     ]
    }
   ],
   "source": [
    "from collections import Counter\n",
    "t = ('a', 'b', 'a', 'c', 'b')\n",
    "print(Counter(t))  # Output: Counter({'a': 2, 'b': 2, 'c': 1})\n"
   ]
  },
  {
   "cell_type": "code",
   "execution_count": 129,
   "id": "151d0423-965c-441c-8b98-c051efb6c187",
   "metadata": {},
   "outputs": [
    {
     "name": "stdout",
     "output_type": "stream",
     "text": [
      "{'a': 1, 'b': 2}\n"
     ]
    }
   ],
   "source": [
    "lst = [('a', 1), ('b', 2)]\n",
    "d = dict(lst)\n",
    "print(d)  # Output: {'a': 1, 'b': 2}\n"
   ]
  },
  {
   "cell_type": "code",
   "execution_count": null,
   "id": "99d3b30c-47c5-4fda-b4bf-61673ebcd24a",
   "metadata": {},
   "outputs": [],
   "source": []
  }
 ],
 "metadata": {
  "kernelspec": {
   "display_name": "Python 3 (ipykernel)",
   "language": "python",
   "name": "python3"
  },
  "language_info": {
   "codemirror_mode": {
    "name": "ipython",
    "version": 3
   },
   "file_extension": ".py",
   "mimetype": "text/x-python",
   "name": "python",
   "nbconvert_exporter": "python",
   "pygments_lexer": "ipython3",
   "version": "3.12.11"
  }
 },
 "nbformat": 4,
 "nbformat_minor": 5
}
