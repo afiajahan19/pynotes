{
 "cells": [
  {
   "cell_type": "code",
   "execution_count": 4,
   "id": "a422214a-c65f-4a1e-8ec3-23e7e1895adb",
   "metadata": {},
   "outputs": [
    {
     "name": "stdout",
     "output_type": "stream",
     "text": [
      "Collecting xmltodict\n",
      "  Downloading xmltodict-0.14.2-py2.py3-none-any.whl.metadata (8.0 kB)\n",
      "Downloading xmltodict-0.14.2-py2.py3-none-any.whl (10.0 kB)\n",
      "Installing collected packages: xmltodict\n",
      "Successfully installed xmltodict-0.14.2\n"
     ]
    },
    {
     "name": "stderr",
     "output_type": "stream",
     "text": [
      "WARNING: Ignoring invalid distribution ~umpy (C:\\Users\\Afia Jahan\\anaconda3\\envs\\py312\\Lib\\site-packages)\n",
      "WARNING: Ignoring invalid distribution ~umpy (C:\\Users\\Afia Jahan\\anaconda3\\envs\\py312\\Lib\\site-packages)\n",
      "WARNING: Ignoring invalid distribution ~umpy (C:\\Users\\Afia Jahan\\anaconda3\\envs\\py312\\Lib\\site-packages)\n"
     ]
    }
   ],
   "source": [
    "!pip install xmltodict\n"
   ]
  },
  {
   "cell_type": "code",
   "execution_count": 5,
   "id": "02ceef8a-72bf-4c92-9bff-a22981d21627",
   "metadata": {},
   "outputs": [],
   "source": [
    "json_data = {\n",
    "    \"person\": {\n",
    "        \"name\": \"Alice\",\n",
    "        \"age\": 30,\n",
    "        \"phones\": [\"123-4567\", \"987-6543\"]\n",
    "    }\n",
    "}\n"
   ]
  },
  {
   "cell_type": "code",
   "execution_count": 6,
   "id": "72cfe85e-a9c9-450d-ac49-852f433ed9de",
   "metadata": {},
   "outputs": [
    {
     "name": "stdout",
     "output_type": "stream",
     "text": [
      "<?xml version=\"1.0\" encoding=\"utf-8\"?>\n",
      "<root>\n",
      "\t<person>\n",
      "\t\t<name>Alice</name>\n",
      "\t\t<age>30</age>\n",
      "\t\t<phones>123-4567</phones>\n",
      "\t\t<phones>987-6543</phones>\n",
      "\t</person>\n",
      "</root>\n"
     ]
    }
   ],
   "source": [
    "import xmltodict\n",
    "\n",
    "# Convert JSON (Python dict) to XML\n",
    "xml_output = xmltodict.unparse({\"root\": json_data}, pretty=True)\n",
    "print(xml_output)\n",
    "\n"
   ]
  },
  {
   "cell_type": "code",
   "execution_count": null,
   "id": "4745f00d-54b5-4f06-a7c7-fb0c1a799b4a",
   "metadata": {},
   "outputs": [],
   "source": []
  }
 ],
 "metadata": {
  "kernelspec": {
   "display_name": "Python 3 (ipykernel)",
   "language": "python",
   "name": "python3"
  },
  "language_info": {
   "codemirror_mode": {
    "name": "ipython",
    "version": 3
   },
   "file_extension": ".py",
   "mimetype": "text/x-python",
   "name": "python",
   "nbconvert_exporter": "python",
   "pygments_lexer": "ipython3",
   "version": "3.12.11"
  }
 },
 "nbformat": 4,
 "nbformat_minor": 5
}
