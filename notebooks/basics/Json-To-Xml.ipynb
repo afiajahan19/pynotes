{
 "cells": [
  {
   "cell_type": "code",
   "execution_count": 1,
   "id": "4745f00d-54b5-4f06-a7c7-fb0c1a799b4a",
   "metadata": {},
   "outputs": [],
   "source": [
    "import xmltodict"
   ]
  },
  {
   "cell_type": "code",
   "execution_count": 2,
   "id": "46d7f47d-7090-4b81-b5db-85070f60f7ba",
   "metadata": {},
   "outputs": [],
   "source": [
    "content = {\n",
    "  \"note\" : {\n",
    "    \"to\" : \"Tove\",\n",
    "    \"from\" : \"Jani\",\n",
    "    \"heading\" : \"Reminder\",\n",
    "    \"body\" : \"Don't forget me this weekend!\"\n",
    "  }\n",
    "}"
   ]
  },
  {
   "cell_type": "code",
   "execution_count": 3,
   "id": "1a92642d-2965-4505-b596-48703376b361",
   "metadata": {},
   "outputs": [
    {
     "data": {
      "text/plain": [
       "{'note': {'to': 'Tove',\n",
       "  'from': 'Jani',\n",
       "  'heading': 'Reminder',\n",
       "  'body': \"Don't forget me this weekend!\"}}"
      ]
     },
     "execution_count": 3,
     "metadata": {},
     "output_type": "execute_result"
    }
   ],
   "source": [
    "content"
   ]
  },
  {
   "cell_type": "code",
   "execution_count": 4,
   "id": "915711e6-1d0a-4c41-9168-eaa8614d00b9",
   "metadata": {},
   "outputs": [],
   "source": [
    "xml = xmltodict.unparse(content, pretty=True)"
   ]
  },
  {
   "cell_type": "code",
   "execution_count": 5,
   "id": "16555433-f247-419b-bbb8-904ffc7cd3ea",
   "metadata": {},
   "outputs": [
    {
     "data": {
      "text/plain": [
       "'<?xml version=\"1.0\" encoding=\"utf-8\"?>\\n<note>\\n\\t<to>Tove</to>\\n\\t<from>Jani</from>\\n\\t<heading>Reminder</heading>\\n\\t<body>Don\\'t forget me this weekend!</body>\\n</note>'"
      ]
     },
     "execution_count": 5,
     "metadata": {},
     "output_type": "execute_result"
    }
   ],
   "source": [
    "xml"
   ]
  },
  {
   "cell_type": "code",
   "execution_count": null,
   "id": "a3bdd459-8e7c-4fa8-bebe-ab98ed2abe50",
   "metadata": {},
   "outputs": [],
   "source": []
  }
 ],
 "metadata": {
  "kernelspec": {
   "display_name": "Python 3 (ipykernel)",
   "language": "python",
   "name": "python3"
  },
  "language_info": {
   "codemirror_mode": {
    "name": "ipython",
    "version": 3
   },
   "file_extension": ".py",
   "mimetype": "text/x-python",
   "name": "python",
   "nbconvert_exporter": "python",
   "pygments_lexer": "ipython3",
   "version": "3.12.11"
  }
 },
 "nbformat": 4,
 "nbformat_minor": 5
}
