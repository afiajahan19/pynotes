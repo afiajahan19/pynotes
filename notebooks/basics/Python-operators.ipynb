{
 "cells": [
  {
   "cell_type": "code",
   "execution_count": 505,
   "id": "1d483eba",
   "metadata": {},
   "outputs": [
    {
     "name": "stdout",
     "output_type": "stream",
     "text": [
      "3\n"
     ]
    }
   ],
   "source": [
    "# Example 1 - Arithmetic Operators\n",
    "\n",
    "print(1 + 2)"
   ]
  },
  {
   "cell_type": "code",
   "execution_count": 2,
   "id": "67e018a0",
   "metadata": {},
   "outputs": [
    {
     "name": "stdout",
     "output_type": "stream",
     "text": [
      "5\n"
     ]
    }
   ],
   "source": [
    "# Example 2 - Arithmetic Operators\n",
    "print(2 + 3)"
   ]
  },
  {
   "cell_type": "code",
   "execution_count": 3,
   "id": "1f0bf51b",
   "metadata": {},
   "outputs": [
    {
     "name": "stdout",
     "output_type": "stream",
     "text": [
      "7\n"
     ]
    }
   ],
   "source": [
    "# Example 3 - Arithmetic Operators\n",
    "print(3 + 4)"
   ]
  },
  {
   "cell_type": "code",
   "execution_count": 506,
   "id": "a3b8af1f",
   "metadata": {},
   "outputs": [
    {
     "name": "stdout",
     "output_type": "stream",
     "text": [
      "9\n"
     ]
    }
   ],
   "source": [
    "# Example 4 - Arithmetic Operators\n",
    "print(4 + 5)\n"
   ]
  },
  {
   "cell_type": "code",
   "execution_count": 5,
   "id": "d8aba7ff",
   "metadata": {},
   "outputs": [
    {
     "name": "stdout",
     "output_type": "stream",
     "text": [
      "11\n"
     ]
    }
   ],
   "source": [
    "# Example 5 - Arithmetic Operators\n",
    "print(5 + 6)"
   ]
  },
  {
   "cell_type": "code",
   "execution_count": 6,
   "id": "ca714ad4",
   "metadata": {},
   "outputs": [
    {
     "name": "stdout",
     "output_type": "stream",
     "text": [
      "8\n"
     ]
    }
   ],
   "source": [
    "# Example 6 - Arithmetic Operators\n",
    "print(6 + 2)"
   ]
  },
  {
   "cell_type": "code",
   "execution_count": 507,
   "id": "ab642668",
   "metadata": {},
   "outputs": [
    {
     "name": "stdout",
     "output_type": "stream",
     "text": [
      "10\n"
     ]
    }
   ],
   "source": [
    "# Example 7 - Arithmetic Operators\n",
    "print(7 + 3)\n"
   ]
  },
  {
   "cell_type": "code",
   "execution_count": 8,
   "id": "983309fd",
   "metadata": {},
   "outputs": [
    {
     "name": "stdout",
     "output_type": "stream",
     "text": [
      "12\n"
     ]
    }
   ],
   "source": [
    "# Example 8 - Arithmetic Operators\n",
    "print(8 + 4)"
   ]
  },
  {
   "cell_type": "code",
   "execution_count": 9,
   "id": "4ba9feb1",
   "metadata": {},
   "outputs": [
    {
     "name": "stdout",
     "output_type": "stream",
     "text": [
      "14\n"
     ]
    }
   ],
   "source": [
    "# Example 9 - Arithmetic Operators\n",
    "print(9 + 5)"
   ]
  },
  {
   "cell_type": "code",
   "execution_count": 10,
   "id": "74a49434",
   "metadata": {},
   "outputs": [
    {
     "name": "stdout",
     "output_type": "stream",
     "text": [
      "16\n"
     ]
    }
   ],
   "source": [
    "# Example 10 - Arithmetic Operators\n",
    "print(10 + 6)"
   ]
  },
  {
   "cell_type": "code",
   "execution_count": 11,
   "id": "04ada4b1",
   "metadata": {},
   "outputs": [
    {
     "name": "stdout",
     "output_type": "stream",
     "text": [
      "3\n"
     ]
    }
   ],
   "source": [
    "# Example 11 - Arithmetic Operators\n",
    "print(1 + 2)"
   ]
  },
  {
   "cell_type": "code",
   "execution_count": 12,
   "id": "5ebe37d6",
   "metadata": {},
   "outputs": [
    {
     "name": "stdout",
     "output_type": "stream",
     "text": [
      "5\n"
     ]
    }
   ],
   "source": [
    "# Example 12 - Arithmetic Operators\n",
    "print(2 + 3)"
   ]
  },
  {
   "cell_type": "code",
   "execution_count": 13,
   "id": "72aaec58",
   "metadata": {},
   "outputs": [
    {
     "name": "stdout",
     "output_type": "stream",
     "text": [
      "7\n"
     ]
    }
   ],
   "source": [
    "# Example 13 - Arithmetic Operators\n",
    "print(3 + 4)"
   ]
  },
  {
   "cell_type": "code",
   "execution_count": 14,
   "id": "97ed3d20",
   "metadata": {},
   "outputs": [
    {
     "name": "stdout",
     "output_type": "stream",
     "text": [
      "9\n"
     ]
    }
   ],
   "source": [
    "# Example 14 - Arithmetic Operators\n",
    "print(4 + 5)"
   ]
  },
  {
   "cell_type": "code",
   "execution_count": 15,
   "id": "3fd4e79a",
   "metadata": {},
   "outputs": [
    {
     "name": "stdout",
     "output_type": "stream",
     "text": [
      "11\n"
     ]
    }
   ],
   "source": [
    "# Example 15 - Arithmetic Operators\n",
    "print(5 + 6)"
   ]
  },
  {
   "cell_type": "code",
   "execution_count": 16,
   "id": "2c2fe59f",
   "metadata": {},
   "outputs": [
    {
     "name": "stdout",
     "output_type": "stream",
     "text": [
      "8\n"
     ]
    }
   ],
   "source": [
    "# Example 16 - Arithmetic Operators\n",
    "print(6 + 2)"
   ]
  },
  {
   "cell_type": "code",
   "execution_count": 17,
   "id": "231b442a",
   "metadata": {},
   "outputs": [
    {
     "name": "stdout",
     "output_type": "stream",
     "text": [
      "10\n"
     ]
    }
   ],
   "source": [
    "# Example 17 - Arithmetic Operators\n",
    "print(7 + 3)"
   ]
  },
  {
   "cell_type": "code",
   "execution_count": 18,
   "id": "d1418ac6",
   "metadata": {},
   "outputs": [
    {
     "name": "stdout",
     "output_type": "stream",
     "text": [
      "12\n"
     ]
    }
   ],
   "source": [
    "# Example 18 - Arithmetic Operators\n",
    "print(8 + 4)"
   ]
  },
  {
   "cell_type": "code",
   "execution_count": 19,
   "id": "366ae0dd",
   "metadata": {},
   "outputs": [
    {
     "name": "stdout",
     "output_type": "stream",
     "text": [
      "14\n"
     ]
    }
   ],
   "source": [
    "# Example 19 - Arithmetic Operators\n",
    "print(9 + 5)"
   ]
  },
  {
   "cell_type": "code",
   "execution_count": 20,
   "id": "35b89c4d",
   "metadata": {},
   "outputs": [
    {
     "name": "stdout",
     "output_type": "stream",
     "text": [
      "16\n"
     ]
    }
   ],
   "source": [
    "# Example 20 - Arithmetic Operators\n",
    "print(10 + 6)"
   ]
  },
  {
   "cell_type": "code",
   "execution_count": 21,
   "id": "6c3aafc8",
   "metadata": {},
   "outputs": [
    {
     "name": "stdout",
     "output_type": "stream",
     "text": [
      "3\n"
     ]
    }
   ],
   "source": [
    "# Example 21 - Arithmetic Operators\n",
    "print(1 + 2)"
   ]
  },
  {
   "cell_type": "code",
   "execution_count": 22,
   "id": "757d03e5",
   "metadata": {},
   "outputs": [
    {
     "name": "stdout",
     "output_type": "stream",
     "text": [
      "5\n"
     ]
    }
   ],
   "source": [
    "# Example 22 - Arithmetic Operators\n",
    "print(2 + 3)"
   ]
  },
  {
   "cell_type": "code",
   "execution_count": 23,
   "id": "c34ea8e8",
   "metadata": {},
   "outputs": [
    {
     "name": "stdout",
     "output_type": "stream",
     "text": [
      "7\n"
     ]
    }
   ],
   "source": [
    "# Example 23 - Arithmetic Operators\n",
    "print(3 + 4)"
   ]
  },
  {
   "cell_type": "code",
   "execution_count": 24,
   "id": "b1600fa1",
   "metadata": {},
   "outputs": [
    {
     "name": "stdout",
     "output_type": "stream",
     "text": [
      "9\n"
     ]
    }
   ],
   "source": [
    "# Example 24 - Arithmetic Operators\n",
    "print(4 + 5)"
   ]
  },
  {
   "cell_type": "code",
   "execution_count": 25,
   "id": "82ad038f",
   "metadata": {},
   "outputs": [
    {
     "name": "stdout",
     "output_type": "stream",
     "text": [
      "11\n"
     ]
    }
   ],
   "source": [
    "# Example 25 - Arithmetic Operators\n",
    "print(5 + 6)"
   ]
  },
  {
   "cell_type": "code",
   "execution_count": 26,
   "id": "1cba36f4",
   "metadata": {},
   "outputs": [
    {
     "name": "stdout",
     "output_type": "stream",
     "text": [
      "8\n"
     ]
    }
   ],
   "source": [
    "# Example 26 - Arithmetic Operators\n",
    "print(6 + 2)"
   ]
  },
  {
   "cell_type": "code",
   "execution_count": 27,
   "id": "ff147daa",
   "metadata": {},
   "outputs": [
    {
     "name": "stdout",
     "output_type": "stream",
     "text": [
      "10\n"
     ]
    }
   ],
   "source": [
    "# Example 27 - Arithmetic Operators\n",
    "print(7 + 3)"
   ]
  },
  {
   "cell_type": "code",
   "execution_count": 28,
   "id": "ffb722a1",
   "metadata": {},
   "outputs": [
    {
     "name": "stdout",
     "output_type": "stream",
     "text": [
      "12\n"
     ]
    }
   ],
   "source": [
    "# Example 28 - Arithmetic Operators\n",
    "print(8 + 4)"
   ]
  },
  {
   "cell_type": "code",
   "execution_count": 29,
   "id": "4b5e69dc",
   "metadata": {},
   "outputs": [
    {
     "name": "stdout",
     "output_type": "stream",
     "text": [
      "14\n"
     ]
    }
   ],
   "source": [
    "# Example 29 - Arithmetic Operators\n",
    "print(9 + 5)"
   ]
  },
  {
   "cell_type": "code",
   "execution_count": 30,
   "id": "950c808b",
   "metadata": {},
   "outputs": [
    {
     "name": "stdout",
     "output_type": "stream",
     "text": [
      "16\n"
     ]
    }
   ],
   "source": [
    "# Example 30 - Arithmetic Operators\n",
    "print(10 + 6)"
   ]
  },
  {
   "cell_type": "code",
   "execution_count": 31,
   "id": "ca620a4e",
   "metadata": {},
   "outputs": [
    {
     "name": "stdout",
     "output_type": "stream",
     "text": [
      "3\n"
     ]
    }
   ],
   "source": [
    "# Example 31 - Arithmetic Operators\n",
    "print(1 + 2)"
   ]
  },
  {
   "cell_type": "code",
   "execution_count": 32,
   "id": "ed024fa6",
   "metadata": {},
   "outputs": [
    {
     "name": "stdout",
     "output_type": "stream",
     "text": [
      "5\n"
     ]
    }
   ],
   "source": [
    "# Example 32 - Arithmetic Operators\n",
    "print(2 + 3)"
   ]
  },
  {
   "cell_type": "code",
   "execution_count": 33,
   "id": "d8f2d0bf",
   "metadata": {},
   "outputs": [
    {
     "name": "stdout",
     "output_type": "stream",
     "text": [
      "7\n"
     ]
    }
   ],
   "source": [
    "# Example 33 - Arithmetic Operators\n",
    "print(3 + 4)"
   ]
  },
  {
   "cell_type": "code",
   "execution_count": 34,
   "id": "6fbf3047",
   "metadata": {},
   "outputs": [
    {
     "name": "stdout",
     "output_type": "stream",
     "text": [
      "9\n"
     ]
    }
   ],
   "source": [
    "# Example 34 - Arithmetic Operators\n",
    "print(4 + 5)"
   ]
  },
  {
   "cell_type": "code",
   "execution_count": 35,
   "id": "8ef0ea55",
   "metadata": {},
   "outputs": [
    {
     "name": "stdout",
     "output_type": "stream",
     "text": [
      "11\n"
     ]
    }
   ],
   "source": [
    "# Example 35 - Arithmetic Operators\n",
    "print(5 + 6)"
   ]
  },
  {
   "cell_type": "code",
   "execution_count": 36,
   "id": "59bdfcaf",
   "metadata": {},
   "outputs": [
    {
     "name": "stdout",
     "output_type": "stream",
     "text": [
      "8\n"
     ]
    }
   ],
   "source": [
    "# Example 36 - Arithmetic Operators\n",
    "print(6 + 2)"
   ]
  },
  {
   "cell_type": "code",
   "execution_count": 37,
   "id": "0fda8444",
   "metadata": {},
   "outputs": [
    {
     "name": "stdout",
     "output_type": "stream",
     "text": [
      "10\n"
     ]
    }
   ],
   "source": [
    "# Example 37 - Arithmetic Operators\n",
    "print(7 + 3)"
   ]
  },
  {
   "cell_type": "code",
   "execution_count": 38,
   "id": "c74f2fc7",
   "metadata": {},
   "outputs": [
    {
     "name": "stdout",
     "output_type": "stream",
     "text": [
      "12\n"
     ]
    }
   ],
   "source": [
    "# Example 38 - Arithmetic Operators\n",
    "print(8 + 4)"
   ]
  },
  {
   "cell_type": "code",
   "execution_count": 39,
   "id": "91ee989e",
   "metadata": {},
   "outputs": [
    {
     "name": "stdout",
     "output_type": "stream",
     "text": [
      "14\n"
     ]
    }
   ],
   "source": [
    "# Example 39 - Arithmetic Operators\n",
    "print(9 + 5)"
   ]
  },
  {
   "cell_type": "code",
   "execution_count": 40,
   "id": "9dfcce29",
   "metadata": {},
   "outputs": [
    {
     "name": "stdout",
     "output_type": "stream",
     "text": [
      "16\n"
     ]
    }
   ],
   "source": [
    "# Example 40 - Arithmetic Operators\n",
    "print(10 + 6)"
   ]
  },
  {
   "cell_type": "code",
   "execution_count": 41,
   "id": "5f1c57bf",
   "metadata": {},
   "outputs": [
    {
     "name": "stdout",
     "output_type": "stream",
     "text": [
      "3\n"
     ]
    }
   ],
   "source": [
    "# Example 41 - Arithmetic Operators\n",
    "print(1 + 2)"
   ]
  },
  {
   "cell_type": "code",
   "execution_count": 42,
   "id": "d0687532",
   "metadata": {},
   "outputs": [
    {
     "name": "stdout",
     "output_type": "stream",
     "text": [
      "5\n"
     ]
    }
   ],
   "source": [
    "# Example 42 - Arithmetic Operators\n",
    "print(2 + 3)"
   ]
  },
  {
   "cell_type": "code",
   "execution_count": 43,
   "id": "f3d8c0b8",
   "metadata": {},
   "outputs": [
    {
     "name": "stdout",
     "output_type": "stream",
     "text": [
      "7\n"
     ]
    }
   ],
   "source": [
    "# Example 43 - Arithmetic Operators\n",
    "print(3 + 4)"
   ]
  },
  {
   "cell_type": "code",
   "execution_count": 44,
   "id": "dc30cd21",
   "metadata": {},
   "outputs": [
    {
     "name": "stdout",
     "output_type": "stream",
     "text": [
      "9\n"
     ]
    }
   ],
   "source": [
    "# Example 44 - Arithmetic Operators\n",
    "print(4 + 5)"
   ]
  },
  {
   "cell_type": "code",
   "execution_count": 45,
   "id": "b616d4ff",
   "metadata": {},
   "outputs": [
    {
     "name": "stdout",
     "output_type": "stream",
     "text": [
      "11\n"
     ]
    }
   ],
   "source": [
    "# Example 45 - Arithmetic Operators\n",
    "print(5 + 6)"
   ]
  },
  {
   "cell_type": "code",
   "execution_count": 46,
   "id": "f6ea066e",
   "metadata": {},
   "outputs": [
    {
     "name": "stdout",
     "output_type": "stream",
     "text": [
      "8\n"
     ]
    }
   ],
   "source": [
    "# Example 46 - Arithmetic Operators\n",
    "print(6 + 2)"
   ]
  },
  {
   "cell_type": "code",
   "execution_count": 47,
   "id": "9b106693",
   "metadata": {},
   "outputs": [
    {
     "name": "stdout",
     "output_type": "stream",
     "text": [
      "10\n"
     ]
    }
   ],
   "source": [
    "# Example 47 - Arithmetic Operators\n",
    "print(7 + 3)"
   ]
  },
  {
   "cell_type": "code",
   "execution_count": 48,
   "id": "3f21d0de",
   "metadata": {},
   "outputs": [
    {
     "name": "stdout",
     "output_type": "stream",
     "text": [
      "12\n"
     ]
    }
   ],
   "source": [
    "# Example 48 - Arithmetic Operators\n",
    "print(8 + 4)"
   ]
  },
  {
   "cell_type": "code",
   "execution_count": 49,
   "id": "24c0a7a8",
   "metadata": {},
   "outputs": [
    {
     "name": "stdout",
     "output_type": "stream",
     "text": [
      "14\n"
     ]
    }
   ],
   "source": [
    "# Example 49 - Arithmetic Operators\n",
    "print(9 + 5)"
   ]
  },
  {
   "cell_type": "code",
   "execution_count": 50,
   "id": "3d667f3d",
   "metadata": {},
   "outputs": [
    {
     "name": "stdout",
     "output_type": "stream",
     "text": [
      "16\n"
     ]
    }
   ],
   "source": [
    "# Example 50 - Arithmetic Operators\n",
    "print(10 + 6)"
   ]
  },
  {
   "cell_type": "code",
   "execution_count": 51,
   "id": "072dbf3b",
   "metadata": {},
   "outputs": [
    {
     "name": "stdout",
     "output_type": "stream",
     "text": [
      "True\n"
     ]
    }
   ],
   "source": [
    "# Example 51 - Comparison Operators\n",
    "print(5 > 1)"
   ]
  },
  {
   "cell_type": "code",
   "execution_count": 52,
   "id": "32d83354",
   "metadata": {},
   "outputs": [
    {
     "name": "stdout",
     "output_type": "stream",
     "text": [
      "True\n"
     ]
    }
   ],
   "source": [
    "# Example 52 - Comparison Operators\n",
    "print(6 > 2)"
   ]
  },
  {
   "cell_type": "code",
   "execution_count": 53,
   "id": "a9f57d0b",
   "metadata": {},
   "outputs": [
    {
     "name": "stdout",
     "output_type": "stream",
     "text": [
      "True\n"
     ]
    }
   ],
   "source": [
    "# Example 53 - Comparison Operators\n",
    "print(7 > 3)"
   ]
  },
  {
   "cell_type": "code",
   "execution_count": 54,
   "id": "5918e686",
   "metadata": {},
   "outputs": [
    {
     "name": "stdout",
     "output_type": "stream",
     "text": [
      "True\n"
     ]
    }
   ],
   "source": [
    "# Example 54 - Comparison Operators\n",
    "print(8 > 4)"
   ]
  },
  {
   "cell_type": "code",
   "execution_count": 55,
   "id": "d22e20ac",
   "metadata": {},
   "outputs": [
    {
     "name": "stdout",
     "output_type": "stream",
     "text": [
      "True\n"
     ]
    }
   ],
   "source": [
    "# Example 55 - Comparison Operators\n",
    "print(9 > 5)"
   ]
  },
  {
   "cell_type": "code",
   "execution_count": 56,
   "id": "183445b7",
   "metadata": {},
   "outputs": [
    {
     "name": "stdout",
     "output_type": "stream",
     "text": [
      "True\n"
     ]
    }
   ],
   "source": [
    "# Example 56 - Comparison Operators\n",
    "print(10 > 1)"
   ]
  },
  {
   "cell_type": "code",
   "execution_count": 57,
   "id": "84db9b52",
   "metadata": {},
   "outputs": [
    {
     "name": "stdout",
     "output_type": "stream",
     "text": [
      "True\n"
     ]
    }
   ],
   "source": [
    "# Example 57 - Comparison Operators\n",
    "print(11 > 2)"
   ]
  },
  {
   "cell_type": "code",
   "execution_count": 58,
   "id": "9ad8ac6d",
   "metadata": {},
   "outputs": [
    {
     "name": "stdout",
     "output_type": "stream",
     "text": [
      "True\n"
     ]
    }
   ],
   "source": [
    "# Example 58 - Comparison Operators\n",
    "print(12 > 3)"
   ]
  },
  {
   "cell_type": "code",
   "execution_count": 59,
   "id": "35389ed6",
   "metadata": {},
   "outputs": [
    {
     "name": "stdout",
     "output_type": "stream",
     "text": [
      "True\n"
     ]
    }
   ],
   "source": [
    "# Example 59 - Comparison Operators\n",
    "print(13 > 4)"
   ]
  },
  {
   "cell_type": "code",
   "execution_count": 60,
   "id": "21b2403c",
   "metadata": {},
   "outputs": [
    {
     "name": "stdout",
     "output_type": "stream",
     "text": [
      "True\n"
     ]
    }
   ],
   "source": [
    "# Example 60 - Comparison Operators\n",
    "print(14 > 5)"
   ]
  },
  {
   "cell_type": "code",
   "execution_count": 61,
   "id": "e960bd36",
   "metadata": {},
   "outputs": [
    {
     "name": "stdout",
     "output_type": "stream",
     "text": [
      "True\n"
     ]
    }
   ],
   "source": [
    "# Example 61 - Comparison Operators\n",
    "print(5 > 1)"
   ]
  },
  {
   "cell_type": "code",
   "execution_count": 62,
   "id": "7bae22bc",
   "metadata": {},
   "outputs": [
    {
     "name": "stdout",
     "output_type": "stream",
     "text": [
      "True\n"
     ]
    }
   ],
   "source": [
    "# Example 62 - Comparison Operators\n",
    "print(6 > 2)"
   ]
  },
  {
   "cell_type": "code",
   "execution_count": 63,
   "id": "a4e3666c",
   "metadata": {},
   "outputs": [
    {
     "name": "stdout",
     "output_type": "stream",
     "text": [
      "True\n"
     ]
    }
   ],
   "source": [
    "# Example 63 - Comparison Operators\n",
    "print(7 > 3)"
   ]
  },
  {
   "cell_type": "code",
   "execution_count": 64,
   "id": "bcc3935b",
   "metadata": {},
   "outputs": [
    {
     "name": "stdout",
     "output_type": "stream",
     "text": [
      "True\n"
     ]
    }
   ],
   "source": [
    "# Example 64 - Comparison Operators\n",
    "print(8 > 4)"
   ]
  },
  {
   "cell_type": "code",
   "execution_count": 65,
   "id": "912e5cd5",
   "metadata": {},
   "outputs": [
    {
     "name": "stdout",
     "output_type": "stream",
     "text": [
      "True\n"
     ]
    }
   ],
   "source": [
    "# Example 65 - Comparison Operators\n",
    "print(9 > 5)"
   ]
  },
  {
   "cell_type": "code",
   "execution_count": 66,
   "id": "5b6a1b06",
   "metadata": {},
   "outputs": [
    {
     "name": "stdout",
     "output_type": "stream",
     "text": [
      "True\n"
     ]
    }
   ],
   "source": [
    "# Example 66 - Comparison Operators\n",
    "print(10 > 1)"
   ]
  },
  {
   "cell_type": "code",
   "execution_count": 67,
   "id": "f9a675c0",
   "metadata": {},
   "outputs": [
    {
     "name": "stdout",
     "output_type": "stream",
     "text": [
      "True\n"
     ]
    }
   ],
   "source": [
    "# Example 67 - Comparison Operators\n",
    "print(11 > 2)"
   ]
  },
  {
   "cell_type": "code",
   "execution_count": 68,
   "id": "cc7993ca",
   "metadata": {},
   "outputs": [
    {
     "name": "stdout",
     "output_type": "stream",
     "text": [
      "True\n"
     ]
    }
   ],
   "source": [
    "# Example 68 - Comparison Operators\n",
    "print(12 > 3)"
   ]
  },
  {
   "cell_type": "code",
   "execution_count": 69,
   "id": "e5499a24",
   "metadata": {},
   "outputs": [
    {
     "name": "stdout",
     "output_type": "stream",
     "text": [
      "True\n"
     ]
    }
   ],
   "source": [
    "# Example 69 - Comparison Operators\n",
    "print(13 > 4)"
   ]
  },
  {
   "cell_type": "code",
   "execution_count": 70,
   "id": "f5b91c8a",
   "metadata": {},
   "outputs": [
    {
     "name": "stdout",
     "output_type": "stream",
     "text": [
      "True\n"
     ]
    }
   ],
   "source": [
    "# Example 70 - Comparison Operators\n",
    "print(14 > 5)"
   ]
  },
  {
   "cell_type": "code",
   "execution_count": 71,
   "id": "f4ecfb8e",
   "metadata": {},
   "outputs": [
    {
     "name": "stdout",
     "output_type": "stream",
     "text": [
      "True\n"
     ]
    }
   ],
   "source": [
    "# Example 71 - Comparison Operators\n",
    "print(5 > 1)"
   ]
  },
  {
   "cell_type": "code",
   "execution_count": 72,
   "id": "fa4b13bc",
   "metadata": {},
   "outputs": [
    {
     "name": "stdout",
     "output_type": "stream",
     "text": [
      "True\n"
     ]
    }
   ],
   "source": [
    "# Example 72 - Comparison Operators\n",
    "print(6 > 2)"
   ]
  },
  {
   "cell_type": "code",
   "execution_count": 73,
   "id": "11810964",
   "metadata": {},
   "outputs": [
    {
     "name": "stdout",
     "output_type": "stream",
     "text": [
      "True\n"
     ]
    }
   ],
   "source": [
    "# Example 73 - Comparison Operators\n",
    "print(7 > 3)"
   ]
  },
  {
   "cell_type": "code",
   "execution_count": 74,
   "id": "f85d3a7b",
   "metadata": {},
   "outputs": [
    {
     "name": "stdout",
     "output_type": "stream",
     "text": [
      "True\n"
     ]
    }
   ],
   "source": [
    "# Example 74 - Comparison Operators\n",
    "print(8 > 4)"
   ]
  },
  {
   "cell_type": "code",
   "execution_count": 75,
   "id": "c96e1c29",
   "metadata": {},
   "outputs": [
    {
     "name": "stdout",
     "output_type": "stream",
     "text": [
      "True\n"
     ]
    }
   ],
   "source": [
    "# Example 75 - Comparison Operators\n",
    "print(9 > 5)"
   ]
  },
  {
   "cell_type": "code",
   "execution_count": 76,
   "id": "008f9145",
   "metadata": {},
   "outputs": [
    {
     "name": "stdout",
     "output_type": "stream",
     "text": [
      "True\n"
     ]
    }
   ],
   "source": [
    "# Example 76 - Comparison Operators\n",
    "print(10 > 1)"
   ]
  },
  {
   "cell_type": "code",
   "execution_count": 77,
   "id": "0bb60712",
   "metadata": {},
   "outputs": [
    {
     "name": "stdout",
     "output_type": "stream",
     "text": [
      "True\n"
     ]
    }
   ],
   "source": [
    "# Example 77 - Comparison Operators\n",
    "print(11 > 2)"
   ]
  },
  {
   "cell_type": "code",
   "execution_count": 78,
   "id": "00f42457",
   "metadata": {},
   "outputs": [
    {
     "name": "stdout",
     "output_type": "stream",
     "text": [
      "True\n"
     ]
    }
   ],
   "source": [
    "# Example 78 - Comparison Operators\n",
    "print(12 > 3)"
   ]
  },
  {
   "cell_type": "code",
   "execution_count": 79,
   "id": "1e1bfaf0",
   "metadata": {},
   "outputs": [
    {
     "name": "stdout",
     "output_type": "stream",
     "text": [
      "True\n"
     ]
    }
   ],
   "source": [
    "# Example 79 - Comparison Operators\n",
    "print(13 > 4)"
   ]
  },
  {
   "cell_type": "code",
   "execution_count": 80,
   "id": "11bd5eb8",
   "metadata": {},
   "outputs": [
    {
     "name": "stdout",
     "output_type": "stream",
     "text": [
      "True\n"
     ]
    }
   ],
   "source": [
    "# Example 80 - Comparison Operators\n",
    "print(14 > 5)"
   ]
  },
  {
   "cell_type": "code",
   "execution_count": 81,
   "id": "0f3c768c",
   "metadata": {},
   "outputs": [
    {
     "name": "stdout",
     "output_type": "stream",
     "text": [
      "True\n"
     ]
    }
   ],
   "source": [
    "# Example 81 - Comparison Operators\n",
    "print(5 > 1)"
   ]
  },
  {
   "cell_type": "code",
   "execution_count": 82,
   "id": "0bc0b927",
   "metadata": {},
   "outputs": [
    {
     "name": "stdout",
     "output_type": "stream",
     "text": [
      "True\n"
     ]
    }
   ],
   "source": [
    "# Example 82 - Comparison Operators\n",
    "print(6 > 2)"
   ]
  },
  {
   "cell_type": "code",
   "execution_count": 83,
   "id": "a824144b",
   "metadata": {},
   "outputs": [
    {
     "name": "stdout",
     "output_type": "stream",
     "text": [
      "True\n"
     ]
    }
   ],
   "source": [
    "# Example 83 - Comparison Operators\n",
    "print(7 > 3)"
   ]
  },
  {
   "cell_type": "code",
   "execution_count": 84,
   "id": "5cc0b32e",
   "metadata": {},
   "outputs": [
    {
     "name": "stdout",
     "output_type": "stream",
     "text": [
      "True\n"
     ]
    }
   ],
   "source": [
    "# Example 84 - Comparison Operators\n",
    "print(8 > 4)"
   ]
  },
  {
   "cell_type": "code",
   "execution_count": 85,
   "id": "cafa8189",
   "metadata": {},
   "outputs": [
    {
     "name": "stdout",
     "output_type": "stream",
     "text": [
      "True\n"
     ]
    }
   ],
   "source": [
    "# Example 85 - Comparison Operators\n",
    "print(9 > 5)"
   ]
  },
  {
   "cell_type": "code",
   "execution_count": 86,
   "id": "d592f2af",
   "metadata": {},
   "outputs": [
    {
     "name": "stdout",
     "output_type": "stream",
     "text": [
      "True\n"
     ]
    }
   ],
   "source": [
    "# Example 86 - Comparison Operators\n",
    "print(10 > 1)"
   ]
  },
  {
   "cell_type": "code",
   "execution_count": 503,
   "id": "24479346",
   "metadata": {},
   "outputs": [
    {
     "name": "stdout",
     "output_type": "stream",
     "text": [
      "True\n"
     ]
    }
   ],
   "source": [
    "# Example 87 - Comparison Operators\n",
    "print(11 > 2)\n",
    "\n"
   ]
  },
  {
   "cell_type": "code",
   "execution_count": 88,
   "id": "61690b99",
   "metadata": {},
   "outputs": [
    {
     "name": "stdout",
     "output_type": "stream",
     "text": [
      "True\n"
     ]
    }
   ],
   "source": [
    "# Example 88 - Comparison Operators\n",
    "print(12 > 3)"
   ]
  },
  {
   "cell_type": "code",
   "execution_count": 89,
   "id": "a6e37f1b",
   "metadata": {},
   "outputs": [
    {
     "name": "stdout",
     "output_type": "stream",
     "text": [
      "True\n"
     ]
    }
   ],
   "source": [
    "# Example 89 - Comparison Operators\n",
    "print(13 > 4)"
   ]
  },
  {
   "cell_type": "code",
   "execution_count": 90,
   "id": "1682ca5c",
   "metadata": {},
   "outputs": [
    {
     "name": "stdout",
     "output_type": "stream",
     "text": [
      "True\n"
     ]
    }
   ],
   "source": [
    "# Example 90 - Comparison Operators\n",
    "print(14 > 5)"
   ]
  },
  {
   "cell_type": "code",
   "execution_count": 91,
   "id": "187a6605",
   "metadata": {},
   "outputs": [
    {
     "name": "stdout",
     "output_type": "stream",
     "text": [
      "True\n"
     ]
    }
   ],
   "source": [
    "# Example 91 - Comparison Operators\n",
    "print(5 > 1)"
   ]
  },
  {
   "cell_type": "code",
   "execution_count": 92,
   "id": "db2d4be2",
   "metadata": {},
   "outputs": [
    {
     "name": "stdout",
     "output_type": "stream",
     "text": [
      "True\n"
     ]
    }
   ],
   "source": [
    "# Example 92 - Comparison Operators\n",
    "print(6 > 2)"
   ]
  },
  {
   "cell_type": "code",
   "execution_count": 93,
   "id": "9d78777f",
   "metadata": {},
   "outputs": [
    {
     "name": "stdout",
     "output_type": "stream",
     "text": [
      "True\n"
     ]
    }
   ],
   "source": [
    "# Example 93 - Comparison Operators\n",
    "print(7 > 3)"
   ]
  },
  {
   "cell_type": "code",
   "execution_count": 94,
   "id": "bc7605c7",
   "metadata": {},
   "outputs": [
    {
     "name": "stdout",
     "output_type": "stream",
     "text": [
      "True\n"
     ]
    }
   ],
   "source": [
    "# Example 94 - Comparison Operators\n",
    "print(8 > 4)"
   ]
  },
  {
   "cell_type": "code",
   "execution_count": 95,
   "id": "e9a64040",
   "metadata": {},
   "outputs": [
    {
     "name": "stdout",
     "output_type": "stream",
     "text": [
      "True\n"
     ]
    }
   ],
   "source": [
    "# Example 95 - Comparison Operators\n",
    "print(9 > 5)"
   ]
  },
  {
   "cell_type": "code",
   "execution_count": 96,
   "id": "01280cd9",
   "metadata": {},
   "outputs": [
    {
     "name": "stdout",
     "output_type": "stream",
     "text": [
      "True\n"
     ]
    }
   ],
   "source": [
    "# Example 96 - Comparison Operators\n",
    "print(10 > 1)"
   ]
  },
  {
   "cell_type": "code",
   "execution_count": 97,
   "id": "e2ffec8c",
   "metadata": {},
   "outputs": [
    {
     "name": "stdout",
     "output_type": "stream",
     "text": [
      "True\n"
     ]
    }
   ],
   "source": [
    "# Example 97 - Comparison Operators\n",
    "print(11 > 2)"
   ]
  },
  {
   "cell_type": "code",
   "execution_count": 98,
   "id": "99c7d5bd",
   "metadata": {},
   "outputs": [
    {
     "name": "stdout",
     "output_type": "stream",
     "text": [
      "True\n"
     ]
    }
   ],
   "source": [
    "# Example 98 - Comparison Operators\n",
    "print(12 > 3)"
   ]
  },
  {
   "cell_type": "code",
   "execution_count": 99,
   "id": "4bfdb2b3",
   "metadata": {},
   "outputs": [
    {
     "name": "stdout",
     "output_type": "stream",
     "text": [
      "True\n"
     ]
    }
   ],
   "source": [
    "# Example 99 - Comparison Operators\n",
    "print(13 > 4)"
   ]
  },
  {
   "cell_type": "code",
   "execution_count": 100,
   "id": "63328d4c",
   "metadata": {},
   "outputs": [
    {
     "name": "stdout",
     "output_type": "stream",
     "text": [
      "True\n"
     ]
    }
   ],
   "source": [
    "# Example 100 - Comparison Operators\n",
    "print(14 > 5)"
   ]
  },
  {
   "cell_type": "code",
   "execution_count": 101,
   "id": "28e56fe0",
   "metadata": {},
   "outputs": [
    {
     "name": "stdout",
     "output_type": "stream",
     "text": [
      "101\n"
     ]
    }
   ],
   "source": [
    "# Example 101 - Assignment Operators\n",
    "x = 100\n",
    "x += 1\n",
    "print(x)"
   ]
  },
  {
   "cell_type": "code",
   "execution_count": 102,
   "id": "92201a2f",
   "metadata": {},
   "outputs": [
    {
     "name": "stdout",
     "output_type": "stream",
     "text": [
      "102\n"
     ]
    }
   ],
   "source": [
    "# Example 102 - Assignment Operators\n",
    "x = 101\n",
    "x += 1\n",
    "print(x)"
   ]
  },
  {
   "cell_type": "code",
   "execution_count": 103,
   "id": "8db95dbc",
   "metadata": {},
   "outputs": [
    {
     "name": "stdout",
     "output_type": "stream",
     "text": [
      "103\n"
     ]
    }
   ],
   "source": [
    "# Example 103 - Assignment Operators\n",
    "x = 102\n",
    "x += 1\n",
    "print(x)"
   ]
  },
  {
   "cell_type": "code",
   "execution_count": 104,
   "id": "12da433e",
   "metadata": {},
   "outputs": [
    {
     "name": "stdout",
     "output_type": "stream",
     "text": [
      "104\n"
     ]
    }
   ],
   "source": [
    "# Example 104 - Assignment Operators\n",
    "x = 103\n",
    "x += 1\n",
    "print(x)"
   ]
  },
  {
   "cell_type": "code",
   "execution_count": 105,
   "id": "a8f079ab",
   "metadata": {},
   "outputs": [
    {
     "name": "stdout",
     "output_type": "stream",
     "text": [
      "105\n"
     ]
    }
   ],
   "source": [
    "# Example 105 - Assignment Operators\n",
    "x = 104\n",
    "x += 1\n",
    "print(x)"
   ]
  },
  {
   "cell_type": "code",
   "execution_count": 106,
   "id": "8e2804b1",
   "metadata": {},
   "outputs": [
    {
     "name": "stdout",
     "output_type": "stream",
     "text": [
      "106\n"
     ]
    }
   ],
   "source": [
    "# Example 106 - Assignment Operators\n",
    "x = 105\n",
    "x += 1\n",
    "print(x)"
   ]
  },
  {
   "cell_type": "code",
   "execution_count": 107,
   "id": "71948fc2",
   "metadata": {},
   "outputs": [
    {
     "name": "stdout",
     "output_type": "stream",
     "text": [
      "107\n"
     ]
    }
   ],
   "source": [
    "# Example 107 - Assignment Operators\n",
    "x = 106\n",
    "x += 1\n",
    "print(x)"
   ]
  },
  {
   "cell_type": "code",
   "execution_count": 108,
   "id": "d14ff887",
   "metadata": {},
   "outputs": [
    {
     "name": "stdout",
     "output_type": "stream",
     "text": [
      "108\n"
     ]
    }
   ],
   "source": [
    "# Example 108 - Assignment Operators\n",
    "x = 107\n",
    "x += 1\n",
    "print(x)"
   ]
  },
  {
   "cell_type": "code",
   "execution_count": 109,
   "id": "e28f243c",
   "metadata": {},
   "outputs": [
    {
     "name": "stdout",
     "output_type": "stream",
     "text": [
      "109\n"
     ]
    }
   ],
   "source": [
    "# Example 109 - Assignment Operators\n",
    "x = 108\n",
    "x += 1\n",
    "print(x)"
   ]
  },
  {
   "cell_type": "code",
   "execution_count": 110,
   "id": "0e50abc3",
   "metadata": {},
   "outputs": [
    {
     "name": "stdout",
     "output_type": "stream",
     "text": [
      "110\n"
     ]
    }
   ],
   "source": [
    "# Example 110 - Assignment Operators\n",
    "x = 109\n",
    "x += 1\n",
    "print(x)"
   ]
  },
  {
   "cell_type": "code",
   "execution_count": 111,
   "id": "a84a70e0",
   "metadata": {},
   "outputs": [
    {
     "name": "stdout",
     "output_type": "stream",
     "text": [
      "111\n"
     ]
    }
   ],
   "source": [
    "# Example 111 - Assignment Operators\n",
    "x = 110\n",
    "x += 1\n",
    "print(x)"
   ]
  },
  {
   "cell_type": "code",
   "execution_count": 112,
   "id": "1551f8a4",
   "metadata": {},
   "outputs": [
    {
     "name": "stdout",
     "output_type": "stream",
     "text": [
      "112\n"
     ]
    }
   ],
   "source": [
    "# Example 112 - Assignment Operators\n",
    "x = 111\n",
    "x += 1\n",
    "print(x)"
   ]
  },
  {
   "cell_type": "code",
   "execution_count": 113,
   "id": "9a9364c9",
   "metadata": {},
   "outputs": [
    {
     "name": "stdout",
     "output_type": "stream",
     "text": [
      "113\n"
     ]
    }
   ],
   "source": [
    "# Example 113 - Assignment Operators\n",
    "x = 112\n",
    "x += 1\n",
    "print(x)"
   ]
  },
  {
   "cell_type": "code",
   "execution_count": 114,
   "id": "b4471a89",
   "metadata": {},
   "outputs": [
    {
     "name": "stdout",
     "output_type": "stream",
     "text": [
      "114\n"
     ]
    }
   ],
   "source": [
    "# Example 114 - Assignment Operators\n",
    "x = 113\n",
    "x += 1\n",
    "print(x)"
   ]
  },
  {
   "cell_type": "code",
   "execution_count": 115,
   "id": "ee440613",
   "metadata": {},
   "outputs": [
    {
     "name": "stdout",
     "output_type": "stream",
     "text": [
      "115\n"
     ]
    }
   ],
   "source": [
    "# Example 115 - Assignment Operators\n",
    "x = 114\n",
    "x += 1\n",
    "print(x)"
   ]
  },
  {
   "cell_type": "code",
   "execution_count": 116,
   "id": "f2bfcebb",
   "metadata": {},
   "outputs": [
    {
     "name": "stdout",
     "output_type": "stream",
     "text": [
      "116\n"
     ]
    }
   ],
   "source": [
    "# Example 116 - Assignment Operators\n",
    "x = 115\n",
    "x += 1\n",
    "print(x)"
   ]
  },
  {
   "cell_type": "code",
   "execution_count": 117,
   "id": "ddabf0f1",
   "metadata": {},
   "outputs": [
    {
     "name": "stdout",
     "output_type": "stream",
     "text": [
      "117\n"
     ]
    }
   ],
   "source": [
    "# Example 117 - Assignment Operators\n",
    "x = 116\n",
    "x += 1\n",
    "print(x)"
   ]
  },
  {
   "cell_type": "code",
   "execution_count": 118,
   "id": "c83dca24",
   "metadata": {},
   "outputs": [
    {
     "name": "stdout",
     "output_type": "stream",
     "text": [
      "118\n"
     ]
    }
   ],
   "source": [
    "# Example 118 - Assignment Operators\n",
    "x = 117\n",
    "x += 1\n",
    "print(x)"
   ]
  },
  {
   "cell_type": "code",
   "execution_count": 119,
   "id": "533d09ba",
   "metadata": {},
   "outputs": [
    {
     "name": "stdout",
     "output_type": "stream",
     "text": [
      "119\n"
     ]
    }
   ],
   "source": [
    "# Example 119 - Assignment Operators\n",
    "x = 118\n",
    "x += 1\n",
    "print(x)"
   ]
  },
  {
   "cell_type": "code",
   "execution_count": 120,
   "id": "b7913c54",
   "metadata": {},
   "outputs": [
    {
     "name": "stdout",
     "output_type": "stream",
     "text": [
      "120\n"
     ]
    }
   ],
   "source": [
    "# Example 120 - Assignment Operators\n",
    "x = 119\n",
    "x += 1\n",
    "print(x)"
   ]
  },
  {
   "cell_type": "code",
   "execution_count": 121,
   "id": "161338c4",
   "metadata": {},
   "outputs": [
    {
     "name": "stdout",
     "output_type": "stream",
     "text": [
      "121\n"
     ]
    }
   ],
   "source": [
    "# Example 121 - Assignment Operators\n",
    "x = 120\n",
    "x += 1\n",
    "print(x)"
   ]
  },
  {
   "cell_type": "code",
   "execution_count": 122,
   "id": "19164145",
   "metadata": {},
   "outputs": [
    {
     "name": "stdout",
     "output_type": "stream",
     "text": [
      "122\n"
     ]
    }
   ],
   "source": [
    "# Example 122 - Assignment Operators\n",
    "x = 121\n",
    "x += 1\n",
    "print(x)"
   ]
  },
  {
   "cell_type": "code",
   "execution_count": 123,
   "id": "2cd4cc2f",
   "metadata": {},
   "outputs": [
    {
     "name": "stdout",
     "output_type": "stream",
     "text": [
      "123\n"
     ]
    }
   ],
   "source": [
    "# Example 123 - Assignment Operators\n",
    "x = 122\n",
    "x += 1\n",
    "print(x)"
   ]
  },
  {
   "cell_type": "code",
   "execution_count": 124,
   "id": "00fff02c",
   "metadata": {},
   "outputs": [
    {
     "name": "stdout",
     "output_type": "stream",
     "text": [
      "124\n"
     ]
    }
   ],
   "source": [
    "# Example 124 - Assignment Operators\n",
    "x = 123\n",
    "x += 1\n",
    "print(x)"
   ]
  },
  {
   "cell_type": "code",
   "execution_count": 125,
   "id": "c8de1ca0",
   "metadata": {},
   "outputs": [
    {
     "name": "stdout",
     "output_type": "stream",
     "text": [
      "125\n"
     ]
    }
   ],
   "source": [
    "# Example 125 - Assignment Operators\n",
    "x = 124\n",
    "x += 1\n",
    "print(x)"
   ]
  },
  {
   "cell_type": "code",
   "execution_count": 126,
   "id": "360f9598",
   "metadata": {},
   "outputs": [
    {
     "name": "stdout",
     "output_type": "stream",
     "text": [
      "126\n"
     ]
    }
   ],
   "source": [
    "# Example 126 - Assignment Operators\n",
    "x = 125\n",
    "x += 1\n",
    "print(x)"
   ]
  },
  {
   "cell_type": "code",
   "execution_count": 127,
   "id": "fd3f0660",
   "metadata": {},
   "outputs": [
    {
     "name": "stdout",
     "output_type": "stream",
     "text": [
      "127\n"
     ]
    }
   ],
   "source": [
    "# Example 127 - Assignment Operators\n",
    "x = 126\n",
    "x += 1\n",
    "print(x)"
   ]
  },
  {
   "cell_type": "code",
   "execution_count": 128,
   "id": "b6e25cb6",
   "metadata": {},
   "outputs": [
    {
     "name": "stdout",
     "output_type": "stream",
     "text": [
      "128\n"
     ]
    }
   ],
   "source": [
    "# Example 128 - Assignment Operators\n",
    "x = 127\n",
    "x += 1\n",
    "print(x)"
   ]
  },
  {
   "cell_type": "code",
   "execution_count": 129,
   "id": "6804f156",
   "metadata": {},
   "outputs": [
    {
     "name": "stdout",
     "output_type": "stream",
     "text": [
      "129\n"
     ]
    }
   ],
   "source": [
    "# Example 129 - Assignment Operators\n",
    "x = 128\n",
    "x += 1\n",
    "print(x)"
   ]
  },
  {
   "cell_type": "code",
   "execution_count": 130,
   "id": "6d9ae620",
   "metadata": {},
   "outputs": [
    {
     "name": "stdout",
     "output_type": "stream",
     "text": [
      "130\n"
     ]
    }
   ],
   "source": [
    "# Example 130 - Assignment Operators\n",
    "x = 129\n",
    "x += 1\n",
    "print(x)"
   ]
  },
  {
   "cell_type": "code",
   "execution_count": 131,
   "id": "a237dfb3",
   "metadata": {},
   "outputs": [
    {
     "name": "stdout",
     "output_type": "stream",
     "text": [
      "131\n"
     ]
    }
   ],
   "source": [
    "# Example 131 - Assignment Operators\n",
    "x = 130\n",
    "x += 1\n",
    "print(x)"
   ]
  },
  {
   "cell_type": "code",
   "execution_count": 132,
   "id": "90a9f149",
   "metadata": {},
   "outputs": [
    {
     "name": "stdout",
     "output_type": "stream",
     "text": [
      "132\n"
     ]
    }
   ],
   "source": [
    "# Example 132 - Assignment Operators\n",
    "x = 131\n",
    "x += 1\n",
    "print(x)"
   ]
  },
  {
   "cell_type": "code",
   "execution_count": 133,
   "id": "a2b08fce",
   "metadata": {},
   "outputs": [
    {
     "name": "stdout",
     "output_type": "stream",
     "text": [
      "133\n"
     ]
    }
   ],
   "source": [
    "# Example 133 - Assignment Operators\n",
    "x = 132\n",
    "x += 1\n",
    "print(x)"
   ]
  },
  {
   "cell_type": "code",
   "execution_count": 134,
   "id": "74b17eb2",
   "metadata": {},
   "outputs": [
    {
     "name": "stdout",
     "output_type": "stream",
     "text": [
      "134\n"
     ]
    }
   ],
   "source": [
    "# Example 134 - Assignment Operators\n",
    "x = 133\n",
    "x += 1\n",
    "print(x)"
   ]
  },
  {
   "cell_type": "code",
   "execution_count": 135,
   "id": "b2ace5ad",
   "metadata": {},
   "outputs": [
    {
     "name": "stdout",
     "output_type": "stream",
     "text": [
      "135\n"
     ]
    }
   ],
   "source": [
    "# Example 135 - Assignment Operators\n",
    "x = 134\n",
    "x += 1\n",
    "print(x)"
   ]
  },
  {
   "cell_type": "code",
   "execution_count": 136,
   "id": "8afcbadc",
   "metadata": {},
   "outputs": [
    {
     "name": "stdout",
     "output_type": "stream",
     "text": [
      "136\n"
     ]
    }
   ],
   "source": [
    "# Example 136 - Assignment Operators\n",
    "x = 135\n",
    "x += 1\n",
    "print(x)"
   ]
  },
  {
   "cell_type": "code",
   "execution_count": 137,
   "id": "11286a84",
   "metadata": {},
   "outputs": [
    {
     "name": "stdout",
     "output_type": "stream",
     "text": [
      "137\n"
     ]
    }
   ],
   "source": [
    "# Example 137 - Assignment Operators\n",
    "x = 136\n",
    "x += 1\n",
    "print(x)"
   ]
  },
  {
   "cell_type": "code",
   "execution_count": 138,
   "id": "8eda5afe",
   "metadata": {},
   "outputs": [
    {
     "name": "stdout",
     "output_type": "stream",
     "text": [
      "138\n"
     ]
    }
   ],
   "source": [
    "# Example 138 - Assignment Operators\n",
    "x = 137\n",
    "x += 1\n",
    "print(x)"
   ]
  },
  {
   "cell_type": "code",
   "execution_count": 139,
   "id": "97c704da",
   "metadata": {},
   "outputs": [
    {
     "name": "stdout",
     "output_type": "stream",
     "text": [
      "139\n"
     ]
    }
   ],
   "source": [
    "# Example 139 - Assignment Operators\n",
    "x = 138\n",
    "x += 1\n",
    "print(x)"
   ]
  },
  {
   "cell_type": "code",
   "execution_count": 140,
   "id": "e3dc7a49",
   "metadata": {},
   "outputs": [
    {
     "name": "stdout",
     "output_type": "stream",
     "text": [
      "140\n"
     ]
    }
   ],
   "source": [
    "# Example 140 - Assignment Operators\n",
    "x = 139\n",
    "x += 1\n",
    "print(x)"
   ]
  },
  {
   "cell_type": "code",
   "execution_count": 141,
   "id": "47b88e81",
   "metadata": {},
   "outputs": [
    {
     "name": "stdout",
     "output_type": "stream",
     "text": [
      "141\n"
     ]
    }
   ],
   "source": [
    "# Example 141 - Assignment Operators\n",
    "x = 140\n",
    "x += 1\n",
    "print(x)"
   ]
  },
  {
   "cell_type": "code",
   "execution_count": 142,
   "id": "843213c7",
   "metadata": {},
   "outputs": [
    {
     "name": "stdout",
     "output_type": "stream",
     "text": [
      "142\n"
     ]
    }
   ],
   "source": [
    "# Example 142 - Assignment Operators\n",
    "x = 141\n",
    "x += 1\n",
    "print(x)"
   ]
  },
  {
   "cell_type": "code",
   "execution_count": 143,
   "id": "8e320dbd",
   "metadata": {},
   "outputs": [
    {
     "name": "stdout",
     "output_type": "stream",
     "text": [
      "143\n"
     ]
    }
   ],
   "source": [
    "# Example 143 - Assignment Operators\n",
    "x = 142\n",
    "x += 1\n",
    "print(x)"
   ]
  },
  {
   "cell_type": "code",
   "execution_count": 144,
   "id": "c1efd238",
   "metadata": {},
   "outputs": [
    {
     "name": "stdout",
     "output_type": "stream",
     "text": [
      "144\n"
     ]
    }
   ],
   "source": [
    "# Example 144 - Assignment Operators\n",
    "x = 143\n",
    "x += 1\n",
    "print(x)"
   ]
  },
  {
   "cell_type": "code",
   "execution_count": 145,
   "id": "5d3bedc8",
   "metadata": {},
   "outputs": [
    {
     "name": "stdout",
     "output_type": "stream",
     "text": [
      "145\n"
     ]
    }
   ],
   "source": [
    "# Example 145 - Assignment Operators\n",
    "x = 144\n",
    "x += 1\n",
    "print(x)"
   ]
  },
  {
   "cell_type": "code",
   "execution_count": 146,
   "id": "1631c9ed",
   "metadata": {},
   "outputs": [
    {
     "name": "stdout",
     "output_type": "stream",
     "text": [
      "146\n"
     ]
    }
   ],
   "source": [
    "# Example 146 - Assignment Operators\n",
    "x = 145\n",
    "x += 1\n",
    "print(x)"
   ]
  },
  {
   "cell_type": "code",
   "execution_count": 147,
   "id": "facbc8c2",
   "metadata": {},
   "outputs": [
    {
     "name": "stdout",
     "output_type": "stream",
     "text": [
      "147\n"
     ]
    }
   ],
   "source": [
    "# Example 147 - Assignment Operators\n",
    "x = 146\n",
    "x += 1\n",
    "print(x)"
   ]
  },
  {
   "cell_type": "code",
   "execution_count": 148,
   "id": "2d6b9804",
   "metadata": {},
   "outputs": [
    {
     "name": "stdout",
     "output_type": "stream",
     "text": [
      "148\n"
     ]
    }
   ],
   "source": [
    "# Example 148 - Assignment Operators\n",
    "x = 147\n",
    "x += 1\n",
    "print(x)"
   ]
  },
  {
   "cell_type": "code",
   "execution_count": 149,
   "id": "ef7fc8f2",
   "metadata": {},
   "outputs": [
    {
     "name": "stdout",
     "output_type": "stream",
     "text": [
      "149\n"
     ]
    }
   ],
   "source": [
    "# Example 149 - Assignment Operators\n",
    "x = 148\n",
    "x += 1\n",
    "print(x)"
   ]
  },
  {
   "cell_type": "code",
   "execution_count": 150,
   "id": "a5e56191",
   "metadata": {},
   "outputs": [
    {
     "name": "stdout",
     "output_type": "stream",
     "text": [
      "150\n"
     ]
    }
   ],
   "source": [
    "# Example 150 - Assignment Operators\n",
    "x = 149\n",
    "x += 1\n",
    "print(x)"
   ]
  },
  {
   "cell_type": "code",
   "execution_count": 151,
   "id": "42eefc7f",
   "metadata": {},
   "outputs": [
    {
     "name": "stdout",
     "output_type": "stream",
     "text": [
      "True\n"
     ]
    }
   ],
   "source": [
    "# Example 151 - Logical Operators\n",
    "a = True\n",
    "b = True\n",
    "print(a and b)"
   ]
  },
  {
   "cell_type": "code",
   "execution_count": 152,
   "id": "4069fdaa",
   "metadata": {},
   "outputs": [
    {
     "name": "stdout",
     "output_type": "stream",
     "text": [
      "False\n"
     ]
    }
   ],
   "source": [
    "# Example 152 - Logical Operators\n",
    "a = False\n",
    "b = False\n",
    "print(a and b)"
   ]
  },
  {
   "cell_type": "code",
   "execution_count": 153,
   "id": "183245a9",
   "metadata": {},
   "outputs": [
    {
     "name": "stdout",
     "output_type": "stream",
     "text": [
      "False\n"
     ]
    }
   ],
   "source": [
    "# Example 153 - Logical Operators\n",
    "a = True\n",
    "b = False\n",
    "print(a and b)"
   ]
  },
  {
   "cell_type": "code",
   "execution_count": 154,
   "id": "6cc5d377",
   "metadata": {},
   "outputs": [
    {
     "name": "stdout",
     "output_type": "stream",
     "text": [
      "False\n"
     ]
    }
   ],
   "source": [
    "# Example 154 - Logical Operators\n",
    "a = False\n",
    "b = True\n",
    "print(a and b)"
   ]
  },
  {
   "cell_type": "code",
   "execution_count": 155,
   "id": "7d9e5fc9",
   "metadata": {},
   "outputs": [
    {
     "name": "stdout",
     "output_type": "stream",
     "text": [
      "False\n"
     ]
    }
   ],
   "source": [
    "# Example 155 - Logical Operators\n",
    "a = True\n",
    "b = False\n",
    "print(a and b)"
   ]
  },
  {
   "cell_type": "code",
   "execution_count": 156,
   "id": "5e75d1e1",
   "metadata": {},
   "outputs": [
    {
     "name": "stdout",
     "output_type": "stream",
     "text": [
      "False\n"
     ]
    }
   ],
   "source": [
    "# Example 156 - Logical Operators\n",
    "a = False\n",
    "b = False\n",
    "print(a and b)"
   ]
  },
  {
   "cell_type": "code",
   "execution_count": 157,
   "id": "f8c187a9",
   "metadata": {},
   "outputs": [
    {
     "name": "stdout",
     "output_type": "stream",
     "text": [
      "True\n"
     ]
    }
   ],
   "source": [
    "# Example 157 - Logical Operators\n",
    "a = True\n",
    "b = True\n",
    "print(a and b)"
   ]
  },
  {
   "cell_type": "code",
   "execution_count": 158,
   "id": "c870cac3",
   "metadata": {},
   "outputs": [
    {
     "name": "stdout",
     "output_type": "stream",
     "text": [
      "False\n"
     ]
    }
   ],
   "source": [
    "# Example 158 - Logical Operators\n",
    "a = False\n",
    "b = False\n",
    "print(a and b)"
   ]
  },
  {
   "cell_type": "code",
   "execution_count": 159,
   "id": "d596a793",
   "metadata": {},
   "outputs": [
    {
     "name": "stdout",
     "output_type": "stream",
     "text": [
      "False\n"
     ]
    }
   ],
   "source": [
    "# Example 159 - Logical Operators\n",
    "a = True\n",
    "b = False\n",
    "print(a and b)"
   ]
  },
  {
   "cell_type": "code",
   "execution_count": 160,
   "id": "d8d000b9",
   "metadata": {},
   "outputs": [
    {
     "name": "stdout",
     "output_type": "stream",
     "text": [
      "False\n"
     ]
    }
   ],
   "source": [
    "# Example 160 - Logical Operators\n",
    "a = False\n",
    "b = True\n",
    "print(a and b)"
   ]
  },
  {
   "cell_type": "code",
   "execution_count": 161,
   "id": "4acc2177",
   "metadata": {},
   "outputs": [
    {
     "name": "stdout",
     "output_type": "stream",
     "text": [
      "False\n"
     ]
    }
   ],
   "source": [
    "# Example 161 - Logical Operators\n",
    "a = True\n",
    "b = False\n",
    "print(a and b)"
   ]
  },
  {
   "cell_type": "code",
   "execution_count": 162,
   "id": "e2bb5344",
   "metadata": {},
   "outputs": [
    {
     "name": "stdout",
     "output_type": "stream",
     "text": [
      "False\n"
     ]
    }
   ],
   "source": [
    "# Example 162 - Logical Operators\n",
    "a = False\n",
    "b = False\n",
    "print(a and b)"
   ]
  },
  {
   "cell_type": "code",
   "execution_count": 163,
   "id": "6d0775f1",
   "metadata": {},
   "outputs": [
    {
     "name": "stdout",
     "output_type": "stream",
     "text": [
      "True\n"
     ]
    }
   ],
   "source": [
    "# Example 163 - Logical Operators\n",
    "a = True\n",
    "b = True\n",
    "print(a and b)"
   ]
  },
  {
   "cell_type": "code",
   "execution_count": 164,
   "id": "a97ca2b1",
   "metadata": {},
   "outputs": [
    {
     "name": "stdout",
     "output_type": "stream",
     "text": [
      "False\n"
     ]
    }
   ],
   "source": [
    "# Example 164 - Logical Operators\n",
    "a = False\n",
    "b = False\n",
    "print(a and b)"
   ]
  },
  {
   "cell_type": "code",
   "execution_count": 165,
   "id": "f2aa90ef",
   "metadata": {},
   "outputs": [
    {
     "name": "stdout",
     "output_type": "stream",
     "text": [
      "False\n"
     ]
    }
   ],
   "source": [
    "# Example 165 - Logical Operators\n",
    "a = True\n",
    "b = False\n",
    "print(a and b)"
   ]
  },
  {
   "cell_type": "code",
   "execution_count": 166,
   "id": "f97b0b3d",
   "metadata": {},
   "outputs": [
    {
     "name": "stdout",
     "output_type": "stream",
     "text": [
      "False\n"
     ]
    }
   ],
   "source": [
    "# Example 166 - Logical Operators\n",
    "a = False\n",
    "b = True\n",
    "print(a and b)"
   ]
  },
  {
   "cell_type": "code",
   "execution_count": 167,
   "id": "95962cd9",
   "metadata": {},
   "outputs": [
    {
     "name": "stdout",
     "output_type": "stream",
     "text": [
      "False\n"
     ]
    }
   ],
   "source": [
    "# Example 167 - Logical Operators\n",
    "a = True\n",
    "b = False\n",
    "print(a and b)"
   ]
  },
  {
   "cell_type": "code",
   "execution_count": 168,
   "id": "46eb9dfe",
   "metadata": {},
   "outputs": [
    {
     "name": "stdout",
     "output_type": "stream",
     "text": [
      "False\n"
     ]
    }
   ],
   "source": [
    "# Example 168 - Logical Operators\n",
    "a = False\n",
    "b = False\n",
    "print(a and b)"
   ]
  },
  {
   "cell_type": "code",
   "execution_count": 169,
   "id": "190af2b0",
   "metadata": {},
   "outputs": [
    {
     "name": "stdout",
     "output_type": "stream",
     "text": [
      "True\n"
     ]
    }
   ],
   "source": [
    "# Example 169 - Logical Operators\n",
    "a = True\n",
    "b = True\n",
    "print(a and b)"
   ]
  },
  {
   "cell_type": "code",
   "execution_count": 170,
   "id": "ca3bb1f3",
   "metadata": {},
   "outputs": [
    {
     "name": "stdout",
     "output_type": "stream",
     "text": [
      "False\n"
     ]
    }
   ],
   "source": [
    "# Example 170 - Logical Operators\n",
    "a = False\n",
    "b = False\n",
    "print(a and b)"
   ]
  },
  {
   "cell_type": "code",
   "execution_count": 171,
   "id": "f91544e9",
   "metadata": {},
   "outputs": [
    {
     "name": "stdout",
     "output_type": "stream",
     "text": [
      "False\n"
     ]
    }
   ],
   "source": [
    "# Example 171 - Logical Operators\n",
    "a = True\n",
    "b = False\n",
    "print(a and b)"
   ]
  },
  {
   "cell_type": "code",
   "execution_count": 172,
   "id": "76097afa",
   "metadata": {},
   "outputs": [
    {
     "name": "stdout",
     "output_type": "stream",
     "text": [
      "False\n"
     ]
    }
   ],
   "source": [
    "# Example 172 - Logical Operators\n",
    "a = False\n",
    "b = True\n",
    "print(a and b)"
   ]
  },
  {
   "cell_type": "code",
   "execution_count": 173,
   "id": "663512fa",
   "metadata": {},
   "outputs": [
    {
     "name": "stdout",
     "output_type": "stream",
     "text": [
      "False\n"
     ]
    }
   ],
   "source": [
    "# Example 173 - Logical Operators\n",
    "a = True\n",
    "b = False\n",
    "print(a and b)"
   ]
  },
  {
   "cell_type": "code",
   "execution_count": 174,
   "id": "308f28b9",
   "metadata": {},
   "outputs": [
    {
     "name": "stdout",
     "output_type": "stream",
     "text": [
      "False\n"
     ]
    }
   ],
   "source": [
    "# Example 174 - Logical Operators\n",
    "a = False\n",
    "b = False\n",
    "print(a and b)"
   ]
  },
  {
   "cell_type": "code",
   "execution_count": 175,
   "id": "5fd48180",
   "metadata": {},
   "outputs": [
    {
     "name": "stdout",
     "output_type": "stream",
     "text": [
      "True\n"
     ]
    }
   ],
   "source": [
    "# Example 175 - Logical Operators\n",
    "a = True\n",
    "b = True\n",
    "print(a and b)"
   ]
  },
  {
   "cell_type": "code",
   "execution_count": 176,
   "id": "b700e670",
   "metadata": {},
   "outputs": [
    {
     "name": "stdout",
     "output_type": "stream",
     "text": [
      "False\n"
     ]
    }
   ],
   "source": [
    "# Example 176 - Logical Operators\n",
    "a = False\n",
    "b = False\n",
    "print(a and b)"
   ]
  },
  {
   "cell_type": "code",
   "execution_count": 177,
   "id": "8de52d63",
   "metadata": {},
   "outputs": [
    {
     "name": "stdout",
     "output_type": "stream",
     "text": [
      "False\n"
     ]
    }
   ],
   "source": [
    "# Example 177 - Logical Operators\n",
    "a = True\n",
    "b = False\n",
    "print(a and b)"
   ]
  },
  {
   "cell_type": "code",
   "execution_count": 178,
   "id": "e27b781e",
   "metadata": {},
   "outputs": [
    {
     "name": "stdout",
     "output_type": "stream",
     "text": [
      "False\n"
     ]
    }
   ],
   "source": [
    "# Example 178 - Logical Operators\n",
    "a = False\n",
    "b = True\n",
    "print(a and b)"
   ]
  },
  {
   "cell_type": "code",
   "execution_count": 179,
   "id": "376dc9e0",
   "metadata": {},
   "outputs": [
    {
     "name": "stdout",
     "output_type": "stream",
     "text": [
      "False\n"
     ]
    }
   ],
   "source": [
    "# Example 179 - Logical Operators\n",
    "a = True\n",
    "b = False\n",
    "print(a and b)"
   ]
  },
  {
   "cell_type": "code",
   "execution_count": 180,
   "id": "3f2081f5",
   "metadata": {},
   "outputs": [
    {
     "name": "stdout",
     "output_type": "stream",
     "text": [
      "False\n"
     ]
    }
   ],
   "source": [
    "# Example 180 - Logical Operators\n",
    "a = False\n",
    "b = False\n",
    "print(a and b)"
   ]
  },
  {
   "cell_type": "code",
   "execution_count": 181,
   "id": "535d8537",
   "metadata": {},
   "outputs": [
    {
     "name": "stdout",
     "output_type": "stream",
     "text": [
      "True\n"
     ]
    }
   ],
   "source": [
    "# Example 181 - Logical Operators\n",
    "a = True\n",
    "b = True\n",
    "print(a and b)"
   ]
  },
  {
   "cell_type": "code",
   "execution_count": 182,
   "id": "3ebf83ae",
   "metadata": {},
   "outputs": [
    {
     "name": "stdout",
     "output_type": "stream",
     "text": [
      "False\n"
     ]
    }
   ],
   "source": [
    "# Example 182 - Logical Operators\n",
    "a = False\n",
    "b = False\n",
    "print(a and b)"
   ]
  },
  {
   "cell_type": "code",
   "execution_count": 183,
   "id": "8c172fce",
   "metadata": {},
   "outputs": [
    {
     "name": "stdout",
     "output_type": "stream",
     "text": [
      "False\n"
     ]
    }
   ],
   "source": [
    "# Example 183 - Logical Operators\n",
    "a = True\n",
    "b = False\n",
    "print(a and b)"
   ]
  },
  {
   "cell_type": "code",
   "execution_count": 184,
   "id": "d7e5ac10",
   "metadata": {},
   "outputs": [
    {
     "name": "stdout",
     "output_type": "stream",
     "text": [
      "False\n"
     ]
    }
   ],
   "source": [
    "# Example 184 - Logical Operators\n",
    "a = False\n",
    "b = True\n",
    "print(a and b)"
   ]
  },
  {
   "cell_type": "code",
   "execution_count": 185,
   "id": "268d27b3",
   "metadata": {},
   "outputs": [
    {
     "name": "stdout",
     "output_type": "stream",
     "text": [
      "False\n"
     ]
    }
   ],
   "source": [
    "# Example 185 - Logical Operators\n",
    "a = True\n",
    "b = False\n",
    "print(a and b)"
   ]
  },
  {
   "cell_type": "code",
   "execution_count": 186,
   "id": "1ab51bb6",
   "metadata": {},
   "outputs": [
    {
     "name": "stdout",
     "output_type": "stream",
     "text": [
      "False\n"
     ]
    }
   ],
   "source": [
    "# Example 186 - Logical Operators\n",
    "a = False\n",
    "b = False\n",
    "print(a and b)"
   ]
  },
  {
   "cell_type": "code",
   "execution_count": 187,
   "id": "82dbb134",
   "metadata": {},
   "outputs": [
    {
     "name": "stdout",
     "output_type": "stream",
     "text": [
      "True\n"
     ]
    }
   ],
   "source": [
    "# Example 187 - Logical Operators\n",
    "a = True\n",
    "b = True\n",
    "print(a and b)"
   ]
  },
  {
   "cell_type": "code",
   "execution_count": 188,
   "id": "eadab31d",
   "metadata": {},
   "outputs": [
    {
     "name": "stdout",
     "output_type": "stream",
     "text": [
      "False\n"
     ]
    }
   ],
   "source": [
    "# Example 188 - Logical Operators\n",
    "a = False\n",
    "b = False\n",
    "print(a and b)"
   ]
  },
  {
   "cell_type": "code",
   "execution_count": 189,
   "id": "62aaa28a",
   "metadata": {},
   "outputs": [
    {
     "name": "stdout",
     "output_type": "stream",
     "text": [
      "False\n"
     ]
    }
   ],
   "source": [
    "# Example 189 - Logical Operators\n",
    "a = True\n",
    "b = False\n",
    "print(a and b)"
   ]
  },
  {
   "cell_type": "code",
   "execution_count": 190,
   "id": "8aa05039",
   "metadata": {},
   "outputs": [
    {
     "name": "stdout",
     "output_type": "stream",
     "text": [
      "False\n"
     ]
    }
   ],
   "source": [
    "# Example 190 - Logical Operators\n",
    "a = False\n",
    "b = True\n",
    "print(a and b)"
   ]
  },
  {
   "cell_type": "code",
   "execution_count": 191,
   "id": "83944610",
   "metadata": {},
   "outputs": [
    {
     "name": "stdout",
     "output_type": "stream",
     "text": [
      "False\n"
     ]
    }
   ],
   "source": [
    "# Example 191 - Logical Operators\n",
    "a = True\n",
    "b = False\n",
    "print(a and b)"
   ]
  },
  {
   "cell_type": "code",
   "execution_count": 192,
   "id": "cd9326f0",
   "metadata": {},
   "outputs": [
    {
     "name": "stdout",
     "output_type": "stream",
     "text": [
      "False\n"
     ]
    }
   ],
   "source": [
    "# Example 192 - Logical Operators\n",
    "a = False\n",
    "b = False\n",
    "print(a and b)"
   ]
  },
  {
   "cell_type": "code",
   "execution_count": 193,
   "id": "358163b0",
   "metadata": {},
   "outputs": [
    {
     "name": "stdout",
     "output_type": "stream",
     "text": [
      "True\n"
     ]
    }
   ],
   "source": [
    "# Example 193 - Logical Operators\n",
    "a = True\n",
    "b = True\n",
    "print(a and b)"
   ]
  },
  {
   "cell_type": "code",
   "execution_count": 194,
   "id": "89795522",
   "metadata": {},
   "outputs": [
    {
     "name": "stdout",
     "output_type": "stream",
     "text": [
      "False\n"
     ]
    }
   ],
   "source": [
    "# Example 194 - Logical Operators\n",
    "a = False\n",
    "b = False\n",
    "print(a and b)"
   ]
  },
  {
   "cell_type": "code",
   "execution_count": 195,
   "id": "f09d09c0",
   "metadata": {},
   "outputs": [
    {
     "name": "stdout",
     "output_type": "stream",
     "text": [
      "False\n"
     ]
    }
   ],
   "source": [
    "# Example 195 - Logical Operators\n",
    "a = True\n",
    "b = False\n",
    "print(a and b)"
   ]
  },
  {
   "cell_type": "code",
   "execution_count": 196,
   "id": "a81963dc",
   "metadata": {},
   "outputs": [
    {
     "name": "stdout",
     "output_type": "stream",
     "text": [
      "False\n"
     ]
    }
   ],
   "source": [
    "# Example 196 - Logical Operators\n",
    "a = False\n",
    "b = True\n",
    "print(a and b)"
   ]
  },
  {
   "cell_type": "code",
   "execution_count": 197,
   "id": "5ae18d15",
   "metadata": {},
   "outputs": [
    {
     "name": "stdout",
     "output_type": "stream",
     "text": [
      "False\n"
     ]
    }
   ],
   "source": [
    "# Example 197 - Logical Operators\n",
    "a = True\n",
    "b = False\n",
    "print(a and b)"
   ]
  },
  {
   "cell_type": "code",
   "execution_count": 198,
   "id": "a13d605a",
   "metadata": {},
   "outputs": [
    {
     "name": "stdout",
     "output_type": "stream",
     "text": [
      "False\n"
     ]
    }
   ],
   "source": [
    "# Example 198 - Logical Operators\n",
    "a = False\n",
    "b = False\n",
    "print(a and b)"
   ]
  },
  {
   "cell_type": "code",
   "execution_count": 199,
   "id": "13cf6442",
   "metadata": {},
   "outputs": [
    {
     "name": "stdout",
     "output_type": "stream",
     "text": [
      "True\n"
     ]
    }
   ],
   "source": [
    "# Example 199 - Logical Operators\n",
    "a = True\n",
    "b = True\n",
    "print(a and b)"
   ]
  },
  {
   "cell_type": "code",
   "execution_count": 200,
   "id": "ef19f6f0",
   "metadata": {},
   "outputs": [
    {
     "name": "stdout",
     "output_type": "stream",
     "text": [
      "False\n"
     ]
    }
   ],
   "source": [
    "# Example 200 - Logical Operators\n",
    "a = False\n",
    "b = False\n",
    "print(a and b)"
   ]
  },
  {
   "cell_type": "code",
   "execution_count": 201,
   "id": "33996c3a",
   "metadata": {},
   "outputs": [
    {
     "name": "stdout",
     "output_type": "stream",
     "text": [
      "200\n"
     ]
    }
   ],
   "source": [
    "# Example 201 - Bitwise Operators\n",
    "print(200 & 201)"
   ]
  },
  {
   "cell_type": "code",
   "execution_count": 202,
   "id": "b345b823",
   "metadata": {},
   "outputs": [
    {
     "name": "stdout",
     "output_type": "stream",
     "text": [
      "200\n"
     ]
    }
   ],
   "source": [
    "# Example 202 - Bitwise Operators\n",
    "print(201 & 202)"
   ]
  },
  {
   "cell_type": "code",
   "execution_count": 203,
   "id": "50ec738b",
   "metadata": {},
   "outputs": [
    {
     "name": "stdout",
     "output_type": "stream",
     "text": [
      "202\n"
     ]
    }
   ],
   "source": [
    "# Example 203 - Bitwise Operators\n",
    "print(202 & 203)"
   ]
  },
  {
   "cell_type": "code",
   "execution_count": 204,
   "id": "6553ac6c",
   "metadata": {},
   "outputs": [
    {
     "name": "stdout",
     "output_type": "stream",
     "text": [
      "200\n"
     ]
    }
   ],
   "source": [
    "# Example 204 - Bitwise Operators\n",
    "print(203 & 204)"
   ]
  },
  {
   "cell_type": "code",
   "execution_count": 205,
   "id": "c6ef1fd9",
   "metadata": {},
   "outputs": [
    {
     "name": "stdout",
     "output_type": "stream",
     "text": [
      "204\n"
     ]
    }
   ],
   "source": [
    "# Example 205 - Bitwise Operators\n",
    "print(204 & 205)"
   ]
  },
  {
   "cell_type": "code",
   "execution_count": 206,
   "id": "1244ce36",
   "metadata": {},
   "outputs": [
    {
     "name": "stdout",
     "output_type": "stream",
     "text": [
      "204\n"
     ]
    }
   ],
   "source": [
    "# Example 206 - Bitwise Operators\n",
    "print(205 & 206)"
   ]
  },
  {
   "cell_type": "code",
   "execution_count": 207,
   "id": "72e4ae29",
   "metadata": {},
   "outputs": [
    {
     "name": "stdout",
     "output_type": "stream",
     "text": [
      "206\n"
     ]
    }
   ],
   "source": [
    "# Example 207 - Bitwise Operators\n",
    "print(206 & 207)"
   ]
  },
  {
   "cell_type": "code",
   "execution_count": 208,
   "id": "5f8e9a4e",
   "metadata": {},
   "outputs": [
    {
     "name": "stdout",
     "output_type": "stream",
     "text": [
      "192\n"
     ]
    }
   ],
   "source": [
    "# Example 208 - Bitwise Operators\n",
    "print(207 & 208)"
   ]
  },
  {
   "cell_type": "code",
   "execution_count": 209,
   "id": "e75d8be0",
   "metadata": {},
   "outputs": [
    {
     "name": "stdout",
     "output_type": "stream",
     "text": [
      "208\n"
     ]
    }
   ],
   "source": [
    "# Example 209 - Bitwise Operators\n",
    "print(208 & 209)"
   ]
  },
  {
   "cell_type": "code",
   "execution_count": 210,
   "id": "fbebf44c",
   "metadata": {},
   "outputs": [
    {
     "name": "stdout",
     "output_type": "stream",
     "text": [
      "208\n"
     ]
    }
   ],
   "source": [
    "# Example 210 - Bitwise Operators\n",
    "print(209 & 210)"
   ]
  },
  {
   "cell_type": "code",
   "execution_count": 211,
   "id": "b67e213a",
   "metadata": {},
   "outputs": [
    {
     "name": "stdout",
     "output_type": "stream",
     "text": [
      "210\n"
     ]
    }
   ],
   "source": [
    "# Example 211 - Bitwise Operators\n",
    "print(210 & 211)"
   ]
  },
  {
   "cell_type": "code",
   "execution_count": 212,
   "id": "cff92a7e",
   "metadata": {},
   "outputs": [
    {
     "name": "stdout",
     "output_type": "stream",
     "text": [
      "208\n"
     ]
    }
   ],
   "source": [
    "# Example 212 - Bitwise Operators\n",
    "print(211 & 212)"
   ]
  },
  {
   "cell_type": "code",
   "execution_count": 213,
   "id": "48bf8efa",
   "metadata": {},
   "outputs": [
    {
     "name": "stdout",
     "output_type": "stream",
     "text": [
      "212\n"
     ]
    }
   ],
   "source": [
    "# Example 213 - Bitwise Operators\n",
    "print(212 & 213)"
   ]
  },
  {
   "cell_type": "code",
   "execution_count": 214,
   "id": "55c847ba",
   "metadata": {},
   "outputs": [
    {
     "name": "stdout",
     "output_type": "stream",
     "text": [
      "212\n"
     ]
    }
   ],
   "source": [
    "# Example 214 - Bitwise Operators\n",
    "print(213 & 214)"
   ]
  },
  {
   "cell_type": "code",
   "execution_count": 215,
   "id": "978d1834",
   "metadata": {},
   "outputs": [
    {
     "name": "stdout",
     "output_type": "stream",
     "text": [
      "214\n"
     ]
    }
   ],
   "source": [
    "# Example 215 - Bitwise Operators\n",
    "print(214 & 215)"
   ]
  },
  {
   "cell_type": "code",
   "execution_count": 216,
   "id": "a3856a45",
   "metadata": {},
   "outputs": [
    {
     "name": "stdout",
     "output_type": "stream",
     "text": [
      "208\n"
     ]
    }
   ],
   "source": [
    "# Example 216 - Bitwise Operators\n",
    "print(215 & 216)"
   ]
  },
  {
   "cell_type": "code",
   "execution_count": 217,
   "id": "32468f7e",
   "metadata": {},
   "outputs": [
    {
     "name": "stdout",
     "output_type": "stream",
     "text": [
      "216\n"
     ]
    }
   ],
   "source": [
    "# Example 217 - Bitwise Operators\n",
    "print(216 & 217)"
   ]
  },
  {
   "cell_type": "code",
   "execution_count": 218,
   "id": "c9831643",
   "metadata": {},
   "outputs": [
    {
     "name": "stdout",
     "output_type": "stream",
     "text": [
      "216\n"
     ]
    }
   ],
   "source": [
    "# Example 218 - Bitwise Operators\n",
    "print(217 & 218)"
   ]
  },
  {
   "cell_type": "code",
   "execution_count": 219,
   "id": "b366beb5",
   "metadata": {},
   "outputs": [
    {
     "name": "stdout",
     "output_type": "stream",
     "text": [
      "218\n"
     ]
    }
   ],
   "source": [
    "# Example 219 - Bitwise Operators\n",
    "print(218 & 219)"
   ]
  },
  {
   "cell_type": "code",
   "execution_count": 220,
   "id": "9387c3f8",
   "metadata": {},
   "outputs": [
    {
     "name": "stdout",
     "output_type": "stream",
     "text": [
      "216\n"
     ]
    }
   ],
   "source": [
    "# Example 220 - Bitwise Operators\n",
    "print(219 & 220)"
   ]
  },
  {
   "cell_type": "code",
   "execution_count": 221,
   "id": "64ab9893",
   "metadata": {},
   "outputs": [
    {
     "name": "stdout",
     "output_type": "stream",
     "text": [
      "220\n"
     ]
    }
   ],
   "source": [
    "# Example 221 - Bitwise Operators\n",
    "print(220 & 221)"
   ]
  },
  {
   "cell_type": "code",
   "execution_count": 222,
   "id": "381d00eb",
   "metadata": {},
   "outputs": [
    {
     "name": "stdout",
     "output_type": "stream",
     "text": [
      "220\n"
     ]
    }
   ],
   "source": [
    "# Example 222 - Bitwise Operators\n",
    "print(221 & 222)"
   ]
  },
  {
   "cell_type": "code",
   "execution_count": 223,
   "id": "58e06a87",
   "metadata": {},
   "outputs": [
    {
     "name": "stdout",
     "output_type": "stream",
     "text": [
      "222\n"
     ]
    }
   ],
   "source": [
    "# Example 223 - Bitwise Operators\n",
    "print(222 & 223)"
   ]
  },
  {
   "cell_type": "code",
   "execution_count": 224,
   "id": "f015f14a",
   "metadata": {},
   "outputs": [
    {
     "name": "stdout",
     "output_type": "stream",
     "text": [
      "192\n"
     ]
    }
   ],
   "source": [
    "# Example 224 - Bitwise Operators\n",
    "print(223 & 224)"
   ]
  },
  {
   "cell_type": "code",
   "execution_count": 225,
   "id": "f81ce682",
   "metadata": {},
   "outputs": [
    {
     "name": "stdout",
     "output_type": "stream",
     "text": [
      "224\n"
     ]
    }
   ],
   "source": [
    "# Example 225 - Bitwise Operators\n",
    "print(224 & 225)"
   ]
  },
  {
   "cell_type": "code",
   "execution_count": 226,
   "id": "8c483f6a",
   "metadata": {},
   "outputs": [
    {
     "name": "stdout",
     "output_type": "stream",
     "text": [
      "224\n"
     ]
    }
   ],
   "source": [
    "# Example 226 - Bitwise Operators\n",
    "print(225 & 226)"
   ]
  },
  {
   "cell_type": "code",
   "execution_count": 227,
   "id": "db0ef49a",
   "metadata": {},
   "outputs": [
    {
     "name": "stdout",
     "output_type": "stream",
     "text": [
      "226\n"
     ]
    }
   ],
   "source": [
    "# Example 227 - Bitwise Operators\n",
    "print(226 & 227)"
   ]
  },
  {
   "cell_type": "code",
   "execution_count": 228,
   "id": "d1852fad",
   "metadata": {},
   "outputs": [
    {
     "name": "stdout",
     "output_type": "stream",
     "text": [
      "224\n"
     ]
    }
   ],
   "source": [
    "# Example 228 - Bitwise Operators\n",
    "print(227 & 228)"
   ]
  },
  {
   "cell_type": "code",
   "execution_count": 229,
   "id": "19d28e14",
   "metadata": {},
   "outputs": [
    {
     "name": "stdout",
     "output_type": "stream",
     "text": [
      "228\n"
     ]
    }
   ],
   "source": [
    "# Example 229 - Bitwise Operators\n",
    "print(228 & 229)"
   ]
  },
  {
   "cell_type": "code",
   "execution_count": 230,
   "id": "54f76201",
   "metadata": {},
   "outputs": [
    {
     "name": "stdout",
     "output_type": "stream",
     "text": [
      "228\n"
     ]
    }
   ],
   "source": [
    "# Example 230 - Bitwise Operators\n",
    "print(229 & 230)"
   ]
  },
  {
   "cell_type": "code",
   "execution_count": 231,
   "id": "5d27b469",
   "metadata": {},
   "outputs": [
    {
     "name": "stdout",
     "output_type": "stream",
     "text": [
      "230\n"
     ]
    }
   ],
   "source": [
    "# Example 231 - Bitwise Operators\n",
    "print(230 & 231)"
   ]
  },
  {
   "cell_type": "code",
   "execution_count": 232,
   "id": "24f8b148",
   "metadata": {},
   "outputs": [
    {
     "name": "stdout",
     "output_type": "stream",
     "text": [
      "224\n"
     ]
    }
   ],
   "source": [
    "# Example 232 - Bitwise Operators\n",
    "print(231 & 232)"
   ]
  },
  {
   "cell_type": "code",
   "execution_count": 233,
   "id": "259f7cc9",
   "metadata": {},
   "outputs": [
    {
     "name": "stdout",
     "output_type": "stream",
     "text": [
      "232\n"
     ]
    }
   ],
   "source": [
    "# Example 233 - Bitwise Operators\n",
    "print(232 & 233)"
   ]
  },
  {
   "cell_type": "code",
   "execution_count": 234,
   "id": "9d05a2be",
   "metadata": {},
   "outputs": [
    {
     "name": "stdout",
     "output_type": "stream",
     "text": [
      "232\n"
     ]
    }
   ],
   "source": [
    "# Example 234 - Bitwise Operators\n",
    "print(233 & 234)"
   ]
  },
  {
   "cell_type": "code",
   "execution_count": 235,
   "id": "0bf25906",
   "metadata": {},
   "outputs": [
    {
     "name": "stdout",
     "output_type": "stream",
     "text": [
      "234\n"
     ]
    }
   ],
   "source": [
    "# Example 235 - Bitwise Operators\n",
    "print(234 & 235)"
   ]
  },
  {
   "cell_type": "code",
   "execution_count": 236,
   "id": "67230841",
   "metadata": {},
   "outputs": [
    {
     "name": "stdout",
     "output_type": "stream",
     "text": [
      "232\n"
     ]
    }
   ],
   "source": [
    "# Example 236 - Bitwise Operators\n",
    "print(235 & 236)"
   ]
  },
  {
   "cell_type": "code",
   "execution_count": 237,
   "id": "21543098",
   "metadata": {},
   "outputs": [
    {
     "name": "stdout",
     "output_type": "stream",
     "text": [
      "236\n"
     ]
    }
   ],
   "source": [
    "# Example 237 - Bitwise Operators\n",
    "print(236 & 237)"
   ]
  },
  {
   "cell_type": "code",
   "execution_count": 238,
   "id": "48886d52",
   "metadata": {},
   "outputs": [
    {
     "name": "stdout",
     "output_type": "stream",
     "text": [
      "236\n"
     ]
    }
   ],
   "source": [
    "# Example 238 - Bitwise Operators\n",
    "print(237 & 238)"
   ]
  },
  {
   "cell_type": "code",
   "execution_count": 239,
   "id": "02064758",
   "metadata": {},
   "outputs": [
    {
     "name": "stdout",
     "output_type": "stream",
     "text": [
      "238\n"
     ]
    }
   ],
   "source": [
    "# Example 239 - Bitwise Operators\n",
    "print(238 & 239)"
   ]
  },
  {
   "cell_type": "code",
   "execution_count": 240,
   "id": "57e15fb4",
   "metadata": {},
   "outputs": [
    {
     "name": "stdout",
     "output_type": "stream",
     "text": [
      "224\n"
     ]
    }
   ],
   "source": [
    "# Example 240 - Bitwise Operators\n",
    "print(239 & 240)"
   ]
  },
  {
   "cell_type": "code",
   "execution_count": 241,
   "id": "5b3ae0b7",
   "metadata": {},
   "outputs": [
    {
     "name": "stdout",
     "output_type": "stream",
     "text": [
      "240\n"
     ]
    }
   ],
   "source": [
    "# Example 241 - Bitwise Operators\n",
    "print(240 & 241)"
   ]
  },
  {
   "cell_type": "code",
   "execution_count": 242,
   "id": "2964e6da",
   "metadata": {},
   "outputs": [
    {
     "name": "stdout",
     "output_type": "stream",
     "text": [
      "240\n"
     ]
    }
   ],
   "source": [
    "# Example 242 - Bitwise Operators\n",
    "print(241 & 242)"
   ]
  },
  {
   "cell_type": "code",
   "execution_count": 243,
   "id": "f9451fa6",
   "metadata": {},
   "outputs": [
    {
     "name": "stdout",
     "output_type": "stream",
     "text": [
      "242\n"
     ]
    }
   ],
   "source": [
    "# Example 243 - Bitwise Operators\n",
    "print(242 & 243)"
   ]
  },
  {
   "cell_type": "code",
   "execution_count": 244,
   "id": "d3c55a99",
   "metadata": {},
   "outputs": [
    {
     "name": "stdout",
     "output_type": "stream",
     "text": [
      "240\n"
     ]
    }
   ],
   "source": [
    "# Example 244 - Bitwise Operators\n",
    "print(243 & 244)"
   ]
  },
  {
   "cell_type": "code",
   "execution_count": 245,
   "id": "54ccc05c",
   "metadata": {},
   "outputs": [
    {
     "name": "stdout",
     "output_type": "stream",
     "text": [
      "244\n"
     ]
    }
   ],
   "source": [
    "# Example 245 - Bitwise Operators\n",
    "print(244 & 245)"
   ]
  },
  {
   "cell_type": "code",
   "execution_count": 246,
   "id": "c30b9682",
   "metadata": {},
   "outputs": [
    {
     "name": "stdout",
     "output_type": "stream",
     "text": [
      "244\n"
     ]
    }
   ],
   "source": [
    "# Example 246 - Bitwise Operators\n",
    "print(245 & 246)"
   ]
  },
  {
   "cell_type": "code",
   "execution_count": 247,
   "id": "1c89872f",
   "metadata": {},
   "outputs": [
    {
     "name": "stdout",
     "output_type": "stream",
     "text": [
      "246\n"
     ]
    }
   ],
   "source": [
    "# Example 247 - Bitwise Operators\n",
    "print(246 & 247)"
   ]
  },
  {
   "cell_type": "code",
   "execution_count": 248,
   "id": "2cb07409",
   "metadata": {},
   "outputs": [
    {
     "name": "stdout",
     "output_type": "stream",
     "text": [
      "240\n"
     ]
    }
   ],
   "source": [
    "# Example 248 - Bitwise Operators\n",
    "print(247 & 248)"
   ]
  },
  {
   "cell_type": "code",
   "execution_count": 249,
   "id": "6e5f46d2",
   "metadata": {},
   "outputs": [
    {
     "name": "stdout",
     "output_type": "stream",
     "text": [
      "248\n"
     ]
    }
   ],
   "source": [
    "# Example 249 - Bitwise Operators\n",
    "print(248 & 249)"
   ]
  },
  {
   "cell_type": "code",
   "execution_count": 250,
   "id": "ab9a8749",
   "metadata": {},
   "outputs": [
    {
     "name": "stdout",
     "output_type": "stream",
     "text": [
      "248\n"
     ]
    }
   ],
   "source": [
    "# Example 250 - Bitwise Operators\n",
    "print(249 & 250)"
   ]
  },
  {
   "cell_type": "code",
   "execution_count": 251,
   "id": "bb776d59",
   "metadata": {},
   "outputs": [
    {
     "name": "stdout",
     "output_type": "stream",
     "text": [
      "True\n"
     ]
    }
   ],
   "source": [
    "# Example 251 - Identity Operators\n",
    "a = 250\n",
    "b = a\n",
    "print(a is b)"
   ]
  },
  {
   "cell_type": "code",
   "execution_count": 252,
   "id": "3d6f090b",
   "metadata": {},
   "outputs": [
    {
     "name": "stdout",
     "output_type": "stream",
     "text": [
      "True\n"
     ]
    }
   ],
   "source": [
    "# Example 252 - Identity Operators\n",
    "a = 251\n",
    "b = a\n",
    "print(a is b)"
   ]
  },
  {
   "cell_type": "code",
   "execution_count": 253,
   "id": "fe455dd2",
   "metadata": {},
   "outputs": [
    {
     "name": "stdout",
     "output_type": "stream",
     "text": [
      "True\n"
     ]
    }
   ],
   "source": [
    "# Example 253 - Identity Operators\n",
    "a = 252\n",
    "b = a\n",
    "print(a is b)"
   ]
  },
  {
   "cell_type": "code",
   "execution_count": 254,
   "id": "eb4a4281",
   "metadata": {},
   "outputs": [
    {
     "name": "stdout",
     "output_type": "stream",
     "text": [
      "True\n"
     ]
    }
   ],
   "source": [
    "# Example 254 - Identity Operators\n",
    "a = 253\n",
    "b = a\n",
    "print(a is b)"
   ]
  },
  {
   "cell_type": "code",
   "execution_count": 255,
   "id": "c59557cd",
   "metadata": {},
   "outputs": [
    {
     "name": "stdout",
     "output_type": "stream",
     "text": [
      "True\n"
     ]
    }
   ],
   "source": [
    "# Example 255 - Identity Operators\n",
    "a = 254\n",
    "b = a\n",
    "print(a is b)"
   ]
  },
  {
   "cell_type": "code",
   "execution_count": 256,
   "id": "24ed841f",
   "metadata": {},
   "outputs": [
    {
     "name": "stdout",
     "output_type": "stream",
     "text": [
      "True\n"
     ]
    }
   ],
   "source": [
    "# Example 256 - Identity Operators\n",
    "a = 255\n",
    "b = a\n",
    "print(a is b)"
   ]
  },
  {
   "cell_type": "code",
   "execution_count": 257,
   "id": "85c715a8",
   "metadata": {},
   "outputs": [
    {
     "name": "stdout",
     "output_type": "stream",
     "text": [
      "True\n"
     ]
    }
   ],
   "source": [
    "# Example 257 - Identity Operators\n",
    "a = 256\n",
    "b = a\n",
    "print(a is b)"
   ]
  },
  {
   "cell_type": "code",
   "execution_count": 258,
   "id": "d777f0d5",
   "metadata": {},
   "outputs": [
    {
     "name": "stdout",
     "output_type": "stream",
     "text": [
      "True\n"
     ]
    }
   ],
   "source": [
    "# Example 258 - Identity Operators\n",
    "a = 257\n",
    "b = a\n",
    "print(a is b)"
   ]
  },
  {
   "cell_type": "code",
   "execution_count": 259,
   "id": "75e403ce",
   "metadata": {},
   "outputs": [
    {
     "name": "stdout",
     "output_type": "stream",
     "text": [
      "True\n"
     ]
    }
   ],
   "source": [
    "# Example 259 - Identity Operators\n",
    "a = 258\n",
    "b = a\n",
    "print(a is b)"
   ]
  },
  {
   "cell_type": "code",
   "execution_count": 260,
   "id": "a7fd08e2",
   "metadata": {},
   "outputs": [
    {
     "name": "stdout",
     "output_type": "stream",
     "text": [
      "True\n"
     ]
    }
   ],
   "source": [
    "# Example 260 - Identity Operators\n",
    "a = 259\n",
    "b = a\n",
    "print(a is b)"
   ]
  },
  {
   "cell_type": "code",
   "execution_count": 261,
   "id": "d29e02d0",
   "metadata": {},
   "outputs": [
    {
     "name": "stdout",
     "output_type": "stream",
     "text": [
      "True\n"
     ]
    }
   ],
   "source": [
    "# Example 261 - Identity Operators\n",
    "a = 260\n",
    "b = a\n",
    "print(a is b)"
   ]
  },
  {
   "cell_type": "code",
   "execution_count": 262,
   "id": "a0f88759",
   "metadata": {},
   "outputs": [
    {
     "name": "stdout",
     "output_type": "stream",
     "text": [
      "True\n"
     ]
    }
   ],
   "source": [
    "# Example 262 - Identity Operators\n",
    "a = 261\n",
    "b = a\n",
    "print(a is b)"
   ]
  },
  {
   "cell_type": "code",
   "execution_count": 263,
   "id": "17d513ad",
   "metadata": {},
   "outputs": [
    {
     "name": "stdout",
     "output_type": "stream",
     "text": [
      "True\n"
     ]
    }
   ],
   "source": [
    "# Example 263 - Identity Operators\n",
    "a = 262\n",
    "b = a\n",
    "print(a is b)"
   ]
  },
  {
   "cell_type": "code",
   "execution_count": 264,
   "id": "580c86ee",
   "metadata": {},
   "outputs": [
    {
     "name": "stdout",
     "output_type": "stream",
     "text": [
      "True\n"
     ]
    }
   ],
   "source": [
    "# Example 264 - Identity Operators\n",
    "a = 263\n",
    "b = a\n",
    "print(a is b)"
   ]
  },
  {
   "cell_type": "code",
   "execution_count": 265,
   "id": "8ef597f6",
   "metadata": {},
   "outputs": [
    {
     "name": "stdout",
     "output_type": "stream",
     "text": [
      "True\n"
     ]
    }
   ],
   "source": [
    "# Example 265 - Identity Operators\n",
    "a = 264\n",
    "b = a\n",
    "print(a is b)"
   ]
  },
  {
   "cell_type": "code",
   "execution_count": 266,
   "id": "f11569a3",
   "metadata": {},
   "outputs": [
    {
     "name": "stdout",
     "output_type": "stream",
     "text": [
      "True\n"
     ]
    }
   ],
   "source": [
    "# Example 266 - Identity Operators\n",
    "a = 265\n",
    "b = a\n",
    "print(a is b)"
   ]
  },
  {
   "cell_type": "code",
   "execution_count": 267,
   "id": "ada1d2c9",
   "metadata": {},
   "outputs": [
    {
     "name": "stdout",
     "output_type": "stream",
     "text": [
      "True\n"
     ]
    }
   ],
   "source": [
    "# Example 267 - Identity Operators\n",
    "a = 266\n",
    "b = a\n",
    "print(a is b)"
   ]
  },
  {
   "cell_type": "code",
   "execution_count": 268,
   "id": "87299d42",
   "metadata": {},
   "outputs": [
    {
     "name": "stdout",
     "output_type": "stream",
     "text": [
      "True\n"
     ]
    }
   ],
   "source": [
    "# Example 268 - Identity Operators\n",
    "a = 267\n",
    "b = a\n",
    "print(a is b)"
   ]
  },
  {
   "cell_type": "code",
   "execution_count": 269,
   "id": "c70af999",
   "metadata": {},
   "outputs": [
    {
     "name": "stdout",
     "output_type": "stream",
     "text": [
      "True\n"
     ]
    }
   ],
   "source": [
    "# Example 269 - Identity Operators\n",
    "a = 268\n",
    "b = a\n",
    "print(a is b)"
   ]
  },
  {
   "cell_type": "code",
   "execution_count": 270,
   "id": "fdf9984b",
   "metadata": {},
   "outputs": [
    {
     "name": "stdout",
     "output_type": "stream",
     "text": [
      "True\n"
     ]
    }
   ],
   "source": [
    "# Example 270 - Identity Operators\n",
    "a = 269\n",
    "b = a\n",
    "print(a is b)"
   ]
  },
  {
   "cell_type": "code",
   "execution_count": 271,
   "id": "fe3a89bf",
   "metadata": {},
   "outputs": [
    {
     "name": "stdout",
     "output_type": "stream",
     "text": [
      "True\n"
     ]
    }
   ],
   "source": [
    "# Example 271 - Identity Operators\n",
    "a = 270\n",
    "b = a\n",
    "print(a is b)"
   ]
  },
  {
   "cell_type": "code",
   "execution_count": 272,
   "id": "aed32be9",
   "metadata": {},
   "outputs": [
    {
     "name": "stdout",
     "output_type": "stream",
     "text": [
      "True\n"
     ]
    }
   ],
   "source": [
    "# Example 272 - Identity Operators\n",
    "a = 271\n",
    "b = a\n",
    "print(a is b)"
   ]
  },
  {
   "cell_type": "code",
   "execution_count": 273,
   "id": "19b4f6c4",
   "metadata": {},
   "outputs": [
    {
     "name": "stdout",
     "output_type": "stream",
     "text": [
      "True\n"
     ]
    }
   ],
   "source": [
    "# Example 273 - Identity Operators\n",
    "a = 272\n",
    "b = a\n",
    "print(a is b)"
   ]
  },
  {
   "cell_type": "code",
   "execution_count": 274,
   "id": "128ee509",
   "metadata": {},
   "outputs": [
    {
     "name": "stdout",
     "output_type": "stream",
     "text": [
      "True\n"
     ]
    }
   ],
   "source": [
    "# Example 274 - Identity Operators\n",
    "a = 273\n",
    "b = a\n",
    "print(a is b)"
   ]
  },
  {
   "cell_type": "code",
   "execution_count": 275,
   "id": "a8f055bd",
   "metadata": {},
   "outputs": [
    {
     "name": "stdout",
     "output_type": "stream",
     "text": [
      "True\n"
     ]
    }
   ],
   "source": [
    "# Example 275 - Identity Operators\n",
    "a = 274\n",
    "b = a\n",
    "print(a is b)"
   ]
  },
  {
   "cell_type": "code",
   "execution_count": 276,
   "id": "ab18d816",
   "metadata": {},
   "outputs": [
    {
     "name": "stdout",
     "output_type": "stream",
     "text": [
      "True\n"
     ]
    }
   ],
   "source": [
    "# Example 276 - Identity Operators\n",
    "a = 275\n",
    "b = a\n",
    "print(a is b)"
   ]
  },
  {
   "cell_type": "code",
   "execution_count": 277,
   "id": "0c722814",
   "metadata": {},
   "outputs": [
    {
     "name": "stdout",
     "output_type": "stream",
     "text": [
      "True\n"
     ]
    }
   ],
   "source": [
    "# Example 277 - Identity Operators\n",
    "a = 276\n",
    "b = a\n",
    "print(a is b)"
   ]
  },
  {
   "cell_type": "code",
   "execution_count": 278,
   "id": "e717356d",
   "metadata": {},
   "outputs": [
    {
     "name": "stdout",
     "output_type": "stream",
     "text": [
      "True\n"
     ]
    }
   ],
   "source": [
    "# Example 278 - Identity Operators\n",
    "a = 277\n",
    "b = a\n",
    "print(a is b)"
   ]
  },
  {
   "cell_type": "code",
   "execution_count": 279,
   "id": "77fdeaef",
   "metadata": {},
   "outputs": [
    {
     "name": "stdout",
     "output_type": "stream",
     "text": [
      "True\n"
     ]
    }
   ],
   "source": [
    "# Example 279 - Identity Operators\n",
    "a = 278\n",
    "b = a\n",
    "print(a is b)"
   ]
  },
  {
   "cell_type": "code",
   "execution_count": 280,
   "id": "6cd410cb",
   "metadata": {},
   "outputs": [
    {
     "name": "stdout",
     "output_type": "stream",
     "text": [
      "True\n"
     ]
    }
   ],
   "source": [
    "# Example 280 - Identity Operators\n",
    "a = 279\n",
    "b = a\n",
    "print(a is b)"
   ]
  },
  {
   "cell_type": "code",
   "execution_count": 281,
   "id": "555fa304",
   "metadata": {},
   "outputs": [
    {
     "name": "stdout",
     "output_type": "stream",
     "text": [
      "True\n"
     ]
    }
   ],
   "source": [
    "# Example 281 - Identity Operators\n",
    "a = 280\n",
    "b = a\n",
    "print(a is b)"
   ]
  },
  {
   "cell_type": "code",
   "execution_count": 282,
   "id": "98a10a18",
   "metadata": {},
   "outputs": [
    {
     "name": "stdout",
     "output_type": "stream",
     "text": [
      "True\n"
     ]
    }
   ],
   "source": [
    "# Example 282 - Identity Operators\n",
    "a = 281\n",
    "b = a\n",
    "print(a is b)"
   ]
  },
  {
   "cell_type": "code",
   "execution_count": 283,
   "id": "d400e7d5",
   "metadata": {},
   "outputs": [
    {
     "name": "stdout",
     "output_type": "stream",
     "text": [
      "True\n"
     ]
    }
   ],
   "source": [
    "# Example 283 - Identity Operators\n",
    "a = 282\n",
    "b = a\n",
    "print(a is b)"
   ]
  },
  {
   "cell_type": "code",
   "execution_count": 284,
   "id": "95a3807c",
   "metadata": {},
   "outputs": [
    {
     "name": "stdout",
     "output_type": "stream",
     "text": [
      "True\n"
     ]
    }
   ],
   "source": [
    "# Example 284 - Identity Operators\n",
    "a = 283\n",
    "b = a\n",
    "print(a is b)"
   ]
  },
  {
   "cell_type": "code",
   "execution_count": 285,
   "id": "ffd4b51a",
   "metadata": {},
   "outputs": [
    {
     "name": "stdout",
     "output_type": "stream",
     "text": [
      "True\n"
     ]
    }
   ],
   "source": [
    "# Example 285 - Identity Operators\n",
    "a = 284\n",
    "b = a\n",
    "print(a is b)"
   ]
  },
  {
   "cell_type": "code",
   "execution_count": 286,
   "id": "4b7c274d",
   "metadata": {},
   "outputs": [
    {
     "name": "stdout",
     "output_type": "stream",
     "text": [
      "True\n"
     ]
    }
   ],
   "source": [
    "# Example 286 - Identity Operators\n",
    "a = 285\n",
    "b = a\n",
    "print(a is b)"
   ]
  },
  {
   "cell_type": "code",
   "execution_count": 287,
   "id": "14116611",
   "metadata": {},
   "outputs": [
    {
     "name": "stdout",
     "output_type": "stream",
     "text": [
      "True\n"
     ]
    }
   ],
   "source": [
    "# Example 287 - Identity Operators\n",
    "a = 286\n",
    "b = a\n",
    "print(a is b)"
   ]
  },
  {
   "cell_type": "code",
   "execution_count": 288,
   "id": "540f3165",
   "metadata": {},
   "outputs": [
    {
     "name": "stdout",
     "output_type": "stream",
     "text": [
      "True\n"
     ]
    }
   ],
   "source": [
    "# Example 288 - Identity Operators\n",
    "a = 287\n",
    "b = a\n",
    "print(a is b)"
   ]
  },
  {
   "cell_type": "code",
   "execution_count": 289,
   "id": "2933f11e",
   "metadata": {},
   "outputs": [
    {
     "name": "stdout",
     "output_type": "stream",
     "text": [
      "True\n"
     ]
    }
   ],
   "source": [
    "# Example 289 - Identity Operators\n",
    "a = 288\n",
    "b = a\n",
    "print(a is b)"
   ]
  },
  {
   "cell_type": "code",
   "execution_count": 290,
   "id": "97ced2bc",
   "metadata": {},
   "outputs": [
    {
     "name": "stdout",
     "output_type": "stream",
     "text": [
      "True\n"
     ]
    }
   ],
   "source": [
    "# Example 290 - Identity Operators\n",
    "a = 289\n",
    "b = a\n",
    "print(a is b)"
   ]
  },
  {
   "cell_type": "code",
   "execution_count": 291,
   "id": "2e0450ad",
   "metadata": {},
   "outputs": [
    {
     "name": "stdout",
     "output_type": "stream",
     "text": [
      "True\n"
     ]
    }
   ],
   "source": [
    "# Example 291 - Identity Operators\n",
    "a = 290\n",
    "b = a\n",
    "print(a is b)"
   ]
  },
  {
   "cell_type": "code",
   "execution_count": 292,
   "id": "5a939947",
   "metadata": {},
   "outputs": [
    {
     "name": "stdout",
     "output_type": "stream",
     "text": [
      "True\n"
     ]
    }
   ],
   "source": [
    "# Example 292 - Identity Operators\n",
    "a = 291\n",
    "b = a\n",
    "print(a is b)"
   ]
  },
  {
   "cell_type": "code",
   "execution_count": 293,
   "id": "36cdb37a",
   "metadata": {},
   "outputs": [
    {
     "name": "stdout",
     "output_type": "stream",
     "text": [
      "True\n"
     ]
    }
   ],
   "source": [
    "# Example 293 - Identity Operators\n",
    "a = 292\n",
    "b = a\n",
    "print(a is b)"
   ]
  },
  {
   "cell_type": "code",
   "execution_count": 294,
   "id": "c9b75965",
   "metadata": {},
   "outputs": [
    {
     "name": "stdout",
     "output_type": "stream",
     "text": [
      "True\n"
     ]
    }
   ],
   "source": [
    "# Example 294 - Identity Operators\n",
    "a = 293\n",
    "b = a\n",
    "print(a is b)"
   ]
  },
  {
   "cell_type": "code",
   "execution_count": 295,
   "id": "3e96e986",
   "metadata": {},
   "outputs": [
    {
     "name": "stdout",
     "output_type": "stream",
     "text": [
      "True\n"
     ]
    }
   ],
   "source": [
    "# Example 295 - Identity Operators\n",
    "a = 294\n",
    "b = a\n",
    "print(a is b)"
   ]
  },
  {
   "cell_type": "code",
   "execution_count": 296,
   "id": "1cd83aa8",
   "metadata": {},
   "outputs": [
    {
     "name": "stdout",
     "output_type": "stream",
     "text": [
      "True\n"
     ]
    }
   ],
   "source": [
    "# Example 296 - Identity Operators\n",
    "a = 295\n",
    "b = a\n",
    "print(a is b)"
   ]
  },
  {
   "cell_type": "code",
   "execution_count": 297,
   "id": "465bb1a8",
   "metadata": {},
   "outputs": [
    {
     "name": "stdout",
     "output_type": "stream",
     "text": [
      "True\n"
     ]
    }
   ],
   "source": [
    "# Example 297 - Identity Operators\n",
    "a = 296\n",
    "b = a\n",
    "print(a is b)"
   ]
  },
  {
   "cell_type": "code",
   "execution_count": 298,
   "id": "fc70d9e3",
   "metadata": {},
   "outputs": [
    {
     "name": "stdout",
     "output_type": "stream",
     "text": [
      "True\n"
     ]
    }
   ],
   "source": [
    "# Example 298 - Identity Operators\n",
    "a = 297\n",
    "b = a\n",
    "print(a is b)"
   ]
  },
  {
   "cell_type": "code",
   "execution_count": 299,
   "id": "0929e71d",
   "metadata": {},
   "outputs": [
    {
     "name": "stdout",
     "output_type": "stream",
     "text": [
      "True\n"
     ]
    }
   ],
   "source": [
    "# Example 299 - Identity Operators\n",
    "a = 298\n",
    "b = a\n",
    "print(a is b)"
   ]
  },
  {
   "cell_type": "code",
   "execution_count": 300,
   "id": "cd423327",
   "metadata": {},
   "outputs": [
    {
     "name": "stdout",
     "output_type": "stream",
     "text": [
      "True\n"
     ]
    }
   ],
   "source": [
    "# Example 300 - Identity Operators\n",
    "a = 299\n",
    "b = a\n",
    "print(a is b)"
   ]
  },
  {
   "cell_type": "code",
   "execution_count": 301,
   "id": "08fa32cb",
   "metadata": {},
   "outputs": [
    {
     "name": "stdout",
     "output_type": "stream",
     "text": [
      "False\n"
     ]
    }
   ],
   "source": [
    "# Example 301 - Membership Operators\n",
    "print(0 in [1, 2, 3, 4])"
   ]
  },
  {
   "cell_type": "code",
   "execution_count": 302,
   "id": "b15844b3",
   "metadata": {},
   "outputs": [
    {
     "name": "stdout",
     "output_type": "stream",
     "text": [
      "True\n"
     ]
    }
   ],
   "source": [
    "# Example 302 - Membership Operators\n",
    "print(1 in [1, 2, 3, 4])"
   ]
  },
  {
   "cell_type": "code",
   "execution_count": 303,
   "id": "88d28e08",
   "metadata": {},
   "outputs": [
    {
     "name": "stdout",
     "output_type": "stream",
     "text": [
      "True\n"
     ]
    }
   ],
   "source": [
    "# Example 303 - Membership Operators\n",
    "print(2 in [1, 2, 3, 4])"
   ]
  },
  {
   "cell_type": "code",
   "execution_count": 304,
   "id": "6b833ad7",
   "metadata": {},
   "outputs": [
    {
     "name": "stdout",
     "output_type": "stream",
     "text": [
      "True\n"
     ]
    }
   ],
   "source": [
    "# Example 304 - Membership Operators\n",
    "print(3 in [1, 2, 3, 4])"
   ]
  },
  {
   "cell_type": "code",
   "execution_count": 305,
   "id": "9f5e5881",
   "metadata": {},
   "outputs": [
    {
     "name": "stdout",
     "output_type": "stream",
     "text": [
      "True\n"
     ]
    }
   ],
   "source": [
    "# Example 305 - Membership Operators\n",
    "print(4 in [1, 2, 3, 4])"
   ]
  },
  {
   "cell_type": "code",
   "execution_count": 306,
   "id": "a2fea67f",
   "metadata": {},
   "outputs": [
    {
     "name": "stdout",
     "output_type": "stream",
     "text": [
      "False\n"
     ]
    }
   ],
   "source": [
    "# Example 306 - Membership Operators\n",
    "print(0 in [1, 2, 3, 4])"
   ]
  },
  {
   "cell_type": "code",
   "execution_count": 307,
   "id": "3bdeff95",
   "metadata": {},
   "outputs": [
    {
     "name": "stdout",
     "output_type": "stream",
     "text": [
      "True\n"
     ]
    }
   ],
   "source": [
    "# Example 307 - Membership Operators\n",
    "print(1 in [1, 2, 3, 4])"
   ]
  },
  {
   "cell_type": "code",
   "execution_count": 308,
   "id": "bb81b7ab",
   "metadata": {},
   "outputs": [
    {
     "name": "stdout",
     "output_type": "stream",
     "text": [
      "True\n"
     ]
    }
   ],
   "source": [
    "# Example 308 - Membership Operators\n",
    "print(2 in [1, 2, 3, 4])"
   ]
  },
  {
   "cell_type": "code",
   "execution_count": 309,
   "id": "c0bde2df",
   "metadata": {},
   "outputs": [
    {
     "name": "stdout",
     "output_type": "stream",
     "text": [
      "True\n"
     ]
    }
   ],
   "source": [
    "# Example 309 - Membership Operators\n",
    "print(3 in [1, 2, 3, 4])"
   ]
  },
  {
   "cell_type": "code",
   "execution_count": 310,
   "id": "c1ffefd9",
   "metadata": {},
   "outputs": [
    {
     "name": "stdout",
     "output_type": "stream",
     "text": [
      "True\n"
     ]
    }
   ],
   "source": [
    "# Example 310 - Membership Operators\n",
    "print(4 in [1, 2, 3, 4])"
   ]
  },
  {
   "cell_type": "code",
   "execution_count": 311,
   "id": "821a3817",
   "metadata": {},
   "outputs": [
    {
     "name": "stdout",
     "output_type": "stream",
     "text": [
      "False\n"
     ]
    }
   ],
   "source": [
    "# Example 311 - Membership Operators\n",
    "print(0 in [1, 2, 3, 4])"
   ]
  },
  {
   "cell_type": "code",
   "execution_count": 312,
   "id": "99e4f97a",
   "metadata": {},
   "outputs": [
    {
     "name": "stdout",
     "output_type": "stream",
     "text": [
      "True\n"
     ]
    }
   ],
   "source": [
    "# Example 312 - Membership Operators\n",
    "print(1 in [1, 2, 3, 4])"
   ]
  },
  {
   "cell_type": "code",
   "execution_count": 313,
   "id": "f758713d",
   "metadata": {},
   "outputs": [
    {
     "name": "stdout",
     "output_type": "stream",
     "text": [
      "True\n"
     ]
    }
   ],
   "source": [
    "# Example 313 - Membership Operators\n",
    "print(2 in [1, 2, 3, 4])"
   ]
  },
  {
   "cell_type": "code",
   "execution_count": 314,
   "id": "2dbb639a",
   "metadata": {},
   "outputs": [
    {
     "name": "stdout",
     "output_type": "stream",
     "text": [
      "True\n"
     ]
    }
   ],
   "source": [
    "# Example 314 - Membership Operators\n",
    "print(3 in [1, 2, 3, 4])"
   ]
  },
  {
   "cell_type": "code",
   "execution_count": 315,
   "id": "8a86772c",
   "metadata": {},
   "outputs": [
    {
     "name": "stdout",
     "output_type": "stream",
     "text": [
      "True\n"
     ]
    }
   ],
   "source": [
    "# Example 315 - Membership Operators\n",
    "print(4 in [1, 2, 3, 4])"
   ]
  },
  {
   "cell_type": "code",
   "execution_count": 316,
   "id": "3d209aed",
   "metadata": {},
   "outputs": [
    {
     "name": "stdout",
     "output_type": "stream",
     "text": [
      "False\n"
     ]
    }
   ],
   "source": [
    "# Example 316 - Membership Operators\n",
    "print(0 in [1, 2, 3, 4])"
   ]
  },
  {
   "cell_type": "code",
   "execution_count": 317,
   "id": "53866c37",
   "metadata": {},
   "outputs": [
    {
     "name": "stdout",
     "output_type": "stream",
     "text": [
      "True\n"
     ]
    }
   ],
   "source": [
    "# Example 317 - Membership Operators\n",
    "print(1 in [1, 2, 3, 4])"
   ]
  },
  {
   "cell_type": "code",
   "execution_count": 318,
   "id": "5307ee07",
   "metadata": {},
   "outputs": [
    {
     "name": "stdout",
     "output_type": "stream",
     "text": [
      "True\n"
     ]
    }
   ],
   "source": [
    "# Example 318 - Membership Operators\n",
    "print(2 in [1, 2, 3, 4])"
   ]
  },
  {
   "cell_type": "code",
   "execution_count": 319,
   "id": "73d1efa1",
   "metadata": {},
   "outputs": [
    {
     "name": "stdout",
     "output_type": "stream",
     "text": [
      "True\n"
     ]
    }
   ],
   "source": [
    "# Example 319 - Membership Operators\n",
    "print(3 in [1, 2, 3, 4])"
   ]
  },
  {
   "cell_type": "code",
   "execution_count": 320,
   "id": "c49c66cb",
   "metadata": {},
   "outputs": [
    {
     "name": "stdout",
     "output_type": "stream",
     "text": [
      "True\n"
     ]
    }
   ],
   "source": [
    "# Example 320 - Membership Operators\n",
    "print(4 in [1, 2, 3, 4])"
   ]
  },
  {
   "cell_type": "code",
   "execution_count": 321,
   "id": "777caa46",
   "metadata": {},
   "outputs": [
    {
     "name": "stdout",
     "output_type": "stream",
     "text": [
      "False\n"
     ]
    }
   ],
   "source": [
    "# Example 321 - Membership Operators\n",
    "print(0 in [1, 2, 3, 4])"
   ]
  },
  {
   "cell_type": "code",
   "execution_count": 322,
   "id": "4726a1fa",
   "metadata": {},
   "outputs": [
    {
     "name": "stdout",
     "output_type": "stream",
     "text": [
      "True\n"
     ]
    }
   ],
   "source": [
    "# Example 322 - Membership Operators\n",
    "print(1 in [1, 2, 3, 4])"
   ]
  },
  {
   "cell_type": "code",
   "execution_count": 323,
   "id": "1dc8bb1c",
   "metadata": {},
   "outputs": [
    {
     "name": "stdout",
     "output_type": "stream",
     "text": [
      "True\n"
     ]
    }
   ],
   "source": [
    "# Example 323 - Membership Operators\n",
    "print(2 in [1, 2, 3, 4])"
   ]
  },
  {
   "cell_type": "code",
   "execution_count": 324,
   "id": "030fc5ab",
   "metadata": {},
   "outputs": [
    {
     "name": "stdout",
     "output_type": "stream",
     "text": [
      "True\n"
     ]
    }
   ],
   "source": [
    "# Example 324 - Membership Operators\n",
    "print(3 in [1, 2, 3, 4])"
   ]
  },
  {
   "cell_type": "code",
   "execution_count": 325,
   "id": "5311848c",
   "metadata": {},
   "outputs": [
    {
     "name": "stdout",
     "output_type": "stream",
     "text": [
      "True\n"
     ]
    }
   ],
   "source": [
    "# Example 325 - Membership Operators\n",
    "print(4 in [1, 2, 3, 4])"
   ]
  },
  {
   "cell_type": "code",
   "execution_count": 326,
   "id": "b2b5f4d2",
   "metadata": {},
   "outputs": [
    {
     "name": "stdout",
     "output_type": "stream",
     "text": [
      "False\n"
     ]
    }
   ],
   "source": [
    "# Example 326 - Membership Operators\n",
    "print(0 in [1, 2, 3, 4])"
   ]
  },
  {
   "cell_type": "code",
   "execution_count": 327,
   "id": "3ffee6fa",
   "metadata": {},
   "outputs": [
    {
     "name": "stdout",
     "output_type": "stream",
     "text": [
      "True\n"
     ]
    }
   ],
   "source": [
    "# Example 327 - Membership Operators\n",
    "print(1 in [1, 2, 3, 4])"
   ]
  },
  {
   "cell_type": "code",
   "execution_count": 328,
   "id": "9eaf6117",
   "metadata": {},
   "outputs": [
    {
     "name": "stdout",
     "output_type": "stream",
     "text": [
      "True\n"
     ]
    }
   ],
   "source": [
    "# Example 328 - Membership Operators\n",
    "print(2 in [1, 2, 3, 4])"
   ]
  },
  {
   "cell_type": "code",
   "execution_count": 329,
   "id": "662e1145",
   "metadata": {},
   "outputs": [
    {
     "name": "stdout",
     "output_type": "stream",
     "text": [
      "True\n"
     ]
    }
   ],
   "source": [
    "# Example 329 - Membership Operators\n",
    "print(3 in [1, 2, 3, 4])"
   ]
  },
  {
   "cell_type": "code",
   "execution_count": 330,
   "id": "9e414e18",
   "metadata": {},
   "outputs": [
    {
     "name": "stdout",
     "output_type": "stream",
     "text": [
      "True\n"
     ]
    }
   ],
   "source": [
    "# Example 330 - Membership Operators\n",
    "print(4 in [1, 2, 3, 4])"
   ]
  },
  {
   "cell_type": "code",
   "execution_count": 331,
   "id": "ecb37743",
   "metadata": {},
   "outputs": [
    {
     "name": "stdout",
     "output_type": "stream",
     "text": [
      "False\n"
     ]
    }
   ],
   "source": [
    "# Example 331 - Membership Operators\n",
    "print(0 in [1, 2, 3, 4])"
   ]
  },
  {
   "cell_type": "code",
   "execution_count": 332,
   "id": "23097e23",
   "metadata": {},
   "outputs": [
    {
     "name": "stdout",
     "output_type": "stream",
     "text": [
      "True\n"
     ]
    }
   ],
   "source": [
    "# Example 332 - Membership Operators\n",
    "print(1 in [1, 2, 3, 4])"
   ]
  },
  {
   "cell_type": "code",
   "execution_count": 333,
   "id": "a5fb8dab",
   "metadata": {},
   "outputs": [
    {
     "name": "stdout",
     "output_type": "stream",
     "text": [
      "True\n"
     ]
    }
   ],
   "source": [
    "# Example 333 - Membership Operators\n",
    "print(2 in [1, 2, 3, 4])"
   ]
  },
  {
   "cell_type": "code",
   "execution_count": 334,
   "id": "bab10d62",
   "metadata": {},
   "outputs": [
    {
     "name": "stdout",
     "output_type": "stream",
     "text": [
      "True\n"
     ]
    }
   ],
   "source": [
    "# Example 334 - Membership Operators\n",
    "print(3 in [1, 2, 3, 4])"
   ]
  },
  {
   "cell_type": "code",
   "execution_count": 335,
   "id": "83a296e1",
   "metadata": {},
   "outputs": [
    {
     "name": "stdout",
     "output_type": "stream",
     "text": [
      "True\n"
     ]
    }
   ],
   "source": [
    "# Example 335 - Membership Operators\n",
    "print(4 in [1, 2, 3, 4])"
   ]
  },
  {
   "cell_type": "code",
   "execution_count": 336,
   "id": "2732cf98",
   "metadata": {},
   "outputs": [
    {
     "name": "stdout",
     "output_type": "stream",
     "text": [
      "False\n"
     ]
    }
   ],
   "source": [
    "# Example 336 - Membership Operators\n",
    "print(0 in [1, 2, 3, 4])"
   ]
  },
  {
   "cell_type": "code",
   "execution_count": 337,
   "id": "0a400f7c",
   "metadata": {},
   "outputs": [
    {
     "name": "stdout",
     "output_type": "stream",
     "text": [
      "True\n"
     ]
    }
   ],
   "source": [
    "# Example 337 - Membership Operators\n",
    "print(1 in [1, 2, 3, 4])"
   ]
  },
  {
   "cell_type": "code",
   "execution_count": 338,
   "id": "dcbafc45",
   "metadata": {},
   "outputs": [
    {
     "name": "stdout",
     "output_type": "stream",
     "text": [
      "True\n"
     ]
    }
   ],
   "source": [
    "# Example 338 - Membership Operators\n",
    "print(2 in [1, 2, 3, 4])"
   ]
  },
  {
   "cell_type": "code",
   "execution_count": 339,
   "id": "38c3f304",
   "metadata": {},
   "outputs": [
    {
     "name": "stdout",
     "output_type": "stream",
     "text": [
      "True\n"
     ]
    }
   ],
   "source": [
    "# Example 339 - Membership Operators\n",
    "print(3 in [1, 2, 3, 4])"
   ]
  },
  {
   "cell_type": "code",
   "execution_count": 340,
   "id": "31ef8a92",
   "metadata": {},
   "outputs": [
    {
     "name": "stdout",
     "output_type": "stream",
     "text": [
      "True\n"
     ]
    }
   ],
   "source": [
    "# Example 340 - Membership Operators\n",
    "print(4 in [1, 2, 3, 4])"
   ]
  },
  {
   "cell_type": "code",
   "execution_count": 341,
   "id": "1ed3c937",
   "metadata": {},
   "outputs": [
    {
     "name": "stdout",
     "output_type": "stream",
     "text": [
      "False\n"
     ]
    }
   ],
   "source": [
    "# Example 341 - Membership Operators\n",
    "print(0 in [1, 2, 3, 4])"
   ]
  },
  {
   "cell_type": "code",
   "execution_count": 342,
   "id": "19160190",
   "metadata": {},
   "outputs": [
    {
     "name": "stdout",
     "output_type": "stream",
     "text": [
      "True\n"
     ]
    }
   ],
   "source": [
    "# Example 342 - Membership Operators\n",
    "print(1 in [1, 2, 3, 4])"
   ]
  },
  {
   "cell_type": "code",
   "execution_count": 343,
   "id": "c5c84e23",
   "metadata": {},
   "outputs": [
    {
     "name": "stdout",
     "output_type": "stream",
     "text": [
      "True\n"
     ]
    }
   ],
   "source": [
    "# Example 343 - Membership Operators\n",
    "print(2 in [1, 2, 3, 4])"
   ]
  },
  {
   "cell_type": "code",
   "execution_count": 344,
   "id": "3a3bef32",
   "metadata": {},
   "outputs": [
    {
     "name": "stdout",
     "output_type": "stream",
     "text": [
      "True\n"
     ]
    }
   ],
   "source": [
    "# Example 344 - Membership Operators\n",
    "print(3 in [1, 2, 3, 4])"
   ]
  },
  {
   "cell_type": "code",
   "execution_count": 345,
   "id": "8c4d0238",
   "metadata": {},
   "outputs": [
    {
     "name": "stdout",
     "output_type": "stream",
     "text": [
      "True\n"
     ]
    }
   ],
   "source": [
    "# Example 345 - Membership Operators\n",
    "print(4 in [1, 2, 3, 4])"
   ]
  },
  {
   "cell_type": "code",
   "execution_count": 346,
   "id": "5aa7b2c6",
   "metadata": {},
   "outputs": [
    {
     "name": "stdout",
     "output_type": "stream",
     "text": [
      "False\n"
     ]
    }
   ],
   "source": [
    "# Example 346 - Membership Operators\n",
    "print(0 in [1, 2, 3, 4])"
   ]
  },
  {
   "cell_type": "code",
   "execution_count": 347,
   "id": "0071bc6d",
   "metadata": {},
   "outputs": [
    {
     "name": "stdout",
     "output_type": "stream",
     "text": [
      "True\n"
     ]
    }
   ],
   "source": [
    "# Example 347 - Membership Operators\n",
    "print(1 in [1, 2, 3, 4])"
   ]
  },
  {
   "cell_type": "code",
   "execution_count": 348,
   "id": "217b5feb",
   "metadata": {},
   "outputs": [
    {
     "name": "stdout",
     "output_type": "stream",
     "text": [
      "True\n"
     ]
    }
   ],
   "source": [
    "# Example 348 - Membership Operators\n",
    "print(2 in [1, 2, 3, 4])"
   ]
  },
  {
   "cell_type": "code",
   "execution_count": 349,
   "id": "fbcc81e8",
   "metadata": {},
   "outputs": [
    {
     "name": "stdout",
     "output_type": "stream",
     "text": [
      "True\n"
     ]
    }
   ],
   "source": [
    "# Example 349 - Membership Operators\n",
    "print(3 in [1, 2, 3, 4])"
   ]
  },
  {
   "cell_type": "code",
   "execution_count": 350,
   "id": "bc4162ba",
   "metadata": {},
   "outputs": [
    {
     "name": "stdout",
     "output_type": "stream",
     "text": [
      "True\n"
     ]
    }
   ],
   "source": [
    "# Example 350 - Membership Operators\n",
    "print(4 in [1, 2, 3, 4])"
   ]
  },
  {
   "cell_type": "code",
   "execution_count": 351,
   "id": "f69e9994",
   "metadata": {},
   "outputs": [
    {
     "name": "stdout",
     "output_type": "stream",
     "text": [
      "13\n"
     ]
    }
   ],
   "source": [
    "# Example 351 - Combined Expressions\n",
    "x = 3; y = 4; print((x + y) * 2 - y // x)"
   ]
  },
  {
   "cell_type": "code",
   "execution_count": 352,
   "id": "0505b2f0",
   "metadata": {},
   "outputs": [
    {
     "name": "stdout",
     "output_type": "stream",
     "text": [
      "12\n"
     ]
    }
   ],
   "source": [
    "# Example 352 - Combined Expressions\n",
    "x = 4; y = 2; print((x + y) * 2 - y // x)"
   ]
  },
  {
   "cell_type": "code",
   "execution_count": 353,
   "id": "adbc9008",
   "metadata": {},
   "outputs": [
    {
     "name": "stdout",
     "output_type": "stream",
     "text": [
      "5\n"
     ]
    }
   ],
   "source": [
    "# Example 353 - Combined Expressions\n",
    "x = 1; y = 3; print((x + y) * 2 - y // x)"
   ]
  },
  {
   "cell_type": "code",
   "execution_count": 354,
   "id": "43b42e95",
   "metadata": {},
   "outputs": [
    {
     "name": "stdout",
     "output_type": "stream",
     "text": [
      "10\n"
     ]
    }
   ],
   "source": [
    "# Example 354 - Combined Expressions\n",
    "x = 2; y = 4; print((x + y) * 2 - y // x)"
   ]
  },
  {
   "cell_type": "code",
   "execution_count": 355,
   "id": "a95f533f",
   "metadata": {},
   "outputs": [
    {
     "name": "stdout",
     "output_type": "stream",
     "text": [
      "10\n"
     ]
    }
   ],
   "source": [
    "# Example 355 - Combined Expressions\n",
    "x = 3; y = 2; print((x + y) * 2 - y // x)"
   ]
  },
  {
   "cell_type": "code",
   "execution_count": 356,
   "id": "8b81e582",
   "metadata": {},
   "outputs": [
    {
     "name": "stdout",
     "output_type": "stream",
     "text": [
      "14\n"
     ]
    }
   ],
   "source": [
    "# Example 356 - Combined Expressions\n",
    "x = 4; y = 3; print((x + y) * 2 - y // x)"
   ]
  },
  {
   "cell_type": "code",
   "execution_count": 357,
   "id": "b6eff167",
   "metadata": {},
   "outputs": [
    {
     "name": "stdout",
     "output_type": "stream",
     "text": [
      "6\n"
     ]
    }
   ],
   "source": [
    "# Example 357 - Combined Expressions\n",
    "x = 1; y = 4; print((x + y) * 2 - y // x)"
   ]
  },
  {
   "cell_type": "code",
   "execution_count": 358,
   "id": "99b256aa",
   "metadata": {},
   "outputs": [
    {
     "name": "stdout",
     "output_type": "stream",
     "text": [
      "7\n"
     ]
    }
   ],
   "source": [
    "# Example 358 - Combined Expressions\n",
    "x = 2; y = 2; print((x + y) * 2 - y // x)"
   ]
  },
  {
   "cell_type": "code",
   "execution_count": 359,
   "id": "3f66536c",
   "metadata": {},
   "outputs": [
    {
     "name": "stdout",
     "output_type": "stream",
     "text": [
      "11\n"
     ]
    }
   ],
   "source": [
    "# Example 359 - Combined Expressions\n",
    "x = 3; y = 3; print((x + y) * 2 - y // x)"
   ]
  },
  {
   "cell_type": "code",
   "execution_count": 360,
   "id": "c06560b9",
   "metadata": {},
   "outputs": [
    {
     "name": "stdout",
     "output_type": "stream",
     "text": [
      "15\n"
     ]
    }
   ],
   "source": [
    "# Example 360 - Combined Expressions\n",
    "x = 4; y = 4; print((x + y) * 2 - y // x)"
   ]
  },
  {
   "cell_type": "code",
   "execution_count": 361,
   "id": "7a733a68",
   "metadata": {},
   "outputs": [
    {
     "name": "stdout",
     "output_type": "stream",
     "text": [
      "4\n"
     ]
    }
   ],
   "source": [
    "# Example 361 - Combined Expressions\n",
    "x = 1; y = 2; print((x + y) * 2 - y // x)"
   ]
  },
  {
   "cell_type": "code",
   "execution_count": 362,
   "id": "0182a345",
   "metadata": {},
   "outputs": [
    {
     "name": "stdout",
     "output_type": "stream",
     "text": [
      "9\n"
     ]
    }
   ],
   "source": [
    "# Example 362 - Combined Expressions\n",
    "x = 2; y = 3; print((x + y) * 2 - y // x)"
   ]
  },
  {
   "cell_type": "code",
   "execution_count": 363,
   "id": "46ffa386",
   "metadata": {},
   "outputs": [
    {
     "name": "stdout",
     "output_type": "stream",
     "text": [
      "13\n"
     ]
    }
   ],
   "source": [
    "# Example 363 - Combined Expressions\n",
    "x = 3; y = 4; print((x + y) * 2 - y // x)"
   ]
  },
  {
   "cell_type": "code",
   "execution_count": 364,
   "id": "1da06f48",
   "metadata": {},
   "outputs": [
    {
     "name": "stdout",
     "output_type": "stream",
     "text": [
      "12\n"
     ]
    }
   ],
   "source": [
    "# Example 364 - Combined Expressions\n",
    "x = 4; y = 2; print((x + y) * 2 - y // x)"
   ]
  },
  {
   "cell_type": "code",
   "execution_count": 365,
   "id": "70bc2d52",
   "metadata": {},
   "outputs": [
    {
     "name": "stdout",
     "output_type": "stream",
     "text": [
      "5\n"
     ]
    }
   ],
   "source": [
    "# Example 365 - Combined Expressions\n",
    "x = 1; y = 3; print((x + y) * 2 - y // x)"
   ]
  },
  {
   "cell_type": "code",
   "execution_count": 366,
   "id": "bfbc0a34",
   "metadata": {},
   "outputs": [
    {
     "name": "stdout",
     "output_type": "stream",
     "text": [
      "10\n"
     ]
    }
   ],
   "source": [
    "# Example 366 - Combined Expressions\n",
    "x = 2; y = 4; print((x + y) * 2 - y // x)"
   ]
  },
  {
   "cell_type": "code",
   "execution_count": 367,
   "id": "eeb548f8",
   "metadata": {},
   "outputs": [
    {
     "name": "stdout",
     "output_type": "stream",
     "text": [
      "10\n"
     ]
    }
   ],
   "source": [
    "# Example 367 - Combined Expressions\n",
    "x = 3; y = 2; print((x + y) * 2 - y // x)"
   ]
  },
  {
   "cell_type": "code",
   "execution_count": 368,
   "id": "580ffc86",
   "metadata": {},
   "outputs": [
    {
     "name": "stdout",
     "output_type": "stream",
     "text": [
      "14\n"
     ]
    }
   ],
   "source": [
    "# Example 368 - Combined Expressions\n",
    "x = 4; y = 3; print((x + y) * 2 - y // x)"
   ]
  },
  {
   "cell_type": "code",
   "execution_count": 369,
   "id": "97053f5b",
   "metadata": {},
   "outputs": [
    {
     "name": "stdout",
     "output_type": "stream",
     "text": [
      "6\n"
     ]
    }
   ],
   "source": [
    "# Example 369 - Combined Expressions\n",
    "x = 1; y = 4; print((x + y) * 2 - y // x)"
   ]
  },
  {
   "cell_type": "code",
   "execution_count": 370,
   "id": "418b7876",
   "metadata": {},
   "outputs": [
    {
     "name": "stdout",
     "output_type": "stream",
     "text": [
      "7\n"
     ]
    }
   ],
   "source": [
    "# Example 370 - Combined Expressions\n",
    "x = 2; y = 2; print((x + y) * 2 - y // x)"
   ]
  },
  {
   "cell_type": "code",
   "execution_count": 371,
   "id": "c5ba6c48",
   "metadata": {},
   "outputs": [
    {
     "name": "stdout",
     "output_type": "stream",
     "text": [
      "11\n"
     ]
    }
   ],
   "source": [
    "# Example 371 - Combined Expressions\n",
    "x = 3; y = 3; print((x + y) * 2 - y // x)"
   ]
  },
  {
   "cell_type": "code",
   "execution_count": 372,
   "id": "4b9aab7a",
   "metadata": {},
   "outputs": [
    {
     "name": "stdout",
     "output_type": "stream",
     "text": [
      "15\n"
     ]
    }
   ],
   "source": [
    "# Example 372 - Combined Expressions\n",
    "x = 4; y = 4; print((x + y) * 2 - y // x)"
   ]
  },
  {
   "cell_type": "code",
   "execution_count": 373,
   "id": "141a9408",
   "metadata": {},
   "outputs": [
    {
     "name": "stdout",
     "output_type": "stream",
     "text": [
      "4\n"
     ]
    }
   ],
   "source": [
    "# Example 373 - Combined Expressions\n",
    "x = 1; y = 2; print((x + y) * 2 - y // x)"
   ]
  },
  {
   "cell_type": "code",
   "execution_count": 374,
   "id": "6de9bff9",
   "metadata": {},
   "outputs": [
    {
     "name": "stdout",
     "output_type": "stream",
     "text": [
      "9\n"
     ]
    }
   ],
   "source": [
    "# Example 374 - Combined Expressions\n",
    "x = 2; y = 3; print((x + y) * 2 - y // x)"
   ]
  },
  {
   "cell_type": "code",
   "execution_count": 375,
   "id": "1d3b1d99",
   "metadata": {},
   "outputs": [
    {
     "name": "stdout",
     "output_type": "stream",
     "text": [
      "13\n"
     ]
    }
   ],
   "source": [
    "# Example 375 - Combined Expressions\n",
    "x = 3; y = 4; print((x + y) * 2 - y // x)"
   ]
  },
  {
   "cell_type": "code",
   "execution_count": 376,
   "id": "1a1aba8a",
   "metadata": {},
   "outputs": [
    {
     "name": "stdout",
     "output_type": "stream",
     "text": [
      "12\n"
     ]
    }
   ],
   "source": [
    "# Example 376 - Combined Expressions\n",
    "x = 4; y = 2; print((x + y) * 2 - y // x)"
   ]
  },
  {
   "cell_type": "code",
   "execution_count": 377,
   "id": "a3a434d0",
   "metadata": {},
   "outputs": [
    {
     "name": "stdout",
     "output_type": "stream",
     "text": [
      "5\n"
     ]
    }
   ],
   "source": [
    "# Example 377 - Combined Expressions\n",
    "x = 1; y = 3; print((x + y) * 2 - y // x)"
   ]
  },
  {
   "cell_type": "code",
   "execution_count": 378,
   "id": "a741e0b4",
   "metadata": {},
   "outputs": [
    {
     "name": "stdout",
     "output_type": "stream",
     "text": [
      "10\n"
     ]
    }
   ],
   "source": [
    "# Example 378 - Combined Expressions\n",
    "x = 2; y = 4; print((x + y) * 2 - y // x)"
   ]
  },
  {
   "cell_type": "code",
   "execution_count": 379,
   "id": "c3b2a5b1",
   "metadata": {},
   "outputs": [
    {
     "name": "stdout",
     "output_type": "stream",
     "text": [
      "10\n"
     ]
    }
   ],
   "source": [
    "# Example 379 - Combined Expressions\n",
    "x = 3; y = 2; print((x + y) * 2 - y // x)"
   ]
  },
  {
   "cell_type": "code",
   "execution_count": 380,
   "id": "5576493b",
   "metadata": {},
   "outputs": [
    {
     "name": "stdout",
     "output_type": "stream",
     "text": [
      "14\n"
     ]
    }
   ],
   "source": [
    "# Example 380 - Combined Expressions\n",
    "x = 4; y = 3; print((x + y) * 2 - y // x)"
   ]
  },
  {
   "cell_type": "code",
   "execution_count": 381,
   "id": "4bfff28d",
   "metadata": {},
   "outputs": [
    {
     "name": "stdout",
     "output_type": "stream",
     "text": [
      "6\n"
     ]
    }
   ],
   "source": [
    "# Example 381 - Combined Expressions\n",
    "x = 1; y = 4; print((x + y) * 2 - y // x)"
   ]
  },
  {
   "cell_type": "code",
   "execution_count": 382,
   "id": "7a0d19f8",
   "metadata": {},
   "outputs": [
    {
     "name": "stdout",
     "output_type": "stream",
     "text": [
      "7\n"
     ]
    }
   ],
   "source": [
    "# Example 382 - Combined Expressions\n",
    "x = 2; y = 2; print((x + y) * 2 - y // x)"
   ]
  },
  {
   "cell_type": "code",
   "execution_count": 383,
   "id": "d8659a0b",
   "metadata": {},
   "outputs": [
    {
     "name": "stdout",
     "output_type": "stream",
     "text": [
      "11\n"
     ]
    }
   ],
   "source": [
    "# Example 383 - Combined Expressions\n",
    "x = 3; y = 3; print((x + y) * 2 - y // x)"
   ]
  },
  {
   "cell_type": "code",
   "execution_count": 384,
   "id": "be6b2654",
   "metadata": {},
   "outputs": [
    {
     "name": "stdout",
     "output_type": "stream",
     "text": [
      "15\n"
     ]
    }
   ],
   "source": [
    "# Example 384 - Combined Expressions\n",
    "x = 4; y = 4; print((x + y) * 2 - y // x)"
   ]
  },
  {
   "cell_type": "code",
   "execution_count": 385,
   "id": "e21a3202",
   "metadata": {},
   "outputs": [
    {
     "name": "stdout",
     "output_type": "stream",
     "text": [
      "4\n"
     ]
    }
   ],
   "source": [
    "# Example 385 - Combined Expressions\n",
    "x = 1; y = 2; print((x + y) * 2 - y // x)"
   ]
  },
  {
   "cell_type": "code",
   "execution_count": 386,
   "id": "30440e44",
   "metadata": {},
   "outputs": [
    {
     "name": "stdout",
     "output_type": "stream",
     "text": [
      "9\n"
     ]
    }
   ],
   "source": [
    "# Example 386 - Combined Expressions\n",
    "x = 2; y = 3; print((x + y) * 2 - y // x)"
   ]
  },
  {
   "cell_type": "code",
   "execution_count": 387,
   "id": "a719e749",
   "metadata": {},
   "outputs": [
    {
     "name": "stdout",
     "output_type": "stream",
     "text": [
      "13\n"
     ]
    }
   ],
   "source": [
    "# Example 387 - Combined Expressions\n",
    "x = 3; y = 4; print((x + y) * 2 - y // x)"
   ]
  },
  {
   "cell_type": "code",
   "execution_count": 388,
   "id": "2cf60bcf",
   "metadata": {},
   "outputs": [
    {
     "name": "stdout",
     "output_type": "stream",
     "text": [
      "12\n"
     ]
    }
   ],
   "source": [
    "# Example 388 - Combined Expressions\n",
    "x = 4; y = 2; print((x + y) * 2 - y // x)"
   ]
  },
  {
   "cell_type": "code",
   "execution_count": 389,
   "id": "1dcec303",
   "metadata": {},
   "outputs": [
    {
     "name": "stdout",
     "output_type": "stream",
     "text": [
      "5\n"
     ]
    }
   ],
   "source": [
    "# Example 389 - Combined Expressions\n",
    "x = 1; y = 3; print((x + y) * 2 - y // x)"
   ]
  },
  {
   "cell_type": "code",
   "execution_count": 390,
   "id": "a86478a6",
   "metadata": {},
   "outputs": [
    {
     "name": "stdout",
     "output_type": "stream",
     "text": [
      "10\n"
     ]
    }
   ],
   "source": [
    "# Example 390 - Combined Expressions\n",
    "x = 2; y = 4; print((x + y) * 2 - y // x)"
   ]
  },
  {
   "cell_type": "code",
   "execution_count": 391,
   "id": "9c741aba",
   "metadata": {},
   "outputs": [
    {
     "name": "stdout",
     "output_type": "stream",
     "text": [
      "10\n"
     ]
    }
   ],
   "source": [
    "# Example 391 - Combined Expressions\n",
    "x = 3; y = 2; print((x + y) * 2 - y // x)"
   ]
  },
  {
   "cell_type": "code",
   "execution_count": 392,
   "id": "e99ba3ee",
   "metadata": {},
   "outputs": [
    {
     "name": "stdout",
     "output_type": "stream",
     "text": [
      "14\n"
     ]
    }
   ],
   "source": [
    "# Example 392 - Combined Expressions\n",
    "x = 4; y = 3; print((x + y) * 2 - y // x)"
   ]
  },
  {
   "cell_type": "code",
   "execution_count": 393,
   "id": "80662e6c",
   "metadata": {},
   "outputs": [
    {
     "name": "stdout",
     "output_type": "stream",
     "text": [
      "6\n"
     ]
    }
   ],
   "source": [
    "# Example 393 - Combined Expressions\n",
    "x = 1; y = 4; print((x + y) * 2 - y // x)"
   ]
  },
  {
   "cell_type": "code",
   "execution_count": 394,
   "id": "c1173176",
   "metadata": {},
   "outputs": [
    {
     "name": "stdout",
     "output_type": "stream",
     "text": [
      "7\n"
     ]
    }
   ],
   "source": [
    "# Example 394 - Combined Expressions\n",
    "x = 2; y = 2; print((x + y) * 2 - y // x)"
   ]
  },
  {
   "cell_type": "code",
   "execution_count": 395,
   "id": "3e8ecdf1",
   "metadata": {},
   "outputs": [
    {
     "name": "stdout",
     "output_type": "stream",
     "text": [
      "11\n"
     ]
    }
   ],
   "source": [
    "# Example 395 - Combined Expressions\n",
    "x = 3; y = 3; print((x + y) * 2 - y // x)"
   ]
  },
  {
   "cell_type": "code",
   "execution_count": 396,
   "id": "8b066426",
   "metadata": {},
   "outputs": [
    {
     "name": "stdout",
     "output_type": "stream",
     "text": [
      "15\n"
     ]
    }
   ],
   "source": [
    "# Example 396 - Combined Expressions\n",
    "x = 4; y = 4; print((x + y) * 2 - y // x)"
   ]
  },
  {
   "cell_type": "code",
   "execution_count": 397,
   "id": "90acfa96",
   "metadata": {},
   "outputs": [
    {
     "name": "stdout",
     "output_type": "stream",
     "text": [
      "4\n"
     ]
    }
   ],
   "source": [
    "# Example 397 - Combined Expressions\n",
    "x = 1; y = 2; print((x + y) * 2 - y // x)"
   ]
  },
  {
   "cell_type": "code",
   "execution_count": 398,
   "id": "00a02fff",
   "metadata": {},
   "outputs": [
    {
     "name": "stdout",
     "output_type": "stream",
     "text": [
      "9\n"
     ]
    }
   ],
   "source": [
    "# Example 398 - Combined Expressions\n",
    "x = 2; y = 3; print((x + y) * 2 - y // x)"
   ]
  },
  {
   "cell_type": "code",
   "execution_count": 399,
   "id": "d4235ea1",
   "metadata": {},
   "outputs": [
    {
     "name": "stdout",
     "output_type": "stream",
     "text": [
      "13\n"
     ]
    }
   ],
   "source": [
    "# Example 399 - Combined Expressions\n",
    "x = 3; y = 4; print((x + y) * 2 - y // x)"
   ]
  },
  {
   "cell_type": "code",
   "execution_count": 400,
   "id": "95fe26bb",
   "metadata": {},
   "outputs": [
    {
     "name": "stdout",
     "output_type": "stream",
     "text": [
      "12\n"
     ]
    }
   ],
   "source": [
    "# Example 400 - Combined Expressions\n",
    "x = 4; y = 2; print((x + y) * 2 - y // x)"
   ]
  },
  {
   "cell_type": "code",
   "execution_count": 401,
   "id": "f80668fd",
   "metadata": {},
   "outputs": [
    {
     "name": "stdout",
     "output_type": "stream",
     "text": [
      "Add called\n"
     ]
    }
   ],
   "source": [
    "# Example 401 - Operator Overloading\n",
    "class Demo:\n",
    "    def __add__(self, other):\n",
    "        return 'Add called'\n",
    "print(Demo() + Demo())"
   ]
  },
  {
   "cell_type": "code",
   "execution_count": 402,
   "id": "22bb29f6",
   "metadata": {},
   "outputs": [
    {
     "name": "stdout",
     "output_type": "stream",
     "text": [
      "Add called\n"
     ]
    }
   ],
   "source": [
    "# Example 402 - Operator Overloading\n",
    "class Demo:\n",
    "    def __add__(self, other):\n",
    "        return 'Add called'\n",
    "print(Demo() + Demo())"
   ]
  },
  {
   "cell_type": "code",
   "execution_count": 403,
   "id": "dd39a2d7",
   "metadata": {},
   "outputs": [
    {
     "name": "stdout",
     "output_type": "stream",
     "text": [
      "Add called\n"
     ]
    }
   ],
   "source": [
    "# Example 403 - Operator Overloading\n",
    "class Demo:\n",
    "    def __add__(self, other):\n",
    "        return 'Add called'\n",
    "print(Demo() + Demo())"
   ]
  },
  {
   "cell_type": "code",
   "execution_count": 404,
   "id": "194ebbd0",
   "metadata": {},
   "outputs": [
    {
     "name": "stdout",
     "output_type": "stream",
     "text": [
      "Add called\n"
     ]
    }
   ],
   "source": [
    "# Example 404 - Operator Overloading\n",
    "class Demo:\n",
    "    def __add__(self, other):\n",
    "        return 'Add called'\n",
    "print(Demo() + Demo())"
   ]
  },
  {
   "cell_type": "code",
   "execution_count": 405,
   "id": "b92310a2",
   "metadata": {},
   "outputs": [
    {
     "name": "stdout",
     "output_type": "stream",
     "text": [
      "Add called\n"
     ]
    }
   ],
   "source": [
    "# Example 405 - Operator Overloading\n",
    "class Demo:\n",
    "    def __add__(self, other):\n",
    "        return 'Add called'\n",
    "print(Demo() + Demo())"
   ]
  },
  {
   "cell_type": "code",
   "execution_count": 406,
   "id": "583ad003",
   "metadata": {},
   "outputs": [
    {
     "name": "stdout",
     "output_type": "stream",
     "text": [
      "Add called\n"
     ]
    }
   ],
   "source": [
    "# Example 406 - Operator Overloading\n",
    "class Demo:\n",
    "    def __add__(self, other):\n",
    "        return 'Add called'\n",
    "print(Demo() + Demo())"
   ]
  },
  {
   "cell_type": "code",
   "execution_count": 407,
   "id": "94b47a8b",
   "metadata": {},
   "outputs": [
    {
     "name": "stdout",
     "output_type": "stream",
     "text": [
      "Add called\n"
     ]
    }
   ],
   "source": [
    "# Example 407 - Operator Overloading\n",
    "class Demo:\n",
    "    def __add__(self, other):\n",
    "        return 'Add called'\n",
    "print(Demo() + Demo())"
   ]
  },
  {
   "cell_type": "code",
   "execution_count": 408,
   "id": "b690ee5f",
   "metadata": {},
   "outputs": [
    {
     "name": "stdout",
     "output_type": "stream",
     "text": [
      "Add called\n"
     ]
    }
   ],
   "source": [
    "# Example 408 - Operator Overloading\n",
    "class Demo:\n",
    "    def __add__(self, other):\n",
    "        return 'Add called'\n",
    "print(Demo() + Demo())"
   ]
  },
  {
   "cell_type": "code",
   "execution_count": 409,
   "id": "b18a6c62",
   "metadata": {},
   "outputs": [
    {
     "name": "stdout",
     "output_type": "stream",
     "text": [
      "Add called\n"
     ]
    }
   ],
   "source": [
    "# Example 409 - Operator Overloading\n",
    "class Demo:\n",
    "    def __add__(self, other):\n",
    "        return 'Add called'\n",
    "print(Demo() + Demo())"
   ]
  },
  {
   "cell_type": "code",
   "execution_count": 410,
   "id": "0651d93e",
   "metadata": {},
   "outputs": [
    {
     "name": "stdout",
     "output_type": "stream",
     "text": [
      "Add called\n"
     ]
    }
   ],
   "source": [
    "# Example 410 - Operator Overloading\n",
    "class Demo:\n",
    "    def __add__(self, other):\n",
    "        return 'Add called'\n",
    "print(Demo() + Demo())"
   ]
  },
  {
   "cell_type": "code",
   "execution_count": 411,
   "id": "01182667",
   "metadata": {},
   "outputs": [
    {
     "name": "stdout",
     "output_type": "stream",
     "text": [
      "Add called\n"
     ]
    }
   ],
   "source": [
    "# Example 411 - Operator Overloading\n",
    "class Demo:\n",
    "    def __add__(self, other):\n",
    "        return 'Add called'\n",
    "print(Demo() + Demo())"
   ]
  },
  {
   "cell_type": "code",
   "execution_count": 412,
   "id": "4867a901",
   "metadata": {},
   "outputs": [
    {
     "name": "stdout",
     "output_type": "stream",
     "text": [
      "Add called\n"
     ]
    }
   ],
   "source": [
    "# Example 412 - Operator Overloading\n",
    "class Demo:\n",
    "    def __add__(self, other):\n",
    "        return 'Add called'\n",
    "print(Demo() + Demo())"
   ]
  },
  {
   "cell_type": "code",
   "execution_count": 413,
   "id": "a34b8cd9",
   "metadata": {},
   "outputs": [
    {
     "name": "stdout",
     "output_type": "stream",
     "text": [
      "Add called\n"
     ]
    }
   ],
   "source": [
    "# Example 413 - Operator Overloading\n",
    "class Demo:\n",
    "    def __add__(self, other):\n",
    "        return 'Add called'\n",
    "print(Demo() + Demo())"
   ]
  },
  {
   "cell_type": "code",
   "execution_count": 414,
   "id": "bc2579d0",
   "metadata": {},
   "outputs": [
    {
     "name": "stdout",
     "output_type": "stream",
     "text": [
      "Add called\n"
     ]
    }
   ],
   "source": [
    "# Example 414 - Operator Overloading\n",
    "class Demo:\n",
    "    def __add__(self, other):\n",
    "        return 'Add called'\n",
    "print(Demo() + Demo())"
   ]
  },
  {
   "cell_type": "code",
   "execution_count": 415,
   "id": "5cbf15ed",
   "metadata": {},
   "outputs": [
    {
     "name": "stdout",
     "output_type": "stream",
     "text": [
      "Add called\n"
     ]
    }
   ],
   "source": [
    "# Example 415 - Operator Overloading\n",
    "class Demo:\n",
    "    def __add__(self, other):\n",
    "        return 'Add called'\n",
    "print(Demo() + Demo())"
   ]
  },
  {
   "cell_type": "code",
   "execution_count": 416,
   "id": "7857045b",
   "metadata": {},
   "outputs": [
    {
     "name": "stdout",
     "output_type": "stream",
     "text": [
      "Add called\n"
     ]
    }
   ],
   "source": [
    "# Example 416 - Operator Overloading\n",
    "class Demo:\n",
    "    def __add__(self, other):\n",
    "        return 'Add called'\n",
    "print(Demo() + Demo())"
   ]
  },
  {
   "cell_type": "code",
   "execution_count": 417,
   "id": "539e8e91",
   "metadata": {},
   "outputs": [
    {
     "name": "stdout",
     "output_type": "stream",
     "text": [
      "Add called\n"
     ]
    }
   ],
   "source": [
    "# Example 417 - Operator Overloading\n",
    "class Demo:\n",
    "    def __add__(self, other):\n",
    "        return 'Add called'\n",
    "print(Demo() + Demo())"
   ]
  },
  {
   "cell_type": "code",
   "execution_count": 418,
   "id": "afc80983",
   "metadata": {},
   "outputs": [
    {
     "name": "stdout",
     "output_type": "stream",
     "text": [
      "Add called\n"
     ]
    }
   ],
   "source": [
    "# Example 418 - Operator Overloading\n",
    "class Demo:\n",
    "    def __add__(self, other):\n",
    "        return 'Add called'\n",
    "print(Demo() + Demo())"
   ]
  },
  {
   "cell_type": "code",
   "execution_count": 419,
   "id": "a325b81b",
   "metadata": {},
   "outputs": [
    {
     "name": "stdout",
     "output_type": "stream",
     "text": [
      "Add called\n"
     ]
    }
   ],
   "source": [
    "# Example 419 - Operator Overloading\n",
    "class Demo:\n",
    "    def __add__(self, other):\n",
    "        return 'Add called'\n",
    "print(Demo() + Demo())"
   ]
  },
  {
   "cell_type": "code",
   "execution_count": 420,
   "id": "67a8f523",
   "metadata": {},
   "outputs": [
    {
     "name": "stdout",
     "output_type": "stream",
     "text": [
      "Add called\n"
     ]
    }
   ],
   "source": [
    "# Example 420 - Operator Overloading\n",
    "class Demo:\n",
    "    def __add__(self, other):\n",
    "        return 'Add called'\n",
    "print(Demo() + Demo())"
   ]
  },
  {
   "cell_type": "code",
   "execution_count": 421,
   "id": "b713fc83",
   "metadata": {},
   "outputs": [
    {
     "name": "stdout",
     "output_type": "stream",
     "text": [
      "Add called\n"
     ]
    }
   ],
   "source": [
    "# Example 421 - Operator Overloading\n",
    "class Demo:\n",
    "    def __add__(self, other):\n",
    "        return 'Add called'\n",
    "print(Demo() + Demo())"
   ]
  },
  {
   "cell_type": "code",
   "execution_count": 422,
   "id": "1721e793",
   "metadata": {},
   "outputs": [
    {
     "name": "stdout",
     "output_type": "stream",
     "text": [
      "Add called\n"
     ]
    }
   ],
   "source": [
    "# Example 422 - Operator Overloading\n",
    "class Demo:\n",
    "    def __add__(self, other):\n",
    "        return 'Add called'\n",
    "print(Demo() + Demo())"
   ]
  },
  {
   "cell_type": "code",
   "execution_count": 423,
   "id": "082c15de",
   "metadata": {},
   "outputs": [
    {
     "name": "stdout",
     "output_type": "stream",
     "text": [
      "Add called\n"
     ]
    }
   ],
   "source": [
    "# Example 423 - Operator Overloading\n",
    "class Demo:\n",
    "    def __add__(self, other):\n",
    "        return 'Add called'\n",
    "print(Demo() + Demo())"
   ]
  },
  {
   "cell_type": "code",
   "execution_count": 424,
   "id": "cecc5baa",
   "metadata": {},
   "outputs": [
    {
     "name": "stdout",
     "output_type": "stream",
     "text": [
      "Add called\n"
     ]
    }
   ],
   "source": [
    "# Example 424 - Operator Overloading\n",
    "class Demo:\n",
    "    def __add__(self, other):\n",
    "        return 'Add called'\n",
    "print(Demo() + Demo())"
   ]
  },
  {
   "cell_type": "code",
   "execution_count": 425,
   "id": "7f3fd9f3",
   "metadata": {},
   "outputs": [
    {
     "name": "stdout",
     "output_type": "stream",
     "text": [
      "Add called\n"
     ]
    }
   ],
   "source": [
    "# Example 425 - Operator Overloading\n",
    "class Demo:\n",
    "    def __add__(self, other):\n",
    "        return 'Add called'\n",
    "print(Demo() + Demo())"
   ]
  },
  {
   "cell_type": "code",
   "execution_count": 426,
   "id": "fe9be7b8",
   "metadata": {},
   "outputs": [
    {
     "name": "stdout",
     "output_type": "stream",
     "text": [
      "Add called\n"
     ]
    }
   ],
   "source": [
    "# Example 426 - Operator Overloading\n",
    "class Demo:\n",
    "    def __add__(self, other):\n",
    "        return 'Add called'\n",
    "print(Demo() + Demo())"
   ]
  },
  {
   "cell_type": "code",
   "execution_count": 427,
   "id": "955d4d3e",
   "metadata": {},
   "outputs": [
    {
     "name": "stdout",
     "output_type": "stream",
     "text": [
      "Add called\n"
     ]
    }
   ],
   "source": [
    "# Example 427 - Operator Overloading\n",
    "class Demo:\n",
    "    def __add__(self, other):\n",
    "        return 'Add called'\n",
    "print(Demo() + Demo())"
   ]
  },
  {
   "cell_type": "code",
   "execution_count": 428,
   "id": "4de1ec45",
   "metadata": {},
   "outputs": [
    {
     "name": "stdout",
     "output_type": "stream",
     "text": [
      "Add called\n"
     ]
    }
   ],
   "source": [
    "# Example 428 - Operator Overloading\n",
    "class Demo:\n",
    "    def __add__(self, other):\n",
    "        return 'Add called'\n",
    "print(Demo() + Demo())"
   ]
  },
  {
   "cell_type": "code",
   "execution_count": 429,
   "id": "0a0a0dde",
   "metadata": {},
   "outputs": [
    {
     "name": "stdout",
     "output_type": "stream",
     "text": [
      "Add called\n"
     ]
    }
   ],
   "source": [
    "# Example 429 - Operator Overloading\n",
    "class Demo:\n",
    "    def __add__(self, other):\n",
    "        return 'Add called'\n",
    "print(Demo() + Demo())"
   ]
  },
  {
   "cell_type": "code",
   "execution_count": 430,
   "id": "31e61145",
   "metadata": {},
   "outputs": [
    {
     "name": "stdout",
     "output_type": "stream",
     "text": [
      "Add called\n"
     ]
    }
   ],
   "source": [
    "# Example 430 - Operator Overloading\n",
    "class Demo:\n",
    "    def __add__(self, other):\n",
    "        return 'Add called'\n",
    "print(Demo() + Demo())"
   ]
  },
  {
   "cell_type": "code",
   "execution_count": 431,
   "id": "ca368d9c",
   "metadata": {},
   "outputs": [
    {
     "name": "stdout",
     "output_type": "stream",
     "text": [
      "Add called\n"
     ]
    }
   ],
   "source": [
    "# Example 431 - Operator Overloading\n",
    "class Demo:\n",
    "    def __add__(self, other):\n",
    "        return 'Add called'\n",
    "print(Demo() + Demo())"
   ]
  },
  {
   "cell_type": "code",
   "execution_count": 432,
   "id": "a183ded5",
   "metadata": {},
   "outputs": [
    {
     "name": "stdout",
     "output_type": "stream",
     "text": [
      "Add called\n"
     ]
    }
   ],
   "source": [
    "# Example 432 - Operator Overloading\n",
    "class Demo:\n",
    "    def __add__(self, other):\n",
    "        return 'Add called'\n",
    "print(Demo() + Demo())"
   ]
  },
  {
   "cell_type": "code",
   "execution_count": 433,
   "id": "5c371c6a",
   "metadata": {},
   "outputs": [
    {
     "name": "stdout",
     "output_type": "stream",
     "text": [
      "Add called\n"
     ]
    }
   ],
   "source": [
    "# Example 433 - Operator Overloading\n",
    "class Demo:\n",
    "    def __add__(self, other):\n",
    "        return 'Add called'\n",
    "print(Demo() + Demo())"
   ]
  },
  {
   "cell_type": "code",
   "execution_count": 434,
   "id": "b88b37f2",
   "metadata": {},
   "outputs": [
    {
     "name": "stdout",
     "output_type": "stream",
     "text": [
      "Add called\n"
     ]
    }
   ],
   "source": [
    "# Example 434 - Operator Overloading\n",
    "class Demo:\n",
    "    def __add__(self, other):\n",
    "        return 'Add called'\n",
    "print(Demo() + Demo())"
   ]
  },
  {
   "cell_type": "code",
   "execution_count": 435,
   "id": "b663c1e1",
   "metadata": {},
   "outputs": [
    {
     "name": "stdout",
     "output_type": "stream",
     "text": [
      "Add called\n"
     ]
    }
   ],
   "source": [
    "# Example 435 - Operator Overloading\n",
    "class Demo:\n",
    "    def __add__(self, other):\n",
    "        return 'Add called'\n",
    "print(Demo() + Demo())"
   ]
  },
  {
   "cell_type": "code",
   "execution_count": 436,
   "id": "2ab6f048",
   "metadata": {},
   "outputs": [
    {
     "name": "stdout",
     "output_type": "stream",
     "text": [
      "Add called\n"
     ]
    }
   ],
   "source": [
    "# Example 436 - Operator Overloading\n",
    "class Demo:\n",
    "    def __add__(self, other):\n",
    "        return 'Add called'\n",
    "print(Demo() + Demo())"
   ]
  },
  {
   "cell_type": "code",
   "execution_count": 437,
   "id": "c94b0ff6",
   "metadata": {},
   "outputs": [
    {
     "name": "stdout",
     "output_type": "stream",
     "text": [
      "Add called\n"
     ]
    }
   ],
   "source": [
    "# Example 437 - Operator Overloading\n",
    "class Demo:\n",
    "    def __add__(self, other):\n",
    "        return 'Add called'\n",
    "print(Demo() + Demo())"
   ]
  },
  {
   "cell_type": "code",
   "execution_count": 438,
   "id": "347c8487",
   "metadata": {},
   "outputs": [
    {
     "name": "stdout",
     "output_type": "stream",
     "text": [
      "Add called\n"
     ]
    }
   ],
   "source": [
    "# Example 438 - Operator Overloading\n",
    "class Demo:\n",
    "    def __add__(self, other):\n",
    "        return 'Add called'\n",
    "print(Demo() + Demo())"
   ]
  },
  {
   "cell_type": "code",
   "execution_count": 439,
   "id": "a2428341",
   "metadata": {},
   "outputs": [
    {
     "name": "stdout",
     "output_type": "stream",
     "text": [
      "Add called\n"
     ]
    }
   ],
   "source": [
    "# Example 439 - Operator Overloading\n",
    "class Demo:\n",
    "    def __add__(self, other):\n",
    "        return 'Add called'\n",
    "print(Demo() + Demo())"
   ]
  },
  {
   "cell_type": "code",
   "execution_count": 440,
   "id": "0c5b1adb",
   "metadata": {},
   "outputs": [
    {
     "name": "stdout",
     "output_type": "stream",
     "text": [
      "Add called\n"
     ]
    }
   ],
   "source": [
    "# Example 440 - Operator Overloading\n",
    "class Demo:\n",
    "    def __add__(self, other):\n",
    "        return 'Add called'\n",
    "print(Demo() + Demo())"
   ]
  },
  {
   "cell_type": "code",
   "execution_count": 441,
   "id": "e9178e54",
   "metadata": {},
   "outputs": [
    {
     "name": "stdout",
     "output_type": "stream",
     "text": [
      "Add called\n"
     ]
    }
   ],
   "source": [
    "# Example 441 - Operator Overloading\n",
    "class Demo:\n",
    "    def __add__(self, other):\n",
    "        return 'Add called'\n",
    "print(Demo() + Demo())"
   ]
  },
  {
   "cell_type": "code",
   "execution_count": 442,
   "id": "a9747dba",
   "metadata": {},
   "outputs": [
    {
     "name": "stdout",
     "output_type": "stream",
     "text": [
      "Add called\n"
     ]
    }
   ],
   "source": [
    "# Example 442 - Operator Overloading\n",
    "class Demo:\n",
    "    def __add__(self, other):\n",
    "        return 'Add called'\n",
    "print(Demo() + Demo())"
   ]
  },
  {
   "cell_type": "code",
   "execution_count": 502,
   "id": "b713f8b3",
   "metadata": {},
   "outputs": [
    {
     "name": "stdout",
     "output_type": "stream",
     "text": [
      "Add called\n"
     ]
    }
   ],
   "source": [
    "# Example 443 - Operator Overloading\n",
    "class Demo:\n",
    "    def __add__(self, other):\n",
    "        return 'Add called'\n",
    "print(Demo() + Demo())\n",
    "\n",
    "\n"
   ]
  },
  {
   "cell_type": "code",
   "execution_count": 444,
   "id": "eb655f96",
   "metadata": {},
   "outputs": [
    {
     "name": "stdout",
     "output_type": "stream",
     "text": [
      "Add called\n"
     ]
    }
   ],
   "source": [
    "# Example 444 - Operator Overloading\n",
    "class Demo:\n",
    "    def __add__(self, other):\n",
    "        return 'Add called'\n",
    "print(Demo() + Demo())"
   ]
  },
  {
   "cell_type": "code",
   "execution_count": 445,
   "id": "de942155",
   "metadata": {},
   "outputs": [
    {
     "name": "stdout",
     "output_type": "stream",
     "text": [
      "Add called\n"
     ]
    }
   ],
   "source": [
    "# Example 445 - Operator Overloading\n",
    "class Demo:\n",
    "    def __add__(self, other):\n",
    "        return 'Add called'\n",
    "print(Demo() + Demo())"
   ]
  },
  {
   "cell_type": "code",
   "execution_count": 446,
   "id": "e410e4eb",
   "metadata": {},
   "outputs": [
    {
     "name": "stdout",
     "output_type": "stream",
     "text": [
      "Add called\n"
     ]
    }
   ],
   "source": [
    "# Example 446 - Operator Overloading\n",
    "class Demo:\n",
    "    def __add__(self, other):\n",
    "        return 'Add called'\n",
    "print(Demo() + Demo())"
   ]
  },
  {
   "cell_type": "code",
   "execution_count": 447,
   "id": "1d7567ff",
   "metadata": {},
   "outputs": [
    {
     "name": "stdout",
     "output_type": "stream",
     "text": [
      "Add called\n"
     ]
    }
   ],
   "source": [
    "# Example 447 - Operator Overloading\n",
    "class Demo:\n",
    "    def __add__(self, other):\n",
    "        return 'Add called'\n",
    "print(Demo() + Demo())"
   ]
  },
  {
   "cell_type": "code",
   "execution_count": 448,
   "id": "895f9e25",
   "metadata": {},
   "outputs": [
    {
     "name": "stdout",
     "output_type": "stream",
     "text": [
      "Add called\n"
     ]
    }
   ],
   "source": [
    "# Example 448 - Operator Overloading\n",
    "class Demo:\n",
    "    def __add__(self, other):\n",
    "        return 'Add called'\n",
    "print(Demo() + Demo())"
   ]
  },
  {
   "cell_type": "code",
   "execution_count": 449,
   "id": "d9483444",
   "metadata": {},
   "outputs": [
    {
     "name": "stdout",
     "output_type": "stream",
     "text": [
      "Add called\n"
     ]
    }
   ],
   "source": [
    "# Example 449 - Operator Overloading\n",
    "class Demo:\n",
    "    def __add__(self, other):\n",
    "        return 'Add called'\n",
    "print(Demo() + Demo())"
   ]
  },
  {
   "cell_type": "code",
   "execution_count": 450,
   "id": "86bcff82",
   "metadata": {},
   "outputs": [
    {
     "name": "stdout",
     "output_type": "stream",
     "text": [
      "Add called\n"
     ]
    }
   ],
   "source": [
    "# Example 450 - Operator Overloading\n",
    "class Demo:\n",
    "    def __add__(self, other):\n",
    "        return 'Add called'\n",
    "print(Demo() + Demo())"
   ]
  },
  {
   "cell_type": "code",
   "execution_count": 451,
   "id": "5ed421c7",
   "metadata": {},
   "outputs": [
    {
     "name": "stdout",
     "output_type": "stream",
     "text": [
      "100.0\n"
     ]
    }
   ],
   "source": [
    "# Example 451 - Real-world Examples\n",
    "price = 100\n",
    "discount = 0\n",
    "final_price = price - (price * discount / 100)\n",
    "print(final_price)"
   ]
  },
  {
   "cell_type": "code",
   "execution_count": 452,
   "id": "ee234690",
   "metadata": {},
   "outputs": [
    {
     "name": "stdout",
     "output_type": "stream",
     "text": [
      "99.0\n"
     ]
    }
   ],
   "source": [
    "# Example 452 - Real-world Examples\n",
    "price = 100\n",
    "discount = 1\n",
    "final_price = price - (price * discount / 100)\n",
    "print(final_price)"
   ]
  },
  {
   "cell_type": "code",
   "execution_count": 453,
   "id": "87ca7250",
   "metadata": {},
   "outputs": [
    {
     "name": "stdout",
     "output_type": "stream",
     "text": [
      "98.0\n"
     ]
    }
   ],
   "source": [
    "# Example 453 - Real-world Examples\n",
    "price = 100\n",
    "discount = 2\n",
    "final_price = price - (price * discount / 100)\n",
    "print(final_price)"
   ]
  },
  {
   "cell_type": "code",
   "execution_count": 454,
   "id": "7ae4f91f",
   "metadata": {},
   "outputs": [
    {
     "name": "stdout",
     "output_type": "stream",
     "text": [
      "97.0\n"
     ]
    }
   ],
   "source": [
    "# Example 454 - Real-world Examples\n",
    "price = 100\n",
    "discount = 3\n",
    "final_price = price - (price * discount / 100)\n",
    "print(final_price)"
   ]
  },
  {
   "cell_type": "code",
   "execution_count": 455,
   "id": "a9bec191",
   "metadata": {},
   "outputs": [
    {
     "name": "stdout",
     "output_type": "stream",
     "text": [
      "96.0\n"
     ]
    }
   ],
   "source": [
    "# Example 455 - Real-world Examples\n",
    "price = 100\n",
    "discount = 4\n",
    "final_price = price - (price * discount / 100)\n",
    "print(final_price)"
   ]
  },
  {
   "cell_type": "code",
   "execution_count": 456,
   "id": "424d40bf",
   "metadata": {},
   "outputs": [
    {
     "name": "stdout",
     "output_type": "stream",
     "text": [
      "95.0\n"
     ]
    }
   ],
   "source": [
    "# Example 456 - Real-world Examples\n",
    "price = 100\n",
    "discount = 5\n",
    "final_price = price - (price * discount / 100)\n",
    "print(final_price)"
   ]
  },
  {
   "cell_type": "code",
   "execution_count": 501,
   "id": "d43992d8",
   "metadata": {},
   "outputs": [
    {
     "name": "stdout",
     "output_type": "stream",
     "text": [
      "94.0\n"
     ]
    }
   ],
   "source": [
    "# Example 457 - Real-world Examples\n",
    "price = 100\n",
    "discount = 6\n",
    "final_price = price - (price * discount / 100)\n",
    "print(final_price)\n",
    "\n",
    "\n",
    "\n"
   ]
  },
  {
   "cell_type": "code",
   "execution_count": 458,
   "id": "b869f797",
   "metadata": {},
   "outputs": [
    {
     "name": "stdout",
     "output_type": "stream",
     "text": [
      "93.0\n"
     ]
    }
   ],
   "source": [
    "# Example 458 - Real-world Examples\n",
    "price = 100\n",
    "discount = 7\n",
    "final_price = price - (price * discount / 100)\n",
    "print(final_price)"
   ]
  },
  {
   "cell_type": "code",
   "execution_count": 459,
   "id": "770e9ae6",
   "metadata": {},
   "outputs": [
    {
     "name": "stdout",
     "output_type": "stream",
     "text": [
      "92.0\n"
     ]
    }
   ],
   "source": [
    "# Example 459 - Real-world Examples\n",
    "price = 100\n",
    "discount = 8\n",
    "final_price = price - (price * discount / 100)\n",
    "print(final_price)"
   ]
  },
  {
   "cell_type": "code",
   "execution_count": 460,
   "id": "06b8f1b9",
   "metadata": {},
   "outputs": [
    {
     "name": "stdout",
     "output_type": "stream",
     "text": [
      "91.0\n"
     ]
    }
   ],
   "source": [
    "# Example 460 - Real-world Examples\n",
    "price = 100\n",
    "discount = 9\n",
    "final_price = price - (price * discount / 100)\n",
    "print(final_price)"
   ]
  },
  {
   "cell_type": "code",
   "execution_count": 461,
   "id": "ae2ea07e",
   "metadata": {},
   "outputs": [
    {
     "name": "stdout",
     "output_type": "stream",
     "text": [
      "90.0\n"
     ]
    }
   ],
   "source": [
    "# Example 461 - Real-world Examples\n",
    "price = 100\n",
    "discount = 10\n",
    "final_price = price - (price * discount / 100)\n",
    "print(final_price)"
   ]
  },
  {
   "cell_type": "code",
   "execution_count": 462,
   "id": "6c1ad189",
   "metadata": {},
   "outputs": [
    {
     "name": "stdout",
     "output_type": "stream",
     "text": [
      "89.0\n"
     ]
    }
   ],
   "source": [
    "# Example 462 - Real-world Examples\n",
    "price = 100\n",
    "discount = 11\n",
    "final_price = price - (price * discount / 100)\n",
    "print(final_price)"
   ]
  },
  {
   "cell_type": "code",
   "execution_count": 463,
   "id": "843a2adb",
   "metadata": {},
   "outputs": [
    {
     "name": "stdout",
     "output_type": "stream",
     "text": [
      "88.0\n"
     ]
    }
   ],
   "source": [
    "# Example 463 - Real-world Examples\n",
    "price = 100\n",
    "discount = 12\n",
    "final_price = price - (price * discount / 100)\n",
    "print(final_price)"
   ]
  },
  {
   "cell_type": "code",
   "execution_count": 464,
   "id": "1d11c2b0",
   "metadata": {},
   "outputs": [
    {
     "name": "stdout",
     "output_type": "stream",
     "text": [
      "87.0\n"
     ]
    }
   ],
   "source": [
    "# Example 464 - Real-world Examples\n",
    "price = 100\n",
    "discount = 13\n",
    "final_price = price - (price * discount / 100)\n",
    "print(final_price)\n",
    "\n",
    "\n",
    "\n"
   ]
  },
  {
   "cell_type": "code",
   "execution_count": 465,
   "id": "7f9fc6ee",
   "metadata": {},
   "outputs": [
    {
     "name": "stdout",
     "output_type": "stream",
     "text": [
      "86.0\n"
     ]
    }
   ],
   "source": [
    "# Example 465 - Real-world Examples\n",
    "price = 100\n",
    "discount = 14\n",
    "final_price = price - (price * discount / 100)\n",
    "print(final_price)"
   ]
  },
  {
   "cell_type": "code",
   "execution_count": 466,
   "id": "16475dce",
   "metadata": {},
   "outputs": [
    {
     "name": "stdout",
     "output_type": "stream",
     "text": [
      "85.0\n"
     ]
    }
   ],
   "source": [
    "# Example 466 - Real-world Examples\n",
    "price = 100\n",
    "discount = 15\n",
    "final_price = price - (price * discount / 100)\n",
    "print(final_price)"
   ]
  },
  {
   "cell_type": "code",
   "execution_count": 467,
   "id": "48e4b568",
   "metadata": {},
   "outputs": [
    {
     "name": "stdout",
     "output_type": "stream",
     "text": [
      "84.0\n"
     ]
    }
   ],
   "source": [
    "# Example 467 - Real-world Examples\n",
    "price = 100\n",
    "discount = 16\n",
    "final_price = price - (price * discount / 100)\n",
    "print(final_price)"
   ]
  },
  {
   "cell_type": "code",
   "execution_count": 468,
   "id": "b9515fcc",
   "metadata": {},
   "outputs": [
    {
     "name": "stdout",
     "output_type": "stream",
     "text": [
      "83.0\n"
     ]
    }
   ],
   "source": [
    "# Example 468 - Real-world Examples\n",
    "price = 100\n",
    "discount = 17\n",
    "final_price = price - (price * discount / 100)\n",
    "print(final_price)"
   ]
  },
  {
   "cell_type": "code",
   "execution_count": 469,
   "id": "0f4ee995",
   "metadata": {},
   "outputs": [
    {
     "name": "stdout",
     "output_type": "stream",
     "text": [
      "82.0\n"
     ]
    }
   ],
   "source": [
    "# Example 469 - Real-world Examples\n",
    "price = 100\n",
    "discount = 18\n",
    "final_price = price - (price * discount / 100)\n",
    "print(final_price)"
   ]
  },
  {
   "cell_type": "code",
   "execution_count": 470,
   "id": "7fb278ac",
   "metadata": {},
   "outputs": [
    {
     "name": "stdout",
     "output_type": "stream",
     "text": [
      "81.0\n"
     ]
    }
   ],
   "source": [
    "# Example 470 - Real-world Examples\n",
    "price = 100\n",
    "discount = 19\n",
    "final_price = price - (price * discount / 100)\n",
    "print(final_price)"
   ]
  },
  {
   "cell_type": "code",
   "execution_count": 471,
   "id": "1c69f451",
   "metadata": {},
   "outputs": [
    {
     "name": "stdout",
     "output_type": "stream",
     "text": [
      "80.0\n"
     ]
    }
   ],
   "source": [
    "# Example 471 - Real-world Examples\n",
    "price = 100\n",
    "discount = 20\n",
    "final_price = price - (price * discount / 100)\n",
    "print(final_price)"
   ]
  },
  {
   "cell_type": "code",
   "execution_count": 472,
   "id": "a89d5903",
   "metadata": {},
   "outputs": [
    {
     "name": "stdout",
     "output_type": "stream",
     "text": [
      "79.0\n"
     ]
    }
   ],
   "source": [
    "# Example 472 - Real-world Examples\n",
    "\n",
    "\n",
    "price = 100\n",
    "discount = 21\n",
    "final_price = price - (price * discount / 100)\n",
    "print(final_price)"
   ]
  },
  {
   "cell_type": "code",
   "execution_count": 473,
   "id": "a542d6f6",
   "metadata": {},
   "outputs": [
    {
     "name": "stdout",
     "output_type": "stream",
     "text": [
      "78.0\n"
     ]
    }
   ],
   "source": [
    "# Example 473 - Real-world Examples\n",
    "price = 100\n",
    "discount = 22\n",
    "final_price = price - (price * discount / 100)\n",
    "print(final_price)"
   ]
  },
  {
   "cell_type": "code",
   "execution_count": 474,
   "id": "03495e9a",
   "metadata": {},
   "outputs": [
    {
     "name": "stdout",
     "output_type": "stream",
     "text": [
      "77.0\n"
     ]
    }
   ],
   "source": [
    "# Example 474 - Real-world Examples\n",
    "price = 100\n",
    "discount = 23\n",
    "final_price = price - (price * discount / 100)\n",
    "print(final_price)"
   ]
  },
  {
   "cell_type": "code",
   "execution_count": 475,
   "id": "7c2077bc",
   "metadata": {},
   "outputs": [
    {
     "name": "stdout",
     "output_type": "stream",
     "text": [
      "76.0\n"
     ]
    }
   ],
   "source": [
    "# Example 475 - Real-world Examples\n",
    "price = 100\n",
    "discount = 24\n",
    "final_price = price - (price * discount / 100)\n",
    "print(final_price)"
   ]
  },
  {
   "cell_type": "code",
   "execution_count": 476,
   "id": "0c0e644b",
   "metadata": {},
   "outputs": [
    {
     "name": "stdout",
     "output_type": "stream",
     "text": [
      "75.0\n"
     ]
    }
   ],
   "source": [
    "# Example 476 - Real-world Examples\n",
    "price = 100\n",
    "discount = 25\n",
    "final_price = price - (price * discount / 100)\n",
    "print(final_price)"
   ]
  },
  {
   "cell_type": "code",
   "execution_count": 477,
   "id": "25dd34a0",
   "metadata": {},
   "outputs": [
    {
     "name": "stdout",
     "output_type": "stream",
     "text": [
      "74.0\n"
     ]
    }
   ],
   "source": [
    "# Example 477 - Real-world Examples\n",
    "price = 100\n",
    "discount = 26\n",
    "final_price = price - (price * discount / 100)\n",
    "print(final_price)"
   ]
  },
  {
   "cell_type": "code",
   "execution_count": 478,
   "id": "bdd8782d",
   "metadata": {},
   "outputs": [
    {
     "name": "stdout",
     "output_type": "stream",
     "text": [
      "73.0\n"
     ]
    }
   ],
   "source": [
    "# Example 478 - Real-world Examples\n",
    "price = 100\n",
    "discount = 27\n",
    "final_price = price - (price * discount / 100)\n",
    "print(final_price)"
   ]
  },
  {
   "cell_type": "code",
   "execution_count": 479,
   "id": "16ee044c",
   "metadata": {},
   "outputs": [
    {
     "name": "stdout",
     "output_type": "stream",
     "text": [
      "72.0\n"
     ]
    }
   ],
   "source": [
    "# Example 479 - Real-world Examples\n",
    "price = 100\n",
    "discount = 28\n",
    "final_price = price - (price * discount / 100)\n",
    "print(final_price)"
   ]
  },
  {
   "cell_type": "code",
   "execution_count": 480,
   "id": "2995da29",
   "metadata": {},
   "outputs": [
    {
     "name": "stdout",
     "output_type": "stream",
     "text": [
      "71.0\n"
     ]
    }
   ],
   "source": [
    "# Example 480 - Real-world Examples\n",
    "price = 100\n",
    "discount = 29\n",
    "final_price = price - (price * discount / 100)\n",
    "print(final_price)"
   ]
  },
  {
   "cell_type": "code",
   "execution_count": 481,
   "id": "c4825996",
   "metadata": {},
   "outputs": [
    {
     "name": "stdout",
     "output_type": "stream",
     "text": [
      "100.0\n"
     ]
    }
   ],
   "source": [
    "# Example 481 - Real-world Examples\n",
    "price = 100\n",
    "discount = 0\n",
    "final_price = price - (price * discount / 100)\n",
    "print(final_price)"
   ]
  },
  {
   "cell_type": "code",
   "execution_count": 482,
   "id": "ddc88cee",
   "metadata": {},
   "outputs": [
    {
     "name": "stdout",
     "output_type": "stream",
     "text": [
      "99.0\n"
     ]
    }
   ],
   "source": [
    "# Example 482 - Real-world Examples\n",
    "price = 100\n",
    "discount = 1\n",
    "final_price = price - (price * discount / 100)\n",
    "print(final_price)"
   ]
  },
  {
   "cell_type": "code",
   "execution_count": 483,
   "id": "f56a60fb",
   "metadata": {},
   "outputs": [
    {
     "name": "stdout",
     "output_type": "stream",
     "text": [
      "98.0\n"
     ]
    }
   ],
   "source": [
    "# Example 483 - Real-world Examples\n",
    "\n",
    "\n",
    "\n",
    "price = 100\n",
    "discount = 2\n",
    "final_price = price - (price * discount / 100)\n",
    "print(final_price)"
   ]
  },
  {
   "cell_type": "code",
   "execution_count": 484,
   "id": "933802cd",
   "metadata": {},
   "outputs": [
    {
     "name": "stdout",
     "output_type": "stream",
     "text": [
      "97.0\n"
     ]
    }
   ],
   "source": [
    "# Example 484 - Real-world Examples\n",
    "price = 100\n",
    "discount = 3\n",
    "final_price = price - (price * discount / 100)\n",
    "print(final_price)"
   ]
  },
  {
   "cell_type": "code",
   "execution_count": 485,
   "id": "edcf6c83",
   "metadata": {},
   "outputs": [
    {
     "name": "stdout",
     "output_type": "stream",
     "text": [
      "96.0\n"
     ]
    }
   ],
   "source": [
    "# Example 485 - Real-world Examples\n",
    "price = 100\n",
    "discount = 4\n",
    "final_price = price - (price * discount / 100)\n",
    "print(final_price)"
   ]
  },
  {
   "cell_type": "code",
   "execution_count": 486,
   "id": "c3b0cec2",
   "metadata": {},
   "outputs": [
    {
     "name": "stdout",
     "output_type": "stream",
     "text": [
      "95.0\n"
     ]
    }
   ],
   "source": [
    "# Example 486 - Real-world Examples\n",
    "price = 100\n",
    "discount = 5\n",
    "final_price = price - (price * discount / 100)\n",
    "print(final_price)"
   ]
  },
  {
   "cell_type": "code",
   "execution_count": 487,
   "id": "03c5c3c8",
   "metadata": {},
   "outputs": [
    {
     "name": "stdout",
     "output_type": "stream",
     "text": [
      "94.0\n"
     ]
    }
   ],
   "source": [
    "# Example 487 - Real-world Examples\n",
    "price = 100\n",
    "discount = 6\n",
    "final_price = price - (price * discount / 100)\n",
    "print(final_price)"
   ]
  },
  {
   "cell_type": "code",
   "execution_count": 488,
   "id": "46ed68ca",
   "metadata": {},
   "outputs": [
    {
     "name": "stdout",
     "output_type": "stream",
     "text": [
      "93.0\n"
     ]
    }
   ],
   "source": [
    "# Example 488 - Real-world Examples\n",
    "price = 100\n",
    "discount = 7\n",
    "final_price = price - (price * discount / 100)\n",
    "print(final_price)"
   ]
  },
  {
   "cell_type": "code",
   "execution_count": 489,
   "id": "bc3a28fb",
   "metadata": {},
   "outputs": [
    {
     "name": "stdout",
     "output_type": "stream",
     "text": [
      "92.0\n"
     ]
    }
   ],
   "source": [
    "# Example 489 - Real-world Examples\n",
    "price = 100\n",
    "discount = 8\n",
    "final_price = price - (price * discount / 100)\n",
    "print(final_price)"
   ]
  },
  {
   "cell_type": "code",
   "execution_count": 490,
   "id": "45eb9d35",
   "metadata": {},
   "outputs": [
    {
     "name": "stdout",
     "output_type": "stream",
     "text": [
      "91.0\n"
     ]
    }
   ],
   "source": [
    "# Example 490 - Real-world Examples\n",
    "price = 100\n",
    "discount = 9\n",
    "final_price = price - (price * discount / 100)\n",
    "print(final_price)"
   ]
  },
  {
   "cell_type": "code",
   "execution_count": 491,
   "id": "27098571",
   "metadata": {},
   "outputs": [
    {
     "name": "stdout",
     "output_type": "stream",
     "text": [
      "90.0\n"
     ]
    }
   ],
   "source": [
    "# Example 491 - Real-world Examples\n",
    "price = 100\n",
    "discount = 10\n",
    "final_price = price - (price * discount / 100)\n",
    "print(final_price)"
   ]
  },
  {
   "cell_type": "code",
   "execution_count": 492,
   "id": "c139cc51",
   "metadata": {},
   "outputs": [
    {
     "name": "stdout",
     "output_type": "stream",
     "text": [
      "89.0\n"
     ]
    }
   ],
   "source": [
    "# Example 492 - Real-world Examples\n",
    "price = 100\n",
    "discount = 11\n",
    "final_price = price - (price * discount / 100)\n",
    "print(final_price)"
   ]
  },
  {
   "cell_type": "code",
   "execution_count": 493,
   "id": "298539e4",
   "metadata": {},
   "outputs": [
    {
     "name": "stdout",
     "output_type": "stream",
     "text": [
      "88.0\n"
     ]
    }
   ],
   "source": [
    "# Example 493 - Real-world Examples\n",
    "price = 100\n",
    "discount = 12\n",
    "final_price = price - (price * discount / 100)\n",
    "print(final_price)"
   ]
  },
  {
   "cell_type": "code",
   "execution_count": 494,
   "id": "0cb4041d",
   "metadata": {},
   "outputs": [
    {
     "name": "stdout",
     "output_type": "stream",
     "text": [
      "87.0\n"
     ]
    }
   ],
   "source": [
    "# Example 494 - Real-world Examples\n",
    "price = 100\n",
    "discount = 13\n",
    "final_price = price - (price * discount / 100)\n",
    "print(final_price)"
   ]
  },
  {
   "cell_type": "code",
   "execution_count": 495,
   "id": "dcaa82f9",
   "metadata": {},
   "outputs": [
    {
     "name": "stdout",
     "output_type": "stream",
     "text": [
      "86.0\n"
     ]
    }
   ],
   "source": [
    "# Example 495 - Real-world Examples\n",
    "price = 100\n",
    "discount = 14\n",
    "final_price = price - (price * discount / 100)\n",
    "print(final_price)"
   ]
  },
  {
   "cell_type": "code",
   "execution_count": 496,
   "id": "a6bf321c",
   "metadata": {},
   "outputs": [
    {
     "name": "stdout",
     "output_type": "stream",
     "text": [
      "85.0\n"
     ]
    }
   ],
   "source": [
    "# Example 496 - Real-world Examples\n",
    "price = 100\n",
    "discount = 15\n",
    "final_price = price - (price * discount / 100)\n",
    "print(final_price)"
   ]
  },
  {
   "cell_type": "code",
   "execution_count": 497,
   "id": "af0fc4c4",
   "metadata": {},
   "outputs": [
    {
     "name": "stdout",
     "output_type": "stream",
     "text": [
      "84.0\n"
     ]
    }
   ],
   "source": [
    "# Example 497 - Real-world Examples\n",
    "price = 100\n",
    "discount = 16\n",
    "final_price = price - (price * discount / 100)\n",
    "print(final_price)"
   ]
  },
  {
   "cell_type": "code",
   "execution_count": 498,
   "id": "458304a3",
   "metadata": {},
   "outputs": [
    {
     "name": "stdout",
     "output_type": "stream",
     "text": [
      "83.0\n"
     ]
    }
   ],
   "source": [
    "# Example 498 - Real-world Examples\n",
    "price = 100\n",
    "discount = 17\n",
    "final_price = price - (price * discount / 100)\n",
    "print(final_price)"
   ]
  },
  {
   "cell_type": "code",
   "execution_count": 499,
   "id": "32b45b9d",
   "metadata": {},
   "outputs": [
    {
     "name": "stdout",
     "output_type": "stream",
     "text": [
      "82.0\n"
     ]
    }
   ],
   "source": [
    "# Example 499 - Real-world Examples\n",
    "price = 100\n",
    "discount = 18\n",
    "final_price = price - (price * discount / 100)\n",
    "print(final_price)"
   ]
  },
  {
   "cell_type": "code",
   "execution_count": 500,
   "id": "c781db02",
   "metadata": {},
   "outputs": [
    {
     "name": "stdout",
     "output_type": "stream",
     "text": [
      "81.0\n"
     ]
    }
   ],
   "source": [
    "# Example 500 - Real-world Examples\n",
    "price = 100\n",
    "discount = 19\n",
    "final_price = price - (price * discount / 100)\n",
    "print(final_price)"
   ]
  },
  {
   "cell_type": "code",
   "execution_count": null,
   "id": "5e226d44-2074-4107-9e1e-53be4d3dd62e",
   "metadata": {},
   "outputs": [],
   "source": []
  },
  {
   "cell_type": "code",
   "execution_count": null,
   "id": "7e11490d-5e21-4046-bc1d-d3f2ed0a7e52",
   "metadata": {},
   "outputs": [],
   "source": []
  }
 ],
 "metadata": {
  "kernelspec": {
   "display_name": "Python 3 (ipykernel)",
   "language": "python",
   "name": "python3"
  },
  "language_info": {
   "codemirror_mode": {
    "name": "ipython",
    "version": 3
   },
   "file_extension": ".py",
   "mimetype": "text/x-python",
   "name": "python",
   "nbconvert_exporter": "python",
   "pygments_lexer": "ipython3",
   "version": "3.12.11"
  }
 },
 "nbformat": 4,
 "nbformat_minor": 5
}
