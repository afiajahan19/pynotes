{
 "cells": [
  {
   "cell_type": "code",
   "execution_count": 1,
   "id": "7754b44b-cee6-4380-9cfd-8ddb69a26ab7",
   "metadata": {},
   "outputs": [],
   "source": [
    "import re"
   ]
  },
  {
   "cell_type": "code",
   "execution_count": 2,
   "id": "13048710-d450-44b2-90e0-88fb2b8ea354",
   "metadata": {},
   "outputs": [],
   "source": [
    "contents = [\n",
    "    \"AB23\",\n",
    "    \"A2B3\", \n",
    "    \"DE09\",\n",
    "    \"MN90\",\n",
    "    \"XYi9\",\n",
    "    \"XY90\"\n",
    "]"
   ]
  },
  {
   "cell_type": "code",
   "execution_count": 3,
   "id": "084bfbce-78ae-40af-88b1-a77976d5bdfb",
   "metadata": {},
   "outputs": [
    {
     "name": "stdout",
     "output_type": "stream",
     "text": [
      "matched : AB23\n",
      "matched : DE09\n",
      "matched : XY90\n"
     ]
    },
    {
     "name": "stderr",
     "output_type": "stream",
     "text": [
      "<>:2: SyntaxWarning: invalid escape sequence '\\d'\n",
      "<>:2: SyntaxWarning: invalid escape sequence '\\d'\n",
      "C:\\Users\\Afia Jahan\\AppData\\Local\\Temp\\ipykernel_75024\\3010093568.py:2: SyntaxWarning: invalid escape sequence '\\d'\n",
      "  regex_pattern = \"(?:AB|DE|XY)\\d+\"\n"
     ]
    }
   ],
   "source": [
    "for content in contents:\n",
    "    regex_pattern = \"(?:AB|DE|XY)\\d+\" \n",
    "    # starts with AB or DE; should contain one or more number\n",
    "\n",
    "    m = re.match(regex_pattern, content)\n",
    "\n",
    "    if(m):\n",
    "        print('matched : '+content)"
   ]
  },
  {
   "cell_type": "code",
   "execution_count": null,
   "id": "1e88627c-588e-4c04-91fe-48917443a6f0",
   "metadata": {},
   "outputs": [],
   "source": []
  }
 ],
 "metadata": {
  "kernelspec": {
   "display_name": "Python 3 (ipykernel)",
   "language": "python",
   "name": "python3"
  },
  "language_info": {
   "codemirror_mode": {
    "name": "ipython",
    "version": 3
   },
   "file_extension": ".py",
   "mimetype": "text/x-python",
   "name": "python",
   "nbconvert_exporter": "python",
   "pygments_lexer": "ipython3",
   "version": "3.12.11"
  }
 },
 "nbformat": 4,
 "nbformat_minor": 5
}
