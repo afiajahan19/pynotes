{
 "cells": [
  {
   "cell_type": "code",
   "execution_count": 1,
   "id": "7bb68e78-28cd-420a-aee8-f9ee381f3661",
   "metadata": {},
   "outputs": [
    {
     "name": "stdout",
     "output_type": "stream",
     "text": [
      "Python 3.12.11\n"
     ]
    }
   ],
   "source": [
    "!python --version"
   ]
  },
  {
   "cell_type": "code",
   "execution_count": 2,
   "id": "a0a2680f-c39f-4965-9dae-94b84f4aab1e",
   "metadata": {},
   "outputs": [],
   "source": [
    "import ast"
   ]
  },
  {
   "cell_type": "code",
   "execution_count": 3,
   "id": "817f2f95-31fd-4f99-b2a1-aa78ebbb7e67",
   "metadata": {},
   "outputs": [],
   "source": [
    "# Python code as a string\n",
    "code = \"\"\"\n",
    "def greet(name):\n",
    "    return f\"Hello, {name}!\"\n",
    "\n",
    "x = 10\n",
    "y = x + 20\n",
    "print(greet(\"Python\"))\n",
    "\"\"\""
   ]
  },
  {
   "cell_type": "code",
   "execution_count": 4,
   "id": "1c3cdda9-2c9f-4a9e-a681-851e90c83f55",
   "metadata": {},
   "outputs": [],
   "source": [
    "# Parse the code into an AST\n",
    "tree = ast.parse(code)"
   ]
  },
  {
   "cell_type": "code",
   "execution_count": 5,
   "id": "fb7509bf-0a91-4aca-b885-9f66807da3e8",
   "metadata": {},
   "outputs": [],
   "source": [
    "# Define a visitor class to analyze nodes\n",
    "class CodeAnalyzer(ast.NodeVisitor):\n",
    "    def visit_FunctionDef(self, node):\n",
    "        print(f\"Function found: {node.name}\")\n",
    "        self.generic_visit(node)\n",
    "\n",
    "    def visit_Assign(self, node):\n",
    "        targets = [t.id for t in node.targets if isinstance(t, ast.Name)]\n",
    "        print(f\"Assignment to: {targets}\")\n",
    "        self.generic_visit(node)\n",
    "\n",
    "    def visit_Call(self, node):\n",
    "        if isinstance(node.func, ast.Name):\n",
    "            print(f\"Function call: {node.func.id}\")\n",
    "        self.generic_visit(node)"
   ]
  },
  {
   "cell_type": "code",
   "execution_count": 6,
   "id": "3514bd9d-6c40-4c08-a39d-e0e336a68569",
   "metadata": {},
   "outputs": [
    {
     "name": "stdout",
     "output_type": "stream",
     "text": [
      "Function found: greet\n",
      "Assignment to: ['x']\n",
      "Assignment to: ['y']\n",
      "Function call: print\n",
      "Function call: greet\n"
     ]
    }
   ],
   "source": [
    "# Create an analyzer instance and visit nodes\n",
    "analyzer = CodeAnalyzer()\n",
    "analyzer.visit(tree)"
   ]
  },
  {
   "cell_type": "code",
   "execution_count": null,
   "id": "0381ffc0-7513-48d4-80fb-aac20a589b9f",
   "metadata": {},
   "outputs": [],
   "source": []
  }
 ],
 "metadata": {
  "kernelspec": {
   "display_name": "Python 3 (ipykernel)",
   "language": "python",
   "name": "python3"
  },
  "language_info": {
   "codemirror_mode": {
    "name": "ipython",
    "version": 3
   },
   "file_extension": ".py",
   "mimetype": "text/x-python",
   "name": "python",
   "nbconvert_exporter": "python",
   "pygments_lexer": "ipython3",
   "version": "3.12.11"
  }
 },
 "nbformat": 4,
 "nbformat_minor": 5
}
