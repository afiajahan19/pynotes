{
 "cells": [
  {
   "cell_type": "code",
   "execution_count": 2,
   "id": "c6bba15f-db00-4d5b-8202-801e89c08872",
   "metadata": {},
   "outputs": [],
   "source": [
    "entries = ['one', 2, 'three', False]"
   ]
  },
  {
   "cell_type": "code",
   "execution_count": 3,
   "id": "3b7f5db6-d2cd-4808-8928-e0e0a93a0112",
   "metadata": {},
   "outputs": [
    {
     "name": "stdout",
     "output_type": "stream",
     "text": [
      "['one', 2, 'three', False]\n"
     ]
    }
   ],
   "source": [
    "print(entries)\n"
   ]
  },
  {
   "cell_type": "code",
   "execution_count": 4,
   "id": "762edcfe-feac-46b9-ba20-bce5da542a94",
   "metadata": {},
   "outputs": [
    {
     "name": "stdout",
     "output_type": "stream",
     "text": [
      "['three', False]\n"
     ]
    }
   ],
   "source": [
    "print(entries[2:7])"
   ]
  },
  {
   "cell_type": "code",
   "execution_count": 5,
   "id": "a9589f7e-c760-47d7-8d32-dda508d47ae8",
   "metadata": {},
   "outputs": [
    {
     "name": "stdout",
     "output_type": "stream",
     "text": [
      "(100, 200, 'three', 'four')\n"
     ]
    }
   ],
   "source": [
    "entryTuple = (100, 200, 'three', 'four')\n",
    "print(entryTuple)"
   ]
  },
  {
   "cell_type": "code",
   "execution_count": 6,
   "id": "ef20f495-e607-4599-b019-7eb1deae8275",
   "metadata": {},
   "outputs": [
    {
     "name": "stdout",
     "output_type": "stream",
     "text": [
      "['Toronto', 'Monteal', 'Vancouver']\n"
     ]
    }
   ],
   "source": [
    "cities = ['Toronto', 'Monteal', 'Vancouver']\n",
    "print(cities)"
   ]
  },
  {
   "cell_type": "code",
   "execution_count": 7,
   "id": "8e5bde8d-3cc8-44dc-a5e6-081edc7c5d4e",
   "metadata": {},
   "outputs": [
    {
     "name": "stdout",
     "output_type": "stream",
     "text": [
      "[('Anders', 'A', 21), ('Balmer', 'B', 45), ('Stephe', 'S', 24)]\n"
     ]
    }
   ],
   "source": [
    "users = [\n",
    "    ('Anders', 'A', 21),\n",
    "    ('Balmer', 'B', 45),\n",
    "    ('Stephe', 'S', 24)\n",
    "]\n",
    "\n",
    "print(users)"
   ]
  },
  {
   "cell_type": "code",
   "execution_count": 8,
   "id": "9d92b8b8-14be-4f72-bb62-3234b8aa5040",
   "metadata": {},
   "outputs": [
    {
     "data": {
      "text/plain": [
       "[('Anders', 'A', 21), ('Stephe', 'S', 24), ('Balmer', 'B', 45)]"
      ]
     },
     "execution_count": 8,
     "metadata": {},
     "output_type": "execute_result"
    }
   ],
   "source": [
    "sorted(users, key = lambda x: x[2])"
   ]
  },
  {
   "cell_type": "code",
   "execution_count": 9,
   "id": "3a583d37-9c2a-4a8b-a0cf-3dbbdb3ef707",
   "metadata": {},
   "outputs": [
    {
     "data": {
      "text/plain": [
       "[('Balmer', 'B', 45), ('Stephe', 'S', 24), ('Anders', 'A', 21)]"
      ]
     },
     "execution_count": 9,
     "metadata": {},
     "output_type": "execute_result"
    }
   ],
   "source": [
    "sorted(users, key = lambda x: -x[2])"
   ]
  },
  {
   "cell_type": "code",
   "execution_count": null,
   "id": "c553f3a0-217c-413f-bfd9-c4b31f02ab32",
   "metadata": {},
   "outputs": [],
   "source": []
  }
 ],
 "metadata": {
  "kernelspec": {
   "display_name": "Python 3 (ipykernel)",
   "language": "python",
   "name": "python3"
  },
  "language_info": {
   "codemirror_mode": {
    "name": "ipython",
    "version": 3
   },
   "file_extension": ".py",
   "mimetype": "text/x-python",
   "name": "python",
   "nbconvert_exporter": "python",
   "pygments_lexer": "ipython3",
   "version": "3.12.11"
  }
 },
 "nbformat": 4,
 "nbformat_minor": 5
}
