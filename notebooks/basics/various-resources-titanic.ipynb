{
 "cells": [
  {
   "cell_type": "code",
   "execution_count": 1,
   "id": "c9bdd94d-cf18-4dec-980e-28419146b07e",
   "metadata": {},
   "outputs": [
    {
     "name": "stdout",
     "output_type": "stream",
     "text": [
      "------------------------------\n",
      "KNeighborsClassifier:\n",
      "Accuracy: 76.4925%\n",
      "------------------------------\n",
      "LogisticRegression:\n",
      "Accuracy: 78.7313%\n",
      "------------------------------\n",
      "SVC:\n",
      "Accuracy: 78.7313%\n",
      "------------------------------\n",
      "GaussianNB:\n",
      "Accuracy: 78.7313%\n",
      "------------------------------\n",
      "MLPClassifier:\n",
      "Accuracy: 79.1045%\n",
      "------------------------------\n",
      "DecisionTreeClassifier:\n",
      "Accuracy: 77.6119%\n",
      "------------------------------\n",
      "RandomForestClassifier:\n",
      "Accuracy: 79.1045%\n"
     ]
    }
   ],
   "source": [
    "import pandas as pd\n",
    "import numpy as np\n",
    "from sklearn.model_selection import train_test_split\n",
    "from sklearn.linear_model import LogisticRegression, LinearRegression\n",
    "from sklearn.neighbors import KNeighborsClassifier\n",
    "from sklearn.svm import SVC\n",
    "from sklearn.naive_bayes import GaussianNB\n",
    "from sklearn.neural_network import MLPClassifier\n",
    "from sklearn.tree import DecisionTreeClassifier\n",
    "from sklearn.ensemble import RandomForestClassifier\n",
    "from sklearn.metrics import accuracy_score\n",
    "\n",
    "# Load working dataset\n",
    "url = 'https://raw.githubusercontent.com/datasciencedojo/datasets/master/titanic.csv'\n",
    "df = pd.read_csv(url)\n",
    "\n",
    "# Select needed columns\n",
    "data = df[['Survived', 'Sex', 'Age']]\n",
    "\n",
    "# Fill missing Age values with mean\n",
    "data.loc[:, 'Age'] = data['Age'].fillna(data['Age'].mean())\n",
    "\n",
    "\n",
    "# Convert 'Sex' to dummy variables\n",
    "data = pd.get_dummies(data, columns=['Sex'])\n",
    "\n",
    "# Define features and target\n",
    "X = data.drop('Survived', axis=1)\n",
    "y = data['Survived']\n",
    "\n",
    "# Split data\n",
    "X_train, X_test, y_train, y_test = train_test_split(X, y, test_size=0.3, random_state=21)\n",
    "\n",
    "# Define models\n",
    "models = [\n",
    "    KNeighborsClassifier(),\n",
    "    LogisticRegression(solver=\"liblinear\"),\n",
    "    SVC(kernel=\"linear\"),\n",
    "    GaussianNB(),\n",
    "    MLPClassifier(max_iter=500),\n",
    "    DecisionTreeClassifier(),\n",
    "    RandomForestClassifier()\n",
    "]\n",
    "\n",
    "# Evaluate models\n",
    "for model in models:\n",
    "    name = model.__class__.__name__\n",
    "    model.fit(X_train, y_train)\n",
    "    y_pred = model.predict(X_test)\n",
    "    acc = accuracy_score(y_test, y_pred)\n",
    "    print(\"-\" * 30)\n",
    "    print(f\"{name}:\\nAccuracy: {acc:.4%}\")\n"
   ]
  },
  {
   "cell_type": "code",
   "execution_count": null,
   "id": "52d698f6-374d-42e6-90b4-704b462cd339",
   "metadata": {},
   "outputs": [],
   "source": []
  }
 ],
 "metadata": {
  "kernelspec": {
   "display_name": "Python 3 (ipykernel)",
   "language": "python",
   "name": "python3"
  },
  "language_info": {
   "codemirror_mode": {
    "name": "ipython",
    "version": 3
   },
   "file_extension": ".py",
   "mimetype": "text/x-python",
   "name": "python",
   "nbconvert_exporter": "python",
   "pygments_lexer": "ipython3",
   "version": "3.12.11"
  }
 },
 "nbformat": 4,
 "nbformat_minor": 5
}
