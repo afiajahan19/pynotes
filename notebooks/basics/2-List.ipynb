{
 "cells": [
  {
   "cell_type": "code",
   "execution_count": 1,
   "id": "36a28708-de5b-4680-85e4-8ec36406b948",
   "metadata": {},
   "outputs": [],
   "source": [
    "list = [\n",
    "    \"AB\", \n",
    "    \"CD\",\n",
    "    \"EF\",\n",
    "    \"GH\",\n",
    "    \"IJ\", \n",
    "    \"KL\",\n",
    "    \"MN\",\n",
    "    \"OP\",\n",
    "    \"QR\",\n",
    "    \"ST\",\n",
    "    \"UV\",\n",
    "    \"WX\",\n",
    "    \"YZ\"\n",
    "]"
   ]
  },
  {
   "cell_type": "code",
   "execution_count": 2,
   "id": "354923db-90da-4a2a-84d1-aa8fc144721f",
   "metadata": {},
   "outputs": [
    {
     "data": {
      "text/plain": [
       "['AB', 'CD', 'EF', 'GH', 'IJ', 'KL', 'MN', 'OP', 'QR', 'ST', 'UV', 'WX', 'YZ']"
      ]
     },
     "execution_count": 2,
     "metadata": {},
     "output_type": "execute_result"
    }
   ],
   "source": [
    "list"
   ]
  },
  {
   "cell_type": "code",
   "execution_count": 3,
   "id": "603bc923-75dc-4313-92e9-a95dc1bdff7e",
   "metadata": {},
   "outputs": [],
   "source": [
    "# append to list\n",
    "list.append(\"ABC\")"
   ]
  },
  {
   "cell_type": "code",
   "execution_count": 4,
   "id": "fc4c8b45-eae9-40f8-b97f-884f01790b9b",
   "metadata": {},
   "outputs": [
    {
     "data": {
      "text/plain": [
       "['AB',\n",
       " 'CD',\n",
       " 'EF',\n",
       " 'GH',\n",
       " 'IJ',\n",
       " 'KL',\n",
       " 'MN',\n",
       " 'OP',\n",
       " 'QR',\n",
       " 'ST',\n",
       " 'UV',\n",
       " 'WX',\n",
       " 'YZ',\n",
       " 'ABC']"
      ]
     },
     "execution_count": 4,
     "metadata": {},
     "output_type": "execute_result"
    }
   ],
   "source": [
    "list"
   ]
  },
  {
   "cell_type": "code",
   "execution_count": 5,
   "id": "8ed08076-9f71-454c-838e-cd1b5c814b09",
   "metadata": {},
   "outputs": [],
   "source": [
    "list.extend([\"EFG\", \"IJK\", \"LMN\"])"
   ]
  },
  {
   "cell_type": "code",
   "execution_count": 6,
   "id": "2c7d8260-8d51-4bc3-9044-8dc8328da328",
   "metadata": {},
   "outputs": [
    {
     "data": {
      "text/plain": [
       "['AB',\n",
       " 'CD',\n",
       " 'EF',\n",
       " 'GH',\n",
       " 'IJ',\n",
       " 'KL',\n",
       " 'MN',\n",
       " 'OP',\n",
       " 'QR',\n",
       " 'ST',\n",
       " 'UV',\n",
       " 'WX',\n",
       " 'YZ',\n",
       " 'ABC',\n",
       " 'EFG',\n",
       " 'IJK',\n",
       " 'LMN']"
      ]
     },
     "execution_count": 6,
     "metadata": {},
     "output_type": "execute_result"
    }
   ],
   "source": [
    "list"
   ]
  },
  {
   "cell_type": "code",
   "execution_count": 7,
   "id": "433732c5-df08-4bd3-a644-8c88520ae40a",
   "metadata": {},
   "outputs": [],
   "source": [
    "list.extend((\"OPQ\", \"RST\"))"
   ]
  },
  {
   "cell_type": "code",
   "execution_count": 8,
   "id": "5f4956cc-ac3f-461c-a7ae-7e90e38bf0c8",
   "metadata": {},
   "outputs": [
    {
     "data": {
      "text/plain": [
       "['AB',\n",
       " 'CD',\n",
       " 'EF',\n",
       " 'GH',\n",
       " 'IJ',\n",
       " 'KL',\n",
       " 'MN',\n",
       " 'OP',\n",
       " 'QR',\n",
       " 'ST',\n",
       " 'UV',\n",
       " 'WX',\n",
       " 'YZ',\n",
       " 'ABC',\n",
       " 'EFG',\n",
       " 'IJK',\n",
       " 'LMN',\n",
       " 'OPQ',\n",
       " 'RST']"
      ]
     },
     "execution_count": 8,
     "metadata": {},
     "output_type": "execute_result"
    }
   ],
   "source": [
    "list"
   ]
  },
  {
   "cell_type": "code",
   "execution_count": 9,
   "id": "a0695880-9b6d-4b26-9e4c-a351e53af67b",
   "metadata": {},
   "outputs": [],
   "source": [
    "list.extend(range(1, 5))"
   ]
  },
  {
   "cell_type": "code",
   "execution_count": 10,
   "id": "023ca14a-cf94-440d-b3b6-0fd4229014c8",
   "metadata": {},
   "outputs": [
    {
     "data": {
      "text/plain": [
       "['AB',\n",
       " 'CD',\n",
       " 'EF',\n",
       " 'GH',\n",
       " 'IJ',\n",
       " 'KL',\n",
       " 'MN',\n",
       " 'OP',\n",
       " 'QR',\n",
       " 'ST',\n",
       " 'UV',\n",
       " 'WX',\n",
       " 'YZ',\n",
       " 'ABC',\n",
       " 'EFG',\n",
       " 'IJK',\n",
       " 'LMN',\n",
       " 'OPQ',\n",
       " 'RST',\n",
       " 1,\n",
       " 2,\n",
       " 3,\n",
       " 4]"
      ]
     },
     "execution_count": 10,
     "metadata": {},
     "output_type": "execute_result"
    }
   ],
   "source": [
    "list"
   ]
  },
  {
   "cell_type": "code",
   "execution_count": 11,
   "id": "5583bfb5-f4d0-42f9-a0d3-d50d3c0dac7f",
   "metadata": {},
   "outputs": [],
   "source": [
    "list2 = [\"One\", \"Two\"]"
   ]
  },
  {
   "cell_type": "code",
   "execution_count": 13,
   "id": "0e9c0d3e-111c-4fb0-b1a2-4225d0fea5d5",
   "metadata": {},
   "outputs": [
    {
     "data": {
      "text/plain": [
       "['One', 'Two']"
      ]
     },
     "execution_count": 13,
     "metadata": {},
     "output_type": "execute_result"
    }
   ],
   "source": [
    "list2"
   ]
  },
  {
   "cell_type": "code",
   "execution_count": 14,
   "id": "03ace362-ec95-4a87-8426-b931d540abcf",
   "metadata": {},
   "outputs": [],
   "source": [
    "list.append(list2)"
   ]
  },
  {
   "cell_type": "code",
   "execution_count": 15,
   "id": "ec4c4895-bd3c-4d90-9293-7d54932b1ef1",
   "metadata": {},
   "outputs": [
    {
     "data": {
      "text/plain": [
       "['AB',\n",
       " 'CD',\n",
       " 'EF',\n",
       " 'GH',\n",
       " 'IJ',\n",
       " 'KL',\n",
       " 'MN',\n",
       " 'OP',\n",
       " 'QR',\n",
       " 'ST',\n",
       " 'UV',\n",
       " 'WX',\n",
       " 'YZ',\n",
       " 'ABC',\n",
       " 'EFG',\n",
       " 'IJK',\n",
       " 'LMN',\n",
       " 'OPQ',\n",
       " 'RST',\n",
       " 1,\n",
       " 2,\n",
       " 3,\n",
       " 4,\n",
       " ['One', 'Two']]"
      ]
     },
     "execution_count": 15,
     "metadata": {},
     "output_type": "execute_result"
    }
   ],
   "source": [
    "list\n"
   ]
  },
  {
   "cell_type": "code",
   "execution_count": 16,
   "id": "59a1c905-1e9c-47bf-ad93-6be86e147f75",
   "metadata": {},
   "outputs": [],
   "source": [
    "list3 = [\"Four\", \"Five\"]"
   ]
  },
  {
   "cell_type": "code",
   "execution_count": 17,
   "id": "32da7651-5472-44b7-825f-1afbee50735b",
   "metadata": {},
   "outputs": [],
   "source": [
    "list += list3"
   ]
  },
  {
   "cell_type": "code",
   "execution_count": 18,
   "id": "2869f06e-5ab4-4234-a555-3832888549a6",
   "metadata": {},
   "outputs": [
    {
     "data": {
      "text/plain": [
       "['AB',\n",
       " 'CD',\n",
       " 'EF',\n",
       " 'GH',\n",
       " 'IJ',\n",
       " 'KL',\n",
       " 'MN',\n",
       " 'OP',\n",
       " 'QR',\n",
       " 'ST',\n",
       " 'UV',\n",
       " 'WX',\n",
       " 'YZ',\n",
       " 'ABC',\n",
       " 'EFG',\n",
       " 'IJK',\n",
       " 'LMN',\n",
       " 'OPQ',\n",
       " 'RST',\n",
       " 1,\n",
       " 2,\n",
       " 3,\n",
       " 4,\n",
       " ['One', 'Two'],\n",
       " 'Four',\n",
       " 'Five']"
      ]
     },
     "execution_count": 18,
     "metadata": {},
     "output_type": "execute_result"
    }
   ],
   "source": [
    "list"
   ]
  },
  {
   "cell_type": "code",
   "execution_count": 19,
   "id": "6150fe65-f5cf-4be3-a172-079166981e5f",
   "metadata": {},
   "outputs": [
    {
     "data": {
      "text/plain": [
       "'Five'"
      ]
     },
     "execution_count": 19,
     "metadata": {},
     "output_type": "execute_result"
    }
   ],
   "source": [
    "list.pop(len(list)-1)"
   ]
  },
  {
   "cell_type": "code",
   "execution_count": 20,
   "id": "bd7364c0-16d8-4024-be70-d3467739e515",
   "metadata": {},
   "outputs": [
    {
     "data": {
      "text/plain": [
       "['AB',\n",
       " 'CD',\n",
       " 'EF',\n",
       " 'GH',\n",
       " 'IJ',\n",
       " 'KL',\n",
       " 'MN',\n",
       " 'OP',\n",
       " 'QR',\n",
       " 'ST',\n",
       " 'UV',\n",
       " 'WX',\n",
       " 'YZ',\n",
       " 'ABC',\n",
       " 'EFG',\n",
       " 'IJK',\n",
       " 'LMN',\n",
       " 'OPQ',\n",
       " 'RST',\n",
       " 1,\n",
       " 2,\n",
       " 3,\n",
       " 4,\n",
       " ['One', 'Two'],\n",
       " 'Four']"
      ]
     },
     "execution_count": 20,
     "metadata": {},
     "output_type": "execute_result"
    }
   ],
   "source": [
    "list"
   ]
  },
  {
   "cell_type": "code",
   "execution_count": 21,
   "id": "9b6c12c4-8a16-4eba-a9bb-d98d979fd48d",
   "metadata": {},
   "outputs": [],
   "source": [
    "list.remove('AB')"
   ]
  },
  {
   "cell_type": "code",
   "execution_count": 22,
   "id": "1470f5e0-660c-4fed-8cf1-f557eb823447",
   "metadata": {},
   "outputs": [
    {
     "data": {
      "text/plain": [
       "['CD',\n",
       " 'EF',\n",
       " 'GH',\n",
       " 'IJ',\n",
       " 'KL',\n",
       " 'MN',\n",
       " 'OP',\n",
       " 'QR',\n",
       " 'ST',\n",
       " 'UV',\n",
       " 'WX',\n",
       " 'YZ',\n",
       " 'ABC',\n",
       " 'EFG',\n",
       " 'IJK',\n",
       " 'LMN',\n",
       " 'OPQ',\n",
       " 'RST',\n",
       " 1,\n",
       " 2,\n",
       " 3,\n",
       " 4,\n",
       " ['One', 'Two'],\n",
       " 'Four']"
      ]
     },
     "execution_count": 22,
     "metadata": {},
     "output_type": "execute_result"
    }
   ],
   "source": [
    "list"
   ]
  },
  {
   "cell_type": "code",
   "execution_count": 23,
   "id": "9eb46df5-6352-4462-a61a-1c56a312abc2",
   "metadata": {},
   "outputs": [],
   "source": [
    "list.remove(list2)"
   ]
  },
  {
   "cell_type": "code",
   "execution_count": 24,
   "id": "8a11414e-049e-4ea7-aa7a-fa9bfcc90f69",
   "metadata": {},
   "outputs": [
    {
     "data": {
      "text/plain": [
       "['CD',\n",
       " 'EF',\n",
       " 'GH',\n",
       " 'IJ',\n",
       " 'KL',\n",
       " 'MN',\n",
       " 'OP',\n",
       " 'QR',\n",
       " 'ST',\n",
       " 'UV',\n",
       " 'WX',\n",
       " 'YZ',\n",
       " 'ABC',\n",
       " 'EFG',\n",
       " 'IJK',\n",
       " 'LMN',\n",
       " 'OPQ',\n",
       " 'RST',\n",
       " 1,\n",
       " 2,\n",
       " 3,\n",
       " 4,\n",
       " 'Four']"
      ]
     },
     "execution_count": 24,
     "metadata": {},
     "output_type": "execute_result"
    }
   ],
   "source": [
    "list"
   ]
  },
  {
   "cell_type": "code",
   "execution_count": 25,
   "id": "65effa5b-61d0-4812-82b0-7f938b6a5c2f",
   "metadata": {},
   "outputs": [],
   "source": [
    "list.extend((\"ten\", \"twenty\"))"
   ]
  },
  {
   "cell_type": "code",
   "execution_count": 26,
   "id": "16e8fbf1-9cc5-4bb3-9b45-589c70edc4d8",
   "metadata": {},
   "outputs": [
    {
     "data": {
      "text/plain": [
       "['CD',\n",
       " 'EF',\n",
       " 'GH',\n",
       " 'IJ',\n",
       " 'KL',\n",
       " 'MN',\n",
       " 'OP',\n",
       " 'QR',\n",
       " 'ST',\n",
       " 'UV',\n",
       " 'WX',\n",
       " 'YZ',\n",
       " 'ABC',\n",
       " 'EFG',\n",
       " 'IJK',\n",
       " 'LMN',\n",
       " 'OPQ',\n",
       " 'RST',\n",
       " 1,\n",
       " 2,\n",
       " 3,\n",
       " 4,\n",
       " 'Four',\n",
       " 'ten',\n",
       " 'twenty']"
      ]
     },
     "execution_count": 26,
     "metadata": {},
     "output_type": "execute_result"
    }
   ],
   "source": [
    "list"
   ]
  },
  {
   "cell_type": "code",
   "execution_count": 27,
   "id": "fb2e7748-9053-4292-ad1a-0cd042e6f53a",
   "metadata": {},
   "outputs": [],
   "source": [
    "list.extend([\"eleven\", \"twelve\"])"
   ]
  },
  {
   "cell_type": "code",
   "execution_count": 28,
   "id": "d5795470-3bea-40c0-b64b-6f2103bdcc45",
   "metadata": {},
   "outputs": [
    {
     "data": {
      "text/plain": [
       "['CD',\n",
       " 'EF',\n",
       " 'GH',\n",
       " 'IJ',\n",
       " 'KL',\n",
       " 'MN',\n",
       " 'OP',\n",
       " 'QR',\n",
       " 'ST',\n",
       " 'UV',\n",
       " 'WX',\n",
       " 'YZ',\n",
       " 'ABC',\n",
       " 'EFG',\n",
       " 'IJK',\n",
       " 'LMN',\n",
       " 'OPQ',\n",
       " 'RST',\n",
       " 1,\n",
       " 2,\n",
       " 3,\n",
       " 4,\n",
       " 'Four',\n",
       " 'ten',\n",
       " 'twenty',\n",
       " 'eleven',\n",
       " 'twelve']"
      ]
     },
     "execution_count": 28,
     "metadata": {},
     "output_type": "execute_result"
    }
   ],
   "source": [
    "list"
   ]
  },
  {
   "cell_type": "code",
   "execution_count": 29,
   "id": "5547f614-f9a3-4c54-ad48-1e3aa1885091",
   "metadata": {},
   "outputs": [],
   "source": [
    "list.append((\"six\", \"seven\"))"
   ]
  },
  {
   "cell_type": "code",
   "execution_count": 30,
   "id": "b90ca298-138c-4ac4-8bfb-6f37193637ac",
   "metadata": {},
   "outputs": [
    {
     "data": {
      "text/plain": [
       "['CD',\n",
       " 'EF',\n",
       " 'GH',\n",
       " 'IJ',\n",
       " 'KL',\n",
       " 'MN',\n",
       " 'OP',\n",
       " 'QR',\n",
       " 'ST',\n",
       " 'UV',\n",
       " 'WX',\n",
       " 'YZ',\n",
       " 'ABC',\n",
       " 'EFG',\n",
       " 'IJK',\n",
       " 'LMN',\n",
       " 'OPQ',\n",
       " 'RST',\n",
       " 1,\n",
       " 2,\n",
       " 3,\n",
       " 4,\n",
       " 'Four',\n",
       " 'ten',\n",
       " 'twenty',\n",
       " 'eleven',\n",
       " 'twelve',\n",
       " ('six', 'seven')]"
      ]
     },
     "execution_count": 30,
     "metadata": {},
     "output_type": "execute_result"
    }
   ],
   "source": [
    "list"
   ]
  },
  {
   "cell_type": "code",
   "execution_count": 31,
   "id": "a1ce9522-342f-44da-94a3-06625eac2909",
   "metadata": {},
   "outputs": [
    {
     "data": {
      "text/plain": [
       "tuple"
      ]
     },
     "execution_count": 31,
     "metadata": {},
     "output_type": "execute_result"
    }
   ],
   "source": [
    "type(list[len(list)-1])"
   ]
  },
  {
   "cell_type": "code",
   "execution_count": 32,
   "id": "7bf5d90c-a08d-4822-94d7-0644ae514bec",
   "metadata": {},
   "outputs": [],
   "source": [
    "del list[len(list)-1]"
   ]
  },
  {
   "cell_type": "code",
   "execution_count": 33,
   "id": "dd44d7f0-a775-46ae-935e-9b4040141b0d",
   "metadata": {},
   "outputs": [
    {
     "data": {
      "text/plain": [
       "['CD',\n",
       " 'EF',\n",
       " 'GH',\n",
       " 'IJ',\n",
       " 'KL',\n",
       " 'MN',\n",
       " 'OP',\n",
       " 'QR',\n",
       " 'ST',\n",
       " 'UV',\n",
       " 'WX',\n",
       " 'YZ',\n",
       " 'ABC',\n",
       " 'EFG',\n",
       " 'IJK',\n",
       " 'LMN',\n",
       " 'OPQ',\n",
       " 'RST',\n",
       " 1,\n",
       " 2,\n",
       " 3,\n",
       " 4,\n",
       " 'Four',\n",
       " 'ten',\n",
       " 'twenty',\n",
       " 'eleven',\n",
       " 'twelve']"
      ]
     },
     "execution_count": 33,
     "metadata": {},
     "output_type": "execute_result"
    }
   ],
   "source": [
    "list"
   ]
  },
  {
   "cell_type": "code",
   "execution_count": 34,
   "id": "ae02d19e-6d65-40ca-a058-79003ce1793b",
   "metadata": {},
   "outputs": [],
   "source": [
    "list.remove(\"ten\")"
   ]
  },
  {
   "cell_type": "code",
   "execution_count": 35,
   "id": "9f944082-d0b6-4395-a404-5d66fdbdf5eb",
   "metadata": {},
   "outputs": [
    {
     "data": {
      "text/plain": [
       "['CD',\n",
       " 'EF',\n",
       " 'GH',\n",
       " 'IJ',\n",
       " 'KL',\n",
       " 'MN',\n",
       " 'OP',\n",
       " 'QR',\n",
       " 'ST',\n",
       " 'UV',\n",
       " 'WX',\n",
       " 'YZ',\n",
       " 'ABC',\n",
       " 'EFG',\n",
       " 'IJK',\n",
       " 'LMN',\n",
       " 'OPQ',\n",
       " 'RST',\n",
       " 1,\n",
       " 2,\n",
       " 3,\n",
       " 4,\n",
       " 'Four',\n",
       " 'twenty',\n",
       " 'eleven',\n",
       " 'twelve']"
      ]
     },
     "execution_count": 35,
     "metadata": {},
     "output_type": "execute_result"
    }
   ],
   "source": [
    "list"
   ]
  },
  {
   "cell_type": "code",
   "execution_count": 36,
   "id": "409afe15-5ea8-4c63-8348-836b7455311b",
   "metadata": {},
   "outputs": [],
   "source": [
    "list.append( [\"one\", \"two\"])"
   ]
  },
  {
   "cell_type": "code",
   "execution_count": 37,
   "id": "92527de0-8b8d-4585-8a07-0b8db40e02b8",
   "metadata": {},
   "outputs": [
    {
     "data": {
      "text/plain": [
       "['CD',\n",
       " 'EF',\n",
       " 'GH',\n",
       " 'IJ',\n",
       " 'KL',\n",
       " 'MN',\n",
       " 'OP',\n",
       " 'QR',\n",
       " 'ST',\n",
       " 'UV',\n",
       " 'WX',\n",
       " 'YZ',\n",
       " 'ABC',\n",
       " 'EFG',\n",
       " 'IJK',\n",
       " 'LMN',\n",
       " 'OPQ',\n",
       " 'RST',\n",
       " 1,\n",
       " 2,\n",
       " 3,\n",
       " 4,\n",
       " 'Four',\n",
       " 'twenty',\n",
       " 'eleven',\n",
       " 'twelve',\n",
       " ['one', 'two']]"
      ]
     },
     "execution_count": 37,
     "metadata": {},
     "output_type": "execute_result"
    }
   ],
   "source": [
    "list"
   ]
  },
  {
   "cell_type": "code",
   "execution_count": 38,
   "id": "2ec4c586-b3d7-4f60-9e85-98b5cf3a50d0",
   "metadata": {},
   "outputs": [],
   "source": [
    "list.remove(['one', 'two'])"
   ]
  },
  {
   "cell_type": "code",
   "execution_count": 39,
   "id": "c860d681-9ae9-46de-aaea-77b6cb8de4ea",
   "metadata": {},
   "outputs": [
    {
     "data": {
      "text/plain": [
       "['CD',\n",
       " 'EF',\n",
       " 'GH',\n",
       " 'IJ',\n",
       " 'KL',\n",
       " 'MN',\n",
       " 'OP',\n",
       " 'QR',\n",
       " 'ST',\n",
       " 'UV',\n",
       " 'WX',\n",
       " 'YZ',\n",
       " 'ABC',\n",
       " 'EFG',\n",
       " 'IJK',\n",
       " 'LMN',\n",
       " 'OPQ',\n",
       " 'RST',\n",
       " 1,\n",
       " 2,\n",
       " 3,\n",
       " 4,\n",
       " 'Four',\n",
       " 'twenty',\n",
       " 'eleven',\n",
       " 'twelve']"
      ]
     },
     "execution_count": 39,
     "metadata": {},
     "output_type": "execute_result"
    }
   ],
   "source": [
    "list"
   ]
  },
  {
   "cell_type": "code",
   "execution_count": 40,
   "id": "540c2996-aa12-4464-8ded-74bb619e6132",
   "metadata": {},
   "outputs": [],
   "source": [
    "# delete elements 1 - 5\n",
    "del list[1:5]"
   ]
  },
  {
   "cell_type": "code",
   "execution_count": 41,
   "id": "211888a0-d5e0-436a-8734-9d224b187b4b",
   "metadata": {},
   "outputs": [
    {
     "data": {
      "text/plain": [
       "['CD',\n",
       " 'MN',\n",
       " 'OP',\n",
       " 'QR',\n",
       " 'ST',\n",
       " 'UV',\n",
       " 'WX',\n",
       " 'YZ',\n",
       " 'ABC',\n",
       " 'EFG',\n",
       " 'IJK',\n",
       " 'LMN',\n",
       " 'OPQ',\n",
       " 'RST',\n",
       " 1,\n",
       " 2,\n",
       " 3,\n",
       " 4,\n",
       " 'Four',\n",
       " 'twenty',\n",
       " 'eleven',\n",
       " 'twelve']"
      ]
     },
     "execution_count": 41,
     "metadata": {},
     "output_type": "execute_result"
    }
   ],
   "source": [
    "list"
   ]
  },
  {
   "cell_type": "code",
   "execution_count": 42,
   "id": "b82d7e67-2841-44e9-873b-769f002f73a5",
   "metadata": {},
   "outputs": [
    {
     "data": {
      "text/plain": [
       "['CD', 'OP', 'ST', 'WX', 'ABC', 'IJK', 'OPQ', 1, 3, 'Four', 'eleven']"
      ]
     },
     "execution_count": 42,
     "metadata": {},
     "output_type": "execute_result"
    }
   ],
   "source": [
    "list[::2]"
   ]
  },
  {
   "cell_type": "code",
   "execution_count": 43,
   "id": "142c1c41-0d5f-4cfb-ae3c-60e60c1c0f04",
   "metadata": {},
   "outputs": [
    {
     "data": {
      "text/plain": [
       "['CD',\n",
       " 'MN',\n",
       " 'OP',\n",
       " 'QR',\n",
       " 'ST',\n",
       " 'UV',\n",
       " 'WX',\n",
       " 'YZ',\n",
       " 'ABC',\n",
       " 'EFG',\n",
       " 'IJK',\n",
       " 'LMN',\n",
       " 'OPQ',\n",
       " 'RST',\n",
       " 1,\n",
       " 2,\n",
       " 3,\n",
       " 4,\n",
       " 'Four',\n",
       " 'twenty',\n",
       " 'eleven',\n",
       " 'twelve']"
      ]
     },
     "execution_count": 43,
     "metadata": {},
     "output_type": "execute_result"
    }
   ],
   "source": [
    "list"
   ]
  },
  {
   "cell_type": "code",
   "execution_count": 44,
   "id": "44a35a9a-3fd3-41b1-8f8b-b173290775e5",
   "metadata": {},
   "outputs": [],
   "source": [
    "# Remove every 3rd item\n",
    "del list[::3]"
   ]
  },
  {
   "cell_type": "code",
   "execution_count": 45,
   "id": "eaded22b-c932-42a5-984a-b1fc03c7f52c",
   "metadata": {},
   "outputs": [
    {
     "data": {
      "text/plain": [
       "['MN',\n",
       " 'OP',\n",
       " 'ST',\n",
       " 'UV',\n",
       " 'YZ',\n",
       " 'ABC',\n",
       " 'IJK',\n",
       " 'LMN',\n",
       " 'RST',\n",
       " 1,\n",
       " 3,\n",
       " 4,\n",
       " 'twenty',\n",
       " 'eleven']"
      ]
     },
     "execution_count": 45,
     "metadata": {},
     "output_type": "execute_result"
    }
   ],
   "source": [
    "list"
   ]
  },
  {
   "cell_type": "code",
   "execution_count": 46,
   "id": "44140337-7de4-480d-9d24-3bb620c364e0",
   "metadata": {},
   "outputs": [],
   "source": [
    "# Remove every 2nd item\n",
    "del list[::-3]"
   ]
  },
  {
   "cell_type": "code",
   "execution_count": 47,
   "id": "d99b4e79-0ecf-4100-afe5-93919923dc02",
   "metadata": {},
   "outputs": [
    {
     "data": {
      "text/plain": [
       "['MN', 'ST', 'UV', 'ABC', 'IJK', 'RST', 1, 4, 'twenty']"
      ]
     },
     "execution_count": 47,
     "metadata": {},
     "output_type": "execute_result"
    }
   ],
   "source": [
    "list"
   ]
  },
  {
   "cell_type": "code",
   "execution_count": 48,
   "id": "03473644-375d-4455-b28c-7271df6c9390",
   "metadata": {},
   "outputs": [
    {
     "name": "stdout",
     "output_type": "stream",
     "text": [
      "0 MN\n",
      "1 ST\n",
      "2 UV\n",
      "3 ABC\n",
      "4 IJK\n",
      "5 RST\n",
      "6 1\n",
      "7 4\n",
      "8 twenty\n"
     ]
    }
   ],
   "source": [
    "for i, j in enumerate(list):\n",
    "    print(i, j)"
   ]
  },
  {
   "cell_type": "code",
   "execution_count": 49,
   "id": "2944e141-5d5b-48bd-afaa-b89b6d8ff4ec",
   "metadata": {},
   "outputs": [],
   "source": [
    "item_index = 1, 4"
   ]
  },
  {
   "cell_type": "code",
   "execution_count": 50,
   "id": "5eae1db5-f82c-4119-bba6-c4fef834fbe1",
   "metadata": {},
   "outputs": [],
   "source": [
    "list = [value for key, value in enumerate(list) if key not in item_index]"
   ]
  },
  {
   "cell_type": "code",
   "execution_count": 51,
   "id": "5aa707df-f2d0-451b-b61f-99eb9d6283fc",
   "metadata": {},
   "outputs": [
    {
     "data": {
      "text/plain": [
       "['MN', 'UV', 'ABC', 'RST', 1, 4, 'twenty']"
      ]
     },
     "execution_count": 51,
     "metadata": {},
     "output_type": "execute_result"
    }
   ],
   "source": [
    "list"
   ]
  },
  {
   "cell_type": "code",
   "execution_count": 52,
   "id": "265c4d6a-1ec7-4b82-9d0b-d9786f9380bf",
   "metadata": {},
   "outputs": [],
   "source": [
    "lst = [3, 1, 4, 1, 5]"
   ]
  },
  {
   "cell_type": "code",
   "execution_count": 53,
   "id": "02537447-be99-4234-9a44-8bd340d3e3e8",
   "metadata": {},
   "outputs": [
    {
     "name": "stdout",
     "output_type": "stream",
     "text": [
      "[5, 4, 3, 1, 1]\n"
     ]
    }
   ],
   "source": [
    "print(sorted(lst, reverse=True))"
   ]
  },
  {
   "cell_type": "code",
   "execution_count": 54,
   "id": "11111aef-3cac-452e-9ca6-f9d419900dfd",
   "metadata": {},
   "outputs": [],
   "source": [
    "lst2 = lst[:]"
   ]
  },
  {
   "cell_type": "code",
   "execution_count": 55,
   "id": "9ab8f79b-92ab-4a7d-9529-858617894057",
   "metadata": {},
   "outputs": [
    {
     "name": "stdout",
     "output_type": "stream",
     "text": [
      "False True\n"
     ]
    }
   ],
   "source": [
    "print(lst2 is lst, lst2 == lst)"
   ]
  },
  {
   "cell_type": "code",
   "execution_count": 56,
   "id": "271b51da-5f5f-4b91-a7ac-bd74200d01a3",
   "metadata": {},
   "outputs": [
    {
     "name": "stdout",
     "output_type": "stream",
     "text": [
      "[5, 1, 4, 1, 3]\n"
     ]
    }
   ],
   "source": [
    "print(lst[::-1])"
   ]
  },
  {
   "cell_type": "code",
   "execution_count": 57,
   "id": "ed699099-eeef-426f-844e-5185c111233e",
   "metadata": {},
   "outputs": [],
   "source": [
    "lst3 = [[1,2],[3,4]]"
   ]
  },
  {
   "cell_type": "code",
   "execution_count": 58,
   "id": "1fe4ae0d-3d8e-4f65-a8c1-a70edb02f75b",
   "metadata": {},
   "outputs": [
    {
     "name": "stdout",
     "output_type": "stream",
     "text": [
      "[1, 2, 3, 4]\n"
     ]
    }
   ],
   "source": [
    "print([x for row in lst3 for x in row])\n"
   ]
  },
  {
   "cell_type": "code",
   "execution_count": 59,
   "id": "70daa487-5137-4dd3-9f17-844741276244",
   "metadata": {},
   "outputs": [
    {
     "name": "stdout",
     "output_type": "stream",
     "text": [
      "[1, 3]\n"
     ]
    }
   ],
   "source": [
    "print([row[0] for row in lst3])\n"
   ]
  },
  {
   "cell_type": "code",
   "execution_count": 60,
   "id": "38dc2610-8616-47fa-a6ab-ff35134aba5f",
   "metadata": {},
   "outputs": [
    {
     "name": "stdout",
     "output_type": "stream",
     "text": [
      "False True\n"
     ]
    }
   ],
   "source": [
    "print(any([]), all([]))"
   ]
  },
  {
   "cell_type": "code",
   "execution_count": 61,
   "id": "dd6c5c07-572c-43ec-b336-2f94c0372767",
   "metadata": {},
   "outputs": [
    {
     "name": "stdout",
     "output_type": "stream",
     "text": [
      "9\n"
     ]
    }
   ],
   "source": [
    "print(min([5, 2, 9], key=lambda x: -x))"
   ]
  },
  {
   "cell_type": "code",
   "execution_count": 62,
   "id": "a8dba8a7-60a2-473a-8a85-83dda86ec983",
   "metadata": {},
   "outputs": [
    {
     "name": "stdout",
     "output_type": "stream",
     "text": [
      "2\n"
     ]
    }
   ],
   "source": [
    "print(max([5, 2, 9], key=lambda x: -x))"
   ]
  },
  {
   "cell_type": "code",
   "execution_count": 63,
   "id": "e647a220-a36c-4bbe-84c2-af774fe9880e",
   "metadata": {},
   "outputs": [
    {
     "name": "stdout",
     "output_type": "stream",
     "text": [
      "[(0, 'a'), (1, 'b')]\n"
     ]
    }
   ],
   "source": [
    "print([(i, val) for i, val in enumerate([\"a\", \"b\"])])"
   ]
  },
  {
   "cell_type": "code",
   "execution_count": 64,
   "id": "400719c7-c346-448b-9890-35b819ddfabe",
   "metadata": {},
   "outputs": [
    {
     "name": "stdout",
     "output_type": "stream",
     "text": [
      "[None, None, None, None, None]\n"
     ]
    }
   ],
   "source": [
    "print([None]*5)"
   ]
  },
  {
   "cell_type": "code",
   "execution_count": 65,
   "id": "d82f39df-6a3b-49d8-b378-26533d3796ea",
   "metadata": {},
   "outputs": [
    {
     "name": "stdout",
     "output_type": "stream",
     "text": [
      "[[], [], []]\n"
     ]
    }
   ],
   "source": [
    "print([[] for _ in range(3)])"
   ]
  },
  {
   "cell_type": "code",
   "execution_count": 66,
   "id": "d1b4dbd1-811a-4025-b8c2-d607c54bfb85",
   "metadata": {},
   "outputs": [
    {
     "name": "stdout",
     "output_type": "stream",
     "text": [
      "[4, 6]\n"
     ]
    }
   ],
   "source": [
    "print([x+y for x,y in zip([1,2], [3,4])])\n"
   ]
  },
  {
   "cell_type": "code",
   "execution_count": 68,
   "id": "c93d7402-3a64-4c4c-b85c-086e03b6319a",
   "metadata": {},
   "outputs": [
    {
     "name": "stdout",
     "output_type": "stream",
     "text": [
      "[1, 2, 3, 1, 2, 3]\n"
     ]
    }
   ],
   "source": [
    "lst = [1,2,3]\n",
    "lst *= 2\n",
    "print(lst)"
   ]
  },
  {
   "cell_type": "code",
   "execution_count": 73,
   "id": "c4522c2e-1db1-4950-a985-ff1cd18b2c3b",
   "metadata": {},
   "outputs": [],
   "source": [
    "list = [1, 2, 3]\n"
   ]
  },
  {
   "cell_type": "code",
   "execution_count": 76,
   "id": "ab899880-ac36-4bb7-8d4a-9fb3d644e18c",
   "metadata": {},
   "outputs": [],
   "source": [
    "del list\n"
   ]
  },
  {
   "cell_type": "code",
   "execution_count": 77,
   "id": "371dd25b-4e73-4414-8b9e-82343ef39744",
   "metadata": {},
   "outputs": [
    {
     "name": "stdout",
     "output_type": "stream",
     "text": [
      "[3, 2, 1]\n"
     ]
    }
   ],
   "source": [
    "print(list(reversed([1,2,3])))  # [3,2,1]\n"
   ]
  },
  {
   "cell_type": "code",
   "execution_count": 78,
   "id": "bc5e187d-42e6-4cf7-a1ea-cef766176789",
   "metadata": {},
   "outputs": [],
   "source": [
    "lst = [1,2,3]"
   ]
  },
  {
   "cell_type": "code",
   "execution_count": 79,
   "id": "8fbfcf87-ca03-400c-8411-8fd5fe6f854f",
   "metadata": {},
   "outputs": [],
   "source": [
    "lst *= 2"
   ]
  },
  {
   "cell_type": "code",
   "execution_count": 80,
   "id": "cb543d82-a2ca-4169-9d9d-6d77a690fdd5",
   "metadata": {},
   "outputs": [
    {
     "name": "stdout",
     "output_type": "stream",
     "text": [
      "[1, 2, 3, 1, 2, 3]\n"
     ]
    }
   ],
   "source": [
    "print(lst)"
   ]
  },
  {
   "cell_type": "code",
   "execution_count": 81,
   "id": "3dece8f4-9beb-42cf-90ca-f2bde84b6ba2",
   "metadata": {},
   "outputs": [
    {
     "name": "stdout",
     "output_type": "stream",
     "text": [
      "['A', 'B', 'C']\n"
     ]
    }
   ],
   "source": [
    "print(list(map(str.upper, [\"a\", \"b\", \"c\"])))"
   ]
  },
  {
   "cell_type": "code",
   "execution_count": 82,
   "id": "a34178f8-a582-4576-ba67-9c9a7ad45689",
   "metadata": {},
   "outputs": [
    {
     "name": "stdout",
     "output_type": "stream",
     "text": [
      "['a', 'c']\n"
     ]
    }
   ],
   "source": [
    "print(list(filter(str.islower, [\"a\", \"B\", \"c\"])))\n"
   ]
  },
  {
   "cell_type": "code",
   "execution_count": 83,
   "id": "0c0cd4f4-1084-4ed5-95b2-491134979c59",
   "metadata": {},
   "outputs": [
    {
     "name": "stdout",
     "output_type": "stream",
     "text": [
      "[False, True, False, True]\n"
     ]
    }
   ],
   "source": [
    "print([bool(x) for x in [0, 1, \"\", \"text\"]])"
   ]
  },
  {
   "cell_type": "code",
   "execution_count": 84,
   "id": "80add8f9-6411-4b26-87f0-801532bf1042",
   "metadata": {},
   "outputs": [],
   "source": [
    "lst = [5, 4, 3, 2, 1]"
   ]
  },
  {
   "cell_type": "code",
   "execution_count": 85,
   "id": "bb728376-38af-41be-8947-963cbd64c983",
   "metadata": {},
   "outputs": [],
   "source": [
    "lst.sort()"
   ]
  },
  {
   "cell_type": "code",
   "execution_count": 86,
   "id": "82f05993-2b94-4a0b-a46c-7640e974c806",
   "metadata": {},
   "outputs": [
    {
     "name": "stdout",
     "output_type": "stream",
     "text": [
      "[1, 2, 3, 4, 5]\n"
     ]
    }
   ],
   "source": [
    "print(lst)"
   ]
  },
  {
   "cell_type": "code",
   "execution_count": 87,
   "id": "e12276f4-1898-4fb6-ab77-3fec64d9c0d6",
   "metadata": {},
   "outputs": [],
   "source": [
    "lst = [1, 2, 3, 4, 5]"
   ]
  },
  {
   "cell_type": "code",
   "execution_count": 88,
   "id": "dafafd23-6abd-4fc6-a2fb-0f6b2f587bca",
   "metadata": {},
   "outputs": [],
   "source": [
    "lst[1:4] = [99, 100]"
   ]
  },
  {
   "cell_type": "code",
   "execution_count": 89,
   "id": "3b434417-d5f4-4808-91a0-46b31537763e",
   "metadata": {},
   "outputs": [
    {
     "name": "stdout",
     "output_type": "stream",
     "text": [
      "[1, 99, 100, 5]\n"
     ]
    }
   ],
   "source": [
    "print(lst)"
   ]
  },
  {
   "cell_type": "code",
   "execution_count": 90,
   "id": "9ef550e0-8d10-4257-b34f-7c341596df82",
   "metadata": {},
   "outputs": [],
   "source": [
    "lst = [1, 2, 3]"
   ]
  },
  {
   "cell_type": "code",
   "execution_count": 92,
   "id": "05700a66-63cb-4190-b55e-a4615b558549",
   "metadata": {},
   "outputs": [],
   "source": [
    "lst[1:2] = []"
   ]
  },
  {
   "cell_type": "code",
   "execution_count": 93,
   "id": "8e94e6ff-8780-471f-8d76-b2a7d9518b6c",
   "metadata": {},
   "outputs": [
    {
     "name": "stdout",
     "output_type": "stream",
     "text": [
      "[1, 3]\n"
     ]
    }
   ],
   "source": [
    "print(lst)"
   ]
  },
  {
   "cell_type": "code",
   "execution_count": 94,
   "id": "0b67e1d3-d08d-4cd6-9e6d-dda681c38727",
   "metadata": {},
   "outputs": [],
   "source": [
    "lst = [1, 2, 3]"
   ]
  },
  {
   "cell_type": "code",
   "execution_count": 95,
   "id": "db0dc16a-7e33-401c-a498-35b10d14b9c0",
   "metadata": {},
   "outputs": [],
   "source": [
    "lst[:] = [0]"
   ]
  },
  {
   "cell_type": "code",
   "execution_count": 96,
   "id": "124fce4f-d996-4926-819d-a3e222510354",
   "metadata": {},
   "outputs": [
    {
     "name": "stdout",
     "output_type": "stream",
     "text": [
      "[0]\n"
     ]
    }
   ],
   "source": [
    "print(lst)"
   ]
  },
  {
   "cell_type": "code",
   "execution_count": 97,
   "id": "259f5b9c-ea9d-4ca6-9a7e-42eb6026407b",
   "metadata": {},
   "outputs": [
    {
     "name": "stdout",
     "output_type": "stream",
     "text": [
      "[2]\n"
     ]
    }
   ],
   "source": [
    "print([x for x in [1,2,3] if x % 2 == 0])"
   ]
  },
  {
   "cell_type": "code",
   "execution_count": 98,
   "id": "7971ca69-b720-468b-966c-284fa5211346",
   "metadata": {},
   "outputs": [
    {
     "name": "stdout",
     "output_type": "stream",
     "text": [
      "[3, 2, 1, 0]\n"
     ]
    }
   ],
   "source": [
    "print([i for i in range(3, -1, -1)])\n"
   ]
  },
  {
   "cell_type": "code",
   "execution_count": 99,
   "id": "7b8d700d-fb31-4b8c-b24c-5a3baa904c6c",
   "metadata": {},
   "outputs": [
    {
     "name": "stdout",
     "output_type": "stream",
     "text": [
      "[1, 2]\n"
     ]
    }
   ],
   "source": [
    "print(list(filter(None, [0, False, 1, 2, None])))"
   ]
  },
  {
   "cell_type": "code",
   "execution_count": 100,
   "id": "6ad081fe-1f20-44f5-a2c2-4c47cba1f46d",
   "metadata": {},
   "outputs": [
    {
     "name": "stdout",
     "output_type": "stream",
     "text": [
      "[0, 2]\n"
     ]
    }
   ],
   "source": [
    "print([i for i in range(3) if i not in [1]])"
   ]
  },
  {
   "cell_type": "code",
   "execution_count": 101,
   "id": "e7d014db-a26d-4791-944a-6162f7f1ed66",
   "metadata": {},
   "outputs": [],
   "source": [
    "matrix = [[1, 2], [3, 4]]"
   ]
  },
  {
   "cell_type": "code",
   "execution_count": 102,
   "id": "5620c8c1-c314-4449-b2da-102222900708",
   "metadata": {},
   "outputs": [],
   "source": [
    "transposed = list(zip(*matrix))"
   ]
  },
  {
   "cell_type": "code",
   "execution_count": 103,
   "id": "06b099dc-9cd8-4194-9b78-ecaa5e19d0a9",
   "metadata": {},
   "outputs": [
    {
     "name": "stdout",
     "output_type": "stream",
     "text": [
      "[(1, 3), (2, 4)]\n"
     ]
    }
   ],
   "source": [
    "print(transposed)"
   ]
  },
  {
   "cell_type": "code",
   "execution_count": 104,
   "id": "2b154317-ab51-40bc-acf9-0d467d9d54b9",
   "metadata": {},
   "outputs": [
    {
     "name": "stdout",
     "output_type": "stream",
     "text": [
      "[[1, 3], [2, 4]]\n"
     ]
    }
   ],
   "source": [
    "print([list(t) for t in zip(*matrix)])"
   ]
  },
  {
   "cell_type": "code",
   "execution_count": 105,
   "id": "25150b4f-389a-474d-a04d-61650f63d326",
   "metadata": {},
   "outputs": [
    {
     "name": "stdout",
     "output_type": "stream",
     "text": [
      "True\n"
     ]
    }
   ],
   "source": [
    "print(all(i < 10 for i in [1, 2, 3]))"
   ]
  },
  {
   "cell_type": "code",
   "execution_count": 106,
   "id": "6f2856db-515f-4857-a14c-1ec948495556",
   "metadata": {},
   "outputs": [
    {
     "name": "stdout",
     "output_type": "stream",
     "text": [
      "True\n"
     ]
    }
   ],
   "source": [
    "print(any(i > 3 for i in [1, 2, 4]))"
   ]
  },
  {
   "cell_type": "code",
   "execution_count": 107,
   "id": "9c419108-d02a-41e5-b885-12d0f3cf302c",
   "metadata": {},
   "outputs": [
    {
     "name": "stdout",
     "output_type": "stream",
     "text": [
      "[0, 1, 3, 4, 6, 8, 9]\n"
     ]
    }
   ],
   "source": [
    "print([i for i in range(10) if i not in [2,5,7]])\n"
   ]
  },
  {
   "cell_type": "code",
   "execution_count": 108,
   "id": "75bd8efc-5dbb-4d9a-adab-f5a66f377d9e",
   "metadata": {},
   "outputs": [
    {
     "name": "stdout",
     "output_type": "stream",
     "text": [
      "['Hi']\n"
     ]
    }
   ],
   "source": [
    "print([x for x in [None, 0, \"\", \"Hi\"] if x])\n"
   ]
  },
  {
   "cell_type": "code",
   "execution_count": 109,
   "id": "70718772-d151-4d5d-8f2b-1c830a4f64e9",
   "metadata": {},
   "outputs": [
    {
     "name": "stdout",
     "output_type": "stream",
     "text": [
      "['even', 'odd', 'even', 'odd', 'even']\n"
     ]
    }
   ],
   "source": [
    "print([\"even\" if i % 2 == 0 else \"odd\" for i in range(5)])\n"
   ]
  },
  {
   "cell_type": "code",
   "execution_count": 110,
   "id": "6aeac1a1-1aaa-4ae0-8a90-45b9dacf7855",
   "metadata": {},
   "outputs": [
    {
     "name": "stdout",
     "output_type": "stream",
     "text": [
      "[1, 2, 3, 2, 4, 6, 3, 6, 9]\n"
     ]
    }
   ],
   "source": [
    "print([i*j for i in range(1,4) for j in range(1,4)])"
   ]
  },
  {
   "cell_type": "code",
   "execution_count": 111,
   "id": "f561844e-f343-429c-9ea6-e6a2024ca5f0",
   "metadata": {},
   "outputs": [
    {
     "name": "stdout",
     "output_type": "stream",
     "text": [
      "[0.0, 0.5, 1.0, 1.5, 2.0]\n"
     ]
    }
   ],
   "source": [
    "print([round(i/2,1) for i in range(5)])\n"
   ]
  },
  {
   "cell_type": "code",
   "execution_count": 112,
   "id": "54e3bec0-2d80-4ebb-bd81-839099994b5c",
   "metadata": {},
   "outputs": [
    {
     "name": "stdout",
     "output_type": "stream",
     "text": [
      "[(0, 0), (1, 1), (2, 4), (3, 9)]\n"
     ]
    }
   ],
   "source": [
    "print([(x, x**2) for x in range(4)])"
   ]
  },
  {
   "cell_type": "code",
   "execution_count": 113,
   "id": "d1858313-8f8f-4c77-a6d8-5daa44ef7d6f",
   "metadata": {},
   "outputs": [
    {
     "name": "stdout",
     "output_type": "stream",
     "text": [
      "[0, 10, 20, 30, 40, 50, 60, 70, 80, 90]\n"
     ]
    }
   ],
   "source": [
    "print([i for i in range(100) if i % 10 == 0])"
   ]
  },
  {
   "cell_type": "code",
   "execution_count": 114,
   "id": "f2644185-89bd-4644-b88f-bdc17d03f18c",
   "metadata": {},
   "outputs": [
    {
     "name": "stdout",
     "output_type": "stream",
     "text": [
      "['0', '1', '2', '3', '4']\n"
     ]
    }
   ],
   "source": [
    "print(list(str(i) for i in range(5)))\n"
   ]
  },
  {
   "cell_type": "code",
   "execution_count": 115,
   "id": "01d4ccd8-e1e0-4b20-ad04-baef02aad367",
   "metadata": {},
   "outputs": [],
   "source": [
    "lst = [1, 2, 3]"
   ]
  },
  {
   "cell_type": "code",
   "execution_count": 116,
   "id": "67683458-9eb0-416c-b1b5-dca57bc78961",
   "metadata": {},
   "outputs": [],
   "source": [
    "a, b, c = lst"
   ]
  },
  {
   "cell_type": "code",
   "execution_count": 118,
   "id": "2272786a-450c-404a-847b-1dcf89b0a4bb",
   "metadata": {},
   "outputs": [
    {
     "name": "stdout",
     "output_type": "stream",
     "text": [
      "1 2 3\n"
     ]
    }
   ],
   "source": [
    "print(a, b, c)"
   ]
  },
  {
   "cell_type": "code",
   "execution_count": 119,
   "id": "4cac4f64-2963-4703-96f6-a313fdb72503",
   "metadata": {},
   "outputs": [],
   "source": [
    "lst = [1, 2, 3]"
   ]
  },
  {
   "cell_type": "code",
   "execution_count": 120,
   "id": "69e381ff-2d80-4b51-b1c9-f4207e359296",
   "metadata": {},
   "outputs": [],
   "source": [
    "a, *rest = lst"
   ]
  },
  {
   "cell_type": "code",
   "execution_count": 121,
   "id": "99289bdb-8db0-44c0-8fb4-818ddd681524",
   "metadata": {},
   "outputs": [
    {
     "name": "stdout",
     "output_type": "stream",
     "text": [
      "1 [2, 3]\n"
     ]
    }
   ],
   "source": [
    "print(a, rest)"
   ]
  },
  {
   "cell_type": "code",
   "execution_count": 122,
   "id": "cb630f37-ef4c-4a53-aa48-4c4d08b76dd3",
   "metadata": {},
   "outputs": [
    {
     "name": "stdout",
     "output_type": "stream",
     "text": [
      "[0, 1, 2, 4, 5, 7, 8, 9]\n"
     ]
    }
   ],
   "source": [
    "print([i for i in range(10) if i not in (3,6)])"
   ]
  },
  {
   "cell_type": "code",
   "execution_count": 123,
   "id": "e2302862-6135-42c6-907c-64f3183eb32d",
   "metadata": {},
   "outputs": [
    {
     "name": "stdout",
     "output_type": "stream",
     "text": [
      "[[0, 1, 2], [0, 1, 2], [0, 1, 2]]\n"
     ]
    }
   ],
   "source": [
    "print([[i for i in range(3)] for _ in range(3)])"
   ]
  },
  {
   "cell_type": "code",
   "execution_count": 124,
   "id": "94b11eb2-43db-46d3-8f5f-2eb90eea6db9",
   "metadata": {},
   "outputs": [
    {
     "name": "stdout",
     "output_type": "stream",
     "text": [
      "[3, 7]\n"
     ]
    }
   ],
   "source": [
    "print([sum(row) for row in [[1,2],[3,4]]])"
   ]
  },
  {
   "cell_type": "code",
   "execution_count": 125,
   "id": "b117a74f-da32-46c4-8f33-91549845589f",
   "metadata": {},
   "outputs": [
    {
     "name": "stdout",
     "output_type": "stream",
     "text": [
      "[[2, 1], [4, 3]]\n"
     ]
    }
   ],
   "source": [
    "print([row[::-1] for row in [[1,2],[3,4]]])"
   ]
  },
  {
   "cell_type": "code",
   "execution_count": 126,
   "id": "dc0e0be0-6117-45d3-9274-a62cf9e13ae7",
   "metadata": {},
   "outputs": [
    {
     "name": "stdout",
     "output_type": "stream",
     "text": [
      "['No', 'No', 'Yes']\n"
     ]
    }
   ],
   "source": [
    "print([\"Yes\" if x > 0 else \"No\" for x in [-1, 0, 1]])"
   ]
  },
  {
   "cell_type": "code",
   "execution_count": 127,
   "id": "b7ed59be-5041-4985-97a7-99aed817d3f7",
   "metadata": {},
   "outputs": [
    {
     "name": "stdout",
     "output_type": "stream",
     "text": [
      "[1, 2, 'Fizz', 4, 'Buzz', 'Fizz', 7, 8, 'Fizz', 'Buzz', 11, 'Fizz', 13, 14, 'FizzBuzz', 16, 17, 'Fizz', 19, 'Buzz']\n"
     ]
    }
   ],
   "source": [
    "print([\"FizzBuzz\" if i%15==0 else \"Fizz\" if i%3==0 else \"Buzz\" if i%5==0 else i for i in range(1,21)])"
   ]
  },
  {
   "cell_type": "code",
   "execution_count": 128,
   "id": "3d266cac-d2b0-439b-b438-156e84dc2850",
   "metadata": {},
   "outputs": [
    {
     "name": "stdout",
     "output_type": "stream",
     "text": [
      "[('a', 1), ('b', 2), ('c', 3)]\n"
     ]
    }
   ],
   "source": [
    "print(list(zip(\"abc\", [1,2,3])))"
   ]
  },
  {
   "cell_type": "code",
   "execution_count": 129,
   "id": "4441d60e-b160-49c0-8e52-7dfe15da77d1",
   "metadata": {},
   "outputs": [
    {
     "name": "stdout",
     "output_type": "stream",
     "text": [
      "[0, 1, 2, 3, 4]\n"
     ]
    }
   ],
   "source": [
    "print([*range(5)])"
   ]
  },
  {
   "cell_type": "code",
   "execution_count": 130,
   "id": "16a969fc-f3ad-409c-a962-651b40491a21",
   "metadata": {},
   "outputs": [
    {
     "name": "stdout",
     "output_type": "stream",
     "text": [
      "['a', 'b', 'c']\n"
     ]
    }
   ],
   "source": [
    "print([chr(i) for i in range(97, 100)])"
   ]
  },
  {
   "cell_type": "code",
   "execution_count": 131,
   "id": "f2dd7ec5-687d-48ec-8df4-f911836c24b3",
   "metadata": {},
   "outputs": [
    {
     "name": "stdout",
     "output_type": "stream",
     "text": [
      "[97, 98, 99]\n"
     ]
    }
   ],
   "source": [
    "print([ord(c) for c in \"abc\"])"
   ]
  },
  {
   "cell_type": "code",
   "execution_count": 132,
   "id": "85118ece-9631-448d-92a9-e7bbca8fa9d8",
   "metadata": {},
   "outputs": [
    {
     "name": "stdout",
     "output_type": "stream",
     "text": [
      "['0:0', '1:1', '2:4']\n"
     ]
    }
   ],
   "source": [
    "print([\"{}:{}\".format(i,i**2) for i in range(3)])"
   ]
  },
  {
   "cell_type": "code",
   "execution_count": 133,
   "id": "cd4f65ce-97fe-42a4-9958-a2d05c82ec47",
   "metadata": {},
   "outputs": [
    {
     "name": "stdout",
     "output_type": "stream",
     "text": [
      "[3, 4]\n"
     ]
    }
   ],
   "source": [
    "print(list(filter(lambda x: x > 2, [1,2,3,4])))"
   ]
  },
  {
   "cell_type": "code",
   "execution_count": 134,
   "id": "958a7291-3bb7-4b4e-aa54-311910817944",
   "metadata": {},
   "outputs": [
    {
     "name": "stdout",
     "output_type": "stream",
     "text": [
      "[1, 8, 27]\n"
     ]
    }
   ],
   "source": [
    "print(list(map(lambda x: x**3, [1,2,3])))"
   ]
  },
  {
   "cell_type": "code",
   "execution_count": 136,
   "id": "b7da00a6-66de-4b2e-8a5d-bb6a3e378576",
   "metadata": {},
   "outputs": [
    {
     "name": "stdout",
     "output_type": "stream",
     "text": [
      "[4, 6]\n"
     ]
    }
   ],
   "source": [
    "print(list(map(lambda x,y: x+y, [1,2], [3,4])))\n",
    "\n"
   ]
  },
  {
   "cell_type": "code",
   "execution_count": 137,
   "id": "4f0fb80d-f027-4508-b76f-7352d700e2f8",
   "metadata": {},
   "outputs": [
    {
     "name": "stdout",
     "output_type": "stream",
     "text": [
      "[0, 0, 1, 1, 2, 2]\n"
     ]
    }
   ],
   "source": [
    "print([i for i in range(3) for _ in range(2)])"
   ]
  },
  {
   "cell_type": "code",
   "execution_count": 138,
   "id": "db57daeb-47d7-45f8-9097-80df28411cf4",
   "metadata": {},
   "outputs": [
    {
     "name": "stdout",
     "output_type": "stream",
     "text": [
      "[0, 1, 2, 0, 1, 2]\n"
     ]
    }
   ],
   "source": [
    "print([i for _ in range(2) for i in range(3)])"
   ]
  },
  {
   "cell_type": "code",
   "execution_count": 139,
   "id": "d6ea477c-b527-44c7-9161-3c01787f3705",
   "metadata": {},
   "outputs": [
    {
     "name": "stdout",
     "output_type": "stream",
     "text": [
      "[0, 1, 3, 4]\n"
     ]
    }
   ],
   "source": [
    "print([x for x in range(5) if x != 2])\n"
   ]
  },
  {
   "cell_type": "code",
   "execution_count": 140,
   "id": "c7ef38df-0f02-47e7-9ca8-e53aed721591",
   "metadata": {},
   "outputs": [
    {
     "name": "stdout",
     "output_type": "stream",
     "text": [
      "[[0, 1, 2], [1, 2, 3], [2, 3, 4]]\n"
     ]
    }
   ],
   "source": [
    "print([[i+j for j in range(3)] for i in range(3)])"
   ]
  },
  {
   "cell_type": "code",
   "execution_count": 141,
   "id": "66f75990-83d2-43cb-b56e-5a43865aca98",
   "metadata": {},
   "outputs": [
    {
     "name": "stdout",
     "output_type": "stream",
     "text": [
      "['Yes', 'No', 'Yes', 'No']\n"
     ]
    }
   ],
   "source": [
    "print([\"Yes\" if i%2==0 else \"No\" for i in range(4)])"
   ]
  },
  {
   "cell_type": "code",
   "execution_count": 142,
   "id": "6d0fc71d-1fb7-47f7-a531-7afc40b1165e",
   "metadata": {},
   "outputs": [
    {
     "name": "stdout",
     "output_type": "stream",
     "text": [
      "['', '*', '**', '***', '****']\n"
     ]
    }
   ],
   "source": [
    "print([\"*\"*i for i in range(5)])"
   ]
  },
  {
   "cell_type": "code",
   "execution_count": 143,
   "id": "5611a0db-1f9c-4af0-a1ec-3b58156c41c2",
   "metadata": {},
   "outputs": [
    {
     "name": "stdout",
     "output_type": "stream",
     "text": [
      "['', '0', '0 1', '0 1 2', '0 1 2 3']\n"
     ]
    }
   ],
   "source": [
    "print([\" \".join([str(j) for j in range(i)]) for i in range(5)])\n"
   ]
  },
  {
   "cell_type": "code",
   "execution_count": 144,
   "id": "91828a1c-65d3-416c-b1c9-2af1b6a83179",
   "metadata": {},
   "outputs": [
    {
     "name": "stdout",
     "output_type": "stream",
     "text": [
      "[[], [1], [2, 2], [3, 3, 3], [4, 4, 4, 4]]\n"
     ]
    }
   ],
   "source": [
    "print([[i]*i for i in range(5)])"
   ]
  },
  {
   "cell_type": "code",
   "execution_count": 145,
   "id": "b4fa060c-229f-4c00-9949-7aac115f8c25",
   "metadata": {},
   "outputs": [
    {
     "name": "stdout",
     "output_type": "stream",
     "text": [
      "['even', 'odd', 'even', 'odd', 'even']\n"
     ]
    }
   ],
   "source": [
    "print([\"even\"*(i%2==0) or \"odd\" for i in range(5)])"
   ]
  },
  {
   "cell_type": "code",
   "execution_count": 146,
   "id": "36684d06-332e-45cb-b74b-f51572d31ee0",
   "metadata": {},
   "outputs": [
    {
     "name": "stdout",
     "output_type": "stream",
     "text": [
      "[0, 2, 4, 6, 8]\n"
     ]
    }
   ],
   "source": [
    "print([i for i in range(10) if i & 1 == 0])"
   ]
  },
  {
   "cell_type": "code",
   "execution_count": 147,
   "id": "16c5b28f-4358-4155-97d8-2bb479b30335",
   "metadata": {},
   "outputs": [
    {
     "name": "stdout",
     "output_type": "stream",
     "text": [
      "[1, 3, 5, 7, 9]\n"
     ]
    }
   ],
   "source": [
    "print([i for i in range(10) if bin(i)[-1] == \"1\"])\n"
   ]
  },
  {
   "cell_type": "code",
   "execution_count": 148,
   "id": "b83f98e7-93b9-4897-8dd0-cd22eec1ac0e",
   "metadata": {},
   "outputs": [
    {
     "name": "stdout",
     "output_type": "stream",
     "text": [
      "[1, 2, 3]\n"
     ]
    }
   ],
   "source": [
    "print(list(set([1,2,2,3])))"
   ]
  },
  {
   "cell_type": "code",
   "execution_count": 149,
   "id": "57a41d1f-ea81-4c4d-b316-e4425516e5ef",
   "metadata": {},
   "outputs": [
    {
     "name": "stdout",
     "output_type": "stream",
     "text": [
      "{2}\n"
     ]
    }
   ],
   "source": [
    "print(set([1,2]) & set([2,3]))"
   ]
  },
  {
   "cell_type": "code",
   "execution_count": 150,
   "id": "39603dbc-43c9-469c-8bc0-8548cdfdb9f9",
   "metadata": {},
   "outputs": [
    {
     "name": "stdout",
     "output_type": "stream",
     "text": [
      "{1, 2, 3, 4}\n"
     ]
    }
   ],
   "source": [
    "print(set([1,2]) | set([3,4]))"
   ]
  },
  {
   "cell_type": "code",
   "execution_count": 151,
   "id": "9b82061b-c16e-4bb7-85a5-e71063033fb6",
   "metadata": {},
   "outputs": [
    {
     "name": "stdout",
     "output_type": "stream",
     "text": [
      "{1}\n"
     ]
    }
   ],
   "source": [
    "print(set([1,2]) - set([2]))"
   ]
  },
  {
   "cell_type": "code",
   "execution_count": null,
   "id": "1568ed9d-ae23-4d94-9a66-9264fdba5016",
   "metadata": {},
   "outputs": [],
   "source": []
  }
 ],
 "metadata": {
  "kernelspec": {
   "display_name": "Python 3 (ipykernel)",
   "language": "python",
   "name": "python3"
  },
  "language_info": {
   "codemirror_mode": {
    "name": "ipython",
    "version": 3
   },
   "file_extension": ".py",
   "mimetype": "text/x-python",
   "name": "python",
   "nbconvert_exporter": "python",
   "pygments_lexer": "ipython3",
   "version": "3.12.11"
  }
 },
 "nbformat": 4,
 "nbformat_minor": 5
}
