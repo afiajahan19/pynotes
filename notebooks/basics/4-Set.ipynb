{
 "cells": [
  {
   "cell_type": "code",
   "execution_count": 1,
   "id": "303c9c84-421e-497a-a83d-eb1516f7c888",
   "metadata": {},
   "outputs": [],
   "source": [
    "s = {1, 2, 3}"
   ]
  },
  {
   "cell_type": "code",
   "execution_count": 2,
   "id": "469452fe-fa2a-4719-9c4c-032b69675c22",
   "metadata": {},
   "outputs": [
    {
     "name": "stdout",
     "output_type": "stream",
     "text": [
      "{1, 2, 3}\n"
     ]
    }
   ],
   "source": [
    "print(s)"
   ]
  },
  {
   "cell_type": "code",
   "execution_count": 3,
   "id": "71e42de8-4896-48ad-95e7-71a41b3378c5",
   "metadata": {},
   "outputs": [
    {
     "name": "stdout",
     "output_type": "stream",
     "text": [
      "3\n"
     ]
    }
   ],
   "source": [
    "print(len(s)) "
   ]
  },
  {
   "cell_type": "code",
   "execution_count": 4,
   "id": "8c8346e6-fb68-48e0-ba2a-a400b45ded6b",
   "metadata": {},
   "outputs": [
    {
     "name": "stdout",
     "output_type": "stream",
     "text": [
      "True\n"
     ]
    }
   ],
   "source": [
    "print(2 in s)"
   ]
  },
  {
   "cell_type": "code",
   "execution_count": 5,
   "id": "864f049d-c386-4abe-a05d-ec4093ac0467",
   "metadata": {},
   "outputs": [
    {
     "name": "stdout",
     "output_type": "stream",
     "text": [
      "True\n"
     ]
    }
   ],
   "source": [
    "print(2 in s)"
   ]
  },
  {
   "cell_type": "code",
   "execution_count": 6,
   "id": "6328ff4b-fba9-4a88-9c10-5855bbdc0977",
   "metadata": {},
   "outputs": [],
   "source": [
    "s.add(4)"
   ]
  },
  {
   "cell_type": "code",
   "execution_count": 7,
   "id": "c71beab9-4bff-45cd-bdf1-703b901a6a06",
   "metadata": {},
   "outputs": [
    {
     "name": "stdout",
     "output_type": "stream",
     "text": [
      "{1, 2, 3, 4}\n"
     ]
    }
   ],
   "source": [
    "print(s)"
   ]
  },
  {
   "cell_type": "code",
   "execution_count": 9,
   "id": "8ec2b3b2-7133-46a6-ae29-7813dbf3a76c",
   "metadata": {},
   "outputs": [],
   "source": [
    "s.remove(3)"
   ]
  },
  {
   "cell_type": "code",
   "execution_count": 10,
   "id": "0df0aca0-770a-4fdf-a4b8-adb5b90bd6dd",
   "metadata": {},
   "outputs": [
    {
     "name": "stdout",
     "output_type": "stream",
     "text": [
      "{1, 2, 4}\n"
     ]
    }
   ],
   "source": [
    "print(s)"
   ]
  },
  {
   "cell_type": "code",
   "execution_count": 11,
   "id": "33783bf8-e06e-4b14-b0c0-99c9ca7db7fe",
   "metadata": {},
   "outputs": [],
   "source": [
    "s.discard(5)"
   ]
  },
  {
   "cell_type": "code",
   "execution_count": 12,
   "id": "f51ed76e-ee24-4a45-858e-9b1d74afb6b2",
   "metadata": {},
   "outputs": [
    {
     "name": "stdout",
     "output_type": "stream",
     "text": [
      "{1, 2, 4}\n"
     ]
    }
   ],
   "source": [
    "print(s)"
   ]
  },
  {
   "cell_type": "code",
   "execution_count": 13,
   "id": "e600b8b6-721b-43b1-a674-ae3a38f5277b",
   "metadata": {},
   "outputs": [],
   "source": [
    "s.update([5, 6])"
   ]
  },
  {
   "cell_type": "code",
   "execution_count": 17,
   "id": "4e2e6b49-ea4e-44ab-ae59-027a360e5e05",
   "metadata": {},
   "outputs": [
    {
     "name": "stdout",
     "output_type": "stream",
     "text": [
      "{1, 2, 3}\n"
     ]
    }
   ],
   "source": [
    "print(s)"
   ]
  },
  {
   "cell_type": "code",
   "execution_count": 14,
   "id": "3c8bb0d2-dda7-4c31-9e1b-128653891ffb",
   "metadata": {},
   "outputs": [],
   "source": [
    "s.clear()"
   ]
  },
  {
   "cell_type": "code",
   "execution_count": 18,
   "id": "028b192e-9815-411f-b372-81fc8b91c820",
   "metadata": {},
   "outputs": [
    {
     "name": "stdout",
     "output_type": "stream",
     "text": [
      "{1, 2, 3}\n"
     ]
    }
   ],
   "source": [
    "print(s)"
   ]
  },
  {
   "cell_type": "code",
   "execution_count": 15,
   "id": "df4b7a78-f141-4f60-a96a-0ed75ce3919c",
   "metadata": {},
   "outputs": [],
   "source": [
    "s = set([1, 2, 3])"
   ]
  },
  {
   "cell_type": "code",
   "execution_count": 19,
   "id": "d2741265-77a3-4943-898d-1b4c0824107b",
   "metadata": {},
   "outputs": [
    {
     "name": "stdout",
     "output_type": "stream",
     "text": [
      "{1, 2, 3}\n"
     ]
    }
   ],
   "source": [
    "print(s)"
   ]
  },
  {
   "cell_type": "code",
   "execution_count": 16,
   "id": "210f4a19-7841-47db-ae97-78506aa3ced1",
   "metadata": {},
   "outputs": [
    {
     "name": "stdout",
     "output_type": "stream",
     "text": [
      "{'o', 'l', 'h', 'e'}\n"
     ]
    }
   ],
   "source": [
    "print(set(\"hello\"))"
   ]
  },
  {
   "cell_type": "code",
   "execution_count": 20,
   "id": "b42e5ec4-88c5-4446-a0b5-5d89cb239456",
   "metadata": {},
   "outputs": [],
   "source": [
    "a = {1, 2, 3}\n",
    "b = {3, 4, 5}"
   ]
  },
  {
   "cell_type": "code",
   "execution_count": 22,
   "id": "cf60f57a-10ee-4d71-8aaa-6a4b20cc6afc",
   "metadata": {},
   "outputs": [],
   "source": [
    "#union"
   ]
  },
  {
   "cell_type": "code",
   "execution_count": 23,
   "id": "62fb7617-7aae-4905-87ba-011324905b83",
   "metadata": {},
   "outputs": [
    {
     "name": "stdout",
     "output_type": "stream",
     "text": [
      "{1, 2, 3, 4, 5}\n"
     ]
    }
   ],
   "source": [
    "print(a | b)  "
   ]
  },
  {
   "cell_type": "code",
   "execution_count": 24,
   "id": "49cb5fae-4fb6-43ef-a184-5cb87693c626",
   "metadata": {},
   "outputs": [],
   "source": [
    "#intersection"
   ]
  },
  {
   "cell_type": "code",
   "execution_count": 25,
   "id": "98c9c47a-ac16-43b4-b445-f2251172c365",
   "metadata": {},
   "outputs": [
    {
     "name": "stdout",
     "output_type": "stream",
     "text": [
      "{3}\n"
     ]
    }
   ],
   "source": [
    "print(a & b)  "
   ]
  },
  {
   "cell_type": "code",
   "execution_count": 26,
   "id": "8a944055-99af-47fc-a8cd-4a2aad296d26",
   "metadata": {},
   "outputs": [],
   "source": [
    "# difference"
   ]
  },
  {
   "cell_type": "code",
   "execution_count": 27,
   "id": "4b1d2dfe-127f-4b64-b0e4-dc74f00b7ddc",
   "metadata": {},
   "outputs": [
    {
     "name": "stdout",
     "output_type": "stream",
     "text": [
      "{1, 2}\n"
     ]
    }
   ],
   "source": [
    "print(a - b) "
   ]
  },
  {
   "cell_type": "code",
   "execution_count": 28,
   "id": "9e9600f4-4787-428a-992a-e08a8169e90d",
   "metadata": {},
   "outputs": [
    {
     "name": "stdout",
     "output_type": "stream",
     "text": [
      "{4, 5}\n"
     ]
    }
   ],
   "source": [
    "print(b - a) "
   ]
  },
  {
   "cell_type": "code",
   "execution_count": 29,
   "id": "f8284525-c047-43b2-a0fd-1a2f1cb79a06",
   "metadata": {},
   "outputs": [],
   "source": [
    "# symmetric difference"
   ]
  },
  {
   "cell_type": "code",
   "execution_count": 30,
   "id": "364188aa-0720-4f18-86ef-5fbbcbe11a79",
   "metadata": {},
   "outputs": [
    {
     "name": "stdout",
     "output_type": "stream",
     "text": [
      "{1, 2, 4, 5}\n"
     ]
    }
   ],
   "source": [
    "print(a ^ b) "
   ]
  },
  {
   "cell_type": "code",
   "execution_count": 31,
   "id": "44c2ced4-f759-478e-8fd2-63eb1db656bd",
   "metadata": {},
   "outputs": [
    {
     "name": "stdout",
     "output_type": "stream",
     "text": [
      "{1, 2, 3, 4, 5}\n"
     ]
    }
   ],
   "source": [
    "print(a.union(b))"
   ]
  },
  {
   "cell_type": "code",
   "execution_count": 32,
   "id": "255495d6-c322-402a-8e8b-b84d021c25d3",
   "metadata": {},
   "outputs": [
    {
     "name": "stdout",
     "output_type": "stream",
     "text": [
      "{3}\n"
     ]
    }
   ],
   "source": [
    "print(a.intersection(b))"
   ]
  },
  {
   "cell_type": "code",
   "execution_count": 33,
   "id": "157d7cfc-7643-418e-91af-6902e67815cb",
   "metadata": {},
   "outputs": [
    {
     "name": "stdout",
     "output_type": "stream",
     "text": [
      "{1, 2}\n"
     ]
    }
   ],
   "source": [
    "print(a.difference(b))"
   ]
  },
  {
   "cell_type": "code",
   "execution_count": 34,
   "id": "6e16a337-205e-408c-81fd-ee40fa848eed",
   "metadata": {},
   "outputs": [
    {
     "name": "stdout",
     "output_type": "stream",
     "text": [
      "{1, 2, 4, 5}\n"
     ]
    }
   ],
   "source": [
    "print(a.symmetric_difference(b))"
   ]
  },
  {
   "cell_type": "code",
   "execution_count": 36,
   "id": "9a3df693-cdc5-4e11-9f19-ce199dfc2fc9",
   "metadata": {},
   "outputs": [],
   "source": [
    "a |= b"
   ]
  },
  {
   "cell_type": "code",
   "execution_count": 40,
   "id": "f127b935-c823-48fd-b950-3ddedcebe436",
   "metadata": {},
   "outputs": [
    {
     "name": "stdout",
     "output_type": "stream",
     "text": [
      "{1, 2, 4, 5}\n"
     ]
    }
   ],
   "source": [
    "print(a)"
   ]
  },
  {
   "cell_type": "code",
   "execution_count": 41,
   "id": "bb05f9c3-ea60-4a41-9476-5d34d527c773",
   "metadata": {},
   "outputs": [],
   "source": [
    "a = {1, 2, 3}\n",
    "a &= b"
   ]
  },
  {
   "cell_type": "code",
   "execution_count": 42,
   "id": "2e3d3840-b2d3-4b4a-a095-e7d3215b6be6",
   "metadata": {},
   "outputs": [
    {
     "name": "stdout",
     "output_type": "stream",
     "text": [
      "{3}\n"
     ]
    }
   ],
   "source": [
    "print(a)"
   ]
  },
  {
   "cell_type": "code",
   "execution_count": 43,
   "id": "58ee9115-4aad-43a0-8f61-2a39a6367b5b",
   "metadata": {},
   "outputs": [],
   "source": [
    "a = {1, 2, 3}\n",
    "a -= b"
   ]
  },
  {
   "cell_type": "code",
   "execution_count": 44,
   "id": "57f394c6-6511-4976-9493-d78e09b8c43d",
   "metadata": {},
   "outputs": [
    {
     "name": "stdout",
     "output_type": "stream",
     "text": [
      "{1, 2}\n"
     ]
    }
   ],
   "source": [
    "print(a)"
   ]
  },
  {
   "cell_type": "code",
   "execution_count": 45,
   "id": "75c454ac-65b4-4be8-a155-b3a82045685e",
   "metadata": {},
   "outputs": [],
   "source": [
    "a = {1, 2, 3}\n",
    "a ^= b"
   ]
  },
  {
   "cell_type": "code",
   "execution_count": 46,
   "id": "19f39853-0792-422e-a767-59b30f4cee1d",
   "metadata": {},
   "outputs": [
    {
     "name": "stdout",
     "output_type": "stream",
     "text": [
      "{1, 2, 4, 5}\n"
     ]
    }
   ],
   "source": [
    "print(a)"
   ]
  },
  {
   "cell_type": "code",
   "execution_count": 47,
   "id": "30b544d0-f4d5-4e8b-80c3-08f999ed9742",
   "metadata": {},
   "outputs": [
    {
     "name": "stdout",
     "output_type": "stream",
     "text": [
      "False\n"
     ]
    }
   ],
   "source": [
    "print(a.isdisjoint(b))"
   ]
  },
  {
   "cell_type": "code",
   "execution_count": 48,
   "id": "52706e17-2adf-41df-9a15-5daa76a53721",
   "metadata": {},
   "outputs": [
    {
     "name": "stdout",
     "output_type": "stream",
     "text": [
      "False\n"
     ]
    }
   ],
   "source": [
    "print(a.issubset(b))"
   ]
  },
  {
   "cell_type": "code",
   "execution_count": 49,
   "id": "7a8ff985-4c00-4476-ba11-f2130c509e38",
   "metadata": {},
   "outputs": [
    {
     "name": "stdout",
     "output_type": "stream",
     "text": [
      "False\n"
     ]
    }
   ],
   "source": [
    "print(a.issuperset(b))"
   ]
  },
  {
   "cell_type": "code",
   "execution_count": 50,
   "id": "60403310-7790-475b-b158-ea3855c2c440",
   "metadata": {},
   "outputs": [],
   "source": [
    "a = {1, 2}\n",
    "b = {1, 2, 3}"
   ]
  },
  {
   "cell_type": "code",
   "execution_count": 51,
   "id": "1c32820f-0045-4375-963d-13c3e51ed7fb",
   "metadata": {},
   "outputs": [
    {
     "name": "stdout",
     "output_type": "stream",
     "text": [
      "True\n"
     ]
    }
   ],
   "source": [
    "print(a < b) "
   ]
  },
  {
   "cell_type": "code",
   "execution_count": 52,
   "id": "cc962453-2ddb-470d-8e40-8027b80b5062",
   "metadata": {},
   "outputs": [
    {
     "name": "stdout",
     "output_type": "stream",
     "text": [
      "True\n"
     ]
    }
   ],
   "source": [
    "print(b > a)"
   ]
  },
  {
   "cell_type": "code",
   "execution_count": 53,
   "id": "1b400c14-3608-4911-8fa2-397f3099e4eb",
   "metadata": {},
   "outputs": [
    {
     "name": "stdout",
     "output_type": "stream",
     "text": [
      "False\n"
     ]
    }
   ],
   "source": [
    "print(bool(set()))"
   ]
  },
  {
   "cell_type": "code",
   "execution_count": 54,
   "id": "3869bb06-a11e-4c68-b6fd-10e4f5137205",
   "metadata": {},
   "outputs": [
    {
     "name": "stdout",
     "output_type": "stream",
     "text": [
      "{0, 1, 2, 3, 4}\n"
     ]
    }
   ],
   "source": [
    "print(set(range(5)))\n"
   ]
  },
  {
   "cell_type": "code",
   "execution_count": 55,
   "id": "1ad1b665-552f-4f03-b112-4e28983e2984",
   "metadata": {},
   "outputs": [],
   "source": [
    "s = {1, 2, 3}"
   ]
  },
  {
   "cell_type": "code",
   "execution_count": 56,
   "id": "2cfdddfe-88a0-44f0-bfb1-d908ebbdb396",
   "metadata": {},
   "outputs": [
    {
     "name": "stdout",
     "output_type": "stream",
     "text": [
      "1\n",
      "2\n",
      "3\n"
     ]
    }
   ],
   "source": [
    "for i in s:\n",
    "    print(i)"
   ]
  },
  {
   "cell_type": "code",
   "execution_count": 57,
   "id": "b9e5619d-97b3-42c4-8569-04d803e49bb3",
   "metadata": {},
   "outputs": [],
   "source": [
    "s1 = {1, 2, 3}\n",
    "s2 = s1.copy()"
   ]
  },
  {
   "cell_type": "code",
   "execution_count": 58,
   "id": "81fe8d0e-fcb4-4744-a206-8b79f55a1175",
   "metadata": {},
   "outputs": [
    {
     "name": "stdout",
     "output_type": "stream",
     "text": [
      "{1, 2, 3}\n"
     ]
    }
   ],
   "source": [
    "print(s2)\n"
   ]
  },
  {
   "cell_type": "code",
   "execution_count": 59,
   "id": "467cb379-3ea8-4681-be53-62c0f3804f86",
   "metadata": {},
   "outputs": [
    {
     "name": "stdout",
     "output_type": "stream",
     "text": [
      "False\n"
     ]
    }
   ],
   "source": [
    "print(s1 is s2)"
   ]
  },
  {
   "cell_type": "code",
   "execution_count": 60,
   "id": "b098def7-887d-40bd-8321-b08bfbe333a0",
   "metadata": {},
   "outputs": [
    {
     "name": "stdout",
     "output_type": "stream",
     "text": [
      "True\n"
     ]
    }
   ],
   "source": [
    "print(s1 == s2) "
   ]
  },
  {
   "cell_type": "code",
   "execution_count": 61,
   "id": "d2ef1203-618d-4604-ba7c-1f2345fff92d",
   "metadata": {},
   "outputs": [],
   "source": [
    "s = {1, 2, 2, 3}"
   ]
  },
  {
   "cell_type": "code",
   "execution_count": 62,
   "id": "6af70045-4675-4fdf-8546-8e9a9f316656",
   "metadata": {},
   "outputs": [
    {
     "name": "stdout",
     "output_type": "stream",
     "text": [
      "{1, 2, 3}\n"
     ]
    }
   ],
   "source": [
    "print(s)"
   ]
  },
  {
   "cell_type": "code",
   "execution_count": 63,
   "id": "ed82cae8-6783-44a7-a535-10a43de59229",
   "metadata": {},
   "outputs": [
    {
     "name": "stdout",
     "output_type": "stream",
     "text": [
      "3\n"
     ]
    }
   ],
   "source": [
    "print(len({1, 2, 2, 3}))"
   ]
  },
  {
   "cell_type": "code",
   "execution_count": 64,
   "id": "618eaa1d-55e0-4d89-9457-128d1c778f53",
   "metadata": {},
   "outputs": [
    {
     "name": "stdout",
     "output_type": "stream",
     "text": [
      "{1, 2, 3}\n"
     ]
    }
   ],
   "source": [
    "print(set([1, 2, 2, 3]))"
   ]
  },
  {
   "cell_type": "code",
   "execution_count": 65,
   "id": "b4b602a8-836e-4141-9e68-c7965d769ed6",
   "metadata": {},
   "outputs": [],
   "source": [
    "a = {1, 2, 3}\n",
    "b = {2, 3}"
   ]
  },
  {
   "cell_type": "code",
   "execution_count": 66,
   "id": "2f17a052-fdc8-4fda-bfe3-ea99131e46a8",
   "metadata": {},
   "outputs": [
    {
     "name": "stdout",
     "output_type": "stream",
     "text": [
      "True\n"
     ]
    }
   ],
   "source": [
    "print(b <= a)"
   ]
  },
  {
   "cell_type": "code",
   "execution_count": 67,
   "id": "70943d3d-dd2e-46fe-9635-577ac69f3efa",
   "metadata": {},
   "outputs": [
    {
     "name": "stdout",
     "output_type": "stream",
     "text": [
      "True\n"
     ]
    }
   ],
   "source": [
    "print(a >= b) "
   ]
  },
  {
   "cell_type": "code",
   "execution_count": 68,
   "id": "287d9db7-c89c-4139-a6b1-2d1b73ffc375",
   "metadata": {},
   "outputs": [
    {
     "name": "stdout",
     "output_type": "stream",
     "text": [
      "{0, 2, 4, 6, 8}\n"
     ]
    }
   ],
   "source": [
    "print({x for x in range(10) if x % 2 == 0})"
   ]
  },
  {
   "cell_type": "code",
   "execution_count": 69,
   "id": "ba55d897-103f-4ef0-9314-87136a5ab914",
   "metadata": {},
   "outputs": [
    {
     "name": "stdout",
     "output_type": "stream",
     "text": [
      "{'n', 'b', 'a'}\n"
     ]
    }
   ],
   "source": [
    "print(set(\"banana\")) "
   ]
  },
  {
   "cell_type": "code",
   "execution_count": 70,
   "id": "3e66a58b-83cd-43f8-b868-9d55ceca4c3c",
   "metadata": {},
   "outputs": [
    {
     "name": "stdout",
     "output_type": "stream",
     "text": [
      "{'B', 'A', 'C'}\n"
     ]
    }
   ],
   "source": [
    "print({x.upper() for x in \"abc\"})"
   ]
  },
  {
   "cell_type": "code",
   "execution_count": 71,
   "id": "5a8c41c6-f161-42c3-98d2-c7fcf69e4271",
   "metadata": {},
   "outputs": [],
   "source": [
    "s = {1, 2, 3}\n",
    "s2 = frozenset(s)"
   ]
  },
  {
   "cell_type": "code",
   "execution_count": 72,
   "id": "36438916-15cf-4b63-8f6d-bd73c25f44cb",
   "metadata": {},
   "outputs": [
    {
     "name": "stdout",
     "output_type": "stream",
     "text": [
      "frozenset({1, 2, 3})\n"
     ]
    }
   ],
   "source": [
    "print(s2)"
   ]
  },
  {
   "cell_type": "code",
   "execution_count": 73,
   "id": "27b4dde7-167e-4e63-9b7c-747043729e99",
   "metadata": {},
   "outputs": [
    {
     "name": "stdout",
     "output_type": "stream",
     "text": [
      "<class 'set'>\n"
     ]
    }
   ],
   "source": [
    "print(type(s))"
   ]
  },
  {
   "cell_type": "code",
   "execution_count": 74,
   "id": "92788860-0aa9-41cb-97b7-2f2ff6dbaa1c",
   "metadata": {},
   "outputs": [],
   "source": [
    "s = set()\n",
    "s.add(1)"
   ]
  },
  {
   "cell_type": "code",
   "execution_count": 75,
   "id": "c301440c-60b8-42ca-99e5-8f08416d77f7",
   "metadata": {},
   "outputs": [
    {
     "name": "stdout",
     "output_type": "stream",
     "text": [
      "{1}\n"
     ]
    }
   ],
   "source": [
    "print(s)"
   ]
  },
  {
   "cell_type": "code",
   "execution_count": 76,
   "id": "d6d6b32b-8142-4814-9a2c-55d48e3195d1",
   "metadata": {},
   "outputs": [
    {
     "name": "stdout",
     "output_type": "stream",
     "text": [
      "set()\n"
     ]
    }
   ],
   "source": [
    "print(set()) "
   ]
  },
  {
   "cell_type": "code",
   "execution_count": 77,
   "id": "db633186-11ac-4a88-bd8d-6543892d4cd8",
   "metadata": {},
   "outputs": [
    {
     "name": "stdout",
     "output_type": "stream",
     "text": [
      "{}\n"
     ]
    }
   ],
   "source": [
    "print({})"
   ]
  },
  {
   "cell_type": "code",
   "execution_count": 78,
   "id": "cf7af3a6-dab3-4b38-bfab-c03ad7804511",
   "metadata": {},
   "outputs": [
    {
     "name": "stdout",
     "output_type": "stream",
     "text": [
      "{1, 2, 3, 4}\n"
     ]
    }
   ],
   "source": [
    "print({1, 2}.union([3, 4]))"
   ]
  },
  {
   "cell_type": "code",
   "execution_count": 79,
   "id": "ce89bcc9-5880-4338-afcf-34fba95867c2",
   "metadata": {},
   "outputs": [
    {
     "name": "stdout",
     "output_type": "stream",
     "text": [
      "{2}\n"
     ]
    }
   ],
   "source": [
    "print({1, 2}.intersection([2, 3]))"
   ]
  },
  {
   "cell_type": "code",
   "execution_count": 80,
   "id": "90af3a9e-f2e2-4c0e-bd48-23154b1c3d16",
   "metadata": {},
   "outputs": [
    {
     "name": "stdout",
     "output_type": "stream",
     "text": [
      "{1}\n"
     ]
    }
   ],
   "source": [
    "print({1, 2}.difference([2]))"
   ]
  },
  {
   "cell_type": "code",
   "execution_count": 81,
   "id": "48f61a19-9046-4943-b93d-78071f24d5cc",
   "metadata": {},
   "outputs": [
    {
     "name": "stdout",
     "output_type": "stream",
     "text": [
      "{1, 3}\n"
     ]
    }
   ],
   "source": [
    "print({1, 2}.symmetric_difference([2, 3]))"
   ]
  },
  {
   "cell_type": "code",
   "execution_count": 82,
   "id": "12d420b6-7b46-4ee4-8b83-c9d8c7305723",
   "metadata": {},
   "outputs": [
    {
     "name": "stdout",
     "output_type": "stream",
     "text": [
      "{'b', 'c'}\n"
     ]
    }
   ],
   "source": [
    "print(set(\"abc\") & set(\"bcd\"))"
   ]
  },
  {
   "cell_type": "code",
   "execution_count": 83,
   "id": "4e2db905-2e24-4462-9ed5-5d47a6aaf4ae",
   "metadata": {},
   "outputs": [
    {
     "name": "stdout",
     "output_type": "stream",
     "text": [
      "{'b', 'a', 'd', 'c'}\n"
     ]
    }
   ],
   "source": [
    "print(set(\"abc\") | set(\"bcd\"))"
   ]
  },
  {
   "cell_type": "code",
   "execution_count": 84,
   "id": "ce966f91-bd82-48e2-914b-0f3a5ee3b9aa",
   "metadata": {},
   "outputs": [
    {
     "name": "stdout",
     "output_type": "stream",
     "text": [
      "{'a'}\n"
     ]
    }
   ],
   "source": [
    "print(set(\"abc\") - set(\"bcd\"))"
   ]
  },
  {
   "cell_type": "code",
   "execution_count": 85,
   "id": "059091b1-d4ae-4849-8cb4-2fdebfc182c2",
   "metadata": {},
   "outputs": [
    {
     "name": "stdout",
     "output_type": "stream",
     "text": [
      "{'a', 'd'}\n"
     ]
    }
   ],
   "source": [
    "print(set(\"abc\") ^ set(\"bcd\"))"
   ]
  },
  {
   "cell_type": "code",
   "execution_count": 86,
   "id": "9361e512-8603-4d0c-ac4a-81391c8326ae",
   "metadata": {},
   "outputs": [],
   "source": [
    "x = {1, 2}"
   ]
  },
  {
   "cell_type": "code",
   "execution_count": 87,
   "id": "6c77a5af-f6eb-4ece-a5b8-669c9dd23fd7",
   "metadata": {},
   "outputs": [
    {
     "name": "stdout",
     "output_type": "stream",
     "text": [
      "True\n"
     ]
    }
   ],
   "source": [
    "print(all(i < 3 for i in x))"
   ]
  },
  {
   "cell_type": "code",
   "execution_count": 88,
   "id": "9c961337-f1e3-416a-9be2-735f0447438f",
   "metadata": {},
   "outputs": [
    {
     "name": "stdout",
     "output_type": "stream",
     "text": [
      "True\n"
     ]
    }
   ],
   "source": [
    "print(any(i > 1 for i in x))"
   ]
  },
  {
   "cell_type": "code",
   "execution_count": 89,
   "id": "35478c1d-8b1d-4559-8d7c-872c11adca51",
   "metadata": {},
   "outputs": [
    {
     "name": "stdout",
     "output_type": "stream",
     "text": [
      "2 1\n"
     ]
    }
   ],
   "source": [
    "print(max(x), min(x))"
   ]
  },
  {
   "cell_type": "code",
   "execution_count": 90,
   "id": "1c90c98b-a35f-4bf4-ab5e-27fbcd5a4646",
   "metadata": {},
   "outputs": [
    {
     "name": "stdout",
     "output_type": "stream",
     "text": [
      "3\n"
     ]
    }
   ],
   "source": [
    "print(sum(x))"
   ]
  },
  {
   "cell_type": "code",
   "execution_count": 91,
   "id": "da0ed08d-8a85-4228-80ad-c8a484122159",
   "metadata": {},
   "outputs": [
    {
     "name": "stdout",
     "output_type": "stream",
     "text": [
      "[1, 2]\n"
     ]
    }
   ],
   "source": [
    "print(sorted(x))"
   ]
  },
  {
   "cell_type": "code",
   "execution_count": 92,
   "id": "59d41750-0b2d-41df-8eae-096e652651db",
   "metadata": {},
   "outputs": [
    {
     "name": "stdout",
     "output_type": "stream",
     "text": [
      "['a', 'b', 'n']\n"
     ]
    }
   ],
   "source": [
    "print(sorted(set(\"banana\")))"
   ]
  },
  {
   "cell_type": "code",
   "execution_count": 93,
   "id": "df30fb37-d163-4700-b465-4650fd015770",
   "metadata": {},
   "outputs": [
    {
     "name": "stdout",
     "output_type": "stream",
     "text": [
      "4\n"
     ]
    }
   ],
   "source": [
    "print(len(set(\"mississippi\")))"
   ]
  },
  {
   "cell_type": "code",
   "execution_count": 94,
   "id": "f3bb62d6-c3fb-434c-83a4-1bbdd1ecfd64",
   "metadata": {},
   "outputs": [],
   "source": [
    "s = set(\"hello\")"
   ]
  },
  {
   "cell_type": "code",
   "execution_count": 95,
   "id": "d20799d9-2d46-4609-b416-e63bc5c832f4",
   "metadata": {},
   "outputs": [
    {
     "name": "stdout",
     "output_type": "stream",
     "text": [
      "True\n"
     ]
    }
   ],
   "source": [
    "print(\"h\" in s)"
   ]
  },
  {
   "cell_type": "code",
   "execution_count": 96,
   "id": "dd02cba8-f1f0-4542-b813-1a4643c6661b",
   "metadata": {},
   "outputs": [
    {
     "name": "stdout",
     "output_type": "stream",
     "text": [
      "True\n"
     ]
    }
   ],
   "source": [
    "print(\"z\" not in s)"
   ]
  },
  {
   "cell_type": "code",
   "execution_count": 97,
   "id": "e587c033-e04f-4b71-a178-f9790095f51b",
   "metadata": {},
   "outputs": [],
   "source": [
    "s = {x**2 for x in range(5)}"
   ]
  },
  {
   "cell_type": "code",
   "execution_count": 98,
   "id": "3a1c528b-7bd6-4b0e-ab29-413cb625cf60",
   "metadata": {},
   "outputs": [
    {
     "name": "stdout",
     "output_type": "stream",
     "text": [
      "{0, 1, 4, 9, 16}\n"
     ]
    }
   ],
   "source": [
    "print(s)"
   ]
  },
  {
   "cell_type": "code",
   "execution_count": 99,
   "id": "acfc1158-0acb-4133-acde-6218e77f983b",
   "metadata": {},
   "outputs": [
    {
     "name": "stdout",
     "output_type": "stream",
     "text": [
      "{3, 4}\n"
     ]
    }
   ],
   "source": [
    "print(set(range(5)) & set(range(3, 8)))"
   ]
  },
  {
   "cell_type": "code",
   "execution_count": 100,
   "id": "09d95b2f-b648-4f55-ae31-1e1ce2c379ce",
   "metadata": {},
   "outputs": [
    {
     "name": "stdout",
     "output_type": "stream",
     "text": [
      "{0, 1, 2}\n"
     ]
    }
   ],
   "source": [
    "print(set(range(5)) - set(range(3, 8)))"
   ]
  },
  {
   "cell_type": "code",
   "execution_count": 101,
   "id": "9a0753e7-40e0-4b99-bab6-1192ab34138d",
   "metadata": {},
   "outputs": [
    {
     "name": "stdout",
     "output_type": "stream",
     "text": [
      "{0, 1, 2, 5, 6, 7}\n"
     ]
    }
   ],
   "source": [
    "print(set(range(5)) ^ set(range(3, 8)))"
   ]
  },
  {
   "cell_type": "code",
   "execution_count": 102,
   "id": "41edab3b-9204-4ba8-99c2-26163994ec0c",
   "metadata": {},
   "outputs": [],
   "source": [
    "a = {1, 2}\n",
    "b = a"
   ]
  },
  {
   "cell_type": "code",
   "execution_count": 103,
   "id": "5b31c532-a1cb-41db-8109-8df7e1e2cd69",
   "metadata": {},
   "outputs": [],
   "source": [
    "a.add(3)"
   ]
  },
  {
   "cell_type": "code",
   "execution_count": 104,
   "id": "0cabe662-2622-4776-8356-0d86b407d2a3",
   "metadata": {},
   "outputs": [
    {
     "name": "stdout",
     "output_type": "stream",
     "text": [
      "{1, 2, 3}\n"
     ]
    }
   ],
   "source": [
    "print(b)"
   ]
  },
  {
   "cell_type": "code",
   "execution_count": 105,
   "id": "d5d71f39-40b6-46b7-986f-975f203f42f7",
   "metadata": {},
   "outputs": [],
   "source": [
    "a = {1, 2}"
   ]
  },
  {
   "cell_type": "code",
   "execution_count": 106,
   "id": "e4eb3ec8-9785-436c-bf4e-e4ad124a7007",
   "metadata": {},
   "outputs": [],
   "source": [
    "b = a.copy()"
   ]
  },
  {
   "cell_type": "code",
   "execution_count": 107,
   "id": "5ee45966-8876-4d71-b2ae-d62d88f8882a",
   "metadata": {},
   "outputs": [],
   "source": [
    "a.add(3)"
   ]
  },
  {
   "cell_type": "code",
   "execution_count": 108,
   "id": "61535ab6-e2cf-4e1a-9d4a-39380dea2f0f",
   "metadata": {},
   "outputs": [
    {
     "name": "stdout",
     "output_type": "stream",
     "text": [
      "{1, 2}\n"
     ]
    }
   ],
   "source": [
    "print(b) "
   ]
  },
  {
   "cell_type": "code",
   "execution_count": 109,
   "id": "dacef5b6-fac5-4bc8-9f93-c15e98a9434a",
   "metadata": {},
   "outputs": [
    {
     "name": "stdout",
     "output_type": "stream",
     "text": [
      "-1826646154956904602\n"
     ]
    }
   ],
   "source": [
    "print(hash(frozenset([1, 2])))"
   ]
  },
  {
   "cell_type": "code",
   "execution_count": 110,
   "id": "2742fb38-b084-4d9c-bbac-030980652a52",
   "metadata": {},
   "outputs": [],
   "source": [
    "fs = frozenset(\"hello\")\n"
   ]
  },
  {
   "cell_type": "code",
   "execution_count": 111,
   "id": "d5727936-62b0-4920-a64d-6b39a269b7bc",
   "metadata": {},
   "outputs": [
    {
     "name": "stdout",
     "output_type": "stream",
     "text": [
      "True\n"
     ]
    }
   ],
   "source": [
    "print(\"e\" in fs)"
   ]
  },
  {
   "cell_type": "code",
   "execution_count": 112,
   "id": "cada26e2-2085-4f1b-9b25-6d4c69a33721",
   "metadata": {},
   "outputs": [
    {
     "name": "stdout",
     "output_type": "stream",
     "text": [
      "True\n"
     ]
    }
   ],
   "source": [
    "print(fs.isdisjoint({\"x\", \"y\"}))"
   ]
  },
  {
   "cell_type": "code",
   "execution_count": 113,
   "id": "8b2f3797-e17f-4ad3-a0f0-829395c889f5",
   "metadata": {},
   "outputs": [],
   "source": [
    "fs2 = frozenset(\"help\")"
   ]
  },
  {
   "cell_type": "code",
   "execution_count": 114,
   "id": "b6e4ee35-fd6d-4fb5-a31f-69e0fe4613fb",
   "metadata": {},
   "outputs": [
    {
     "name": "stdout",
     "output_type": "stream",
     "text": [
      "frozenset({'l', 'h', 'e'})\n"
     ]
    }
   ],
   "source": [
    "print(fs & fs2)"
   ]
  },
  {
   "cell_type": "code",
   "execution_count": 115,
   "id": "3be4a3c4-71c7-4dca-80ae-92d3af882f5c",
   "metadata": {},
   "outputs": [
    {
     "name": "stdout",
     "output_type": "stream",
     "text": [
      "frozenset({'o', 'p', 'l', 'h', 'e'})\n"
     ]
    }
   ],
   "source": [
    "print(fs | fs2)\n"
   ]
  },
  {
   "cell_type": "code",
   "execution_count": 116,
   "id": "e9c01294-2b06-4a2f-b087-95fc5f126c11",
   "metadata": {},
   "outputs": [
    {
     "name": "stdout",
     "output_type": "stream",
     "text": [
      "frozenset({'o'})\n"
     ]
    }
   ],
   "source": [
    "print(fs - fs2)"
   ]
  },
  {
   "cell_type": "code",
   "execution_count": 117,
   "id": "7079ad29-b62e-4e0f-9c3d-947bc3a23beb",
   "metadata": {},
   "outputs": [
    {
     "name": "stdout",
     "output_type": "stream",
     "text": [
      "frozenset({'o', 'p'})\n"
     ]
    }
   ],
   "source": [
    "print(fs ^ fs2)"
   ]
  },
  {
   "cell_type": "code",
   "execution_count": 118,
   "id": "2181056f-f42d-44ed-9494-339e78b614b3",
   "metadata": {},
   "outputs": [],
   "source": [
    "a = set(\"python\")"
   ]
  },
  {
   "cell_type": "code",
   "execution_count": 119,
   "id": "e2be9dba-6c9a-4dd5-912a-2294073d93ff",
   "metadata": {},
   "outputs": [
    {
     "name": "stdout",
     "output_type": "stream",
     "text": [
      "['o', 'p', 'h', 't', 'y', 'n']\n"
     ]
    }
   ],
   "source": [
    "print([ch for ch in a])"
   ]
  },
  {
   "cell_type": "code",
   "execution_count": 120,
   "id": "99104b16-939f-49ca-81fa-8c6d2ff82f8b",
   "metadata": {},
   "outputs": [
    {
     "name": "stdout",
     "output_type": "stream",
     "text": [
      "{0, 9, 3, 6}\n"
     ]
    }
   ],
   "source": [
    "print({i for i in range(10) if i % 3 == 0})"
   ]
  },
  {
   "cell_type": "code",
   "execution_count": 121,
   "id": "d53e4cd1-c79c-4c6b-ae60-c10c4db91c6e",
   "metadata": {},
   "outputs": [],
   "source": [
    "s = set([None, False, 0, \"\", 1])"
   ]
  },
  {
   "cell_type": "code",
   "execution_count": 122,
   "id": "2d3a76c0-d411-4389-b6bf-119be7d32882",
   "metadata": {},
   "outputs": [
    {
     "name": "stdout",
     "output_type": "stream",
     "text": [
      "{None, False, '', 1}\n"
     ]
    }
   ],
   "source": [
    "print(s)"
   ]
  },
  {
   "cell_type": "code",
   "execution_count": 123,
   "id": "7b555740-6cab-4ebf-bc90-56c19d15b9f8",
   "metadata": {},
   "outputs": [
    {
     "name": "stdout",
     "output_type": "stream",
     "text": [
      "True\n"
     ]
    }
   ],
   "source": [
    "print(set([1, 2, 3]) == set([3, 2, 1]))"
   ]
  },
  {
   "cell_type": "code",
   "execution_count": 124,
   "id": "efcaa296-5032-4d70-983a-a73a398e5ea5",
   "metadata": {},
   "outputs": [
    {
     "name": "stdout",
     "output_type": "stream",
     "text": [
      "{'b', 'a', 'c'}\n"
     ]
    }
   ],
   "source": [
    "print(set(\"abc\").intersection(\"cba\"))"
   ]
  },
  {
   "cell_type": "code",
   "execution_count": 125,
   "id": "635f365c-3871-4b02-a4e0-01a9fb69dd4c",
   "metadata": {},
   "outputs": [
    {
     "name": "stdout",
     "output_type": "stream",
     "text": [
      "True\n"
     ]
    }
   ],
   "source": [
    "print(set(\"abc\").issubset(\"abcd\"))"
   ]
  },
  {
   "cell_type": "code",
   "execution_count": 126,
   "id": "3264ede1-3f60-4759-a601-40455cfec6f7",
   "metadata": {},
   "outputs": [
    {
     "name": "stdout",
     "output_type": "stream",
     "text": [
      "True\n"
     ]
    }
   ],
   "source": [
    "print(set(\"abcd\").issuperset(\"abc\"))"
   ]
  },
  {
   "cell_type": "code",
   "execution_count": 127,
   "id": "9171fd6b-4143-46e3-9b5b-faebe77fce20",
   "metadata": {},
   "outputs": [
    {
     "name": "stdout",
     "output_type": "stream",
     "text": [
      "True\n"
     ]
    }
   ],
   "source": [
    "print(set(\"abc\").isdisjoint(\"xyz\"))"
   ]
  },
  {
   "cell_type": "code",
   "execution_count": 128,
   "id": "c70ffdff-24c5-4dd1-8ad3-c071de2e3cc9",
   "metadata": {},
   "outputs": [],
   "source": [
    "x = {\"a\", \"b\"}"
   ]
  },
  {
   "cell_type": "code",
   "execution_count": 129,
   "id": "668b95f0-a481-4817-ad8c-c7895fe6c49d",
   "metadata": {},
   "outputs": [],
   "source": [
    "y = {\"c\", \"d\"}"
   ]
  },
  {
   "cell_type": "code",
   "execution_count": 130,
   "id": "044d3f64-7a38-4d95-a287-4287c8876187",
   "metadata": {},
   "outputs": [],
   "source": [
    "z = {\"b\", \"c\"}"
   ]
  },
  {
   "cell_type": "code",
   "execution_count": 131,
   "id": "80c2b703-5aa9-4568-ab9f-05f3c4fdb0d8",
   "metadata": {},
   "outputs": [
    {
     "name": "stdout",
     "output_type": "stream",
     "text": [
      "True\n"
     ]
    }
   ],
   "source": [
    "print(x.isdisjoint(y)) "
   ]
  },
  {
   "cell_type": "code",
   "execution_count": 132,
   "id": "61caa05a-8305-41a2-99ed-3eba1d4529c8",
   "metadata": {},
   "outputs": [
    {
     "name": "stdout",
     "output_type": "stream",
     "text": [
      "False\n"
     ]
    }
   ],
   "source": [
    "print(x.isdisjoint(z)) "
   ]
  },
  {
   "cell_type": "code",
   "execution_count": 133,
   "id": "66dda796-98ca-4d84-bbbf-d7fe9daf445b",
   "metadata": {},
   "outputs": [
    {
     "name": "stdout",
     "output_type": "stream",
     "text": [
      "{1, 2}\n"
     ]
    }
   ],
   "source": [
    "print(set(map(int, [\"1\", \"2\", \"2\"])))"
   ]
  },
  {
   "cell_type": "code",
   "execution_count": 134,
   "id": "6020a90e-54b9-41cc-89a7-ac5d3077bfa2",
   "metadata": {},
   "outputs": [
    {
     "name": "stdout",
     "output_type": "stream",
     "text": [
      "{0, 2, 4, 6, 8}\n"
     ]
    }
   ],
   "source": [
    "print(set(filter(lambda x: x % 2 == 0, range(10))))"
   ]
  },
  {
   "cell_type": "code",
   "execution_count": 135,
   "id": "079241bb-e3de-4d68-81bc-ffd6528d59b0",
   "metadata": {},
   "outputs": [
    {
     "name": "stdout",
     "output_type": "stream",
     "text": [
      "{1, 3}\n"
     ]
    }
   ],
   "source": [
    "print(set(i for i in range(5) if i % 2))"
   ]
  },
  {
   "cell_type": "code",
   "execution_count": 136,
   "id": "d85bf60d-32c7-48d4-a564-e361947d7647",
   "metadata": {},
   "outputs": [
    {
     "name": "stdout",
     "output_type": "stream",
     "text": [
      "{(2, 4), (1, 3)}\n"
     ]
    }
   ],
   "source": [
    "print(set(zip([1, 2], [3, 4])))"
   ]
  },
  {
   "cell_type": "code",
   "execution_count": 137,
   "id": "239d175c-f754-4ca6-add2-76a56fd8e106",
   "metadata": {},
   "outputs": [
    {
     "name": "stdout",
     "output_type": "stream",
     "text": [
      "{0, 1, 4, 9, 16}\n"
     ]
    }
   ],
   "source": [
    "print(set(i*i for i in range(5)))"
   ]
  },
  {
   "cell_type": "code",
   "execution_count": 138,
   "id": "cbc99ed3-c1e5-45c5-86ce-71922b8ef9d2",
   "metadata": {},
   "outputs": [
    {
     "name": "stdout",
     "output_type": "stream",
     "text": [
      "True\n"
     ]
    }
   ],
   "source": [
    "print(set(i for i in range(5)).issubset(range(10)))"
   ]
  },
  {
   "cell_type": "code",
   "execution_count": 139,
   "id": "a0ee72db-0b21-48c6-a559-4e6face4d6d7",
   "metadata": {},
   "outputs": [
    {
     "name": "stdout",
     "output_type": "stream",
     "text": [
      "{'f', 'c', 'b', 'a', 'd', 'e'}\n"
     ]
    }
   ],
   "source": [
    "print(set(\"abc\").union(\"def\"))"
   ]
  },
  {
   "cell_type": "code",
   "execution_count": 140,
   "id": "246f2b4e-4e70-4d49-bde5-6db2cf2b3a97",
   "metadata": {},
   "outputs": [
    {
     "name": "stdout",
     "output_type": "stream",
     "text": [
      "{'b', 'f', 'd'}\n"
     ]
    }
   ],
   "source": [
    "print(set(\"abcdef\") - set(\"ace\"))"
   ]
  },
  {
   "cell_type": "code",
   "execution_count": 141,
   "id": "cedb6cad-2848-47a6-878e-cf29087d25dd",
   "metadata": {},
   "outputs": [
    {
     "name": "stdout",
     "output_type": "stream",
     "text": [
      "{'A', 'B', 'C', 'D', 'E'}\n"
     ]
    }
   ],
   "source": [
    "print(set(chr(i) for i in range(65, 70)))"
   ]
  },
  {
   "cell_type": "code",
   "execution_count": 142,
   "id": "4bdfefd9-157f-4a19-9b50-a732ed41e5d6",
   "metadata": {},
   "outputs": [
    {
     "name": "stdout",
     "output_type": "stream",
     "text": [
      "{1, 2, 3}\n"
     ]
    }
   ],
   "source": [
    "print(set().union([1, 2], [2, 3]))"
   ]
  },
  {
   "cell_type": "code",
   "execution_count": 143,
   "id": "2a9a0e2f-e95e-465a-af0a-af77ab3587c0",
   "metadata": {},
   "outputs": [
    {
     "name": "stdout",
     "output_type": "stream",
     "text": [
      "set()\n"
     ]
    }
   ],
   "source": [
    "print(set().intersection([1, 2], [2, 3]))"
   ]
  },
  {
   "cell_type": "code",
   "execution_count": 145,
   "id": "cfe41fb8-b531-485a-b693-24cd5a8e173a",
   "metadata": {},
   "outputs": [
    {
     "name": "stdout",
     "output_type": "stream",
     "text": [
      "set()\n"
     ]
    }
   ],
   "source": [
    "print(set().difference([1, 2], [2, 3]))"
   ]
  },
  {
   "cell_type": "code",
   "execution_count": 146,
   "id": "fd1673e0-67d1-450d-a433-a70dc24341dd",
   "metadata": {},
   "outputs": [
    {
     "name": "stdout",
     "output_type": "stream",
     "text": [
      "{1, 3}\n"
     ]
    }
   ],
   "source": [
    "a = {1, 2, 3}\n",
    "for val in a.copy():\n",
    "    if val % 2 == 0:\n",
    "        a.remove(val)\n",
    "print(a)\n"
   ]
  },
  {
   "cell_type": "code",
   "execution_count": 147,
   "id": "e3433fce-8831-4687-aa5f-5ed58113843c",
   "metadata": {},
   "outputs": [
    {
     "name": "stdout",
     "output_type": "stream",
     "text": [
      "set()\n"
     ]
    }
   ],
   "source": [
    "a = set(\"banana\")\n",
    "for ch in \"ban\":\n",
    "    a.discard(ch)\n",
    "print(a)"
   ]
  },
  {
   "cell_type": "code",
   "execution_count": 148,
   "id": "1da85325-f4a5-42e5-a5bf-ac8236f5c2c2",
   "metadata": {},
   "outputs": [
    {
     "name": "stdout",
     "output_type": "stream",
     "text": [
      "True\n"
     ]
    }
   ],
   "source": [
    "print({1, 2} == set([2, 1]))"
   ]
  },
  {
   "cell_type": "code",
   "execution_count": 149,
   "id": "21e9a8e8-fdce-4a5f-8f79-f2cd582d6918",
   "metadata": {},
   "outputs": [
    {
     "name": "stdout",
     "output_type": "stream",
     "text": [
      "True\n"
     ]
    }
   ],
   "source": [
    "print({1, 2}.issuperset({1}))"
   ]
  },
  {
   "cell_type": "code",
   "execution_count": 150,
   "id": "38b941e1-ea6c-4dbc-9f1c-924dffd92dea",
   "metadata": {},
   "outputs": [
    {
     "name": "stdout",
     "output_type": "stream",
     "text": [
      "True\n"
     ]
    }
   ],
   "source": [
    "print({1}.issubset({1, 2}))"
   ]
  },
  {
   "cell_type": "code",
   "execution_count": 151,
   "id": "391f67d8-69a1-48d2-8119-82728dd69623",
   "metadata": {},
   "outputs": [
    {
     "name": "stdout",
     "output_type": "stream",
     "text": [
      "{0, 1, 2}\n"
     ]
    }
   ],
   "source": [
    "print(set(range(3)).intersection(range(5)))"
   ]
  },
  {
   "cell_type": "code",
   "execution_count": 153,
   "id": "994fe23c-58df-4f00-8fb4-ee22a619b148",
   "metadata": {},
   "outputs": [
    {
     "name": "stdout",
     "output_type": "stream",
     "text": [
      "{3, 4}\n"
     ]
    }
   ],
   "source": [
    "print(set(range(5)).difference(range(3)))"
   ]
  },
  {
   "cell_type": "code",
   "execution_count": 154,
   "id": "ec1fb73a-58d4-4872-ba8a-7758cb4faf7f",
   "metadata": {},
   "outputs": [
    {
     "name": "stdout",
     "output_type": "stream",
     "text": [
      "{3, 4}\n"
     ]
    }
   ],
   "source": [
    "print(set(range(5)).symmetric_difference(range(3)))"
   ]
  },
  {
   "cell_type": "code",
   "execution_count": 155,
   "id": "357f5091-9757-4961-94be-26f495eb660d",
   "metadata": {},
   "outputs": [
    {
     "name": "stdout",
     "output_type": "stream",
     "text": [
      "{0, 2, 4, 6, 7, 8, 9}\n"
     ]
    }
   ],
   "source": [
    "print({i for i in range(10) if i not in {1, 3, 5}})"
   ]
  },
  {
   "cell_type": "code",
   "execution_count": 156,
   "id": "bc034e01-847e-47e6-ac2c-5b91b153ea9c",
   "metadata": {},
   "outputs": [
    {
     "name": "stdout",
     "output_type": "stream",
     "text": [
      "{0, 1, 2, 3, 4}\n"
     ]
    }
   ],
   "source": [
    "print(set(i for i in range(3)).union([3, 4]))"
   ]
  },
  {
   "cell_type": "code",
   "execution_count": 157,
   "id": "f2904955-10b8-4d53-9203-29d46703ac5b",
   "metadata": {},
   "outputs": [
    {
     "name": "stdout",
     "output_type": "stream",
     "text": [
      "{0, 2}\n"
     ]
    }
   ],
   "source": [
    "print(set(i for i in range(3)).difference({1}))\n"
   ]
  },
  {
   "cell_type": "code",
   "execution_count": 158,
   "id": "052ca9d4-6427-4f70-9053-a333661309f0",
   "metadata": {},
   "outputs": [
    {
     "name": "stdout",
     "output_type": "stream",
     "text": [
      "{0, 1}\n"
     ]
    }
   ],
   "source": [
    "print(set(i for i in range(3)).symmetric_difference({2}))"
   ]
  },
  {
   "cell_type": "code",
   "execution_count": 159,
   "id": "4d511ec8-9bab-4d0a-bb78-6b85248bbeeb",
   "metadata": {},
   "outputs": [
    {
     "name": "stdout",
     "output_type": "stream",
     "text": [
      "{'b', 'a', 'c'}\n"
     ]
    }
   ],
   "source": [
    "print(set(\"a b c\".split()))"
   ]
  },
  {
   "cell_type": "code",
   "execution_count": 160,
   "id": "de8e4898-f655-419f-b73c-ec720c95fc74",
   "metadata": {},
   "outputs": [
    {
     "name": "stdout",
     "output_type": "stream",
     "text": [
      "{'b', 'a', 'c'}\n"
     ]
    }
   ],
   "source": [
    "print(set(\"a,b,c\".split(\",\")))"
   ]
  },
  {
   "cell_type": "code",
   "execution_count": 161,
   "id": "bcfe3de4-b256-4e17-a643-7cf57a953a04",
   "metadata": {},
   "outputs": [
    {
     "name": "stdout",
     "output_type": "stream",
     "text": [
      "{'3'}\n"
     ]
    }
   ],
   "source": [
    "print(set(\"123\") & set(\"345\"))"
   ]
  },
  {
   "cell_type": "code",
   "execution_count": 162,
   "id": "acffe4a2-9d7c-446c-8253-9ecbfb191f77",
   "metadata": {},
   "outputs": [
    {
     "name": "stdout",
     "output_type": "stream",
     "text": [
      "{'apple', 'banana'}\n"
     ]
    }
   ],
   "source": [
    "print(set([\"apple\", \"banana\", \"apple\"]))"
   ]
  },
  {
   "cell_type": "code",
   "execution_count": 163,
   "id": "933449a2-aacb-4d7c-b8d5-789905a1b995",
   "metadata": {},
   "outputs": [
    {
     "name": "stdout",
     "output_type": "stream",
     "text": [
      "{'JAVA', 'C', 'PYTHON'}\n"
     ]
    }
   ],
   "source": [
    "words = {\"python\", \"java\", \"c\"}\n",
    "print({w.upper() for w in words})"
   ]
  },
  {
   "cell_type": "code",
   "execution_count": 164,
   "id": "66ed837b-8567-4295-8606-cbd870a33b31",
   "metadata": {},
   "outputs": [
    {
     "name": "stdout",
     "output_type": "stream",
     "text": [
      "True\n"
     ]
    }
   ],
   "source": [
    "print({x for x in range(5)} == {0, 1, 2, 3, 4})"
   ]
  },
  {
   "cell_type": "code",
   "execution_count": 165,
   "id": "eaf7a5c2-a69f-41fe-b8a9-a02aec315438",
   "metadata": {},
   "outputs": [
    {
     "name": "stdout",
     "output_type": "stream",
     "text": [
      "True\n"
     ]
    }
   ],
   "source": [
    "print(set(\"Hello\".lower()) == set(\"hello\"))"
   ]
  },
  {
   "cell_type": "code",
   "execution_count": 166,
   "id": "41cc4111-e56e-43ff-9e06-5627c5615945",
   "metadata": {},
   "outputs": [
    {
     "name": "stdout",
     "output_type": "stream",
     "text": [
      "{65, 35, 5, 75, 45, 15, 85, 55, 25, 95}\n"
     ]
    }
   ],
   "source": [
    "print({i for i in range(100) if str(i).endswith(\"5\")})"
   ]
  },
  {
   "cell_type": "code",
   "execution_count": null,
   "id": "6106e512-088a-4950-8987-33daa69ff5f1",
   "metadata": {},
   "outputs": [],
   "source": []
  }
 ],
 "metadata": {
  "kernelspec": {
   "display_name": "Python 3 (ipykernel)",
   "language": "python",
   "name": "python3"
  },
  "language_info": {
   "codemirror_mode": {
    "name": "ipython",
    "version": 3
   },
   "file_extension": ".py",
   "mimetype": "text/x-python",
   "name": "python",
   "nbconvert_exporter": "python",
   "pygments_lexer": "ipython3",
   "version": "3.12.11"
  }
 },
 "nbformat": 4,
 "nbformat_minor": 5
}
