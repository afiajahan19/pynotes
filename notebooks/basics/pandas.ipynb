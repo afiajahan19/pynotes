{
 "cells": [
  {
   "cell_type": "code",
   "execution_count": 2,
   "id": "85296568-3dcd-4ed8-96e7-87729a07be75",
   "metadata": {},
   "outputs": [],
   "source": [
    "import pandas as pd\n"
   ]
  },
  {
   "cell_type": "code",
   "execution_count": 3,
   "id": "42da607b-5bc4-468c-bba8-6bf6f2cab4c0",
   "metadata": {},
   "outputs": [
    {
     "name": "stdout",
     "output_type": "stream",
     "text": [
      "0    10\n",
      "1    20\n",
      "2    30\n",
      "dtype: int64\n"
     ]
    }
   ],
   "source": [
    "s = pd.Series([10, 20, 30])\n",
    "print(s)\n"
   ]
  },
  {
   "cell_type": "code",
   "execution_count": 4,
   "id": "3f72ef1f-31ae-4bc4-b68f-fb7690b75dbc",
   "metadata": {},
   "outputs": [
    {
     "name": "stdout",
     "output_type": "stream",
     "text": [
      "a    10\n",
      "b    20\n",
      "c    30\n",
      "dtype: int64\n"
     ]
    }
   ],
   "source": [
    "s = pd.Series([10, 20, 30], index=['a', 'b', 'c'])\n",
    "print(s)"
   ]
  },
  {
   "cell_type": "code",
   "execution_count": 5,
   "id": "2c7cd4c1-4e1c-4926-923e-34a8a8678019",
   "metadata": {},
   "outputs": [
    {
     "name": "stdout",
     "output_type": "stream",
     "text": [
      "a    1\n",
      "b    2\n",
      "dtype: int64\n"
     ]
    }
   ],
   "source": [
    "s = pd.Series({'a': 1, 'b': 2})\n",
    "print(s)"
   ]
  },
  {
   "cell_type": "code",
   "execution_count": 6,
   "id": "25bc5c9e-01d5-41f8-9cca-a7fc07d21b51",
   "metadata": {},
   "outputs": [
    {
     "name": "stdout",
     "output_type": "stream",
     "text": [
      "1\n"
     ]
    }
   ],
   "source": [
    "print(s['a'])"
   ]
  },
  {
   "cell_type": "code",
   "execution_count": 7,
   "id": "a2ba64fc-664d-424b-ace2-9f4fc852f8af",
   "metadata": {},
   "outputs": [
    {
     "name": "stdout",
     "output_type": "stream",
     "text": [
      "b    2\n",
      "dtype: int64\n"
     ]
    }
   ],
   "source": [
    "print(s[s > 1])"
   ]
  },
  {
   "cell_type": "code",
   "execution_count": 8,
   "id": "cb732553-7029-43de-ad1b-2001c19c69bf",
   "metadata": {},
   "outputs": [
    {
     "name": "stdout",
     "output_type": "stream",
     "text": [
      "0    4\n",
      "1    6\n",
      "dtype: int64\n"
     ]
    }
   ],
   "source": [
    "s1 = pd.Series([1, 2])\n",
    "s2 = pd.Series([3, 4])\n",
    "print(s1 + s2)"
   ]
  },
  {
   "cell_type": "code",
   "execution_count": 9,
   "id": "b0ad4c0a-61f0-4e2c-8502-4524872ab0db",
   "metadata": {},
   "outputs": [
    {
     "name": "stdout",
     "output_type": "stream",
     "text": [
      "0    False\n",
      "1     True\n",
      "2    False\n",
      "dtype: bool\n"
     ]
    }
   ],
   "source": [
    "s = pd.Series([1, None, 3])\n",
    "print(s.isnull())"
   ]
  },
  {
   "cell_type": "code",
   "execution_count": 10,
   "id": "fffd64e5-bd45-4a27-8443-3905daf06f65",
   "metadata": {},
   "outputs": [
    {
     "name": "stdout",
     "output_type": "stream",
     "text": [
      "0    1.0\n",
      "1    0.0\n",
      "2    3.0\n",
      "dtype: float64\n"
     ]
    }
   ],
   "source": [
    "print(s.fillna(0))"
   ]
  },
  {
   "cell_type": "code",
   "execution_count": 11,
   "id": "6eb0e46a-1869-48e8-ad6c-4492f0a53a51",
   "metadata": {},
   "outputs": [
    {
     "name": "stdout",
     "output_type": "stream",
     "text": [
      "0    1.0\n",
      "2    3.0\n",
      "dtype: float64\n"
     ]
    }
   ],
   "source": [
    "print(s.dropna())"
   ]
  },
  {
   "cell_type": "code",
   "execution_count": 12,
   "id": "569cc59e-644a-4d13-8f3f-1b49e33f7a75",
   "metadata": {},
   "outputs": [
    {
     "name": "stdout",
     "output_type": "stream",
     "text": [
      "my_series\n"
     ]
    }
   ],
   "source": [
    "s.name = \"my_series\"\n",
    "print(s.name)"
   ]
  },
  {
   "cell_type": "code",
   "execution_count": 13,
   "id": "ac7e0e0f-4b56-4fa6-970a-2fcf32a84df8",
   "metadata": {},
   "outputs": [
    {
     "name": "stdout",
     "output_type": "stream",
     "text": [
      "   A  B\n",
      "0  1  3\n",
      "1  2  4\n"
     ]
    }
   ],
   "source": [
    "df = pd.DataFrame({'A': [1, 2], 'B': [3, 4]})\n",
    "print(df)"
   ]
  },
  {
   "cell_type": "code",
   "execution_count": 14,
   "id": "a2ef9496-f386-4d83-95ca-092605b3d5f6",
   "metadata": {},
   "outputs": [
    {
     "name": "stdout",
     "output_type": "stream",
     "text": [
      "   A  B\n",
      "0  1  2\n",
      "1  3  4\n"
     ]
    }
   ],
   "source": [
    "df = pd.DataFrame([[1, 2], [3, 4]], columns=['A', 'B'])\n",
    "print(df)\n"
   ]
  },
  {
   "cell_type": "code",
   "execution_count": 15,
   "id": "be379454-3119-465c-b903-f009940bf885",
   "metadata": {},
   "outputs": [
    {
     "name": "stdout",
     "output_type": "stream",
     "text": [
      "   A\n",
      "x  1\n",
      "y  2\n"
     ]
    }
   ],
   "source": [
    "df = pd.DataFrame({'A': [1, 2]}, index=['x', 'y'])\n",
    "print(df)"
   ]
  },
  {
   "cell_type": "code",
   "execution_count": 16,
   "id": "5c8c48b8-6356-47de-8f40-ddd8fe145376",
   "metadata": {},
   "outputs": [
    {
     "name": "stdout",
     "output_type": "stream",
     "text": [
      "   X  Y\n",
      "0  1  3\n",
      "1  2  4\n"
     ]
    }
   ],
   "source": [
    "s1 = pd.Series([1, 2], name='X')\n",
    "s2 = pd.Series([3, 4], name='Y')\n",
    "df = pd.concat([s1, s2], axis=1)\n",
    "print(df)"
   ]
  },
  {
   "cell_type": "code",
   "execution_count": 17,
   "id": "e7a51b22-720b-4c60-afb7-0fcccf76f120",
   "metadata": {},
   "outputs": [
    {
     "name": "stdout",
     "output_type": "stream",
     "text": [
      "Empty DataFrame\n",
      "Columns: []\n",
      "Index: []\n"
     ]
    }
   ],
   "source": [
    "print(pd.DataFrame())"
   ]
  },
  {
   "cell_type": "code",
   "execution_count": 18,
   "id": "cfb76a14-8487-4df1-9a69-61ea794c34c1",
   "metadata": {},
   "outputs": [
    {
     "name": "stdout",
     "output_type": "stream",
     "text": [
      "     A    B\n",
      "0  1.0  NaN\n",
      "1  NaN  4.0\n"
     ]
    }
   ],
   "source": [
    "df = pd.DataFrame({'A': [1, None], 'B': [None, 4]})\n",
    "print(df)"
   ]
  },
  {
   "cell_type": "code",
   "execution_count": 19,
   "id": "bf542a17-357e-46c2-b2c4-347e0526e23f",
   "metadata": {},
   "outputs": [
    {
     "name": "stdout",
     "output_type": "stream",
     "text": [
      "     A    B  C\n",
      "0  1.0  NaN  5\n",
      "1  NaN  4.0  6\n"
     ]
    }
   ],
   "source": [
    "df['C'] = [5, 6]\n",
    "print(df)"
   ]
  },
  {
   "cell_type": "code",
   "execution_count": 20,
   "id": "cb1f568b-84e9-48b0-acc5-b3e1ec550b01",
   "metadata": {},
   "outputs": [
    {
     "name": "stdout",
     "output_type": "stream",
     "text": [
      "     A    B\n",
      "0  1.0  NaN\n",
      "1  NaN  4.0\n"
     ]
    }
   ],
   "source": [
    "del df['C']\n",
    "print(df)"
   ]
  },
  {
   "cell_type": "code",
   "execution_count": 21,
   "id": "553546e7-216c-427e-bd5d-8ed4b53fdc8b",
   "metadata": {},
   "outputs": [
    {
     "name": "stdout",
     "output_type": "stream",
     "text": [
      "     A  C    B\n",
      "0  1.0  9  NaN\n",
      "1  NaN  8  4.0\n"
     ]
    }
   ],
   "source": [
    "df.insert(1, 'C', [9, 8])\n",
    "print(df)"
   ]
  },
  {
   "cell_type": "code",
   "execution_count": 22,
   "id": "7f35a63f-9b7d-4ee7-ae71-3c163a05f616",
   "metadata": {},
   "outputs": [
    {
     "name": "stdout",
     "output_type": "stream",
     "text": [
      "     X  C    B\n",
      "0  1.0  9  NaN\n",
      "1  NaN  8  4.0\n"
     ]
    }
   ],
   "source": [
    "df = df.rename(columns={'A': 'X'})\n",
    "print(df)"
   ]
  },
  {
   "cell_type": "code",
   "execution_count": 23,
   "id": "46004801-6998-456d-ba31-551aa66f1aea",
   "metadata": {},
   "outputs": [
    {
     "name": "stdout",
     "output_type": "stream",
     "text": [
      "     X  C    B\n",
      "0  1.0  9  NaN\n",
      "1  NaN  8  4.0\n"
     ]
    }
   ],
   "source": [
    "print(df.head())"
   ]
  },
  {
   "cell_type": "code",
   "execution_count": 24,
   "id": "fb2423c1-6efa-4ac2-bb17-58181be74807",
   "metadata": {},
   "outputs": [
    {
     "name": "stdout",
     "output_type": "stream",
     "text": [
      "     X  C    B\n",
      "0  1.0  9  NaN\n",
      "1  NaN  8  4.0\n"
     ]
    }
   ],
   "source": [
    "print(df.tail())"
   ]
  },
  {
   "cell_type": "code",
   "execution_count": 25,
   "id": "5b6cb535-a5a6-4918-bdfd-768ae5d769cb",
   "metadata": {},
   "outputs": [
    {
     "name": "stdout",
     "output_type": "stream",
     "text": [
      "(2, 3)\n"
     ]
    }
   ],
   "source": [
    "print(df.shape)"
   ]
  },
  {
   "cell_type": "code",
   "execution_count": 26,
   "id": "3dea3902-a959-420c-95cd-5f8876877973",
   "metadata": {},
   "outputs": [
    {
     "name": "stdout",
     "output_type": "stream",
     "text": [
      "Index(['X', 'C', 'B'], dtype='object')\n"
     ]
    }
   ],
   "source": [
    "print(df.columns)"
   ]
  },
  {
   "cell_type": "code",
   "execution_count": 27,
   "id": "4a128948-d539-4477-a903-7ead55730df1",
   "metadata": {},
   "outputs": [
    {
     "name": "stdout",
     "output_type": "stream",
     "text": [
      "RangeIndex(start=0, stop=2, step=1)\n"
     ]
    }
   ],
   "source": [
    "print(df.index)"
   ]
  },
  {
   "cell_type": "code",
   "execution_count": 28,
   "id": "91c975e8-6aa8-4b7b-a459-914111ff74f0",
   "metadata": {},
   "outputs": [
    {
     "name": "stdout",
     "output_type": "stream",
     "text": [
      "X    float64\n",
      "C      int64\n",
      "B    float64\n",
      "dtype: object\n"
     ]
    }
   ],
   "source": [
    "print(df.dtypes)"
   ]
  },
  {
   "cell_type": "code",
   "execution_count": 29,
   "id": "10b12d6d-626d-4c62-a69d-6e408bfca0a8",
   "metadata": {},
   "outputs": [
    {
     "name": "stdout",
     "output_type": "stream",
     "text": [
      "<class 'pandas.core.frame.DataFrame'>\n",
      "RangeIndex: 2 entries, 0 to 1\n",
      "Data columns (total 3 columns):\n",
      " #   Column  Non-Null Count  Dtype  \n",
      "---  ------  --------------  -----  \n",
      " 0   X       1 non-null      float64\n",
      " 1   C       2 non-null      int64  \n",
      " 2   B       1 non-null      float64\n",
      "dtypes: float64(2), int64(1)\n",
      "memory usage: 180.0 bytes\n",
      "None\n"
     ]
    }
   ],
   "source": [
    "print(df.info())"
   ]
  },
  {
   "cell_type": "code",
   "execution_count": 30,
   "id": "9b1c697f-9e7c-4386-86eb-ad972752c703",
   "metadata": {},
   "outputs": [
    {
     "name": "stdout",
     "output_type": "stream",
     "text": [
      "         X         C    B\n",
      "count  1.0  2.000000  1.0\n",
      "mean   1.0  8.500000  4.0\n",
      "std    NaN  0.707107  NaN\n",
      "min    1.0  8.000000  4.0\n",
      "25%    1.0  8.250000  4.0\n",
      "50%    1.0  8.500000  4.0\n",
      "75%    1.0  8.750000  4.0\n",
      "max    1.0  9.000000  4.0\n"
     ]
    }
   ],
   "source": [
    "print(df.describe())"
   ]
  },
  {
   "cell_type": "code",
   "execution_count": 31,
   "id": "96f40ed5-cff4-42a4-bbf1-795b9afcc2d0",
   "metadata": {},
   "outputs": [
    {
     "name": "stdout",
     "output_type": "stream",
     "text": [
      "X    1\n",
      "C    2\n",
      "B    1\n",
      "dtype: int64\n"
     ]
    }
   ],
   "source": [
    "print(df.count())"
   ]
  },
  {
   "cell_type": "code",
   "execution_count": 32,
   "id": "af9a01c0-0432-40e5-b3a7-a27c6776f8af",
   "metadata": {},
   "outputs": [
    {
     "name": "stdout",
     "output_type": "stream",
     "text": [
      "Index    132\n",
      "X         16\n",
      "C         16\n",
      "B         16\n",
      "dtype: int64\n"
     ]
    }
   ],
   "source": [
    "print(df.memory_usage())\n",
    "\n"
   ]
  },
  {
   "cell_type": "code",
   "execution_count": 33,
   "id": "1f68f37c-d49c-462c-8214-8a891bafef18",
   "metadata": {},
   "outputs": [
    {
     "name": "stdout",
     "output_type": "stream",
     "text": [
      "Index    132\n",
      "X         16\n",
      "C         16\n",
      "B         16\n",
      "dtype: int64\n"
     ]
    }
   ],
   "source": [
    "print(df.memory_usage())"
   ]
  },
  {
   "cell_type": "code",
   "execution_count": 34,
   "id": "d4f3fdc6-7cb7-4568-b810-ff190380c0b5",
   "metadata": {},
   "outputs": [
    {
     "name": "stdout",
     "output_type": "stream",
     "text": [
      "     X    B\n",
      "0  1.0  NaN\n",
      "1  NaN  4.0\n"
     ]
    }
   ],
   "source": [
    "print(df[['X', 'B']])"
   ]
  },
  {
   "cell_type": "code",
   "execution_count": 36,
   "id": "2e8de5a0-4983-4803-ab34-3eb8e9f6177e",
   "metadata": {},
   "outputs": [
    {
     "name": "stdout",
     "output_type": "stream",
     "text": [
      "X    1.0\n",
      "C    9.0\n",
      "B    NaN\n",
      "Name: 0, dtype: float64\n"
     ]
    }
   ],
   "source": [
    "print(df.iloc[0])"
   ]
  },
  {
   "cell_type": "code",
   "execution_count": 37,
   "id": "582eedf5-55e7-41b8-9f77-f52f28187744",
   "metadata": {},
   "outputs": [
    {
     "name": "stdout",
     "output_type": "stream",
     "text": [
      "Empty DataFrame\n",
      "Columns: [X, C, B]\n",
      "Index: []\n"
     ]
    }
   ],
   "source": [
    "print(df[df['X'] > 1])"
   ]
  },
  {
   "cell_type": "code",
   "execution_count": 38,
   "id": "e87ad34a-9477-4a1d-bd56-8babeb79bd0a",
   "metadata": {},
   "outputs": [
    {
     "name": "stdout",
     "output_type": "stream",
     "text": [
      "     C    B\n",
      "X          \n",
      "1.0  9  NaN\n",
      "NaN  8  4.0\n"
     ]
    }
   ],
   "source": [
    "df = df.set_index('X')\n",
    "print(df)"
   ]
  },
  {
   "cell_type": "code",
   "execution_count": 39,
   "id": "771fe4a3-b99e-434e-9300-4e5e35f08a69",
   "metadata": {},
   "outputs": [
    {
     "name": "stdout",
     "output_type": "stream",
     "text": [
      "     X  C    B\n",
      "0  1.0  9  NaN\n",
      "1  NaN  8  4.0\n"
     ]
    }
   ],
   "source": [
    "print(df.reset_index())"
   ]
  },
  {
   "cell_type": "code",
   "execution_count": 40,
   "id": "4d1e914a-2d31-41f8-9624-9b28d665e1a8",
   "metadata": {},
   "outputs": [
    {
     "name": "stdout",
     "output_type": "stream",
     "text": [
      "False\n"
     ]
    }
   ],
   "source": [
    "print('X' in df.columns)"
   ]
  },
  {
   "cell_type": "code",
   "execution_count": 42,
   "id": "f9ff2ab8-40c7-4321-a1c9-82664bac9183",
   "metadata": {},
   "outputs": [
    {
     "name": "stdout",
     "output_type": "stream",
     "text": [
      "9\n"
     ]
    }
   ],
   "source": [
    "print(df.iat[0, 0])"
   ]
  },
  {
   "cell_type": "code",
   "execution_count": 48,
   "id": "415108a3-c085-4fd2-8058-3a3246c62340",
   "metadata": {},
   "outputs": [
    {
     "name": "stdout",
     "output_type": "stream",
     "text": [
      "   A\n",
      "1  1\n",
      "2  2\n",
      "0  3\n"
     ]
    }
   ],
   "source": [
    "df = pd.DataFrame({'A': [3, 1, 2]})\n",
    "print(df.sort_values('A'))"
   ]
  },
  {
   "cell_type": "code",
   "execution_count": 49,
   "id": "4a09b90c-2805-4ac0-8100-3f60527e5543",
   "metadata": {},
   "outputs": [
    {
     "name": "stdout",
     "output_type": "stream",
     "text": [
      "   A\n",
      "0  3\n",
      "1  1\n",
      "2  2\n"
     ]
    }
   ],
   "source": [
    "print(df.sort_index())\n"
   ]
  },
  {
   "cell_type": "code",
   "execution_count": 50,
   "id": "6aadbfc4-5010-4a0d-bfc6-a74b37ed5522",
   "metadata": {},
   "outputs": [
    {
     "name": "stdout",
     "output_type": "stream",
     "text": [
      "   A\n",
      "0  3\n",
      "2  2\n",
      "1  1\n"
     ]
    }
   ],
   "source": [
    "print(df.sort_values('A', ascending=False))"
   ]
  },
  {
   "cell_type": "code",
   "execution_count": 51,
   "id": "12cad38d-e3ec-4497-b704-bc4fca0b8486",
   "metadata": {},
   "outputs": [
    {
     "name": "stdout",
     "output_type": "stream",
     "text": [
      "   A  B\n",
      "1  1  2\n",
      "0  1  3\n",
      "2  2  1\n"
     ]
    }
   ],
   "source": [
    "df = pd.DataFrame({'A': [1, 1, 2], 'B': [3, 2, 1]})\n",
    "print(df.sort_values(['A', 'B']))\n"
   ]
  },
  {
   "cell_type": "code",
   "execution_count": 52,
   "id": "476c11b7-4718-4577-a592-f8260f77b8bf",
   "metadata": {},
   "outputs": [
    {
     "name": "stdout",
     "output_type": "stream",
     "text": [
      "1    1\n",
      "2    2\n",
      "0    3\n",
      "dtype: int64\n"
     ]
    }
   ],
   "source": [
    "s = pd.Series([3, 1, 2])\n",
    "print(s.sort_values())"
   ]
  },
  {
   "cell_type": "code",
   "execution_count": 53,
   "id": "9b5a87be-2e92-45e8-a05c-1812b495fe7e",
   "metadata": {},
   "outputs": [
    {
     "name": "stdout",
     "output_type": "stream",
     "text": [
      "0    1\n",
      "1    2\n",
      "2    0\n",
      "dtype: int64\n"
     ]
    }
   ],
   "source": [
    "print(s.argsort())"
   ]
  },
  {
   "cell_type": "code",
   "execution_count": 54,
   "id": "0a1bd378-e80c-4646-aea2-3c16876159b0",
   "metadata": {},
   "outputs": [
    {
     "name": "stdout",
     "output_type": "stream",
     "text": [
      "0    3.0\n",
      "1    1.0\n",
      "2    2.0\n",
      "dtype: float64\n"
     ]
    }
   ],
   "source": [
    "print(s.rank())"
   ]
  },
  {
   "cell_type": "code",
   "execution_count": 55,
   "id": "13cd9c92-1644-4c2a-bce8-4410417d2177",
   "metadata": {},
   "outputs": [
    {
     "name": "stdout",
     "output_type": "stream",
     "text": [
      "0    3\n",
      "1    1\n",
      "2    2\n",
      "dtype: int64\n"
     ]
    }
   ],
   "source": [
    "print(s.sort_index())"
   ]
  },
  {
   "cell_type": "code",
   "execution_count": 56,
   "id": "7b7f986a-b38f-4f9e-910c-4321d5ecc2b3",
   "metadata": {},
   "outputs": [
    {
     "name": "stdout",
     "output_type": "stream",
     "text": [
      "0    3\n",
      "2    2\n",
      "dtype: int64\n"
     ]
    }
   ],
   "source": [
    "print(s.nlargest(2))"
   ]
  },
  {
   "cell_type": "code",
   "execution_count": 57,
   "id": "7aae8a98-d959-4bab-bad3-172542e985b6",
   "metadata": {},
   "outputs": [
    {
     "name": "stdout",
     "output_type": "stream",
     "text": [
      "1    1\n",
      "2    2\n",
      "dtype: int64\n"
     ]
    }
   ],
   "source": [
    "print(s.nsmallest(2))"
   ]
  },
  {
   "cell_type": "code",
   "execution_count": 58,
   "id": "d6126194-9c03-4ac3-839f-01a0caa1610a",
   "metadata": {},
   "outputs": [
    {
     "name": "stdout",
     "output_type": "stream",
     "text": [
      "A    True\n",
      "dtype: bool\n"
     ]
    }
   ],
   "source": [
    "df = pd.DataFrame({'A': [1, None]})\n",
    "print(df.isnull().any())"
   ]
  },
  {
   "cell_type": "code",
   "execution_count": 59,
   "id": "aa405bde-0276-441d-84a3-781e129c76fc",
   "metadata": {},
   "outputs": [
    {
     "name": "stdout",
     "output_type": "stream",
     "text": [
      "A    False\n",
      "dtype: bool\n"
     ]
    }
   ],
   "source": [
    "print(df.notnull().all())"
   ]
  },
  {
   "cell_type": "code",
   "execution_count": 60,
   "id": "29aee678-701e-4f59-9f51-518e673be288",
   "metadata": {},
   "outputs": [
    {
     "name": "stdout",
     "output_type": "stream",
     "text": [
      "     A\n",
      "0  1.0\n",
      "1  1.0\n"
     ]
    }
   ],
   "source": [
    "print(df.fillna(df.mean()))"
   ]
  },
  {
   "cell_type": "code",
   "execution_count": 61,
   "id": "a726d52c-eb88-4c06-b2c3-ccdb0831217b",
   "metadata": {},
   "outputs": [
    {
     "name": "stdout",
     "output_type": "stream",
     "text": [
      "     A\n",
      "0  1.0\n",
      "1  1.0\n"
     ]
    }
   ],
   "source": [
    "print(df.fillna(df.median()))\n"
   ]
  },
  {
   "cell_type": "code",
   "execution_count": 62,
   "id": "63e72985-a865-4517-9d3d-c8b9868bfcd4",
   "metadata": {},
   "outputs": [
    {
     "name": "stdout",
     "output_type": "stream",
     "text": [
      "     A\n",
      "0  1.0\n",
      "1  2.0\n",
      "2  3.0\n"
     ]
    }
   ],
   "source": [
    "df = pd.DataFrame({'A': [1, None, 3]})\n",
    "print(df.interpolate())"
   ]
  },
  {
   "cell_type": "code",
   "execution_count": 63,
   "id": "2797d0e1-2a13-4146-8669-f67dabb59769",
   "metadata": {},
   "outputs": [
    {
     "name": "stdout",
     "output_type": "stream",
     "text": [
      "A    1\n",
      "dtype: int64\n"
     ]
    }
   ],
   "source": [
    "print(df.isnull().sum())\n",
    "\n"
   ]
  },
  {
   "cell_type": "code",
   "execution_count": 64,
   "id": "8434a7a3-8f8f-48b9-8525-1d15b5709e62",
   "metadata": {},
   "outputs": [
    {
     "name": "stdout",
     "output_type": "stream",
     "text": [
      "     A\n",
      "0  1.0\n",
      "1  0.0\n",
      "2  3.0\n"
     ]
    }
   ],
   "source": [
    "df.fillna(0, inplace=True)\n",
    "print(df)\n"
   ]
  },
  {
   "cell_type": "code",
   "execution_count": 65,
   "id": "020f493a-155f-4f57-a786-274d67662def",
   "metadata": {},
   "outputs": [
    {
     "name": "stdout",
     "output_type": "stream",
     "text": [
      "     A  B\n",
      "0  1.0  2\n"
     ]
    }
   ],
   "source": [
    "df = pd.DataFrame({'A': [1, None], 'B': [2, 3]})\n",
    "print(df[df.notnull().all(axis=1)])"
   ]
  },
  {
   "cell_type": "code",
   "execution_count": 66,
   "id": "6174f5f8-7b23-45c9-99aa-3dc85b31e758",
   "metadata": {},
   "outputs": [
    {
     "name": "stdout",
     "output_type": "stream",
     "text": [
      "   A\n",
      "0  1\n",
      "2  2\n"
     ]
    }
   ],
   "source": [
    "df = pd.DataFrame({'A': [1, 1, 2]})\n",
    "print(df.drop_duplicates())\n"
   ]
  },
  {
   "cell_type": "code",
   "execution_count": 67,
   "id": "427f8115-ee87-4bc9-a567-d8f478bce1c7",
   "metadata": {},
   "outputs": [
    {
     "name": "stdout",
     "output_type": "stream",
     "text": [
      "   A\n",
      "0  1\n",
      "2  2\n"
     ]
    }
   ],
   "source": [
    "print(df.drop_duplicates(keep='first'))"
   ]
  },
  {
   "cell_type": "code",
   "execution_count": 68,
   "id": "ca6f9f1c-f492-4c97-abfa-681b6605ed12",
   "metadata": {},
   "outputs": [
    {
     "name": "stdout",
     "output_type": "stream",
     "text": [
      "     A\n",
      "0  1.0\n",
      "1  2.0\n"
     ]
    }
   ],
   "source": [
    "df = pd.DataFrame({'A': ['1', '2']})\n",
    "df['A'] = df['A'].astype(float)\n",
    "print(df)"
   ]
  },
  {
   "cell_type": "code",
   "execution_count": 69,
   "id": "edb46779-da4e-4e82-a832-d923e15f85af",
   "metadata": {},
   "outputs": [
    {
     "name": "stdout",
     "output_type": "stream",
     "text": [
      "   A\n",
      "0  1\n",
      "1  2\n"
     ]
    }
   ],
   "source": [
    "df['A'] = df['A'].astype(int)\n",
    "print(df)"
   ]
  },
  {
   "cell_type": "code",
   "execution_count": 70,
   "id": "47a935a3-8bd2-4725-a635-98ae9981239b",
   "metadata": {},
   "outputs": [
    {
     "name": "stdout",
     "output_type": "stream",
     "text": [
      "   A\n",
      "0  1\n",
      "1  2\n"
     ]
    }
   ],
   "source": [
    "df['A'] = df['A'].astype(str)\n",
    "print(df)\n"
   ]
  },
  {
   "cell_type": "code",
   "execution_count": 71,
   "id": "91f1185e-5c56-45e7-b037-e625ae7d5ea4",
   "metadata": {},
   "outputs": [
    {
     "name": "stdout",
     "output_type": "stream",
     "text": [
      "     A    B\n",
      "0  1.0  3.0\n",
      "1  2.0  4.0\n"
     ]
    }
   ],
   "source": [
    "df = pd.DataFrame({'A': [1, 2], 'B': [3, 4]})\n",
    "print(df.astype(float))"
   ]
  },
  {
   "cell_type": "code",
   "execution_count": 72,
   "id": "e749c47b-a45d-4584-88b5-6d6cfba9799c",
   "metadata": {},
   "outputs": [
    {
     "name": "stdout",
     "output_type": "stream",
     "text": [
      "   A  B\n",
      "0  1  3\n",
      "1  2  4\n"
     ]
    }
   ],
   "source": [
    "print(df.apply(lambda x: x.astype(str)))\n"
   ]
  },
  {
   "cell_type": "code",
   "execution_count": 73,
   "id": "04314224-cf80-42c0-a6c8-4453ee4f673c",
   "metadata": {},
   "outputs": [
    {
     "name": "stdout",
     "output_type": "stream",
     "text": [
      "        date\n",
      "0 2025-01-01\n",
      "1 2025-02-01\n"
     ]
    }
   ],
   "source": [
    "df = pd.DataFrame({'date': ['2025-01-01', '2025-02-01']})\n",
    "df['date'] = pd.to_datetime(df['date'])\n",
    "print(df)"
   ]
  },
  {
   "cell_type": "code",
   "execution_count": 74,
   "id": "7362f3a1-70f8-44d8-a1e5-36a4629a94c0",
   "metadata": {},
   "outputs": [
    {
     "name": "stdout",
     "output_type": "stream",
     "text": [
      "date    datetime64[ns]\n",
      "dtype: object\n"
     ]
    }
   ],
   "source": [
    "print(df.dtypes)\n"
   ]
  },
  {
   "cell_type": "code",
   "execution_count": 75,
   "id": "a790205a-3ac6-4427-b624-ab5d0e1411e4",
   "metadata": {},
   "outputs": [
    {
     "name": "stdout",
     "output_type": "stream",
     "text": [
      "[Timestamp('2025-01-01 00:00:00'), Timestamp('2025-02-01 00:00:00')]\n"
     ]
    }
   ],
   "source": [
    "print(df['date'].tolist())\n"
   ]
  },
  {
   "cell_type": "code",
   "execution_count": 76,
   "id": "f8167d3b-c83a-4bba-82dc-b085b69e6fe7",
   "metadata": {},
   "outputs": [
    {
     "name": "stdout",
     "output_type": "stream",
     "text": [
      "{'date': {0: Timestamp('2025-01-01 00:00:00'), 1: Timestamp('2025-02-01 00:00:00')}}\n"
     ]
    }
   ],
   "source": [
    "print(df.to_dict())\n"
   ]
  },
  {
   "cell_type": "code",
   "execution_count": 77,
   "id": "28ea2b52-b2be-4df5-9b0d-4be3419d0cc5",
   "metadata": {},
   "outputs": [
    {
     "name": "stdout",
     "output_type": "stream",
     "text": [
      "[['2025-01-01T00:00:00.000000000']\n",
      " ['2025-02-01T00:00:00.000000000']]\n"
     ]
    }
   ],
   "source": [
    "print(df.values)"
   ]
  },
  {
   "cell_type": "code",
   "execution_count": 78,
   "id": "f13ead30-0ae1-4281-91c5-a5d567854497",
   "metadata": {},
   "outputs": [
    {
     "name": "stdout",
     "output_type": "stream",
     "text": [
      "     B\n",
      "A     \n",
      "bar  3\n",
      "foo  3\n"
     ]
    }
   ],
   "source": [
    "df = pd.DataFrame({'A': ['foo', 'foo', 'bar'], 'B': [1, 2, 3]})\n",
    "grouped = df.groupby('A')\n",
    "print(grouped.sum())"
   ]
  },
  {
   "cell_type": "code",
   "execution_count": 79,
   "id": "9dede068-c275-47bf-812e-0aa1d7fc3ad7",
   "metadata": {},
   "outputs": [
    {
     "name": "stdout",
     "output_type": "stream",
     "text": [
      "       B\n",
      "A       \n",
      "bar  3.0\n",
      "foo  1.5\n"
     ]
    }
   ],
   "source": [
    "print(df.groupby('A').mean())"
   ]
  },
  {
   "cell_type": "code",
   "execution_count": 80,
   "id": "f71e82e8-3ffc-4cf6-8622-962e51c634a2",
   "metadata": {},
   "outputs": [
    {
     "name": "stdout",
     "output_type": "stream",
     "text": [
      "     B\n",
      "A     \n",
      "bar  1\n",
      "foo  2\n"
     ]
    }
   ],
   "source": [
    "print(df.groupby('A').count())"
   ]
  },
  {
   "cell_type": "code",
   "execution_count": 81,
   "id": "a2189752-3df9-46f8-b0d4-eca6917b339d",
   "metadata": {},
   "outputs": [
    {
     "name": "stdout",
     "output_type": "stream",
     "text": [
      "      B     \n",
      "    sum mean\n",
      "A           \n",
      "bar   3  3.0\n",
      "foo   3  1.5\n"
     ]
    }
   ],
   "source": [
    "print(df.groupby('A').agg(['sum', 'mean']))\n",
    "\n"
   ]
  },
  {
   "cell_type": "code",
   "execution_count": 82,
   "id": "b471349a-78eb-4606-bbb2-19306cf5dd2a",
   "metadata": {},
   "outputs": [
    {
     "name": "stdout",
     "output_type": "stream",
     "text": [
      "A\n",
      "bar    3\n",
      "foo    2\n",
      "Name: B, dtype: int64\n"
     ]
    }
   ],
   "source": [
    "print(df.groupby('A')['B'].agg('max'))\n"
   ]
  },
  {
   "cell_type": "code",
   "execution_count": 83,
   "id": "1862a294-b132-41d7-bd09-dcb3cbe83b74",
   "metadata": {},
   "outputs": [
    {
     "name": "stdout",
     "output_type": "stream",
     "text": [
      "       C\n",
      "A   B   \n",
      "bar x  3\n",
      "foo x  1\n",
      "    y  2\n"
     ]
    }
   ],
   "source": [
    "df = pd.DataFrame({'A': ['foo', 'foo', 'bar'], 'B': ['x', 'y', 'x'], 'C': [1, 2, 3]})\n",
    "print(df.groupby(['A', 'B']).sum())"
   ]
  },
  {
   "cell_type": "code",
   "execution_count": 84,
   "id": "35d06c0a-a1f3-42f6-b290-ae443daaa0bc",
   "metadata": {},
   "outputs": [
    {
     "name": "stdout",
     "output_type": "stream",
     "text": [
      "A\n",
      "bar    0\n",
      "foo    1\n",
      "Name: C, dtype: int64\n"
     ]
    }
   ],
   "source": [
    "print(df.groupby('A')['C'].apply(lambda x: x.max() - x.min()))\n"
   ]
  },
  {
   "cell_type": "code",
   "execution_count": 85,
   "id": "c665f634-4ef7-4ee8-a3e3-a17b807e6a2c",
   "metadata": {},
   "outputs": [
    {
     "name": "stdout",
     "output_type": "stream",
     "text": [
      "     A   B  C\n",
      "0  bar   x  3\n",
      "1  foo  xy  3\n"
     ]
    }
   ],
   "source": [
    "print(df.groupby('A').sum().reset_index())"
   ]
  },
  {
   "cell_type": "code",
   "execution_count": 86,
   "id": "6f4d9dd3-b77d-4ccd-838e-02d0e65ac934",
   "metadata": {},
   "outputs": [
    {
     "name": "stdout",
     "output_type": "stream",
     "text": [
      "     A  B  C\n",
      "0  foo  x  1\n",
      "1  foo  y  2\n",
      "2  bar  x  3\n"
     ]
    }
   ],
   "source": [
    "print(df.groupby('A').filter(lambda x: x['C'].sum() > 2))"
   ]
  },
  {
   "cell_type": "code",
   "execution_count": 87,
   "id": "179071a6-62be-40c8-839b-948ebd41e4b7",
   "metadata": {},
   "outputs": [
    {
     "name": "stdout",
     "output_type": "stream",
     "text": [
      "0    3\n",
      "1    3\n",
      "2    3\n",
      "Name: C, dtype: int64\n"
     ]
    }
   ],
   "source": [
    "print(df.groupby('A')['C'].transform('sum'))"
   ]
  },
  {
   "cell_type": "code",
   "execution_count": 88,
   "id": "867fdc99-2d10-4cdd-814a-4654cb862dbf",
   "metadata": {},
   "outputs": [
    {
     "name": "stdout",
     "output_type": "stream",
     "text": [
      "0    NaN\n",
      "1    1.5\n",
      "2    2.5\n",
      "3    3.5\n",
      "4    4.5\n",
      "Name: A, dtype: float64\n"
     ]
    }
   ],
   "source": [
    "df = pd.DataFrame({'A': [1, 2, 3, 4, 5]})\n",
    "print(df['A'].rolling(2).mean())"
   ]
  },
  {
   "cell_type": "code",
   "execution_count": 89,
   "id": "2e4bc0a0-733e-44b1-bc4b-82891a20e7d0",
   "metadata": {},
   "outputs": [
    {
     "name": "stdout",
     "output_type": "stream",
     "text": [
      "0     NaN\n",
      "1     NaN\n",
      "2     6.0\n",
      "3     9.0\n",
      "4    12.0\n",
      "Name: A, dtype: float64\n"
     ]
    }
   ],
   "source": [
    "print(df['A'].rolling(3).sum())"
   ]
  },
  {
   "cell_type": "code",
   "execution_count": 90,
   "id": "0b16e4bb-f631-4729-943b-21b3ad3b4dbb",
   "metadata": {},
   "outputs": [
    {
     "name": "stdout",
     "output_type": "stream",
     "text": [
      "0    NaN\n",
      "1    2.0\n",
      "2    3.0\n",
      "3    4.0\n",
      "4    5.0\n",
      "Name: A, dtype: float64\n"
     ]
    }
   ],
   "source": [
    "print(df['A'].rolling(2).max())\n"
   ]
  },
  {
   "cell_type": "code",
   "execution_count": 91,
   "id": "d9ebee5f-1e14-4d56-aa8c-a993ab5a09c1",
   "metadata": {},
   "outputs": [
    {
     "name": "stdout",
     "output_type": "stream",
     "text": [
      "0    1.0\n",
      "1    1.5\n",
      "2    2.0\n",
      "3    2.5\n",
      "4    3.0\n",
      "Name: A, dtype: float64\n"
     ]
    }
   ],
   "source": [
    "print(df['A'].expanding().mean())"
   ]
  },
  {
   "cell_type": "code",
   "execution_count": 92,
   "id": "e0936130-6ad9-4f9e-aa90-5d65ff5557d4",
   "metadata": {},
   "outputs": [
    {
     "name": "stdout",
     "output_type": "stream",
     "text": [
      "0     1.0\n",
      "1     3.0\n",
      "2     6.0\n",
      "3    10.0\n",
      "4    15.0\n",
      "Name: A, dtype: float64\n"
     ]
    }
   ],
   "source": [
    "print(df['A'].expanding().sum())"
   ]
  },
  {
   "cell_type": "code",
   "execution_count": 93,
   "id": "221eeae2-3d0c-491b-af48-a501c2cd2420",
   "metadata": {},
   "outputs": [
    {
     "name": "stdout",
     "output_type": "stream",
     "text": [
      "0    NaN\n",
      "1    1.0\n",
      "2    1.0\n",
      "3    1.0\n",
      "4    1.0\n",
      "Name: A, dtype: float64\n"
     ]
    }
   ],
   "source": [
    "print(df['A'].rolling(2).apply(lambda x: x.max() - x.min()))"
   ]
  },
  {
   "cell_type": "code",
   "execution_count": 94,
   "id": "4f202acb-0553-4703-a093-2600daf309e0",
   "metadata": {},
   "outputs": [
    {
     "name": "stdout",
     "output_type": "stream",
     "text": [
      "0    1.0\n",
      "1    1.5\n",
      "2    2.0\n",
      "3    3.0\n",
      "4    4.0\n",
      "Name: A, dtype: float64\n"
     ]
    }
   ],
   "source": [
    "print(df['A'].rolling(3, min_periods=1).mean())"
   ]
  },
  {
   "cell_type": "code",
   "execution_count": 95,
   "id": "d9e64e12-2d0a-4fdd-ac4f-b6f208515d27",
   "metadata": {},
   "outputs": [
    {
     "name": "stdout",
     "output_type": "stream",
     "text": [
      "0     1\n",
      "1     3\n",
      "2     6\n",
      "3    10\n",
      "4    15\n",
      "Name: A, dtype: int64\n"
     ]
    }
   ],
   "source": [
    "print(df['A'].cumsum())"
   ]
  },
  {
   "cell_type": "code",
   "execution_count": 96,
   "id": "c884028c-d315-48cc-8d34-274ad797bbff",
   "metadata": {},
   "outputs": [
    {
     "name": "stdout",
     "output_type": "stream",
     "text": [
      "0      1\n",
      "1      2\n",
      "2      6\n",
      "3     24\n",
      "4    120\n",
      "Name: A, dtype: int64\n"
     ]
    }
   ],
   "source": [
    "print(df['A'].cumprod())"
   ]
  },
  {
   "cell_type": "code",
   "execution_count": 97,
   "id": "34a321a6-4103-4d59-b1a5-dab81b02e649",
   "metadata": {},
   "outputs": [
    {
     "name": "stdout",
     "output_type": "stream",
     "text": [
      "0    1\n",
      "1    2\n",
      "2    3\n",
      "3    4\n",
      "4    5\n",
      "Name: A, dtype: int64\n"
     ]
    }
   ],
   "source": [
    "print(df['A'].cummax())"
   ]
  },
  {
   "cell_type": "code",
   "execution_count": 98,
   "id": "76d6b714-ceda-4b9f-9e29-9d6f6daa0f1c",
   "metadata": {},
   "outputs": [
    {
     "name": "stdout",
     "output_type": "stream",
     "text": [
      "0    hello\n",
      "1    world\n",
      "dtype: object\n"
     ]
    }
   ],
   "source": [
    "s = pd.Series(['Hello', 'World'])\n",
    "print(s.str.lower())\n"
   ]
  },
  {
   "cell_type": "code",
   "execution_count": 99,
   "id": "04ab6f6c-edbb-4f05-8cd6-5eacdb90da23",
   "metadata": {},
   "outputs": [
    {
     "name": "stdout",
     "output_type": "stream",
     "text": [
      "0    HELLO\n",
      "1    WORLD\n",
      "dtype: object\n"
     ]
    }
   ],
   "source": [
    "print(s.str.upper())\n"
   ]
  },
  {
   "cell_type": "code",
   "execution_count": 100,
   "id": "861aaef9-ec0d-4e10-b5ca-e753ea91dc13",
   "metadata": {},
   "outputs": [
    {
     "name": "stdout",
     "output_type": "stream",
     "text": [
      "0    5\n",
      "1    5\n",
      "dtype: int64\n"
     ]
    }
   ],
   "source": [
    "print(s.str.len())"
   ]
  },
  {
   "cell_type": "code",
   "execution_count": 101,
   "id": "df34e769-4775-404a-9327-8437088d9748",
   "metadata": {},
   "outputs": [
    {
     "name": "stdout",
     "output_type": "stream",
     "text": [
      "0    True\n",
      "1    True\n",
      "dtype: bool\n"
     ]
    }
   ],
   "source": [
    "print(s.str.contains('o'))"
   ]
  },
  {
   "cell_type": "code",
   "execution_count": 102,
   "id": "0624b385-9a9f-48a0-8c78-92c3f99e907b",
   "metadata": {},
   "outputs": [
    {
     "name": "stdout",
     "output_type": "stream",
     "text": [
      "0    Hexxo\n",
      "1    Worxd\n",
      "dtype: object\n"
     ]
    }
   ],
   "source": [
    "print(s.str.replace('l', 'x'))"
   ]
  },
  {
   "cell_type": "code",
   "execution_count": 103,
   "id": "5fac6cc0-417a-4fec-bc14-63a584882ae9",
   "metadata": {},
   "outputs": [
    {
     "name": "stdout",
     "output_type": "stream",
     "text": [
      "0     True\n",
      "1    False\n",
      "dtype: bool\n"
     ]
    }
   ],
   "source": [
    "print(s.str.startswith('H'))\n"
   ]
  },
  {
   "cell_type": "code",
   "execution_count": 104,
   "id": "b5edf44c-7940-453a-8c9a-113a7fc62a4f",
   "metadata": {},
   "outputs": [
    {
     "name": "stdout",
     "output_type": "stream",
     "text": [
      "0    False\n",
      "1     True\n",
      "dtype: bool\n"
     ]
    }
   ],
   "source": [
    "print(s.str.endswith('d'))"
   ]
  },
  {
   "cell_type": "code",
   "execution_count": 105,
   "id": "659f491f-12b3-457a-afbc-3afc4fa1fa90",
   "metadata": {},
   "outputs": [
    {
     "name": "stdout",
     "output_type": "stream",
     "text": [
      "0    A\n",
      "1    B\n",
      "dtype: object\n"
     ]
    }
   ],
   "source": [
    "s = pd.Series([' A ', ' B '])\n",
    "print(s.str.strip())"
   ]
  },
  {
   "cell_type": "code",
   "execution_count": 108,
   "id": "1d477249-cf19-4059-92ad-f3e39b52a952",
   "metadata": {},
   "outputs": [
    {
     "name": "stdout",
     "output_type": "stream",
     "text": [
      "0    [a, b, c]\n",
      "1    [1, 2, 3]\n",
      "dtype: object\n"
     ]
    }
   ],
   "source": [
    "s = pd.Series(['a,b,c', '1,2,3'])\n",
    "print(s.str.split(','))"
   ]
  },
  {
   "cell_type": "code",
   "execution_count": 109,
   "id": "240697ba-cc08-4556-a506-16e697cf1429",
   "metadata": {},
   "outputs": [
    {
     "name": "stdout",
     "output_type": "stream",
     "text": [
      "   A\n",
      "0  1\n",
      "1  2\n",
      "0  3\n",
      "1  4\n"
     ]
    }
   ],
   "source": [
    "df1 = pd.DataFrame({'A': [1, 2]})\n",
    "df2 = pd.DataFrame({'A': [3, 4]})\n",
    "print(pd.concat([df1, df2]))"
   ]
  },
  {
   "cell_type": "code",
   "execution_count": 110,
   "id": "e88845e1-ff5e-4375-863c-06b5cb3825b0",
   "metadata": {},
   "outputs": [
    {
     "name": "stdout",
     "output_type": "stream",
     "text": [
      "  key  val1  val2\n",
      "0   A     1     3\n",
      "1   B     2     4\n"
     ]
    }
   ],
   "source": [
    "df1 = pd.DataFrame({'key': ['A', 'B'], 'val1': [1, 2]})\n",
    "df2 = pd.DataFrame({'key': ['A', 'B'], 'val2': [3, 4]})\n",
    "print(pd.merge(df1, df2, on='key'))\n"
   ]
  },
  {
   "cell_type": "code",
   "execution_count": 111,
   "id": "5d23dc3f-98c3-48ef-9931-5047e5a79fba",
   "metadata": {},
   "outputs": [
    {
     "name": "stdout",
     "output_type": "stream",
     "text": [
      "  k1  val1 k2  val2\n",
      "0  A     1  A     3\n",
      "1  B     2  B     4\n"
     ]
    }
   ],
   "source": [
    "df1 = pd.DataFrame({'k1': ['A', 'B'], 'val1': [1, 2]})\n",
    "df2 = pd.DataFrame({'k2': ['A', 'B'], 'val2': [3, 4]})\n",
    "print(pd.merge(df1, df2, left_on='k1', right_on='k2'))"
   ]
  },
  {
   "cell_type": "code",
   "execution_count": 112,
   "id": "f74f7ce8-149e-4e73-bc34-790d1cc4bbca",
   "metadata": {},
   "outputs": [
    {
     "name": "stdout",
     "output_type": "stream",
     "text": [
      "  k1  val1 k2  val2\n",
      "0  A     1  A     3\n",
      "1  B     2  B     4\n"
     ]
    }
   ],
   "source": [
    "print(pd.merge(df1, df2, left_on='k1', right_on='k2', how='outer'))"
   ]
  },
  {
   "cell_type": "code",
   "execution_count": 113,
   "id": "b32e57e6-d1d9-4580-aec3-14f02688fd52",
   "metadata": {},
   "outputs": [
    {
     "name": "stdout",
     "output_type": "stream",
     "text": [
      "  k1  val1 k2  val2\n",
      "0  A     1  A     3\n",
      "1  B     2  B     4\n"
     ]
    }
   ],
   "source": [
    "print(pd.merge(df1, df2, left_on='k1', right_on='k2', how='inner'))"
   ]
  },
  {
   "cell_type": "code",
   "execution_count": 114,
   "id": "cd5f7814-4efe-4863-b7c5-327d777d334c",
   "metadata": {},
   "outputs": [
    {
     "name": "stdout",
     "output_type": "stream",
     "text": [
      "   val1  val2\n",
      "A     1     3\n",
      "B     2     4\n"
     ]
    }
   ],
   "source": [
    "df1 = pd.DataFrame({'val1': [1, 2]}, index=['A', 'B'])\n",
    "df2 = pd.DataFrame({'val2': [3, 4]}, index=['A', 'B'])\n",
    "print(df1.join(df2))"
   ]
  },
  {
   "cell_type": "code",
   "execution_count": 119,
   "id": "ef66a586-a518-4508-81a1-e2bb841d0ebf",
   "metadata": {},
   "outputs": [
    {
     "name": "stdout",
     "output_type": "stream",
     "text": [
      "   val1  val2\n",
      "A     1     3\n",
      "B     2     4\n"
     ]
    }
   ],
   "source": [
    "df2 = df2.rename_axis('idx')\n",
    "print(df1.join(df2, how='left'))\n"
   ]
  },
  {
   "cell_type": "code",
   "execution_count": 117,
   "id": "66ce579e-3d5b-4ef0-a3b1-63936dd36ca1",
   "metadata": {},
   "outputs": [
    {
     "name": "stdout",
     "output_type": "stream",
     "text": [
      "  index  val1\n",
      "0     A     1\n",
      "1     B     2\n",
      "2     C     5\n"
     ]
    }
   ],
   "source": [
    "print(pd.concat([df1, new_row]).reset_index())"
   ]
  },
  {
   "cell_type": "code",
   "execution_count": 118,
   "id": "554e522c-9eba-45fb-bafb-1632ad1cdc7e",
   "metadata": {},
   "outputs": [],
   "source": [
    "df = pd.DataFrame({'A': [1, 2], 'B': [3, 4]})\n",
    "df.to_csv('output.csv', index=False)\n"
   ]
  },
  {
   "cell_type": "code",
   "execution_count": 120,
   "id": "1f85e5f6-3489-470e-b57e-5dc32c188366",
   "metadata": {},
   "outputs": [],
   "source": [
    "df.to_excel('output.xlsx', index=False)"
   ]
  },
  {
   "cell_type": "code",
   "execution_count": 121,
   "id": "59729ad6-5741-435c-8d3b-f215191e2839",
   "metadata": {},
   "outputs": [],
   "source": [
    "df.to_json('output.json', orient='records')"
   ]
  },
  {
   "cell_type": "code",
   "execution_count": 122,
   "id": "c4ac16c9-8e79-441e-836d-be48553bf536",
   "metadata": {},
   "outputs": [],
   "source": [
    "df.to_pickle('data.pkl')"
   ]
  },
  {
   "cell_type": "code",
   "execution_count": 123,
   "id": "4f3be302-7267-41a0-b628-02d21b37c371",
   "metadata": {},
   "outputs": [
    {
     "name": "stdout",
     "output_type": "stream",
     "text": [
      "   A  B\n",
      "0  1  3\n",
      "1  2  4\n"
     ]
    }
   ],
   "source": [
    "df_loaded = pd.read_pickle('data.pkl')\n",
    "print(df_loaded)"
   ]
  },
  {
   "cell_type": "code",
   "execution_count": 124,
   "id": "2e6ccda9-6b8e-4ee1-af95-755dacbdd760",
   "metadata": {},
   "outputs": [],
   "source": [
    "import matplotlib.pyplot as plt\n"
   ]
  },
  {
   "cell_type": "code",
   "execution_count": 125,
   "id": "cd7b621c-9a13-4c38-bd30-ef288b51dd55",
   "metadata": {},
   "outputs": [
    {
     "data": {
      "image/png": "[encoded data removed]",
      "text/plain": [
       "<Figure size 640x480 with 1 Axes>"
      ]
     },
     "metadata": {},
     "output_type": "display_data"
    }
   ],
   "source": [
    "df = pd.DataFrame({'x': range(5), 'y': [1, 2, 3, 4, 5]})\n",
    "df.plot(x='x', y='y')\n",
    "plt.show()"
   ]
  },
  {
   "cell_type": "code",
   "execution_count": 126,
   "id": "0895b401-e2c6-4310-8090-482c344d120e",
   "metadata": {},
   "outputs": [
    {
     "data": {
      "image/png": "[encoded data removed]",
      "text/plain": [
       "<Figure size 640x480 with 1 Axes>"
      ]
     },
     "metadata": {},
     "output_type": "display_data"
    }
   ],
   "source": [
    "df.plot.bar(x='x', y='y')\n",
    "plt.show()"
   ]
  },
  {
   "cell_type": "code",
   "execution_count": 127,
   "id": "604c0cb3-216c-4301-9bf4-97683f640571",
   "metadata": {},
   "outputs": [
    {
     "data": {
      "image/png": "[encoded data removed]",
      "text/plain": [
       "<Figure size 640x480 with 1 Axes>"
      ]
     },
     "metadata": {},
     "output_type": "display_data"
    }
   ],
   "source": [
    "df.plot.barh(x='x', y='y')\n",
    "plt.show()"
   ]
  },
  {
   "cell_type": "code",
   "execution_count": 128,
   "id": "fa9d29f3-f7be-4522-932a-002c9b6b8475",
   "metadata": {},
   "outputs": [
    {
     "data": {
      "image/png": "[encoded data removed]",
      "text/plain": [
       "<Figure size 640x480 with 1 Axes>"
      ]
     },
     "metadata": {},
     "output_type": "display_data"
    }
   ],
   "source": [
    "df['y'].plot.hist()\n",
    "plt.show()"
   ]
  },
  {
   "cell_type": "code",
   "execution_count": 129,
   "id": "3ab60643-913e-4f7e-916a-9b74558813e9",
   "metadata": {},
   "outputs": [
    {
     "data": {
      "image/png": "[encoded data removed]",
      "text/plain": [
       "<Figure size 640x480 with 1 Axes>"
      ]
     },
     "metadata": {},
     "output_type": "display_data"
    }
   ],
   "source": [
    "df.plot.box()\n",
    "plt.show()"
   ]
  },
  {
   "cell_type": "code",
   "execution_count": 130,
   "id": "c5fa9b18-7f13-4e1b-b659-4a29f7a5651d",
   "metadata": {},
   "outputs": [
    {
     "data": {
      "image/png": "[encoded data removed]",
      "text/plain": [
       "<Figure size 640x480 with 1 Axes>"
      ]
     },
     "metadata": {},
     "output_type": "display_data"
    }
   ],
   "source": [
    "df.plot.area()\n",
    "plt.show()\n"
   ]
  },
  {
   "cell_type": "code",
   "execution_count": 131,
   "id": "7986a6cb-f1c6-4363-b381-c4592b4b86f5",
   "metadata": {},
   "outputs": [
    {
     "data": {
      "image/png": "[encoded data removed]",
      "text/plain": [
       "<Figure size 640x480 with 1 Axes>"
      ]
     },
     "metadata": {},
     "output_type": "display_data"
    }
   ],
   "source": [
    "df.plot.scatter(x='x', y='y')\n",
    "plt.show()"
   ]
  },
  {
   "cell_type": "code",
   "execution_count": 132,
   "id": "c58989ba-b46a-47bc-b88a-603dbae90bfa",
   "metadata": {},
   "outputs": [
    {
     "data": {
      "image/png": "[encoded data removed]",
      "text/plain": [
       "<Figure size 640x480 with 1 Axes>"
      ]
     },
     "metadata": {},
     "output_type": "display_data"
    }
   ],
   "source": [
    "df = pd.DataFrame({'category': ['A', 'B', 'C'], 'count': [10, 20, 30]})\n",
    "df.set_index('category').plot.pie(y='count', autopct='%1.1f%%')\n",
    "plt.show()"
   ]
  },
  {
   "cell_type": "code",
   "execution_count": 134,
   "id": "130c4ef1-2baa-448c-a34d-89db2f69e280",
   "metadata": {},
   "outputs": [
    {
     "data": {
      "image/png": "[encoded data removed]",
      "text/plain": [
       "<Figure size 640x480 with 1 Axes>"
      ]
     },
     "metadata": {},
     "output_type": "display_data"
    }
   ],
   "source": [
    "df2 = pd.DataFrame({'a': range(5), 'b': [2, 3, 2, 4, 5]})\n",
    "df2.plot()\n",
    "plt.show()"
   ]
  },
  {
   "cell_type": "code",
   "execution_count": 135,
   "id": "c5d99457-19ba-4e80-ae9e-2bbec489a325",
   "metadata": {},
   "outputs": [
    {
     "name": "stdout",
     "output_type": "stream",
     "text": [
      "                 value\n",
      "letters numbers       \n",
      "A       1           10\n",
      "        2           20\n",
      "B       1           30\n",
      "        2           40\n"
     ]
    }
   ],
   "source": [
    "arrays = [['A', 'A', 'B', 'B'], [1, 2, 1, 2]]\n",
    "index = pd.MultiIndex.from_arrays(arrays, names=('letters', 'numbers'))\n",
    "df = pd.DataFrame({'value': [10, 20, 30, 40]}, index=index)\n",
    "print(df)"
   ]
  },
  {
   "cell_type": "code",
   "execution_count": 136,
   "id": "7a7461c2-924d-4273-906a-61a7fa12dc6a",
   "metadata": {},
   "outputs": [],
   "source": [
    "import pandas as pd\n",
    "import matplotlib.pyplot as plt\n"
   ]
  },
  {
   "cell_type": "code",
   "execution_count": 137,
   "id": "ce5af74c-e0bf-4458-89ce-c826066b7e33",
   "metadata": {},
   "outputs": [],
   "source": [
    "df = pd.DataFrame({\n",
    "    'x': range(1, 6),\n",
    "    'y1': [1, 3, 2, 5, 4],\n",
    "    'y2': [2, 4, 1, 3, 5]\n",
    "})\n"
   ]
  },
  {
   "cell_type": "code",
   "execution_count": 138,
   "id": "5bb3735b-878f-456d-99e7-0442845fa60a",
   "metadata": {},
   "outputs": [
    {
     "data": {
      "image/png": "[encoded data removed]",
      "text/plain": [
       "<Figure size 640x480 with 1 Axes>"
      ]
     },
     "metadata": {},
     "output_type": "display_data"
    }
   ],
   "source": [
    "df.plot(x='x', y='y1')\n",
    "plt.title(\"Line Plot\")\n",
    "plt.show()\n"
   ]
  },
  {
   "cell_type": "code",
   "execution_count": 139,
   "id": "f13e666d-6434-4fcb-b987-46b75c07bf2a",
   "metadata": {},
   "outputs": [
    {
     "data": {
      "image/png": "[encoded data removed]",
      "text/plain": [
       "<Figure size 640x480 with 1 Axes>"
      ]
     },
     "metadata": {},
     "output_type": "display_data"
    }
   ],
   "source": [
    "df.plot(x='x', y=['y1', 'y2'])\n",
    "plt.title(\"Multiple Line Plot\")\n",
    "plt.show()\n"
   ]
  },
  {
   "cell_type": "code",
   "execution_count": 140,
   "id": "ee56c048-47d0-445e-b226-950582130b9e",
   "metadata": {},
   "outputs": [
    {
     "data": {
      "image/png": "[encoded data removed]",
      "text/plain": [
       "<Figure size 640x480 with 1 Axes>"
      ]
     },
     "metadata": {},
     "output_type": "display_data"
    }
   ],
   "source": [
    "df.plot.bar(x='x', y='y1')\n",
    "plt.title(\"Bar Plot\")\n",
    "plt.show()"
   ]
  },
  {
   "cell_type": "code",
   "execution_count": 141,
   "id": "315c4534-2318-479a-a149-28d131d7fd5a",
   "metadata": {},
   "outputs": [
    {
     "data": {
      "image/png": "[encoded data removed]",
      "text/plain": [
       "<Figure size 640x480 with 1 Axes>"
      ]
     },
     "metadata": {},
     "output_type": "display_data"
    }
   ],
   "source": [
    "df.plot.barh(x='x', y='y1')\n",
    "plt.title(\"Horizontal Bar Plot\")\n",
    "plt.show()"
   ]
  },
  {
   "cell_type": "code",
   "execution_count": 142,
   "id": "e589eb75-a04f-4ab5-af90-3193901ff029",
   "metadata": {},
   "outputs": [
    {
     "data": {
      "image/png": "[encoded data removed]",
      "text/plain": [
       "<Figure size 640x480 with 1 Axes>"
      ]
     },
     "metadata": {},
     "output_type": "display_data"
    }
   ],
   "source": [
    "df.plot.bar(x='x', y=['y1', 'y2'], stacked=True)\n",
    "plt.title(\"Stacked Bar Plot\")\n",
    "plt.show()"
   ]
  },
  {
   "cell_type": "code",
   "execution_count": 143,
   "id": "aa1143af-8632-49b7-b665-67b982705147",
   "metadata": {},
   "outputs": [
    {
     "data": {
      "image/png": "[encoded data removed]",
      "text/plain": [
       "<Figure size 640x480 with 1 Axes>"
      ]
     },
     "metadata": {},
     "output_type": "display_data"
    }
   ],
   "source": [
    "df.plot.area(x='x', y=['y1', 'y2'])\n",
    "plt.title(\"Area Plot\")\n",
    "plt.show()"
   ]
  },
  {
   "cell_type": "code",
   "execution_count": 144,
   "id": "69ee9849-9955-4144-8487-fe74ea42855a",
   "metadata": {},
   "outputs": [
    {
     "data": {
      "image/png": "[encoded data removed]",
      "text/plain": [
       "<Figure size 640x480 with 1 Axes>"
      ]
     },
     "metadata": {},
     "output_type": "display_data"
    }
   ],
   "source": [
    "df.plot.area(x='x', y=['y1', 'y2'], stacked=True)\n",
    "plt.title(\"Stacked Area Plot\")\n",
    "plt.show()"
   ]
  },
  {
   "cell_type": "code",
   "execution_count": 145,
   "id": "7463d558-7aa3-41a0-920d-ec8c239df730",
   "metadata": {},
   "outputs": [
    {
     "data": {
      "image/png": "[encoded data removed]",
      "text/plain": [
       "<Figure size 640x480 with 1 Axes>"
      ]
     },
     "metadata": {},
     "output_type": "display_data"
    }
   ],
   "source": [
    "df.plot.scatter(x='x', y='y1')\n",
    "plt.title(\"Scatter Plot\")\n",
    "plt.show()"
   ]
  },
  {
   "cell_type": "code",
   "execution_count": 146,
   "id": "40c1ec3f-db8c-4c16-a55d-6819562c5438",
   "metadata": {},
   "outputs": [
    {
     "data": {
      "image/png": "[encoded data removed]",
      "text/plain": [
       "<Figure size 640x480 with 2 Axes>"
      ]
     },
     "metadata": {},
     "output_type": "display_data"
    }
   ],
   "source": [
    "df.plot.scatter(x='x', y='y1', c='y2', cmap='viridis')\n",
    "plt.title(\"Colored Scatter Plot\")\n",
    "plt.show()"
   ]
  },
  {
   "cell_type": "code",
   "execution_count": 147,
   "id": "8223e63f-0641-46c5-ae9b-c0d00c99a2ca",
   "metadata": {},
   "outputs": [
    {
     "data": {
      "image/png": "[encoded data removed]",
      "text/plain": [
       "<Figure size 640x480 with 1 Axes>"
      ]
     },
     "metadata": {},
     "output_type": "display_data"
    }
   ],
   "source": [
    "df['y1'].plot.hist(bins=5)\n",
    "plt.title(\"Histogram\")\n",
    "plt.show()"
   ]
  },
  {
   "cell_type": "code",
   "execution_count": 148,
   "id": "530ad9f2-18c1-40e4-b0d9-2ac91fb26733",
   "metadata": {},
   "outputs": [
    {
     "data": {
      "image/png": "[encoded data removed]",
      "text/plain": [
       "<Figure size 640x480 with 1 Axes>"
      ]
     },
     "metadata": {},
     "output_type": "display_data"
    }
   ],
   "source": [
    "df[['y1', 'y2']].plot.box()\n",
    "plt.title(\"Box Plot\")\n",
    "plt.show()"
   ]
  },
  {
   "cell_type": "code",
   "execution_count": 150,
   "id": "0e0ea7f2-a719-4a8f-afd8-8ef17134cbed",
   "metadata": {},
   "outputs": [
    {
     "data": {
      "image/png": "[encoded data removed]",
      "text/plain": [
       "<Figure size 640x480 with 1 Axes>"
      ]
     },
     "metadata": {},
     "output_type": "display_data"
    }
   ],
   "source": [
    "df['y1'].plot.kde()\n",
    "plt.title(\"KDE Plot\")\n",
    "plt.show()\n"
   ]
  },
  {
   "cell_type": "code",
   "execution_count": 151,
   "id": "b4fed2a6-d136-4c1e-a1e9-21e12b200af8",
   "metadata": {},
   "outputs": [
    {
     "data": {
      "image/png": "[encoded data removed]",
      "text/plain": [
       "<Figure size 640x480 with 1 Axes>"
      ]
     },
     "metadata": {},
     "output_type": "display_data"
    }
   ],
   "source": [
    "df_sum = df[['y1', 'y2']].sum()\n",
    "df_sum.plot.pie(autopct='%1.1f%%')\n",
    "plt.title(\"Pie Chart\")\n",
    "plt.ylabel(\"\")\n",
    "plt.show()"
   ]
  },
  {
   "cell_type": "code",
   "execution_count": 152,
   "id": "17ad2858-457f-4294-8ce9-1224500f2b40",
   "metadata": {},
   "outputs": [
    {
     "data": {
      "image/png": "[encoded data removed]",
      "text/plain": [
       "<Figure size 640x480 with 1 Axes>"
      ]
     },
     "metadata": {},
     "output_type": "display_data"
    }
   ],
   "source": [
    "df.plot(x='x', y='y1', marker='o')\n",
    "plt.title(\"Line Plot with Markers\")\n",
    "plt.show()"
   ]
  },
  {
   "cell_type": "code",
   "execution_count": 153,
   "id": "c6797dab-24e2-450f-8dd6-4586216570df",
   "metadata": {},
   "outputs": [
    {
     "data": {
      "image/png": "[encoded data removed]",
      "text/plain": [
       "<Figure size 640x480 with 1 Axes>"
      ]
     },
     "metadata": {},
     "output_type": "display_data"
    }
   ],
   "source": [
    "df.plot(x='x', y='y1', style='--')\n",
    "plt.title(\"Dashed Line Plot\")\n",
    "plt.show()"
   ]
  },
  {
   "cell_type": "code",
   "execution_count": 154,
   "id": "667dfb1a-9303-49bb-b673-8fd3997a2bdc",
   "metadata": {},
   "outputs": [
    {
     "data": {
      "image/png": "[encoded data removed]",
      "text/plain": [
       "<Figure size 640x480 with 1 Axes>"
      ]
     },
     "metadata": {},
     "output_type": "display_data"
    }
   ],
   "source": [
    "df.plot(x='x', y='y1', grid=True)\n",
    "plt.title(\"Line Plot with Grid\")\n",
    "plt.show()"
   ]
  },
  {
   "cell_type": "code",
   "execution_count": 155,
   "id": "2ad461bb-9e51-4cdf-84ad-fb65caf8bab7",
   "metadata": {},
   "outputs": [
    {
     "data": {
      "image/png": "[encoded data removed]",
      "text/plain": [
       "<Figure size 640x480 with 2 Axes>"
      ]
     },
     "metadata": {},
     "output_type": "display_data"
    }
   ],
   "source": [
    "ax = df.plot(x='x', y='y1', color='blue', label='y1')\n",
    "df.plot(x='x', y='y2', ax=ax, color='red', secondary_y=True, label='y2')\n",
    "plt.title(\"Dual Y-Axis\")\n",
    "plt.show()"
   ]
  },
  {
   "cell_type": "code",
   "execution_count": 156,
   "id": "a8603512-aebd-4b6f-88de-6cf30251729e",
   "metadata": {},
   "outputs": [
    {
     "data": {
      "image/png": "[encoded data removed]",
      "text/plain": [
       "<Figure size 640x480 with 1 Axes>"
      ]
     },
     "metadata": {},
     "output_type": "display_data"
    }
   ],
   "source": [
    "df.drop('x', axis=1).T.plot()\n",
    "plt.title(\"Transposed Plot\")\n",
    "plt.show()"
   ]
  },
  {
   "cell_type": "code",
   "execution_count": 157,
   "id": "442237da-9e98-4a53-bd97-2900ebf820da",
   "metadata": {},
   "outputs": [
    {
     "data": {
      "image/png": "[encoded data removed]",
      "text/plain": [
       "<Figure size 600x600 with 2 Axes>"
      ]
     },
     "metadata": {},
     "output_type": "display_data"
    }
   ],
   "source": [
    "df.set_index('x').plot(subplots=True, layout=(2, 1), figsize=(6, 6))\n",
    "plt.suptitle(\"Subplots\")\n",
    "plt.show()"
   ]
  },
  {
   "cell_type": "code",
   "execution_count": 159,
   "id": "193324fd-cf70-4765-a684-2fa3bf6e5fd1",
   "metadata": {},
   "outputs": [],
   "source": [
    "df.plot(x='x', y='y1')\n",
    "plt.title(\"Saved Plot\")\n",
    "plt.savefig(\"line_plot.png\")\n",
    "plt.close()"
   ]
  },
  {
   "cell_type": "code",
   "execution_count": 160,
   "id": "71fc7a10-131e-49c2-940a-2e9f991fdaf5",
   "metadata": {},
   "outputs": [
    {
     "name": "stdout",
     "output_type": "stream",
     "text": [
      "                 value\n",
      "letters numbers       \n",
      "A       1           10\n",
      "        2           20\n",
      "B       1           30\n",
      "        2           40\n"
     ]
    }
   ],
   "source": [
    "arrays = [['A', 'A', 'B', 'B'], [1, 2, 1, 2]]\n",
    "index = pd.MultiIndex.from_arrays(arrays, names=('letters', 'numbers'))\n",
    "df = pd.DataFrame({'value': [10, 20, 30, 40]}, index=index)\n",
    "print(df)"
   ]
  },
  {
   "cell_type": "code",
   "execution_count": 161,
   "id": "13daa993-9ed7-411b-bedf-4792fd888311",
   "metadata": {},
   "outputs": [
    {
     "name": "stdout",
     "output_type": "stream",
     "text": [
      "value    10\n",
      "Name: (A, 1), dtype: int64\n"
     ]
    }
   ],
   "source": [
    "print(df.loc[('A', 1)])"
   ]
  },
  {
   "cell_type": "code",
   "execution_count": 162,
   "id": "cd66cbb4-2cba-45a3-96dd-71a8c09f7108",
   "metadata": {},
   "outputs": [
    {
     "name": "stdout",
     "output_type": "stream",
     "text": [
      "         value\n",
      "numbers       \n",
      "1           10\n",
      "2           20\n"
     ]
    }
   ],
   "source": [
    "print(df.loc['A'])"
   ]
  },
  {
   "cell_type": "code",
   "execution_count": 163,
   "id": "7219827c-bb5d-4afb-8259-5cae1e92d330",
   "metadata": {},
   "outputs": [
    {
     "name": "stdout",
     "output_type": "stream",
     "text": [
      "  letters  numbers  value\n",
      "0       A        1     10\n",
      "1       A        2     20\n",
      "2       B        1     30\n",
      "3       B        2     40\n"
     ]
    }
   ],
   "source": [
    "print(df.reset_index())"
   ]
  },
  {
   "cell_type": "code",
   "execution_count": 164,
   "id": "c7948827-7908-468b-b6e3-f757db0cb1d7",
   "metadata": {},
   "outputs": [
    {
     "name": "stdout",
     "output_type": "stream",
     "text": [
      "                 value\n",
      "letters numbers       \n",
      "A       1           10\n",
      "        2           20\n",
      "B       1           30\n",
      "        2           40\n"
     ]
    }
   ],
   "source": [
    "df2 = df.reset_index().set_index(['letters', 'numbers'])\n",
    "print(df2)"
   ]
  },
  {
   "cell_type": "code",
   "execution_count": 165,
   "id": "40bf57e3-3f4c-40e8-be3c-46bda68485d1",
   "metadata": {},
   "outputs": [
    {
     "name": "stdout",
     "output_type": "stream",
     "text": [
      "                 value\n",
      "letters numbers       \n",
      "A       1           10\n",
      "        2           20\n",
      "B       1           30\n",
      "        2           40\n"
     ]
    }
   ],
   "source": [
    "print(df.sort_index())"
   ]
  },
  {
   "cell_type": "code",
   "execution_count": 166,
   "id": "eee2699c-c766-4eae-a0e6-f67dd6c49e75",
   "metadata": {},
   "outputs": [
    {
     "name": "stdout",
     "output_type": "stream",
     "text": [
      "                 value\n",
      "numbers letters       \n",
      "1       A           10\n",
      "2       A           20\n",
      "1       B           30\n",
      "2       B           40\n"
     ]
    }
   ],
   "source": [
    "print(df.swaplevel())"
   ]
  },
  {
   "cell_type": "code",
   "execution_count": 167,
   "id": "774aa470-7cc1-4503-8844-78fa0238fa70",
   "metadata": {},
   "outputs": [
    {
     "name": "stdout",
     "output_type": "stream",
     "text": [
      "['letters', 'numbers']\n"
     ]
    }
   ],
   "source": [
    "print(df.index.names)"
   ]
  },
  {
   "cell_type": "code",
   "execution_count": 168,
   "id": "0a9d7908-c65b-4f96-a789-a645599d3ff9",
   "metadata": {},
   "outputs": [
    {
     "name": "stdout",
     "output_type": "stream",
     "text": [
      "Index(['A', 'A', 'B', 'B'], dtype='object', name='letters')\n"
     ]
    }
   ],
   "source": [
    "print(df.index.get_level_values(0))"
   ]
  },
  {
   "cell_type": "code",
   "execution_count": 169,
   "id": "c848cd46-b9a9-4a03-9204-429fe63d5160",
   "metadata": {},
   "outputs": [
    {
     "name": "stdout",
     "output_type": "stream",
     "text": [
      "         value\n",
      "letters       \n",
      "A           30\n",
      "B           70\n"
     ]
    }
   ],
   "source": [
    "print(df.groupby(level='letters').sum())"
   ]
  },
  {
   "cell_type": "code",
   "execution_count": 170,
   "id": "9256577d-39a4-4974-a5d9-8f0e9cb37020",
   "metadata": {},
   "outputs": [
    {
     "name": "stdout",
     "output_type": "stream",
     "text": [
      "Index     132\n",
      "A        8000\n",
      "dtype: int64\n"
     ]
    }
   ],
   "source": [
    "df = pd.DataFrame({'A': range(1000)})\n",
    "print(df.memory_usage(deep=True))"
   ]
  },
  {
   "cell_type": "code",
   "execution_count": 171,
   "id": "6c22a8e4-244a-4abe-84fc-8683d9246567",
   "metadata": {},
   "outputs": [
    {
     "name": "stdout",
     "output_type": "stream",
     "text": [
      "A    int16\n",
      "dtype: object\n"
     ]
    }
   ],
   "source": [
    "df['A'] = df['A'].astype('int16')\n",
    "print(df.dtypes)"
   ]
  },
  {
   "cell_type": "code",
   "execution_count": 172,
   "id": "17618699-5170-4f67-a991-be8a8e9767e8",
   "metadata": {},
   "outputs": [
    {
     "name": "stdout",
     "output_type": "stream",
     "text": [
      "A      int16\n",
      "B    float32\n",
      "dtype: object\n"
     ]
    }
   ],
   "source": [
    "df['B'] = pd.Series([1.5]*1000).astype('float32')\n",
    "print(df.dtypes)"
   ]
  },
  {
   "cell_type": "code",
   "execution_count": 173,
   "id": "0d30c538-66b8-476d-b2c2-c707d174c5ff",
   "metadata": {},
   "outputs": [
    {
     "name": "stdout",
     "output_type": "stream",
     "text": [
      "A       int16\n",
      "B     float32\n",
      "C    category\n",
      "dtype: object\n"
     ]
    }
   ],
   "source": [
    "df['C'] = pd.Series(['a']*500 + ['b']*500)\n",
    "df['C'] = df['C'].astype('category')\n",
    "print(df.dtypes)"
   ]
  },
  {
   "cell_type": "code",
   "execution_count": 174,
   "id": "10eaa22a-7626-412f-bcfa-5fda80d9d2c9",
   "metadata": {},
   "outputs": [],
   "source": [
    "df['A'] = df['A'] + 1"
   ]
  },
  {
   "cell_type": "code",
   "execution_count": 175,
   "id": "0a9f66b0-7eee-4551-a015-54b3d7ca7b8f",
   "metadata": {},
   "outputs": [],
   "source": [
    "df.loc[0, 'A'] = 999"
   ]
  },
  {
   "cell_type": "code",
   "execution_count": 176,
   "id": "69784764-b3b9-4cd2-9240-bb3ba42456e8",
   "metadata": {},
   "outputs": [],
   "source": [
    "df['D'] = df['A'] * 2 "
   ]
  },
  {
   "cell_type": "code",
   "execution_count": 177,
   "id": "44b21d76-8c1e-48b7-94c8-24e6deb4d3eb",
   "metadata": {},
   "outputs": [],
   "source": [
    "import numpy as np\n",
    "df['E'] = np.log1p(df['A'])"
   ]
  },
  {
   "cell_type": "code",
   "execution_count": 178,
   "id": "0b192c3d-e422-4822-8483-7eaaf06e7230",
   "metadata": {},
   "outputs": [],
   "source": [
    "df_large = pd.DataFrame(np.zeros((10000, 10)))"
   ]
  },
  {
   "cell_type": "code",
   "execution_count": 180,
   "id": "cb397b07-5409-4a35-80a7-bc34f288d86f",
   "metadata": {},
   "outputs": [
    {
     "name": "stdout",
     "output_type": "stream",
     "text": [
      "DatetimeIndex(['2025-01-01', '2025-01-02', '2025-01-03', '2025-01-04',\n",
      "               '2025-01-05'],\n",
      "              dtype='datetime64[ns]', freq='D')\n"
     ]
    }
   ],
   "source": [
    "dates = pd.date_range(start='2025-01-01', periods=5, freq='D')\n",
    "print(dates)"
   ]
  },
  {
   "cell_type": "code",
   "execution_count": 181,
   "id": "6785933a-d76e-4ce1-9edc-a8dbf4057e1b",
   "metadata": {},
   "outputs": [
    {
     "name": "stdout",
     "output_type": "stream",
     "text": [
      "            value\n",
      "date             \n",
      "2025-01-01      1\n",
      "2025-01-02      2\n",
      "2025-01-03      3\n",
      "2025-01-04      4\n",
      "2025-01-05      5\n"
     ]
    }
   ],
   "source": [
    "df = pd.DataFrame({'date': dates, 'value': [1, 2, 3, 4, 5]})\n",
    "df.set_index('date', inplace=True)\n",
    "print(df)"
   ]
  },
  {
   "cell_type": "code",
   "execution_count": 183,
   "id": "e6e7eb19-dded-48bb-adac-4d6f26e441e2",
   "metadata": {},
   "outputs": [
    {
     "name": "stdout",
     "output_type": "stream",
     "text": [
      "            value\n",
      "date             \n",
      "2025-01-01    NaN\n",
      "2025-01-02    1.5\n",
      "2025-01-03    2.5\n",
      "2025-01-04    3.5\n",
      "2025-01-05    4.5\n"
     ]
    }
   ],
   "source": [
    "print(df.rolling(2).mean())"
   ]
  },
  {
   "cell_type": "code",
   "execution_count": 184,
   "id": "e812fd2a-71ee-4932-be1e-5750c57001ab",
   "metadata": {},
   "outputs": [
    {
     "name": "stdout",
     "output_type": "stream",
     "text": [
      "            value\n",
      "date             \n",
      "2025-01-01    NaN\n",
      "2025-01-02    1.0\n",
      "2025-01-03    2.0\n",
      "2025-01-04    3.0\n",
      "2025-01-05    4.0\n"
     ]
    }
   ],
   "source": [
    "print(df.shift(1))"
   ]
  },
  {
   "cell_type": "code",
   "execution_count": 185,
   "id": "7400dff0-e72f-4eb4-a54e-7d0d135cd911",
   "metadata": {},
   "outputs": [
    {
     "name": "stdout",
     "output_type": "stream",
     "text": [
      "               value\n",
      "date                \n",
      "2025-01-01       NaN\n",
      "2025-01-02  1.000000\n",
      "2025-01-03  0.500000\n",
      "2025-01-04  0.333333\n",
      "2025-01-05  0.250000\n"
     ]
    }
   ],
   "source": [
    "print(df.pct_change())"
   ]
  },
  {
   "cell_type": "code",
   "execution_count": 186,
   "id": "1bd92e60-f09e-4bd2-859a-495780272b8f",
   "metadata": {},
   "outputs": [
    {
     "name": "stdout",
     "output_type": "stream",
     "text": [
      "date\n",
      "2025-01-01      NaT\n",
      "2025-01-02   1 days\n",
      "2025-01-03   1 days\n",
      "2025-01-04   1 days\n",
      "2025-01-05   1 days\n",
      "Name: date, dtype: timedelta64[ns]\n"
     ]
    }
   ],
   "source": [
    "print(df.index.to_series().diff())"
   ]
  },
  {
   "cell_type": "code",
   "execution_count": 187,
   "id": "2deea9ce-ba7a-483d-8641-cf4cad358789",
   "metadata": {},
   "outputs": [
    {
     "name": "stdout",
     "output_type": "stream",
     "text": [
      "value    3\n",
      "Name: 2025-01-03 00:00:00, dtype: int64\n"
     ]
    }
   ],
   "source": [
    "print(df.loc['2025-01-03'])"
   ]
  },
  {
   "cell_type": "code",
   "execution_count": 188,
   "id": "2a3b20ab-7148-4365-a57e-1d2e8676df29",
   "metadata": {},
   "outputs": [
    {
     "name": "stdout",
     "output_type": "stream",
     "text": [
      "            value\n",
      "date             \n",
      "2025-01-02      2\n",
      "2025-01-03      3\n",
      "2025-01-04      4\n"
     ]
    }
   ],
   "source": [
    "print(df['2025-01-02':'2025-01-04'])"
   ]
  },
  {
   "cell_type": "code",
   "execution_count": 189,
   "id": "2a2ad8b5-7c3f-4dcf-a441-4dfee3fd6cff",
   "metadata": {},
   "outputs": [
    {
     "name": "stdout",
     "output_type": "stream",
     "text": [
      "   year  month  day       date\n",
      "0  2025      1    1 2025-01-01\n",
      "1  2025      2    2 2025-02-02\n",
      "2  2025      3    3 2025-03-03\n"
     ]
    }
   ],
   "source": [
    "df = pd.DataFrame({'year': [2025]*3, 'month': [1, 2, 3], 'day': [1, 2, 3]})\n",
    "df['date'] = pd.to_datetime(df[['year', 'month', 'day']])\n",
    "print(df)"
   ]
  },
  {
   "cell_type": "code",
   "execution_count": 190,
   "id": "fd275010-1f18-44e5-92fa-6c3721c8de0d",
   "metadata": {},
   "outputs": [
    {
     "name": "stdout",
     "output_type": "stream",
     "text": [
      "   A  B\n",
      "0  1  1\n",
      "0  1  2\n",
      "1  2  3\n",
      "1  2  4\n"
     ]
    }
   ],
   "source": [
    "df = pd.DataFrame({'A': [1, 2], 'B': [[1, 2], [3, 4]]})\n",
    "print(df.explode('B'))"
   ]
  },
  {
   "cell_type": "code",
   "execution_count": 191,
   "id": "7be185a7-c4c4-4662-a7d2-ff10b5b8331f",
   "metadata": {},
   "outputs": [
    {
     "name": "stdout",
     "output_type": "stream",
     "text": [
      "   id month  sales\n",
      "0   1   Jan     10\n",
      "1   1   Feb     20\n"
     ]
    }
   ],
   "source": [
    "df = pd.DataFrame({'id': [1], 'Jan': [10], 'Feb': [20]})\n",
    "print(pd.melt(df, id_vars='id', var_name='month', value_name='sales'))"
   ]
  },
  {
   "cell_type": "code",
   "execution_count": 192,
   "id": "994f27b4-7253-4632-ab6b-abdb03b4de76",
   "metadata": {},
   "outputs": [
    {
     "name": "stdout",
     "output_type": "stream",
     "text": [
      "month  Feb  Jan\n",
      "id             \n",
      "1       20   10\n"
     ]
    }
   ],
   "source": [
    "df = pd.DataFrame({'id': [1, 1], 'month': ['Jan', 'Feb'], 'sales': [10, 20]})\n",
    "print(df.pivot(index='id', columns='month', values='sales'))"
   ]
  },
  {
   "cell_type": "code",
   "execution_count": 193,
   "id": "899d974b-cf3f-4252-a502-85d86efa3aec",
   "metadata": {},
   "outputs": [
    {
     "name": "stdout",
     "output_type": "stream",
     "text": [
      "0  A    1\n",
      "   B    3\n",
      "1  A    2\n",
      "   B    4\n",
      "dtype: int64\n"
     ]
    }
   ],
   "source": [
    "df = pd.DataFrame({'A': [1, 2], 'B': [3, 4]})\n",
    "print(df.stack())\n"
   ]
  },
  {
   "cell_type": "code",
   "execution_count": 194,
   "id": "8e2ed47f-857b-405f-bd8a-6449b62bfc52",
   "metadata": {},
   "outputs": [
    {
     "name": "stdout",
     "output_type": "stream",
     "text": [
      "   A  B\n",
      "0  1  3\n",
      "1  2  4\n"
     ]
    }
   ],
   "source": [
    "print(df.stack().unstack())\n"
   ]
  },
  {
   "cell_type": "code",
   "execution_count": 195,
   "id": "7050ed32-97aa-4d4d-8d75-83802b692209",
   "metadata": {},
   "outputs": [
    {
     "name": "stdout",
     "output_type": "stream",
     "text": [
      "    A       B\n",
      "  one two one\n",
      "0   1   2   3\n"
     ]
    }
   ],
   "source": [
    "arrays = [['A', 'A', 'B'], ['one', 'two', 'one']]\n",
    "df = pd.DataFrame([[1, 2, 3]], columns=pd.MultiIndex.from_arrays(arrays))\n",
    "print(df)"
   ]
  },
  {
   "cell_type": "code",
   "execution_count": 196,
   "id": "3615fb64-5a72-48a9-b3f1-abe3bdc4db87",
   "metadata": {},
   "outputs": [
    {
     "name": "stdout",
     "output_type": "stream",
     "text": [
      "   A_one  A_two  B_one\n",
      "0      1      2      3\n"
     ]
    }
   ],
   "source": [
    "df.columns = ['_'.join(col) for col in df.columns.values]\n",
    "print(df)"
   ]
  },
  {
   "cell_type": "code",
   "execution_count": 197,
   "id": "8eaff987-8904-472e-b773-2a5744677ef7",
   "metadata": {},
   "outputs": [
    {
     "name": "stdout",
     "output_type": "stream",
     "text": [
      "month   Feb   Jan\n",
      "id               \n",
      "1      30.0  10.0\n",
      "2       NaN  20.0\n"
     ]
    }
   ],
   "source": [
    "df = pd.DataFrame({'id': [1, 2, 1], 'month': ['Jan', 'Jan', 'Feb'], 'val': [10, 20, 30]})\n",
    "print(df.groupby(['id', 'month'])['val'].sum().unstack())"
   ]
  },
  {
   "cell_type": "code",
   "execution_count": 198,
   "id": "9ba95926-cd1e-4a46-8a15-d5ba6fc851fc",
   "metadata": {},
   "outputs": [
    {
     "name": "stdout",
     "output_type": "stream",
     "text": [
      "        time  val1  val2\n",
      "0 2025-01-01     1   NaN\n",
      "1 2025-01-03     2   3.0\n"
     ]
    }
   ],
   "source": [
    "df1 = pd.DataFrame({'time': pd.to_datetime(['2025-01-01', '2025-01-03']), 'val1': [1, 2]})\n",
    "df2 = pd.DataFrame({'time': pd.to_datetime(['2025-01-02', '2025-01-04']), 'val2': [3, 4]})\n",
    "print(pd.merge_asof(df1, df2, on='time'))"
   ]
  },
  {
   "cell_type": "code",
   "execution_count": 199,
   "id": "36ea4e75-b8c9-485a-9bc9-6b452f6d0349",
   "metadata": {},
   "outputs": [
    {
     "name": "stdout",
     "output_type": "stream",
     "text": [
      "   A  B\n",
      "0  1  x\n",
      "1  1  y\n",
      "2  2  x\n",
      "3  2  y\n"
     ]
    }
   ],
   "source": [
    "df1 = pd.DataFrame({'A': [1, 2]})\n",
    "df2 = pd.DataFrame({'B': ['x', 'y']})\n",
    "print(df1.merge(df2, how='cross'))"
   ]
  },
  {
   "cell_type": "code",
   "execution_count": 200,
   "id": "5b52057f-45d1-43c5-8b45-471b65a3d114",
   "metadata": {},
   "outputs": [
    {
     "name": "stdout",
     "output_type": "stream",
     "text": [
      "   id      _merge\n",
      "0   1   left_only\n",
      "1   2        both\n",
      "2   3  right_only\n"
     ]
    }
   ],
   "source": [
    "df1 = pd.DataFrame({'id': [1, 2]})\n",
    "df2 = pd.DataFrame({'id': [2, 3]})\n",
    "print(pd.merge(df1, df2, on='id', how='outer', indicator=True))"
   ]
  },
  {
   "cell_type": "code",
   "execution_count": 201,
   "id": "d8f621ed-bbbb-4e91-a735-96cdd80d52bd",
   "metadata": {},
   "outputs": [
    {
     "name": "stdout",
     "output_type": "stream",
     "text": [
      "   id\n",
      "0   1\n",
      "1   2\n",
      "2   3\n"
     ]
    }
   ],
   "source": [
    "print(pd.merge(df1, df2, on='id', how='outer', suffixes=('_left', '_right')))"
   ]
  },
  {
   "cell_type": "code",
   "execution_count": 202,
   "id": "27bd5894-4833-43d4-9b36-33946f732240",
   "metadata": {},
   "outputs": [
    {
     "name": "stdout",
     "output_type": "stream",
     "text": [
      "A    int8\n",
      "dtype: object\n"
     ]
    }
   ],
   "source": [
    "df = pd.DataFrame({'A': [1, 2, 3]})\n",
    "df['A'] = pd.to_numeric(df['A'], downcast='integer')\n",
    "print(df.dtypes)"
   ]
  },
  {
   "cell_type": "code",
   "execution_count": 203,
   "id": "bd186c21-c078-4a4a-8238-6742eac55d2d",
   "metadata": {},
   "outputs": [
    {
     "name": "stdout",
     "output_type": "stream",
     "text": [
      "A    float32\n",
      "dtype: object\n"
     ]
    }
   ],
   "source": [
    "df['A'] = df['A'].astype('float32')\n",
    "print(df.dtypes)"
   ]
  },
  {
   "cell_type": "code",
   "execution_count": 204,
   "id": "7865b0e7-dee5-4bd2-9ec5-ba1a6b20227a",
   "metadata": {},
   "outputs": [
    {
     "name": "stdout",
     "output_type": "stream",
     "text": [
      "A       float32\n",
      "col    category\n",
      "dtype: object\n"
     ]
    }
   ],
   "source": [
    "df['col'] = ['a', 'b', 'a']\n",
    "df['col'] = df['col'].astype('category')\n",
    "print(df.dtypes)"
   ]
  },
  {
   "cell_type": "code",
   "execution_count": 205,
   "id": "f518ba90-aea1-46c2-a901-865ed08d0ea2",
   "metadata": {},
   "outputs": [
    {
     "name": "stdout",
     "output_type": "stream",
     "text": [
      "Index    132\n",
      "A         12\n",
      "col      211\n",
      "dtype: int64\n"
     ]
    }
   ],
   "source": [
    "print(df.memory_usage(deep=True))"
   ]
  },
  {
   "cell_type": "code",
   "execution_count": 206,
   "id": "0ee02a2c-b06a-47f6-9d00-4d650907c936",
   "metadata": {},
   "outputs": [
    {
     "name": "stdout",
     "output_type": "stream",
     "text": [
      "int      uint16\n",
      "flt     float32\n",
      "cat    category\n",
      "dtype: object\n"
     ]
    }
   ],
   "source": [
    "df = pd.DataFrame({'int': range(1000), 'flt': [1.0]*1000, 'cat': ['x']*1000})\n",
    "df['int'] = pd.to_numeric(df['int'], downcast='unsigned')\n",
    "df['flt'] = pd.to_numeric(df['flt'], downcast='float')\n",
    "df['cat'] = df['cat'].astype('category')\n",
    "print(df.dtypes)"
   ]
  },
  {
   "cell_type": "code",
   "execution_count": 207,
   "id": "794b7383-acfa-46d8-ac0c-bd8091d11786",
   "metadata": {},
   "outputs": [
    {
     "name": "stdout",
     "output_type": "stream",
     "text": [
      "   val\n",
      "1   20\n",
      "2   30\n"
     ]
    }
   ],
   "source": [
    "df = pd.DataFrame({'val': [10, 20, 30, 1000]})\n",
    "q_low = df['val'].quantile(0.05)\n",
    "q_high = df['val'].quantile(0.95)\n",
    "print(df[(df['val'] > q_low) & (df['val'] < q_high)])\n"
   ]
  },
  {
   "cell_type": "code",
   "execution_count": 208,
   "id": "86c63bc0-aee1-4145-9589-705510f91300",
   "metadata": {},
   "outputs": [
    {
     "name": "stdout",
     "output_type": "stream",
     "text": [
      "    val      norm\n",
      "0    10 -0.520336\n",
      "1    20 -0.499931\n",
      "2    30 -0.479525\n",
      "3  1000  1.499792\n"
     ]
    }
   ],
   "source": [
    "df['norm'] = (df['val'] - df['val'].mean()) / df['val'].std()\n",
    "print(df)\n"
   ]
  },
  {
   "cell_type": "code",
   "execution_count": 209,
   "id": "877a7435-bfec-4e0e-9dcf-b73682bfe4bf",
   "metadata": {},
   "outputs": [
    {
     "name": "stdout",
     "output_type": "stream",
     "text": [
      "    val      norm    scaled\n",
      "0    10 -0.520336  0.000000\n",
      "1    20 -0.499931  0.010101\n",
      "2    30 -0.479525  0.020202\n",
      "3  1000  1.499792  1.000000\n"
     ]
    }
   ],
   "source": [
    "df['scaled'] = (df['val'] - df['val'].min()) / (df['val'].max() - df['val'].min())\n",
    "print(df)"
   ]
  },
  {
   "cell_type": "code",
   "execution_count": 210,
   "id": "fc56710c-a795-481d-aae4-33c876e11934",
   "metadata": {},
   "outputs": [
    {
     "name": "stdout",
     "output_type": "stream",
     "text": [
      "0    False\n",
      "1     True\n",
      "2    False\n",
      "dtype: bool\n"
     ]
    }
   ],
   "source": [
    "df = pd.DataFrame({'id': [1, 1, 2]})\n",
    "print(df.duplicated())\n"
   ]
  },
  {
   "cell_type": "code",
   "execution_count": 211,
   "id": "e6363e47-eb7f-4c13-9504-6a06b3dff990",
   "metadata": {},
   "outputs": [
    {
     "name": "stdout",
     "output_type": "stream",
     "text": [
      "   id\n",
      "1   1\n"
     ]
    }
   ],
   "source": [
    "print(df[df.duplicated()])"
   ]
  },
  {
   "cell_type": "code",
   "execution_count": 214,
   "id": "f7a8d3b2-9b5a-4dc6-b1e1-ab85ae4462fa",
   "metadata": {},
   "outputs": [
    {
     "name": "stdout",
     "output_type": "stream",
     "text": [
      "0    4\n",
      "1    6\n",
      "dtype: int64\n",
      "   first   last         full\n",
      "0  Alice  Smith  Alice Smith\n",
      "1    Bob  Jones    Bob Jones\n"
     ]
    }
   ],
   "source": [
    "df = pd.DataFrame({'a': [1, 2], 'b': [3, 4]})\n",
    "print(df.apply(lambda row: row['a'] + row['b'], axis=1))\n",
    "df = pd.DataFrame({'first': ['Alice', 'Bob'], 'last': ['Smith', 'Jones']})\n",
    "df['full'] = df['first'] + ' ' + df['last']\n",
    "print(df)"
   ]
  },
  {
   "cell_type": "code",
   "execution_count": 215,
   "id": "03753d6c-c65d-4581-8d88-8d0956fe655a",
   "metadata": {},
   "outputs": [
    {
     "name": "stdout",
     "output_type": "stream",
     "text": [
      "   first   last         full\n",
      "0  Alice  Smith  Alice Smith\n",
      "1    Bob  Jones    Bob Jones\n"
     ]
    }
   ],
   "source": [
    "df = pd.DataFrame({'first': ['Alice', 'Bob'], 'last': ['Smith', 'Jones']})\n",
    "df['full'] = df['first'] + ' ' + df['last']\n",
    "print(df)"
   ]
  },
  {
   "cell_type": "code",
   "execution_count": 216,
   "id": "2c36cd9d-068f-4773-a635-4ee91adcca63",
   "metadata": {},
   "outputs": [
    {
     "name": "stdout",
     "output_type": "stream",
     "text": [
      "   score grade\n",
      "0     45     F\n",
      "1     67     B\n",
      "2     89     A\n",
      "3     91     A\n"
     ]
    }
   ],
   "source": [
    "df = pd.DataFrame({'score': [45, 67, 89, 91]})\n",
    "df['grade'] = pd.cut(df['score'], bins=[0, 60, 80, 100], labels=['F', 'B', 'A'])\n",
    "print(df)"
   ]
  },
  {
   "cell_type": "code",
   "execution_count": 217,
   "id": "bd6d213e-569d-4f8b-8467-5c4f2b0d9c1e",
   "metadata": {},
   "outputs": [
    {
     "name": "stdout",
     "output_type": "stream",
     "text": [
      "          x         y\n",
      "x  1.000000  0.989743\n",
      "y  0.989743  1.000000\n"
     ]
    }
   ],
   "source": [
    "df = pd.DataFrame({'x': [1, 2, 3], 'y': [1, 4, 9]})\n",
    "print(df.corr())"
   ]
  },
  {
   "cell_type": "code",
   "execution_count": 218,
   "id": "bb5a96f2-621e-49c1-9064-cc14b79b0390",
   "metadata": {},
   "outputs": [
    {
     "name": "stdout",
     "output_type": "stream",
     "text": [
      "col\n",
      "a    2\n",
      "b    1\n",
      "c    1\n",
      "Name: count, dtype: int64\n"
     ]
    }
   ],
   "source": [
    "df = pd.DataFrame({'col': ['a', 'b', 'a', 'c']})\n",
    "print(df['col'].value_counts())"
   ]
  },
  {
   "cell_type": "code",
   "execution_count": 219,
   "id": "9024c02f-5a98-41d9-9d33-81292b96b6e9",
   "metadata": {},
   "outputs": [
    {
     "name": "stdout",
     "output_type": "stream",
     "text": [
      "  cols  dtypes  nulls\n",
      "0  col  object      0\n"
     ]
    }
   ],
   "source": [
    "summary = {\n",
    "    'cols': df.columns.tolist(),\n",
    "    'dtypes': df.dtypes.tolist(),\n",
    "    'nulls': df.isnull().sum().tolist()\n",
    "}\n",
    "print(pd.DataFrame(summary))"
   ]
  },
  {
   "cell_type": "code",
   "execution_count": null,
   "id": "aca9332d-ce35-4c02-9ccb-e6883b4e12fc",
   "metadata": {},
   "outputs": [],
   "source": []
  }
 ],
 "metadata": {
  "kernelspec": {
   "display_name": "Python 3 (ipykernel)",
   "language": "python",
   "name": "python3"
  },
  "language_info": {
   "codemirror_mode": {
    "name": "ipython",
    "version": 3
   },
   "file_extension": ".py",
   "mimetype": "text/x-python",
   "name": "python",
   "nbconvert_exporter": "python",
   "pygments_lexer": "ipython3",
   "version": "3.12.11"
  }
 },
 "nbformat": 4,
 "nbformat_minor": 5
}
