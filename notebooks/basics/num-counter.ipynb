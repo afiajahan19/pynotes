{
 "cells": [
  {
   "cell_type": "code",
   "execution_count": 2,
   "id": "68457144-55b7-4941-a7f1-399b01e82439",
   "metadata": {},
   "outputs": [],
   "source": [
    "from collections import defaultdict"
   ]
  },
  {
   "cell_type": "code",
   "execution_count": 3,
   "id": "d39326fc-deb9-47c1-9f39-e834ad273f08",
   "metadata": {},
   "outputs": [],
   "source": [
    "counter = defaultdict(int)"
   ]
  },
  {
   "cell_type": "code",
   "execution_count": 4,
   "id": "3ab6f81d-5202-4dd9-b0ec-2698937dae42",
   "metadata": {},
   "outputs": [],
   "source": [
    "content = \"one 2 1 three 4 2 1 7 6 six 8 9 8\""
   ]
  },
  {
   "cell_type": "code",
   "execution_count": 5,
   "id": "b8997de6-bd4d-48de-8d54-d3d090eb11c2",
   "metadata": {},
   "outputs": [
    {
     "data": {
      "text/plain": [
       "'one 2 1 three 4 2 1 7 6 six 8 9 8'"
      ]
     },
     "execution_count": 5,
     "metadata": {},
     "output_type": "execute_result"
    }
   ],
   "source": [
    "content"
   ]
  },
  {
   "cell_type": "code",
   "execution_count": 6,
   "id": "1e314858-270b-4264-b637-258b46002e8e",
   "metadata": {},
   "outputs": [],
   "source": [
    "for c in content.split(' '):\n",
    "    if(c.isdigit()):\n",
    "        counter[c] += 1"
   ]
  },
  {
   "cell_type": "code",
   "execution_count": 7,
   "id": "d011cb94-e61a-44be-9403-e99be7865e28",
   "metadata": {},
   "outputs": [
    {
     "data": {
      "text/plain": [
       "defaultdict(int, {'2': 2, '1': 2, '4': 1, '7': 1, '6': 1, '8': 2, '9': 1})"
      ]
     },
     "execution_count": 7,
     "metadata": {},
     "output_type": "execute_result"
    }
   ],
   "source": [
    "counter"
   ]
  },
  {
   "cell_type": "code",
   "execution_count": 8,
   "id": "4a138a01-3999-4022-928d-564700b1a7ef",
   "metadata": {},
   "outputs": [
    {
     "name": "stdout",
     "output_type": "stream",
     "text": [
      "2 ==> 2\n",
      "1 ==> 2\n",
      "4 ==> 1\n",
      "7 ==> 1\n",
      "6 ==> 1\n",
      "8 ==> 2\n",
      "9 ==> 1\n"
     ]
    }
   ],
   "source": [
    "for k, v in counter.items():\n",
    "    print(k, \"==>\", v)"
   ]
  },
  {
   "cell_type": "code",
   "execution_count": null,
   "id": "6b187f6f-d100-4b9e-b8ca-13f1bfb32015",
   "metadata": {},
   "outputs": [],
   "source": []
  }
 ],
 "metadata": {
  "kernelspec": {
   "display_name": "Python 3 (ipykernel)",
   "language": "python",
   "name": "python3"
  },
  "language_info": {
   "codemirror_mode": {
    "name": "ipython",
    "version": 3
   },
   "file_extension": ".py",
   "mimetype": "text/x-python",
   "name": "python",
   "nbconvert_exporter": "python",
   "pygments_lexer": "ipython3",
   "version": "3.12.11"
  }
 },
 "nbformat": 4,
 "nbformat_minor": 5
}
