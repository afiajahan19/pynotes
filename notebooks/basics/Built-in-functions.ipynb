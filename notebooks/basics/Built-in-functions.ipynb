{
 "cells": [
  {
   "cell_type": "code",
   "execution_count": 1,
   "id": "f3a6550d-4073-4e5f-953a-50524de4d021",
   "metadata": {},
   "outputs": [],
   "source": [
    "#tuples"
   ]
  },
  {
   "cell_type": "code",
   "execution_count": 2,
   "id": "e475fa77-3ef8-47bb-b183-90a2b7b0fc62",
   "metadata": {},
   "outputs": [
    {
     "name": "stdout",
     "output_type": "stream",
     "text": [
      "3\n"
     ]
    }
   ],
   "source": [
    "t = (1, 2, 3)\n",
    "print(len(t))"
   ]
  },
  {
   "cell_type": "code",
   "execution_count": 3,
   "id": "e821629a-43f2-4e61-b04b-f247086e5196",
   "metadata": {},
   "outputs": [
    {
     "name": "stdout",
     "output_type": "stream",
     "text": [
      "7\n"
     ]
    }
   ],
   "source": [
    "print(max((4, 7, 2)))"
   ]
  },
  {
   "cell_type": "code",
   "execution_count": 4,
   "id": "e3e93684-55fa-4ed7-ad34-680e8f0aa7a6",
   "metadata": {},
   "outputs": [
    {
     "name": "stdout",
     "output_type": "stream",
     "text": [
      "2\n"
     ]
    }
   ],
   "source": [
    "print(min((4, 7, 2)))"
   ]
  },
  {
   "cell_type": "code",
   "execution_count": 5,
   "id": "ad263f6f-f9a1-4ed2-8f13-2b142e481452",
   "metadata": {},
   "outputs": [
    {
     "name": "stdout",
     "output_type": "stream",
     "text": [
      "60\n"
     ]
    }
   ],
   "source": [
    "print(sum((10, 20, 30)))"
   ]
  },
  {
   "cell_type": "code",
   "execution_count": 6,
   "id": "666a391a-fb5d-482a-bc4c-5f6aa85e0807",
   "metadata": {},
   "outputs": [
    {
     "name": "stdout",
     "output_type": "stream",
     "text": [
      "True\n"
     ]
    }
   ],
   "source": [
    "print(any((0, 0, 1)))"
   ]
  },
  {
   "cell_type": "code",
   "execution_count": 7,
   "id": "3bc58f2d-1c81-448a-8ab5-4021fd4ee810",
   "metadata": {},
   "outputs": [
    {
     "name": "stdout",
     "output_type": "stream",
     "text": [
      "True\n"
     ]
    }
   ],
   "source": [
    "print(all((1, 1, 1)))\n"
   ]
  },
  {
   "cell_type": "code",
   "execution_count": 8,
   "id": "e824221d-d5a3-4325-855d-49f4c9f5c2a7",
   "metadata": {},
   "outputs": [
    {
     "name": "stdout",
     "output_type": "stream",
     "text": [
      "(1, 2, 3)\n"
     ]
    }
   ],
   "source": [
    "print(tuple([1, 2, 3]))\n"
   ]
  },
  {
   "cell_type": "code",
   "execution_count": 9,
   "id": "196bab15-b0f1-4a6c-a03d-0a9fa0ba8446",
   "metadata": {},
   "outputs": [
    {
     "name": "stdout",
     "output_type": "stream",
     "text": [
      "[1, 3, 5]\n"
     ]
    }
   ],
   "source": [
    "print(sorted((5, 1, 3)))"
   ]
  },
  {
   "cell_type": "code",
   "execution_count": 10,
   "id": "8e9bfd1e-1b73-4662-9cd5-4cff8c7c0d98",
   "metadata": {},
   "outputs": [
    {
     "name": "stdout",
     "output_type": "stream",
     "text": [
      "2\n"
     ]
    }
   ],
   "source": [
    "print((1, 2, 1, 3).count(1))\n"
   ]
  },
  {
   "cell_type": "code",
   "execution_count": 11,
   "id": "c3ec33f6-2103-465a-aee0-7b22281ec565",
   "metadata": {},
   "outputs": [
    {
     "name": "stdout",
     "output_type": "stream",
     "text": [
      "1\n"
     ]
    }
   ],
   "source": [
    "print((5, 2, 3).index(2))"
   ]
  },
  {
   "cell_type": "code",
   "execution_count": 12,
   "id": "58fbb341-d46b-4f20-8bca-89d6fd971e6d",
   "metadata": {},
   "outputs": [
    {
     "name": "stdout",
     "output_type": "stream",
     "text": [
      "<class 'tuple'>\n"
     ]
    }
   ],
   "source": [
    "print(type((1, 2)))"
   ]
  },
  {
   "cell_type": "code",
   "execution_count": 13,
   "id": "b007c417-7e61-420d-8b5b-0270aacb7147",
   "metadata": {},
   "outputs": [
    {
     "name": "stdout",
     "output_type": "stream",
     "text": [
      "[(1, 3), (2, 4)]\n"
     ]
    }
   ],
   "source": [
    "a = (1, 2)\n",
    "b = (3, 4)\n",
    "print(list(zip(a, b)))"
   ]
  },
  {
   "cell_type": "code",
   "execution_count": 14,
   "id": "b2f959c9-01ce-48f4-aebd-04213f6816f2",
   "metadata": {},
   "outputs": [
    {
     "name": "stdout",
     "output_type": "stream",
     "text": [
      "(3, 2, 1)\n"
     ]
    }
   ],
   "source": [
    "print(tuple(reversed((1, 2, 3))))"
   ]
  },
  {
   "cell_type": "code",
   "execution_count": 15,
   "id": "71c2e508-a266-4287-8ad4-195b9ca233c1",
   "metadata": {},
   "outputs": [
    {
     "name": "stdout",
     "output_type": "stream",
     "text": [
      "0 a\n",
      "1 b\n"
     ]
    }
   ],
   "source": [
    "for i, v in enumerate(('a', 'b')):\n",
    "    print(i, v)\n"
   ]
  },
  {
   "cell_type": "code",
   "execution_count": 16,
   "id": "53bb2b26-f76d-4aab-8020-1c03d5f4c415",
   "metadata": {},
   "outputs": [
    {
     "name": "stdout",
     "output_type": "stream",
     "text": [
      "True\n"
     ]
    }
   ],
   "source": [
    "print(3 in (1, 2, 3))\n"
   ]
  },
  {
   "cell_type": "code",
   "execution_count": 17,
   "id": "d1b70ce1-b0d1-46c6-a68f-9898ee0f7a6d",
   "metadata": {},
   "outputs": [
    {
     "name": "stdout",
     "output_type": "stream",
     "text": [
      "True\n"
     ]
    }
   ],
   "source": [
    "print(4 not in (1, 2, 3))"
   ]
  },
  {
   "cell_type": "code",
   "execution_count": 18,
   "id": "9a2adfdd-f229-405d-bafa-901d8aed0ba8",
   "metadata": {},
   "outputs": [
    {
     "name": "stdout",
     "output_type": "stream",
     "text": [
      "('1', '2', '3')\n"
     ]
    }
   ],
   "source": [
    "print(tuple(map(str, (1, 2, 3))))"
   ]
  },
  {
   "cell_type": "code",
   "execution_count": 19,
   "id": "1ee14170-1096-4bf7-bd76-b424d0c4b660",
   "metadata": {},
   "outputs": [
    {
     "name": "stdout",
     "output_type": "stream",
     "text": [
      "(2, 3)\n"
     ]
    }
   ],
   "source": [
    "print(tuple(filter(lambda x: x > 1, (0, 1, 2, 3))))\n"
   ]
  },
  {
   "cell_type": "code",
   "execution_count": 20,
   "id": "5989de44-239c-4567-a5da-5cc4d2c46797",
   "metadata": {},
   "outputs": [
    {
     "name": "stdout",
     "output_type": "stream",
     "text": [
      "True\n"
     ]
    }
   ],
   "source": [
    "print(isinstance((1, 2), tuple))"
   ]
  },
  {
   "cell_type": "code",
   "execution_count": 21,
   "id": "2ac29870-396d-46b2-9ada-c5dab27fe69a",
   "metadata": {},
   "outputs": [
    {
     "name": "stdout",
     "output_type": "stream",
     "text": [
      "1883265549120\n"
     ]
    }
   ],
   "source": [
    "print(id((1, 2)))"
   ]
  },
  {
   "cell_type": "code",
   "execution_count": 22,
   "id": "5764ffca-c026-45ef-9ae5-a1c23ccba556",
   "metadata": {},
   "outputs": [],
   "source": [
    "#sets"
   ]
  },
  {
   "cell_type": "code",
   "execution_count": 23,
   "id": "30144ef4-6ac5-48ba-81fc-b1aaf1f432b0",
   "metadata": {},
   "outputs": [
    {
     "name": "stdout",
     "output_type": "stream",
     "text": [
      "3\n"
     ]
    }
   ],
   "source": [
    "print(len({1, 2, 3}))\n"
   ]
  },
  {
   "cell_type": "code",
   "execution_count": 24,
   "id": "990ea9d1-f76e-4def-972b-ec3f36758074",
   "metadata": {},
   "outputs": [
    {
     "name": "stdout",
     "output_type": "stream",
     "text": [
      "{1, 2, 3}\n"
     ]
    }
   ],
   "source": [
    "s = {1, 2}\n",
    "s.add(3)\n",
    "print(s)\n"
   ]
  },
  {
   "cell_type": "code",
   "execution_count": 25,
   "id": "e7895fa6-9ad5-4948-9602-11c13e68c3e5",
   "metadata": {},
   "outputs": [
    {
     "name": "stdout",
     "output_type": "stream",
     "text": [
      "{1, 3}\n"
     ]
    }
   ],
   "source": [
    "s.remove(2)\n",
    "print(s)"
   ]
  },
  {
   "cell_type": "code",
   "execution_count": 26,
   "id": "94e1d600-82da-4343-ac8d-a37f4207d3f2",
   "metadata": {},
   "outputs": [
    {
     "name": "stdout",
     "output_type": "stream",
     "text": [
      "{1, 3}\n"
     ]
    }
   ],
   "source": [
    "s.discard(10)\n",
    "print(s)\n"
   ]
  },
  {
   "cell_type": "code",
   "execution_count": 27,
   "id": "149ed6fb-2c00-473f-a497-cedbde76c46d",
   "metadata": {},
   "outputs": [
    {
     "name": "stdout",
     "output_type": "stream",
     "text": [
      "1\n"
     ]
    }
   ],
   "source": [
    "print(s.pop())"
   ]
  },
  {
   "cell_type": "code",
   "execution_count": 28,
   "id": "3e67774d-98f4-4ac2-8f73-24233da2e5f6",
   "metadata": {},
   "outputs": [
    {
     "name": "stdout",
     "output_type": "stream",
     "text": [
      "set()\n"
     ]
    }
   ],
   "source": [
    "s.clear()\n",
    "print(s)\n"
   ]
  },
  {
   "cell_type": "code",
   "execution_count": 29,
   "id": "5566a59c-77e2-4220-835a-59bfa03e8b1f",
   "metadata": {},
   "outputs": [
    {
     "name": "stdout",
     "output_type": "stream",
     "text": [
      "{1, 2, 3}\n"
     ]
    }
   ],
   "source": [
    "print(set([1, 2, 3]))"
   ]
  },
  {
   "cell_type": "code",
   "execution_count": 30,
   "id": "7cfa71b3-7866-4c9f-8756-c876c2b09aff",
   "metadata": {},
   "outputs": [
    {
     "name": "stdout",
     "output_type": "stream",
     "text": [
      "{1, 2, 3}\n"
     ]
    }
   ],
   "source": [
    "print({1, 2}.union({2, 3}))"
   ]
  },
  {
   "cell_type": "code",
   "execution_count": 31,
   "id": "ccff7c21-05cc-455f-b2fe-d7a317595dac",
   "metadata": {},
   "outputs": [
    {
     "name": "stdout",
     "output_type": "stream",
     "text": [
      "{2}\n"
     ]
    }
   ],
   "source": [
    "print({1, 2}.intersection({2, 3}))\n"
   ]
  },
  {
   "cell_type": "code",
   "execution_count": 32,
   "id": "9a1041ba-c5ec-47e1-bce1-45de7726037d",
   "metadata": {},
   "outputs": [
    {
     "name": "stdout",
     "output_type": "stream",
     "text": [
      "{1, 3}\n"
     ]
    }
   ],
   "source": [
    "print({1, 2, 3}.difference({2}))\n"
   ]
  },
  {
   "cell_type": "code",
   "execution_count": 33,
   "id": "6ce859f8-c389-47dd-a3e3-9ce013ff738c",
   "metadata": {},
   "outputs": [
    {
     "name": "stdout",
     "output_type": "stream",
     "text": [
      "{1, 3}\n"
     ]
    }
   ],
   "source": [
    "print({1, 2}.symmetric_difference({2, 3}))"
   ]
  },
  {
   "cell_type": "code",
   "execution_count": 34,
   "id": "3fb06c96-544f-4cf7-868c-38c707528fb2",
   "metadata": {},
   "outputs": [
    {
     "name": "stdout",
     "output_type": "stream",
     "text": [
      "True\n"
     ]
    }
   ],
   "source": [
    "print({1}.issubset({1, 2}))"
   ]
  },
  {
   "cell_type": "code",
   "execution_count": 35,
   "id": "9063614f-a69f-4029-97d0-8888b94c3cf1",
   "metadata": {},
   "outputs": [
    {
     "name": "stdout",
     "output_type": "stream",
     "text": [
      "True\n"
     ]
    }
   ],
   "source": [
    "print({1, 2}.issuperset({1}))\n"
   ]
  },
  {
   "cell_type": "code",
   "execution_count": 36,
   "id": "8fbf24e2-8c08-4ba2-92fe-0853ed2f6f82",
   "metadata": {},
   "outputs": [
    {
     "name": "stdout",
     "output_type": "stream",
     "text": [
      "True\n"
     ]
    }
   ],
   "source": [
    "print({1, 2}.isdisjoint({3}))\n"
   ]
  },
  {
   "cell_type": "code",
   "execution_count": 37,
   "id": "c5be671b-cd47-45d3-b2a5-e09ba73f3d77",
   "metadata": {},
   "outputs": [
    {
     "name": "stdout",
     "output_type": "stream",
     "text": [
      "{1, 2}\n"
     ]
    }
   ],
   "source": [
    "a = {1, 2}\n",
    "b = a.copy()\n",
    "print(b)\n"
   ]
  },
  {
   "cell_type": "code",
   "execution_count": 38,
   "id": "4e9fac7c-e885-45de-a526-3312653eb338",
   "metadata": {},
   "outputs": [
    {
     "name": "stdout",
     "output_type": "stream",
     "text": [
      "frozenset({1, 2, 3})\n"
     ]
    }
   ],
   "source": [
    "f = frozenset([1, 2, 3])\n",
    "print(f)\n"
   ]
  },
  {
   "cell_type": "code",
   "execution_count": 39,
   "id": "fcf6937a-8af9-4f8b-8f15-5c741b0e77bd",
   "metadata": {},
   "outputs": [
    {
     "name": "stdout",
     "output_type": "stream",
     "text": [
      "[1, 2, 3]\n"
     ]
    }
   ],
   "source": [
    "print(sorted({3, 1, 2}))"
   ]
  },
  {
   "cell_type": "code",
   "execution_count": 40,
   "id": "c25039a3-c06a-46c4-8ecc-75892e379d29",
   "metadata": {},
   "outputs": [
    {
     "name": "stdout",
     "output_type": "stream",
     "text": [
      "True\n"
     ]
    }
   ],
   "source": [
    "print(2 in {1, 2, 3})"
   ]
  },
  {
   "cell_type": "code",
   "execution_count": 41,
   "id": "36e1840f-3b03-4b79-805b-4792dc819c42",
   "metadata": {},
   "outputs": [
    {
     "name": "stdout",
     "output_type": "stream",
     "text": [
      "True\n"
     ]
    }
   ],
   "source": [
    "print(4 not in {1, 2, 3})"
   ]
  },
  {
   "cell_type": "code",
   "execution_count": 42,
   "id": "0d4fc2e2-df7a-48f7-a4b4-7a51cf9c6084",
   "metadata": {},
   "outputs": [
    {
     "name": "stdout",
     "output_type": "stream",
     "text": [
      "6\n"
     ]
    }
   ],
   "source": [
    "print(sum({1, 2, 3}))"
   ]
  },
  {
   "cell_type": "code",
   "execution_count": 43,
   "id": "707d41b1-5701-4811-a542-983343644c87",
   "metadata": {},
   "outputs": [],
   "source": [
    "#strings"
   ]
  },
  {
   "cell_type": "code",
   "execution_count": 44,
   "id": "24a53ee3-b4f4-4928-9432-5d9fa8702ea4",
   "metadata": {},
   "outputs": [
    {
     "name": "stdout",
     "output_type": "stream",
     "text": [
      "5\n"
     ]
    }
   ],
   "source": [
    "print(len(\"hello\"))"
   ]
  },
  {
   "cell_type": "code",
   "execution_count": 45,
   "id": "1cada35e-b157-46de-abfd-565b33ba6e70",
   "metadata": {},
   "outputs": [
    {
     "name": "stdout",
     "output_type": "stream",
     "text": [
      "ABC\n"
     ]
    }
   ],
   "source": [
    "print(\"abc\".upper())\n"
   ]
  },
  {
   "cell_type": "code",
   "execution_count": 46,
   "id": "8eb4bbe5-d6ba-4ffa-affd-f8837dfcabe1",
   "metadata": {},
   "outputs": [
    {
     "name": "stdout",
     "output_type": "stream",
     "text": [
      "abc\n"
     ]
    }
   ],
   "source": [
    "print(\"ABC\".lower())"
   ]
  },
  {
   "cell_type": "code",
   "execution_count": 47,
   "id": "c6464084-4a2f-48be-a1f7-3fec0a62f186",
   "metadata": {},
   "outputs": [
    {
     "name": "stdout",
     "output_type": "stream",
     "text": [
      "Hello\n"
     ]
    }
   ],
   "source": [
    "print(\"hello\".capitalize())"
   ]
  },
  {
   "cell_type": "code",
   "execution_count": 48,
   "id": "1ab238b9-f5ca-4f5e-8ec6-34b836585087",
   "metadata": {},
   "outputs": [
    {
     "name": "stdout",
     "output_type": "stream",
     "text": [
      "Hello World\n"
     ]
    }
   ],
   "source": [
    "print(\"hello world\".title())\n"
   ]
  },
  {
   "cell_type": "code",
   "execution_count": 49,
   "id": "6a71c664-9f11-4fc5-bb86-1565bca2e890",
   "metadata": {},
   "outputs": [
    {
     "name": "stdout",
     "output_type": "stream",
     "text": [
      "hEllO\n"
     ]
    }
   ],
   "source": [
    "print(\"HeLLo\".swapcase())"
   ]
  },
  {
   "cell_type": "code",
   "execution_count": 51,
   "id": "e6b31dfc-504a-416f-9afe-438fcfcdb4b9",
   "metadata": {},
   "outputs": [
    {
     "name": "stdout",
     "output_type": "stream",
     "text": [
      "hi\n"
     ]
    }
   ],
   "source": [
    "print(\"  hi  \".strip())"
   ]
  },
  {
   "cell_type": "code",
   "execution_count": 52,
   "id": "1ba2e20d-6865-4148-a951-0d47fb61881b",
   "metadata": {},
   "outputs": [
    {
     "name": "stdout",
     "output_type": "stream",
     "text": [
      "hi\n"
     ]
    }
   ],
   "source": [
    "print(\"hi  \".rstrip())"
   ]
  },
  {
   "cell_type": "code",
   "execution_count": 53,
   "id": "b168d50c-08be-48c5-80e0-dd309d9526af",
   "metadata": {},
   "outputs": [
    {
     "name": "stdout",
     "output_type": "stream",
     "text": [
      "9\n"
     ]
    }
   ],
   "source": [
    "print(\"hello hello\".rfind(\"l\"))"
   ]
  },
  {
   "cell_type": "code",
   "execution_count": 54,
   "id": "11dfab25-59ea-48af-8b70-605117698ec6",
   "metadata": {},
   "outputs": [
    {
     "name": "stdout",
     "output_type": "stream",
     "text": [
      "hexxo\n"
     ]
    }
   ],
   "source": [
    "print(\"hello\".replace(\"l\", \"x\"))"
   ]
  },
  {
   "cell_type": "code",
   "execution_count": 55,
   "id": "2e666387-317a-4310-b024-c486df68664a",
   "metadata": {},
   "outputs": [
    {
     "name": "stdout",
     "output_type": "stream",
     "text": [
      "['a', 'b', 'c']\n"
     ]
    }
   ],
   "source": [
    "print(\"a,b,c\".split(\",\"))"
   ]
  },
  {
   "cell_type": "code",
   "execution_count": 56,
   "id": "38472f87-2dcc-4310-81e0-fdd28341538b",
   "metadata": {},
   "outputs": [
    {
     "name": "stdout",
     "output_type": "stream",
     "text": [
      "['a', 'b', 'c']\n"
     ]
    }
   ],
   "source": [
    "print(\"a b c\".rsplit())"
   ]
  },
  {
   "cell_type": "code",
   "execution_count": 57,
   "id": "f052b8fc-8c7a-4c57-bb4b-d1b0b0f3b535",
   "metadata": {},
   "outputs": [
    {
     "name": "stdout",
     "output_type": "stream",
     "text": [
      "a-b-c\n"
     ]
    }
   ],
   "source": [
    "print(\"-\".join([\"a\", \"b\", \"c\"]))"
   ]
  },
  {
   "cell_type": "code",
   "execution_count": 58,
   "id": "ea8f7ba3-9ade-406d-b0ea-b9737a3fe777",
   "metadata": {},
   "outputs": [
    {
     "name": "stdout",
     "output_type": "stream",
     "text": [
      "3\n"
     ]
    }
   ],
   "source": [
    "print(\"banana\".count(\"a\"))"
   ]
  },
  {
   "cell_type": "code",
   "execution_count": 59,
   "id": "c9def6d1-1669-4b70-a92d-db2a98e51f0e",
   "metadata": {},
   "outputs": [
    {
     "name": "stdout",
     "output_type": "stream",
     "text": [
      "True\n"
     ]
    }
   ],
   "source": [
    "print(\"abc\".isalpha())"
   ]
  },
  {
   "cell_type": "code",
   "execution_count": 60,
   "id": "5f3e78f4-efc1-4aca-b648-d40fb1e72c96",
   "metadata": {},
   "outputs": [
    {
     "name": "stdout",
     "output_type": "stream",
     "text": [
      "True\n"
     ]
    }
   ],
   "source": [
    "print(\"123\".isdigit())"
   ]
  },
  {
   "cell_type": "code",
   "execution_count": 61,
   "id": "cf9576d1-5656-4562-9a30-5c3ecdcd90a3",
   "metadata": {},
   "outputs": [
    {
     "name": "stdout",
     "output_type": "stream",
     "text": [
      "True\n"
     ]
    }
   ],
   "source": [
    "print(\"123\".isnumeric())"
   ]
  },
  {
   "cell_type": "code",
   "execution_count": 62,
   "id": "83031cfe-0511-4983-aa0f-0b666024b79a",
   "metadata": {},
   "outputs": [
    {
     "name": "stdout",
     "output_type": "stream",
     "text": [
      "True\n"
     ]
    }
   ],
   "source": [
    "print(\"abc123\".isalnum())"
   ]
  },
  {
   "cell_type": "code",
   "execution_count": 63,
   "id": "cd6baeb7-8999-4ccb-9e80-3207d589612e",
   "metadata": {},
   "outputs": [
    {
     "name": "stdout",
     "output_type": "stream",
     "text": [
      "True\n"
     ]
    }
   ],
   "source": [
    "print(\"abc\".islower())"
   ]
  },
  {
   "cell_type": "code",
   "execution_count": 64,
   "id": "e46f4cbb-3d59-420e-adc2-77a7c0f408d6",
   "metadata": {},
   "outputs": [
    {
     "name": "stdout",
     "output_type": "stream",
     "text": [
      "True\n"
     ]
    }
   ],
   "source": [
    "print(\"ABC\".isupper())"
   ]
  },
  {
   "cell_type": "code",
   "execution_count": 65,
   "id": "0ed21ac8-3417-4bcd-aa29-bc03f0c49a6c",
   "metadata": {},
   "outputs": [
    {
     "name": "stdout",
     "output_type": "stream",
     "text": [
      "True\n"
     ]
    }
   ],
   "source": [
    "print(\"python\".startswith(\"py\"))"
   ]
  },
  {
   "cell_type": "code",
   "execution_count": 66,
   "id": "eba99069-882a-409a-870f-77a994be899e",
   "metadata": {},
   "outputs": [
    {
     "name": "stdout",
     "output_type": "stream",
     "text": [
      "True\n"
     ]
    }
   ],
   "source": [
    "print(\"main.py\".endswith(\".py\"))"
   ]
  },
  {
   "cell_type": "code",
   "execution_count": 67,
   "id": "16a53ff3-ffc8-4570-92df-47be4a6be7ef",
   "metadata": {},
   "outputs": [
    {
     "name": "stdout",
     "output_type": "stream",
     "text": [
      "b'abc'\n"
     ]
    }
   ],
   "source": [
    "print(\"abc\".encode())"
   ]
  },
  {
   "cell_type": "code",
   "execution_count": 68,
   "id": "a123229b-5c47-4995-88f9-a114e577e3c7",
   "metadata": {},
   "outputs": [
    {
     "name": "stdout",
     "output_type": "stream",
     "text": [
      "Hello World\n"
     ]
    }
   ],
   "source": [
    "print(\"Hello {}\".format(\"World\"))"
   ]
  },
  {
   "cell_type": "code",
   "execution_count": 69,
   "id": "7830222f-558b-4c2c-9531-6a401029b071",
   "metadata": {},
   "outputs": [
    {
     "name": "stdout",
     "output_type": "stream",
     "text": [
      "1 + 2\n"
     ]
    }
   ],
   "source": [
    "print(\"{x} + {y}\".format_map({'x': 1, 'y': 2}))"
   ]
  },
  {
   "cell_type": "code",
   "execution_count": 70,
   "id": "d620c7a4-6f29-4f95-9ea2-1d99a74d11ad",
   "metadata": {},
   "outputs": [
    {
     "name": "stdout",
     "output_type": "stream",
     "text": [
      "('a', '=', 'b')\n"
     ]
    }
   ],
   "source": [
    "print(\"a=b\".partition(\"=\"))"
   ]
  },
  {
   "cell_type": "code",
   "execution_count": 71,
   "id": "52c78776-47a0-4006-88ff-8ee072a4a746",
   "metadata": {},
   "outputs": [
    {
     "name": "stdout",
     "output_type": "stream",
     "text": [
      "('a=b', '=', 'c')\n"
     ]
    }
   ],
   "source": [
    "print(\"a=b=c\".rpartition(\"=\"))"
   ]
  },
  {
   "cell_type": "code",
   "execution_count": 72,
   "id": "07d269b6-e418-4239-bf79-58421bafeff3",
   "metadata": {},
   "outputs": [
    {
     "name": "stdout",
     "output_type": "stream",
     "text": [
      "a   b\n"
     ]
    }
   ],
   "source": [
    "print(\"a\\tb\".expandtabs(4))"
   ]
  },
  {
   "cell_type": "code",
   "execution_count": 73,
   "id": "afa94d4d-429f-4c2b-8289-0671b1fd7637",
   "metadata": {},
   "outputs": [
    {
     "name": "stdout",
     "output_type": "stream",
     "text": [
      "True\n"
     ]
    }
   ],
   "source": [
    "print(\" \".isspace())"
   ]
  },
  {
   "cell_type": "code",
   "execution_count": 74,
   "id": "751ff315-2efa-4bc0-a76e-8ce0550fabaa",
   "metadata": {},
   "outputs": [
    {
     "name": "stdout",
     "output_type": "stream",
     "text": [
      "True\n"
     ]
    }
   ],
   "source": [
    "print(\"Hello World\".istitle())"
   ]
  },
  {
   "cell_type": "code",
   "execution_count": 75,
   "id": "55e953cd-6169-4c08-89d6-4d9ea57c94d3",
   "metadata": {},
   "outputs": [
    {
     "name": "stdout",
     "output_type": "stream",
     "text": [
      "00042\n"
     ]
    }
   ],
   "source": [
    "print(\"42\".zfill(5))"
   ]
  },
  {
   "cell_type": "code",
   "execution_count": 76,
   "id": "16c05e55-c4e7-495b-86d1-174144b97535",
   "metadata": {},
   "outputs": [
    {
     "name": "stdout",
     "output_type": "stream",
     "text": [
      "hi---\n"
     ]
    }
   ],
   "source": [
    "print(\"hi\".ljust(5, '-'))"
   ]
  },
  {
   "cell_type": "code",
   "execution_count": 77,
   "id": "8caae4f8-782a-4bae-b771-100dbc66e276",
   "metadata": {},
   "outputs": [
    {
     "name": "stdout",
     "output_type": "stream",
     "text": [
      "---hi\n"
     ]
    }
   ],
   "source": [
    "print(\"hi\".rjust(5, '-'))"
   ]
  },
  {
   "cell_type": "code",
   "execution_count": 78,
   "id": "8e32d43f-5ce9-450c-83a7-c98192a94a51",
   "metadata": {},
   "outputs": [
    {
     "name": "stdout",
     "output_type": "stream",
     "text": [
      "**hi**\n"
     ]
    }
   ],
   "source": [
    "print(\"hi\".center(6, '*'))"
   ]
  },
  {
   "cell_type": "code",
   "execution_count": 79,
   "id": "9fb127a7-2cea-476d-9cad-272c1db69b68",
   "metadata": {},
   "outputs": [
    {
     "name": "stdout",
     "output_type": "stream",
     "text": [
      "hello\n"
     ]
    }
   ],
   "source": [
    "print(\"HELLO\".casefold())"
   ]
  },
  {
   "cell_type": "code",
   "execution_count": 80,
   "id": "9171b3fd-b92f-45e1-bb1c-a7d1e7c98421",
   "metadata": {},
   "outputs": [
    {
     "name": "stdout",
     "output_type": "stream",
     "text": [
      "1ppl2\n"
     ]
    }
   ],
   "source": [
    "table = str.maketrans(\"ae\", \"12\")\n",
    "print(\"apple\".translate(table))\n"
   ]
  },
  {
   "cell_type": "code",
   "execution_count": 81,
   "id": "803f69db-97ca-4c43-b8bf-505aeea31030",
   "metadata": {},
   "outputs": [
    {
     "name": "stdout",
     "output_type": "stream",
     "text": [
      "{97: 49, 98: 50, 99: 51}\n"
     ]
    }
   ],
   "source": [
    "print(str.maketrans(\"abc\", \"123\"))"
   ]
  },
  {
   "cell_type": "code",
   "execution_count": 82,
   "id": "a8749d92-a135-4ffa-96c1-8c367e6163e2",
   "metadata": {},
   "outputs": [],
   "source": [
    "#dictionary"
   ]
  },
  {
   "cell_type": "code",
   "execution_count": 83,
   "id": "333b348c-856f-438d-88b1-d90b68419202",
   "metadata": {},
   "outputs": [
    {
     "name": "stdout",
     "output_type": "stream",
     "text": [
      "2\n"
     ]
    }
   ],
   "source": [
    "d = {\"a\": 1, \"b\": 2}\n",
    "print(len(d))\n"
   ]
  },
  {
   "cell_type": "code",
   "execution_count": 84,
   "id": "f6afba0f-6094-4eaa-a7f0-0c0af6c4aaab",
   "metadata": {},
   "outputs": [
    {
     "name": "stdout",
     "output_type": "stream",
     "text": [
      "dict_keys(['a', 'b'])\n"
     ]
    }
   ],
   "source": [
    "print(d.keys())"
   ]
  },
  {
   "cell_type": "code",
   "execution_count": 85,
   "id": "506c1cb0-5c83-47cd-9307-9085a9f27e38",
   "metadata": {},
   "outputs": [
    {
     "name": "stdout",
     "output_type": "stream",
     "text": [
      "dict_values([1, 2])\n"
     ]
    }
   ],
   "source": [
    "print(d.values())\n"
   ]
  },
  {
   "cell_type": "code",
   "execution_count": 86,
   "id": "79575225-2931-45b1-ab6b-f10c4fe737a6",
   "metadata": {},
   "outputs": [
    {
     "name": "stdout",
     "output_type": "stream",
     "text": [
      "dict_items([('a', 1), ('b', 2)])\n"
     ]
    }
   ],
   "source": [
    "print(d.items())"
   ]
  },
  {
   "cell_type": "code",
   "execution_count": 87,
   "id": "3134c273-80d7-4bb3-bef6-8b23e8f00949",
   "metadata": {},
   "outputs": [
    {
     "name": "stdout",
     "output_type": "stream",
     "text": [
      "1\n"
     ]
    }
   ],
   "source": [
    "print(d.get(\"a\"))"
   ]
  },
  {
   "cell_type": "code",
   "execution_count": 89,
   "id": "7621220b-74a1-4a96-9b2f-7d225d7aa884",
   "metadata": {},
   "outputs": [
    {
     "name": "stdout",
     "output_type": "stream",
     "text": [
      "('b', 2)\n"
     ]
    }
   ],
   "source": [
    "print(d.popitem())"
   ]
  },
  {
   "cell_type": "code",
   "execution_count": 90,
   "id": "0b9e0ae7-afd0-4f85-b652-2e3a2d6dab69",
   "metadata": {},
   "outputs": [
    {
     "name": "stdout",
     "output_type": "stream",
     "text": [
      "{'c': 3}\n"
     ]
    }
   ],
   "source": [
    "d.update({\"c\": 3})\n",
    "print(d)"
   ]
  },
  {
   "cell_type": "code",
   "execution_count": 91,
   "id": "0f458d0e-2a21-4e71-9b6e-252ae9479ed2",
   "metadata": {},
   "outputs": [
    {
     "name": "stdout",
     "output_type": "stream",
     "text": [
      "{}\n"
     ]
    }
   ],
   "source": [
    "d.clear()\n",
    "print(d)"
   ]
  },
  {
   "cell_type": "code",
   "execution_count": 92,
   "id": "3926c9bf-49e2-4e9b-b189-94eed45ccbb5",
   "metadata": {},
   "outputs": [
    {
     "name": "stdout",
     "output_type": "stream",
     "text": [
      "{'x': 0, 'y': 0}\n"
     ]
    }
   ],
   "source": [
    "print(dict.fromkeys(['x', 'y'], 0))"
   ]
  },
  {
   "cell_type": "code",
   "execution_count": 93,
   "id": "209d955d-0aef-4b1c-8905-2edd16ef60fa",
   "metadata": {},
   "outputs": [
    {
     "name": "stdout",
     "output_type": "stream",
     "text": [
      "2\n"
     ]
    }
   ],
   "source": [
    "d = {'a': 1}\n",
    "print(d.setdefault('b', 2))"
   ]
  },
  {
   "cell_type": "code",
   "execution_count": 94,
   "id": "61cf38e2-a223-4f58-83a8-59fad2e58eb2",
   "metadata": {},
   "outputs": [
    {
     "name": "stdout",
     "output_type": "stream",
     "text": [
      "True\n"
     ]
    }
   ],
   "source": [
    "print(\"a\" in {'a': 1})"
   ]
  },
  {
   "cell_type": "code",
   "execution_count": 95,
   "id": "cf2aaa80-99f8-4a8e-954c-dbb036c945e6",
   "metadata": {},
   "outputs": [
    {
     "name": "stdout",
     "output_type": "stream",
     "text": [
      "True\n"
     ]
    }
   ],
   "source": [
    "print(\"x\" not in {'a': 1})"
   ]
  },
  {
   "cell_type": "code",
   "execution_count": 96,
   "id": "518a22e1-de6f-421a-858d-e2aa650868ef",
   "metadata": {},
   "outputs": [
    {
     "name": "stdout",
     "output_type": "stream",
     "text": [
      "{}\n"
     ]
    }
   ],
   "source": [
    "d = {'a': 1}\n",
    "del d['a']\n",
    "print(d)"
   ]
  },
  {
   "cell_type": "code",
   "execution_count": 97,
   "id": "29283cb0-ba20-4dd3-8092-aa16c87349b9",
   "metadata": {},
   "outputs": [
    {
     "name": "stdout",
     "output_type": "stream",
     "text": [
      "{'name': 'John', 'age': 25}\n"
     ]
    }
   ],
   "source": [
    "print(dict(name=\"John\", age=25))"
   ]
  },
  {
   "cell_type": "code",
   "execution_count": 98,
   "id": "99f8dded-2226-4e92-8f22-2221062c80f5",
   "metadata": {},
   "outputs": [
    {
     "name": "stdout",
     "output_type": "stream",
     "text": [
      "{'x': 10}\n"
     ]
    }
   ],
   "source": [
    "a = {'x': 10}\n",
    "b = a.copy()\n",
    "print(b)"
   ]
  },
  {
   "cell_type": "code",
   "execution_count": 99,
   "id": "5b1144aa-479e-4cbc-a3d0-25ecd39dc454",
   "metadata": {},
   "outputs": [
    {
     "name": "stdout",
     "output_type": "stream",
     "text": [
      "{'a': 1, 'b': 2}\n"
     ]
    }
   ],
   "source": [
    "print(dict(zip(['a', 'b'], [1, 2])))"
   ]
  },
  {
   "cell_type": "code",
   "execution_count": 100,
   "id": "88a0da98-adf6-4e9c-a767-fb140682d350",
   "metadata": {},
   "outputs": [
    {
     "name": "stdout",
     "output_type": "stream",
     "text": [
      "['a', 'b']\n"
     ]
    }
   ],
   "source": [
    "print(sorted({'b': 2, 'a': 1}))"
   ]
  },
  {
   "cell_type": "code",
   "execution_count": 101,
   "id": "ee0ae30c-bfa7-4af1-8ab2-c01bc934b280",
   "metadata": {},
   "outputs": [
    {
     "name": "stdout",
     "output_type": "stream",
     "text": [
      "y\n"
     ]
    }
   ],
   "source": [
    "print(max({'x': 1, 'y': 3}))"
   ]
  },
  {
   "cell_type": "code",
   "execution_count": 102,
   "id": "cc477d7d-7c3a-47aa-b67e-e46125df114f",
   "metadata": {},
   "outputs": [
    {
     "name": "stdout",
     "output_type": "stream",
     "text": [
      "1\n"
     ]
    }
   ],
   "source": [
    "d = {'a': 4, 'b': 1}\n",
    "print(min(d.values()))"
   ]
  },
  {
   "cell_type": "code",
   "execution_count": 103,
   "id": "76fae2d5-7643-4b15-9d79-d608a45d3d85",
   "metadata": {},
   "outputs": [],
   "source": [
    "#files"
   ]
  },
  {
   "cell_type": "code",
   "execution_count": 104,
   "id": "f291dda7-1967-4e62-9195-db3010c689a7",
   "metadata": {},
   "outputs": [],
   "source": [
    "with open(\"test.txt\", \"w\") as f:\n",
    "    f.write(\"Hello\")\n"
   ]
  },
  {
   "cell_type": "code",
   "execution_count": 105,
   "id": "08a32a6b-e793-4536-8562-212095ee05b9",
   "metadata": {},
   "outputs": [
    {
     "name": "stdout",
     "output_type": "stream",
     "text": [
      "Hello\n"
     ]
    }
   ],
   "source": [
    "with open(\"test.txt\", \"r\") as f:\n",
    "    print(f.read())\n"
   ]
  },
  {
   "cell_type": "code",
   "execution_count": 106,
   "id": "d72340e9-4ebf-4d5a-97e2-5a7021712320",
   "metadata": {},
   "outputs": [
    {
     "name": "stdout",
     "output_type": "stream",
     "text": [
      "Hello\n"
     ]
    }
   ],
   "source": [
    "with open(\"test.txt\", \"r\") as f:\n",
    "    print(f.readline())"
   ]
  },
  {
   "cell_type": "code",
   "execution_count": 107,
   "id": "c1e28732-634a-44c4-a413-268cef4e52ee",
   "metadata": {},
   "outputs": [
    {
     "name": "stdout",
     "output_type": "stream",
     "text": [
      "['Hello']\n"
     ]
    }
   ],
   "source": [
    "with open(\"test.txt\", \"r\") as f:\n",
    "    print(f.readlines())"
   ]
  },
  {
   "cell_type": "code",
   "execution_count": 108,
   "id": "8fe7929a-9071-4bce-a8de-216198139bfb",
   "metadata": {},
   "outputs": [],
   "source": [
    "lines = [\"Line1\\n\", \"Line2\\n\"]\n",
    "with open(\"test2.txt\", \"w\") as f:\n",
    "    f.writelines(lines)"
   ]
  },
  {
   "cell_type": "code",
   "execution_count": 109,
   "id": "bd46dc7e-914c-4308-89c7-af9263130df7",
   "metadata": {},
   "outputs": [
    {
     "name": "stdout",
     "output_type": "stream",
     "text": [
      "0\n"
     ]
    }
   ],
   "source": [
    "with open(\"test2.txt\", \"r\") as f:\n",
    "    print(f.tell())\n"
   ]
  },
  {
   "cell_type": "code",
   "execution_count": 110,
   "id": "89c4c575-a48c-4fdd-a2ac-3a0cd6a8e7d8",
   "metadata": {},
   "outputs": [
    {
     "name": "stdout",
     "output_type": "stream",
     "text": [
      "Line1\n"
     ]
    }
   ],
   "source": [
    "with open(\"test2.txt\", \"r\") as f:\n",
    "    f.seek(0)\n",
    "    print(f.read(5))"
   ]
  },
  {
   "cell_type": "code",
   "execution_count": 111,
   "id": "c1ae9299-342d-4e94-aa49-1d680eabf535",
   "metadata": {},
   "outputs": [],
   "source": [
    "f = open(\"test.txt\", \"r\")\n",
    "f.close()"
   ]
  },
  {
   "cell_type": "code",
   "execution_count": 112,
   "id": "95a96f02-4588-450f-a19f-dcbee4912974",
   "metadata": {},
   "outputs": [],
   "source": [
    "with open(\"test.txt\", \"r\") as f:\n",
    "    pass"
   ]
  },
  {
   "cell_type": "code",
   "execution_count": 113,
   "id": "3fd5053b-1a79-4c4f-b05f-a3d66ebd30e1",
   "metadata": {},
   "outputs": [
    {
     "name": "stdout",
     "output_type": "stream",
     "text": [
      "r\n"
     ]
    }
   ],
   "source": [
    "with open(\"test.txt\", \"r\") as f:\n",
    "    print(f.mode)"
   ]
  },
  {
   "cell_type": "code",
   "execution_count": 114,
   "id": "6b60af90-508e-4ff7-9c14-3e3bc4020b24",
   "metadata": {},
   "outputs": [
    {
     "name": "stdout",
     "output_type": "stream",
     "text": [
      "test.txt\n"
     ]
    }
   ],
   "source": [
    "with open(\"test.txt\", \"r\") as f:\n",
    "    print(f.name)"
   ]
  },
  {
   "cell_type": "code",
   "execution_count": 115,
   "id": "e5188c77-45d4-418a-a09b-fa6f995e8a3f",
   "metadata": {},
   "outputs": [
    {
     "name": "stdout",
     "output_type": "stream",
     "text": [
      "True\n"
     ]
    }
   ],
   "source": [
    "with open(\"test.txt\", \"r\") as f:\n",
    "    print(f.readable())"
   ]
  },
  {
   "cell_type": "code",
   "execution_count": 116,
   "id": "581e7560-400c-4fda-9df8-568b4dd33a95",
   "metadata": {},
   "outputs": [
    {
     "name": "stdout",
     "output_type": "stream",
     "text": [
      "True\n"
     ]
    }
   ],
   "source": [
    "with open(\"test.txt\", \"r\") as f:\n",
    "    print(f.readable())"
   ]
  },
  {
   "cell_type": "code",
   "execution_count": 117,
   "id": "7c992ca4-758b-473e-8666-52bd77b44f15",
   "metadata": {},
   "outputs": [
    {
     "name": "stdout",
     "output_type": "stream",
     "text": [
      "False\n"
     ]
    }
   ],
   "source": [
    "with open(\"test.txt\", \"r\") as f:\n",
    "    print(f.writable())"
   ]
  },
  {
   "cell_type": "code",
   "execution_count": 118,
   "id": "889d27ed-b866-4501-97d8-1772f5daa697",
   "metadata": {},
   "outputs": [
    {
     "name": "stdout",
     "output_type": "stream",
     "text": [
      "True\n"
     ]
    }
   ],
   "source": [
    "with open(\"test.txt\", \"r\") as f:\n",
    "    print(f.seekable())"
   ]
  },
  {
   "cell_type": "code",
   "execution_count": 119,
   "id": "02f68fb1-7bf2-4b0d-a4bd-518bfe59817a",
   "metadata": {},
   "outputs": [],
   "source": [
    "with open(\"test.txt\", \"a\") as f:\n",
    "    f.truncate(5)"
   ]
  },
  {
   "cell_type": "code",
   "execution_count": 120,
   "id": "5a00c65d-ce27-4555-9df3-9afa34af6b21",
   "metadata": {},
   "outputs": [
    {
     "name": "stdout",
     "output_type": "stream",
     "text": [
      "cp1252\n"
     ]
    }
   ],
   "source": [
    "with open(\"test.txt\", \"r\") as f:\n",
    "    print(f.encoding)\n"
   ]
  },
  {
   "cell_type": "code",
   "execution_count": 121,
   "id": "4b847831-2b12-47ce-a77a-bfcdeac36c89",
   "metadata": {},
   "outputs": [],
   "source": [
    "with open(\"test.txt\", \"w\") as f:\n",
    "    f.write(\"flush\")\n",
    "    f.flush()"
   ]
  },
  {
   "cell_type": "code",
   "execution_count": 122,
   "id": "e5c7cac5-715c-42d3-976c-7650e00bccbc",
   "metadata": {},
   "outputs": [
    {
     "name": "stdout",
     "output_type": "stream",
     "text": [
      "b'flush'\n"
     ]
    }
   ],
   "source": [
    "with open(\"test.txt\", \"rb\") as f:\n",
    "    print(f.read())\n"
   ]
  },
  {
   "cell_type": "code",
   "execution_count": 123,
   "id": "71f5a1a6-775d-459c-af35-5a6aabb4d3e0",
   "metadata": {},
   "outputs": [
    {
     "name": "stdout",
     "output_type": "stream",
     "text": [
      "flush\n"
     ]
    }
   ],
   "source": [
    "with open(\"test.txt\", \"r\", encoding=\"utf-8\") as f:\n",
    "    print(f.read())"
   ]
  },
  {
   "cell_type": "code",
   "execution_count": 124,
   "id": "0e79d034-ce97-4132-a742-c5f1162fef8b",
   "metadata": {},
   "outputs": [
    {
     "name": "stdout",
     "output_type": "stream",
     "text": [
      "File not found!\n"
     ]
    }
   ],
   "source": [
    "try:\n",
    "    with open(\"nofile.txt\", \"r\") as f:\n",
    "        print(f.read())\n",
    "except FileNotFoundError:\n",
    "    print(\"File not found!\")"
   ]
  },
  {
   "cell_type": "code",
   "execution_count": null,
   "id": "d379a162-4198-4089-abf5-cbade2b5b98d",
   "metadata": {},
   "outputs": [],
   "source": []
  }
 ],
 "metadata": {
  "kernelspec": {
   "display_name": "Python 3 (ipykernel)",
   "language": "python",
   "name": "python3"
  },
  "language_info": {
   "codemirror_mode": {
    "name": "ipython",
    "version": 3
   },
   "file_extension": ".py",
   "mimetype": "text/x-python",
   "name": "python",
   "nbconvert_exporter": "python",
   "pygments_lexer": "ipython3",
   "version": "3.12.11"
  }
 },
 "nbformat": 4,
 "nbformat_minor": 5
}
